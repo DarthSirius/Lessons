{
 "cells": [
  {
   "cell_type": "markdown",
   "metadata": {},
   "source": [
    "Получение данных с сайта\n",
    "http://landmarks-list.ru/regions/yaroslavl/1859-YG/index.html"
   ]
  },
  {
   "cell_type": "code",
   "execution_count": null,
   "metadata": {},
   "outputs": [],
   "source": [
    "import requests\n",
    "from bs4 import BeautifulSoup\n",
    "from pprint import pprint"
   ]
  },
  {
   "cell_type": "code",
   "execution_count": 47,
   "metadata": {},
   "outputs": [
    {
     "name": "stdout",
     "output_type": "stream",
     "text": [
      "<title>Ð¡Ð¿ÑÐ°Ð²Ð¾ÑÐ½Ð¸Ðº Ð½Ð°ÑÐµÐ»ÐµÐ½Ð½ÑÑ Ð¿ÑÐ½ÐºÑÐ¾Ð² Ð¯ÑÐ¾ÑÐ»Ð°Ð²ÑÐºÐ¾Ð¹ Ð³ÑÐ±ÐµÑÐ½Ð¸Ð¸ (Ð½Ð° 1859 Ð³Ð¾Ð´)</title>\n",
      "Ð¡Ð¿ÑÐ°Ð²Ð¾ÑÐ½Ð¸Ðº Ð½Ð°ÑÐµÐ»ÐµÐ½Ð½ÑÑ Ð¿ÑÐ½ÐºÑÐ¾Ð² Ð¯ÑÐ¾ÑÐ»Ð°Ð²ÑÐºÐ¾Ð¹ Ð³ÑÐ±ÐµÑÐ½Ð¸Ð¸ (Ð½Ð° 1859 Ð³Ð¾Ð´)\n"
     ]
    }
   ],
   "source": [
    "url = 'http://landmarks-list.ru/regions/yaroslavl/1859-YG/index.html' # Определяем адрес страницы\n",
    "response = requests.get(url) # Выполняем GET-запрос, содержимое ответа присваивается переменной response\n",
    "page1 = BeautifulSoup(response.text, 'html.parser', from_encoding=\"utf-8\") # Создаём объект BeautifulSoup, указывая html-парсер\n",
    "print(page1.title) # Получаем тег title, отображающийся на вкладке браузера\n",
    "print(page1.title.text)"
   ]
  },
  {
   "cell_type": "code",
   "execution_count": 44,
   "metadata": {},
   "outputs": [
    {
     "name": "stdout",
     "output_type": "stream",
     "text": [
      "<!DOCTYPE html>\n",
      "\n",
      "<html lang=\"en\">\n",
      "<head>\n",
      "<meta charset=\"utf-8\"/>\n",
      "<title>Ð¡Ð¿ÑÐ°Ð²Ð¾ÑÐ½Ð¸Ðº Ð½Ð°ÑÐµÐ»ÐµÐ½Ð½ÑÑ Ð¿ÑÐ½ÐºÑÐ¾Ð² Ð¯ÑÐ¾ÑÐ»Ð°Ð²ÑÐºÐ¾Ð¹ Ð³ÑÐ±ÐµÑÐ½Ð¸Ð¸ (Ð½Ð° 1859 Ð³Ð¾Ð´)</title>\n",
      "<!-- Yandex.Metrika counter -->\n",
      "<script type=\"text/javascript\">\n",
      "    (function (d, w, c) {\n",
      "        (w[c] = w[c] || []).push(function() {\n",
      "            try {\n",
      "                w.yaCounter48665870 = new Ya.Metrika({\n",
      "                    id:48665870,\n",
      "                    clickmap:true,\n",
      "                    trackLinks:true,\n",
      "                    accurateTrackBounce:true,\n",
      "                    webvisor:true\n",
      "                });\n",
      "            } catch(e) { }\n",
      "        });\n",
      "\n",
      "        var n = d.getElementsByTagName(\"script\")[0],\n",
      "            s = d.createElement(\"script\"),\n",
      "            f = function () { n.parentNode.insertBefore(s, n); };\n",
      "        s.type = \"text/javascript\";\n",
      "        s.async = true;\n",
      "        s.src = \"https://mc.yandex.ru/metrika/watch.js\";\n",
      "\n",
      "        if (w.opera == \"[object Opera]\") {\n",
      "            d.addEventListener(\"DOMContentLoaded\", f, false);\n",
      "        } else { f(); }\n",
      "    })(document, window, \"yandex_metrika_callbacks\");\n",
      "</script>\n",
      "<noscript><div><img alt=\"\" src=\"https://mc.yandex.ru/watch/48665870\" style=\"position:absolute; left:-9999px;\"/></div></noscript>\n",
      "<!-- /Yandex.Metrika counter -->\n",
      "<link href=\"style.css\" rel=\"stylesheet\"/>\n",
      "<script src=\"vue.js\"></script>\n",
      "</head>\n",
      "<body>\n",
      "<div id=\"app\"></div>\n",
      "<script src=\"main.js\"></script>\n",
      "</body>\n",
      "</html>\n",
      "\n"
     ]
    }
   ],
   "source": [
    "print(page1)"
   ]
  },
  {
   "cell_type": "code",
   "execution_count": 45,
   "metadata": {},
   "outputs": [
    {
     "ename": "AttributeError",
     "evalue": "'NoneType' object has no attribute 'text'",
     "output_type": "error",
     "traceback": [
      "\u001b[1;31m---------------------------------------------------------------------------\u001b[0m",
      "\u001b[1;31mAttributeError\u001b[0m                            Traceback (most recent call last)",
      "\u001b[1;32mc:\\Users\\Ustenko-S\\Repo\\Yaroslavl\\1859.ipynb Ячейка 5\u001b[0m in \u001b[0;36m<cell line: 1>\u001b[1;34m()\u001b[0m\n\u001b[1;32m----> <a href='vscode-notebook-cell:/c%3A/Users/Ustenko-S/Repo/Yaroslavl/1859.ipynb#X10sZmlsZQ%3D%3D?line=0'>1</a>\u001b[0m \u001b[39mprint\u001b[39m(page\u001b[39m.\u001b[39;49mfind(\u001b[39m'\u001b[39;49m\u001b[39mtime\u001b[39;49m\u001b[39m'\u001b[39;49m)\u001b[39m.\u001b[39;49mtext)\n",
      "\u001b[1;31mAttributeError\u001b[0m: 'NoneType' object has no attribute 'text'"
     ]
    }
   ],
   "source": [
    "print(page.find('time').text)"
   ]
  }
 ],
 "metadata": {
  "kernelspec": {
   "display_name": "Python 3.10.4 64-bit",
   "language": "python",
   "name": "python3"
  },
  "language_info": {
   "codemirror_mode": {
    "name": "ipython",
    "version": 3
   },
   "file_extension": ".py",
   "mimetype": "text/x-python",
   "name": "python",
   "nbconvert_exporter": "python",
   "pygments_lexer": "ipython3",
   "version": "3.10.4"
  },
  "orig_nbformat": 4,
  "vscode": {
   "interpreter": {
    "hash": "301a17a29b57d3836b7901af1621afd6d2b1f2298b9c7949191147cf2fea93e3"
   }
  }
 },
 "nbformat": 4,
 "nbformat_minor": 2
}
