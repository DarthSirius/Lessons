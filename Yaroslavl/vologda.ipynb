{
 "cells": [
  {
   "cell_type": "markdown",
   "metadata": {},
   "source": [
    "# Парсинг данных с сайта https://familio.org/ с использованием библиотеки BeautifulSoup"
   ]
  },
  {
   "cell_type": "code",
   "execution_count": 1,
   "metadata": {},
   "outputs": [],
   "source": [
    "import requests\n",
    "from bs4 import BeautifulSoup\n",
    "from pprint import pprint\n",
    "import pandas as pd\n",
    "import xml.etree.ElementTree as ET\n",
    "import json"
   ]
  },
  {
   "cell_type": "code",
   "execution_count": 2,
   "metadata": {},
   "outputs": [],
   "source": [
    "final_data = pd.DataFrame()"
   ]
  },
  {
   "cell_type": "code",
   "execution_count": 3,
   "metadata": {},
   "outputs": [],
   "source": [
    "def Familio_Parser(url): \n",
    "    global final_data\n",
    "    response = requests.get(url) # Выполняем GET-запрос, содержимое ответа присваивается переменной response\n",
    "    page1 = BeautifulSoup(response.text, 'html.parser') # Создаём объект BeautifulSoup, указывая html-парсер\n",
    "    links = page1.findAll('script')\n",
    "    data = pd.read_json(links[3].text)\n",
    "    data1 = pd.DataFrame(data=data['props']['pageProps'])\n",
    "    data2 = pd.DataFrame(data=data1['records']['hydra:member'])\n",
    "    data2 = data2.drop({\n",
    "        'uuid',\n",
    "        'is_comment',\n",
    "        'owner_level',\n",
    "        'start_coord_margin_left',\n",
    "        'start_coord_margin_top',\n",
    "        'end_coord_margin_left',\n",
    "        'end_coord_margin_top',\n",
    "        'parent_id',\n",
    "        'settlements',\n",
    "        '@id',\n",
    "        'page',\n",
    "        'parent'\n",
    "        }, axis=1)\n",
    "    final_data = pd.concat([final_data, data2])\n",
    "    return final_data"
   ]
  },
  {
   "cell_type": "code",
   "execution_count": 5,
   "metadata": {},
   "outputs": [],
   "source": [
    "#urls = pd.read_csv('Vologda_URL.csv')\n",
    "url_part_1 = 'https://familio.org/knowledge-base/catalogs/volog1907' # URL стартовой страницы "
   ]
  },
  {
   "cell_type": "code",
   "execution_count": 8,
   "metadata": {},
   "outputs": [],
   "source": [
    "# def Familio_Parser_gubernia(url): \n",
    "response = requests.get(url_part_1) # Выполняем GET-запрос, содержимое ответа присваивается переменной response\n",
    "page1 = BeautifulSoup(response.text, 'html.parser') # Создаём объект BeautifulSoup, указывая html-парсер\n",
    "links = page1.findAll('script')"
   ]
  },
  {
   "cell_type": "code",
   "execution_count": 11,
   "metadata": {},
   "outputs": [
    {
     "data": {
      "text/plain": [
       "<script async=\"\" src=\"https://code.jivo.ru/widget/C988G4v5rm\"></script>"
      ]
     },
     "execution_count": 11,
     "metadata": {},
     "output_type": "execute_result"
    }
   ],
   "source": [
    "links[3]"
   ]
  },
  {
   "cell_type": "code",
   "execution_count": null,
   "metadata": {},
   "outputs": [],
   "source": [
    "data = pd.read_json(links[3].text)\n",
    "data1 = pd.DataFrame(data=data['props']['pageProps'])\n",
    "data2 = pd.DataFrame(data=data1['records']['hydra:view'])"
   ]
  },
  {
   "cell_type": "code",
   "execution_count": 7,
   "metadata": {},
   "outputs": [
    {
     "ename": "NameError",
     "evalue": "name 'data1' is not defined",
     "output_type": "error",
     "traceback": [
      "\u001b[1;31m---------------------------------------------------------------------------\u001b[0m",
      "\u001b[1;31mNameError\u001b[0m                                 Traceback (most recent call last)",
      "\u001b[1;32mc:\\Users\\Ustenko-S\\Repo\\Yaroslavl\\vologda.ipynb Cell 7\u001b[0m line \u001b[0;36m<cell line: 1>\u001b[1;34m()\u001b[0m\n\u001b[1;32m----> <a href='vscode-notebook-cell:/c%3A/Users/Ustenko-S/Repo/Yaroslavl/vologda.ipynb#W6sZmlsZQ%3D%3D?line=0'>1</a>\u001b[0m data1\u001b[39m.\u001b[39mhead()\n",
      "\u001b[1;31mNameError\u001b[0m: name 'data1' is not defined"
     ]
    }
   ],
   "source": [
    "data1.head()"
   ]
  },
  {
   "cell_type": "code",
   "execution_count": null,
   "metadata": {},
   "outputs": [],
   "source": [
    "links[3].text"
   ]
  },
  {
   "cell_type": "markdown",
   "metadata": {},
   "source": [
    "Code"
   ]
  },
  {
   "cell_type": "code",
   "execution_count": null,
   "metadata": {},
   "outputs": [],
   "source": [
    "# словарь уездов задаем вручную\n",
    "uezd_dict = {\n",
    "    '01699a7c-9089-4d10-9a8e-37a1428a0359':'Грязовецкий уезд',\n",
    "    '01ddacd6-16a4-40db-bd0e-c40f276c0c26':'Вологодский уезд',\n",
    "    '06046cd7-7737-4360-8406-be7baba36827':'Тотемский уезд',\n",
    "    '1cddca56-3054-4f72-ac83-90d298872d83':'Вельский уезд',\n",
    "    '1eccb997-552e-4d0d-9ce7-51c048af7a2f':'Кадниковский уезд',\n",
    "    '264de634-a385-4a33-9cd7-236c83be3e1e':'Велико-Устюгский уезд'\n",
    "}"
   ]
  },
  {
   "cell_type": "code",
   "execution_count": null,
   "metadata": {},
   "outputs": [],
   "source": [
    "def Familio_Guber_Parser(url):\n",
    "    # gubernia page parsing function\n",
    "    # return uezd list for 1 page\n",
    "    response = requests.get(url) # Выполняем GET-запрос, содержимое ответа присваивается переменной response\n",
    "    page1 = BeautifulSoup(response.text, 'html.parser') # Создаём объект BeautifulSoup, указывая html-парсер\n",
    "    links = page1.findAll('script')\n",
    "    data = pd.read_json(links[3].text)\n",
    "    data1 = pd.DataFrame(data=data['props']['pageProps'])\n",
    "    data2 = pd.DataFrame(data=data1['childGroups']['hydra:member'])\n",
    "    if data2.shape[0] > 0:\n",
    "        vol_list = data2[['uuid','name_ru']]\n",
    "    else:\n",
    "        vol_list = pd.DataFrame()\n",
    "    return vol_list"
   ]
  },
  {
   "cell_type": "code",
   "execution_count": null,
   "metadata": {},
   "outputs": [],
   "source": [
    "vol_df = pd.DataFrame() # пустой фрейм для списка уездов\n",
    "#\n",
    "uezd_uuid_list = list(uezd_dict.keys())\n",
    "uezd_name_list = list(uezd_dict.values())\n",
    "#\n",
    "for u in range(len(uezd_uuid_list)):\n",
    "    # цикл по списку уездов\n",
    "    for i in range(3): # цикл по страницам со списком волостей уезда\n",
    "        url_part_2 = '&page-group=' + str(i+1) + '&level1='\n",
    "        url = url_part_1 + url_part_2 + uezd_uuid_list[u]\n",
    "        vol_df_ = Familio_Guber_Parser(url)\n",
    "        vol_df_['uezd_name'] = uezd_name_list[u]\n",
    "        vol_df_['uezd_uuid'] = uezd_uuid_list[u]\n",
    "        vol_df_['uezd_url'] = url\n",
    "        if not vol_df_.empty:\n",
    "            vol_df = pd.concat([vol_df, vol_df_], axis=0, ignore_index=True)\n",
    "\n",
    "# в итоге получаем датафрейм со списком волостей по уезду"
   ]
  },
  {
   "cell_type": "code",
   "execution_count": null,
   "metadata": {},
   "outputs": [],
   "source": [
    "vol_df.head()"
   ]
  },
  {
   "cell_type": "markdown",
   "metadata": {},
   "source": [
    "# 2 level"
   ]
  },
  {
   "cell_type": "code",
   "execution_count": null,
   "metadata": {},
   "outputs": [],
   "source": [
    "# посчитаем сколько страниц для каждой вол\n",
    "# https://familio.org/knowledge-base/catalogs/nmyg1901?page-records=1&page-group=1&level1=528ff402-3d0c-4d21-8db2-c384f6a1271b&level2=00902776-d347-4996-af91-8a45177d3d54\n",
    "vol_count = vol_df.shape[0] # volost quantity\n",
    "vol_df['pages'] = 0 # создаем столбец под количество страниц в волости\n",
    "for v in range(vol_count):\n",
    "    # cycle in volost list\n",
    "    url = url_part_1+'?page-group=1&page-records=1&level1=' + vol_df['uezd_uuid'].loc[v] + '&level2=' + vol_df['uuid'].loc[v]\n",
    "    response = requests.get(url) # Выполняем GET-запрос, содержимое ответа присваивается переменной response\n",
    "    page1 = BeautifulSoup(response.text, 'html.parser') # Создаём объект BeautifulSoup, указывая html-парсер\n",
    "    links = page1.findAll('script')\n",
    "    data = pd.read_json(links[3].text)\n",
    "    data1 = pd.DataFrame(data=data['props']['pageProps'])\n",
    "    a = data1['currentGroupInfo']['settlement_count']\n",
    "    if a % 10 == 0:\n",
    "        b = a // 10\n",
    "    else:\n",
    "        b = a // 10 + 1\n",
    "    vol_df['pages'].loc[v] = b # заполняем столбец значениями"
   ]
  },
  {
   "cell_type": "code",
   "execution_count": null,
   "metadata": {},
   "outputs": [],
   "source": [
    "final_data = pd.DataFrame() # подготовим пустой датафрейм для итогового списка"
   ]
  },
  {
   "cell_type": "code",
   "execution_count": null,
   "metadata": {},
   "outputs": [],
   "source": [
    "def Familio_Uezd_Parser(url):\n",
    "    # функция парсит страницу и заполняет датафрейм\n",
    "    global final_data\n",
    "    response = requests.get(url) # Выполняем GET-запрос, содержимое ответа присваивается переменной response\n",
    "    page1 = BeautifulSoup(response.text, 'html.parser') # Создаём объект BeautifulSoup, указывая html-парсер\n",
    "    links = page1.findAll('script')\n",
    "    data = pd.read_json(links[3].text)\n",
    "    data1 = pd.DataFrame(data=data['props']['pageProps'])\n",
    "    if not data1.empty:\n",
    "        data2 = pd.DataFrame(data=data1['records']['hydra:member'])\n",
    "        if not data2.empty:\n",
    "            data2 = data2.drop({\n",
    "            'start_coord_margin_left',\n",
    "            'start_coord_margin_top',\n",
    "            'end_coord_margin_left',\n",
    "            'end_coord_margin_top',\n",
    "            '@id',\n",
    "            'page',\n",
    "            'parent'\n",
    "            }, axis=1)\n",
    "            final_data = pd.concat([final_data, data2])"
   ]
  },
  {
   "cell_type": "code",
   "execution_count": null,
   "metadata": {},
   "outputs": [],
   "source": [
    "vol_count = vol_df.shape[0] # volost quantity\n",
    "for v in range(vol_count):\n",
    "    # cycle in volost list\n",
    "    for i in range(vol_df['pages'].loc[v]):\n",
    "        # cycle in pages of volost\n",
    "        url = url_part_1 + vol_df['uezd_uuid'].loc[v] + '&page-records=' + str(i+1) + '&page-group=1&level2='+ vol_df['uuid'].loc[v] + '&catalogUUID=nmyg1901'\n",
    "        Familio_Uezd_Parser(url)\n",
    "\n",
    "# в итоге получаем DF со списком np"
   ]
  },
  {
   "cell_type": "code",
   "execution_count": null,
   "metadata": {},
   "outputs": [],
   "source": [
    "final_data.to_csv('data_vologda.csv') # выгрузка в csv файл"
   ]
  },
  {
   "cell_type": "markdown",
   "metadata": {},
   "source": [
    "try"
   ]
  },
  {
   "cell_type": "code",
   "execution_count": null,
   "metadata": {},
   "outputs": [],
   "source": [
    "# prepare urls list for each page of villages\n",
    "urls_list = []\n",
    "vol_count = vol_df.shape[0] # volost quantity\n",
    "for v in range(vol_count):\n",
    "    # cycle in volost list\n",
    "    url = url_part_1 + vol_df['uezd_uuid'].loc[v] + '&page-records=1&page-group=1&level2='+ vol_df['uuid'].loc[v] + '&catalogUUID=nmyg1901'\n",
    "    urls_list.append(url)"
   ]
  }
 ],
 "metadata": {
  "kernelspec": {
   "display_name": "Python 3.10.4 64-bit",
   "language": "python",
   "name": "python3"
  },
  "language_info": {
   "codemirror_mode": {
    "name": "ipython",
    "version": 3
   },
   "file_extension": ".py",
   "mimetype": "text/x-python",
   "name": "python",
   "nbconvert_exporter": "python",
   "pygments_lexer": "ipython3",
   "version": "3.10.4"
  },
  "orig_nbformat": 4,
  "vscode": {
   "interpreter": {
    "hash": "301a17a29b57d3836b7901af1621afd6d2b1f2298b9c7949191147cf2fea93e3"
   }
  }
 },
 "nbformat": 4,
 "nbformat_minor": 2
}
