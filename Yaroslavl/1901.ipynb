{
 "cells": [
  {
   "cell_type": "markdown",
   "metadata": {},
   "source": [
    "Получение данных с сайта\n",
    "https://familio.org/"
   ]
  },
  {
   "cell_type": "code",
   "execution_count": 4,
   "metadata": {},
   "outputs": [],
   "source": [
    "import requests\n",
    "from bs4 import BeautifulSoup\n",
    "from pprint import pprint\n",
    "import pandas as pd\n",
    "import xml.etree.ElementTree as ET\n",
    "import json"
   ]
  },
  {
   "cell_type": "code",
   "execution_count": 7,
   "metadata": {},
   "outputs": [],
   "source": [
    "final_data = pd.DataFrame()"
   ]
  },
  {
   "cell_type": "code",
   "execution_count": 2,
   "metadata": {},
   "outputs": [],
   "source": [
    "def Familio_Parser(url): \n",
    "    global final_data\n",
    "    response = requests.get(url) # Выполняем GET-запрос, содержимое ответа присваивается переменной response\n",
    "    page1 = BeautifulSoup(response.text, 'html.parser') # Создаём объект BeautifulSoup, указывая html-парсер\n",
    "    links = page1.findAll('script')\n",
    "    data = pd.read_json(links[3].text)\n",
    "    data1 = pd.DataFrame(data=data['props']['pageProps'])\n",
    "    data2 = pd.DataFrame(data=data1['records']['hydra:member'])\n",
    "    data2 = data2.drop({\n",
    "        'uuid',\n",
    "        'is_comment',\n",
    "        'owner_level',\n",
    "        'start_coord_margin_left',\n",
    "        'start_coord_margin_top',\n",
    "        'end_coord_margin_left',\n",
    "        'end_coord_margin_top',\n",
    "        'parent_id',\n",
    "        'settlements',\n",
    "        '@id',\n",
    "        'page',\n",
    "        'parent'\n",
    "        }, axis=1)\n",
    "    final_data = pd.concat([final_data, data2])\n",
    "    return final_data"
   ]
  },
  {
   "cell_type": "code",
   "execution_count": 5,
   "metadata": {},
   "outputs": [],
   "source": [
    "urls = pd.read_csv('URLS.csv')"
   ]
  },
  {
   "cell_type": "code",
   "execution_count": 9,
   "metadata": {},
   "outputs": [],
   "source": [
    "urls['URL'].apply(lambda x: Familio_Parser(x));"
   ]
  },
  {
   "cell_type": "code",
   "execution_count": 11,
   "metadata": {},
   "outputs": [],
   "source": [
    "final_data.to_csv('output_data.csv')"
   ]
  }
 ],
 "metadata": {
  "kernelspec": {
   "display_name": "Python 3.10.4 64-bit",
   "language": "python",
   "name": "python3"
  },
  "language_info": {
   "codemirror_mode": {
    "name": "ipython",
    "version": 3
   },
   "file_extension": ".py",
   "mimetype": "text/x-python",
   "name": "python",
   "nbconvert_exporter": "python",
   "pygments_lexer": "ipython3",
   "version": "3.10.4"
  },
  "orig_nbformat": 4,
  "vscode": {
   "interpreter": {
    "hash": "301a17a29b57d3836b7901af1621afd6d2b1f2298b9c7949191147cf2fea93e3"
   }
  }
 },
 "nbformat": 4,
 "nbformat_minor": 2
}
