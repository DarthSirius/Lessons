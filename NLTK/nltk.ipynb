{
 "cells": [
  {
   "cell_type": "code",
   "execution_count": 15,
   "metadata": {},
   "outputs": [],
   "source": [
    "# -*- coding: utf-8 -*-\n",
    "# imports\n",
    "import gensim\n",
    "import string\n",
    "from nltk.tokenize import sent_tokenize\n",
    "from nltk.corpus import stopwords\n",
    "from nltk.tokenize import word_tokenize"
   ]
  },
  {
   "cell_type": "code",
   "execution_count": 16,
   "metadata": {},
   "outputs": [],
   "source": [
    "# load text\n",
    "text = open('./anna.txt', 'r', encoding='utf-8').read()"
   ]
  },
  {
   "cell_type": "code",
   "execution_count": 17,
   "metadata": {},
   "outputs": [],
   "source": [
    "def tokenize_ru(file_text):\n",
    "    # firstly let's apply nltk tokenization\n",
    "    tokens = word_tokenize(file_text)\n",
    "\n",
    "    # let's delete punctuation symbols\n",
    "    tokens = [i for i in tokens if (i not in string.punctuation)]\n",
    "\n",
    "    # deleting stop_words\n",
    "    stop_words = stopwords.words('russian')\n",
    "    stop_words.extend(['что', 'это', 'так', 'вот', 'быть', 'как', 'в', '—', '–', 'к', 'на', '...'])\n",
    "    tokens = [i for i in tokens if (i not in stop_words)]\n",
    "\n",
    "    # cleaning words\n",
    "    tokens = [i.replace(\"«\", \"\").replace(\"»\", \"\") for i in tokens]\n",
    "\n",
    "    return tokens"
   ]
  },
  {
   "cell_type": "code",
   "execution_count": 18,
   "metadata": {},
   "outputs": [],
   "source": [
    "sentences = [tokenize_ru(sent) for sent in sent_tokenize(text, 'russian')]"
   ]
  },
  {
   "cell_type": "code",
   "execution_count": 19,
   "metadata": {},
   "outputs": [
    {
     "name": "stdout",
     "output_type": "stream",
     "text": [
      "19881\n",
      "[['', 'Однако', 'когда-нибудь', 'нужно', 'остаться', '', 'сказал', 'стараясь', 'придать', 'смелости'], ['Он', 'выпрямил', 'грудь', 'вынул', 'папироску', 'закурил', 'пыхнул', 'раза', 'бросил', 'перламутровую', 'раковину-пепельницу', 'быстрыми', 'шагами', 'прошел', 'мрачную', 'гостиную', 'отворил', 'другую', 'дверь', 'спальню', 'жены'], ['IV', 'Дарья', 'Александровна', 'кофточке', 'пришпиленными', 'затылке', 'косами', 'редких', 'когда-то', 'густых', 'прекрасных', 'волоса', 'осунувшимся', 'худым', 'лицом', 'большими', 'выдававшимися', 'худобы', 'лица', 'испуганными', 'глазами', 'стояла', 'среди', 'разбросанных', 'комнате', 'вещей', 'пред', 'открытою', 'шифоньеркой', 'которой', 'выбирала', 'что-то'], ['Услыхав', 'шаги', 'мужа', 'остановилась', 'глядя', 'дверь', 'тщетно', 'пытаясь', 'придать', 'своему', 'лицу', 'строгое', 'презрительное', 'выражение'], ['Она', 'чувствовала', 'боится', 'боится', 'предстоящего', 'свидания'], ['Она', 'пыталась', 'сделать', 'пыталась', 'сделать', 'десятый', 'дня', 'отобрать', 'детские', 'свои', 'вещи', 'которые', 'увезет', 'матери', 'могла', 'решиться', 'прежние', 'раза', 'говорила', 'остаться', 'должна', 'предпринять', 'что-нибудь', 'наказать', 'осрамить', 'отомстить', 'малою', 'частью', 'той', 'боли', 'которую', 'сделал'], ['Она', 'говорила', 'уедет', 'чувствовала', 'невозможно', 'невозможно', 'могла', 'отвыкнуть', 'считать', 'своим', 'мужем', 'любить'], ['Кроме', 'чувствовала', 'своем', 'доме', 'едва', 'успевала', 'ухаживать', 'своими', 'пятью', 'детьми', 'хуже', 'поедет', 'всеми', 'ими'], ['И', 'дня', 'меньшой', 'заболел', 'оттого', 'накормили', 'дурным', 'бульоном', 'остальные', 'вчера', 'обеда']]\n"
     ]
    }
   ],
   "source": [
    "print(len(sentences))  # 20024\n",
    "print(sentences[200:209])  # [['Она', 'чувствовала', 'боится', 'боится', 'предстоящего', 'свидания'],...]"
   ]
  },
  {
   "cell_type": "code",
   "execution_count": 20,
   "metadata": {},
   "outputs": [],
   "source": [
    "# train model\n",
    "model = gensim.models.Word2Vec(sentences,  window=5, min_count=5, workers=4)"
   ]
  },
  {
   "cell_type": "code",
   "execution_count": 21,
   "metadata": {},
   "outputs": [
    {
     "name": "stdout",
     "output_type": "stream",
     "text": [
      "saved\n"
     ]
    }
   ],
   "source": [
    "# save model\n",
    "model.save('./w2v.model')\n",
    "print('saved')"
   ]
  }
 ],
 "metadata": {
  "kernelspec": {
   "display_name": "Python 3",
   "language": "python",
   "name": "python3"
  },
  "language_info": {
   "codemirror_mode": {
    "name": "ipython",
    "version": 3
   },
   "file_extension": ".py",
   "mimetype": "text/x-python",
   "name": "python",
   "nbconvert_exporter": "python",
   "pygments_lexer": "ipython3",
   "version": "3.10.4"
  },
  "orig_nbformat": 4,
  "vscode": {
   "interpreter": {
    "hash": "301a17a29b57d3836b7901af1621afd6d2b1f2298b9c7949191147cf2fea93e3"
   }
  }
 },
 "nbformat": 4,
 "nbformat_minor": 2
}
