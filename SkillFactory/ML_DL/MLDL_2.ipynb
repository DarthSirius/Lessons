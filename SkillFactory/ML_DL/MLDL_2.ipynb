{
 "cells": [
  {
   "cell_type": "code",
   "execution_count": 266,
   "metadata": {},
   "outputs": [],
   "source": [
    "import numpy as np\n",
    "import pandas as pd\n",
    "\n",
    "import matplotlib.pyplot as plt\n",
    "import seaborn as sns\n",
    "%matplotlib inline"
   ]
  },
  {
   "cell_type": "code",
   "execution_count": 267,
   "metadata": {},
   "outputs": [
    {
     "data": {
      "text/html": [
       "<div>\n",
       "<style scoped>\n",
       "    .dataframe tbody tr th:only-of-type {\n",
       "        vertical-align: middle;\n",
       "    }\n",
       "\n",
       "    .dataframe tbody tr th {\n",
       "        vertical-align: top;\n",
       "    }\n",
       "\n",
       "    .dataframe thead th {\n",
       "        text-align: right;\n",
       "    }\n",
       "</style>\n",
       "<table border=\"1\" class=\"dataframe\">\n",
       "  <thead>\n",
       "    <tr style=\"text-align: right;\">\n",
       "      <th></th>\n",
       "      <th>id</th>\n",
       "      <th>full_sq</th>\n",
       "      <th>life_sq</th>\n",
       "      <th>floor</th>\n",
       "      <th>sub_area</th>\n",
       "      <th>preschool_quota</th>\n",
       "      <th>preschool_education_centers_raion</th>\n",
       "      <th>school_quota</th>\n",
       "      <th>school_education_centers_raion</th>\n",
       "      <th>school_education_centers_top_20_raion</th>\n",
       "      <th>...</th>\n",
       "      <th>shopping_centers_km</th>\n",
       "      <th>office_km</th>\n",
       "      <th>additional_education_km</th>\n",
       "      <th>preschool_km</th>\n",
       "      <th>big_church_km</th>\n",
       "      <th>church_synagogue_km</th>\n",
       "      <th>theater_km</th>\n",
       "      <th>museum_km</th>\n",
       "      <th>ecology</th>\n",
       "      <th>price_doc</th>\n",
       "    </tr>\n",
       "  </thead>\n",
       "  <tbody>\n",
       "    <tr>\n",
       "      <th>0</th>\n",
       "      <td>1</td>\n",
       "      <td>43</td>\n",
       "      <td>27.0</td>\n",
       "      <td>4.0</td>\n",
       "      <td>Bibirevo</td>\n",
       "      <td>5001.0</td>\n",
       "      <td>5</td>\n",
       "      <td>11065.0</td>\n",
       "      <td>5</td>\n",
       "      <td>0</td>\n",
       "      <td>...</td>\n",
       "      <td>0.648488</td>\n",
       "      <td>0.637189</td>\n",
       "      <td>0.947962</td>\n",
       "      <td>0.177975</td>\n",
       "      <td>0.625783</td>\n",
       "      <td>0.628187</td>\n",
       "      <td>14.053047</td>\n",
       "      <td>7.389498</td>\n",
       "      <td>good</td>\n",
       "      <td>5850000</td>\n",
       "    </tr>\n",
       "    <tr>\n",
       "      <th>1</th>\n",
       "      <td>2</td>\n",
       "      <td>34</td>\n",
       "      <td>19.0</td>\n",
       "      <td>3.0</td>\n",
       "      <td>Nagatinskij Zaton</td>\n",
       "      <td>3119.0</td>\n",
       "      <td>5</td>\n",
       "      <td>6237.0</td>\n",
       "      <td>8</td>\n",
       "      <td>0</td>\n",
       "      <td>...</td>\n",
       "      <td>0.519311</td>\n",
       "      <td>0.688796</td>\n",
       "      <td>1.072315</td>\n",
       "      <td>0.273345</td>\n",
       "      <td>0.967821</td>\n",
       "      <td>0.471447</td>\n",
       "      <td>6.829889</td>\n",
       "      <td>0.709260</td>\n",
       "      <td>excellent</td>\n",
       "      <td>6000000</td>\n",
       "    </tr>\n",
       "    <tr>\n",
       "      <th>2</th>\n",
       "      <td>3</td>\n",
       "      <td>43</td>\n",
       "      <td>29.0</td>\n",
       "      <td>2.0</td>\n",
       "      <td>Tekstil'shhiki</td>\n",
       "      <td>1463.0</td>\n",
       "      <td>4</td>\n",
       "      <td>5580.0</td>\n",
       "      <td>7</td>\n",
       "      <td>0</td>\n",
       "      <td>...</td>\n",
       "      <td>1.486533</td>\n",
       "      <td>1.543049</td>\n",
       "      <td>0.391957</td>\n",
       "      <td>0.158072</td>\n",
       "      <td>3.178751</td>\n",
       "      <td>0.755946</td>\n",
       "      <td>4.273200</td>\n",
       "      <td>3.156423</td>\n",
       "      <td>poor</td>\n",
       "      <td>5700000</td>\n",
       "    </tr>\n",
       "    <tr>\n",
       "      <th>3</th>\n",
       "      <td>4</td>\n",
       "      <td>89</td>\n",
       "      <td>50.0</td>\n",
       "      <td>9.0</td>\n",
       "      <td>Mitino</td>\n",
       "      <td>6839.0</td>\n",
       "      <td>9</td>\n",
       "      <td>17063.0</td>\n",
       "      <td>10</td>\n",
       "      <td>0</td>\n",
       "      <td>...</td>\n",
       "      <td>0.599914</td>\n",
       "      <td>0.934273</td>\n",
       "      <td>0.892674</td>\n",
       "      <td>0.236455</td>\n",
       "      <td>1.031777</td>\n",
       "      <td>1.561505</td>\n",
       "      <td>16.990677</td>\n",
       "      <td>16.041521</td>\n",
       "      <td>good</td>\n",
       "      <td>13100000</td>\n",
       "    </tr>\n",
       "    <tr>\n",
       "      <th>4</th>\n",
       "      <td>5</td>\n",
       "      <td>77</td>\n",
       "      <td>77.0</td>\n",
       "      <td>4.0</td>\n",
       "      <td>Basmannoe</td>\n",
       "      <td>3240.0</td>\n",
       "      <td>7</td>\n",
       "      <td>7770.0</td>\n",
       "      <td>9</td>\n",
       "      <td>0</td>\n",
       "      <td>...</td>\n",
       "      <td>0.429052</td>\n",
       "      <td>0.077901</td>\n",
       "      <td>0.810801</td>\n",
       "      <td>0.376838</td>\n",
       "      <td>0.378756</td>\n",
       "      <td>0.121681</td>\n",
       "      <td>1.112486</td>\n",
       "      <td>1.800125</td>\n",
       "      <td>excellent</td>\n",
       "      <td>16331452</td>\n",
       "    </tr>\n",
       "  </tbody>\n",
       "</table>\n",
       "<p>5 rows × 56 columns</p>\n",
       "</div>"
      ],
      "text/plain": [
       "   id  full_sq  life_sq  floor           sub_area  preschool_quota   \n",
       "0   1       43     27.0    4.0           Bibirevo           5001.0  \\\n",
       "1   2       34     19.0    3.0  Nagatinskij Zaton           3119.0   \n",
       "2   3       43     29.0    2.0     Tekstil'shhiki           1463.0   \n",
       "3   4       89     50.0    9.0             Mitino           6839.0   \n",
       "4   5       77     77.0    4.0          Basmannoe           3240.0   \n",
       "\n",
       "   preschool_education_centers_raion  school_quota   \n",
       "0                                  5       11065.0  \\\n",
       "1                                  5        6237.0   \n",
       "2                                  4        5580.0   \n",
       "3                                  9       17063.0   \n",
       "4                                  7        7770.0   \n",
       "\n",
       "   school_education_centers_raion  school_education_centers_top_20_raion  ...   \n",
       "0                               5                                      0  ...  \\\n",
       "1                               8                                      0  ...   \n",
       "2                               7                                      0  ...   \n",
       "3                              10                                      0  ...   \n",
       "4                               9                                      0  ...   \n",
       "\n",
       "   shopping_centers_km  office_km  additional_education_km  preschool_km   \n",
       "0             0.648488   0.637189                 0.947962      0.177975  \\\n",
       "1             0.519311   0.688796                 1.072315      0.273345   \n",
       "2             1.486533   1.543049                 0.391957      0.158072   \n",
       "3             0.599914   0.934273                 0.892674      0.236455   \n",
       "4             0.429052   0.077901                 0.810801      0.376838   \n",
       "\n",
       "   big_church_km  church_synagogue_km  theater_km  museum_km    ecology   \n",
       "0       0.625783             0.628187   14.053047   7.389498       good  \\\n",
       "1       0.967821             0.471447    6.829889   0.709260  excellent   \n",
       "2       3.178751             0.755946    4.273200   3.156423       poor   \n",
       "3       1.031777             1.561505   16.990677  16.041521       good   \n",
       "4       0.378756             0.121681    1.112486   1.800125  excellent   \n",
       "\n",
       "   price_doc  \n",
       "0    5850000  \n",
       "1    6000000  \n",
       "2    5700000  \n",
       "3   13100000  \n",
       "4   16331452  \n",
       "\n",
       "[5 rows x 56 columns]"
      ]
     },
     "execution_count": 267,
     "metadata": {},
     "output_type": "execute_result"
    }
   ],
   "source": [
    "data = pd.read_csv('data/data_flats.csv',sep=\";\")\n",
    "data.head()"
   ]
  },
  {
   "cell_type": "code",
   "execution_count": 268,
   "metadata": {},
   "outputs": [
    {
     "data": {
      "text/plain": [
       "sub_area\n",
       "Poselenie Sosenskoe               1776\n",
       "Nekrasovka                        1611\n",
       "Poselenie Vnukovskoe              1372\n",
       "Poselenie Moskovskij               925\n",
       "Poselenie Voskresenskoe            713\n",
       "                                  ... \n",
       "Molzhaninovskoe                      3\n",
       "Poselenie Shhapovskoe                2\n",
       "Poselenie Kievskij                   2\n",
       "Poselenie Klenovskoe                 1\n",
       "Poselenie Mihajlovo-Jarcevskoe       1\n",
       "Name: count, Length: 146, dtype: int64"
      ]
     },
     "execution_count": 268,
     "metadata": {},
     "output_type": "execute_result"
    }
   ],
   "source": [
    "data['sub_area'].value_counts()"
   ]
  },
  {
   "cell_type": "code",
   "execution_count": 269,
   "metadata": {},
   "outputs": [
    {
     "data": {
      "text/plain": [
       "<AxesSubplot: >"
      ]
     },
     "execution_count": 269,
     "metadata": {},
     "output_type": "execute_result"
    },
    {
     "data": {
      "image/png": "[encoded data removed]",
      "text/plain": [
       "<Figure size 432x288 with 1 Axes>"
      ]
     },
     "metadata": {
      "needs_background": "light"
     },
     "output_type": "display_data"
    }
   ],
   "source": [
    "data[data['sub_area']=='Lefortovo']['price_doc'].hist()"
   ]
  },
  {
   "cell_type": "code",
   "execution_count": 270,
   "metadata": {},
   "outputs": [
    {
     "data": {
      "text/plain": [
       "array([ 5000000,  6350000,  8300000,  4700000,  5750000,  7400000,\n",
       "        8300000,  2285500, 10500000,  6500000,  8500000, 11000000,\n",
       "       10800000,  4950000,  5500000,  5300000,  6500000,  5900000,\n",
       "        6600000,  3000000,  3900000,  6518382,  5250000,  2000000,\n",
       "        7300000,  6550000,  5000000,  7800000,  1000000,  7500000,\n",
       "        6442778, 12300000, 10500000,  5500000,  5850000,  6550000,\n",
       "        6550000,  7700000,  4550000,  7000000, 11000000, 12500000,\n",
       "        8600000, 13400000, 12900000,  5900000,  3000000,  5500000,\n",
       "       10700000, 13000000,  6000000,  5720000, 10500000, 12800000,\n",
       "        6800000,  5310000,  4800000,  6125000,  7000000,  2100000,\n",
       "        8550000, 18500000,  6400000,  5635000,  6700000,  1000000,\n",
       "        7400000,  6500000,  1000000,  5500000,  7400000,  6100000,\n",
       "        8050000,  7000000,   990000,  6800000,  5800000,  4000000,\n",
       "        6700000,  2000000,  3000000,  1200000,  7600000, 12000000,\n",
       "        6250000, 14000000,  8200000, 20000000,  4300000,  8100000,\n",
       "        6700000,  8300000,  8950000,  6500000, 14000000,  2000000,\n",
       "       12000000,  9000000,  5600000, 14000000, 10400000,  7400000,\n",
       "       10700000,  6900000, 10600000, 21200000,  9500000, 11300000,\n",
       "        7660000,  2000000, 11200000,  6550000,  6500000,  8800000,\n",
       "        7290000,  8900000,  8900000,  6800000,  2000000], dtype=int64)"
      ]
     },
     "execution_count": 270,
     "metadata": {},
     "output_type": "execute_result"
    }
   ],
   "source": [
    "np.array(data[data['sub_area']=='Lefortovo']['price_doc'])"
   ]
  },
  {
   "cell_type": "code",
   "execution_count": 271,
   "metadata": {},
   "outputs": [
    {
     "data": {
      "text/plain": [
       "Text(0.5, 1.0, 'Bogorodskoe')"
      ]
     },
     "execution_count": 271,
     "metadata": {},
     "output_type": "execute_result"
    },
    {
     "data": {
      "image/png": "[encoded data removed]",
      "text/plain": [
       "<Figure size 1080x360 with 4 Axes>"
      ]
     },
     "metadata": {
      "needs_background": "light"
     },
     "output_type": "display_data"
    }
   ],
   "source": [
    "fig, axes = plt.subplots(nrows=1, ncols=4, figsize=(15,5))\n",
    "box1 = sns.boxplot(data=np.array(data[data['sub_area']=='Lefortovo']['price_doc']), ax=axes[0])\n",
    "box1.set_title('Lefortovo')\n",
    "box2 = sns.boxplot(data=np.array(data[data['sub_area']=='Perovo']['price_doc']), ax=axes[1])\n",
    "box2.set_title('Perovo')\n",
    "box3 = sns.boxplot(data=np.array(data[data['sub_area']=='Basmannoe']['price_doc']), ax=axes[2])\n",
    "box3.set_title('Basmannoe')\n",
    "box4 = sns.boxplot(data=np.array(data[data['sub_area']=='Bogorodskoe']['price_doc']), ax=axes[3])\n",
    "box4.set_title('Bogorodskoe')"
   ]
  },
  {
   "cell_type": "code",
   "execution_count": 272,
   "metadata": {},
   "outputs": [
    {
     "name": "stdout",
     "output_type": "stream",
     "text": [
      "<class 'pandas.core.frame.DataFrame'>\n",
      "RangeIndex: 30469 entries, 0 to 30468\n",
      "Data columns (total 56 columns):\n",
      " #   Column                                 Non-Null Count  Dtype  \n",
      "---  ------                                 --------------  -----  \n",
      " 0   id                                     30469 non-null  int64  \n",
      " 1   full_sq                                30469 non-null  int64  \n",
      " 2   life_sq                                24086 non-null  float64\n",
      " 3   floor                                  30302 non-null  float64\n",
      " 4   sub_area                               30469 non-null  object \n",
      " 5   preschool_quota                        23781 non-null  float64\n",
      " 6   preschool_education_centers_raion      30469 non-null  int64  \n",
      " 7   school_quota                           23784 non-null  float64\n",
      " 8   school_education_centers_raion         30469 non-null  int64  \n",
      " 9   school_education_centers_top_20_raion  30469 non-null  int64  \n",
      " 10  hospital_beds_raion                    16029 non-null  float64\n",
      " 11  healthcare_centers_raion               30469 non-null  int64  \n",
      " 12  university_top_20_raion                30469 non-null  int64  \n",
      " 13  sport_objects_raion                    30469 non-null  int64  \n",
      " 14  additional_education_raion             30469 non-null  int64  \n",
      " 15  culture_objects_top_25_raion           30469 non-null  int64  \n",
      " 16  shopping_centers_raion                 30469 non-null  int64  \n",
      " 17  office_raion                           30469 non-null  int64  \n",
      " 18  metro_min_avto                         30469 non-null  float64\n",
      " 19  metro_km_avto                          30469 non-null  float64\n",
      " 20  metro_min_walk                         30444 non-null  float64\n",
      " 21  metro_km_walk                          30444 non-null  float64\n",
      " 22  kindergarten_km                        30469 non-null  float64\n",
      " 23  school_km                              30469 non-null  float64\n",
      " 24  park_km                                30469 non-null  float64\n",
      " 25  green_zone_km                          30469 non-null  float64\n",
      " 26  industrial_km                          30469 non-null  float64\n",
      " 27  railroad_station_walk_km               30444 non-null  float64\n",
      " 28  railroad_station_walk_min              30444 non-null  float64\n",
      " 29  public_transport_station_km            30469 non-null  float64\n",
      " 30  public_transport_station_min_walk      30469 non-null  float64\n",
      " 31  mkad_km                                30469 non-null  float64\n",
      " 32  ttk_km                                 30469 non-null  float64\n",
      " 33  sadovoe_km                             30469 non-null  float64\n",
      " 34  bulvar_ring_km                         30469 non-null  float64\n",
      " 35  kremlin_km                             30469 non-null  float64\n",
      " 36  big_market_km                          30469 non-null  float64\n",
      " 37  market_shop_km                         30469 non-null  float64\n",
      " 38  fitness_km                             30469 non-null  float64\n",
      " 39  swim_pool_km                           30469 non-null  float64\n",
      " 40  ice_rink_km                            30469 non-null  float64\n",
      " 41  stadium_km                             30469 non-null  float64\n",
      " 42  basketball_km                          30469 non-null  float64\n",
      " 43  hospice_morgue_km                      30469 non-null  float64\n",
      " 44  university_km                          30469 non-null  float64\n",
      " 45  workplaces_km                          30469 non-null  float64\n",
      " 46  shopping_centers_km                    30469 non-null  float64\n",
      " 47  office_km                              30469 non-null  float64\n",
      " 48  additional_education_km                30469 non-null  float64\n",
      " 49  preschool_km                           30469 non-null  float64\n",
      " 50  big_church_km                          30469 non-null  float64\n",
      " 51  church_synagogue_km                    30469 non-null  float64\n",
      " 52  theater_km                             30469 non-null  float64\n",
      " 53  museum_km                              30469 non-null  float64\n",
      " 54  ecology                                30469 non-null  object \n",
      " 55  price_doc                              30469 non-null  int64  \n",
      "dtypes: float64(41), int64(13), object(2)\n",
      "memory usage: 13.0+ MB\n"
     ]
    }
   ],
   "source": [
    "data.info()"
   ]
  },
  {
   "cell_type": "code",
   "execution_count": 273,
   "metadata": {},
   "outputs": [
    {
     "data": {
      "text/plain": [
       "(13652, 56)"
      ]
     },
     "execution_count": 273,
     "metadata": {},
     "output_type": "execute_result"
    }
   ],
   "source": [
    "data = data.dropna()\n",
    "data.shape"
   ]
  },
  {
   "cell_type": "code",
   "execution_count": 274,
   "metadata": {},
   "outputs": [
    {
     "data": {
      "text/html": [
       "<div>\n",
       "<style scoped>\n",
       "    .dataframe tbody tr th:only-of-type {\n",
       "        vertical-align: middle;\n",
       "    }\n",
       "\n",
       "    .dataframe tbody tr th {\n",
       "        vertical-align: top;\n",
       "    }\n",
       "\n",
       "    .dataframe thead th {\n",
       "        text-align: right;\n",
       "    }\n",
       "</style>\n",
       "<table border=\"1\" class=\"dataframe\">\n",
       "  <thead>\n",
       "    <tr style=\"text-align: right;\">\n",
       "      <th></th>\n",
       "      <th>ticket_id</th>\n",
       "      <th>agency_name</th>\n",
       "      <th>inspector_name</th>\n",
       "      <th>violator_name</th>\n",
       "      <th>violation_street_number</th>\n",
       "      <th>violation_street_name</th>\n",
       "      <th>violation_zip_code</th>\n",
       "      <th>mailing_address_str_number</th>\n",
       "      <th>mailing_address_str_name</th>\n",
       "      <th>city</th>\n",
       "      <th>...</th>\n",
       "      <th>clean_up_cost</th>\n",
       "      <th>judgment_amount</th>\n",
       "      <th>payment_amount</th>\n",
       "      <th>balance_due</th>\n",
       "      <th>payment_date</th>\n",
       "      <th>payment_status</th>\n",
       "      <th>collection_status</th>\n",
       "      <th>grafitti_status</th>\n",
       "      <th>compliance_detail</th>\n",
       "      <th>compliance</th>\n",
       "    </tr>\n",
       "  </thead>\n",
       "  <tbody>\n",
       "    <tr>\n",
       "      <th>0</th>\n",
       "      <td>22056</td>\n",
       "      <td>Buildings, Safety Engineering &amp; Env Department</td>\n",
       "      <td>Sims, Martinzie</td>\n",
       "      <td>INVESTMENT INC., MIDWEST MORTGAGE</td>\n",
       "      <td>2900.0</td>\n",
       "      <td>TYLER</td>\n",
       "      <td>NaN</td>\n",
       "      <td>3.0</td>\n",
       "      <td>S. WICKER</td>\n",
       "      <td>CHICAGO</td>\n",
       "      <td>...</td>\n",
       "      <td>0.0</td>\n",
       "      <td>305.0</td>\n",
       "      <td>0.0</td>\n",
       "      <td>305.0</td>\n",
       "      <td>NaN</td>\n",
       "      <td>NO PAYMENT APPLIED</td>\n",
       "      <td>NaN</td>\n",
       "      <td>NaN</td>\n",
       "      <td>non-compliant by no payment</td>\n",
       "      <td>0.0</td>\n",
       "    </tr>\n",
       "    <tr>\n",
       "      <th>1</th>\n",
       "      <td>27586</td>\n",
       "      <td>Buildings, Safety Engineering &amp; Env Department</td>\n",
       "      <td>Williams, Darrin</td>\n",
       "      <td>Michigan, Covenant House</td>\n",
       "      <td>4311.0</td>\n",
       "      <td>CENTRAL</td>\n",
       "      <td>NaN</td>\n",
       "      <td>2959.0</td>\n",
       "      <td>Martin Luther King</td>\n",
       "      <td>Detroit</td>\n",
       "      <td>...</td>\n",
       "      <td>0.0</td>\n",
       "      <td>855.0</td>\n",
       "      <td>780.0</td>\n",
       "      <td>75.0</td>\n",
       "      <td>2005-06-02 00:00:00</td>\n",
       "      <td>PAID IN FULL</td>\n",
       "      <td>NaN</td>\n",
       "      <td>NaN</td>\n",
       "      <td>compliant by late payment within 1 month</td>\n",
       "      <td>1.0</td>\n",
       "    </tr>\n",
       "    <tr>\n",
       "      <th>2</th>\n",
       "      <td>22062</td>\n",
       "      <td>Buildings, Safety Engineering &amp; Env Department</td>\n",
       "      <td>Sims, Martinzie</td>\n",
       "      <td>SANDERS, DERRON</td>\n",
       "      <td>1449.0</td>\n",
       "      <td>LONGFELLOW</td>\n",
       "      <td>NaN</td>\n",
       "      <td>23658.0</td>\n",
       "      <td>P.O. BOX</td>\n",
       "      <td>DETROIT</td>\n",
       "      <td>...</td>\n",
       "      <td>0.0</td>\n",
       "      <td>0.0</td>\n",
       "      <td>0.0</td>\n",
       "      <td>0.0</td>\n",
       "      <td>NaN</td>\n",
       "      <td>NO PAYMENT APPLIED</td>\n",
       "      <td>NaN</td>\n",
       "      <td>NaN</td>\n",
       "      <td>not responsible by disposition</td>\n",
       "      <td>NaN</td>\n",
       "    </tr>\n",
       "    <tr>\n",
       "      <th>3</th>\n",
       "      <td>22084</td>\n",
       "      <td>Buildings, Safety Engineering &amp; Env Department</td>\n",
       "      <td>Sims, Martinzie</td>\n",
       "      <td>MOROSI, MIKE</td>\n",
       "      <td>1441.0</td>\n",
       "      <td>LONGFELLOW</td>\n",
       "      <td>NaN</td>\n",
       "      <td>5.0</td>\n",
       "      <td>ST. CLAIR</td>\n",
       "      <td>DETROIT</td>\n",
       "      <td>...</td>\n",
       "      <td>0.0</td>\n",
       "      <td>0.0</td>\n",
       "      <td>0.0</td>\n",
       "      <td>0.0</td>\n",
       "      <td>NaN</td>\n",
       "      <td>NO PAYMENT APPLIED</td>\n",
       "      <td>NaN</td>\n",
       "      <td>NaN</td>\n",
       "      <td>not responsible by disposition</td>\n",
       "      <td>NaN</td>\n",
       "    </tr>\n",
       "    <tr>\n",
       "      <th>4</th>\n",
       "      <td>22093</td>\n",
       "      <td>Buildings, Safety Engineering &amp; Env Department</td>\n",
       "      <td>Sims, Martinzie</td>\n",
       "      <td>NATHANIEL, NEAL</td>\n",
       "      <td>2449.0</td>\n",
       "      <td>CHURCHILL</td>\n",
       "      <td>NaN</td>\n",
       "      <td>7449.0</td>\n",
       "      <td>CHURCHILL</td>\n",
       "      <td>DETROIT</td>\n",
       "      <td>...</td>\n",
       "      <td>0.0</td>\n",
       "      <td>0.0</td>\n",
       "      <td>0.0</td>\n",
       "      <td>0.0</td>\n",
       "      <td>NaN</td>\n",
       "      <td>NO PAYMENT APPLIED</td>\n",
       "      <td>NaN</td>\n",
       "      <td>NaN</td>\n",
       "      <td>not responsible by disposition</td>\n",
       "      <td>NaN</td>\n",
       "    </tr>\n",
       "  </tbody>\n",
       "</table>\n",
       "<p>5 rows × 34 columns</p>\n",
       "</div>"
      ],
      "text/plain": [
       "   ticket_id                                     agency_name   \n",
       "0      22056  Buildings, Safety Engineering & Env Department  \\\n",
       "1      27586  Buildings, Safety Engineering & Env Department   \n",
       "2      22062  Buildings, Safety Engineering & Env Department   \n",
       "3      22084  Buildings, Safety Engineering & Env Department   \n",
       "4      22093  Buildings, Safety Engineering & Env Department   \n",
       "\n",
       "     inspector_name                      violator_name   \n",
       "0   Sims, Martinzie  INVESTMENT INC., MIDWEST MORTGAGE  \\\n",
       "1  Williams, Darrin           Michigan, Covenant House   \n",
       "2   Sims, Martinzie                    SANDERS, DERRON   \n",
       "3   Sims, Martinzie                       MOROSI, MIKE   \n",
       "4   Sims, Martinzie                    NATHANIEL, NEAL   \n",
       "\n",
       "   violation_street_number violation_street_name  violation_zip_code   \n",
       "0                   2900.0                 TYLER                 NaN  \\\n",
       "1                   4311.0               CENTRAL                 NaN   \n",
       "2                   1449.0            LONGFELLOW                 NaN   \n",
       "3                   1441.0            LONGFELLOW                 NaN   \n",
       "4                   2449.0             CHURCHILL                 NaN   \n",
       "\n",
       "   mailing_address_str_number mailing_address_str_name     city  ...   \n",
       "0                         3.0                S. WICKER  CHICAGO  ...  \\\n",
       "1                      2959.0       Martin Luther King  Detroit  ...   \n",
       "2                     23658.0                 P.O. BOX  DETROIT  ...   \n",
       "3                         5.0                ST. CLAIR  DETROIT  ...   \n",
       "4                      7449.0                CHURCHILL  DETROIT  ...   \n",
       "\n",
       "  clean_up_cost judgment_amount payment_amount balance_due   \n",
       "0           0.0           305.0            0.0       305.0  \\\n",
       "1           0.0           855.0          780.0        75.0   \n",
       "2           0.0             0.0            0.0         0.0   \n",
       "3           0.0             0.0            0.0         0.0   \n",
       "4           0.0             0.0            0.0         0.0   \n",
       "\n",
       "          payment_date      payment_status collection_status grafitti_status   \n",
       "0                  NaN  NO PAYMENT APPLIED               NaN             NaN  \\\n",
       "1  2005-06-02 00:00:00        PAID IN FULL               NaN             NaN   \n",
       "2                  NaN  NO PAYMENT APPLIED               NaN             NaN   \n",
       "3                  NaN  NO PAYMENT APPLIED               NaN             NaN   \n",
       "4                  NaN  NO PAYMENT APPLIED               NaN             NaN   \n",
       "\n",
       "                          compliance_detail  compliance  \n",
       "0               non-compliant by no payment         0.0  \n",
       "1  compliant by late payment within 1 month         1.0  \n",
       "2            not responsible by disposition         NaN  \n",
       "3            not responsible by disposition         NaN  \n",
       "4            not responsible by disposition         NaN  \n",
       "\n",
       "[5 rows x 34 columns]"
      ]
     },
     "execution_count": 274,
     "metadata": {},
     "output_type": "execute_result"
    }
   ],
   "source": [
    "#tr_data = pd.read_csv('data/train.csv')\n",
    "test_data = pd.read_csv(\"data/train.csv\", encoding = 'ISO-8859-1', low_memory = False)\n",
    "test_data.head()"
   ]
  },
  {
   "cell_type": "code",
   "execution_count": 275,
   "metadata": {},
   "outputs": [
    {
     "name": "stdout",
     "output_type": "stream",
     "text": [
      "<class 'pandas.core.frame.DataFrame'>\n",
      "RangeIndex: 250306 entries, 0 to 250305\n",
      "Data columns (total 34 columns):\n",
      " #   Column                      Non-Null Count   Dtype  \n",
      "---  ------                      --------------   -----  \n",
      " 0   ticket_id                   250306 non-null  int64  \n",
      " 1   agency_name                 250306 non-null  object \n",
      " 2   inspector_name              250306 non-null  object \n",
      " 3   violator_name               250272 non-null  object \n",
      " 4   violation_street_number     250306 non-null  float64\n",
      " 5   violation_street_name       250306 non-null  object \n",
      " 6   violation_zip_code          0 non-null       float64\n",
      " 7   mailing_address_str_number  246704 non-null  float64\n",
      " 8   mailing_address_str_name    250302 non-null  object \n",
      " 9   city                        250306 non-null  object \n",
      " 10  state                       250213 non-null  object \n",
      " 11  zip_code                    250305 non-null  object \n",
      " 12  non_us_str_code             3 non-null       object \n",
      " 13  country                     250306 non-null  object \n",
      " 14  ticket_issued_date          250306 non-null  object \n",
      " 15  hearing_date                237815 non-null  object \n",
      " 16  violation_code              250306 non-null  object \n",
      " 17  violation_description       250306 non-null  object \n",
      " 18  disposition                 250306 non-null  object \n",
      " 19  fine_amount                 250305 non-null  float64\n",
      " 20  admin_fee                   250306 non-null  float64\n",
      " 21  state_fee                   250306 non-null  float64\n",
      " 22  late_fee                    250306 non-null  float64\n",
      " 23  discount_amount             250306 non-null  float64\n",
      " 24  clean_up_cost               250306 non-null  float64\n",
      " 25  judgment_amount             250306 non-null  float64\n",
      " 26  payment_amount              250306 non-null  float64\n",
      " 27  balance_due                 250306 non-null  float64\n",
      " 28  payment_date                41113 non-null   object \n",
      " 29  payment_status              250306 non-null  object \n",
      " 30  collection_status           36897 non-null   object \n",
      " 31  grafitti_status             1 non-null       object \n",
      " 32  compliance_detail           250306 non-null  object \n",
      " 33  compliance                  159880 non-null  float64\n",
      "dtypes: float64(13), int64(1), object(20)\n",
      "memory usage: 64.9+ MB\n"
     ]
    }
   ],
   "source": [
    "test_data.info()"
   ]
  },
  {
   "cell_type": "code",
   "execution_count": 276,
   "metadata": {},
   "outputs": [
    {
     "data": {
      "text/plain": [
       "0         305.0\n",
       "1          75.0\n",
       "2           0.0\n",
       "3           0.0\n",
       "4           0.0\n",
       "          ...  \n",
       "250301      0.0\n",
       "250302      0.0\n",
       "250303      0.0\n",
       "250304      0.0\n",
       "250305      0.0\n",
       "Name: balance_due, Length: 250306, dtype: float64"
      ]
     },
     "execution_count": 276,
     "metadata": {},
     "output_type": "execute_result"
    }
   ],
   "source": [
    "test_data['balance_due']"
   ]
  },
  {
   "cell_type": "code",
   "execution_count": 277,
   "metadata": {},
   "outputs": [],
   "source": [
    "from sklearn.preprocessing import StandardScaler\n",
    "scaler = StandardScaler()"
   ]
  },
  {
   "cell_type": "code",
   "execution_count": 278,
   "metadata": {},
   "outputs": [
    {
     "data": {
      "text/plain": [
       "array([[305.],\n",
       "       [ 75.],\n",
       "       [  0.],\n",
       "       ...,\n",
       "       [  0.],\n",
       "       [  0.],\n",
       "       [  0.]])"
      ]
     },
     "execution_count": 278,
     "metadata": {},
     "output_type": "execute_result"
    }
   ],
   "source": [
    "np.array(test_data['balance_due']).reshape(250306,1)"
   ]
  },
  {
   "cell_type": "code",
   "execution_count": 279,
   "metadata": {},
   "outputs": [
    {
     "data": {
      "text/plain": [
       "-13.147334652567258"
      ]
     },
     "execution_count": 279,
     "metadata": {},
     "output_type": "execute_result"
    }
   ],
   "source": [
    "a = scaler.fit_transform(np.array(test_data['balance_due']).reshape(250306,1))\n",
    "a.min()"
   ]
  },
  {
   "cell_type": "code",
   "execution_count": 280,
   "metadata": {},
   "outputs": [
    {
     "data": {
      "text/plain": [
       "17.82269011402645"
      ]
     },
     "execution_count": 280,
     "metadata": {},
     "output_type": "execute_result"
    }
   ],
   "source": [
    "a.max()"
   ]
  },
  {
   "cell_type": "code",
   "execution_count": 281,
   "metadata": {},
   "outputs": [],
   "source": [
    "import seaborn as sns"
   ]
  },
  {
   "cell_type": "code",
   "execution_count": 282,
   "metadata": {},
   "outputs": [
    {
     "data": {
      "text/plain": [
       "(array([1.00000e+00, 1.00000e+00, 1.50000e+01, 8.30000e+01, 2.44895e+05,\n",
       "        1.61600e+03, 3.41500e+03, 7.80000e+01, 1.40000e+01, 1.88000e+02]),\n",
       " array([-13.14733465, -10.05033218,  -6.9533297 ,  -3.85632722,\n",
       "         -0.75932475,   2.33767773,   5.43468021,   8.53168268,\n",
       "         11.62868516,  14.72568764,  17.82269011]),\n",
       " <BarContainer object of 10 artists>)"
      ]
     },
     "execution_count": 282,
     "metadata": {},
     "output_type": "execute_result"
    },
    {
     "data": {
      "image/png": "[encoded data removed]",
      "text/plain": [
       "<Figure size 432x288 with 1 Axes>"
      ]
     },
     "metadata": {
      "needs_background": "light"
     },
     "output_type": "display_data"
    }
   ],
   "source": [
    "plt.hist(x=a)"
   ]
  },
  {
   "cell_type": "code",
   "execution_count": 283,
   "metadata": {},
   "outputs": [
    {
     "data": {
      "text/plain": [
       "0         17.464249\n",
       "1          8.660254\n",
       "5         17.464249\n",
       "6         29.240383\n",
       "7         11.832160\n",
       "            ...    \n",
       "250277    24.083189\n",
       "250278    15.811388\n",
       "250287    33.615473\n",
       "250288    24.083189\n",
       "250293    15.811388\n",
       "Name: balance_due, Length: 137678, dtype: float64"
      ]
     },
     "execution_count": 283,
     "metadata": {},
     "output_type": "execute_result"
    }
   ],
   "source": [
    "np.sqrt(test_data.balance_due[test_data.balance_due>0])"
   ]
  },
  {
   "cell_type": "code",
   "execution_count": 284,
   "metadata": {},
   "outputs": [
    {
     "data": {
      "text/plain": [
       "0.452596"
      ]
     },
     "execution_count": 284,
     "metadata": {},
     "output_type": "execute_result"
    }
   ],
   "source": [
    "a = np.sqrt(test_data.balance_due[test_data.balance_due>0]).median()\n",
    "b = np.sqrt(test_data.balance_due[test_data.balance_due>0]).mean()\n",
    "round(a-b,6)"
   ]
  },
  {
   "cell_type": "code",
   "execution_count": 285,
   "metadata": {},
   "outputs": [
    {
     "data": {
      "text/plain": [
       "17.46424919657298"
      ]
     },
     "execution_count": 285,
     "metadata": {},
     "output_type": "execute_result"
    }
   ],
   "source": [
    "a"
   ]
  },
  {
   "cell_type": "markdown",
   "metadata": {},
   "source": [
    "Задание 2.12.6\n",
    "0.0/2.0 points (graded)\n",
    "Загрузите данные train.csv, оставьте в нем только 2 признака: balance_due и payment_amount (признаки должны следовать именно в указанном порядке). Создайте из полученных признаков полиномиальные признаки степени 3. Посчитайте среднее значение для каждого получившегося признака. В качестве ответа укажите индекс признака, который содержит максимальное среднее значение."
   ]
  },
  {
   "cell_type": "code",
   "execution_count": 286,
   "metadata": {},
   "outputs": [
    {
     "data": {
      "text/html": [
       "<div>\n",
       "<style scoped>\n",
       "    .dataframe tbody tr th:only-of-type {\n",
       "        vertical-align: middle;\n",
       "    }\n",
       "\n",
       "    .dataframe tbody tr th {\n",
       "        vertical-align: top;\n",
       "    }\n",
       "\n",
       "    .dataframe thead th {\n",
       "        text-align: right;\n",
       "    }\n",
       "</style>\n",
       "<table border=\"1\" class=\"dataframe\">\n",
       "  <thead>\n",
       "    <tr style=\"text-align: right;\">\n",
       "      <th></th>\n",
       "      <th>balance_due</th>\n",
       "      <th>payment_amount</th>\n",
       "    </tr>\n",
       "  </thead>\n",
       "  <tbody>\n",
       "    <tr>\n",
       "      <th>0</th>\n",
       "      <td>305.0</td>\n",
       "      <td>0.0</td>\n",
       "    </tr>\n",
       "    <tr>\n",
       "      <th>1</th>\n",
       "      <td>75.0</td>\n",
       "      <td>780.0</td>\n",
       "    </tr>\n",
       "    <tr>\n",
       "      <th>2</th>\n",
       "      <td>0.0</td>\n",
       "      <td>0.0</td>\n",
       "    </tr>\n",
       "    <tr>\n",
       "      <th>3</th>\n",
       "      <td>0.0</td>\n",
       "      <td>0.0</td>\n",
       "    </tr>\n",
       "    <tr>\n",
       "      <th>4</th>\n",
       "      <td>0.0</td>\n",
       "      <td>0.0</td>\n",
       "    </tr>\n",
       "    <tr>\n",
       "      <th>...</th>\n",
       "      <td>...</td>\n",
       "      <td>...</td>\n",
       "    </tr>\n",
       "    <tr>\n",
       "      <th>250301</th>\n",
       "      <td>0.0</td>\n",
       "      <td>0.0</td>\n",
       "    </tr>\n",
       "    <tr>\n",
       "      <th>250302</th>\n",
       "      <td>0.0</td>\n",
       "      <td>0.0</td>\n",
       "    </tr>\n",
       "    <tr>\n",
       "      <th>250303</th>\n",
       "      <td>0.0</td>\n",
       "      <td>0.0</td>\n",
       "    </tr>\n",
       "    <tr>\n",
       "      <th>250304</th>\n",
       "      <td>0.0</td>\n",
       "      <td>0.0</td>\n",
       "    </tr>\n",
       "    <tr>\n",
       "      <th>250305</th>\n",
       "      <td>0.0</td>\n",
       "      <td>0.0</td>\n",
       "    </tr>\n",
       "  </tbody>\n",
       "</table>\n",
       "<p>250306 rows × 2 columns</p>\n",
       "</div>"
      ],
      "text/plain": [
       "        balance_due  payment_amount\n",
       "0             305.0             0.0\n",
       "1              75.0           780.0\n",
       "2               0.0             0.0\n",
       "3               0.0             0.0\n",
       "4               0.0             0.0\n",
       "...             ...             ...\n",
       "250301          0.0             0.0\n",
       "250302          0.0             0.0\n",
       "250303          0.0             0.0\n",
       "250304          0.0             0.0\n",
       "250305          0.0             0.0\n",
       "\n",
       "[250306 rows x 2 columns]"
      ]
     },
     "execution_count": 286,
     "metadata": {},
     "output_type": "execute_result"
    }
   ],
   "source": [
    "tr_data = test_data[['balance_due','payment_amount']]\n",
    "tr_data"
   ]
  },
  {
   "cell_type": "code",
   "execution_count": 287,
   "metadata": {},
   "outputs": [],
   "source": [
    "from sklearn import preprocessing "
   ]
  },
  {
   "cell_type": "code",
   "execution_count": 288,
   "metadata": {},
   "outputs": [
    {
     "name": "stdout",
     "output_type": "stream",
     "text": [
      "(250306, 9)\n"
     ]
    }
   ],
   "source": [
    "#Создаём генератор полиномиальных признаков\n",
    "poly = preprocessing.PolynomialFeatures(degree=3, include_bias=False)\n",
    "poly.fit(tr_data)\n",
    "#Генерируем полиномиальные признаки для тренировочной выборки\n",
    "X = poly.transform(tr_data)\n",
    "#Выводим результирующие размерности таблиц\n",
    "print(X.shape)"
   ]
  },
  {
   "cell_type": "code",
   "execution_count": 289,
   "metadata": {},
   "outputs": [
    {
     "name": "stdout",
     "output_type": "stream",
     "text": [
      "5\n",
      "2042000980.3445697\n"
     ]
    }
   ],
   "source": [
    "n_max = 0\n",
    "max = 0\n",
    "for n in range(len(X[0])):\n",
    "    if X[:,n].mean() > max:\n",
    "        max = X[:,n].mean()\n",
    "        n_max = n\n",
    "print(n_max)\n",
    "print(max)"
   ]
  },
  {
   "cell_type": "code",
   "execution_count": 290,
   "metadata": {},
   "outputs": [
    {
     "data": {
      "text/plain": [
       "5"
      ]
     },
     "execution_count": 290,
     "metadata": {},
     "output_type": "execute_result"
    }
   ],
   "source": [
    "n_max"
   ]
  },
  {
   "cell_type": "markdown",
   "metadata": {},
   "source": [
    "Задание 2.12.7\n",
    "0.0/2.0 points (graded)\n",
    "Загрузите данные train.csv, найдите признак, обозначающий дату, когда был выписан штраф. Найдите, сколько раз штраф был выписан на выходных и запишите это число в качестве ответа."
   ]
  },
  {
   "cell_type": "code",
   "execution_count": 291,
   "metadata": {},
   "outputs": [
    {
     "name": "stdout",
     "output_type": "stream",
     "text": [
      "<class 'pandas.core.frame.DataFrame'>\n",
      "RangeIndex: 250306 entries, 0 to 250305\n",
      "Data columns (total 34 columns):\n",
      " #   Column                      Non-Null Count   Dtype  \n",
      "---  ------                      --------------   -----  \n",
      " 0   ticket_id                   250306 non-null  int64  \n",
      " 1   agency_name                 250306 non-null  object \n",
      " 2   inspector_name              250306 non-null  object \n",
      " 3   violator_name               250272 non-null  object \n",
      " 4   violation_street_number     250306 non-null  float64\n",
      " 5   violation_street_name       250306 non-null  object \n",
      " 6   violation_zip_code          0 non-null       float64\n",
      " 7   mailing_address_str_number  246704 non-null  float64\n",
      " 8   mailing_address_str_name    250302 non-null  object \n",
      " 9   city                        250306 non-null  object \n",
      " 10  state                       250213 non-null  object \n",
      " 11  zip_code                    250305 non-null  object \n",
      " 12  non_us_str_code             3 non-null       object \n",
      " 13  country                     250306 non-null  object \n",
      " 14  ticket_issued_date          250306 non-null  object \n",
      " 15  hearing_date                237815 non-null  object \n",
      " 16  violation_code              250306 non-null  object \n",
      " 17  violation_description       250306 non-null  object \n",
      " 18  disposition                 250306 non-null  object \n",
      " 19  fine_amount                 250305 non-null  float64\n",
      " 20  admin_fee                   250306 non-null  float64\n",
      " 21  state_fee                   250306 non-null  float64\n",
      " 22  late_fee                    250306 non-null  float64\n",
      " 23  discount_amount             250306 non-null  float64\n",
      " 24  clean_up_cost               250306 non-null  float64\n",
      " 25  judgment_amount             250306 non-null  float64\n",
      " 26  payment_amount              250306 non-null  float64\n",
      " 27  balance_due                 250306 non-null  float64\n",
      " 28  payment_date                41113 non-null   object \n",
      " 29  payment_status              250306 non-null  object \n",
      " 30  collection_status           36897 non-null   object \n",
      " 31  grafitti_status             1 non-null       object \n",
      " 32  compliance_detail           250306 non-null  object \n",
      " 33  compliance                  159880 non-null  float64\n",
      "dtypes: float64(13), int64(1), object(20)\n",
      "memory usage: 64.9+ MB\n"
     ]
    }
   ],
   "source": [
    "test_data.info()"
   ]
  },
  {
   "cell_type": "code",
   "execution_count": 292,
   "metadata": {},
   "outputs": [],
   "source": [
    "test_data['ticket_issued_date'] = pd.to_datetime(test_data['ticket_issued_date'])"
   ]
  },
  {
   "cell_type": "code",
   "execution_count": 293,
   "metadata": {},
   "outputs": [],
   "source": [
    "test_data['weekday'] = test_data['ticket_issued_date'].apply(lambda x: 1 if (x.weekday() == 5) | (x.weekday() == 6) else 0)"
   ]
  },
  {
   "cell_type": "code",
   "execution_count": 294,
   "metadata": {},
   "outputs": [
    {
     "data": {
      "text/plain": [
       "0         1\n",
       "1         4\n",
       "2         0\n",
       "3         0\n",
       "4         0\n",
       "         ..\n",
       "250301    3\n",
       "250302    3\n",
       "250303    3\n",
       "250304    3\n",
       "250305    3\n",
       "Name: ticket_issued_date, Length: 250306, dtype: int32"
      ]
     },
     "execution_count": 294,
     "metadata": {},
     "output_type": "execute_result"
    }
   ],
   "source": [
    "test_data['ticket_issued_date'].dt.weekday"
   ]
  },
  {
   "cell_type": "code",
   "execution_count": 295,
   "metadata": {},
   "outputs": [
    {
     "data": {
      "text/plain": [
       "1620"
      ]
     },
     "execution_count": 295,
     "metadata": {},
     "output_type": "execute_result"
    }
   ],
   "source": [
    "test_data['weekday'].sum()"
   ]
  },
  {
   "cell_type": "markdown",
   "metadata": {},
   "source": [
    "Задание 2.12.8"
   ]
  },
  {
   "cell_type": "code",
   "execution_count": 296,
   "metadata": {},
   "outputs": [],
   "source": [
    "ecology_dict = {\n",
    "    'no data' : 0,\n",
    "    'poor' : 1,\n",
    "    'satisfactory' : 2,\n",
    "    'good' : 3,\n",
    "    'excellent' : 4\n",
    "}\n",
    "data.ecology = data.ecology.replace(to_replace=ecology_dict)\n",
    "round(data.ecology.mean(),2)"
   ]
  },
  {
   "cell_type": "code",
   "execution_count": 297,
   "metadata": {},
   "outputs": [
    {
     "data": {
      "text/plain": [
       "ecology\n",
       "1    4766\n",
       "3    3243\n",
       "2    2618\n",
       "4    2482\n",
       "0     543\n",
       "Name: count, dtype: int64"
      ]
     },
     "execution_count": 297,
     "metadata": {},
     "output_type": "execute_result"
    }
   ],
   "source": [
    "data.ecology.value_counts()"
   ]
  },
  {
   "cell_type": "code",
   "execution_count": 298,
   "metadata": {},
   "outputs": [
    {
     "data": {
      "text/plain": [
       "2.17"
      ]
     },
     "execution_count": 298,
     "metadata": {},
     "output_type": "execute_result"
    }
   ],
   "source": [
    "round(data.ecology.mean(),2)"
   ]
  },
  {
   "cell_type": "code",
   "execution_count": 299,
   "metadata": {},
   "outputs": [],
   "source": [
    "data = pd.concat([data, pd.get_dummies(data['sub_area'])], axis=1)\n",
    "data.info()"
   ]
  },
  {
   "cell_type": "code",
   "execution_count": 300,
   "metadata": {},
   "outputs": [
    {
     "name": "stdout",
     "output_type": "stream",
     "text": [
      "<class 'pandas.core.frame.DataFrame'>\n",
      "Index: 13652 entries, 0 to 30468\n",
      "Columns: 139 entries, id to Zjuzino\n",
      "dtypes: bool(83), float64(41), int64(14), object(1)\n",
      "memory usage: 7.0+ MB\n"
     ]
    }
   ],
   "source": [
    "data.info()"
   ]
  },
  {
   "cell_type": "markdown",
   "metadata": {},
   "source": [
    "Задание 2.14.5\n",
    "0.0/2.0 points (graded)\n",
    "Загрузите данные train.csv, найдите признак, обозначающий баланс. Уберите пропуски из этого признака и найдите выбросы с помощью межквартильного расстояния. Найдите разницу между максимальным и минимальным среди значений, которые остались после удаления выбросов."
   ]
  },
  {
   "cell_type": "code",
   "execution_count": 303,
   "metadata": {},
   "outputs": [
    {
     "data": {
      "text/plain": [
       "0"
      ]
     },
     "execution_count": 303,
     "metadata": {},
     "output_type": "execute_result"
    }
   ],
   "source": [
    "test_data['balance_due'].isna().sum()"
   ]
  },
  {
   "cell_type": "code",
   "execution_count": 265,
   "metadata": {},
   "outputs": [
    {
     "data": {
      "text/html": [
       "<div>\n",
       "<style scoped>\n",
       "    .dataframe tbody tr th:only-of-type {\n",
       "        vertical-align: middle;\n",
       "    }\n",
       "\n",
       "    .dataframe tbody tr th {\n",
       "        vertical-align: top;\n",
       "    }\n",
       "\n",
       "    .dataframe thead th {\n",
       "        text-align: right;\n",
       "    }\n",
       "</style>\n",
       "<table border=\"1\" class=\"dataframe\">\n",
       "  <thead>\n",
       "    <tr style=\"text-align: right;\">\n",
       "      <th></th>\n",
       "      <th>ticket_id</th>\n",
       "      <th>agency_name</th>\n",
       "      <th>inspector_name</th>\n",
       "      <th>violator_name</th>\n",
       "      <th>violation_street_number</th>\n",
       "      <th>violation_street_name</th>\n",
       "      <th>violation_zip_code</th>\n",
       "      <th>mailing_address_str_number</th>\n",
       "      <th>mailing_address_str_name</th>\n",
       "      <th>city</th>\n",
       "      <th>...</th>\n",
       "      <th>judgment_amount</th>\n",
       "      <th>payment_amount</th>\n",
       "      <th>balance_due</th>\n",
       "      <th>payment_date</th>\n",
       "      <th>payment_status</th>\n",
       "      <th>collection_status</th>\n",
       "      <th>grafitti_status</th>\n",
       "      <th>compliance_detail</th>\n",
       "      <th>compliance</th>\n",
       "      <th>weekday</th>\n",
       "    </tr>\n",
       "  </thead>\n",
       "  <tbody>\n",
       "    <tr>\n",
       "      <th>0</th>\n",
       "      <td>22056</td>\n",
       "      <td>Buildings, Safety Engineering &amp; Env Department</td>\n",
       "      <td>Sims, Martinzie</td>\n",
       "      <td>INVESTMENT INC., MIDWEST MORTGAGE</td>\n",
       "      <td>2900.0</td>\n",
       "      <td>TYLER</td>\n",
       "      <td>NaN</td>\n",
       "      <td>3.0</td>\n",
       "      <td>S. WICKER</td>\n",
       "      <td>CHICAGO</td>\n",
       "      <td>...</td>\n",
       "      <td>305.0</td>\n",
       "      <td>0.0</td>\n",
       "      <td>305.0</td>\n",
       "      <td>NaN</td>\n",
       "      <td>NO PAYMENT APPLIED</td>\n",
       "      <td>NaN</td>\n",
       "      <td>NaN</td>\n",
       "      <td>non-compliant by no payment</td>\n",
       "      <td>0.0</td>\n",
       "      <td>0</td>\n",
       "    </tr>\n",
       "    <tr>\n",
       "      <th>1</th>\n",
       "      <td>27586</td>\n",
       "      <td>Buildings, Safety Engineering &amp; Env Department</td>\n",
       "      <td>Williams, Darrin</td>\n",
       "      <td>Michigan, Covenant House</td>\n",
       "      <td>4311.0</td>\n",
       "      <td>CENTRAL</td>\n",
       "      <td>NaN</td>\n",
       "      <td>2959.0</td>\n",
       "      <td>Martin Luther King</td>\n",
       "      <td>Detroit</td>\n",
       "      <td>...</td>\n",
       "      <td>855.0</td>\n",
       "      <td>780.0</td>\n",
       "      <td>75.0</td>\n",
       "      <td>2005-06-02 00:00:00</td>\n",
       "      <td>PAID IN FULL</td>\n",
       "      <td>NaN</td>\n",
       "      <td>NaN</td>\n",
       "      <td>compliant by late payment within 1 month</td>\n",
       "      <td>1.0</td>\n",
       "      <td>0</td>\n",
       "    </tr>\n",
       "    <tr>\n",
       "      <th>2</th>\n",
       "      <td>22062</td>\n",
       "      <td>Buildings, Safety Engineering &amp; Env Department</td>\n",
       "      <td>Sims, Martinzie</td>\n",
       "      <td>SANDERS, DERRON</td>\n",
       "      <td>1449.0</td>\n",
       "      <td>LONGFELLOW</td>\n",
       "      <td>NaN</td>\n",
       "      <td>23658.0</td>\n",
       "      <td>P.O. BOX</td>\n",
       "      <td>DETROIT</td>\n",
       "      <td>...</td>\n",
       "      <td>0.0</td>\n",
       "      <td>0.0</td>\n",
       "      <td>0.0</td>\n",
       "      <td>NaN</td>\n",
       "      <td>NO PAYMENT APPLIED</td>\n",
       "      <td>NaN</td>\n",
       "      <td>NaN</td>\n",
       "      <td>not responsible by disposition</td>\n",
       "      <td>NaN</td>\n",
       "      <td>0</td>\n",
       "    </tr>\n",
       "    <tr>\n",
       "      <th>3</th>\n",
       "      <td>22084</td>\n",
       "      <td>Buildings, Safety Engineering &amp; Env Department</td>\n",
       "      <td>Sims, Martinzie</td>\n",
       "      <td>MOROSI, MIKE</td>\n",
       "      <td>1441.0</td>\n",
       "      <td>LONGFELLOW</td>\n",
       "      <td>NaN</td>\n",
       "      <td>5.0</td>\n",
       "      <td>ST. CLAIR</td>\n",
       "      <td>DETROIT</td>\n",
       "      <td>...</td>\n",
       "      <td>0.0</td>\n",
       "      <td>0.0</td>\n",
       "      <td>0.0</td>\n",
       "      <td>NaN</td>\n",
       "      <td>NO PAYMENT APPLIED</td>\n",
       "      <td>NaN</td>\n",
       "      <td>NaN</td>\n",
       "      <td>not responsible by disposition</td>\n",
       "      <td>NaN</td>\n",
       "      <td>0</td>\n",
       "    </tr>\n",
       "    <tr>\n",
       "      <th>4</th>\n",
       "      <td>22093</td>\n",
       "      <td>Buildings, Safety Engineering &amp; Env Department</td>\n",
       "      <td>Sims, Martinzie</td>\n",
       "      <td>NATHANIEL, NEAL</td>\n",
       "      <td>2449.0</td>\n",
       "      <td>CHURCHILL</td>\n",
       "      <td>NaN</td>\n",
       "      <td>7449.0</td>\n",
       "      <td>CHURCHILL</td>\n",
       "      <td>DETROIT</td>\n",
       "      <td>...</td>\n",
       "      <td>0.0</td>\n",
       "      <td>0.0</td>\n",
       "      <td>0.0</td>\n",
       "      <td>NaN</td>\n",
       "      <td>NO PAYMENT APPLIED</td>\n",
       "      <td>NaN</td>\n",
       "      <td>NaN</td>\n",
       "      <td>not responsible by disposition</td>\n",
       "      <td>NaN</td>\n",
       "      <td>0</td>\n",
       "    </tr>\n",
       "    <tr>\n",
       "      <th>...</th>\n",
       "      <td>...</td>\n",
       "      <td>...</td>\n",
       "      <td>...</td>\n",
       "      <td>...</td>\n",
       "      <td>...</td>\n",
       "      <td>...</td>\n",
       "      <td>...</td>\n",
       "      <td>...</td>\n",
       "      <td>...</td>\n",
       "      <td>...</td>\n",
       "      <td>...</td>\n",
       "      <td>...</td>\n",
       "      <td>...</td>\n",
       "      <td>...</td>\n",
       "      <td>...</td>\n",
       "      <td>...</td>\n",
       "      <td>...</td>\n",
       "      <td>...</td>\n",
       "      <td>...</td>\n",
       "      <td>...</td>\n",
       "      <td>...</td>\n",
       "    </tr>\n",
       "    <tr>\n",
       "      <th>250301</th>\n",
       "      <td>325555</td>\n",
       "      <td>Buildings, Safety Engineering &amp; Env Department</td>\n",
       "      <td>Bush, Wesley</td>\n",
       "      <td>WESTGATE TERRACE APARTMENTS LLC</td>\n",
       "      <td>10701.0</td>\n",
       "      <td>SANTA MARIA</td>\n",
       "      <td>NaN</td>\n",
       "      <td>1715.0</td>\n",
       "      <td>MEYERS</td>\n",
       "      <td>DETROIT</td>\n",
       "      <td>...</td>\n",
       "      <td>0.0</td>\n",
       "      <td>0.0</td>\n",
       "      <td>0.0</td>\n",
       "      <td>NaN</td>\n",
       "      <td>NO PAYMENT APPLIED</td>\n",
       "      <td>NaN</td>\n",
       "      <td>NaN</td>\n",
       "      <td>not responsible by disposition</td>\n",
       "      <td>NaN</td>\n",
       "      <td>0</td>\n",
       "    </tr>\n",
       "    <tr>\n",
       "      <th>250302</th>\n",
       "      <td>325557</td>\n",
       "      <td>Buildings, Safety Engineering &amp; Env Department</td>\n",
       "      <td>Bush, Wesley</td>\n",
       "      <td>WESTGATE TERRACE APARTMENTS LLC</td>\n",
       "      <td>10701.0</td>\n",
       "      <td>MEYERS RD</td>\n",
       "      <td>NaN</td>\n",
       "      <td>1715.0</td>\n",
       "      <td>MEYERS</td>\n",
       "      <td>DETROIT</td>\n",
       "      <td>...</td>\n",
       "      <td>0.0</td>\n",
       "      <td>0.0</td>\n",
       "      <td>0.0</td>\n",
       "      <td>NaN</td>\n",
       "      <td>NO PAYMENT APPLIED</td>\n",
       "      <td>NaN</td>\n",
       "      <td>NaN</td>\n",
       "      <td>not responsible by disposition</td>\n",
       "      <td>NaN</td>\n",
       "      <td>0</td>\n",
       "    </tr>\n",
       "    <tr>\n",
       "      <th>250303</th>\n",
       "      <td>325562</td>\n",
       "      <td>Buildings, Safety Engineering &amp; Env Department</td>\n",
       "      <td>Bush, Wesley</td>\n",
       "      <td>WESTGATE TERRACE APARTMENTS LLC</td>\n",
       "      <td>10701.0</td>\n",
       "      <td>MEYERS RD</td>\n",
       "      <td>NaN</td>\n",
       "      <td>1715.0</td>\n",
       "      <td>MEYERS</td>\n",
       "      <td>DETROIT</td>\n",
       "      <td>...</td>\n",
       "      <td>0.0</td>\n",
       "      <td>0.0</td>\n",
       "      <td>0.0</td>\n",
       "      <td>NaN</td>\n",
       "      <td>NO PAYMENT APPLIED</td>\n",
       "      <td>NaN</td>\n",
       "      <td>NaN</td>\n",
       "      <td>not responsible by disposition</td>\n",
       "      <td>NaN</td>\n",
       "      <td>0</td>\n",
       "    </tr>\n",
       "    <tr>\n",
       "      <th>250304</th>\n",
       "      <td>325559</td>\n",
       "      <td>Buildings, Safety Engineering &amp; Env Department</td>\n",
       "      <td>Bush, Wesley</td>\n",
       "      <td>WESTGATE TERRACE APARTMENTS LLC</td>\n",
       "      <td>10701.0</td>\n",
       "      <td>MEYERS RD</td>\n",
       "      <td>NaN</td>\n",
       "      <td>1715.0</td>\n",
       "      <td>MEYERS</td>\n",
       "      <td>DETROIT</td>\n",
       "      <td>...</td>\n",
       "      <td>0.0</td>\n",
       "      <td>0.0</td>\n",
       "      <td>0.0</td>\n",
       "      <td>NaN</td>\n",
       "      <td>NO PAYMENT APPLIED</td>\n",
       "      <td>NaN</td>\n",
       "      <td>NaN</td>\n",
       "      <td>not responsible by disposition</td>\n",
       "      <td>NaN</td>\n",
       "      <td>0</td>\n",
       "    </tr>\n",
       "    <tr>\n",
       "      <th>250305</th>\n",
       "      <td>325561</td>\n",
       "      <td>Buildings, Safety Engineering &amp; Env Department</td>\n",
       "      <td>Bush, Wesley</td>\n",
       "      <td>WESTGATE TERRACE APARTMENTS LLC</td>\n",
       "      <td>10701.0</td>\n",
       "      <td>MEYERS RD</td>\n",
       "      <td>NaN</td>\n",
       "      <td>1715.0</td>\n",
       "      <td>MEYERS</td>\n",
       "      <td>DETROIT</td>\n",
       "      <td>...</td>\n",
       "      <td>0.0</td>\n",
       "      <td>0.0</td>\n",
       "      <td>0.0</td>\n",
       "      <td>NaN</td>\n",
       "      <td>NO PAYMENT APPLIED</td>\n",
       "      <td>NaN</td>\n",
       "      <td>NaN</td>\n",
       "      <td>not responsible by disposition</td>\n",
       "      <td>NaN</td>\n",
       "      <td>0</td>\n",
       "    </tr>\n",
       "  </tbody>\n",
       "</table>\n",
       "<p>250306 rows × 35 columns</p>\n",
       "</div>"
      ],
      "text/plain": [
       "        ticket_id                                     agency_name   \n",
       "0           22056  Buildings, Safety Engineering & Env Department  \\\n",
       "1           27586  Buildings, Safety Engineering & Env Department   \n",
       "2           22062  Buildings, Safety Engineering & Env Department   \n",
       "3           22084  Buildings, Safety Engineering & Env Department   \n",
       "4           22093  Buildings, Safety Engineering & Env Department   \n",
       "...           ...                                             ...   \n",
       "250301     325555  Buildings, Safety Engineering & Env Department   \n",
       "250302     325557  Buildings, Safety Engineering & Env Department   \n",
       "250303     325562  Buildings, Safety Engineering & Env Department   \n",
       "250304     325559  Buildings, Safety Engineering & Env Department   \n",
       "250305     325561  Buildings, Safety Engineering & Env Department   \n",
       "\n",
       "          inspector_name                      violator_name   \n",
       "0        Sims, Martinzie  INVESTMENT INC., MIDWEST MORTGAGE  \\\n",
       "1       Williams, Darrin           Michigan, Covenant House   \n",
       "2        Sims, Martinzie                    SANDERS, DERRON   \n",
       "3        Sims, Martinzie                       MOROSI, MIKE   \n",
       "4        Sims, Martinzie                    NATHANIEL, NEAL   \n",
       "...                  ...                                ...   \n",
       "250301      Bush, Wesley    WESTGATE TERRACE APARTMENTS LLC   \n",
       "250302      Bush, Wesley    WESTGATE TERRACE APARTMENTS LLC   \n",
       "250303      Bush, Wesley    WESTGATE TERRACE APARTMENTS LLC   \n",
       "250304      Bush, Wesley    WESTGATE TERRACE APARTMENTS LLC   \n",
       "250305      Bush, Wesley    WESTGATE TERRACE APARTMENTS LLC   \n",
       "\n",
       "        violation_street_number violation_street_name  violation_zip_code   \n",
       "0                        2900.0                 TYLER                 NaN  \\\n",
       "1                        4311.0               CENTRAL                 NaN   \n",
       "2                        1449.0            LONGFELLOW                 NaN   \n",
       "3                        1441.0            LONGFELLOW                 NaN   \n",
       "4                        2449.0             CHURCHILL                 NaN   \n",
       "...                         ...                   ...                 ...   \n",
       "250301                  10701.0           SANTA MARIA                 NaN   \n",
       "250302                  10701.0             MEYERS RD                 NaN   \n",
       "250303                  10701.0             MEYERS RD                 NaN   \n",
       "250304                  10701.0             MEYERS RD                 NaN   \n",
       "250305                  10701.0             MEYERS RD                 NaN   \n",
       "\n",
       "        mailing_address_str_number mailing_address_str_name     city  ...   \n",
       "0                              3.0                S. WICKER  CHICAGO  ...  \\\n",
       "1                           2959.0       Martin Luther King  Detroit  ...   \n",
       "2                          23658.0                 P.O. BOX  DETROIT  ...   \n",
       "3                              5.0                ST. CLAIR  DETROIT  ...   \n",
       "4                           7449.0                CHURCHILL  DETROIT  ...   \n",
       "...                            ...                      ...      ...  ...   \n",
       "250301                      1715.0                   MEYERS  DETROIT  ...   \n",
       "250302                      1715.0                   MEYERS  DETROIT  ...   \n",
       "250303                      1715.0                   MEYERS  DETROIT  ...   \n",
       "250304                      1715.0                   MEYERS  DETROIT  ...   \n",
       "250305                      1715.0                   MEYERS  DETROIT  ...   \n",
       "\n",
       "       judgment_amount payment_amount balance_due         payment_date   \n",
       "0                305.0            0.0       305.0                  NaN  \\\n",
       "1                855.0          780.0        75.0  2005-06-02 00:00:00   \n",
       "2                  0.0            0.0         0.0                  NaN   \n",
       "3                  0.0            0.0         0.0                  NaN   \n",
       "4                  0.0            0.0         0.0                  NaN   \n",
       "...                ...            ...         ...                  ...   \n",
       "250301             0.0            0.0         0.0                  NaN   \n",
       "250302             0.0            0.0         0.0                  NaN   \n",
       "250303             0.0            0.0         0.0                  NaN   \n",
       "250304             0.0            0.0         0.0                  NaN   \n",
       "250305             0.0            0.0         0.0                  NaN   \n",
       "\n",
       "            payment_status collection_status grafitti_status   \n",
       "0       NO PAYMENT APPLIED               NaN             NaN  \\\n",
       "1             PAID IN FULL               NaN             NaN   \n",
       "2       NO PAYMENT APPLIED               NaN             NaN   \n",
       "3       NO PAYMENT APPLIED               NaN             NaN   \n",
       "4       NO PAYMENT APPLIED               NaN             NaN   \n",
       "...                    ...               ...             ...   \n",
       "250301  NO PAYMENT APPLIED               NaN             NaN   \n",
       "250302  NO PAYMENT APPLIED               NaN             NaN   \n",
       "250303  NO PAYMENT APPLIED               NaN             NaN   \n",
       "250304  NO PAYMENT APPLIED               NaN             NaN   \n",
       "250305  NO PAYMENT APPLIED               NaN             NaN   \n",
       "\n",
       "                               compliance_detail compliance  weekday  \n",
       "0                    non-compliant by no payment        0.0        0  \n",
       "1       compliant by late payment within 1 month        1.0        0  \n",
       "2                 not responsible by disposition        NaN        0  \n",
       "3                 not responsible by disposition        NaN        0  \n",
       "4                 not responsible by disposition        NaN        0  \n",
       "...                                          ...        ...      ...  \n",
       "250301            not responsible by disposition        NaN        0  \n",
       "250302            not responsible by disposition        NaN        0  \n",
       "250303            not responsible by disposition        NaN        0  \n",
       "250304            not responsible by disposition        NaN        0  \n",
       "250305            not responsible by disposition        NaN        0  \n",
       "\n",
       "[250306 rows x 35 columns]"
      ]
     },
     "execution_count": 265,
     "metadata": {},
     "output_type": "execute_result"
    }
   ],
   "source": [
    "test_data = test_data.dropna(subset=['balance_due'], axis=0)\n",
    "test_data"
   ]
  },
  {
   "cell_type": "code",
   "execution_count": 308,
   "metadata": {},
   "outputs": [],
   "source": [
    "def outliers_iqr_mod(data, feature, log_scale=False, left_iqr=1.5, right_iqr=1.5):\n",
    "    \"\"\"\n",
    "    Функция определения выбросов методом Тьюки\n",
    "    \"\"\"\n",
    "    if log_scale:\n",
    "        x = np.log(data[feature])\n",
    "    else:\n",
    "        x = data[feature]\n",
    "    quartile_1, quartile_3 = x.quantile(0.25), x.quantile(0.75),\n",
    "    iqr = quartile_3 - quartile_1\n",
    "    lower_bound = quartile_1 - (iqr * left_iqr)\n",
    "    upper_bound = quartile_3 + (iqr * right_iqr)\n",
    "    outliers = data[(x<lower_bound) | (x > upper_bound)]\n",
    "    cleaned = data[(x>lower_bound) & (x < upper_bound)]\n",
    "    return outliers, cleaned"
   ]
  },
  {
   "cell_type": "code",
   "execution_count": 309,
   "metadata": {},
   "outputs": [
    {
     "name": "stdout",
     "output_type": "stream",
     "text": [
      "Число выбросов по методу Тьюки: 9833\n",
      "Результирующее число записей: 240473\n"
     ]
    }
   ],
   "source": [
    "outliers, cleaned = outliers_iqr_mod(test_data, 'balance_due')\n",
    "print(f'Число выбросов по методу Тьюки: {outliers.shape[0]}')\n",
    "print(f'Результирующее число записей: {cleaned.shape[0]}')\n",
    "# продолжаем работу с очищенными данными"
   ]
  },
  {
   "cell_type": "code",
   "execution_count": 314,
   "metadata": {},
   "outputs": [
    {
     "data": {
      "text/plain": [
       "1201.3"
      ]
     },
     "execution_count": 314,
     "metadata": {},
     "output_type": "execute_result"
    }
   ],
   "source": [
    "cleaned['balance_due'].max() - cleaned['balance_due'].min()"
   ]
  }
 ],
 "metadata": {
  "kernelspec": {
   "display_name": "Python 3",
   "language": "python",
   "name": "python3"
  },
  "language_info": {
   "codemirror_mode": {
    "name": "ipython",
    "version": 3
   },
   "file_extension": ".py",
   "mimetype": "text/x-python",
   "name": "python",
   "nbconvert_exporter": "python",
   "pygments_lexer": "ipython3",
   "version": "3.10.4"
  }
 },
 "nbformat": 4,
 "nbformat_minor": 2
}
