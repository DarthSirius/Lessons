{
  "cells": [
    {
      "cell_type": "markdown",
      "metadata": {
        "id": "SVGEqntXHZeD"
      },
      "source": [
        "# 6.2 Стекинг"
      ]
    },
    {
      "cell_type": "code",
      "execution_count": 26,
      "metadata": {
        "id": "IREftSDTHZeE"
      },
      "outputs": [],
      "source": [
        "import pandas as pd\n",
        "import numpy as np\n",
        "from sklearn.model_selection import train_test_split, KFold\n",
        "from sklearn.linear_model import LogisticRegression, LinearRegression\n",
        "from sklearn.ensemble import RandomForestClassifier, GradientBoostingClassifier\n",
        "from sklearn.base import clone\n",
        "\n",
        "from sklearn.preprocessing import StandardScaler\n",
        "from sklearn.metrics import accuracy_score\n",
        "from tqdm import tqdm\n",
        "from matplotlib import pyplot as plt\n",
        "\n",
        "%matplotlib inline"
      ]
    },
    {
      "cell_type": "code",
      "execution_count": 27,
      "metadata": {
        "id": "1J0r6DYGHZeH"
      },
      "outputs": [],
      "source": [
        "df = pd.read_csv('https://archive.ics.uci.edu/ml/machine-learning-databases/covtype/covtype.data.gz', sep=',', header=None)[:10000]"
      ]
    },
    {
      "cell_type": "code",
      "execution_count": 28,
      "metadata": {
        "colab": {
          "base_uri": "https://localhost:8080/",
          "height": 158
        },
        "id": "i7SUi2FRHZeJ",
        "outputId": "a43c76fc-351d-422d-8835-8ef82350b647"
      },
      "outputs": [
        {
          "data": {
            "text/html": [
              "<div>\n",
              "<style scoped>\n",
              "    .dataframe tbody tr th:only-of-type {\n",
              "        vertical-align: middle;\n",
              "    }\n",
              "\n",
              "    .dataframe tbody tr th {\n",
              "        vertical-align: top;\n",
              "    }\n",
              "\n",
              "    .dataframe thead th {\n",
              "        text-align: right;\n",
              "    }\n",
              "</style>\n",
              "<table border=\"1\" class=\"dataframe\">\n",
              "  <thead>\n",
              "    <tr style=\"text-align: right;\">\n",
              "      <th></th>\n",
              "      <th>0</th>\n",
              "      <th>1</th>\n",
              "      <th>2</th>\n",
              "      <th>3</th>\n",
              "      <th>4</th>\n",
              "      <th>5</th>\n",
              "      <th>6</th>\n",
              "      <th>7</th>\n",
              "      <th>8</th>\n",
              "      <th>9</th>\n",
              "      <th>...</th>\n",
              "      <th>45</th>\n",
              "      <th>46</th>\n",
              "      <th>47</th>\n",
              "      <th>48</th>\n",
              "      <th>49</th>\n",
              "      <th>50</th>\n",
              "      <th>51</th>\n",
              "      <th>52</th>\n",
              "      <th>53</th>\n",
              "      <th>54</th>\n",
              "    </tr>\n",
              "  </thead>\n",
              "  <tbody>\n",
              "    <tr>\n",
              "      <th>0</th>\n",
              "      <td>2596</td>\n",
              "      <td>51</td>\n",
              "      <td>3</td>\n",
              "      <td>258</td>\n",
              "      <td>0</td>\n",
              "      <td>510</td>\n",
              "      <td>221</td>\n",
              "      <td>232</td>\n",
              "      <td>148</td>\n",
              "      <td>6279</td>\n",
              "      <td>...</td>\n",
              "      <td>0</td>\n",
              "      <td>0</td>\n",
              "      <td>0</td>\n",
              "      <td>0</td>\n",
              "      <td>0</td>\n",
              "      <td>0</td>\n",
              "      <td>0</td>\n",
              "      <td>0</td>\n",
              "      <td>0</td>\n",
              "      <td>5</td>\n",
              "    </tr>\n",
              "    <tr>\n",
              "      <th>1</th>\n",
              "      <td>2590</td>\n",
              "      <td>56</td>\n",
              "      <td>2</td>\n",
              "      <td>212</td>\n",
              "      <td>-6</td>\n",
              "      <td>390</td>\n",
              "      <td>220</td>\n",
              "      <td>235</td>\n",
              "      <td>151</td>\n",
              "      <td>6225</td>\n",
              "      <td>...</td>\n",
              "      <td>0</td>\n",
              "      <td>0</td>\n",
              "      <td>0</td>\n",
              "      <td>0</td>\n",
              "      <td>0</td>\n",
              "      <td>0</td>\n",
              "      <td>0</td>\n",
              "      <td>0</td>\n",
              "      <td>0</td>\n",
              "      <td>5</td>\n",
              "    </tr>\n",
              "    <tr>\n",
              "      <th>2</th>\n",
              "      <td>2804</td>\n",
              "      <td>139</td>\n",
              "      <td>9</td>\n",
              "      <td>268</td>\n",
              "      <td>65</td>\n",
              "      <td>3180</td>\n",
              "      <td>234</td>\n",
              "      <td>238</td>\n",
              "      <td>135</td>\n",
              "      <td>6121</td>\n",
              "      <td>...</td>\n",
              "      <td>0</td>\n",
              "      <td>0</td>\n",
              "      <td>0</td>\n",
              "      <td>0</td>\n",
              "      <td>0</td>\n",
              "      <td>0</td>\n",
              "      <td>0</td>\n",
              "      <td>0</td>\n",
              "      <td>0</td>\n",
              "      <td>2</td>\n",
              "    </tr>\n",
              "  </tbody>\n",
              "</table>\n",
              "<p>3 rows × 55 columns</p>\n",
              "</div>"
            ],
            "text/plain": [
              "     0    1   2    3   4     5    6    7    8     9   ...  45  46  47  48  49   \n",
              "0  2596   51   3  258   0   510  221  232  148  6279  ...   0   0   0   0   0  \\\n",
              "1  2590   56   2  212  -6   390  220  235  151  6225  ...   0   0   0   0   0   \n",
              "2  2804  139   9  268  65  3180  234  238  135  6121  ...   0   0   0   0   0   \n",
              "\n",
              "   50  51  52  53  54  \n",
              "0   0   0   0   0   5  \n",
              "1   0   0   0   0   5  \n",
              "2   0   0   0   0   2  \n",
              "\n",
              "[3 rows x 55 columns]"
            ]
          },
          "execution_count": 28,
          "metadata": {},
          "output_type": "execute_result"
        }
      ],
      "source": [
        "df.head(3)"
      ]
    },
    {
      "cell_type": "code",
      "execution_count": 29,
      "metadata": {
        "id": "lYKjBKSsHZeO"
      },
      "outputs": [],
      "source": [
        "features = list(range(0, 54))\n",
        "target = 54\n",
        "\n",
        "df = df[(df[target] == 1) | (df[target] == 2)]"
      ]
    },
    {
      "cell_type": "code",
      "execution_count": 30,
      "metadata": {
        "id": "muwO4M4sHZeQ"
      },
      "outputs": [],
      "source": [
        "cover_train, cover_test = train_test_split(df, test_size=0.5)\n",
        "\n",
        "cover_X_train, cover_y_train = cover_train[features], cover_train[target]\n",
        "cover_X_test, cover_y_test = cover_test[features], cover_test[target]"
      ]
    },
    {
      "cell_type": "code",
      "execution_count": 31,
      "metadata": {
        "id": "97GG-s4cHZeS"
      },
      "outputs": [],
      "source": [
        "scaler = StandardScaler()\n",
        "cover_X_train = scaler.fit_transform(cover_X_train)\n",
        "cover_X_test = scaler.transform(cover_X_test)"
      ]
    },
    {
      "cell_type": "markdown",
      "metadata": {
        "id": "lRnSXWqzKh3x"
      },
      "source": [
        "Stacking — еще один способ объединить несколько алгоритмов в один, который часто используется как в решении реальных задач из промышленной сферы, так и в конкурсах на платформах вроде Kaggle.  \n",
        "Подход использует понятие _базовых классификаторов_, каждый из которых независимо обучается на некотором (возможно одном и том же) множестве признаков, а также _мета-классификатора_, использующего предсказания базовых классификаторов как признаки.\n",
        "\n",
        "Для избежания переобучения будем разбивать обучающую выборку на фолды.  \n",
        "Например, фолды при разбиении на три части:  \n",
        "``==*``  \n",
        "``=*=``  \n",
        "``*==``  \n",
        "\n",
        "Это требуется для того, чтобы получить новые признаки (ответы алгоритмов на первом уровне) на всей обучающей выборке, т.е. ответы алгоритма на тех объектах, которые не были использованы во время обучения. В примере выше мы будем использовать ответы алгоритма, полученные на объектах звездочках. _Важно_: на каждом фолде мы обучаем алгоритм заново."
      ]
    },
    {
      "cell_type": "code",
      "execution_count": 32,
      "metadata": {
        "id": "hcomzpKcHZeU"
      },
      "outputs": [],
      "source": [
        "def compute_meta_feature(clf, X_train, X_test, y_train, cv):\n",
        "    \"\"\"\n",
        "    Computes meta-features using the classifier.\n",
        "    \n",
        "    :arg clf: scikit-learn classifier\n",
        "    :args X_train, y_train: training set\n",
        "    :arg X_test: testing set\n",
        "    :arg cv: cross-validation folding\n",
        "    \"\"\"\n",
        "    X_meta_train = np.zeros_like(y_train, dtype=np.float32)\n",
        "    for train_fold_index, predict_fold_index in cv.split(X_train):\n",
        "        X_fold_train, X_fold_predict = X_train[train_fold_index], X_train[predict_fold_index]\n",
        "        y_fold_train = y_train[train_fold_index]\n",
        "        \n",
        "        folded_clf = clone(clf)\n",
        "        folded_clf.fit(X_fold_train, y_fold_train)\n",
        "        X_meta_train[predict_fold_index] = folded_clf.predict_proba(X_fold_predict)[:, 1]\n",
        "    \n",
        "    meta_clf = clone(clf)\n",
        "    meta_clf.fit(X_train, y_train)\n",
        "    \n",
        "    X_meta_test = meta_clf.predict_proba(X_test)[:, 1]\n",
        "    \n",
        "    return X_meta_train, X_meta_test"
      ]
    },
    {
      "cell_type": "code",
      "execution_count": 33,
      "metadata": {
        "id": "IcKj44HrHZeW"
      },
      "outputs": [],
      "source": [
        "def generate_meta_features(classifiers, X_train, X_test, y_train, cv):\n",
        "    \"\"\"\n",
        "    Generates metafeatures using a list of classifiers.\n",
        "    \n",
        "    :arg classifiers: list of scikit-learn classifiers\n",
        "    :args X_train, y_train: training set\n",
        "    :arg X_test: testing set\n",
        "    :arg cv: cross-validation folding\n",
        "    \"\"\"\n",
        "    features = [\n",
        "        compute_meta_feature(clf, X_train, X_test, y_train, cv)\n",
        "        for clf in tqdm(classifiers)\n",
        "    ]\n",
        "    \n",
        "    stacked_features_train = np.vstack([\n",
        "        features_train for features_train, features_test in features\n",
        "    ]).T\n",
        "\n",
        "    stacked_features_test = np.vstack([\n",
        "        features_test for features_train, features_test in features\n",
        "    ]).T\n",
        "    \n",
        "    return stacked_features_train, stacked_features_test"
      ]
    },
    {
      "cell_type": "code",
      "execution_count": 35,
      "metadata": {
        "colab": {
          "base_uri": "https://localhost:8080/",
          "height": 35
        },
        "id": "Gbv7YXs8HZea",
        "outputId": "35cd300d-f3f9-4055-9967-3dc70b434e51"
      },
      "outputs": [
        {
          "data": {
            "text/plain": [
              "0.7963354474982381"
            ]
          },
          "execution_count": 35,
          "metadata": {},
          "output_type": "execute_result"
        }
      ],
      "source": [
        "clf = GradientBoostingClassifier(n_estimators=300)\n",
        "clf.fit(cover_X_train, cover_y_train)\n",
        "\n",
        "accuracy_score(clf.predict(cover_X_test), cover_y_test)"
      ]
    },
    {
      "cell_type": "code",
      "execution_count": 36,
      "metadata": {
        "colab": {
          "base_uri": "https://localhost:8080/",
          "height": 35
        },
        "id": "NmrhIV1aHZec",
        "outputId": "b9817055-7d57-46bd-f66e-8f0bff9c42b5"
      },
      "outputs": [
        {
          "name": "stderr",
          "output_type": "stream",
          "text": [
            "100%|██████████| 4/4 [00:24<00:00,  6.10s/it]\n"
          ]
        }
      ],
      "source": [
        "cv = KFold(n_splits=10, shuffle=True)\n",
        "\n",
        "stacked_features_train, stacked_features_test = generate_meta_features([\n",
        "    LogisticRegression(C=0.001, penalty='l1', solver='liblinear', max_iter=5000),\n",
        "    LogisticRegression(C=0.001, penalty='l2', solver='liblinear', max_iter=5000),  \n",
        "    RandomForestClassifier(n_estimators=300, n_jobs=-1),\n",
        "    GradientBoostingClassifier(n_estimators=300)\n",
        "], cover_X_train, cover_X_test, cover_y_train.values, cv)"
      ]
    },
    {
      "cell_type": "code",
      "execution_count": 37,
      "metadata": {
        "id": "KAqWN10ZHZee"
      },
      "outputs": [],
      "source": [
        "total_features_train = np.hstack([cover_X_train, stacked_features_train])\n",
        "total_features_test = np.hstack([cover_X_test, stacked_features_test])"
      ]
    },
    {
      "cell_type": "code",
      "execution_count": 38,
      "metadata": {
        "colab": {
          "base_uri": "https://localhost:8080/",
          "height": 35
        },
        "id": "B-wCuCCdHZef",
        "outputId": "1a3137a3-815b-47ea-9fa1-639d4b2bebc2"
      },
      "outputs": [
        {
          "name": "stderr",
          "output_type": "stream",
          "text": [
            "d:\\Python\\Python310\\lib\\site-packages\\sklearn\\linear_model\\_logistic.py:1173: FutureWarning: `penalty='none'`has been deprecated in 1.2 and will be removed in 1.4. To keep the past behaviour, set `penalty=None`.\n",
            "  warnings.warn(\n"
          ]
        },
        {
          "data": {
            "text/plain": [
              "0.8040873854827343"
            ]
          },
          "execution_count": 38,
          "metadata": {},
          "output_type": "execute_result"
        }
      ],
      "source": [
        "np.random.seed(42)\n",
        "clf = LogisticRegression(penalty='none', solver='lbfgs')\n",
        "clf.fit(stacked_features_train, cover_y_train)\n",
        "accuracy_score(clf.predict(stacked_features_test), cover_y_test)"
      ]
    },
    {
      "cell_type": "code",
      "execution_count": 39,
      "metadata": {},
      "outputs": [],
      "source": [
        "def compute_meta_feature_mean(clf, X_train, X_test, y_train, cv):\n",
        "    \"\"\"\n",
        "    Эта функция подсчитывает признаки для мета-классификатора. \n",
        "    Они являются вероятностями классов при решении задачи многоклассовой классификации.\n",
        "\n",
        "    :arg clf: классификатор\n",
        "    :args X_train, y_train: обучающая выборка\n",
        "    :arg X_test: признаки тестовой выборки\n",
        "    :arg cv: класс, генерирующий фолды (KFold)\n",
        "\n",
        "    :returns X_meta_train, X_meta_test: новые признаки для обучающей и тестовой выборок\n",
        "    \"\"\"\n",
        "# Напишите ваш код ниже\n",
        "    n_classes = len(np.unique(y_train))\n",
        "    X_meta_test = np.zeros((len(X_test), n_classes), dtype=np.float32)\n",
        "    X_meta_test = np.zeros(len(X_test), dtype=np.float32)\n",
        "    splits = 0\n",
        "    \n",
        "    for train_fold_index, predict_fold_index in cv.split(X_train):\n",
        "        X_fold_train, X_fold_predict = X_train[train_fold_index], X_train[predict_fold_index]\n",
        "        y_fold_train = y_train[train_fold_index]\n",
        "        splits += 1\n",
        "\n",
        "        folded_clf = clone(clf)\n",
        "        folded_clf.fit(X_fold_train, y_fold_train)\n",
        "\n",
        "        X_meta_train[predict_fold_index] = folded_clf.predict_proba(X_fold_predict)\n",
        "        X_meta_test[predict_fold_index] = meta_clf.predict_proba(X_test)\n",
        "\n",
        "    meta_clf = clone(clf)\n",
        "    meta_clf.fit(X_train, y_train)\n",
        "\n",
        "    X_meta_test = meta_clf.predict_proba(X_test)\n",
        "    X_meta_test = sum(X_meta_tests_array) / splits\n",
        "\n",
        "    return X_meta_train, X_meta_test"
      ]
    },
    {
      "cell_type": "markdown",
      "metadata": {},
      "source": [
        "Задание 6.6.2"
      ]
    },
    {
      "cell_type": "code",
      "execution_count": 51,
      "metadata": {},
      "outputs": [],
      "source": [
        "import pandas as pd\n",
        "import numpy as np\n",
        "\n",
        "from sklearn.ensemble import (AdaBoostClassifier, GradientBoostingClassifier,\n",
        "                              RandomForestClassifier, ExtraTreesClassifier)\n",
        "from sklearn.linear_model import LogisticRegression\n",
        "from sklearn.tree import DecisionTreeClassifier\n",
        "from sklearn.base import clone\n",
        "from sklearn.neighbors import KNeighborsClassifier\n",
        "\n",
        "from sklearn.model_selection import train_test_split, KFold, StratifiedKFold\n",
        "from sklearn.metrics import f1_score\n",
        "from sklearn.datasets import load_digits\n",
        "\n",
        "from tqdm import tqdm\n",
        "\n",
        "from sklearn.model_selection import RandomizedSearchCV\n",
        "from scipy.stats.distributions import randint"
      ]
    },
    {
      "cell_type": "code",
      "execution_count": 52,
      "metadata": {},
      "outputs": [],
      "source": [
        "dataset = load_digits()\n",
        "X, y = dataset['data'], dataset['target']\n",
        "\n",
        "X_train, X_test, y_train, y_test = train_test_split(X, y, random_state=42, test_size=0.2)"
      ]
    },
    {
      "cell_type": "code",
      "execution_count": 71,
      "metadata": {},
      "outputs": [],
      "source": [
        "def compute_meta_feature(clf, X_train, X_test, y_train, cv):\n",
        "    \n",
        "    n_classes = len(np.unique(y_train))\n",
        "    X_meta_train = np.zeros((len(y_train), n_classes), dtype=np.float32)\n",
        "\n",
        "    splits = cv.split(X_train, y_train)\n",
        "    for train_fold_index, predict_fold_index in splits:\n",
        "        X_fold_train, X_fold_predict = X_train[train_fold_index], X_train[predict_fold_index]\n",
        "        y_fold_train = y_train[train_fold_index]\n",
        "        \n",
        "        folded_clf = clone(clf)\n",
        "        folded_clf.fit(X_fold_train, y_fold_train)\n",
        "        \n",
        "        X_meta_train[predict_fold_index] = folded_clf.predict_proba(X_fold_predict)\n",
        "    \n",
        "    meta_clf = clone(clf)\n",
        "    meta_clf.fit(X_train, y_train)\n",
        "    \n",
        "    X_meta_test = meta_clf.predict_proba(X_test)\n",
        "    \n",
        "    return X_meta_train, X_meta_test"
      ]
    },
    {
      "cell_type": "code",
      "execution_count": 54,
      "metadata": {},
      "outputs": [],
      "source": [
        "def generate_meta_features(classifiers, X_train, X_test, y_train, cv):\n",
        "   \n",
        "    features = [\n",
        "        compute_meta_feature(clf, X_train, X_test, y_train, cv)\n",
        "        for clf in tqdm(classifiers)\n",
        "    ]\n",
        "    \n",
        "    stacked_features_train = np.hstack([\n",
        "        features_train for features_train, features_test in features\n",
        "    ])\n",
        "\n",
        "    stacked_features_test = np.hstack([\n",
        "        features_test for features_train, features_test in features\n",
        "    ])\n",
        "    \n",
        "    return stacked_features_train, stacked_features_test"
      ]
    },
    {
      "cell_type": "code",
      "execution_count": 55,
      "metadata": {},
      "outputs": [],
      "source": [
        "cv = KFold(n_splits=10, shuffle=True, random_state=42)\n",
        "\n",
        "def compute_metric(clf, X_train=X_train, y_train=y_train, X_test=X_test):\n",
        "    clf.fit(X_train, y_train)\n",
        "    y_test_pred = clf.predict(X_test)\n",
        "    return np.round(f1_score(y_test, y_test_pred, average='macro'), 6)"
      ]
    },
    {
      "cell_type": "markdown",
      "metadata": {},
      "source": [
        "Задание 6.6.2\n",
        "\n",
        "Используйте функцию generate_meta_features для стекинга следующих алгоритмов:\n",
        "логистическая регрессия с L1-регуляризацией, C=0.001, солвер — 'saga', схема работы мультиклассовой классификации — one-vs-rest, максимальное допустимое количество итераций — 2000\n",
        "логистическая регрессия с L2-регуляризацией, C=0.001, солвер — 'saga', схема работы мультиклассовой классификации — multinomial, максимальное допустимое количество итераций — 2000\n",
        "случайный лес из 300 деревьев\n",
        "градиентный бустинг из 200 деревьев\n",
        "Как мета-алгоритм используйте логистическую регрессию без регуляризации со схемой работы мультиклассовой классификации — auto и солвером 'lbfgs'.\n",
        "Посчитайте качество при помощи передачи новых признаков в функцию compute_metric."
      ]
    },
    {
      "cell_type": "code",
      "execution_count": null,
      "metadata": {},
      "outputs": [],
      "source": [
        "np.random.seed(42)"
      ]
    },
    {
      "cell_type": "code",
      "execution_count": 56,
      "metadata": {},
      "outputs": [],
      "source": [
        "estimators = [\n",
        "    LogisticRegression(penalty='l1', C=0.001, solver='saga', multi_class='ovr', max_iter=2000),\n",
        "    LogisticRegression(penalty='l2', C=0.001, solver='saga', multi_class='multinomial', max_iter=2000),\n",
        "    RandomForestClassifier(n_estimators=300),\n",
        "    GradientBoostingClassifier(n_estimators=200)\n",
        "]\n",
        "meta_lr = LogisticRegression(penalty=None, solver='lbfgs', multi_class='auto')"
      ]
    },
    {
      "cell_type": "code",
      "execution_count": 57,
      "metadata": {},
      "outputs": [
        {
          "name": "stderr",
          "output_type": "stream",
          "text": [
            "100%|██████████| 4/4 [03:43<00:00, 55.79s/it]"
          ]
        },
        {
          "name": "stdout",
          "output_type": "stream",
          "text": [
            "0.97591\n"
          ]
        },
        {
          "name": "stderr",
          "output_type": "stream",
          "text": [
            "\n"
          ]
        }
      ],
      "source": [
        "S_X_train, S_X_test = generate_meta_features(estimators, X_train, X_test, y_train, cv)\n",
        "print(compute_metric(meta_lr, X_train=S_X_train, X_test=S_X_test))"
      ]
    },
    {
      "cell_type": "markdown",
      "metadata": {},
      "source": [
        "Задание 6.6.3\n",
        "\n",
        "Используйте функцию generate_meta_features для стекинга следующих алгоритмов:\n",
        "случайный лес из 300 деревьев\n",
        "случайный лес из 200 экстремальных деревьев\n",
        "Как мета-алгоритм используйте логистическую регрессию без регуляризации со схемой работы мультиклассовой классификации — auto и солвером 'lbfgs'.\n",
        "Посчитайте качество при помощи передачи новых признаков в функцию compute_metric."
      ]
    },
    {
      "cell_type": "code",
      "execution_count": 60,
      "metadata": {},
      "outputs": [
        {
          "name": "stderr",
          "output_type": "stream",
          "text": [
            "100%|██████████| 2/2 [00:19<00:00,  9.63s/it]"
          ]
        },
        {
          "name": "stdout",
          "output_type": "stream",
          "text": [
            "0.980501\n"
          ]
        },
        {
          "name": "stderr",
          "output_type": "stream",
          "text": [
            "\n"
          ]
        }
      ],
      "source": [
        "estimators = [\n",
        "    RandomForestClassifier(n_estimators=300),\n",
        "    ExtraTreesClassifier(n_estimators=200)\n",
        "]\n",
        "meta_lr = LogisticRegression(penalty=None, solver='lbfgs', multi_class='auto')\n",
        "\n",
        "S_X_train, S_X_test = generate_meta_features(estimators, X_train, X_test, y_train, cv)\n",
        "print(compute_metric(meta_lr, X_train=S_X_train, X_test=S_X_test))"
      ]
    },
    {
      "cell_type": "markdown",
      "metadata": {},
      "source": [
        "Задание 6.6.4\n",
        "\n",
        "Используйте функцию generate_meta_features для стекинга следующих алгоритмов:\n",
        "метод ближайшего соседа (k-NN) со стандартными параметрами\n",
        "случайный лес из 300 экстремальных деревьев\n",
        "Как мета-алгоритм используйте логистическую регрессию без регуляризации со схемой работы мультиклассовой классификации — auto и солвером 'lbfgs'.\n",
        "Посчитайте качество при помощи передачи новых признаков в функцию compute_metric."
      ]
    },
    {
      "cell_type": "code",
      "execution_count": 49,
      "metadata": {},
      "outputs": [
        {
          "name": "stderr",
          "output_type": "stream",
          "text": [
            "100%|██████████| 2/2 [00:12<00:00,  6.10s/it]"
          ]
        },
        {
          "name": "stdout",
          "output_type": "stream",
          "text": [
            "0.989752\n"
          ]
        },
        {
          "name": "stderr",
          "output_type": "stream",
          "text": [
            "\n",
            "d:\\Python\\Python310\\lib\\site-packages\\sklearn\\linear_model\\_logistic.py:458: ConvergenceWarning: lbfgs failed to converge (status=1):\n",
            "STOP: TOTAL NO. of ITERATIONS REACHED LIMIT.\n",
            "\n",
            "Increase the number of iterations (max_iter) or scale the data as shown in:\n",
            "    https://scikit-learn.org/stable/modules/preprocessing.html\n",
            "Please also refer to the documentation for alternative solver options:\n",
            "    https://scikit-learn.org/stable/modules/linear_model.html#logistic-regression\n",
            "  n_iter_i = _check_optimize_result(\n"
          ]
        }
      ],
      "source": [
        "estimators = [\n",
        "    KNeighborsClassifier(),\n",
        "    ExtraTreesClassifier(n_estimators=300)\n",
        "]\n",
        "meta_lr = LogisticRegression(penalty=None, solver='lbfgs', multi_class='auto')\n",
        "\n",
        "S_X_train, S_X_test = generate_meta_features(estimators, X_train, X_test, y_train, cv)\n",
        "print(compute_metric(meta_lr, X_train=S_X_train, X_test=S_X_test))"
      ]
    },
    {
      "cell_type": "markdown",
      "metadata": {},
      "source": [
        "Задание 6.6.5\n",
        "\n",
        "Используйте функцию generate_meta_features для стекинга следующих алгоритмов:\n",
        "логистическая регрессия с L1-регуляризацией, C=0.001, солвер — 'saga', схема работы мультиклассовой классификации — one-vs-rest, максимальное допустимоей количество итераций — 2000\n",
        "метод ближайшего соседа со стандартными параметрами\n",
        "случайный лес из 300 экстремальных деревьев\n",
        "AdaBoost со стандартными параметрами\n",
        "Как мета-алгоритм используйте логистическую регрессию без регуляризации со схемой работы мультиклассовой классификации — auto и солвером 'lbfgs'.\n",
        "Посчитайте качество при помощи передачи новых признаков в функцию compute_metric."
      ]
    },
    {
      "cell_type": "code",
      "execution_count": 59,
      "metadata": {},
      "outputs": [
        {
          "name": "stderr",
          "output_type": "stream",
          "text": [
            "100%|██████████| 4/4 [00:55<00:00, 13.95s/it]"
          ]
        },
        {
          "name": "stdout",
          "output_type": "stream",
          "text": [
            "0.989752\n"
          ]
        },
        {
          "name": "stderr",
          "output_type": "stream",
          "text": [
            "\n"
          ]
        }
      ],
      "source": [
        "estimators = [\n",
        "    LogisticRegression(penalty='l1', C=0.001, solver='saga', multi_class='ovr', max_iter=2000),\n",
        "    KNeighborsClassifier(),\n",
        "    ExtraTreesClassifier(n_estimators=300),\n",
        "    AdaBoostClassifier()\n",
        "]\n",
        "meta_lr = LogisticRegression(penalty=None, solver='lbfgs', multi_class='auto')\n",
        "\n",
        "S_X_train, S_X_test = generate_meta_features(estimators, X_train, X_test, y_train, cv)\n",
        "print(compute_metric(meta_lr, X_train=S_X_train, X_test=S_X_test))"
      ]
    },
    {
      "cell_type": "markdown",
      "metadata": {},
      "source": [
        "Задание 6.6.6"
      ]
    },
    {
      "cell_type": "code",
      "execution_count": 63,
      "metadata": {},
      "outputs": [
        {
          "name": "stderr",
          "output_type": "stream",
          "text": [
            "100%|██████████| 2/2 [00:45<00:00, 22.87s/it]"
          ]
        },
        {
          "name": "stdout",
          "output_type": "stream",
          "text": [
            "0.982341\n"
          ]
        },
        {
          "name": "stderr",
          "output_type": "stream",
          "text": [
            "\n"
          ]
        }
      ],
      "source": [
        "estimators = [\n",
        "    RandomForestClassifier(n_estimators=300),\n",
        "    ExtraTreesClassifier(n_estimators=300)\n",
        "]\n",
        "meta_lr = LogisticRegression(penalty=None, solver='lbfgs', multi_class='auto')\n",
        "\n",
        "S_X_train, S_X_test = generate_meta_features(estimators, X_train, X_test, y_train, cv)\n",
        "print(compute_metric(meta_lr, X_train=S_X_train, X_test=S_X_test))"
      ]
    },
    {
      "cell_type": "markdown",
      "metadata": {},
      "source": [
        "Задание 6.6.7\n",
        "\n",
        "В предыдущей задаче измените 10 фолдов на 20. Укажите полученное качество."
      ]
    },
    {
      "cell_type": "code",
      "execution_count": null,
      "metadata": {},
      "outputs": [],
      "source": [
        "estimators = [\n",
        "    RandomForestClassifier(n_estimators=300),\n",
        "    ExtraTreesClassifier(n_estimators=300)\n",
        "]\n",
        "meta_lr = LogisticRegression(penalty=None, solver='lbfgs', multi_class='auto')\n",
        "\n",
        "cv = KFold(n_splits=20, shuffle=True, random_state=42)\n",
        "S_X_train, S_X_test = generate_meta_features(estimators, X_train, X_test, y_train, cv)\n",
        "print(compute_metric(meta_lr, X_train=S_X_train, X_test=S_X_test))"
      ]
    },
    {
      "cell_type": "markdown",
      "metadata": {},
      "source": [
        "Задание 6.6.8\n",
        "\n",
        "В предыдущей задаче укажите количество фолдов равным 5 и поменяйте мета-алгоритм на случайный лес со стандартными параметрами. Укажите полученное качество."
      ]
    },
    {
      "cell_type": "code",
      "execution_count": 67,
      "metadata": {},
      "outputs": [
        {
          "name": "stderr",
          "output_type": "stream",
          "text": [
            "100%|██████████| 2/2 [00:11<00:00,  5.87s/it]\n"
          ]
        },
        {
          "name": "stdout",
          "output_type": "stream",
          "text": [
            "0.982325\n"
          ]
        }
      ],
      "source": [
        "estimators = [\n",
        "    RandomForestClassifier(n_estimators=300),\n",
        "    ExtraTreesClassifier(n_estimators=300)\n",
        "]\n",
        "meta_lr = RandomForestClassifier()\n",
        "\n",
        "cv = KFold(n_splits=5, shuffle=True, random_state=42)\n",
        "S_X_train, S_X_test = generate_meta_features(estimators, X_train, X_test, y_train, cv)\n",
        "print(compute_metric(meta_lr, X_train=S_X_train, X_test=S_X_test))"
      ]
    },
    {
      "cell_type": "markdown",
      "metadata": {},
      "source": [
        "Задание 6.6.9\n",
        "\n",
        "В предыдущей задаче поменяйте мета-алгоритм на метод ближайших соседей (k-NN) со стандартными параметрами. Укажите полученное качество."
      ]
    },
    {
      "cell_type": "code",
      "execution_count": 65,
      "metadata": {},
      "outputs": [
        {
          "name": "stderr",
          "output_type": "stream",
          "text": [
            "100%|██████████| 2/2 [00:13<00:00,  6.73s/it]"
          ]
        },
        {
          "name": "stdout",
          "output_type": "stream",
          "text": [
            "0.98762\n"
          ]
        },
        {
          "name": "stderr",
          "output_type": "stream",
          "text": [
            "\n"
          ]
        }
      ],
      "source": [
        "estimators = [\n",
        "    RandomForestClassifier(n_estimators=300),\n",
        "    ExtraTreesClassifier(n_estimators=300)\n",
        "]\n",
        "meta_lr = KNeighborsClassifier()\n",
        "\n",
        "cv = KFold(n_splits=5, shuffle=True, random_state=42)\n",
        "S_X_train, S_X_test = generate_meta_features(estimators, X_train, X_test, y_train, cv)\n",
        "print(compute_metric(meta_lr, X_train=S_X_train, X_test=S_X_test))"
      ]
    },
    {
      "cell_type": "markdown",
      "metadata": {},
      "source": [
        "Задание 6.6.10\n",
        "\n",
        "В предыдущей задаче поменяйте мета-алгоритм на градиентный бустинг со стандартными параметрами. Укажите полученное качество."
      ]
    },
    {
      "cell_type": "code",
      "execution_count": 72,
      "metadata": {},
      "outputs": [
        {
          "name": "stderr",
          "output_type": "stream",
          "text": [
            "\n",
            "\n",
            "\u001b[A\u001b[A\n",
            "\n",
            "\u001b[A\u001b[A\n",
            "\n",
            "100%|██████████| 2/2 [00:07<00:00,  3.79s/it]"
          ]
        },
        {
          "name": "stdout",
          "output_type": "stream",
          "text": [
            "0.98762\n"
          ]
        },
        {
          "name": "stderr",
          "output_type": "stream",
          "text": [
            "\n"
          ]
        }
      ],
      "source": [
        "estimators = [\n",
        "    RandomForestClassifier(n_estimators=300),\n",
        "    ExtraTreesClassifier(n_estimators=300)\n",
        "]\n",
        "meta_lr = GradientBoostingClassifier()\n",
        "\n",
        "cv = KFold(n_splits=5, shuffle=True, random_state=42)\n",
        "S_X_train, S_X_test = generate_meta_features(estimators, X_train, X_test, y_train, cv)\n",
        "print(compute_metric(meta_lr, X_train=S_X_train, X_test=S_X_test))"
      ]
    },
    {
      "cell_type": "markdown",
      "metadata": {},
      "source": [
        "Задание 6.6.11"
      ]
    },
    {
      "cell_type": "code",
      "execution_count": null,
      "metadata": {},
      "outputs": [],
      "source": [
        "cv = StratifiedKFold(n_splits=3, shuffle=True, random_state=42)"
      ]
    },
    {
      "cell_type": "code",
      "execution_count": null,
      "metadata": {},
      "outputs": [],
      "source": [
        "estimators = [\n",
        "    RandomForestClassifier(n_estimators=300, criterion='gini', max_depth=24),\n",
        "    ExtraTreesClassifier(n_estimators=300)\n",
        "]\n",
        "meta_lr = ExtraTreesClassifier(n_estimators=100)\n",
        "\n",
        "cv = StratifiedKFold(n_splits=3, shuffle=True, random_state=42)\n",
        "S_X_train, S_X_test = generate_meta_features(estimators, X_train, X_test, y_train, cv)\n",
        "print(compute_metric(meta_lr, X_train=S_X_train, X_test=S_X_test))"
      ]
    },
    {
      "cell_type": "markdown",
      "metadata": {},
      "source": [
        "Задание 6.6.12\n",
        "\n",
        "Обучите на тренировочной выборке следующие алгоритмы:\n",
        "случайный лес из 300 деревьев, критерий Джини, максимальная глубина — 24\n",
        "случайный лес из 300 экстремальных деревьев\n",
        "логистическую регрессию со стандартными параметрами\n",
        "Усредните их ответы на тестовой выборке и посчитайте качество аналогично функции compute_metric (F1-score с макро-усреднением, округленный до 6 знака)."
      ]
    },
    {
      "cell_type": "code",
      "execution_count": 100,
      "metadata": {},
      "outputs": [
        {
          "name": "stderr",
          "output_type": "stream",
          "text": [
            "d:\\Python\\Python310\\lib\\site-packages\\sklearn\\linear_model\\_logistic.py:458: ConvergenceWarning: lbfgs failed to converge (status=1):\n",
            "STOP: TOTAL NO. of ITERATIONS REACHED LIMIT.\n",
            "\n",
            "Increase the number of iterations (max_iter) or scale the data as shown in:\n",
            "    https://scikit-learn.org/stable/modules/preprocessing.html\n",
            "Please also refer to the documentation for alternative solver options:\n",
            "    https://scikit-learn.org/stable/modules/linear_model.html#logistic-regression\n",
            "  n_iter_i = _check_optimize_result(\n"
          ]
        }
      ],
      "source": [
        "y_pred_1 = RandomForestClassifier(n_estimators=300, criterion='gini', max_depth=24).fit(X_train, y_train).predict(X_test)\n",
        "y_pred_2 = ExtraTreesClassifier(n_estimators=100).fit(X_train, y_train).predict(X_test)\n",
        "y_pred_3 = LogisticRegression().fit(X_train, y_train).predict(X_test)\n",
        "y_test_pred = np.round((y_pred_1 + y_pred_2 + y_pred_3) / 3).astype(int)"
      ]
    },
    {
      "cell_type": "code",
      "execution_count": 101,
      "metadata": {},
      "outputs": [
        {
          "data": {
            "text/plain": [
              "0.961905"
            ]
          },
          "execution_count": 101,
          "metadata": {},
          "output_type": "execute_result"
        }
      ],
      "source": [
        "np.round(f1_score(y_test, y_test_pred, average='macro'), 6)"
      ]
    }
  ],
  "metadata": {
    "colab": {
      "collapsed_sections": [],
      "name": "m6.5_Практика.ipynb",
      "provenance": []
    },
    "kernelspec": {
      "display_name": "Python 3",
      "language": "python",
      "name": "python3"
    },
    "language_info": {
      "codemirror_mode": {
        "name": "ipython",
        "version": 3
      },
      "file_extension": ".py",
      "mimetype": "text/x-python",
      "name": "python",
      "nbconvert_exporter": "python",
      "pygments_lexer": "ipython3",
      "version": "3.10.4"
    }
  },
  "nbformat": 4,
  "nbformat_minor": 0
}
