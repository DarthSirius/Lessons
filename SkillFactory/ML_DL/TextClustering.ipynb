{
  "cells": [
    {
      "cell_type": "markdown",
      "metadata": {
        "id": "m4swxWKdb2sL"
      },
      "source": [
        "# Кластеризация текстов"
      ]
    },
    {
      "cell_type": "code",
      "execution_count": 23,
      "metadata": {
        "id": "MKKyqBfLb2sS"
      },
      "outputs": [],
      "source": [
        "import numpy as np\n",
        "import matplotlib.pyplot as plt\n",
        "\n",
        "from sklearn import metrics\n",
        "from sklearn.cluster import KMeans\n",
        "from sklearn.datasets import fetch_20newsgroups\n",
        "from sklearn.feature_extraction.text import CountVectorizer"
      ]
    },
    {
      "cell_type": "code",
      "execution_count": 24,
      "metadata": {
        "colab": {
          "base_uri": "https://localhost:8080/"
        },
        "id": "y986XeGbb2sU",
        "outputId": "e67fd3ac-715d-42d1-dfcf-c60e73f4f71f"
      },
      "outputs": [
        {
          "name": "stdout",
          "output_type": "stream",
          "text": [
            "3903 документов\n",
            "4 категории\n"
          ]
        }
      ],
      "source": [
        "# Выбираем 4 категории новостей для легковесности примера\n",
        "categories = [\n",
        "    'rec.sport.hockey', # хоккей\n",
        "    'talk.politics.mideast', # политические новости о Ближнем Востоке\n",
        "    'comp.graphics', # компьютерная графика\n",
        "    'sci.crypt' # криптография\n",
        "]\n",
        "\n",
        "# Скачиваем набор данных\n",
        "dataset = fetch_20newsgroups(subset='all', categories=categories,\n",
        "                             shuffle=True, random_state=42)\n",
        "\n",
        "print(\"%d документов\" % len(dataset.data))\n",
        "print(\"%d категории\" % len(dataset.target_names))\n",
        "\n",
        "# Записываем значения категорий для каждой новости\n",
        "labels = dataset.target"
      ]
    },
    {
      "cell_type": "code",
      "execution_count": 27,
      "metadata": {},
      "outputs": [
        {
          "data": {
            "text/plain": [
              "'From: rdippold@qualcomm.com (Ron \"Asbestos\" Dippold)\\nSubject: Re: The battle is joined\\nOriginator: rdippold@qualcom.qualcomm.com\\nNntp-Posting-Host: qualcom.qualcomm.com\\nOrganization: Qualcomm, Inc., San Diego, CA\\nLines: 19\\n\\nIn article <1993Apr16.181040.9381@qualcomm.com> karn@servo.qualcomm.com (Phil Karn) writes:\\n>It looks like Dorothy Denning\\'s wrong-headed ideas have gotten to the\\n>Administration even sooner than we feared.\\n\\nIf the Administration is this far along, is it possible that the\\ngovernment been working on it for a while and has been using the\\nDennings to prime the pump, so to speak, or as the Judas goat?\\nWhether paid off, just gullible, or what, doesn\\'t really matter.\\n\\nIt might also be possible that the NSA / whoever has had the idea for\\nthis for quite a while, has been promoting it (Denning, et al) and\\nsiezed the new opportunity - a new administration who wants to spend\\nmore money on espionage than Bush did.\\n\\nWhatever, i\\'m not so sure that the cause/effect order is totally\\nobvious.\\n-- \\nYou will lose your \"Drug Free And Proud\" ribbon.  Two days later, you will\\ncatch a neighborhood kid smoking it.\\n'"
            ]
          },
          "execution_count": 27,
          "metadata": {},
          "output_type": "execute_result"
        }
      ],
      "source": [
        "dataset.data[2]"
      ]
    },
    {
      "cell_type": "markdown",
      "metadata": {
        "id": "l7WF38eFb2sV"
      },
      "source": [
        "## Предобработка данных"
      ]
    },
    {
      "cell_type": "code",
      "execution_count": 3,
      "metadata": {
        "colab": {
          "base_uri": "https://localhost:8080/"
        },
        "id": "xj_s3sGpb2sV",
        "outputId": "c9e52c1d-4825-4be5-810c-d9d85b94ee3e"
      },
      "outputs": [
        {
          "name": "stdout",
          "output_type": "stream",
          "text": [
            "From: c5ff@jupiter.sun.csd.unb.ca (COOK  Charlie)\n",
            "Subject: NHL Summary parse results for games played Mon, April 19, 1993\n",
            "Organization: University of New Brunswick\n",
            "Lines: 79\n",
            "\n",
            "Toronto                          1 1 1--3\n",
            "Detroit                          1 4 1--6\n",
            "First period\n",
            "     1, Detroit, Yzerman 1 (Gallant, Ciccarelli) 4:48.\n",
            "     2, Toronto, Cullen 1 (Clark, Gill) 10:44.\n",
            "Second period\n",
            "     3, Detroit, Sheppard 1 (Probert, Coffey) pp, 5:04.\n",
            "     4, Detroit, Burr 1 (Racine) sh, 6:42.\n",
            "     5, Detroit, Chiasson 1 (Coffey) pp,11:00.\n",
            "     6, Detroit, Howe 1 (Yzerman, Drake) 14:46.\n",
            "     7, Toronto, Gilmour 1 (Borschevsky, Ellett) pp, 19:59.\n",
            "Third period\n",
            "     8, Detroit, Racine 1 (Primeau, Drake) 5:10.\n",
            "     9, Toronto, Lefebvre 1 (Cullen, Pearson) 7:45.\n",
            "\n",
            "Detroit: 6    Power play: 6-2   Special goals:  pp: 2  sh: 1  Total: 3\n",
            "Scorer            G    A   Pts\n",
            "---------------  ---  ---  ---\n",
            "Burr               1    0    1\n",
            "Chiasson           1    0    1\n",
            "Ciccarelli         0    1    1\n",
            "Coffey             0    2    2\n",
            "Drake              0    2    2\n",
            "Gallant            0    1    1\n",
            "Howe               1    0    1\n",
            "Primeau            0    1    1\n",
            "Probert            0    1    1\n",
            "Racine             1    1    2\n",
            "Sheppard           1    0    1\n",
            "Yzerman            1    1    2\n",
            "\n",
            "Toronto: 3    Power play: 5-1\n",
            "Scorer            G    A   Pts\n",
            "---------------  ---  ---  ---\n",
            "Borschevsky        0    1    1\n",
            "Clark              0    1    1\n",
            "Cullen             1    1    2\n",
            "Ellett             0    1    1\n",
            "Gill               0    1    1\n",
            "Gilmour            1    0    1\n",
            "Lefebvre           1    0    1\n",
            "Pearson            0    1    1\n",
            "\n",
            "-----------------------------------------\n",
            "Winnipeg                         1 0 1--2\n",
            "Vancouver                        2 0 2--4\n",
            "First period\n",
            "     1, Vancouver, Adams 1 (Linden, Bure) pp, 1:23.\n",
            "     2, Vancouver, Craven 1 (Bure, Murzyn) 9:56.\n",
            "     3, Winnipeg, Steen 1 (Shannon, Housley) pp, 17:53.\n",
            "Second period\n",
            "     No scoring.\n",
            "Third period\n",
            "     4, Winnipeg, King 1 (Barnes) 3:43.\n",
            "     5, Vancouver, Linden 1(Courtnall, McLean) 12:16.\n",
            "     6, Vancouver, Ronning 1 (Courtnall) 18:31.\n",
            "\n",
            "Vancouver: 4    Power play: 6-1\n",
            "Scorer            G    A   Pts\n",
            "---------------  ---  ---  ---\n",
            "Adams              1    0    1\n",
            "Bure               0    2    2\n",
            "Courtnall          0    2    2\n",
            "Craven             1    0    1\n",
            "Linden             1    1    2\n",
            "McLean             0    1    1\n",
            "Murzyn             0    1    1\n",
            "Ronning            1    0    1\n",
            "\n",
            "Winnipeg: 2    Power play: 3-1\n",
            "Scorer            G    A   Pts\n",
            "---------------  ---  ---  ---\n",
            "Barnes             0    1    1\n",
            "Housley            0    1    1\n",
            "King               1    0    1\n",
            "Shannon            0    1    1\n",
            "Steen              1    0    1\n",
            "\n",
            "-----------------------------------------\n",
            "\n",
            "**************************************************\n",
            "\n",
            "From: golchowy@alchemy.chem.utoronto.ca (Gerald Olchowy)\n",
            "Subject: Re: Wings will win\n",
            "Organization: University of Toronto Chemistry Department\n",
            "Lines: 47\n",
            "\n",
            "In article <ragraca.735586800@vela.acs.oakland.edu> ragraca@vela.acs.oakland.edu (Randy A. Graca) writes:\n",
            ">\n",
            ">It's true that Vancouver did not make the playoffs for many a year before \n",
            ">Quinn came, but in those years the Smythe Division was a lot--I mean *a lot*--\n",
            ">tougher division than the Norris, also known as the \"Snorris\", division.\n",
            ">Vancouver had to play Edmonton and Calgary, both very legitimate Stanley\n",
            ">Cup contenders, eight times a year, while Detroit got to play such \n",
            ">powerhouses as Toronto and Minnesota.  Now, Edmonton is hardly even a force\n",
            ">in the league, and the Smythe even has the mighty San Jose sharks, while\n",
            "\n",
            "Them thar's fighting words...hardly a force...geez...miss the playoffs\n",
            "once in 15 years, and even after making the final four 3 times in the\n",
            "last five years, and everyone thinks its doomsville.\n",
            "\n",
            ">over this same period of time in which Vancouver was improving, so was \n",
            ">everybody in the Norris (except St. Louis).  Detroit had to improve just\n",
            ">to keep up with the competition in their division.  They had to improve *a\n",
            ">lot* to get better than their competition in the Norris.\n",
            ">\n",
            ">Bryan Murray inherited a team with very little talent.  For really good\n",
            ">players, they had Yzerman, Burr, and Probert, and that was about it.  (And\n",
            ">no doubt some will dispute whether Burr and Probert were that good). The\n",
            ">rest were either very green rookies or washed up veterans.  The only reason\n",
            ">they got as far as they did in the years before Murray came was due to the\n",
            ">coaching of Demers, who, at least at first, got every last ounce of effort\n",
            ">possible out of his team.  Then, even his coaching began to degrade.\n",
            ">\n",
            "\n",
            "Fedorov, Primeau, Kozlov, Lidstrom, Sillinger, Konstantinov, Drake,\n",
            "Kennedy, Racine, and Cheveldae were already in the pipeline due to\n",
            "Devellano...Murray inherited these guys...in addition to Yzerman,\n",
            "Probert, Carson, Chiasson, etc.\n",
            "\n",
            ">There are a number of reasons why Detroit wasn't in as bad a shape standings\n",
            ">wise when Murray took over as Vanc. was when Quinn took over, some of which\n",
            ">I outlined above, but Murray did not have any better personnel to work with\n",
            ">at the outset than did Quinn, with the exception of Yzerman.  And one player\n",
            ">cannot alone make a team into a Stanley Cup contender, as I'm sure everyone\n",
            ">reading this will agree.  \n",
            ">\n",
            "\n",
            "No...Quinn had far less...Murray took over Detroit at a time to \n",
            "take advantage of all of Devellano's good drafting...if Devellano\n",
            "had not given in to Demers request to make the Oates trade, he might\n",
            "still be GM.\n",
            "\n",
            "Gerald\n",
            "\n",
            "**************************************************\n",
            "\n",
            "From: rdippold@qualcomm.com (Ron \"Asbestos\" Dippold)\n",
            "Subject: Re: The battle is joined\n",
            "Originator: rdippold@qualcom.qualcomm.com\n",
            "Nntp-Posting-Host: qualcom.qualcomm.com\n",
            "Organization: Qualcomm, Inc., San Diego, CA\n",
            "Lines: 19\n",
            "\n",
            "In article <1993Apr16.181040.9381@qualcomm.com> karn@servo.qualcomm.com (Phil Karn) writes:\n",
            ">It looks like Dorothy Denning's wrong-headed ideas have gotten to the\n",
            ">Administration even sooner than we feared.\n",
            "\n",
            "If the Administration is this far along, is it possible that the\n",
            "government been working on it for a while and has been using the\n",
            "Dennings to prime the pump, so to speak, or as the Judas goat?\n",
            "Whether paid off, just gullible, or what, doesn't really matter.\n",
            "\n",
            "It might also be possible that the NSA / whoever has had the idea for\n",
            "this for quite a while, has been promoting it (Denning, et al) and\n",
            "siezed the new opportunity - a new administration who wants to spend\n",
            "more money on espionage than Bush did.\n",
            "\n",
            "Whatever, i'm not so sure that the cause/effect order is totally\n",
            "obvious.\n",
            "-- \n",
            "You will lose your \"Drug Free And Proud\" ribbon.  Two days later, you will\n",
            "catch a neighborhood kid smoking it.\n",
            "\n",
            "**************************************************\n",
            "\n",
            "From: mkapor@eff.org (Mitch Kapor)\n",
            "Subject: Re: Jerry Berman on pseudonymous privacy\n",
            "Originator: mkapor@eff.org\n",
            "Nntp-Posting-Host: eff.org\n",
            "Organization: The Electronic Frontier Foundation\n",
            "Lines: 21\n",
            "\n",
            "nobody@alumni.cco.caltech.edu correctly states Jerry Berman's 1985 view on\n",
            "privacy, but he mistakenly assumes that this represents Berman's 1993 view as\n",
            "EFF Executive Director.\n",
            "\n",
            "As one of the people who convinced Jerry that legal protections for privacy\n",
            "are insufficient, and that technical measures, especially public key\n",
            "cryptography, are also vitally necessary, I can tell you that Jerry and EFF\n",
            "are fully committed to this position.\n",
            "\n",
            "The previous poster is apparently unaware of a long series of EFF positions in\n",
            "support of this view.  I suggest those interested read EFF's position on\n",
            "Clipper or our other work in digital privacy.  Check ftp.eff.org for more\n",
            "details.\n",
            "\n",
            "One of the great things about human beings is that they are capable of change\n",
            "and evolution in their thinking.  The idea that crypto is critical to privacy\n",
            "is one which is no longer limited to certain net afficianados, but is \n",
            "spreading to parts of the public policy community in Washington.\n",
            "\n",
            "Mitch Kapor\n",
            "co-Founder, EFF \n",
            "\n",
            "**************************************************\n",
            "\n",
            "From: jfc@athena.mit.edu (John F Carr)\n",
            "Subject: Re: Screw the people, crypto is for hard-core hackers & spooks only\n",
            "Organization: Massachusetts Institute of Technology\n",
            "Lines: 16\n",
            "NNTP-Posting-Host: achates.mit.edu\n",
            "\n",
            "In article <19930419.155204.305@almaden.ibm.com>\n",
            "\tameline@vnet.IBM.COM (Ian Ameline) writes:\n",
            "\n",
            ">  I also believe that someone will reverse engineer the clipper chip,\n",
            ">and knowlege of the algorithm will likely be fairly widespread.\n",
            "\n",
            "The chip and algorithm are classified.  If you reverse engineer it and\n",
            "tell people, you are likely to go to jail.\n",
            "\n",
            "Perhaps some foreign governments or corporations could help us out by\n",
            "cracking the system outside the USA.  The US government could probably\n",
            "stop importation of clone hardware, but a software implementation\n",
            "should be practical.\n",
            "\n",
            "--\n",
            "    John Carr (jfc@athena.mit.edu)\n",
            "\n",
            "**************************************************\n",
            "\n",
            "From: B8HA000 <B8HA@MUSICB.MCGILL.CA>\n",
            "Subject: Zionism is Racism\n",
            "Lines: 8\n",
            "Nntp-Posting-Host: vm1.mcgill.ca\n",
            "Organization: McGill University\n",
            "\n",
            "In Re:Syria's Expansion, the author writes that the UN thought\n",
            "Zionism was Racism and that they were wrong.  They were correct\n",
            "the first time, Zionism is Racism and thankfully, the McGill Daily\n",
            "(the student newspaper at McGill) was proud enough to print an article\n",
            "saying so.  If you want a copy, send me mail.\n",
            "\n",
            "Steve\n",
            "\n",
            "\n",
            "**************************************************\n",
            "\n",
            "From: bc744@cleveland.Freenet.Edu (Mark Ira Kaufman)\n",
            "Subject: Re: Hamza Salah, the Humanist\n",
            "Organization: Case Western Reserve University, Cleveland, Ohio (USA)\n",
            "Lines: 8\n",
            "NNTP-Posting-Host: thor.ins.cwru.edu\n",
            "\n",
            "\n",
            "Mr. Salah, why are you such a homicidal racist?  Do you feel this\n",
            "same hatred towards Christans, or is it only Jews?  Are you from\n",
            "a family of racists?  Did you learn this racism in your home?  Or\n",
            "are you a self-made bigot?  How does one become such a racist?  I\n",
            "wonder what you think your racism will accomplish.  Are you under\n",
            "the impression that your racism will help bring peace in the mid-\n",
            "east?  I would like to know your thoughts on this.\n",
            "\n",
            "**************************************************\n",
            "\n",
            "From: rjc@hal.gnu.ai.mit.edu (Ray)\n",
            "Subject: Re: Once tapped, your code is no good any more.\n",
            "Distribution: na\n",
            "Organization: /etc/organization\n",
            "Lines: 27\n",
            "\n",
            "In article <C5pGFu.IA4@dscomsa.desy.de> hallam@zeus02.desy.de writes:\n",
            ">views would be to recruit them as spooks. They can be guaranteed to give\n",
            ">the government line when it counts. In US history it has been the \n",
            ">socialists such as myself who have been persecuted. \n",
            "\n",
            "  And in Russia, capitalists were persecuted for trading goods on the\n",
            "black market. And in the US, capitalist minded types are imprisoned and killed\n",
            "for things such as selling drugs, guns, pornography, and other victimless\n",
            "activities.  It doesn't matter whether you are socialist or capitalist,\n",
            "power and control are central to government. Since citizens can't be trusted to\n",
            "run their own affairs, the government must watch them.  (for their\n",
            "own good of course. I mean, with strong cryptography, citizens might <gasp!>\n",
            "start to hide things from the IRS, sell drugs/guns/pornography, and\n",
            "that cannot be allowed!)\n",
            "\n",
            ">trials. Ever seen Ed Meese pissed? I have, it was when he said that socialism\n",
            ">and communism were the same thing and brought the house down with laughter.\n",
            ">It took several minutes before we realised that he was serious.\n",
            "\n",
            "  Not very surprising to anyone who believes in \"hands off\" government. If\n",
            "you believe that your private life (both social and financial) are none of\n",
            "anyone else's business, the difference between socialism and communism is\n",
            "like the difference between murder by lethal injection or by\n",
            "chainsaw. The more centralized the economy is, the more potential\n",
            "abuses for accumulation of information on individuals. If you think\n",
            "credit companies are bad, ...  Well, I'm sure a democratic socialist society\n",
            "would vote for absolute privacy of all citizens -- NOT!\n",
            "\n",
            "**************************************************\n",
            "\n",
            "From: markus@octavia.anu.edu.au (Markus Buchhorn)\n",
            "Subject: Re: HDF readers/viewers\n",
            "Organization: Australian National University, Canberra\n",
            "Lines: 22\n",
            "Distribution: world\n",
            "NNTP-Posting-Host: 150.203.5.35\n",
            "Originator: markus@octavia\n",
            "\n",
            "\n",
            "I wrote...\n",
            "> \n",
            "> G'day all,\n",
            "> \n",
            "> Can anybody point me at a utility which will read/convert/crop/whatnot/\n",
            "> display HDF image files ? I've had a look at the HDF stuff under NCSA \n",
            "> and it must take an award for odd directory structure, strange storage\n",
            "> approaches and minimalist documentation :-)\n",
            "\n",
            "and it has since turned out that all the mirror sites I looked at were \n",
            "fooled by a restructuring at the original site - zaphod.ncsa.uiuc.edu - \n",
            "and hence were in a mess. That and a pointer to 'imconv' should get\n",
            "me started. Ta muchly.\n",
            "\n",
            "Cheers\n",
            "\tMarkus\n",
            "-- \n",
            "Markus Buchhorn, Parallel Computing Research Facility\n",
            "email = markus@octavia.anu.edu.au\n",
            "Australian National University, Canberra, 0200 , Australia.\n",
            "[International = +61 6, Australia = 06] [Phone = 2492930, Fax = 2490747]\n",
            "\n",
            "**************************************************\n",
            "\n",
            "From: \"dan mckinnon\" <dan.mckinnon@canrem.com>\n",
            "Subject: \"clipper chip\"\n",
            "Reply-To: \"dan mckinnon\" <dan.mckinnon@canrem.com>\n",
            "Organization: Canada Remote Systems\n",
            "Distribution: sci\n",
            "Lines: 30\n",
            "\n",
            "   I have lurked here a bit lately, and though some of the math is\n",
            "unknown to me, found it interesting. I thought I would post an article I\n",
            "found in the Saturday, April 17, 1993 Toronto Star:\n",
            "\n",
            "                  'CLIPPER CHIP' to protect privacy\n",
            "\n",
            "   Washington (REUTER) - President Bill CLinton announced yesterday a\n",
            "plan to plant a new \"Clipper Chip\" in every government telephone and\n",
            "computer line to prevent eavesdropping.\n",
            "\n",
            "   Eventually the chips, developed by the government's National\n",
            "Institute for Standards and Technology, would be used by commercial and\n",
            "private electronics communication users.\n",
            "\n",
            "   The White House said that to assure privacy, each device containing\n",
            "the encryption devices would be assigned two unique \"keys\" - numbers\n",
            "that will be needed by government agencies to decode messages.\n",
            "\n",
            "   The attorney-general has been assigned the task of arranging that the\n",
            "keys are deposited in two \"key-escrow\" data bases. Access to them would\n",
            "be limited to government officials with legal authorization to conduct a\n",
            "wiretap, the White House said in a statement.\n",
            "\n",
            "                              -30-\n",
            "\n",
            "\n",
            " Dan McKinnon\n",
            "--\n",
            "Canada Remote Systems - Toronto, Ontario\n",
            "416-629-7000/629-7044\n",
            "\n",
            "**************************************************\n",
            "\n"
          ]
        }
      ],
      "source": [
        "# Исходный набор данных, первые 10 примеров\n",
        "for i in range(10):\n",
        "    print(dataset.data[i], end='\\n' + '*' * 50 + '\\n\\n')"
      ]
    },
    {
      "cell_type": "code",
      "execution_count": 28,
      "metadata": {
        "colab": {
          "base_uri": "https://localhost:8080/"
        },
        "id": "sPHDwlK6b2sW",
        "outputId": "7d2b15ff-62ed-4777-884e-581c790cd3ea"
      },
      "outputs": [
        {
          "name": "stdout",
          "output_type": "stream",
          "text": [
            "['c5ff', 'jupiter', 'sun', 'csd', 'unb', 'ca', 'cook', 'charlie', 'subject', 'nhl', 'summary', 'parse', 'results', 'games', 'played', 'mon', 'april', '19', '1993', 'organization', 'university', 'new', 'brunswick', 'lines', '79', 'toronto', 'detroit', 'period', 'detroit', 'yzerman', 'gallant', 'ciccarelli', '48', 'toronto', 'cullen', 'clark', 'gill', '10', '44', 'second', 'period', 'detroit', 'sheppard', 'probert', 'coffey', 'pp', '04', 'detroit', 'burr', 'racine', 'sh', '42', 'detroit', 'chiasson', 'coffey', 'pp', '11', '00', 'detroit', 'howe', 'yzerman', 'drake', '14', '46', 'toronto', 'gilmour', 'borschevsky', 'ellett', 'pp', '19', '59', 'period', 'detroit', 'racine', 'primeau', 'drake', '10', 'toronto', 'lefebvre', 'cullen', 'pearson', '45', 'detroit', 'power', 'play', 'special', 'goals', 'pp', 'sh', 'total', 'scorer', 'pts', 'burr', 'chiasson', 'ciccarelli', 'coffey', 'drake', 'gallant', 'howe', 'primeau', 'probert', 'racine', 'sheppard', 'yzerman', 'toronto', 'power', 'play', 'scorer', 'pts', 'borschevsky', 'clark', 'cullen', 'ellett', 'gill', 'gilmour', 'lefebvre', 'pearson', 'winnipeg', 'vancouver', 'period', 'vancouver', 'adams', 'linden', 'bure', 'pp', '23', 'vancouver', 'craven', 'bure', 'murzyn', '56', 'winnipeg', 'steen', 'shannon', 'housley', 'pp', '17', '53', 'second', 'period', 'scoring', 'period', 'winnipeg', 'king', 'barnes', '43', 'vancouver', 'linden', 'courtnall', 'mclean', '12', '16', 'vancouver', 'ronning', 'courtnall', '18', '31', 'vancouver', 'power', 'play', 'scorer', 'pts', 'adams', 'bure', 'courtnall', 'craven', 'linden', 'mclean', 'murzyn', 'ronning', 'winnipeg', 'power', 'play', 'scorer', 'pts', 'barnes', 'housley', 'king', 'shannon', 'steen']\n",
            "\n",
            "['golchowy', 'alchemy', 'chem', 'utoronto', 'ca', 'gerald', 'olchowy', 'subject', 'wings', 'win', 'organization', 'university', 'toronto', 'chemistry', 'department', 'lines', '47', 'article', 'ragraca', '735586800', 'vela', 'acs', 'oakland', 'edu', 'ragraca', 'vela', 'acs', 'oakland', 'edu', 'randy', 'graca', 'writes', 'true', 'vancouver', 'did', 'make', 'playoffs', 'year', 'quinn', 'came', 'years', 'smythe', 'division', 'lot', 'mean', 'lot', 'tougher', 'division', 'norris', 'known', 'snorris', 'division', 'vancouver', 'play', 'edmonton', 'calgary', 'legitimate', 'stanley', 'cup', 'contenders', 'times', 'year', 'detroit', 'got', 'play', 'powerhouses', 'toronto', 'minnesota', 'edmonton', 'hardly', 'force', 'league', 'smythe', 'mighty', 'san', 'jose', 'sharks', 'thar', 'fighting', 'words', 'hardly', 'force', 'geez', 'miss', 'playoffs', '15', 'years', 'making', 'final', 'times', 'years', 'thinks', 'doomsville', 'period', 'time', 'vancouver', 'improving', 'everybody', 'norris', 'st', 'louis', 'detroit', 'improve', 'just', 'competition', 'division', 'improve', 'lot', 'better', 'competition', 'norris', 'bryan', 'murray', 'inherited', 'team', 'little', 'talent', 'really', 'good', 'players', 'yzerman', 'burr', 'probert', 'doubt', 'dispute', 'burr', 'probert', 'good', 'rest', 'green', 'rookies', 'washed', 'veterans', 'reason', 'got', 'far', 'did', 'years', 'murray', 'came', 'coaching', 'demers', 'got', 'ounce', 'effort', 'possible', 'team', 'coaching', 'began', 'degrade', 'fedorov', 'primeau', 'kozlov', 'lidstrom', 'sillinger', 'konstantinov', 'drake', 'kennedy', 'racine', 'cheveldae', 'pipeline', 'devellano', 'murray', 'inherited', 'guys', 'addition', 'yzerman', 'probert', 'carson', 'chiasson', 'number', 'reasons', 'detroit', 'wasn', 'bad', 'shape', 'standings', 'wise', 'murray', 'took', 'vanc', 'quinn', 'took', 'outlined', 'murray', 'did', 'better', 'personnel', 'work', 'outset', 'did', 'quinn', 'exception', 'yzerman', 'player', 'make', 'team', 'stanley', 'cup', 'contender', 'sure', 'reading', 'agree', 'quinn', 'far', 'murray', 'took', 'detroit', 'time', 'advantage', 'devellano', 'good', 'drafting', 'devellano', 'given', 'demers', 'request', 'make', 'oates', 'trade', 'gm', 'gerald']\n",
            "\n",
            "['rdippold', 'qualcomm', 'com', 'ron', 'asbestos', 'dippold', 'subject', 'battle', 'joined', 'originator', 'rdippold', 'qualcom', 'qualcomm', 'com', 'nntp', 'posting', 'host', 'qualcom', 'qualcomm', 'com', 'organization', 'qualcomm', 'san', 'diego', 'ca', 'lines', '19', 'article', '1993apr16', '181040', '9381', 'qualcomm', 'com', 'karn', 'servo', 'qualcomm', 'com', 'phil', 'karn', 'writes', 'looks', 'like', 'dorothy', 'denning', 'wrong', 'headed', 'ideas', 'gotten', 'administration', 'sooner', 'feared', 'administration', 'far', 'possible', 'government', 'working', 'using', 'dennings', 'prime', 'pump', 'speak', 'judas', 'goat', 'paid', 'just', 'gullible', 'doesn', 'really', 'matter', 'possible', 'nsa', 'idea', 'quite', 'promoting', 'denning', 'et', 'al', 'siezed', 'new', 'opportunity', 'new', 'administration', 'wants', 'spend', 'money', 'espionage', 'bush', 'did', 'sure', 'cause', 'effect', 'order', 'totally', 'obvious', 'lose', 'drug', 'free', 'proud', 'ribbon', 'days', 'later', 'catch', 'neighborhood', 'kid', 'smoking']\n",
            "\n",
            "['mkapor', 'eff', 'org', 'mitch', 'kapor', 'subject', 'jerry', 'berman', 'pseudonymous', 'privacy', 'originator', 'mkapor', 'eff', 'org', 'nntp', 'posting', 'host', 'eff', 'org', 'organization', 'electronic', 'frontier', 'foundation', 'lines', '21', 'alumni', 'cco', 'caltech', 'edu', 'correctly', 'states', 'jerry', 'berman', '1985', 'view', 'privacy', 'mistakenly', 'assumes', 'represents', 'berman', '1993', 'view', 'eff', 'executive', 'director', 'people', 'convinced', 'jerry', 'legal', 'protections', 'privacy', 'insufficient', 'technical', 'measures', 'especially', 'public', 'key', 'cryptography', 'vitally', 'necessary', 'tell', 'jerry', 'eff', 'fully', 'committed', 'position', 'previous', 'poster', 'apparently', 'unaware', 'long', 'series', 'eff', 'positions', 'support', 'view', 'suggest', 'interested', 'read', 'eff', 'position', 'clipper', 'work', 'digital', 'privacy', 'check', 'ftp', 'eff', 'org', 'details', 'great', 'things', 'human', 'beings', 'capable', 'change', 'evolution', 'thinking', 'idea', 'crypto', 'critical', 'privacy', 'longer', 'limited', 'certain', 'net', 'afficianados', 'spreading', 'parts', 'public', 'policy', 'community', 'washington', 'mitch', 'kapor', 'founder', 'eff']\n",
            "\n",
            "['jfc', 'athena', 'mit', 'edu', 'john', 'carr', 'subject', 'screw', 'people', 'crypto', 'hard', 'core', 'hackers', 'spooks', 'organization', 'massachusetts', 'institute', 'technology', 'lines', '16', 'nntp', 'posting', 'host', 'achates', 'mit', 'edu', 'article', '19930419', '155204', '305', 'almaden', 'ibm', 'com', 'ameline', 'vnet', 'ibm', 'com', 'ian', 'ameline', 'writes', 'believe', 'reverse', 'engineer', 'clipper', 'chip', 'knowlege', 'algorithm', 'likely', 'fairly', 'widespread', 'chip', 'algorithm', 'classified', 'reverse', 'engineer', 'tell', 'people', 'likely', 'jail', 'foreign', 'governments', 'corporations', 'help', 'cracking', 'outside', 'usa', 'government', 'probably', 'stop', 'importation', 'clone', 'hardware', 'software', 'implementation', 'practical', 'john', 'carr', 'jfc', 'athena', 'mit', 'edu']\n",
            "\n",
            "['b8ha000', 'b8ha', 'musicb', 'mcgill', 'ca', 'subject', 'zionism', 'racism', 'lines', 'nntp', 'posting', 'host', 'vm1', 'mcgill', 'ca', 'organization', 'mcgill', 'university', 'syria', 'expansion', 'author', 'writes', 'thought', 'zionism', 'racism', 'wrong', 'correct', 'time', 'zionism', 'racism', 'thankfully', 'mcgill', 'daily', 'student', 'newspaper', 'mcgill', 'proud', 'print', 'article', 'saying', 'want', 'copy', 'send', 'mail', 'steve']\n",
            "\n",
            "['bc744', 'cleveland', 'freenet', 'edu', 'mark', 'ira', 'kaufman', 'subject', 'hamza', 'salah', 'humanist', 'organization', 'case', 'western', 'reserve', 'university', 'cleveland', 'ohio', 'usa', 'lines', 'nntp', 'posting', 'host', 'thor', 'ins', 'cwru', 'edu', 'mr', 'salah', 'homicidal', 'racist', 'feel', 'hatred', 'christans', 'jews', 'family', 'racists', 'did', 'learn', 'racism', 'home', 'self', 'bigot', 'does', 'racist', 'wonder', 'think', 'racism', 'accomplish', 'impression', 'racism', 'help', 'bring', 'peace', 'mid', 'east', 'like', 'know', 'thoughts']\n",
            "\n",
            "['rjc', 'hal', 'gnu', 'ai', 'mit', 'edu', 'ray', 'subject', 'tapped', 'code', 'good', 'distribution', 'na', 'organization', 'organization', 'lines', '27', 'article', 'c5pgfu', 'ia4', 'dscomsa', 'desy', 'hallam', 'zeus02', 'desy', 'writes', 'views', 'recruit', 'spooks', 'guaranteed', 'government', 'line', 'counts', 'history', 'socialists', 'persecuted', 'russia', 'capitalists', 'persecuted', 'trading', 'goods', 'black', 'market', 'capitalist', 'minded', 'types', 'imprisoned', 'killed', 'things', 'selling', 'drugs', 'guns', 'pornography', 'victimless', 'activities', 'doesn', 'matter', 'socialist', 'capitalist', 'power', 'control', 'central', 'government', 'citizens', 'trusted', 'run', 'affairs', 'government', 'watch', 'good', 'course', 'mean', 'strong', 'cryptography', 'citizens', 'gasp', 'start', 'hide', 'things', 'irs', 'sell', 'drugs', 'guns', 'pornography', 'allowed', 'trials', 'seen', 'ed', 'meese', 'pissed', 'said', 'socialism', 'communism', 'thing', 'brought', 'house', 'laughter', 'took', 'minutes', 'realised', 'surprising', 'believes', 'hands', 'government', 'believe', 'private', 'life', 'social', 'financial', 'business', 'difference', 'socialism', 'communism', 'like', 'difference', 'murder', 'lethal', 'injection', 'chainsaw', 'centralized', 'economy', 'potential', 'abuses', 'accumulation', 'information', 'individuals', 'think', 'credit', 'companies', 'bad', 'sure', 'democratic', 'socialist', 'society', 'vote', 'absolute', 'privacy', 'citizens']\n",
            "\n",
            "['markus', 'octavia', 'anu', 'edu', 'au', 'markus', 'buchhorn', 'subject', 'hdf', 'readers', 'viewers', 'organization', 'australian', 'national', 'university', 'canberra', 'lines', '22', 'distribution', 'world', 'nntp', 'posting', 'host', '150', '203', '35', 'originator', 'markus', 'octavia', 'wrote', 'day', 'anybody', 'point', 'utility', 'read', 'convert', 'crop', 'whatnot', 'display', 'hdf', 'image', 'files', 've', 'look', 'hdf', 'stuff', 'ncsa', 'award', 'odd', 'directory', 'structure', 'strange', 'storage', 'approaches', 'minimalist', 'documentation', 'turned', 'mirror', 'sites', 'looked', 'fooled', 'restructuring', 'original', 'site', 'zaphod', 'ncsa', 'uiuc', 'edu', 'mess', 'pointer', 'imconv', 'started', 'ta', 'muchly', 'cheers', 'markus', 'markus', 'buchhorn', 'parallel', 'computing', 'research', 'facility', 'email', 'markus', 'octavia', 'anu', 'edu', 'au', 'australian', 'national', 'university', 'canberra', '0200', 'australia', 'international', '61', 'australia', '06', 'phone', '2492930', 'fax', '2490747']\n",
            "\n",
            "['dan', 'mckinnon', 'dan', 'mckinnon', 'canrem', 'com', 'subject', 'clipper', 'chip', 'reply', 'dan', 'mckinnon', 'dan', 'mckinnon', 'canrem', 'com', 'organization', 'canada', 'remote', 'systems', 'distribution', 'sci', 'lines', '30', 'lurked', 'bit', 'lately', 'math', 'unknown', 'interesting', 'thought', 'post', 'article', 'saturday', 'april', '17', '1993', 'toronto', 'star', 'clipper', 'chip', 'protect', 'privacy', 'washington', 'reuter', 'president', 'clinton', 'announced', 'yesterday', 'plan', 'plant', 'new', 'clipper', 'chip', 'government', 'telephone', 'computer', 'line', 'prevent', 'eavesdropping', 'eventually', 'chips', 'developed', 'government', 'national', 'institute', 'standards', 'technology', 'used', 'commercial', 'private', 'electronics', 'communication', 'users', 'white', 'house', 'said', 'assure', 'privacy', 'device', 'containing', 'encryption', 'devices', 'assigned', 'unique', 'keys', 'numbers', 'needed', 'government', 'agencies', 'decode', 'messages', 'attorney', 'general', 'assigned', 'task', 'arranging', 'keys', 'deposited', 'key', 'escrow', 'data', 'bases', 'access', 'limited', 'government', 'officials', 'legal', 'authorization', 'conduct', 'wiretap', 'white', 'house', 'said', 'statement', '30', 'dan', 'mckinnon', 'canada', 'remote', 'systems', 'toronto', 'ontario', '416', '629', '7000', '629', '7044']\n",
            "\n"
          ]
        }
      ],
      "source": [
        "# Создаём объект, который будет токенизировать данные\n",
        "analyzer = CountVectorizer(stop_words='english').build_analyzer()\n",
        "\n",
        "# Токенизируем наш набор данных\n",
        "docs = []\n",
        "for document in dataset.data:\n",
        "    docs.append(analyzer(document.replace('_', '')))\n",
        "\n",
        "# И посмотрим 10 первых примеров\n",
        "for i in range(10):\n",
        "    print(docs[i], end='\\n\\n')"
      ]
    },
    {
      "cell_type": "code",
      "execution_count": 29,
      "metadata": {
        "colab": {
          "base_uri": "https://localhost:8080/"
        },
        "id": "igJTO2Ysb2sX",
        "outputId": "5941366a-d2d4-4cae-a47a-471c63361fc9",
        "scrolled": true
      },
      "outputs": [
        {
          "data": {
            "text/plain": [
              "3903"
            ]
          },
          "execution_count": 29,
          "metadata": {},
          "output_type": "execute_result"
        }
      ],
      "source": [
        "# Проверим, что число документов осталось прежним\n",
        "len(docs)"
      ]
    },
    {
      "cell_type": "markdown",
      "metadata": {
        "id": "X27GZd-8b2sY"
      },
      "source": [
        "## Векторизация текстов"
      ]
    },
    {
      "cell_type": "code",
      "execution_count": null,
      "metadata": {},
      "outputs": [],
      "source": [
        "# Установка пакета gensim\n",
        "# !pip install -U gensim"
      ]
    },
    {
      "cell_type": "markdown",
      "metadata": {},
      "source": [
        "При работе в Google Colab обязательно нужно запустить код из ячейки выше, несмотря на то, что в Google Colab gensim уже предустановлен. Так gensim обновится до последней версии.  \n",
        "На данный момент в Google Colab уставнолена одна из прошлых версий модуля gensim, и поэтому на ней код ниже работать не будет."
      ]
    },
    {
      "cell_type": "code",
      "execution_count": 7,
      "metadata": {
        "id": "qgqicmb7b2sZ"
      },
      "outputs": [],
      "source": [
        "from gensim.models import Word2Vec\n",
        "\n",
        "# Обучаем модель векторайзера на нашем наборе данных\n",
        "# На выходе мы получим вектор признаков для каждого слова\n",
        "model = Word2Vec(docs, min_count=20, vector_size=50)\n",
        "\n",
        "# Наивный подход к созданию единого эмбеддинга для документа – средний эмбеддинг по словам\n",
        "def doc_vectorizer(doc, model):\n",
        "    doc_vector = []\n",
        "    num_words = 0\n",
        "    for word in doc:\n",
        "        try:\n",
        "            if num_words == 0:\n",
        "                doc_vector = model.wv[word]\n",
        "            else:\n",
        "                doc_vector = np.add(doc_vector, model.wv[word])\n",
        "            num_words += 1\n",
        "        except:\n",
        "            pass\n",
        "     \n",
        "    return np.asarray(doc_vector) / num_words\n",
        "\n",
        "# Составляем эмбеддинги для наших документов\n",
        "X = []\n",
        "for doc in docs:\n",
        "    X.append(doc_vectorizer(doc, model))"
      ]
    },
    {
      "cell_type": "code",
      "execution_count": 8,
      "metadata": {
        "colab": {
          "base_uri": "https://localhost:8080/"
        },
        "id": "9-ZvPfa2expv",
        "outputId": "c4a14c9d-b2d6-424e-9792-ac6758e2beff"
      },
      "outputs": [
        {
          "data": {
            "text/plain": [
              "[array([-1.5945852 , -0.01735318,  0.6384148 ,  1.0138096 ,  0.15294138,\n",
              "         0.17799762,  1.1111772 ,  0.69276553, -0.94529676,  0.01100266,\n",
              "        -0.06939604, -0.7379116 , -0.3019744 ,  0.30458826,  0.24958362,\n",
              "        -0.21969528, -0.19443607, -0.1227984 , -0.12639402, -0.3411768 ,\n",
              "        -0.06901117, -0.10662545,  1.1356869 , -0.58303416,  0.24052033,\n",
              "         0.3268939 , -0.91272295,  0.11441769, -0.22216935, -0.7225419 ,\n",
              "        -0.18143524,  0.2973199 ,  0.44625035,  0.37486956, -1.3156959 ,\n",
              "        -0.06783195, -0.27122077, -0.35078955,  0.5226894 , -0.77417004,\n",
              "         0.4517935 , -0.3060761 , -0.4351322 , -0.12928247,  0.38180402,\n",
              "         0.30901697, -0.6754955 , -1.0540525 , -0.3629237 ,  0.01162615],\n",
              "       dtype=float32),\n",
              " array([-1.2230061 , -0.12269469,  0.23116852,  0.70063734, -0.16017994,\n",
              "        -0.24494551,  0.86078745,  0.65415484, -0.7846805 , -0.0904557 ,\n",
              "        -0.4255348 , -0.7241577 , -0.3477594 ,  0.11045142, -0.2555372 ,\n",
              "        -0.3187787 ,  0.13416353, -0.2704511 , -0.2774852 ,  0.02032519,\n",
              "        -0.3860363 ,  0.64132404,  0.64708066, -0.17971365,  0.12362255,\n",
              "         0.14038141, -0.42740032,  0.39993232, -0.1188582 , -0.26380792,\n",
              "         0.22561319, -0.14769563,  0.6751054 ,  0.03519295, -0.86705583,\n",
              "        -0.35775822,  0.27664918, -0.15897147,  0.50005484, -0.22434814,\n",
              "         0.23425893, -0.18743354, -0.7355817 , -0.03619881,  0.5863863 ,\n",
              "        -0.09555796, -0.38748062, -0.47635767,  0.18409531,  0.23319083],\n",
              "       dtype=float32),\n",
              " array([-1.52446494e-01, -1.25382125e-01,  1.01644009e-01, -9.72867534e-02,\n",
              "        -1.02799255e-02, -2.18298212e-01,  3.26240093e-01,  4.00489360e-01,\n",
              "        -5.10091305e-01,  3.54306363e-02, -3.84978950e-01, -7.68498421e-01,\n",
              "        -6.77792281e-02,  4.84481454e-01, -3.28823149e-01,  4.47098464e-01,\n",
              "         7.17672229e-01,  5.16778350e-01, -6.93837702e-01, -2.86347747e-01,\n",
              "        -5.67863047e-01,  7.81203330e-01,  9.13673222e-01,  1.86793998e-01,\n",
              "         8.48908722e-02,  2.69122154e-01,  2.05573037e-01,  3.10137480e-01,\n",
              "        -1.31970823e-01,  2.11832201e-04,  5.18338144e-01, -3.89199376e-01,\n",
              "         5.11959493e-01,  8.59927163e-02, -2.79957682e-01, -1.41513720e-01,\n",
              "         8.36043775e-01, -2.54934281e-01,  2.72755533e-01, -4.12662536e-01,\n",
              "         1.95015281e-01, -3.75609785e-01, -4.39194888e-01,  1.06120706e-01,\n",
              "         1.02113402e+00,  8.99615213e-02, -9.61044058e-03, -2.45177746e-01,\n",
              "        -1.50974765e-01, -3.40300828e-01], dtype=float32),\n",
              " array([ 1.3651504e-01, -1.4544001e-01, -3.9006930e-02, -3.7192720e-01,\n",
              "        -3.2594717e-01, -3.3754784e-01,  2.0016262e-01,  2.6742324e-01,\n",
              "        -2.9152662e-01, -6.7509502e-02, -2.9470593e-01, -5.1754725e-01,\n",
              "        -1.0209153e-01,  3.4453240e-01, -7.6662558e-01,  6.2956440e-01,\n",
              "         6.5398073e-01,  2.8316849e-01, -6.4498472e-01, -4.7771853e-01,\n",
              "        -1.9520527e-01,  4.1141486e-01,  1.1078013e+00,  4.8460069e-01,\n",
              "        -2.6857287e-01,  3.2235143e-01,  3.6436367e-01, -2.8826112e-01,\n",
              "        -5.0069553e-01,  2.6174706e-01,  1.4452370e-01, -1.5833536e-01,\n",
              "         3.1867585e-01, -1.8406257e-01,  4.8295802e-01,  4.9670178e-01,\n",
              "         6.8352818e-01, -3.2667652e-01, -7.6088108e-02, -4.6168306e-01,\n",
              "         6.2371784e-01, -1.9173168e-01,  1.0177704e-04,  1.3624576e-01,\n",
              "         1.3054368e+00,  1.9323651e-01, -9.0978481e-02, -1.1852194e-01,\n",
              "        -6.8057939e-02,  2.7518462e-02], dtype=float32),\n",
              " array([-0.01772886, -0.19156283,  0.19862163, -0.22061005,  0.12238377,\n",
              "        -0.1690301 ,  0.40851122,  0.45403007, -0.1733763 ,  0.23605458,\n",
              "        -0.2471317 , -0.5689218 , -0.36393723,  0.8462788 , -0.68075794,\n",
              "         0.9645247 ,  0.4860427 ,  0.68822056, -0.94910187, -0.5897341 ,\n",
              "        -0.14008602,  0.85101086,  1.4516896 ,  0.4702802 ,  0.23038137,\n",
              "         0.10463417,  0.08365473,  0.07504534, -0.26954392, -0.24215177,\n",
              "         0.5663837 , -0.4463245 ,  0.7473873 ,  0.15162456, -0.01510753,\n",
              "         0.1957881 ,  1.0741483 , -0.2249904 ,  0.23847818, -0.5353594 ,\n",
              "         0.3786322 , -0.45512703, -0.11659019,  0.09631486,  1.019412  ,\n",
              "         0.37240595,  0.2364948 ,  0.12653373,  0.05336719, -0.22591774],\n",
              "       dtype=float32),\n",
              " array([-0.5465631 , -0.24272658,  0.4941348 , -0.11696251, -0.02128547,\n",
              "         0.07272908,  0.55874753,  0.3575417 , -0.66052234,  0.6654731 ,\n",
              "         0.04846976, -0.45909697, -0.141556  ,  0.5509225 , -0.17450993,\n",
              "         0.24122937,  0.74448764,  0.25797525, -0.91801405, -0.4906296 ,\n",
              "         0.3361405 ,  1.2729051 ,  1.293625  ,  0.20437638, -0.625859  ,\n",
              "         0.73167366,  0.07542536, -0.52281004,  0.03088655, -0.5108814 ,\n",
              "         0.5351068 ,  0.03503025,  0.3419943 ,  0.13150032,  0.29425472,\n",
              "        -0.69864047,  0.78609484,  0.19020216,  0.5500396 , -0.7459028 ,\n",
              "         0.13306236, -0.5639672 , -0.4703193 , -0.8067209 ,  1.1453001 ,\n",
              "        -0.25822738,  0.04765885, -0.55444425,  0.210897  , -0.47938138],\n",
              "       dtype=float32),\n",
              " array([-0.5213853 ,  0.07163952,  0.21696252, -0.10824695,  0.04094293,\n",
              "        -0.03329627,  0.48690325,  0.7419104 , -0.63399625,  0.55404204,\n",
              "         0.21113072, -0.41210192, -0.4412293 ,  0.43172193, -0.70781773,\n",
              "        -0.00172404,  0.4546871 , -0.11664999, -0.88426954, -0.29955217,\n",
              "         0.06124612,  1.0614268 ,  1.3134378 ,  0.3065677 , -0.29528236,\n",
              "         0.40933803, -0.4138862 , -0.2984511 ,  0.09525622, -0.25687593,\n",
              "         0.77688795, -0.20654583,  0.41458297,  0.03488959,  0.550473  ,\n",
              "        -0.2938546 ,  0.66026825,  0.06110304,  0.61144805, -0.58752966,\n",
              "         0.15581235, -0.55616593, -0.4717507 , -0.47132483,  0.769121  ,\n",
              "        -0.32137352,  0.1271852 , -0.28778586, -0.06113821, -0.16967298],\n",
              "       dtype=float32),\n",
              " array([-0.14988069, -0.05142036, -0.04628732, -0.10589672, -0.12658912,\n",
              "        -0.34734616,  0.35059524,  0.50520283, -0.2919116 , -0.21205781,\n",
              "        -0.33838972, -0.5633434 , -0.30414686,  0.16987064, -0.7660239 ,\n",
              "         0.15835641,  0.46841452, -0.10697833, -0.4153442 , -0.01852787,\n",
              "        -0.4254951 ,  0.78736216,  0.6875955 ,  0.24630591, -0.03766068,\n",
              "         0.24908048, -0.16493483,  0.19666898, -0.16458596,  0.43298325,\n",
              "         0.41036484, -0.2558649 ,  0.4371547 , -0.10988735, -0.018077  ,\n",
              "         0.18921979,  0.5584319 , -0.21535818,  0.2941476 , -0.14638528,\n",
              "         0.5721824 , -0.19114895, -0.3044846 ,  0.15591827,  1.0675398 ,\n",
              "        -0.1689028 , -0.06291315, -0.25077745, -0.10781718,  0.27325335],\n",
              "       dtype=float32),\n",
              " array([-0.51463497, -0.36032626,  0.32573262,  0.1358466 , -0.02712901,\n",
              "         0.04096953,  0.4658922 ,  0.4167946 , -0.47931585,  0.4517501 ,\n",
              "         0.16082846, -0.28470254, -0.10982664,  0.4600379 , -0.56155   ,\n",
              "         0.5655129 ,  0.22077751,  0.24124002, -0.47399044, -0.8307503 ,\n",
              "         0.42741695,  0.7070693 ,  1.3055223 ,  0.15271287,  0.18359742,\n",
              "         0.16929987, -0.1719162 , -0.35859868, -0.36373642, -0.40569824,\n",
              "         0.5512535 , -0.01678563,  0.36099467, -0.05975589, -0.08853256,\n",
              "         0.31566516,  0.46651635,  0.16491851,  0.11654729, -0.65325457,\n",
              "         0.5818208 , -0.31832445,  0.17273049, -0.11040144,  0.6722938 ,\n",
              "         0.3051695 ,  0.29934987, -0.40705058,  0.04636856,  0.12361073],\n",
              "       dtype=float32),\n",
              " array([ 0.183939  , -0.34137243,  0.20610625, -0.2857323 ,  0.15490825,\n",
              "        -0.1731465 ,  0.5266326 ,  0.38117647, -0.0468327 , -0.45794782,\n",
              "        -0.7579217 , -0.6211282 , -0.42891872,  0.5998356 , -0.54606426,\n",
              "         0.9104379 ,  0.5786927 ,  0.6330061 , -0.45265186, -0.45822433,\n",
              "        -0.47890088,  0.28119552,  1.172861  ,  0.47030786,  0.09047417,\n",
              "         0.21616773, -0.15674317,  0.3795002 , -0.3992    ,  0.4211984 ,\n",
              "         0.08653372, -0.20915236,  0.85867494,  0.02606202, -0.10474025,\n",
              "         0.5600906 ,  0.82091475, -0.5402952 , -0.01383253, -0.15294679,\n",
              "         0.8582927 , -0.41078207, -0.05438856,  0.41818124,  1.3340906 ,\n",
              "         0.30614114,  0.11857249, -0.18888386, -0.39189172,  0.04981003],\n",
              "       dtype=float32)]"
            ]
          },
          "execution_count": 8,
          "metadata": {},
          "output_type": "execute_result"
        }
      ],
      "source": [
        "# Как выглядят первые 10 документов после векторизации \n",
        "X[:10]"
      ]
    },
    {
      "cell_type": "code",
      "execution_count": 9,
      "metadata": {
        "colab": {
          "base_uri": "https://localhost:8080/"
        },
        "id": "WKOBa-p4b2sa",
        "outputId": "398b7a9d-cdb7-4ba8-8285-c7c342111e1c"
      },
      "outputs": [
        {
          "name": "stdout",
          "output_type": "stream",
          "text": [
            "(3903, 50)\n"
          ]
        }
      ],
      "source": [
        "# Проверим размер вектора для документа\n",
        "print(np.asarray(X).shape)"
      ]
    },
    {
      "cell_type": "code",
      "execution_count": 16,
      "metadata": {},
      "outputs": [
        {
          "data": {
            "text/plain": [
              "array([[-1.5945852 , -0.01735318,  0.6384148 , ..., -1.0540525 ,\n",
              "        -0.3629237 ,  0.01162615],\n",
              "       [-1.2230061 , -0.12269469,  0.23116852, ..., -0.47635767,\n",
              "         0.18409531,  0.23319083],\n",
              "       [-0.1524465 , -0.12538213,  0.10164401, ..., -0.24517775,\n",
              "        -0.15097477, -0.34030083],\n",
              "       ...,\n",
              "       [-0.10470508, -0.47908443,  0.01803367, ..., -0.11418551,\n",
              "         0.1542691 ,  0.22899471],\n",
              "       [ 0.08121436, -0.2939548 ,  0.10553501, ..., -0.38409376,\n",
              "        -0.28356475, -0.01292888],\n",
              "       [-0.33490026, -0.27757046,  0.21259256, ..., -0.2893826 ,\n",
              "        -0.11601828,  0.2324796 ]], dtype=float32)"
            ]
          },
          "execution_count": 16,
          "metadata": {},
          "output_type": "execute_result"
        }
      ],
      "source": [
        "np.array(X)"
      ]
    },
    {
      "cell_type": "code",
      "execution_count": 17,
      "metadata": {
        "colab": {
          "base_uri": "https://localhost:8080/"
        },
        "id": "O5UdbBRVb2sb",
        "outputId": "1dbfe974-f69a-481b-9ad7-e60b01236e91"
      },
      "outputs": [
        {
          "name": "stdout",
          "output_type": "stream",
          "text": [
            "(3903, 2)\n"
          ]
        }
      ],
      "source": [
        "# t-SNE – метод понижения размерности\n",
        "from sklearn.manifold import TSNE\n",
        "\n",
        "# Создаём объект для выполнения t-SNE\n",
        "tsne = TSNE(n_components=2, random_state=0)\n",
        "\n",
        "# Преобразуем наши данные, понизив размерность с 50 до 2\n",
        "X = tsne.fit_transform(np.array(X))\n",
        "\n",
        "print(np.asarray(X).shape)"
      ]
    },
    {
      "cell_type": "markdown",
      "metadata": {
        "id": "01NHiYa9b2sb"
      },
      "source": [
        "## Кластеризация"
      ]
    },
    {
      "cell_type": "code",
      "execution_count": 18,
      "metadata": {
        "colab": {
          "base_uri": "https://localhost:8080/"
        },
        "id": "BTgYBxfab2sb",
        "outputId": "b9d6a45a-e8dc-42f8-b2cb-20c572222bac"
      },
      "outputs": [
        {
          "name": "stderr",
          "output_type": "stream",
          "text": [
            "d:\\Python\\Python310\\lib\\site-packages\\sklearn\\cluster\\_kmeans.py:870: FutureWarning: The default value of `n_init` will change from 10 to 'auto' in 1.4. Set the value of `n_init` explicitly to suppress the warning\n",
            "  warnings.warn(\n"
          ]
        },
        {
          "data": {
            "text/html": [
              "<style>#sk-container-id-1 {color: black;background-color: white;}#sk-container-id-1 pre{padding: 0;}#sk-container-id-1 div.sk-toggleable {background-color: white;}#sk-container-id-1 label.sk-toggleable__label {cursor: pointer;display: block;width: 100%;margin-bottom: 0;padding: 0.3em;box-sizing: border-box;text-align: center;}#sk-container-id-1 label.sk-toggleable__label-arrow:before {content: \"▸\";float: left;margin-right: 0.25em;color: #696969;}#sk-container-id-1 label.sk-toggleable__label-arrow:hover:before {color: black;}#sk-container-id-1 div.sk-estimator:hover label.sk-toggleable__label-arrow:before {color: black;}#sk-container-id-1 div.sk-toggleable__content {max-height: 0;max-width: 0;overflow: hidden;text-align: left;background-color: #f0f8ff;}#sk-container-id-1 div.sk-toggleable__content pre {margin: 0.2em;color: black;border-radius: 0.25em;background-color: #f0f8ff;}#sk-container-id-1 input.sk-toggleable__control:checked~div.sk-toggleable__content {max-height: 200px;max-width: 100%;overflow: auto;}#sk-container-id-1 input.sk-toggleable__control:checked~label.sk-toggleable__label-arrow:before {content: \"▾\";}#sk-container-id-1 div.sk-estimator input.sk-toggleable__control:checked~label.sk-toggleable__label {background-color: #d4ebff;}#sk-container-id-1 div.sk-label input.sk-toggleable__control:checked~label.sk-toggleable__label {background-color: #d4ebff;}#sk-container-id-1 input.sk-hidden--visually {border: 0;clip: rect(1px 1px 1px 1px);clip: rect(1px, 1px, 1px, 1px);height: 1px;margin: -1px;overflow: hidden;padding: 0;position: absolute;width: 1px;}#sk-container-id-1 div.sk-estimator {font-family: monospace;background-color: #f0f8ff;border: 1px dotted black;border-radius: 0.25em;box-sizing: border-box;margin-bottom: 0.5em;}#sk-container-id-1 div.sk-estimator:hover {background-color: #d4ebff;}#sk-container-id-1 div.sk-parallel-item::after {content: \"\";width: 100%;border-bottom: 1px solid gray;flex-grow: 1;}#sk-container-id-1 div.sk-label:hover label.sk-toggleable__label {background-color: #d4ebff;}#sk-container-id-1 div.sk-serial::before {content: \"\";position: absolute;border-left: 1px solid gray;box-sizing: border-box;top: 0;bottom: 0;left: 50%;z-index: 0;}#sk-container-id-1 div.sk-serial {display: flex;flex-direction: column;align-items: center;background-color: white;padding-right: 0.2em;padding-left: 0.2em;position: relative;}#sk-container-id-1 div.sk-item {position: relative;z-index: 1;}#sk-container-id-1 div.sk-parallel {display: flex;align-items: stretch;justify-content: center;background-color: white;position: relative;}#sk-container-id-1 div.sk-item::before, #sk-container-id-1 div.sk-parallel-item::before {content: \"\";position: absolute;border-left: 1px solid gray;box-sizing: border-box;top: 0;bottom: 0;left: 50%;z-index: -1;}#sk-container-id-1 div.sk-parallel-item {display: flex;flex-direction: column;z-index: 1;position: relative;background-color: white;}#sk-container-id-1 div.sk-parallel-item:first-child::after {align-self: flex-end;width: 50%;}#sk-container-id-1 div.sk-parallel-item:last-child::after {align-self: flex-start;width: 50%;}#sk-container-id-1 div.sk-parallel-item:only-child::after {width: 0;}#sk-container-id-1 div.sk-dashed-wrapped {border: 1px dashed gray;margin: 0 0.4em 0.5em 0.4em;box-sizing: border-box;padding-bottom: 0.4em;background-color: white;}#sk-container-id-1 div.sk-label label {font-family: monospace;font-weight: bold;display: inline-block;line-height: 1.2em;}#sk-container-id-1 div.sk-label-container {text-align: center;}#sk-container-id-1 div.sk-container {/* jupyter's `normalize.less` sets `[hidden] { display: none; }` but bootstrap.min.css set `[hidden] { display: none !important; }` so we also need the `!important` here to be able to override the default hidden behavior on the sphinx rendered scikit-learn.org. See: https://github.com/scikit-learn/scikit-learn/issues/21755 */display: inline-block !important;position: relative;}#sk-container-id-1 div.sk-text-repr-fallback {display: none;}</style><div id=\"sk-container-id-1\" class=\"sk-top-container\"><div class=\"sk-text-repr-fallback\"><pre>KMeans(n_clusters=4)</pre><b>In a Jupyter environment, please rerun this cell to show the HTML representation or trust the notebook. <br />On GitHub, the HTML representation is unable to render, please try loading this page with nbviewer.org.</b></div><div class=\"sk-container\" hidden><div class=\"sk-item\"><div class=\"sk-estimator sk-toggleable\"><input class=\"sk-toggleable__control sk-hidden--visually\" id=\"sk-estimator-id-1\" type=\"checkbox\" checked><label for=\"sk-estimator-id-1\" class=\"sk-toggleable__label sk-toggleable__label-arrow\">KMeans</label><div class=\"sk-toggleable__content\"><pre>KMeans(n_clusters=4)</pre></div></div></div></div></div>"
            ],
            "text/plain": [
              "KMeans(n_clusters=4)"
            ]
          },
          "execution_count": 18,
          "metadata": {},
          "output_type": "execute_result"
        }
      ],
      "source": [
        "# Создаём KMeans кластеризатор \n",
        "kmeans = KMeans(n_clusters=4)\n",
        "\n",
        "# Обучим кластеризатор на подготовленных данных\n",
        "kmeans.fit(X)"
      ]
    },
    {
      "cell_type": "code",
      "execution_count": 19,
      "metadata": {
        "colab": {
          "base_uri": "https://localhost:8080/"
        },
        "id": "cOgDW8qkb2sc",
        "outputId": "22a52d86-52e4-48f3-d238-b6a52470681d"
      },
      "outputs": [
        {
          "name": "stdout",
          "output_type": "stream",
          "text": [
            "Координаты центроидов:\n",
            " [[  7.742509   46.       ]\n",
            " [ 32.577763  -14.656023 ]\n",
            " [-42.168934    4.6299353]\n",
            " [ -8.3638935 -34.57806  ]]\n"
          ]
        }
      ],
      "source": [
        "# Получаем предсказанные кластеры\n",
        "y_pred = kmeans.labels_.astype(int)\n",
        "\n",
        "# Координаты полученных центроидов\n",
        "print (\"Координаты центроидов:\\n\", kmeans.cluster_centers_)"
      ]
    },
    {
      "cell_type": "code",
      "execution_count": 20,
      "metadata": {
        "colab": {
          "base_uri": "https://localhost:8080/"
        },
        "id": "2vRpvl5Effqk",
        "outputId": "ab512ed0-fa70-4efb-e9db-d48b80f0b7a2"
      },
      "outputs": [
        {
          "name": "stdout",
          "output_type": "stream",
          "text": [
            "Коэффициент силуэта: 0.503\n",
            "Однородность: 0.776\n",
            "Полнота: 0.779\n",
            "V-мера: 0.777\n"
          ]
        }
      ],
      "source": [
        "# Метрики\n",
        "print (\"Коэффициент силуэта: %0.3f\" % metrics.silhouette_score(X, y_pred, metric='euclidean'))\n",
        "print(\"Однородность: %0.3f\" % metrics.homogeneity_score(labels, y_pred))\n",
        "print(\"Полнота: %0.3f\" % metrics.completeness_score(labels, y_pred))\n",
        "print(\"V-мера: %0.3f\" % metrics.v_measure_score(labels, y_pred))"
      ]
    },
    {
      "cell_type": "code",
      "execution_count": 21,
      "metadata": {
        "colab": {
          "base_uri": "https://localhost:8080/",
          "height": 592
        },
        "id": "2AB8Fpc8f7MX",
        "outputId": "99e50dfd-a2d5-46d6-8973-21ce8b3006c6"
      },
      "outputs": [
        {
          "data": {
            "image/png": "[encoded data removed]",
            "text/plain": [
              "<Figure size 432x288 with 1 Axes>"
            ]
          },
          "metadata": {
            "needs_background": "light"
          },
          "output_type": "display_data"
        }
      ],
      "source": [
        "# Графики полученных кластеров\n",
        "plt.rcParams['figure.figsize'] = 10, 10\n",
        "plt.scatter(X[:, 0], X[:, 1], c=y_pred, s=200, alpha=.5)\n",
        "plt.scatter(kmeans.cluster_centers_[:, 0], kmeans.cluster_centers_[:, 1], c='red', s=200, marker='+')\n",
        "plt.show()"
      ]
    },
    {
      "cell_type": "code",
      "execution_count": 22,
      "metadata": {
        "colab": {
          "base_uri": "https://localhost:8080/",
          "height": 592
        },
        "id": "WLx6LqRZb2sd",
        "outputId": "19876968-0763-48bd-9778-fa2faddc0030"
      },
      "outputs": [
        {
          "data": {
            "image/png": "[encoded data removed]",
            "text/plain": [
              "<Figure size 432x288 with 1 Axes>"
            ]
          },
          "metadata": {
            "needs_background": "light"
          },
          "output_type": "display_data"
        }
      ],
      "source": [
        "# Построим график истинных классов\n",
        "colors = (\"red\", \"green\", \"blue\", \"yellow\")\n",
        "\n",
        "for i in range(4):\n",
        "    plt.scatter(X[labels==i][:, 0], X[labels==i][:, 1], \\\n",
        "                s=200, alpha=.5, c=colors[i], label=dataset.target_names[i])\n",
        "    plt.legend(loc=2)\n",
        "\n",
        "plt.show()"
      ]
    }
  ],
  "metadata": {
    "colab": {
      "collapsed_sections": [],
      "name": "TextClustering.ipynb",
      "provenance": []
    },
    "kernelspec": {
      "display_name": "Python 3",
      "language": "python",
      "name": "python3"
    },
    "language_info": {
      "codemirror_mode": {
        "name": "ipython",
        "version": 3
      },
      "file_extension": ".py",
      "mimetype": "text/x-python",
      "name": "python",
      "nbconvert_exporter": "python",
      "pygments_lexer": "ipython3",
      "version": "3.10.4"
    }
  },
  "nbformat": 4,
  "nbformat_minor": 0
}
