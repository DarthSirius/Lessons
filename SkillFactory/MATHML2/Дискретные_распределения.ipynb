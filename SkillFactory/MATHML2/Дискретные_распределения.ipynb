{
 "cells": [
  {
   "cell_type": "markdown",
   "id": "caa69e48",
   "metadata": {},
   "source": [
    "## Равномерное распределение"
   ]
  },
  {
   "cell_type": "code",
   "execution_count": 1,
   "id": "75770dc8",
   "metadata": {},
   "outputs": [],
   "source": [
    "import warnings\n",
    "warnings.filterwarnings('ignore')"
   ]
  },
  {
   "cell_type": "code",
   "execution_count": 2,
   "id": "5d82762e",
   "metadata": {},
   "outputs": [],
   "source": [
    "import numpy as np\n",
    "from scipy.stats import randint"
   ]
  },
  {
   "cell_type": "code",
   "execution_count": 3,
   "id": "0d458ebe",
   "metadata": {},
   "outputs": [
    {
     "name": "stdout",
     "output_type": "stream",
     "text": [
      "[0.16666667 0.16666667 0.16666667 0.16666667 0.16666667 0.16666667]\n"
     ]
    }
   ],
   "source": [
    "x = np.arange(1, 7)\n",
    "disc_uni_dist = randint(1, 7)\n",
    "pmf = disc_uni_dist.pmf(x)\n",
    "print(pmf)"
   ]
  },
  {
   "cell_type": "code",
   "execution_count": 4,
   "id": "69722968",
   "metadata": {},
   "outputs": [
    {
     "name": "stdout",
     "output_type": "stream",
     "text": [
      "[0.16666667 0.33333333 0.5        0.66666667 0.83333333 1.        ]\n"
     ]
    }
   ],
   "source": [
    "cdf = disc_uni_dist.cdf(x)\n",
    "print(cdf)"
   ]
  },
  {
   "cell_type": "code",
   "execution_count": 5,
   "id": "6ec7339a",
   "metadata": {},
   "outputs": [
    {
     "name": "stdout",
     "output_type": "stream",
     "text": [
      "0.2\n"
     ]
    }
   ],
   "source": [
    "x = np.arange(1, 251)\n",
    "disc_uni_dist = randint(1,251)\n",
    "cdf = disc_uni_dist.cdf(x)\n",
    "print(cdf[49])"
   ]
  },
  {
   "cell_type": "markdown",
   "id": "ebf75db7",
   "metadata": {},
   "source": [
    "## Распределение Бернулли"
   ]
  },
  {
   "cell_type": "code",
   "execution_count": 6,
   "id": "ed7c63fe",
   "metadata": {},
   "outputs": [],
   "source": [
    "from scipy.stats import bernoulli\n",
    "import seaborn as sns"
   ]
  },
  {
   "cell_type": "code",
   "execution_count": 7,
   "id": "f5542d42",
   "metadata": {},
   "outputs": [
    {
     "data": {
      "text/plain": [
       "[Text(0.5, 0, 'Значение случайной величины'), Text(0, 0.5, 'Частота')]"
      ]
     },
     "execution_count": 7,
     "metadata": {},
     "output_type": "execute_result"
    },
    {
     "data": {
      "image/png": "[encoded data removed]",
      "text/plain": [
       "<Figure size 432x288 with 1 Axes>"
      ]
     },
     "metadata": {
      "needs_background": "light"
     },
     "output_type": "display_data"
    }
   ],
   "source": [
    "data = bernoulli.rvs(size=500,p=0.6)\n",
    "ax = sns.distplot(data,\n",
    "                  kde = False,\n",
    "                  color='dodgerblue')\n",
    "ax.set(xlabel='Значение случайной величины', ylabel='Частота')"
   ]
  },
  {
   "cell_type": "code",
   "execution_count": 12,
   "id": "5c71bb29",
   "metadata": {},
   "outputs": [
    {
     "name": "stdout",
     "output_type": "stream",
     "text": [
      "[[  0 187]\n",
      " [  1 313]]\n"
     ]
    }
   ],
   "source": [
    "unique, counts = np.unique(data, return_counts=True)\n",
    "print(np.asarray((unique, counts)).T)"
   ]
  },
  {
   "cell_type": "markdown",
   "id": "5844fa7d",
   "metadata": {},
   "source": [
    "## Биномиальное распределение"
   ]
  },
  {
   "cell_type": "code",
   "execution_count": 13,
   "id": "0334b40e",
   "metadata": {},
   "outputs": [],
   "source": [
    "from numpy import random"
   ]
  },
  {
   "cell_type": "code",
   "execution_count": 14,
   "id": "a1ae6a02",
   "metadata": {},
   "outputs": [
    {
     "data": {
      "text/plain": [
       "<AxesSubplot:>"
      ]
     },
     "execution_count": 14,
     "metadata": {},
     "output_type": "execute_result"
    },
    {
     "data": {
      "image/png": "[encoded data removed]",
      "text/plain": [
       "<Figure size 432x288 with 1 Axes>"
      ]
     },
     "metadata": {
      "needs_background": "light"
     },
     "output_type": "display_data"
    }
   ],
   "source": [
    "x = random.binomial(n=10, p=0.5, size=10)\n",
    "sns.distplot(random.binomial(n=10, p=0.5, size=1000), hist=True, kde=False)"
   ]
  },
  {
   "cell_type": "markdown",
   "id": "89bb2a58",
   "metadata": {},
   "source": [
    "## Распределение Пуассона"
   ]
  },
  {
   "cell_type": "code",
   "execution_count": 15,
   "id": "17138263",
   "metadata": {},
   "outputs": [],
   "source": [
    "import scipy"
   ]
  },
  {
   "cell_type": "code",
   "execution_count": 16,
   "id": "6b01eb18",
   "metadata": {},
   "outputs": [
    {
     "data": {
      "text/plain": [
       "0.17082685848611215"
      ]
     },
     "execution_count": 16,
     "metadata": {},
     "output_type": "execute_result"
    }
   ],
   "source": [
    "scipy.stats.distributions.poisson.pmf(5, 4.5)"
   ]
  },
  {
   "cell_type": "code",
   "execution_count": 19,
   "id": "5b64c785",
   "metadata": {},
   "outputs": [
    {
     "data": {
      "text/plain": [
       "<AxesSubplot:>"
      ]
     },
     "execution_count": 19,
     "metadata": {},
     "output_type": "execute_result"
    },
    {
     "data": {
      "image/png": "[encoded data removed]",
      "text/plain": [
       "<Figure size 432x288 with 1 Axes>"
      ]
     },
     "metadata": {
      "needs_background": "light"
     },
     "output_type": "display_data"
    }
   ],
   "source": [
    "sns.distplot(random.poisson(lam=3, size=1000), kde=False)"
   ]
  },
  {
   "cell_type": "code",
   "execution_count": 43,
   "id": "381aaed6",
   "metadata": {},
   "outputs": [
    {
     "data": {
      "text/plain": [
       "0.07326255555493673"
      ]
     },
     "execution_count": 43,
     "metadata": {},
     "output_type": "execute_result"
    }
   ],
   "source": [
    "P = scipy.stats.distributions.poisson.pmf(1, 4)\n",
    "P"
   ]
  },
  {
   "cell_type": "code",
   "execution_count": 37,
   "id": "deb71ffc",
   "metadata": {},
   "outputs": [
    {
     "data": {
      "text/plain": [
       "0.2930502222197469"
      ]
     },
     "execution_count": 37,
     "metadata": {},
     "output_type": "execute_result"
    }
   ],
   "source": [
    "4 * P"
   ]
  },
  {
   "cell_type": "code",
   "execution_count": 24,
   "id": "643dba00",
   "metadata": {},
   "outputs": [
    {
     "data": {
      "text/plain": [
       "0.19536681481316456"
      ]
     },
     "execution_count": 24,
     "metadata": {},
     "output_type": "execute_result"
    }
   ],
   "source": [
    "np.exp(-4) * 256 / 24"
   ]
  },
  {
   "cell_type": "code",
   "execution_count": 47,
   "id": "20c48509",
   "metadata": {},
   "outputs": [
    {
     "data": {
      "text/plain": [
       "0.5034146962085905"
      ]
     },
     "execution_count": 47,
     "metadata": {},
     "output_type": "execute_result"
    }
   ],
   "source": [
    "1 - np.exp(- 7 / 10)"
   ]
  },
  {
   "cell_type": "code",
   "execution_count": 59,
   "id": "ae038e8c",
   "metadata": {},
   "outputs": [
    {
     "data": {
      "text/plain": [
       "0.07369857604251961"
      ]
     },
     "execution_count": 59,
     "metadata": {},
     "output_type": "execute_result"
    }
   ],
   "source": [
    "a = 1-np.exp(- 11 / 10)\n",
    "b = 1- np.exp(- 9 / 10)\n",
    "a - b"
   ]
  },
  {
   "cell_type": "code",
   "execution_count": 56,
   "id": "55108f7c",
   "metadata": {},
   "outputs": [
    {
     "data": {
      "text/plain": [
       "0.5405741759640734"
      ]
     },
     "execution_count": 56,
     "metadata": {},
     "output_type": "execute_result"
    }
   ],
   "source": [
    "b"
   ]
  },
  {
   "cell_type": "code",
   "execution_count": 57,
   "id": "a4c5406f",
   "metadata": {},
   "outputs": [
    {
     "data": {
      "text/plain": [
       "0.4707866584999497"
      ]
     },
     "execution_count": 57,
     "metadata": {},
     "output_type": "execute_result"
    }
   ],
   "source": [
    "a"
   ]
  },
  {
   "cell_type": "code",
   "execution_count": null,
   "id": "d26c47dc",
   "metadata": {},
   "outputs": [],
   "source": [
    "data = expon.rvs(scale=1,loc=0,size=1000)"
   ]
  },
  {
   "cell_type": "code",
   "execution_count": 84,
   "id": "53532b5c",
   "metadata": {},
   "outputs": [
    {
     "data": {
      "text/plain": [
       "0.07326255555493673"
      ]
     },
     "execution_count": 84,
     "metadata": {},
     "output_type": "execute_result"
    }
   ],
   "source": [
    "scipy.stats.distributions.poisson.pmf(1, 4)"
   ]
  }
 ],
 "metadata": {
  "kernelspec": {
   "display_name": "Python 3 (ipykernel)",
   "language": "python",
   "name": "python3"
  },
  "language_info": {
   "codemirror_mode": {
    "name": "ipython",
    "version": 3
   },
   "file_extension": ".py",
   "mimetype": "text/x-python",
   "name": "python",
   "nbconvert_exporter": "python",
   "pygments_lexer": "ipython3",
   "version": "3.10.4"
  }
 },
 "nbformat": 4,
 "nbformat_minor": 5
}
