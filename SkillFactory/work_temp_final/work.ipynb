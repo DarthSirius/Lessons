{
 "cells": [
  {
   "cell_type": "markdown",
   "metadata": {},
   "source": [
    "# Модель прогнозирования стоимости жилья для агентства недвижимости"
   ]
  },
  {
   "cell_type": "markdown",
   "metadata": {},
   "source": [
    "задача — разработать модель, которая позволила бы агентству недвижимости обойти конкурентов по скорости и качеству совершения сделок"
   ]
  },
  {
   "cell_type": "code",
   "execution_count": 642,
   "metadata": {},
   "outputs": [],
   "source": [
    "# загрузка библиотек\n",
    "import pandas as pd\n",
    "import numpy as np\n",
    "import matplotlib.pyplot as plt\n",
    "import seaborn as sns"
   ]
  },
  {
   "cell_type": "markdown",
   "metadata": {},
   "source": [
    "## 1. Анализ и обработка данных"
   ]
  },
  {
   "cell_type": "code",
   "execution_count": 643,
   "metadata": {},
   "outputs": [
    {
     "name": "stdout",
     "output_type": "stream",
     "text": [
      "Data shape: (377185, 18)\n"
     ]
    },
    {
     "data": {
      "text/html": [
       "<div>\n",
       "<style scoped>\n",
       "    .dataframe tbody tr th:only-of-type {\n",
       "        vertical-align: middle;\n",
       "    }\n",
       "\n",
       "    .dataframe tbody tr th {\n",
       "        vertical-align: top;\n",
       "    }\n",
       "\n",
       "    .dataframe thead th {\n",
       "        text-align: right;\n",
       "    }\n",
       "</style>\n",
       "<table border=\"1\" class=\"dataframe\">\n",
       "  <thead>\n",
       "    <tr style=\"text-align: right;\">\n",
       "      <th></th>\n",
       "      <th>status</th>\n",
       "      <th>private pool</th>\n",
       "      <th>propertyType</th>\n",
       "      <th>street</th>\n",
       "      <th>baths</th>\n",
       "      <th>homeFacts</th>\n",
       "      <th>fireplace</th>\n",
       "      <th>city</th>\n",
       "      <th>schools</th>\n",
       "      <th>sqft</th>\n",
       "      <th>zipcode</th>\n",
       "      <th>beds</th>\n",
       "      <th>state</th>\n",
       "      <th>stories</th>\n",
       "      <th>mls-id</th>\n",
       "      <th>PrivatePool</th>\n",
       "      <th>MlsId</th>\n",
       "      <th>target</th>\n",
       "    </tr>\n",
       "  </thead>\n",
       "  <tbody>\n",
       "    <tr>\n",
       "      <th>0</th>\n",
       "      <td>Active</td>\n",
       "      <td>NaN</td>\n",
       "      <td>Single Family Home</td>\n",
       "      <td>240 Heather Ln</td>\n",
       "      <td>3.5</td>\n",
       "      <td>{'atAGlanceFacts': [{'factValue': '2019', 'fac...</td>\n",
       "      <td>Gas Logs</td>\n",
       "      <td>Southern Pines</td>\n",
       "      <td>[{'rating': ['4', '4', '7', 'NR', '4', '7', 'N...</td>\n",
       "      <td>2900</td>\n",
       "      <td>28387</td>\n",
       "      <td>4</td>\n",
       "      <td>NC</td>\n",
       "      <td>NaN</td>\n",
       "      <td>NaN</td>\n",
       "      <td>NaN</td>\n",
       "      <td>611019</td>\n",
       "      <td>$418,000</td>\n",
       "    </tr>\n",
       "    <tr>\n",
       "      <th>1</th>\n",
       "      <td>for sale</td>\n",
       "      <td>NaN</td>\n",
       "      <td>single-family home</td>\n",
       "      <td>12911 E Heroy Ave</td>\n",
       "      <td>3 Baths</td>\n",
       "      <td>{'atAGlanceFacts': [{'factValue': '2019', 'fac...</td>\n",
       "      <td>NaN</td>\n",
       "      <td>Spokane Valley</td>\n",
       "      <td>[{'rating': ['4/10', 'None/10', '4/10'], 'data...</td>\n",
       "      <td>1,947 sqft</td>\n",
       "      <td>99216</td>\n",
       "      <td>3 Beds</td>\n",
       "      <td>WA</td>\n",
       "      <td>2.0</td>\n",
       "      <td>NaN</td>\n",
       "      <td>NaN</td>\n",
       "      <td>201916904</td>\n",
       "      <td>$310,000</td>\n",
       "    </tr>\n",
       "    <tr>\n",
       "      <th>2</th>\n",
       "      <td>for sale</td>\n",
       "      <td>NaN</td>\n",
       "      <td>single-family home</td>\n",
       "      <td>2005 Westridge Rd</td>\n",
       "      <td>2 Baths</td>\n",
       "      <td>{'atAGlanceFacts': [{'factValue': '1961', 'fac...</td>\n",
       "      <td>yes</td>\n",
       "      <td>Los Angeles</td>\n",
       "      <td>[{'rating': ['8/10', '4/10', '8/10'], 'data': ...</td>\n",
       "      <td>3,000 sqft</td>\n",
       "      <td>90049</td>\n",
       "      <td>3 Beds</td>\n",
       "      <td>CA</td>\n",
       "      <td>1.0</td>\n",
       "      <td>NaN</td>\n",
       "      <td>yes</td>\n",
       "      <td>FR19221027</td>\n",
       "      <td>$2,895,000</td>\n",
       "    </tr>\n",
       "    <tr>\n",
       "      <th>3</th>\n",
       "      <td>for sale</td>\n",
       "      <td>NaN</td>\n",
       "      <td>single-family home</td>\n",
       "      <td>4311 Livingston Ave</td>\n",
       "      <td>8 Baths</td>\n",
       "      <td>{'atAGlanceFacts': [{'factValue': '2006', 'fac...</td>\n",
       "      <td>yes</td>\n",
       "      <td>Dallas</td>\n",
       "      <td>[{'rating': ['9/10', '9/10', '10/10', '9/10'],...</td>\n",
       "      <td>6,457 sqft</td>\n",
       "      <td>75205</td>\n",
       "      <td>5 Beds</td>\n",
       "      <td>TX</td>\n",
       "      <td>3.0</td>\n",
       "      <td>NaN</td>\n",
       "      <td>NaN</td>\n",
       "      <td>14191809</td>\n",
       "      <td>$2,395,000</td>\n",
       "    </tr>\n",
       "    <tr>\n",
       "      <th>4</th>\n",
       "      <td>for sale</td>\n",
       "      <td>NaN</td>\n",
       "      <td>lot/land</td>\n",
       "      <td>1524 Kiscoe St</td>\n",
       "      <td>NaN</td>\n",
       "      <td>{'atAGlanceFacts': [{'factValue': '', 'factLab...</td>\n",
       "      <td>NaN</td>\n",
       "      <td>Palm Bay</td>\n",
       "      <td>[{'rating': ['4/10', '5/10', '5/10'], 'data': ...</td>\n",
       "      <td>NaN</td>\n",
       "      <td>32908</td>\n",
       "      <td>NaN</td>\n",
       "      <td>FL</td>\n",
       "      <td>NaN</td>\n",
       "      <td>NaN</td>\n",
       "      <td>NaN</td>\n",
       "      <td>861745</td>\n",
       "      <td>$5,000</td>\n",
       "    </tr>\n",
       "  </tbody>\n",
       "</table>\n",
       "</div>"
      ],
      "text/plain": [
       "     status private pool        propertyType               street    baths   \n",
       "0    Active          NaN  Single Family Home       240 Heather Ln      3.5  \\\n",
       "1  for sale          NaN  single-family home    12911 E Heroy Ave  3 Baths   \n",
       "2  for sale          NaN  single-family home    2005 Westridge Rd  2 Baths   \n",
       "3  for sale          NaN  single-family home  4311 Livingston Ave  8 Baths   \n",
       "4  for sale          NaN            lot/land       1524 Kiscoe St      NaN   \n",
       "\n",
       "                                           homeFacts fireplace   \n",
       "0  {'atAGlanceFacts': [{'factValue': '2019', 'fac...  Gas Logs  \\\n",
       "1  {'atAGlanceFacts': [{'factValue': '2019', 'fac...       NaN   \n",
       "2  {'atAGlanceFacts': [{'factValue': '1961', 'fac...       yes   \n",
       "3  {'atAGlanceFacts': [{'factValue': '2006', 'fac...       yes   \n",
       "4  {'atAGlanceFacts': [{'factValue': '', 'factLab...       NaN   \n",
       "\n",
       "             city                                            schools   \n",
       "0  Southern Pines  [{'rating': ['4', '4', '7', 'NR', '4', '7', 'N...  \\\n",
       "1  Spokane Valley  [{'rating': ['4/10', 'None/10', '4/10'], 'data...   \n",
       "2     Los Angeles  [{'rating': ['8/10', '4/10', '8/10'], 'data': ...   \n",
       "3          Dallas  [{'rating': ['9/10', '9/10', '10/10', '9/10'],...   \n",
       "4        Palm Bay  [{'rating': ['4/10', '5/10', '5/10'], 'data': ...   \n",
       "\n",
       "         sqft zipcode    beds state stories mls-id PrivatePool       MlsId   \n",
       "0        2900   28387       4    NC     NaN    NaN         NaN      611019  \\\n",
       "1  1,947 sqft   99216  3 Beds    WA     2.0    NaN         NaN   201916904   \n",
       "2  3,000 sqft   90049  3 Beds    CA     1.0    NaN         yes  FR19221027   \n",
       "3  6,457 sqft   75205  5 Beds    TX     3.0    NaN         NaN    14191809   \n",
       "4         NaN   32908     NaN    FL     NaN    NaN         NaN      861745   \n",
       "\n",
       "       target  \n",
       "0    $418,000  \n",
       "1    $310,000  \n",
       "2  $2,895,000  \n",
       "3  $2,395,000  \n",
       "4      $5,000  "
      ]
     },
     "execution_count": 643,
     "metadata": {},
     "output_type": "execute_result"
    }
   ],
   "source": [
    "# загрузка данных в датафрейм\n",
    "data = pd.read_csv(\"./data/data.csv\")\n",
    "print('Data shape: {}'.format(data.shape))\n",
    "data.head(5)"
   ]
  },
  {
   "cell_type": "markdown",
   "metadata": {},
   "source": [
    "### Очистка данных"
   ]
  },
  {
   "cell_type": "code",
   "execution_count": 644,
   "metadata": {},
   "outputs": [
    {
     "data": {
      "text/plain": [
       "50"
      ]
     },
     "execution_count": 644,
     "metadata": {},
     "output_type": "execute_result"
    }
   ],
   "source": [
    "# определяем наличие дубликатов\n",
    "data_duplicated = data.duplicated()\n",
    "data_duplicated.sum()"
   ]
  },
  {
   "cell_type": "code",
   "execution_count": 645,
   "metadata": {},
   "outputs": [
    {
     "data": {
      "text/plain": [
       "377135"
      ]
     },
     "execution_count": 645,
     "metadata": {},
     "output_type": "execute_result"
    }
   ],
   "source": [
    "# удаляем дубликаты\n",
    "data = data.drop_duplicates(ignore_index=True)\n",
    "data.shape[0]"
   ]
  },
  {
   "cell_type": "code",
   "execution_count": 646,
   "metadata": {},
   "outputs": [
    {
     "data": {
      "text/plain": [
       "status           39917\n",
       "private pool    372954\n",
       "propertyType     34733\n",
       "street               2\n",
       "baths           106308\n",
       "homeFacts            0\n",
       "fireplace       274024\n",
       "city                34\n",
       "schools              0\n",
       "sqft             40550\n",
       "zipcode              0\n",
       "beds             91254\n",
       "state                0\n",
       "stories         150674\n",
       "mls-id          352193\n",
       "PrivatePool     336825\n",
       "MlsId            66869\n",
       "target            2480\n",
       "dtype: int64"
      ]
     },
     "execution_count": 646,
     "metadata": {},
     "output_type": "execute_result"
    }
   ],
   "source": [
    "# смотрим пропуски\n",
    "data.isna().sum()"
   ]
  },
  {
   "cell_type": "markdown",
   "metadata": {},
   "source": [
    "Записи, в которых отсутствует информация о целевой переменной (target) удаляем, для обучения модели они нам не потребуются"
   ]
  },
  {
   "cell_type": "code",
   "execution_count": 647,
   "metadata": {},
   "outputs": [
    {
     "data": {
      "text/plain": [
       "(334560, 18)"
      ]
     },
     "execution_count": 647,
     "metadata": {},
     "output_type": "execute_result"
    }
   ],
   "source": [
    "# удаляем строки с пустым target\n",
    "data = data.dropna(axis=0, subset=['target'])\n",
    "data.shape"
   ]
  },
  {
   "cell_type": "markdown",
   "metadata": {},
   "source": [
    "### Разворачиваем поле 'homeFacts'"
   ]
  },
  {
   "cell_type": "code",
   "execution_count": 648,
   "metadata": {},
   "outputs": [],
   "source": [
    "data['Year built'] = data['homeFacts'].apply(lambda x: eval(x)['atAGlanceFacts'][0]['factValue'])\n",
    "data['Remodeled year'] = data['homeFacts'].apply(lambda x: eval(x)['atAGlanceFacts'][1]['factValue'])\n",
    "data['Heating'] = data['homeFacts'].apply(lambda x: eval(x)['atAGlanceFacts'][2]['factValue'])\n",
    "data['Cooling'] = data['homeFacts'].apply(lambda x: eval(x)['atAGlanceFacts'][3]['factValue'])\n",
    "data['Parking'] = data['homeFacts'].apply(lambda x: eval(x)['atAGlanceFacts'][4]['factValue'])\n",
    "data['lotsize'] = data['homeFacts'].apply(lambda x: eval(x)['atAGlanceFacts'][5]['factValue'])\n",
    "data['Price/sqft'] = data['homeFacts'].apply(lambda x: eval(x)['atAGlanceFacts'][6]['factValue'])"
   ]
  },
  {
   "cell_type": "markdown",
   "metadata": {},
   "source": [
    "# удалим исходное поле\n",
    "data = data.drop(labels=['homeFacts'], axis=1)"
   ]
  },
  {
   "cell_type": "code",
   "execution_count": 650,
   "metadata": {},
   "outputs": [
    {
     "name": "stdout",
     "output_type": "stream",
     "text": [
      "<class 'pandas.core.frame.DataFrame'>\n",
      "Index: 334560 entries, 0 to 377134\n",
      "Data columns (total 25 columns):\n",
      " #   Column          Non-Null Count   Dtype \n",
      "---  ------          --------------   ----- \n",
      " 0   status          298385 non-null  object\n",
      " 1   private pool    4151 non-null    object\n",
      " 2   propertyType    317882 non-null  object\n",
      " 3   street          334559 non-null  object\n",
      " 4   baths           265933 non-null  object\n",
      " 5   homeFacts       334560 non-null  object\n",
      " 6   fireplace       101254 non-null  object\n",
      " 7   city            334526 non-null  object\n",
      " 8   schools         334560 non-null  object\n",
      " 9   sqft            334560 non-null  object\n",
      " 10  zipcode         334560 non-null  object\n",
      " 11  beds            275131 non-null  object\n",
      " 12  state           334560 non-null  object\n",
      " 13  stories         223315 non-null  object\n",
      " 14  mls-id          24414 non-null   object\n",
      " 15  PrivatePool     39789 non-null   object\n",
      " 16  MlsId           272067 non-null  object\n",
      " 17  target          334560 non-null  object\n",
      " 18  Year built      333991 non-null  object\n",
      " 19  Remodeled year  311392 non-null  object\n",
      " 20  Heating         334017 non-null  object\n",
      " 21  Cooling         334017 non-null  object\n",
      " 22  Parking         334017 non-null  object\n",
      " 23  lotsize         309428 non-null  object\n",
      " 24  Price/sqft      315117 non-null  object\n",
      "dtypes: object(25)\n",
      "memory usage: 66.4+ MB\n"
     ]
    }
   ],
   "source": [
    "data.info()"
   ]
  },
  {
   "cell_type": "code",
   "execution_count": 662,
   "metadata": {},
   "outputs": [
    {
     "data": {
      "text/plain": [
       "Year built\n",
       "                28366\n",
       "1                   2\n",
       "1019                1\n",
       "1057                1\n",
       "1060                1\n",
       "                ...  \n",
       "2021               55\n",
       "2022                8\n",
       "2025                2\n",
       "559990649990        2\n",
       "No Data          1084\n",
       "Name: count, Length: 228, dtype: int64"
      ]
     },
     "execution_count": 662,
     "metadata": {},
     "output_type": "execute_result"
    }
   ],
   "source": [
    "data['Year built'].value_counts().sort_index()"
   ]
  },
  {
   "cell_type": "markdown",
   "metadata": {},
   "source": [
    "### scools"
   ]
  },
  {
   "cell_type": "code",
   "execution_count": 656,
   "metadata": {},
   "outputs": [
    {
     "data": {
      "text/plain": [
       "[{'rating': ['4', '4', '7', 'NR', '4', '7', 'NR', 'NR'],\n",
       "  'data': {'Distance': ['2.7 mi',\n",
       "    '3.6 mi',\n",
       "    '5.1 mi',\n",
       "    '4.0 mi',\n",
       "    '10.5 mi',\n",
       "    '12.6 mi',\n",
       "    '2.7 mi',\n",
       "    '3.1 mi'],\n",
       "   'Grades': ['3–5', '6–8', '9–12', 'PK–2', '6–8', '9–12', 'PK–5', 'K–12']},\n",
       "  'name': ['Southern Pines Elementary School',\n",
       "   'Southern Middle School',\n",
       "   'Pinecrest High School',\n",
       "   'Southern Pines Primary School',\n",
       "   \"Crain's Creek Middle School\",\n",
       "   'Union Pines High School',\n",
       "   'Episcopal Day Private School',\n",
       "   'Calvary Christian Private School']}]"
      ]
     },
     "execution_count": 656,
     "metadata": {},
     "output_type": "execute_result"
    }
   ],
   "source": [
    "eval(data['schools'][0])"
   ]
  },
  {
   "cell_type": "markdown",
   "metadata": {},
   "source": [
    "### Преобразование типа целевой переменной и очистка выбросов по целевой переменной"
   ]
  },
  {
   "cell_type": "code",
   "execution_count": 357,
   "metadata": {},
   "outputs": [
    {
     "data": {
      "text/plain": [
       "(334173, 18)"
      ]
     },
     "execution_count": 357,
     "metadata": {},
     "output_type": "execute_result"
    }
   ],
   "source": [
    "# убираем спецсимволы в поле target и помечаем для удаления строки с пометкой /mo (помесячная аренда)\n",
    "specs_list = ['$',',',' ','+']\n",
    "\n",
    "def search_for_specs(arg):\n",
    "    if '/mo' in arg: # похоже на стоимость помесячной аренды, помечаем эти записи nan для последующего удаления\n",
    "        arg = np.nan\n",
    "        return arg\n",
    "    for symbol in arg:\n",
    "        if symbol in specs_list:\n",
    "            arg = arg.replace(symbol,'')\n",
    "    return arg\n",
    "# преобразуем в тип float\n",
    "data['target'] = data['target'].apply(search_for_specs).astype('float')\n",
    "\n",
    "# удаляем новые строки с пустым target\n",
    "data = data.dropna(axis=0, subset=['target'])\n",
    "data.shape"
   ]
  },
  {
   "cell_type": "code",
   "execution_count": 358,
   "metadata": {},
   "outputs": [
    {
     "data": {
      "text/plain": [
       "(334160, 18)"
      ]
     },
     "execution_count": 358,
     "metadata": {},
     "output_type": "execute_result"
    }
   ],
   "source": [
    "# Удаляем строки со слишком низкой стоимостью (<1000)\n",
    "data = data.drop(labels=data[data['target']<10].index, axis=0)\n",
    "data.shape"
   ]
  },
  {
   "cell_type": "code",
   "execution_count": 359,
   "metadata": {},
   "outputs": [
    {
     "data": {
      "image/png": "[encoded data removed]",
      "text/plain": [
       "<Figure size 864x360 with 2 Axes>"
      ]
     },
     "metadata": {
      "needs_background": "light"
     },
     "output_type": "display_data"
    }
   ],
   "source": [
    "fig, axes = plt.subplots(nrows=1, ncols = 2, figsize=(12,5))\n",
    "histplot = sns.histplot(data = data, x = 'target', ax=axes[0])\n",
    "histplot.set_title('Price distribution')\n",
    "boxplot = sns.boxplot( data = data, x = 'target', ax = axes[1])\n",
    "boxplot.set_title('Price boxplot');"
   ]
  },
  {
   "cell_type": "markdown",
   "metadata": {},
   "source": [
    "Необходима очистка выбросов методом Тьюки"
   ]
  },
  {
   "cell_type": "code",
   "execution_count": 360,
   "metadata": {},
   "outputs": [
    {
     "name": "stdout",
     "output_type": "stream",
     "text": [
      "Число выбросов по методу Тьюки: 32976\n",
      "Результирующее число записей: 301184\n"
     ]
    }
   ],
   "source": [
    "# Удаляем выбросы методом Тьюки\n",
    "def outliers_iqr(data, feature):\n",
    "    x = data[feature]\n",
    "    quartile_1, quartile_3 = x.quantile(0.25), x.quantile(0.75),\n",
    "    iqr = quartile_3 - quartile_1\n",
    "    lower_bound = quartile_1 - (iqr * 1.5)\n",
    "    upper_bound = quartile_3 + (iqr * 1.5)\n",
    "    outliers = data[(x<lower_bound) | (x > upper_bound)]\n",
    "    cleaned = data[(x>lower_bound) & (x < upper_bound)]\n",
    "    return outliers, cleaned\n",
    "\n",
    "outliers, cleaned = outliers_iqr(data, 'target')\n",
    "print(f'Число выбросов по методу Тьюки: {outliers.shape[0]}')\n",
    "print(f'Результирующее число записей: {cleaned.shape[0]}')"
   ]
  },
  {
   "cell_type": "code",
   "execution_count": 361,
   "metadata": {},
   "outputs": [
    {
     "data": {
      "image/png": "[encoded data removed]",
      "text/plain": [
       "<Figure size 864x360 with 2 Axes>"
      ]
     },
     "metadata": {
      "needs_background": "light"
     },
     "output_type": "display_data"
    }
   ],
   "source": [
    "# проверяем распределение данных по целевой переменной\n",
    "fig, axes = plt.subplots(nrows=1, ncols = 2, figsize=(12,5))\n",
    "histplot = sns.histplot(data = cleaned, x = 'target', ax=axes[0])\n",
    "histplot.set_title('Price distribution')\n",
    "boxplot = sns.boxplot( data = cleaned, x = 'target', ax = axes[1])\n",
    "boxplot.set_title('Price boxplot');"
   ]
  },
  {
   "cell_type": "markdown",
   "metadata": {},
   "source": [
    "### Один из основных признаков для расчета стоимости жилья - площадь. Выполним преобразование типа этого признака и очистку выбросов"
   ]
  },
  {
   "cell_type": "code",
   "execution_count": 362,
   "metadata": {},
   "outputs": [
    {
     "data": {
      "text/plain": [
       "0               2900\n",
       "1         1,947 sqft\n",
       "5           897 sqft\n",
       "6              1,507\n",
       "8               3588\n",
       "             ...    \n",
       "377128         1,841\n",
       "377129         1,417\n",
       "377131    2,000 sqft\n",
       "377132    1,152 sqft\n",
       "377134         1,462\n",
       "Name: sqft, Length: 301184, dtype: object"
      ]
     },
     "execution_count": 362,
     "metadata": {},
     "output_type": "execute_result"
    }
   ],
   "source": [
    "data = cleaned\n",
    "data['sqft']"
   ]
  },
  {
   "cell_type": "code",
   "execution_count": 363,
   "metadata": {},
   "outputs": [],
   "source": [
    "# убираем спецсимволы\n",
    "symbols_list = ['sqft','toalinerior','total','interior','livable','area',':','--',' ',',']\n",
    "\n",
    "def search_for_symbols(arg):\n",
    "    for sub_string in symbols_list:\n",
    "        if sub_string in arg:\n",
    "            arg = str.lower(arg).replace(sub_string,'')\n",
    "    if arg == '':\n",
    "        return 0\n",
    "    return arg\n",
    "# преобразуем в тип float\n",
    "data['sqft'] = data['sqft'].apply(search_for_symbols).astype('float')"
   ]
  },
  {
   "cell_type": "code",
   "execution_count": 364,
   "metadata": {},
   "outputs": [
    {
     "data": {
      "text/plain": [
       "(289107, 18)"
      ]
     },
     "execution_count": 364,
     "metadata": {},
     "output_type": "execute_result"
    }
   ],
   "source": [
    "# Удаляем строки со слишком низкой площадью (<10)\n",
    "data = data.drop(labels=data[data['sqft']<10].index, axis=0)\n",
    "data.shape"
   ]
  },
  {
   "cell_type": "code",
   "execution_count": 365,
   "metadata": {},
   "outputs": [
    {
     "data": {
      "text/plain": [
       "152217           10.0\n",
       "373407           10.0\n",
       "180569           11.0\n",
       "233929           12.0\n",
       "56762            17.0\n",
       "             ...     \n",
       "187378      4356000.0\n",
       "142138      5728968.0\n",
       "74211       7078574.0\n",
       "376479    456602479.0\n",
       "62732     795979430.0\n",
       "Name: sqft, Length: 289107, dtype: float64"
      ]
     },
     "execution_count": 365,
     "metadata": {},
     "output_type": "execute_result"
    }
   ],
   "source": [
    "data['sqft'].sort_values()"
   ]
  },
  {
   "cell_type": "code",
   "execution_count": 366,
   "metadata": {},
   "outputs": [],
   "source": [
    "# проверяем распределение данных по целевой переменной\n",
    "#fig, axes = plt.subplots(nrows=1, ncols = 2, figsize=(12,5))\n",
    "#histplot = sns.histplot(data = cleaned, x = 'sqft', ax=axes[0])\n",
    "#histplot.set_title('Full square distribution')\n",
    "#boxplot = sns.boxplot( data = cleaned, x = 'sqft', ax = axes[1])\n",
    "#boxplot.set_title('Full square boxplot');"
   ]
  },
  {
   "cell_type": "code",
   "execution_count": 367,
   "metadata": {},
   "outputs": [
    {
     "name": "stdout",
     "output_type": "stream",
     "text": [
      "Число выбросов по методу Тьюки: 9627\n",
      "Результирующее число записей: 279475\n"
     ]
    }
   ],
   "source": [
    "outliers, cleaned = outliers_iqr(data, 'sqft')\n",
    "print(f'Число выбросов по методу Тьюки: {outliers.shape[0]}')\n",
    "print(f'Результирующее число записей: {cleaned.shape[0]}')"
   ]
  },
  {
   "cell_type": "code",
   "execution_count": 368,
   "metadata": {},
   "outputs": [
    {
     "data": {
      "image/png": "[encoded data removed]",
      "text/plain": [
       "<Figure size 864x360 with 2 Axes>"
      ]
     },
     "metadata": {
      "needs_background": "light"
     },
     "output_type": "display_data"
    }
   ],
   "source": [
    "# проверяем распределение данных по целевой переменной\n",
    "fig, axes = plt.subplots(nrows=1, ncols = 2, figsize=(12,5))\n",
    "histplot = sns.histplot(data = cleaned, x = 'sqft', ax=axes[0])\n",
    "histplot.set_title('Full square distribution')\n",
    "boxplot = sns.boxplot( data = cleaned, x = 'sqft', ax = axes[1])\n",
    "boxplot.set_title('Full square boxplot');"
   ]
  },
  {
   "cell_type": "code",
   "execution_count": 369,
   "metadata": {},
   "outputs": [
    {
     "name": "stdout",
     "output_type": "stream",
     "text": [
      "<class 'pandas.core.frame.DataFrame'>\n",
      "Index: 279475 entries, 0 to 377134\n",
      "Data columns (total 18 columns):\n",
      " #   Column        Non-Null Count   Dtype  \n",
      "---  ------        --------------   -----  \n",
      " 0   status        247629 non-null  object \n",
      " 1   private pool  3334 non-null    object \n",
      " 2   propertyType  264865 non-null  object \n",
      " 3   street        279475 non-null  object \n",
      " 4   baths         225475 non-null  object \n",
      " 5   homeFacts     279475 non-null  object \n",
      " 6   fireplace     81828 non-null   object \n",
      " 7   city          279475 non-null  object \n",
      " 8   schools       279475 non-null  object \n",
      " 9   sqft          279475 non-null  float64\n",
      " 10  zipcode       279475 non-null  object \n",
      " 11  beds          237725 non-null  object \n",
      " 12  state         279475 non-null  object \n",
      " 13  stories       195154 non-null  object \n",
      " 14  mls-id        21505 non-null   object \n",
      " 15  PrivatePool   29229 non-null   object \n",
      " 16  MlsId         223581 non-null  object \n",
      " 17  target        279475 non-null  float64\n",
      "dtypes: float64(2), object(16)\n",
      "memory usage: 40.5+ MB\n"
     ]
    }
   ],
   "source": [
    "data = cleaned\n",
    "data.info()"
   ]
  },
  {
   "cell_type": "code",
   "execution_count": 370,
   "metadata": {},
   "outputs": [
    {
     "data": {
      "text/html": [
       "<div>\n",
       "<style scoped>\n",
       "    .dataframe tbody tr th:only-of-type {\n",
       "        vertical-align: middle;\n",
       "    }\n",
       "\n",
       "    .dataframe tbody tr th {\n",
       "        vertical-align: top;\n",
       "    }\n",
       "\n",
       "    .dataframe thead th {\n",
       "        text-align: right;\n",
       "    }\n",
       "</style>\n",
       "<table border=\"1\" class=\"dataframe\">\n",
       "  <thead>\n",
       "    <tr style=\"text-align: right;\">\n",
       "      <th></th>\n",
       "      <th>status</th>\n",
       "      <th>private pool</th>\n",
       "      <th>propertyType</th>\n",
       "      <th>street</th>\n",
       "      <th>baths</th>\n",
       "      <th>homeFacts</th>\n",
       "      <th>fireplace</th>\n",
       "      <th>city</th>\n",
       "      <th>schools</th>\n",
       "      <th>sqft</th>\n",
       "      <th>zipcode</th>\n",
       "      <th>beds</th>\n",
       "      <th>state</th>\n",
       "      <th>stories</th>\n",
       "      <th>mls-id</th>\n",
       "      <th>PrivatePool</th>\n",
       "      <th>MlsId</th>\n",
       "      <th>target</th>\n",
       "    </tr>\n",
       "  </thead>\n",
       "  <tbody>\n",
       "    <tr>\n",
       "      <th>0</th>\n",
       "      <td>Active</td>\n",
       "      <td>NaN</td>\n",
       "      <td>Single Family Home</td>\n",
       "      <td>240 Heather Ln</td>\n",
       "      <td>3.5</td>\n",
       "      <td>{'atAGlanceFacts': [{'factValue': '2019', 'fac...</td>\n",
       "      <td>Gas Logs</td>\n",
       "      <td>Southern Pines</td>\n",
       "      <td>[{'rating': ['4', '4', '7', 'NR', '4', '7', 'N...</td>\n",
       "      <td>2900.0</td>\n",
       "      <td>28387</td>\n",
       "      <td>4</td>\n",
       "      <td>NC</td>\n",
       "      <td>NaN</td>\n",
       "      <td>NaN</td>\n",
       "      <td>NaN</td>\n",
       "      <td>611019</td>\n",
       "      <td>418000.0</td>\n",
       "    </tr>\n",
       "    <tr>\n",
       "      <th>1</th>\n",
       "      <td>for sale</td>\n",
       "      <td>NaN</td>\n",
       "      <td>single-family home</td>\n",
       "      <td>12911 E Heroy Ave</td>\n",
       "      <td>3 Baths</td>\n",
       "      <td>{'atAGlanceFacts': [{'factValue': '2019', 'fac...</td>\n",
       "      <td>NaN</td>\n",
       "      <td>Spokane Valley</td>\n",
       "      <td>[{'rating': ['4/10', 'None/10', '4/10'], 'data...</td>\n",
       "      <td>1947.0</td>\n",
       "      <td>99216</td>\n",
       "      <td>3 Beds</td>\n",
       "      <td>WA</td>\n",
       "      <td>2.0</td>\n",
       "      <td>NaN</td>\n",
       "      <td>NaN</td>\n",
       "      <td>201916904</td>\n",
       "      <td>310000.0</td>\n",
       "    </tr>\n",
       "    <tr>\n",
       "      <th>5</th>\n",
       "      <td>for sale</td>\n",
       "      <td>NaN</td>\n",
       "      <td>townhouse</td>\n",
       "      <td>1624 S Newkirk St</td>\n",
       "      <td>NaN</td>\n",
       "      <td>{'atAGlanceFacts': [{'factValue': '1920', 'fac...</td>\n",
       "      <td>NaN</td>\n",
       "      <td>Philadelphia</td>\n",
       "      <td>[{'rating': [], 'data': {'Distance': [], 'Grad...</td>\n",
       "      <td>897.0</td>\n",
       "      <td>19145</td>\n",
       "      <td>2 Beds</td>\n",
       "      <td>PA</td>\n",
       "      <td>2.0</td>\n",
       "      <td>NaN</td>\n",
       "      <td>NaN</td>\n",
       "      <td>PAPH847006</td>\n",
       "      <td>209000.0</td>\n",
       "    </tr>\n",
       "    <tr>\n",
       "      <th>6</th>\n",
       "      <td>Active</td>\n",
       "      <td>NaN</td>\n",
       "      <td>Florida</td>\n",
       "      <td>552 Casanova Ct</td>\n",
       "      <td>NaN</td>\n",
       "      <td>{'atAGlanceFacts': [{'factValue': '2006', 'fac...</td>\n",
       "      <td>NaN</td>\n",
       "      <td>POINCIANA</td>\n",
       "      <td>[{'rating': ['3', '3', '1', 'NR'], 'data': {'D...</td>\n",
       "      <td>1507.0</td>\n",
       "      <td>34759</td>\n",
       "      <td>NaN</td>\n",
       "      <td>FL</td>\n",
       "      <td>One</td>\n",
       "      <td>NaN</td>\n",
       "      <td>NaN</td>\n",
       "      <td>S5026943</td>\n",
       "      <td>181500.0</td>\n",
       "    </tr>\n",
       "    <tr>\n",
       "      <th>8</th>\n",
       "      <td>Active</td>\n",
       "      <td>NaN</td>\n",
       "      <td>Single Family Home</td>\n",
       "      <td>11182 Owl Ave</td>\n",
       "      <td>2</td>\n",
       "      <td>{'atAGlanceFacts': [{'factValue': '1970', 'fac...</td>\n",
       "      <td>NaN</td>\n",
       "      <td>Mason City</td>\n",
       "      <td>[{'rating': ['2', '2', '4', '7', '4', 'NR'], '...</td>\n",
       "      <td>3588.0</td>\n",
       "      <td>50401</td>\n",
       "      <td>3</td>\n",
       "      <td>IA</td>\n",
       "      <td>NaN</td>\n",
       "      <td>NaN</td>\n",
       "      <td>NaN</td>\n",
       "      <td>190988</td>\n",
       "      <td>244900.0</td>\n",
       "    </tr>\n",
       "    <tr>\n",
       "      <th>...</th>\n",
       "      <td>...</td>\n",
       "      <td>...</td>\n",
       "      <td>...</td>\n",
       "      <td>...</td>\n",
       "      <td>...</td>\n",
       "      <td>...</td>\n",
       "      <td>...</td>\n",
       "      <td>...</td>\n",
       "      <td>...</td>\n",
       "      <td>...</td>\n",
       "      <td>...</td>\n",
       "      <td>...</td>\n",
       "      <td>...</td>\n",
       "      <td>...</td>\n",
       "      <td>...</td>\n",
       "      <td>...</td>\n",
       "      <td>...</td>\n",
       "      <td>...</td>\n",
       "    </tr>\n",
       "    <tr>\n",
       "      <th>377128</th>\n",
       "      <td>NaN</td>\n",
       "      <td>NaN</td>\n",
       "      <td>Single Family</td>\n",
       "      <td>Buildable plan: The Torino (384L) Riverstone R...</td>\n",
       "      <td>2</td>\n",
       "      <td>{'atAGlanceFacts': [{'factValue': '2019', 'fac...</td>\n",
       "      <td>NaN</td>\n",
       "      <td>Houston</td>\n",
       "      <td>[{'rating': ['7/10', '6/10', '5/10'], 'data': ...</td>\n",
       "      <td>1841.0</td>\n",
       "      <td>77089</td>\n",
       "      <td>4</td>\n",
       "      <td>TX</td>\n",
       "      <td>1.0</td>\n",
       "      <td>NaN</td>\n",
       "      <td>NaN</td>\n",
       "      <td>NaN</td>\n",
       "      <td>252990.0</td>\n",
       "    </tr>\n",
       "    <tr>\n",
       "      <th>377129</th>\n",
       "      <td>For sale</td>\n",
       "      <td>NaN</td>\n",
       "      <td>Condo</td>\n",
       "      <td>2238 11th St NW APT 2</td>\n",
       "      <td>3</td>\n",
       "      <td>{'atAGlanceFacts': [{'factValue': '2010', 'fac...</td>\n",
       "      <td>NaN</td>\n",
       "      <td>Washington</td>\n",
       "      <td>[{'rating': ['3/10', '3/10'], 'data': {'Distan...</td>\n",
       "      <td>1417.0</td>\n",
       "      <td>20001</td>\n",
       "      <td>2</td>\n",
       "      <td>DC</td>\n",
       "      <td>3.0</td>\n",
       "      <td>NaN</td>\n",
       "      <td>NaN</td>\n",
       "      <td>DCDC444306</td>\n",
       "      <td>799000.0</td>\n",
       "    </tr>\n",
       "    <tr>\n",
       "      <th>377131</th>\n",
       "      <td>for sale</td>\n",
       "      <td>NaN</td>\n",
       "      <td>condo</td>\n",
       "      <td>3530 N Lake Shore Dr #4B</td>\n",
       "      <td>3 Baths</td>\n",
       "      <td>{'atAGlanceFacts': [{'factValue': '1924', 'fac...</td>\n",
       "      <td>NaN</td>\n",
       "      <td>Chicago</td>\n",
       "      <td>[{'rating': ['1/10', '5/10', '7/10'], 'data': ...</td>\n",
       "      <td>2000.0</td>\n",
       "      <td>60657</td>\n",
       "      <td>3 Beds</td>\n",
       "      <td>IL</td>\n",
       "      <td>9.0</td>\n",
       "      <td>NaN</td>\n",
       "      <td>NaN</td>\n",
       "      <td>10374233</td>\n",
       "      <td>674999.0</td>\n",
       "    </tr>\n",
       "    <tr>\n",
       "      <th>377132</th>\n",
       "      <td>for sale</td>\n",
       "      <td>NaN</td>\n",
       "      <td>single-family home</td>\n",
       "      <td>15509 Linden Blvd</td>\n",
       "      <td>3 Baths</td>\n",
       "      <td>{'atAGlanceFacts': [{'factValue': '1950', 'fac...</td>\n",
       "      <td>NaN</td>\n",
       "      <td>Jamaica</td>\n",
       "      <td>[{'rating': ['5/10', '4/10'], 'data': {'Distan...</td>\n",
       "      <td>1152.0</td>\n",
       "      <td>11434</td>\n",
       "      <td>3 Beds</td>\n",
       "      <td>NY</td>\n",
       "      <td>2</td>\n",
       "      <td>NaN</td>\n",
       "      <td>NaN</td>\n",
       "      <td>NaN</td>\n",
       "      <td>528000.0</td>\n",
       "    </tr>\n",
       "    <tr>\n",
       "      <th>377134</th>\n",
       "      <td>NaN</td>\n",
       "      <td>NaN</td>\n",
       "      <td>Single Family</td>\n",
       "      <td>5983 Midcrown Dr</td>\n",
       "      <td>2.0</td>\n",
       "      <td>{'atAGlanceFacts': [{'factValue': '2019', 'fac...</td>\n",
       "      <td>Not Applicable</td>\n",
       "      <td>San Antonio</td>\n",
       "      <td>[{'rating': ['5/10', '4/10', '3/10'], 'data': ...</td>\n",
       "      <td>1462.0</td>\n",
       "      <td>78218</td>\n",
       "      <td>3</td>\n",
       "      <td>TX</td>\n",
       "      <td>1.0</td>\n",
       "      <td>NaN</td>\n",
       "      <td>NaN</td>\n",
       "      <td>1403619</td>\n",
       "      <td>204900.0</td>\n",
       "    </tr>\n",
       "  </tbody>\n",
       "</table>\n",
       "<p>279475 rows × 18 columns</p>\n",
       "</div>"
      ],
      "text/plain": [
       "          status private pool        propertyType   \n",
       "0         Active          NaN  Single Family Home  \\\n",
       "1       for sale          NaN  single-family home   \n",
       "5       for sale          NaN           townhouse   \n",
       "6         Active          NaN             Florida   \n",
       "8         Active          NaN  Single Family Home   \n",
       "...          ...          ...                 ...   \n",
       "377128       NaN          NaN       Single Family   \n",
       "377129  For sale          NaN               Condo   \n",
       "377131  for sale          NaN               condo   \n",
       "377132  for sale          NaN  single-family home   \n",
       "377134       NaN          NaN       Single Family   \n",
       "\n",
       "                                                   street    baths   \n",
       "0                                          240 Heather Ln      3.5  \\\n",
       "1                                       12911 E Heroy Ave  3 Baths   \n",
       "5                                       1624 S Newkirk St      NaN   \n",
       "6                                        552 Casanova Ct       NaN   \n",
       "8                                           11182 Owl Ave        2   \n",
       "...                                                   ...      ...   \n",
       "377128  Buildable plan: The Torino (384L) Riverstone R...        2   \n",
       "377129                              2238 11th St NW APT 2        3   \n",
       "377131                           3530 N Lake Shore Dr #4B  3 Baths   \n",
       "377132                                  15509 Linden Blvd  3 Baths   \n",
       "377134                                   5983 Midcrown Dr      2.0   \n",
       "\n",
       "                                                homeFacts       fireplace   \n",
       "0       {'atAGlanceFacts': [{'factValue': '2019', 'fac...        Gas Logs  \\\n",
       "1       {'atAGlanceFacts': [{'factValue': '2019', 'fac...             NaN   \n",
       "5       {'atAGlanceFacts': [{'factValue': '1920', 'fac...             NaN   \n",
       "6       {'atAGlanceFacts': [{'factValue': '2006', 'fac...             NaN   \n",
       "8       {'atAGlanceFacts': [{'factValue': '1970', 'fac...             NaN   \n",
       "...                                                   ...             ...   \n",
       "377128  {'atAGlanceFacts': [{'factValue': '2019', 'fac...             NaN   \n",
       "377129  {'atAGlanceFacts': [{'factValue': '2010', 'fac...             NaN   \n",
       "377131  {'atAGlanceFacts': [{'factValue': '1924', 'fac...             NaN   \n",
       "377132  {'atAGlanceFacts': [{'factValue': '1950', 'fac...             NaN   \n",
       "377134  {'atAGlanceFacts': [{'factValue': '2019', 'fac...  Not Applicable   \n",
       "\n",
       "                  city                                            schools   \n",
       "0       Southern Pines  [{'rating': ['4', '4', '7', 'NR', '4', '7', 'N...  \\\n",
       "1       Spokane Valley  [{'rating': ['4/10', 'None/10', '4/10'], 'data...   \n",
       "5         Philadelphia  [{'rating': [], 'data': {'Distance': [], 'Grad...   \n",
       "6            POINCIANA  [{'rating': ['3', '3', '1', 'NR'], 'data': {'D...   \n",
       "8           Mason City  [{'rating': ['2', '2', '4', '7', '4', 'NR'], '...   \n",
       "...                ...                                                ...   \n",
       "377128         Houston  [{'rating': ['7/10', '6/10', '5/10'], 'data': ...   \n",
       "377129      Washington  [{'rating': ['3/10', '3/10'], 'data': {'Distan...   \n",
       "377131         Chicago  [{'rating': ['1/10', '5/10', '7/10'], 'data': ...   \n",
       "377132         Jamaica  [{'rating': ['5/10', '4/10'], 'data': {'Distan...   \n",
       "377134     San Antonio  [{'rating': ['5/10', '4/10', '3/10'], 'data': ...   \n",
       "\n",
       "          sqft zipcode    beds state stories mls-id PrivatePool       MlsId   \n",
       "0       2900.0   28387       4    NC     NaN    NaN         NaN      611019  \\\n",
       "1       1947.0   99216  3 Beds    WA     2.0    NaN         NaN   201916904   \n",
       "5        897.0   19145  2 Beds    PA     2.0    NaN         NaN  PAPH847006   \n",
       "6       1507.0   34759     NaN    FL     One    NaN         NaN    S5026943   \n",
       "8       3588.0   50401       3    IA     NaN    NaN         NaN      190988   \n",
       "...        ...     ...     ...   ...     ...    ...         ...         ...   \n",
       "377128  1841.0   77089       4    TX     1.0    NaN         NaN         NaN   \n",
       "377129  1417.0   20001       2    DC     3.0    NaN         NaN  DCDC444306   \n",
       "377131  2000.0   60657  3 Beds    IL     9.0    NaN         NaN    10374233   \n",
       "377132  1152.0   11434  3 Beds    NY       2    NaN         NaN         NaN   \n",
       "377134  1462.0   78218       3    TX     1.0    NaN         NaN     1403619   \n",
       "\n",
       "          target  \n",
       "0       418000.0  \n",
       "1       310000.0  \n",
       "5       209000.0  \n",
       "6       181500.0  \n",
       "8       244900.0  \n",
       "...          ...  \n",
       "377128  252990.0  \n",
       "377129  799000.0  \n",
       "377131  674999.0  \n",
       "377132  528000.0  \n",
       "377134  204900.0  \n",
       "\n",
       "[279475 rows x 18 columns]"
      ]
     },
     "execution_count": 370,
     "metadata": {},
     "output_type": "execute_result"
    }
   ],
   "source": [
    "data"
   ]
  },
  {
   "cell_type": "markdown",
   "metadata": {},
   "source": [
    "Кодируем поле статус"
   ]
  },
  {
   "cell_type": "code",
   "execution_count": 371,
   "metadata": {},
   "outputs": [
    {
     "data": {
      "text/plain": [
       "status\n",
       "for sale                 116969\n",
       "Active                    68751\n",
       "For sale                  36221\n",
       "foreclosure                5315\n",
       "New construction           4611\n",
       "                          ...  \n",
       "Pending Take Backups          1\n",
       "Coming soon: Nov 26.          1\n",
       "Conting Accpt Backups         1\n",
       "Lease/Purchase                1\n",
       "Coming soon: Dec 23.          1\n",
       "Name: count, Length: 146, dtype: int64"
      ]
     },
     "execution_count": 371,
     "metadata": {},
     "output_type": "execute_result"
    }
   ],
   "source": [
    "data['status'].value_counts()"
   ]
  },
  {
   "cell_type": "markdown",
   "metadata": {},
   "source": [
    "### Кодируем поле наличия бассейна"
   ]
  },
  {
   "cell_type": "code",
   "execution_count": 372,
   "metadata": {},
   "outputs": [
    {
     "data": {
      "text/plain": [
       "PrivatePool\n",
       "yes    21297\n",
       "Yes     7932\n",
       "Name: count, dtype: int64"
      ]
     },
     "execution_count": 372,
     "metadata": {},
     "output_type": "execute_result"
    }
   ],
   "source": [
    "data['PrivatePool'].value_counts()"
   ]
  },
  {
   "cell_type": "code",
   "execution_count": 373,
   "metadata": {},
   "outputs": [
    {
     "data": {
      "text/plain": [
       "private pool\n",
       "Yes    3334\n",
       "Name: count, dtype: int64"
      ]
     },
     "execution_count": 373,
     "metadata": {},
     "output_type": "execute_result"
    }
   ],
   "source": [
    "data['private pool'].value_counts()"
   ]
  },
  {
   "cell_type": "code",
   "execution_count": 374,
   "metadata": {},
   "outputs": [],
   "source": [
    "def pool_detect(arg1, arg2):\n",
    "    #print(type(arg))\n",
    "    if type(arg1) == str:\n",
    "        if str.upper(arg1) == 'YES':\n",
    "            return 1\n",
    "    elif type(arg2) == str:\n",
    "        if str.upper(arg2) == 'YES':\n",
    "            return 1\n",
    "    else:\n",
    "        return 0"
   ]
  },
  {
   "cell_type": "code",
   "execution_count": 375,
   "metadata": {},
   "outputs": [],
   "source": [
    "data['pool'] = data[['private pool','PrivatePool']].apply(lambda x: pool_detect(*x), axis=1)"
   ]
  },
  {
   "cell_type": "code",
   "execution_count": 376,
   "metadata": {},
   "outputs": [
    {
     "data": {
      "text/plain": [
       "pool\n",
       "0    246912\n",
       "1     32563\n",
       "Name: count, dtype: int64"
      ]
     },
     "execution_count": 376,
     "metadata": {},
     "output_type": "execute_result"
    }
   ],
   "source": [
    "data['pool'].value_counts()"
   ]
  },
  {
   "cell_type": "code",
   "execution_count": 377,
   "metadata": {},
   "outputs": [],
   "source": [
    "# удалим исходные поля\n",
    "data = data.drop(labels=['private pool','PrivatePool'], axis=1)"
   ]
  },
  {
   "cell_type": "markdown",
   "metadata": {},
   "source": [
    "### Кодируем статус"
   ]
  },
  {
   "cell_type": "code",
   "execution_count": 379,
   "metadata": {},
   "outputs": [
    {
     "data": {
      "text/plain": [
       "status\n",
       "for sale                             116969\n",
       "Active                                68751\n",
       "For sale                              36221\n",
       "foreclosure                            5315\n",
       "New construction                       4611\n",
       "Pending                                3927\n",
       "Pre-foreclosure                        1549\n",
       "P                                      1292\n",
       "Under Contract Show                     996\n",
       "Pre-foreclosure / auction               958\n",
       " / auction                              737\n",
       "Under Contract   Showing                692\n",
       "Under Contract                          609\n",
       "Active Under Contract                   546\n",
       "Contingent                              498\n",
       "New                                     447\n",
       "Price Change                            418\n",
       "A Active                                367\n",
       "Auction                                 361\n",
       "Foreclosure                             289\n",
       "Foreclosed                              250\n",
       "Under Contract Backups                  245\n",
       "Contingent Finance And Inspection       223\n",
       "Pending Continue To Show                170\n",
       "Back on Market                          100\n",
       "Name: count, dtype: int64"
      ]
     },
     "execution_count": 379,
     "metadata": {},
     "output_type": "execute_result"
    }
   ],
   "source": [
    "# изучаем значения поля статус и определяем основные признаки для кодирования\n",
    "data['status'].value_counts().head(25)"
   ]
  },
  {
   "cell_type": "markdown",
   "metadata": {},
   "source": [
    "Признаки пересекаются, необходимо применить ручное кодирование"
   ]
  },
  {
   "cell_type": "code",
   "execution_count": 380,
   "metadata": {},
   "outputs": [
    {
     "data": {
      "text/plain": [
       "31846"
      ]
     },
     "execution_count": 380,
     "metadata": {},
     "output_type": "execute_result"
    }
   ],
   "source": [
    "data['status'].isna().sum()"
   ]
  },
  {
   "cell_type": "code",
   "execution_count": 381,
   "metadata": {},
   "outputs": [],
   "source": [
    "# заполняем пропуски заглушкой\n",
    "data['status'] = data['status'].fillna('unknown')"
   ]
  },
  {
   "cell_type": "code",
   "execution_count": 382,
   "metadata": {},
   "outputs": [],
   "source": [
    "# кодируем вручную статусы\n",
    "data['status_1'] = data['status'].apply(lambda x: 1 if 'for sale' in str.lower(x) else 0)\n",
    "data['status_2'] = data['status'].apply(lambda x: 1 if 'active' in str.lower(x) else 0)\n",
    "data['status_3'] = data['status'].apply(lambda x: 1 if 'foreclos' in str.lower(x) else 0)\n",
    "data['status_4'] = data['status'].apply(lambda x: 1 if 'new' in str.lower(x) else 0)\n",
    "data['status_5'] = data['status'].apply(lambda x: 1 if 'pending' in str.lower(x) or x == 'P' else 0)\n",
    "data['status_6'] = data['status'].apply(lambda x: 1 if 'pre-foreclosure' in str.lower(x) else 0)\n",
    "data['status_7'] = data['status'].apply(lambda x: 1 if 'contract' in str.lower(x) else 0)\n",
    "data['status_8'] = data['status'].apply(lambda x: 1 if 'contingent' in str.lower(x) else 0)"
   ]
  },
  {
   "cell_type": "code",
   "execution_count": 383,
   "metadata": {},
   "outputs": [
    {
     "data": {
      "text/plain": [
       "status_8\n",
       "0    278569\n",
       "1       906\n",
       "Name: count, dtype: int64"
      ]
     },
     "execution_count": 383,
     "metadata": {},
     "output_type": "execute_result"
    }
   ],
   "source": [
    "data['status_8'].value_counts()"
   ]
  },
  {
   "cell_type": "code",
   "execution_count": 384,
   "metadata": {},
   "outputs": [],
   "source": [
    "# удаляем исходное поле\n",
    "data = data.drop(labels=['status'], axis=1)"
   ]
  },
  {
   "cell_type": "markdown",
   "metadata": {},
   "source": [
    "### Кодируем тип недвижимости \"propertyType\""
   ]
  },
  {
   "cell_type": "code",
   "execution_count": 385,
   "metadata": {},
   "outputs": [
    {
     "data": {
      "text/plain": [
       "propertyType\n",
       "single-family home               79218\n",
       "Single Family                    52404\n",
       "Single Family Home               28002\n",
       "condo                            21376\n",
       "Condo                            14149\n",
       "townhouse                        10595\n",
       "Condo/Townhome/Row Home/Co-Op     7141\n",
       "Townhouse                         6367\n",
       "Traditional                       5272\n",
       "multi-family                      4919\n",
       "lot/land                          2928\n",
       "Multi Family                      1933\n",
       "coop                              1706\n",
       "Ranch                             1703\n",
       "mobile/manufactured               1506\n",
       "Single Detached, Traditional      1437\n",
       "Contemporary                      1342\n",
       "High Rise                         1318\n",
       "Detached, One Story               1309\n",
       "1 Story                           1218\n",
       "Mobile / Manufactured              944\n",
       "Colonial                           919\n",
       "Contemporary/Modern                910\n",
       "Multi-Family Home                  883\n",
       "2 Stories                          866\n",
       "Name: count, dtype: int64"
      ]
     },
     "execution_count": 385,
     "metadata": {},
     "output_type": "execute_result"
    }
   ],
   "source": [
    "# исследуем структуру данных поля\n",
    "data['propertyType'].value_counts().head(25)"
   ]
  },
  {
   "cell_type": "markdown",
   "metadata": {},
   "source": [
    "Здесь также лучше подойдет ручное кодирование"
   ]
  },
  {
   "cell_type": "code",
   "execution_count": 386,
   "metadata": {},
   "outputs": [],
   "source": [
    "# заполняем пропуски заглушкой\n",
    "data['propertyType'] = data['propertyType'].fillna('unknown')"
   ]
  },
  {
   "cell_type": "code",
   "execution_count": 387,
   "metadata": {},
   "outputs": [],
   "source": [
    "# кодируем вручную статусы\n",
    "data['Type_1'] = data['propertyType'].apply(lambda x: 1 if 'single' in str.lower(x) and 'family' in str.lower(x) else 0)\n",
    "data['Type_2'] = data['propertyType'].apply(lambda x: 1 if 'condo' in str.lower(x) else 0)\n",
    "data['Type_3'] = data['propertyType'].apply(lambda x: 1 if 'town' in str.lower(x) else 0)\n",
    "data['Type_4'] = data['propertyType'].apply(lambda x: 1 if 'tradition' in str.lower(x) else 0)\n",
    "data['Type_5'] = data['propertyType'].apply(lambda x: 1 if 'multi' in str.lower(x) else 0)\n",
    "data['Type_6'] = data['propertyType'].apply(lambda x: 1 if 'coop' in str.lower(x) else 0)\n",
    "data['Type_7'] = data['propertyType'].apply(lambda x: 1 if 'ranch' in str.lower(x) else 0)\n",
    "data['Type_8'] = data['propertyType'].apply(lambda x: 1 if 'mobile' in str.lower(x) else 0)\n",
    "data['Type_9'] = data['propertyType'].apply(lambda x: 1 if 'contemp' in str.lower(x) else 0)\n",
    "data['Type_10'] = data['propertyType'].apply(lambda x: 1 if 'high' in str.lower(x) else 0)\n",
    "data['Type_11'] = data['propertyType'].apply(lambda x: 1 if 'colonial' in str.lower(x) else 0)\n",
    "data['Type_12'] = data['propertyType'].apply(lambda x: 1 if 'detached' in str.lower(x) else 0)\n",
    "data['Type_lot'] = data['propertyType'].apply(lambda x: 1 if 'lot' in str.lower(x) or 'land' in str.lower(x) else 0)"
   ]
  },
  {
   "cell_type": "code",
   "execution_count": 388,
   "metadata": {},
   "outputs": [],
   "source": [
    "# удаляем исходное поле\n",
    "data = data.drop(labels=['propertyType'], axis=1)"
   ]
  },
  {
   "cell_type": "code",
   "execution_count": 389,
   "metadata": {},
   "outputs": [
    {
     "data": {
      "text/plain": [
       "(276470, 36)"
      ]
     },
     "execution_count": 389,
     "metadata": {},
     "output_type": "execute_result"
    }
   ],
   "source": [
    "# Удаляем строки с типом \"земельный участок\"\n",
    "data = data.drop(labels=data[data['Type_lot']==1].index, axis=0)\n",
    "data.shape"
   ]
  },
  {
   "cell_type": "code",
   "execution_count": 390,
   "metadata": {},
   "outputs": [],
   "source": [
    "# удаляем исходное поле \"земельный участок\"\n",
    "data = data.drop(labels=['Type_lot'], axis=1)"
   ]
  },
  {
   "cell_type": "code",
   "execution_count": 391,
   "metadata": {},
   "outputs": [
    {
     "data": {
      "text/plain": [
       "Type_1\n",
       "1    159771\n",
       "0    116699\n",
       "Name: count, dtype: int64"
      ]
     },
     "execution_count": 391,
     "metadata": {},
     "output_type": "execute_result"
    }
   ],
   "source": [
    "data['Type_1'].value_counts()"
   ]
  },
  {
   "cell_type": "code",
   "execution_count": 392,
   "metadata": {},
   "outputs": [
    {
     "name": "stdout",
     "output_type": "stream",
     "text": [
      "<class 'pandas.core.frame.DataFrame'>\n",
      "Index: 276470 entries, 0 to 377134\n",
      "Data columns (total 35 columns):\n",
      " #   Column     Non-Null Count   Dtype  \n",
      "---  ------     --------------   -----  \n",
      " 0   street     276470 non-null  object \n",
      " 1   baths      224999 non-null  object \n",
      " 2   homeFacts  276470 non-null  object \n",
      " 3   fireplace  81170 non-null   object \n",
      " 4   city       276470 non-null  object \n",
      " 5   schools    276470 non-null  object \n",
      " 6   sqft       276470 non-null  float64\n",
      " 7   zipcode    276470 non-null  object \n",
      " 8   beds       235801 non-null  object \n",
      " 9   state      276470 non-null  object \n",
      " 10  stories    193825 non-null  object \n",
      " 11  mls-id     21505 non-null   object \n",
      " 12  MlsId      220578 non-null  object \n",
      " 13  target     276470 non-null  float64\n",
      " 14  pool       276470 non-null  int64  \n",
      " 15  status_1   276470 non-null  int64  \n",
      " 16  status_2   276470 non-null  int64  \n",
      " 17  status_3   276470 non-null  int64  \n",
      " 18  status_4   276470 non-null  int64  \n",
      " 19  status_5   276470 non-null  int64  \n",
      " 20  status_6   276470 non-null  int64  \n",
      " 21  status_7   276470 non-null  int64  \n",
      " 22  status_8   276470 non-null  int64  \n",
      " 23  Type_1     276470 non-null  int64  \n",
      " 24  Type_2     276470 non-null  int64  \n",
      " 25  Type_3     276470 non-null  int64  \n",
      " 26  Type_4     276470 non-null  int64  \n",
      " 27  Type_5     276470 non-null  int64  \n",
      " 28  Type_6     276470 non-null  int64  \n",
      " 29  Type_7     276470 non-null  int64  \n",
      " 30  Type_8     276470 non-null  int64  \n",
      " 31  Type_9     276470 non-null  int64  \n",
      " 32  Type_10    276470 non-null  int64  \n",
      " 33  Type_11    276470 non-null  int64  \n",
      " 34  Type_12    276470 non-null  int64  \n",
      "dtypes: float64(2), int64(21), object(12)\n",
      "memory usage: 75.9+ MB\n"
     ]
    }
   ],
   "source": [
    "data.info()"
   ]
  },
  {
   "cell_type": "markdown",
   "metadata": {},
   "source": [
    "### Кодируем количество комнат"
   ]
  },
  {
   "cell_type": "code",
   "execution_count": 393,
   "metadata": {},
   "outputs": [
    {
     "data": {
      "text/plain": [
       "0              4\n",
       "1         3 Beds\n",
       "5         2 Beds\n",
       "6            NaN\n",
       "8              3\n",
       "           ...  \n",
       "377128         4\n",
       "377129         2\n",
       "377131    3 Beds\n",
       "377132    3 Beds\n",
       "377134         3\n",
       "Name: beds, Length: 276470, dtype: object"
      ]
     },
     "execution_count": 393,
     "metadata": {},
     "output_type": "execute_result"
    }
   ],
   "source": [
    "data['beds']"
   ]
  },
  {
   "cell_type": "code",
   "execution_count": 394,
   "metadata": {},
   "outputs": [
    {
     "data": {
      "text/plain": [
       "40669"
      ]
     },
     "execution_count": 394,
     "metadata": {},
     "output_type": "execute_result"
    }
   ],
   "source": [
    "data['beds'].isna().sum()"
   ]
  },
  {
   "cell_type": "code",
   "execution_count": 395,
   "metadata": {},
   "outputs": [],
   "source": [
    "# заполняем пропуски заглушкой. Считаем, что одна комната, если не указано.\n",
    "data['beds'] = data['beds'].fillna('1')"
   ]
  },
  {
   "cell_type": "code",
   "execution_count": 396,
   "metadata": {},
   "outputs": [],
   "source": [
    "# убираем спецсимволы в поле target и помечаем для удаления строки с пометкой /mo (помесячная аренда)\n",
    "words_list = ['beds',' ','bd','--']\n",
    "\n",
    "def search_for_symbols(arg):\n",
    "    for sub_string in words_list:\n",
    "        if sub_string in str.lower(arg):\n",
    "            arg = str.lower(arg).replace(sub_string,'')\n",
    "    if 'sqft' in str.lower(arg) or 'bath' in str.lower(arg) or 'price' in str.lower(arg):\n",
    "        return 1\n",
    "    if arg == '':\n",
    "        return 1\n",
    "    return arg\n",
    "\n",
    "# удаляем символы и преобразуем в тип float\n",
    "data['beds'] = data['beds'].apply(search_for_symbols).astype('float').astype('int')"
   ]
  },
  {
   "cell_type": "markdown",
   "metadata": {},
   "source": [
    "### Кодируем количество ванных комнат"
   ]
  },
  {
   "cell_type": "code",
   "execution_count": 397,
   "metadata": {},
   "outputs": [
    {
     "data": {
      "text/plain": [
       "0             3.5\n",
       "1         3 Baths\n",
       "5             NaN\n",
       "6             NaN\n",
       "8               2\n",
       "           ...   \n",
       "377128          2\n",
       "377129          3\n",
       "377131    3 Baths\n",
       "377132    3 Baths\n",
       "377134        2.0\n",
       "Name: baths, Length: 276470, dtype: object"
      ]
     },
     "execution_count": 397,
     "metadata": {},
     "output_type": "execute_result"
    }
   ],
   "source": [
    "data['baths']"
   ]
  },
  {
   "cell_type": "code",
   "execution_count": 398,
   "metadata": {},
   "outputs": [],
   "source": [
    "# заполняем пропуски заглушкой\n",
    "data['baths'] = data['baths'].fillna('0')"
   ]
  },
  {
   "cell_type": "code",
   "execution_count": 399,
   "metadata": {},
   "outputs": [],
   "source": [
    "# убираем спецсимволы в поле target и помечаем для удаления строки с пометкой /mo (помесячная аренда)\n",
    "words_list = ['baths',' ','bathrooms:','ba','~','+','/','sq.ft.','-','semimod','—']\n",
    "\n",
    "def search_for_symbols(arg):\n",
    "    for sub_string in words_list:\n",
    "        if sub_string in str.lower(arg):\n",
    "            arg = str.lower(arg).replace(sub_string,'')\n",
    "    if ',' in str.lower(arg):\n",
    "        arg = str.lower(arg).replace(',','.')\n",
    "    if arg == '':\n",
    "        return 1\n",
    "    return arg\n",
    "\n",
    "# удаляем символы и преобразуем в тип float\n",
    "data['baths'] = data['baths'].apply(search_for_symbols).astype('float').astype('int')"
   ]
  },
  {
   "cell_type": "code",
   "execution_count": 400,
   "metadata": {},
   "outputs": [
    {
     "data": {
      "text/plain": [
       "90973         0\n",
       "94210         0\n",
       "94209         0\n",
       "94204         0\n",
       "276060        0\n",
       "          ...  \n",
       "174295      750\n",
       "204990      750\n",
       "35670       750\n",
       "324841      750\n",
       "24724     10101\n",
       "Name: baths, Length: 276470, dtype: int32"
      ]
     },
     "execution_count": 400,
     "metadata": {},
     "output_type": "execute_result"
    }
   ],
   "source": [
    "data['baths'].sort_values()"
   ]
  },
  {
   "cell_type": "code",
   "execution_count": 401,
   "metadata": {},
   "outputs": [
    {
     "data": {
      "text/html": [
       "<div>\n",
       "<style scoped>\n",
       "    .dataframe tbody tr th:only-of-type {\n",
       "        vertical-align: middle;\n",
       "    }\n",
       "\n",
       "    .dataframe tbody tr th {\n",
       "        vertical-align: top;\n",
       "    }\n",
       "\n",
       "    .dataframe thead th {\n",
       "        text-align: right;\n",
       "    }\n",
       "</style>\n",
       "<table border=\"1\" class=\"dataframe\">\n",
       "  <thead>\n",
       "    <tr style=\"text-align: right;\">\n",
       "      <th></th>\n",
       "      <th>street</th>\n",
       "      <th>baths</th>\n",
       "      <th>homeFacts</th>\n",
       "      <th>fireplace</th>\n",
       "      <th>city</th>\n",
       "      <th>schools</th>\n",
       "      <th>sqft</th>\n",
       "      <th>zipcode</th>\n",
       "      <th>beds</th>\n",
       "      <th>state</th>\n",
       "      <th>...</th>\n",
       "      <th>Type_3</th>\n",
       "      <th>Type_4</th>\n",
       "      <th>Type_5</th>\n",
       "      <th>Type_6</th>\n",
       "      <th>Type_7</th>\n",
       "      <th>Type_8</th>\n",
       "      <th>Type_9</th>\n",
       "      <th>Type_10</th>\n",
       "      <th>Type_11</th>\n",
       "      <th>Type_12</th>\n",
       "    </tr>\n",
       "  </thead>\n",
       "  <tbody>\n",
       "    <tr>\n",
       "      <th>15524</th>\n",
       "      <td>418 Leopard Claw</td>\n",
       "      <td>8</td>\n",
       "      <td>{'atAGlanceFacts': [{'factValue': '2003', 'fac...</td>\n",
       "      <td>Not Applicable</td>\n",
       "      <td>San Antonio</td>\n",
       "      <td>[{'rating': ['6/10', '5/10', '4/10'], 'data': ...</td>\n",
       "      <td>3041.0</td>\n",
       "      <td>78251</td>\n",
       "      <td>5</td>\n",
       "      <td>TX</td>\n",
       "      <td>...</td>\n",
       "      <td>0</td>\n",
       "      <td>0</td>\n",
       "      <td>0</td>\n",
       "      <td>0</td>\n",
       "      <td>0</td>\n",
       "      <td>0</td>\n",
       "      <td>0</td>\n",
       "      <td>0</td>\n",
       "      <td>0</td>\n",
       "      <td>0</td>\n",
       "    </tr>\n",
       "    <tr>\n",
       "      <th>17965</th>\n",
       "      <td>192 Ontario St</td>\n",
       "      <td>8</td>\n",
       "      <td>{'atAGlanceFacts': [{'factValue': '1965', 'fac...</td>\n",
       "      <td>NaN</td>\n",
       "      <td>Albany</td>\n",
       "      <td>[{'rating': ['3/10', '3/10', '2/10'], 'data': ...</td>\n",
       "      <td>3500.0</td>\n",
       "      <td>12203</td>\n",
       "      <td>10</td>\n",
       "      <td>NY</td>\n",
       "      <td>...</td>\n",
       "      <td>0</td>\n",
       "      <td>0</td>\n",
       "      <td>1</td>\n",
       "      <td>0</td>\n",
       "      <td>0</td>\n",
       "      <td>0</td>\n",
       "      <td>0</td>\n",
       "      <td>0</td>\n",
       "      <td>0</td>\n",
       "      <td>0</td>\n",
       "    </tr>\n",
       "    <tr>\n",
       "      <th>25150</th>\n",
       "      <td>5393 Del Gado Dr</td>\n",
       "      <td>8</td>\n",
       "      <td>{'atAGlanceFacts': [{'factValue': '1988', 'fac...</td>\n",
       "      <td>yes</td>\n",
       "      <td>Las Vegas</td>\n",
       "      <td>[{'rating': ['6/10', 'None/10', '7/10'], 'data...</td>\n",
       "      <td>3716.0</td>\n",
       "      <td>89103</td>\n",
       "      <td>8</td>\n",
       "      <td>NV</td>\n",
       "      <td>...</td>\n",
       "      <td>0</td>\n",
       "      <td>0</td>\n",
       "      <td>1</td>\n",
       "      <td>0</td>\n",
       "      <td>0</td>\n",
       "      <td>0</td>\n",
       "      <td>0</td>\n",
       "      <td>0</td>\n",
       "      <td>0</td>\n",
       "      <td>0</td>\n",
       "    </tr>\n",
       "    <tr>\n",
       "      <th>26973</th>\n",
       "      <td>Ivy At Inlet Bch #24</td>\n",
       "      <td>8</td>\n",
       "      <td>{'atAGlanceFacts': [{'factValue': '', 'factLab...</td>\n",
       "      <td>NaN</td>\n",
       "      <td>Rosemary Beach</td>\n",
       "      <td>[{'rating': ['7/10', '6/10', '7/10'], 'data': ...</td>\n",
       "      <td>2306.0</td>\n",
       "      <td>32461</td>\n",
       "      <td>3</td>\n",
       "      <td>FL</td>\n",
       "      <td>...</td>\n",
       "      <td>0</td>\n",
       "      <td>0</td>\n",
       "      <td>0</td>\n",
       "      <td>0</td>\n",
       "      <td>0</td>\n",
       "      <td>0</td>\n",
       "      <td>0</td>\n",
       "      <td>0</td>\n",
       "      <td>0</td>\n",
       "      <td>0</td>\n",
       "    </tr>\n",
       "    <tr>\n",
       "      <th>30129</th>\n",
       "      <td>Address Not Disclosed</td>\n",
       "      <td>8</td>\n",
       "      <td>{'atAGlanceFacts': [{'factValue': '1952', 'fac...</td>\n",
       "      <td>NaN</td>\n",
       "      <td>Miami</td>\n",
       "      <td>[{'rating': ['4/10', '4/10', '2/10', '10/10', ...</td>\n",
       "      <td>2285.0</td>\n",
       "      <td>33138</td>\n",
       "      <td>4</td>\n",
       "      <td>FL</td>\n",
       "      <td>...</td>\n",
       "      <td>0</td>\n",
       "      <td>0</td>\n",
       "      <td>1</td>\n",
       "      <td>0</td>\n",
       "      <td>0</td>\n",
       "      <td>0</td>\n",
       "      <td>0</td>\n",
       "      <td>0</td>\n",
       "      <td>0</td>\n",
       "      <td>0</td>\n",
       "    </tr>\n",
       "  </tbody>\n",
       "</table>\n",
       "<p>5 rows × 35 columns</p>\n",
       "</div>"
      ],
      "text/plain": [
       "                      street  baths   \n",
       "15524       418 Leopard Claw      8  \\\n",
       "17965         192 Ontario St      8   \n",
       "25150       5393 Del Gado Dr      8   \n",
       "26973   Ivy At Inlet Bch #24      8   \n",
       "30129  Address Not Disclosed      8   \n",
       "\n",
       "                                               homeFacts       fireplace   \n",
       "15524  {'atAGlanceFacts': [{'factValue': '2003', 'fac...  Not Applicable  \\\n",
       "17965  {'atAGlanceFacts': [{'factValue': '1965', 'fac...             NaN   \n",
       "25150  {'atAGlanceFacts': [{'factValue': '1988', 'fac...             yes   \n",
       "26973  {'atAGlanceFacts': [{'factValue': '', 'factLab...             NaN   \n",
       "30129  {'atAGlanceFacts': [{'factValue': '1952', 'fac...             NaN   \n",
       "\n",
       "                 city                                            schools   \n",
       "15524     San Antonio  [{'rating': ['6/10', '5/10', '4/10'], 'data': ...  \\\n",
       "17965          Albany  [{'rating': ['3/10', '3/10', '2/10'], 'data': ...   \n",
       "25150       Las Vegas  [{'rating': ['6/10', 'None/10', '7/10'], 'data...   \n",
       "26973  Rosemary Beach  [{'rating': ['7/10', '6/10', '7/10'], 'data': ...   \n",
       "30129           Miami  [{'rating': ['4/10', '4/10', '2/10', '10/10', ...   \n",
       "\n",
       "         sqft zipcode  beds state  ... Type_3 Type_4 Type_5  Type_6  Type_7   \n",
       "15524  3041.0   78251     5    TX  ...      0      0      0       0       0  \\\n",
       "17965  3500.0   12203    10    NY  ...      0      0      1       0       0   \n",
       "25150  3716.0   89103     8    NV  ...      0      0      1       0       0   \n",
       "26973  2306.0   32461     3    FL  ...      0      0      0       0       0   \n",
       "30129  2285.0   33138     4    FL  ...      0      0      1       0       0   \n",
       "\n",
       "       Type_8  Type_9  Type_10  Type_11  Type_12  \n",
       "15524       0       0        0        0        0  \n",
       "17965       0       0        0        0        0  \n",
       "25150       0       0        0        0        0  \n",
       "26973       0       0        0        0        0  \n",
       "30129       0       0        0        0        0  \n",
       "\n",
       "[5 rows x 35 columns]"
      ]
     },
     "execution_count": 401,
     "metadata": {},
     "output_type": "execute_result"
    }
   ],
   "source": [
    "data[data['baths'] == 8].head(5)"
   ]
  },
  {
   "cell_type": "markdown",
   "metadata": {},
   "source": [
    "С ванными пока непонятно. Что делать с числами более 10?\n",
    "\n",
    "пока займемся каминами"
   ]
  },
  {
   "cell_type": "code",
   "execution_count": 406,
   "metadata": {},
   "outputs": [
    {
     "data": {
      "text/plain": [
       "fireplace\n",
       "0                       195553\n",
       "yes                      39022\n",
       "Yes                      16533\n",
       "1                        12522\n",
       "Not Applicable            1970\n",
       "2                         1323\n",
       "Fireplace                  692\n",
       "Living Room                356\n",
       "Wood Burning               277\n",
       "Fireplace YN               270\n",
       "1 Fireplace                267\n",
       "No                         263\n",
       "FAMILYRM                   224\n",
       "Special Features           221\n",
       "Gas/Gas Logs               213\n",
       "Wood                       197\n",
       "Ceiling Fan                179\n",
       "Great Room                 165\n",
       "Fireplace Features         165\n",
       "Gas Logs, Great Room       164\n",
       "Name: count, dtype: int64"
      ]
     },
     "execution_count": 406,
     "metadata": {},
     "output_type": "execute_result"
    }
   ],
   "source": [
    "data['fireplace'].value_counts().head(20)"
   ]
  },
  {
   "cell_type": "code",
   "execution_count": 403,
   "metadata": {},
   "outputs": [],
   "source": [
    "# заполняем пропуски заглушкой\n",
    "data['fireplace'] = data['fireplace'].fillna('0')"
   ]
  },
  {
   "cell_type": "code",
   "execution_count": 438,
   "metadata": {},
   "outputs": [],
   "source": [
    "# кодируем вручную доп.фичи из поля fireplace\n",
    "data['fp_gas'] = data['fireplace'].apply(lambda x: 1 if 'gas' in str.lower(x) else 0)\n",
    "data['fp_log'] = data['fireplace'].apply(lambda x: 1 if 'logs' in str.lower(x) or 'wood' in str.lower(x) else 0)\n",
    "data['ceilingfan'] = data['fireplace'].apply(lambda x: 1 if 'fan' in str.lower(x) else 0)\n",
    "data['walkincloset'] = data['fireplace'].apply(lambda x: 1 if 'walk' in str.lower(x) and 'closet' in str.lower(x)else 0)\n",
    "data['fp_el'] = data['fireplace'].apply(lambda x: 1 if 'electric' in str.lower(x) else 0)\n",
    "data['storage'] = data['fireplace'].apply(lambda x: 1 if 'storage' in str.lower(x) else 0)\n",
    "data['xtra_storage'] = data['fireplace'].apply(lambda x: 1 if 'extra' in str.lower(x) else 0)\n",
    "data['utility_connection'] = data['fireplace'].apply(lambda x: 1 if 'utility connection' in str.lower(x) else 0)\n",
    "data['fp_brick'] = data['fireplace'].apply(lambda x: 1 if 'brick' in str.lower(x) or 'masonry' in str.lower(x) else 0)"
   ]
  },
  {
   "cell_type": "code",
   "execution_count": 448,
   "metadata": {},
   "outputs": [],
   "source": [
    "# кодируем поле по количеству каминов\n",
    "fireplace_yes_words = ['gas','wood','family','features','room','den','fireplaces','firepit']\n",
    "fireplace_no_words = ['decorative', 'n/k', 'not app', 'fireplace yn', 'electric', 'no fireplace']\n",
    "\n",
    "def search_for_words(arg):\n",
    "    if str.lower(arg) == 'yes' or str.lower(arg) == 'one' or str.lower(arg) == 'fireplace':\n",
    "        return '1'\n",
    "    if 'notapplicable' in str.lower(arg) or str.lower(arg) == 'no':\n",
    "        return '0'\n",
    "    if arg == '':\n",
    "        return '0'\n",
    "#\n",
    "    if 'one' in str.lower(arg) or '1' in str.lower(arg):\n",
    "        return '1'\n",
    "    if 'two' in str.lower(arg) or '2' in str.lower(arg):\n",
    "        return '2'\n",
    "    if '3' in str.lower(arg):\n",
    "        return '3'\n",
    "    for word in fireplace_yes_words:\n",
    "        if word in str.lower(arg):\n",
    "            return '1'\n",
    "    for word in fireplace_no_words:\n",
    "        if word in str.lower(arg):\n",
    "            return '0'\n",
    "    return arg\n",
    "\n",
    "# \n",
    "data['fireplace1'] = data['fireplace'].apply(search_for_words)"
   ]
  },
  {
   "cell_type": "code",
   "execution_count": 449,
   "metadata": {},
   "outputs": [
    {
     "data": {
      "text/plain": [
       "fireplace1\n",
       "0                                                                           198249\n",
       "1                                                                            74963\n",
       "2                                                                             1440\n",
       "Ceiling Fan                                                                    179\n",
       "3                                                                              146\n",
       "LOCATION                                                                       106\n",
       "Ceiling Fan, Walk-In Closets                                                    88\n",
       "Ceiling Fan, Extra Closets, Storage, Walk-In Closets                            58\n",
       "Ceiling Fan, Extra Closets, Storage, Utility Connection, Walk-In Closets        54\n",
       "Ceiling Fan, Extra Closets, Walk-In Closets                                     47\n",
       "Ceiling Fan, Utility Connection, Walk-In Closets                                45\n",
       "Walk-In Closets                                                                 45\n",
       "Ceiling Fan, Utility Connection                                                 39\n",
       "Ceiling Fan, Storage, Utility Connection, Walk-In Closets                       36\n",
       "Ceiling Fan, Storage, Walk-In Closets                                           35\n",
       "Ceiling Fan, Extra Closets, Utility Connection, Walk-In Closets                 35\n",
       "Ceiling Fan, Extra Closets                                                      31\n",
       "Utility Connection, Walk-In Closets                                             26\n",
       "Utility Connection                                                              21\n",
       "Ceiling Fan, Extra Closets, Storage, Utility Connection                         19\n",
       "Ceiling Fan, Extra Closets, Utility Connection                                  18\n",
       "4                                                                               17\n",
       "Ceiling Fan, Storage, Utility Connection                                        17\n",
       "Ceiling Fan, Extra Closets, Storage                                             15\n",
       "Extra Closets, Storage, Utility Connection, Walk-In Closets                     15\n",
       "Name: count, dtype: int64"
      ]
     },
     "execution_count": 449,
     "metadata": {},
     "output_type": "execute_result"
    }
   ],
   "source": [
    "data['fireplace1'].value_counts().head(25)"
   ]
  },
  {
   "cell_type": "code",
   "execution_count": 450,
   "metadata": {},
   "outputs": [
    {
     "data": {
      "text/plain": [
       "fireplace1\n",
       "Extra Closets                                                                   15\n",
       "Air Filter, Ceiling Fan, Extra Closets, Storage, Walk-In Closets                14\n",
       "Extras                                                                          13\n",
       "Ceiling Fan, Redecorated, Utility Connection                                    13\n",
       "Air Filter, Utility Connection, Walk-In Closets                                 13\n",
       "Storage, Walk-In Closets                                                        12\n",
       "Factory Built                                                                   11\n",
       "Other (See Remarks)                                                             11\n",
       "Storage                                                                         10\n",
       "Exterior Fireplace                                                              10\n",
       "Ceiling Fan, Fire Sprinkler System                                              10\n",
       "Insert                                                                          10\n",
       "Ceiling Fan, Storage                                                            10\n",
       "Storage, Utility Connection, Walk-In Closets                                     9\n",
       "Fireplace, Forced Air                                                            9\n",
       "Air Filter, Ceiling Fan                                                          9\n",
       "Air Filter, Ceiling Fan, Utility Connection, Walk-In Closets                     8\n",
       "Ceiling Fan, Extra Closets, Redecorated, Utility Connection, Walk-In Closets     8\n",
       "Brick                                                                            8\n",
       "Fireplace-Other, Forced Air                                                      8\n",
       "Ceiling Fan, Redecorated, Utility Connection, Walk-In Closets                    8\n",
       "See Agent                                                                        8\n",
       "Masonry                                                                          7\n",
       "Ceiling Fan, SMTHR, Walk-In Closets                                              7\n",
       "Ceiling Fan, Extra Closets, Storage, Walk-In Closets, Wet Bar                    7\n",
       "Name: count, dtype: int64"
      ]
     },
     "execution_count": 450,
     "metadata": {},
     "output_type": "execute_result"
    }
   ],
   "source": [
    "data['fireplace1'].value_counts().iloc[25:50]"
   ]
  },
  {
   "cell_type": "code",
   "execution_count": 348,
   "metadata": {},
   "outputs": [],
   "source": [
    "# кодируем вручную статусы\n",
    "data['fp_gas'] = data['fireplace'].apply(lambda x: 1 if 'gas' in str.lower(x) else 0)\n",
    "data['fp_log'] = data['fireplace'].apply(lambda x: 1 if 'logs' in str.lower(x) else 0)\n",
    "data['ceilingfan'] = data['fireplace'].apply(lambda x: 1 if 'fan' in str.lower(x) else 0)\n",
    "data['walk-incloset'] = data['fireplace'].apply(lambda x: 1 if 'walk-incloset' in str.lower(x) else 0)\n",
    "data['fp_el'] = data['fireplace'].apply(lambda x: 1 if 'electric' in str.lower(x) else 0)"
   ]
  },
  {
   "cell_type": "code",
   "execution_count": null,
   "metadata": {},
   "outputs": [],
   "source": [
    "# удаляем символы и преобразуем в тип float\n",
    "data['baths'] = data['baths'].apply(search_for_symbols).astype('float').astype('int')"
   ]
  }
 ],
 "metadata": {
  "kernelspec": {
   "display_name": "Python 3",
   "language": "python",
   "name": "python3"
  },
  "language_info": {
   "codemirror_mode": {
    "name": "ipython",
    "version": 3
   },
   "file_extension": ".py",
   "mimetype": "text/x-python",
   "name": "python",
   "nbconvert_exporter": "python",
   "pygments_lexer": "ipython3",
   "version": "3.10.4"
  }
 },
 "nbformat": 4,
 "nbformat_minor": 2
}
