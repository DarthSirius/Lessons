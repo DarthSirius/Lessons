{
 "cells": [
  {
   "cell_type": "code",
   "execution_count": 1,
   "metadata": {},
   "outputs": [],
   "source": [
    "import pandas as pd"
   ]
  },
  {
   "cell_type": "code",
   "execution_count": null,
   "metadata": {},
   "outputs": [],
   "source": [
    "df = pd.read_csv('new-site.csv', delimiter='\t')"
   ]
  },
  {
   "cell_type": "code",
   "execution_count": 7,
   "metadata": {},
   "outputs": [
    {
     "name": "stdout",
     "output_type": "stream",
     "text": [
      "<class 'pandas.core.frame.DataFrame'>\n",
      "RangeIndex: 300 entries, 0 to 299\n",
      "Data columns (total 2 columns):\n",
      " #   Column      Non-Null Count  Dtype\n",
      "---  ------      --------------  -----\n",
      " 0   site        300 non-null    int64\n",
      " 1   dwell-time  300 non-null    int64\n",
      "dtypes: int64(2)\n",
      "memory usage: 4.8 KB\n"
     ]
    }
   ],
   "source": [
    "df.info()"
   ]
  },
  {
   "cell_type": "code",
   "execution_count": 11,
   "metadata": {},
   "outputs": [
    {
     "data": {
      "text/html": [
       "<div>\n",
       "<style scoped>\n",
       "    .dataframe tbody tr th:only-of-type {\n",
       "        vertical-align: middle;\n",
       "    }\n",
       "\n",
       "    .dataframe tbody tr th {\n",
       "        vertical-align: top;\n",
       "    }\n",
       "\n",
       "    .dataframe thead th {\n",
       "        text-align: right;\n",
       "    }\n",
       "</style>\n",
       "<table border=\"1\" class=\"dataframe\">\n",
       "  <thead>\n",
       "    <tr style=\"text-align: right;\">\n",
       "      <th></th>\n",
       "      <th>dwell-time</th>\n",
       "    </tr>\n",
       "    <tr>\n",
       "      <th>site</th>\n",
       "      <th></th>\n",
       "    </tr>\n",
       "  </thead>\n",
       "  <tbody>\n",
       "    <tr>\n",
       "      <th>0</th>\n",
       "      <td>90.849462</td>\n",
       "    </tr>\n",
       "    <tr>\n",
       "      <th>1</th>\n",
       "      <td>88.000000</td>\n",
       "    </tr>\n",
       "  </tbody>\n",
       "</table>\n",
       "</div>"
      ],
      "text/plain": [
       "      dwell-time\n",
       "site            \n",
       "0      90.849462\n",
       "1      88.000000"
      ]
     },
     "execution_count": 11,
     "metadata": {},
     "output_type": "execute_result"
    }
   ],
   "source": [
    "df.groupby('site').mean()"
   ]
  },
  {
   "cell_type": "code",
   "execution_count": 10,
   "metadata": {},
   "outputs": [
    {
     "data": {
      "text/plain": [
       "site            114\n",
       "dwell-time    26930\n",
       "dtype: int64"
      ]
     },
     "execution_count": 10,
     "metadata": {},
     "output_type": "execute_result"
    }
   ],
   "source": [
    "df.sum()"
   ]
  },
  {
   "cell_type": "code",
   "execution_count": 23,
   "metadata": {},
   "outputs": [
    {
     "data": {
      "text/html": [
       "<div>\n",
       "<style scoped>\n",
       "    .dataframe tbody tr th:only-of-type {\n",
       "        vertical-align: middle;\n",
       "    }\n",
       "\n",
       "    .dataframe tbody tr th {\n",
       "        vertical-align: top;\n",
       "    }\n",
       "\n",
       "    .dataframe thead th {\n",
       "        text-align: right;\n",
       "    }\n",
       "</style>\n",
       "<table border=\"1\" class=\"dataframe\">\n",
       "  <thead>\n",
       "    <tr style=\"text-align: right;\">\n",
       "      <th></th>\n",
       "      <th>dwell-time</th>\n",
       "    </tr>\n",
       "    <tr>\n",
       "      <th>site</th>\n",
       "      <th></th>\n",
       "    </tr>\n",
       "  </thead>\n",
       "  <tbody>\n",
       "    <tr>\n",
       "      <th>0</th>\n",
       "      <td>186</td>\n",
       "    </tr>\n",
       "    <tr>\n",
       "      <th>1</th>\n",
       "      <td>114</td>\n",
       "    </tr>\n",
       "  </tbody>\n",
       "</table>\n",
       "</div>"
      ],
      "text/plain": [
       "      dwell-time\n",
       "site            \n",
       "0            186\n",
       "1            114"
      ]
     },
     "execution_count": 23,
     "metadata": {},
     "output_type": "execute_result"
    }
   ],
   "source": [
    "round(df.groupby('site').count())"
   ]
  },
  {
   "cell_type": "code",
   "execution_count": 12,
   "metadata": {},
   "outputs": [
    {
     "data": {
      "text/html": [
       "<div>\n",
       "<style scoped>\n",
       "    .dataframe tbody tr th:only-of-type {\n",
       "        vertical-align: middle;\n",
       "    }\n",
       "\n",
       "    .dataframe tbody tr th {\n",
       "        vertical-align: top;\n",
       "    }\n",
       "\n",
       "    .dataframe thead th {\n",
       "        text-align: right;\n",
       "    }\n",
       "</style>\n",
       "<table border=\"1\" class=\"dataframe\">\n",
       "  <thead>\n",
       "    <tr style=\"text-align: right;\">\n",
       "      <th></th>\n",
       "      <th>dwell-time</th>\n",
       "    </tr>\n",
       "    <tr>\n",
       "      <th>site</th>\n",
       "      <th></th>\n",
       "    </tr>\n",
       "  </thead>\n",
       "  <tbody>\n",
       "    <tr>\n",
       "      <th>0</th>\n",
       "      <td>91.0</td>\n",
       "    </tr>\n",
       "    <tr>\n",
       "      <th>1</th>\n",
       "      <td>88.0</td>\n",
       "    </tr>\n",
       "  </tbody>\n",
       "</table>\n",
       "</div>"
      ],
      "text/plain": [
       "      dwell-time\n",
       "site            \n",
       "0           91.0\n",
       "1           88.0"
      ]
     },
     "execution_count": 12,
     "metadata": {},
     "output_type": "execute_result"
    }
   ],
   "source": [
    "round(df.groupby('site').mean())"
   ]
  },
  {
   "cell_type": "code",
   "execution_count": 16,
   "metadata": {},
   "outputs": [],
   "source": [
    "alpha = 0.05\n"
   ]
  },
  {
   "cell_type": "code",
   "execution_count": null,
   "metadata": {},
   "outputs": [],
   "source": [
    "data = pd.DataFrame()\n",
    "data['A'] = df[df['site'] == 0]"
   ]
  },
  {
   "cell_type": "code",
   "execution_count": 14,
   "metadata": {},
   "outputs": [],
   "source": [
    "from scipy.stats import shapiro"
   ]
  },
  {
   "cell_type": "code",
   "execution_count": 27,
   "metadata": {},
   "outputs": [
    {
     "name": "stdout",
     "output_type": "stream",
     "text": [
      "p=0.000\n",
      "Данные не распределены нормально (мы отвергаем H0)\n"
     ]
    }
   ],
   "source": [
    "# проверяем данные на нормальность методом Шапиро-Уилка\n",
    "H0 = 'Данные распределены нормально'\n",
    "Ha = 'Данные не распределены нормально (мы отвергаем H0)'\n",
    "_, p = shapiro(df[df['site'] == 0]['dwell-time'])\n",
    "print('p=%.3f' % p)\n",
    "\n",
    "# Интерпретация \n",
    "\n",
    "if p > alpha:\n",
    "\tprint(H0)\n",
    "else:\n",
    "\tprint(Ha)"
   ]
  },
  {
   "cell_type": "code",
   "execution_count": 32,
   "metadata": {},
   "outputs": [
    {
     "data": {
      "text/plain": [
       "((array([-2.50852665, -2.17776768, -1.987101  , -1.84940695, -1.739841  ,\n",
       "         -1.64789213, -1.56807909, -1.49716418, -1.43306798, -1.37437182,\n",
       "         -1.32006251, -1.26938996, -1.22178251, -1.17679397, -1.13406897,\n",
       "         -1.09331963, -1.05430925, -1.01684069, -0.98074787, -0.94588948,\n",
       "         -0.91214418, -0.8794069 , -0.84758602, -0.8166011 , -0.78638102,\n",
       "         -0.75686263, -0.72798947, -0.69971085, -0.67198104, -0.6447586 ,\n",
       "         -0.61800582, -0.59168824, -0.56577427, -0.54023481, -0.515043  ,\n",
       "         -0.49017391, -0.46560438, -0.44131278, -0.41727886, -0.39348363,\n",
       "         -0.36990915, -0.34653851, -0.32335564, -0.3003453 , -0.27749291,\n",
       "         -0.25478454, -0.23220681, -0.20974685, -0.18739222, -0.16513085,\n",
       "         -0.14295103, -0.12084131, -0.09879052, -0.07678767, -0.05482193,\n",
       "         -0.03288261, -0.01095912,  0.01095912,  0.03288261,  0.05482193,\n",
       "          0.07678767,  0.09879052,  0.12084131,  0.14295103,  0.16513085,\n",
       "          0.18739222,  0.20974685,  0.23220681,  0.25478454,  0.27749291,\n",
       "          0.3003453 ,  0.32335564,  0.34653851,  0.36990915,  0.39348363,\n",
       "          0.41727886,  0.44131278,  0.46560438,  0.49017391,  0.515043  ,\n",
       "          0.54023481,  0.56577427,  0.59168824,  0.61800582,  0.6447586 ,\n",
       "          0.67198104,  0.69971085,  0.72798947,  0.75686263,  0.78638102,\n",
       "          0.8166011 ,  0.84758602,  0.8794069 ,  0.91214418,  0.94588948,\n",
       "          0.98074787,  1.01684069,  1.05430925,  1.09331963,  1.13406897,\n",
       "          1.17679397,  1.22178251,  1.26938996,  1.32006251,  1.37437182,\n",
       "          1.43306798,  1.49716418,  1.56807909,  1.64789213,  1.739841  ,\n",
       "          1.84940695,  1.987101  ,  2.17776768,  2.50852665]),\n",
       "  array([  1,   1,   2,   2,   3,   3,   3,   5,   6,   6,   7,   8,  11,\n",
       "          11,  12,  12,  13,  14,  16,  16,  17,  19,  21,  21,  21,  22,\n",
       "          22,  23,  23,  24,  25,  26,  28,  28,  29,  30,  32,  34,  37,\n",
       "          38,  41,  43,  44,  46,  46,  46,  47,  47,  48,  48,  49,  50,\n",
       "          53,  53,  55,  55,  60,  63,  66,  67,  68,  69,  70,  72,  72,\n",
       "          78,  80,  83,  83,  85,  85,  91,  92, 100, 100, 106, 107, 107,\n",
       "         107, 109, 110, 112, 113, 114, 120, 121, 122, 123, 128, 131, 131,\n",
       "         135, 140, 140, 144, 145, 148, 154, 155, 162, 169, 186, 187, 190,\n",
       "         200, 232, 238, 244, 259, 289, 300, 336, 366, 725], dtype=int64)),\n",
       " (83.2263536080068, 87.99999999999999, 0.8480219925102015))"
      ]
     },
     "execution_count": 32,
     "metadata": {},
     "output_type": "execute_result"
    },
    {
     "data": {
      "image/png": "[encoded data removed]",
      "text/plain": [
       "<Figure size 432x288 with 1 Axes>"
      ]
     },
     "metadata": {
      "needs_background": "light"
     },
     "output_type": "display_data"
    }
   ],
   "source": [
    "import matplotlib.pyplot as plt\n",
    "from scipy import stats\n",
    "plt.subplot(1, 2, 1) # задаем сетку рисунка количество строк и столбцов\n",
    "stats.probplot(df[df['site'] == 1]['dwell-time'], plot=plt)"
   ]
  },
  {
   "cell_type": "code",
   "execution_count": 20,
   "metadata": {},
   "outputs": [],
   "source": [
    "from statsmodels.stats import weightstats"
   ]
  },
  {
   "cell_type": "code",
   "execution_count": 25,
   "metadata": {},
   "outputs": [
    {
     "name": "stdout",
     "output_type": "stream",
     "text": [
      "0.8136645546620853\n",
      "Мы не можем отвергнуть нулевую гипотезу об отсутсвии различий между данными.\n"
     ]
    }
   ],
   "source": [
    "_ ,p = weightstats.ztest(df[df['site'] == 0]['dwell-time'], df[df['site'] == 1]['dwell-time'], value=0,alternative='two-sided')\n",
    "print(float(p))\n",
    "\n",
    "\n",
    "if p < 0.05:\n",
    "    print(\"Мы отвергаем нулевую гипотезу об отсутсвии различий между данными.\")\n",
    "else:\n",
    "    print(\"Мы не можем отвергнуть нулевую гипотезу об отсутсвии различий между данными.\")"
   ]
  }
 ],
 "metadata": {
  "kernelspec": {
   "display_name": "Python 3.10.4 64-bit",
   "language": "python",
   "name": "python3"
  },
  "language_info": {
   "codemirror_mode": {
    "name": "ipython",
    "version": 3
   },
   "file_extension": ".py",
   "mimetype": "text/x-python",
   "name": "python",
   "nbconvert_exporter": "python",
   "pygments_lexer": "ipython3",
   "version": "3.10.4"
  },
  "orig_nbformat": 4,
  "vscode": {
   "interpreter": {
    "hash": "301a17a29b57d3836b7901af1621afd6d2b1f2298b9c7949191147cf2fea93e3"
   }
  }
 },
 "nbformat": 4,
 "nbformat_minor": 2
}
