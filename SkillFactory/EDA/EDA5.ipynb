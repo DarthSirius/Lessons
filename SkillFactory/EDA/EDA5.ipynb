{
 "cells": [
  {
   "cell_type": "markdown",
   "metadata": {},
   "source": [
    "# A/B-тестирование"
   ]
  },
  {
   "cell_type": "code",
   "execution_count": 1,
   "metadata": {},
   "outputs": [],
   "source": [
    "import pandas as pd\n",
    "import matplotlib.pyplot as plt\n",
    "import seaborn as sns"
   ]
  },
  {
   "cell_type": "code",
   "execution_count": 2,
   "metadata": {},
   "outputs": [],
   "source": [
    "ab_data = pd.read_csv('data/ab_data.csv')"
   ]
  },
  {
   "cell_type": "code",
   "execution_count": 3,
   "metadata": {},
   "outputs": [
    {
     "data": {
      "text/html": [
       "<div>\n",
       "<style scoped>\n",
       "    .dataframe tbody tr th:only-of-type {\n",
       "        vertical-align: middle;\n",
       "    }\n",
       "\n",
       "    .dataframe tbody tr th {\n",
       "        vertical-align: top;\n",
       "    }\n",
       "\n",
       "    .dataframe thead th {\n",
       "        text-align: right;\n",
       "    }\n",
       "</style>\n",
       "<table border=\"1\" class=\"dataframe\">\n",
       "  <thead>\n",
       "    <tr style=\"text-align: right;\">\n",
       "      <th></th>\n",
       "      <th>user_id</th>\n",
       "      <th>timestamp</th>\n",
       "      <th>group</th>\n",
       "      <th>converted</th>\n",
       "    </tr>\n",
       "  </thead>\n",
       "  <tbody>\n",
       "    <tr>\n",
       "      <th>0</th>\n",
       "      <td>851104</td>\n",
       "      <td>2017-01-21</td>\n",
       "      <td>A</td>\n",
       "      <td>0</td>\n",
       "    </tr>\n",
       "    <tr>\n",
       "      <th>1</th>\n",
       "      <td>804228</td>\n",
       "      <td>2017-01-12</td>\n",
       "      <td>A</td>\n",
       "      <td>0</td>\n",
       "    </tr>\n",
       "    <tr>\n",
       "      <th>2</th>\n",
       "      <td>661590</td>\n",
       "      <td>2017-01-11</td>\n",
       "      <td>B</td>\n",
       "      <td>0</td>\n",
       "    </tr>\n",
       "    <tr>\n",
       "      <th>3</th>\n",
       "      <td>853541</td>\n",
       "      <td>2017-01-08</td>\n",
       "      <td>B</td>\n",
       "      <td>0</td>\n",
       "    </tr>\n",
       "    <tr>\n",
       "      <th>4</th>\n",
       "      <td>864975</td>\n",
       "      <td>2017-01-21</td>\n",
       "      <td>A</td>\n",
       "      <td>1</td>\n",
       "    </tr>\n",
       "  </tbody>\n",
       "</table>\n",
       "</div>"
      ],
      "text/plain": [
       "   user_id   timestamp group  converted\n",
       "0   851104  2017-01-21     A          0\n",
       "1   804228  2017-01-12     A          0\n",
       "2   661590  2017-01-11     B          0\n",
       "3   853541  2017-01-08     B          0\n",
       "4   864975  2017-01-21     A          1"
      ]
     },
     "execution_count": 3,
     "metadata": {},
     "output_type": "execute_result"
    }
   ],
   "source": [
    "ab_data.head()"
   ]
  },
  {
   "cell_type": "code",
   "execution_count": 4,
   "metadata": {},
   "outputs": [
    {
     "name": "stdout",
     "output_type": "stream",
     "text": [
      "<class 'pandas.core.frame.DataFrame'>\n",
      "RangeIndex: 290482 entries, 0 to 290481\n",
      "Data columns (total 4 columns):\n",
      " #   Column     Non-Null Count   Dtype \n",
      "---  ------     --------------   ----- \n",
      " 0   user_id    290482 non-null  int64 \n",
      " 1   timestamp  290482 non-null  object\n",
      " 2   group      290482 non-null  object\n",
      " 3   converted  290482 non-null  int64 \n",
      "dtypes: int64(2), object(2)\n",
      "memory usage: 8.9+ MB\n"
     ]
    }
   ],
   "source": [
    "ab_data.info()"
   ]
  },
  {
   "cell_type": "code",
   "execution_count": 5,
   "metadata": {},
   "outputs": [],
   "source": [
    "ab_data['timestamp'] = pd.to_datetime(ab_data['timestamp'])"
   ]
  },
  {
   "cell_type": "code",
   "execution_count": 6,
   "metadata": {},
   "outputs": [
    {
     "data": {
      "text/html": [
       "<div>\n",
       "<style scoped>\n",
       "    .dataframe tbody tr th:only-of-type {\n",
       "        vertical-align: middle;\n",
       "    }\n",
       "\n",
       "    .dataframe tbody tr th {\n",
       "        vertical-align: top;\n",
       "    }\n",
       "\n",
       "    .dataframe thead th {\n",
       "        text-align: right;\n",
       "    }\n",
       "</style>\n",
       "<table border=\"1\" class=\"dataframe\">\n",
       "  <thead>\n",
       "    <tr style=\"text-align: right;\">\n",
       "      <th></th>\n",
       "      <th>user_id</th>\n",
       "      <th>timestamp</th>\n",
       "      <th>group</th>\n",
       "      <th>converted</th>\n",
       "    </tr>\n",
       "  </thead>\n",
       "  <tbody>\n",
       "    <tr>\n",
       "      <th>0</th>\n",
       "      <td>851104</td>\n",
       "      <td>2017-01-21</td>\n",
       "      <td>A</td>\n",
       "      <td>0</td>\n",
       "    </tr>\n",
       "    <tr>\n",
       "      <th>1</th>\n",
       "      <td>804228</td>\n",
       "      <td>2017-01-12</td>\n",
       "      <td>A</td>\n",
       "      <td>0</td>\n",
       "    </tr>\n",
       "    <tr>\n",
       "      <th>2</th>\n",
       "      <td>661590</td>\n",
       "      <td>2017-01-11</td>\n",
       "      <td>B</td>\n",
       "      <td>0</td>\n",
       "    </tr>\n",
       "    <tr>\n",
       "      <th>3</th>\n",
       "      <td>853541</td>\n",
       "      <td>2017-01-08</td>\n",
       "      <td>B</td>\n",
       "      <td>0</td>\n",
       "    </tr>\n",
       "    <tr>\n",
       "      <th>4</th>\n",
       "      <td>864975</td>\n",
       "      <td>2017-01-21</td>\n",
       "      <td>A</td>\n",
       "      <td>1</td>\n",
       "    </tr>\n",
       "  </tbody>\n",
       "</table>\n",
       "</div>"
      ],
      "text/plain": [
       "   user_id  timestamp group  converted\n",
       "0   851104 2017-01-21     A          0\n",
       "1   804228 2017-01-12     A          0\n",
       "2   661590 2017-01-11     B          0\n",
       "3   853541 2017-01-08     B          0\n",
       "4   864975 2017-01-21     A          1"
      ]
     },
     "execution_count": 6,
     "metadata": {},
     "output_type": "execute_result"
    }
   ],
   "source": [
    "ab_data.head()"
   ]
  },
  {
   "cell_type": "code",
   "execution_count": 7,
   "metadata": {},
   "outputs": [],
   "source": [
    "daily_data = ab_data.groupby(['timestamp','group']).agg({'user_id':'count', 'converted':'sum'}).reset_index().rename(columns={'user_id': 'users_count'})"
   ]
  },
  {
   "cell_type": "code",
   "execution_count": 8,
   "metadata": {},
   "outputs": [
    {
     "data": {
      "text/html": [
       "<div>\n",
       "<style scoped>\n",
       "    .dataframe tbody tr th:only-of-type {\n",
       "        vertical-align: middle;\n",
       "    }\n",
       "\n",
       "    .dataframe tbody tr th {\n",
       "        vertical-align: top;\n",
       "    }\n",
       "\n",
       "    .dataframe thead th {\n",
       "        text-align: right;\n",
       "    }\n",
       "</style>\n",
       "<table border=\"1\" class=\"dataframe\">\n",
       "  <thead>\n",
       "    <tr style=\"text-align: right;\">\n",
       "      <th></th>\n",
       "      <th>timestamp</th>\n",
       "      <th>group</th>\n",
       "      <th>users_count</th>\n",
       "      <th>converted</th>\n",
       "    </tr>\n",
       "  </thead>\n",
       "  <tbody>\n",
       "    <tr>\n",
       "      <th>0</th>\n",
       "      <td>2017-01-02</td>\n",
       "      <td>A</td>\n",
       "      <td>2851</td>\n",
       "      <td>357</td>\n",
       "    </tr>\n",
       "    <tr>\n",
       "      <th>1</th>\n",
       "      <td>2017-01-02</td>\n",
       "      <td>B</td>\n",
       "      <td>2848</td>\n",
       "      <td>339</td>\n",
       "    </tr>\n",
       "    <tr>\n",
       "      <th>2</th>\n",
       "      <td>2017-01-03</td>\n",
       "      <td>A</td>\n",
       "      <td>6584</td>\n",
       "      <td>749</td>\n",
       "    </tr>\n",
       "    <tr>\n",
       "      <th>3</th>\n",
       "      <td>2017-01-03</td>\n",
       "      <td>B</td>\n",
       "      <td>6620</td>\n",
       "      <td>754</td>\n",
       "    </tr>\n",
       "    <tr>\n",
       "      <th>4</th>\n",
       "      <td>2017-01-04</td>\n",
       "      <td>A</td>\n",
       "      <td>6573</td>\n",
       "      <td>797</td>\n",
       "    </tr>\n",
       "  </tbody>\n",
       "</table>\n",
       "</div>"
      ],
      "text/plain": [
       "   timestamp group  users_count  converted\n",
       "0 2017-01-02     A         2851        357\n",
       "1 2017-01-02     B         2848        339\n",
       "2 2017-01-03     A         6584        749\n",
       "3 2017-01-03     B         6620        754\n",
       "4 2017-01-04     A         6573        797"
      ]
     },
     "execution_count": 8,
     "metadata": {},
     "output_type": "execute_result"
    }
   ],
   "source": [
    "daily_data.head()"
   ]
  },
  {
   "cell_type": "code",
   "execution_count": 9,
   "metadata": {},
   "outputs": [],
   "source": [
    "daily_data['conversion'] = daily_data['converted'] / daily_data['users_count'] * 100"
   ]
  },
  {
   "cell_type": "markdown",
   "metadata": {},
   "source": [
    "Задание 4.1\n",
    "1/1 point (graded)\n",
    "Рассчитайте конверсию на каждый день по приведённой формуле. Результат занесите в столбец conversion. Чему была равна конверсия (в процентах) в группе А 5 января 2017 года? Ответ округлите до второго знака после запятой."
   ]
  },
  {
   "cell_type": "code",
   "execution_count": 10,
   "metadata": {},
   "outputs": [
    {
     "data": {
      "text/html": [
       "<div>\n",
       "<style scoped>\n",
       "    .dataframe tbody tr th:only-of-type {\n",
       "        vertical-align: middle;\n",
       "    }\n",
       "\n",
       "    .dataframe tbody tr th {\n",
       "        vertical-align: top;\n",
       "    }\n",
       "\n",
       "    .dataframe thead th {\n",
       "        text-align: right;\n",
       "    }\n",
       "</style>\n",
       "<table border=\"1\" class=\"dataframe\">\n",
       "  <thead>\n",
       "    <tr style=\"text-align: right;\">\n",
       "      <th></th>\n",
       "      <th>timestamp</th>\n",
       "      <th>group</th>\n",
       "      <th>users_count</th>\n",
       "      <th>converted</th>\n",
       "      <th>conversion</th>\n",
       "    </tr>\n",
       "  </thead>\n",
       "  <tbody>\n",
       "    <tr>\n",
       "      <th>6</th>\n",
       "      <td>2017-01-05</td>\n",
       "      <td>A</td>\n",
       "      <td>6419</td>\n",
       "      <td>791</td>\n",
       "      <td>12.322792</td>\n",
       "    </tr>\n",
       "    <tr>\n",
       "      <th>7</th>\n",
       "      <td>2017-01-05</td>\n",
       "      <td>B</td>\n",
       "      <td>6509</td>\n",
       "      <td>743</td>\n",
       "      <td>11.414964</td>\n",
       "    </tr>\n",
       "  </tbody>\n",
       "</table>\n",
       "</div>"
      ],
      "text/plain": [
       "   timestamp group  users_count  converted  conversion\n",
       "6 2017-01-05     A         6419        791   12.322792\n",
       "7 2017-01-05     B         6509        743   11.414964"
      ]
     },
     "execution_count": 10,
     "metadata": {},
     "output_type": "execute_result"
    }
   ],
   "source": [
    "daily_data.loc[lambda df: df['timestamp'] == '2017-01-05']"
   ]
  },
  {
   "cell_type": "code",
   "execution_count": 11,
   "metadata": {},
   "outputs": [
    {
     "name": "stderr",
     "output_type": "stream",
     "text": [
      "C:\\Users\\Ustenko-S\\AppData\\Local\\Temp\\ipykernel_21960\\906787284.py:4: SettingWithCopyWarning: \n",
      "A value is trying to be set on a copy of a slice from a DataFrame.\n",
      "Try using .loc[row_indexer,col_indexer] = value instead\n",
      "\n",
      "See the caveats in the documentation: https://pandas.pydata.org/pandas-docs/stable/user_guide/indexing.html#returning-a-view-versus-a-copy\n",
      "  daily_data_a.loc[:, 'cum_users_count'] = daily_data_a['users_count'].cumsum()\n"
     ]
    },
    {
     "data": {
      "text/html": [
       "<div>\n",
       "<style scoped>\n",
       "    .dataframe tbody tr th:only-of-type {\n",
       "        vertical-align: middle;\n",
       "    }\n",
       "\n",
       "    .dataframe tbody tr th {\n",
       "        vertical-align: top;\n",
       "    }\n",
       "\n",
       "    .dataframe thead th {\n",
       "        text-align: right;\n",
       "    }\n",
       "</style>\n",
       "<table border=\"1\" class=\"dataframe\">\n",
       "  <thead>\n",
       "    <tr style=\"text-align: right;\">\n",
       "      <th></th>\n",
       "      <th>timestamp</th>\n",
       "      <th>users_count</th>\n",
       "      <th>cum_users_count</th>\n",
       "    </tr>\n",
       "  </thead>\n",
       "  <tbody>\n",
       "    <tr>\n",
       "      <th>0</th>\n",
       "      <td>2017-01-02</td>\n",
       "      <td>2851</td>\n",
       "      <td>2851</td>\n",
       "    </tr>\n",
       "    <tr>\n",
       "      <th>2</th>\n",
       "      <td>2017-01-03</td>\n",
       "      <td>6584</td>\n",
       "      <td>9435</td>\n",
       "    </tr>\n",
       "    <tr>\n",
       "      <th>4</th>\n",
       "      <td>2017-01-04</td>\n",
       "      <td>6573</td>\n",
       "      <td>16008</td>\n",
       "    </tr>\n",
       "    <tr>\n",
       "      <th>6</th>\n",
       "      <td>2017-01-05</td>\n",
       "      <td>6419</td>\n",
       "      <td>22427</td>\n",
       "    </tr>\n",
       "    <tr>\n",
       "      <th>8</th>\n",
       "      <td>2017-01-06</td>\n",
       "      <td>6604</td>\n",
       "      <td>29031</td>\n",
       "    </tr>\n",
       "  </tbody>\n",
       "</table>\n",
       "</div>"
      ],
      "text/plain": [
       "   timestamp  users_count  cum_users_count\n",
       "0 2017-01-02         2851             2851\n",
       "2 2017-01-03         6584             9435\n",
       "4 2017-01-04         6573            16008\n",
       "6 2017-01-05         6419            22427\n",
       "8 2017-01-06         6604            29031"
      ]
     },
     "metadata": {},
     "output_type": "display_data"
    }
   ],
   "source": [
    "# выделяем данные группы А\n",
    "daily_data_a = daily_data[daily_data['group'] == 'A']\n",
    "# считаем кумулятивное количество посетителей\n",
    "daily_data_a.loc[:, 'cum_users_count'] = daily_data_a['users_count'].cumsum()\n",
    "# выводим время, количество посетителей и кумулятивное количество посетителей\n",
    "display(daily_data_a[['timestamp', 'users_count', 'cum_users_count']].head())"
   ]
  },
  {
   "cell_type": "code",
   "execution_count": 12,
   "metadata": {},
   "outputs": [
    {
     "data": {
      "image/png": "[encoded data removed]",
      "text/plain": [
       "<Figure size 576x288 with 1 Axes>"
      ]
     },
     "metadata": {
      "needs_background": "light"
     },
     "output_type": "display_data"
    }
   ],
   "source": [
    "# создаём фигуру размером 8x4\n",
    "fig = plt.figure(figsize=(8, 4))\n",
    "# добавляем систему координат\n",
    "ax = fig.add_axes([1, 1, 1, 1])\n",
    "# строим lineplot для конверсии во времени в каждой группе\n",
    "sns.lineplot(\n",
    "    data=daily_data,\n",
    "    x='timestamp',\n",
    "    y='conversion',\n",
    "    hue='group', \n",
    "    ax=ax\n",
    ")\n",
    "# задаём подпись к графику\n",
    "ax.set_title('График конверсии по дням')\n",
    "# задаём поворот меток на оси абсцисс\n",
    "ax.xaxis.set_tick_params(rotation=45)\n",
    "# задаём отображение сетки\n",
    "ax.grid();"
   ]
  },
  {
   "cell_type": "code",
   "execution_count": 13,
   "metadata": {},
   "outputs": [
    {
     "data": {
      "text/html": [
       "<div>\n",
       "<style scoped>\n",
       "    .dataframe tbody tr th:only-of-type {\n",
       "        vertical-align: middle;\n",
       "    }\n",
       "\n",
       "    .dataframe tbody tr th {\n",
       "        vertical-align: top;\n",
       "    }\n",
       "\n",
       "    .dataframe thead th {\n",
       "        text-align: right;\n",
       "    }\n",
       "</style>\n",
       "<table border=\"1\" class=\"dataframe\">\n",
       "  <thead>\n",
       "    <tr style=\"text-align: right;\">\n",
       "      <th></th>\n",
       "      <th>timestamp</th>\n",
       "      <th>group</th>\n",
       "      <th>users_count</th>\n",
       "      <th>converted</th>\n",
       "      <th>conversion</th>\n",
       "      <th>cum_users_count</th>\n",
       "      <th>cum_converted</th>\n",
       "      <th>cum_conversion</th>\n",
       "    </tr>\n",
       "  </thead>\n",
       "  <tbody>\n",
       "    <tr>\n",
       "      <th>0</th>\n",
       "      <td>2017-01-02</td>\n",
       "      <td>A</td>\n",
       "      <td>2851</td>\n",
       "      <td>357</td>\n",
       "      <td>12.521922</td>\n",
       "      <td>2851</td>\n",
       "      <td>357</td>\n",
       "      <td>12.521922</td>\n",
       "    </tr>\n",
       "    <tr>\n",
       "      <th>1</th>\n",
       "      <td>2017-01-02</td>\n",
       "      <td>B</td>\n",
       "      <td>2848</td>\n",
       "      <td>339</td>\n",
       "      <td>11.903090</td>\n",
       "      <td>2848</td>\n",
       "      <td>339</td>\n",
       "      <td>11.903090</td>\n",
       "    </tr>\n",
       "    <tr>\n",
       "      <th>2</th>\n",
       "      <td>2017-01-03</td>\n",
       "      <td>A</td>\n",
       "      <td>6584</td>\n",
       "      <td>749</td>\n",
       "      <td>11.376063</td>\n",
       "      <td>9435</td>\n",
       "      <td>1106</td>\n",
       "      <td>11.722311</td>\n",
       "    </tr>\n",
       "    <tr>\n",
       "      <th>3</th>\n",
       "      <td>2017-01-03</td>\n",
       "      <td>B</td>\n",
       "      <td>6620</td>\n",
       "      <td>754</td>\n",
       "      <td>11.389728</td>\n",
       "      <td>9468</td>\n",
       "      <td>1093</td>\n",
       "      <td>11.544149</td>\n",
       "    </tr>\n",
       "    <tr>\n",
       "      <th>4</th>\n",
       "      <td>2017-01-04</td>\n",
       "      <td>A</td>\n",
       "      <td>6573</td>\n",
       "      <td>797</td>\n",
       "      <td>12.125361</td>\n",
       "      <td>16008</td>\n",
       "      <td>1903</td>\n",
       "      <td>11.887806</td>\n",
       "    </tr>\n",
       "  </tbody>\n",
       "</table>\n",
       "</div>"
      ],
      "text/plain": [
       "   timestamp group  users_count  converted  conversion  cum_users_count  \\\n",
       "0 2017-01-02     A         2851        357   12.521922             2851   \n",
       "1 2017-01-02     B         2848        339   11.903090             2848   \n",
       "2 2017-01-03     A         6584        749   11.376063             9435   \n",
       "3 2017-01-03     B         6620        754   11.389728             9468   \n",
       "4 2017-01-04     A         6573        797   12.125361            16008   \n",
       "\n",
       "   cum_converted  cum_conversion  \n",
       "0            357       12.521922  \n",
       "1            339       11.903090  \n",
       "2           1106       11.722311  \n",
       "3           1093       11.544149  \n",
       "4           1903       11.887806  "
      ]
     },
     "metadata": {},
     "output_type": "display_data"
    }
   ],
   "source": [
    "# вычисляем кумулятивную сумму количества посетителей\n",
    "daily_data['cum_users_count'] = daily_data.groupby(['group'])['users_count'].cumsum()\n",
    "# вычисляем кумулятивную сумму количества совершённых целевых действий\n",
    "daily_data['cum_converted'] = daily_data.groupby(['group'])['converted'].cumsum()\n",
    "# вычисляем кумулятивную конверсию\n",
    "daily_data['cum_conversion'] = daily_data['cum_converted']/daily_data['cum_users_count'] * 100\n",
    "display(daily_data.head())"
   ]
  },
  {
   "cell_type": "code",
   "execution_count": 14,
   "metadata": {},
   "outputs": [
    {
     "data": {
      "image/png": "[encoded data removed]",
      "text/plain": [
       "<Figure size 576x288 with 1 Axes>"
      ]
     },
     "metadata": {
      "needs_background": "light"
     },
     "output_type": "display_data"
    }
   ],
   "source": [
    "# создаём фигуру размером 8x4\n",
    "fig = plt.figure(figsize=(8, 4))\n",
    "# добавляем систему координат\n",
    "ax = fig.add_axes([1, 1, 1, 1])\n",
    "# строим lineplot для кумулятивной конверсии во времени в каждой группе\n",
    "sns.lineplot(x='timestamp', y='cum_conversion', data=daily_data, hue='group', ax=ax)\n",
    "# задаём подпись к графику\n",
    "ax.set_title('График кумулятивной конверсии по дням')\n",
    "# задаём поворот меток на оси абсцисс\n",
    "ax.xaxis.set_tick_params(rotation = 45)\n",
    "# задаём отображение сетки\n",
    "ax.grid(True);"
   ]
  },
  {
   "cell_type": "markdown",
   "metadata": {},
   "source": [
    "# ВВОДНЫЕ ДАННЫЕ ДЛЯ ЗАДАЧ 4.6–4.9"
   ]
  },
  {
   "cell_type": "code",
   "execution_count": 15,
   "metadata": {},
   "outputs": [],
   "source": [
    "sample_a = pd.read_csv('data/ab_test-redesign_sample_a.csv')\n",
    "sample_b = pd.read_csv('data/ab_test-redesign_sample_b.csv')"
   ]
  },
  {
   "cell_type": "code",
   "execution_count": 16,
   "metadata": {},
   "outputs": [
    {
     "data": {
      "text/html": [
       "<div>\n",
       "<style scoped>\n",
       "    .dataframe tbody tr th:only-of-type {\n",
       "        vertical-align: middle;\n",
       "    }\n",
       "\n",
       "    .dataframe tbody tr th {\n",
       "        vertical-align: top;\n",
       "    }\n",
       "\n",
       "    .dataframe thead th {\n",
       "        text-align: right;\n",
       "    }\n",
       "</style>\n",
       "<table border=\"1\" class=\"dataframe\">\n",
       "  <thead>\n",
       "    <tr style=\"text-align: right;\">\n",
       "      <th></th>\n",
       "      <th>date</th>\n",
       "      <th>cid</th>\n",
       "      <th>transactions</th>\n",
       "      <th>revenue</th>\n",
       "      <th>group</th>\n",
       "    </tr>\n",
       "  </thead>\n",
       "  <tbody>\n",
       "    <tr>\n",
       "      <th>0</th>\n",
       "      <td>2020-11-06</td>\n",
       "      <td>1.001648e+09</td>\n",
       "      <td>0</td>\n",
       "      <td>0</td>\n",
       "      <td>A</td>\n",
       "    </tr>\n",
       "    <tr>\n",
       "      <th>1</th>\n",
       "      <td>2020-11-06</td>\n",
       "      <td>1.001936e+09</td>\n",
       "      <td>0</td>\n",
       "      <td>0</td>\n",
       "      <td>A</td>\n",
       "    </tr>\n",
       "    <tr>\n",
       "      <th>2</th>\n",
       "      <td>2020-11-06</td>\n",
       "      <td>1.003214e+08</td>\n",
       "      <td>0</td>\n",
       "      <td>0</td>\n",
       "      <td>A</td>\n",
       "    </tr>\n",
       "    <tr>\n",
       "      <th>3</th>\n",
       "      <td>2020-11-06</td>\n",
       "      <td>1.004393e+09</td>\n",
       "      <td>0</td>\n",
       "      <td>0</td>\n",
       "      <td>A</td>\n",
       "    </tr>\n",
       "    <tr>\n",
       "      <th>4</th>\n",
       "      <td>2020-11-06</td>\n",
       "      <td>1.006382e+09</td>\n",
       "      <td>0</td>\n",
       "      <td>0</td>\n",
       "      <td>A</td>\n",
       "    </tr>\n",
       "  </tbody>\n",
       "</table>\n",
       "</div>"
      ],
      "text/plain": [
       "         date           cid  transactions  revenue group\n",
       "0  2020-11-06  1.001648e+09             0        0     A\n",
       "1  2020-11-06  1.001936e+09             0        0     A\n",
       "2  2020-11-06  1.003214e+08             0        0     A\n",
       "3  2020-11-06  1.004393e+09             0        0     A\n",
       "4  2020-11-06  1.006382e+09             0        0     A"
      ]
     },
     "execution_count": 16,
     "metadata": {},
     "output_type": "execute_result"
    }
   ],
   "source": [
    "sample_a.head()"
   ]
  },
  {
   "cell_type": "code",
   "execution_count": 17,
   "metadata": {},
   "outputs": [
    {
     "data": {
      "text/html": [
       "<div>\n",
       "<style scoped>\n",
       "    .dataframe tbody tr th:only-of-type {\n",
       "        vertical-align: middle;\n",
       "    }\n",
       "\n",
       "    .dataframe tbody tr th {\n",
       "        vertical-align: top;\n",
       "    }\n",
       "\n",
       "    .dataframe thead th {\n",
       "        text-align: right;\n",
       "    }\n",
       "</style>\n",
       "<table border=\"1\" class=\"dataframe\">\n",
       "  <thead>\n",
       "    <tr style=\"text-align: right;\">\n",
       "      <th></th>\n",
       "      <th>date</th>\n",
       "      <th>cid</th>\n",
       "      <th>transactions</th>\n",
       "      <th>revenue</th>\n",
       "      <th>group</th>\n",
       "    </tr>\n",
       "  </thead>\n",
       "  <tbody>\n",
       "    <tr>\n",
       "      <th>0</th>\n",
       "      <td>2020-11-06</td>\n",
       "      <td>1.000135e+09</td>\n",
       "      <td>0</td>\n",
       "      <td>0</td>\n",
       "      <td>B</td>\n",
       "    </tr>\n",
       "    <tr>\n",
       "      <th>1</th>\n",
       "      <td>2020-11-06</td>\n",
       "      <td>1.001648e+09</td>\n",
       "      <td>0</td>\n",
       "      <td>0</td>\n",
       "      <td>B</td>\n",
       "    </tr>\n",
       "    <tr>\n",
       "      <th>2</th>\n",
       "      <td>2020-11-06</td>\n",
       "      <td>1.003214e+08</td>\n",
       "      <td>0</td>\n",
       "      <td>0</td>\n",
       "      <td>B</td>\n",
       "    </tr>\n",
       "    <tr>\n",
       "      <th>3</th>\n",
       "      <td>2020-11-06</td>\n",
       "      <td>1.003652e+09</td>\n",
       "      <td>0</td>\n",
       "      <td>0</td>\n",
       "      <td>B</td>\n",
       "    </tr>\n",
       "    <tr>\n",
       "      <th>4</th>\n",
       "      <td>2020-11-06</td>\n",
       "      <td>1.003833e+09</td>\n",
       "      <td>0</td>\n",
       "      <td>0</td>\n",
       "      <td>B</td>\n",
       "    </tr>\n",
       "  </tbody>\n",
       "</table>\n",
       "</div>"
      ],
      "text/plain": [
       "         date           cid  transactions  revenue group\n",
       "0  2020-11-06  1.000135e+09             0        0     B\n",
       "1  2020-11-06  1.001648e+09             0        0     B\n",
       "2  2020-11-06  1.003214e+08             0        0     B\n",
       "3  2020-11-06  1.003652e+09             0        0     B\n",
       "4  2020-11-06  1.003833e+09             0        0     B"
      ]
     },
     "execution_count": 17,
     "metadata": {},
     "output_type": "execute_result"
    }
   ],
   "source": [
    "sample_b.head()"
   ]
  },
  {
   "cell_type": "markdown",
   "metadata": {},
   "source": [
    "Задание 4.6\n",
    "3 points possible (graded)\n",
    "Постройте таблицу со следующими ежедневными показателями:\n",
    "\n",
    "количество посетителей сайта;\n",
    "суммарное число транзакций;\n",
    "общая сумма покупок (выручка)."
   ]
  },
  {
   "cell_type": "code",
   "execution_count": 18,
   "metadata": {},
   "outputs": [],
   "source": [
    "# предварительно преобразовав его к типу datetime.\n",
    "sample_a['date'] = pd.to_datetime(sample_a['date'])\n",
    "sample_b['date'] = pd.to_datetime(sample_b['date'])"
   ]
  },
  {
   "cell_type": "code",
   "execution_count": 19,
   "metadata": {},
   "outputs": [],
   "source": [
    "# сгруппируйте данные по признаку date\n",
    "daily_sample_a = sample_a.groupby('date').agg({'cid':'count', 'transactions':'sum', 'revenue':'sum'}).reset_index().rename(columns={'cid': 'users_count', 'total':'sum'})"
   ]
  },
  {
   "cell_type": "code",
   "execution_count": 20,
   "metadata": {},
   "outputs": [],
   "source": [
    "# сгруппируйте данные по признаку date\n",
    "daily_sample_b = sample_b.groupby('date').agg({'cid':'count', 'transactions':'sum', 'revenue':'sum'}).reset_index().rename(columns={'cid': 'users_count', 'total':'sum'})"
   ]
  },
  {
   "cell_type": "markdown",
   "metadata": {},
   "source": [
    "Чему равны значения ежедневных показателей в группе А на 8 ноября 2020 года?"
   ]
  },
  {
   "cell_type": "code",
   "execution_count": 21,
   "metadata": {},
   "outputs": [
    {
     "data": {
      "text/html": [
       "<div>\n",
       "<style scoped>\n",
       "    .dataframe tbody tr th:only-of-type {\n",
       "        vertical-align: middle;\n",
       "    }\n",
       "\n",
       "    .dataframe tbody tr th {\n",
       "        vertical-align: top;\n",
       "    }\n",
       "\n",
       "    .dataframe thead th {\n",
       "        text-align: right;\n",
       "    }\n",
       "</style>\n",
       "<table border=\"1\" class=\"dataframe\">\n",
       "  <thead>\n",
       "    <tr style=\"text-align: right;\">\n",
       "      <th></th>\n",
       "      <th>date</th>\n",
       "      <th>users_count</th>\n",
       "      <th>transactions</th>\n",
       "      <th>revenue</th>\n",
       "    </tr>\n",
       "  </thead>\n",
       "  <tbody>\n",
       "    <tr>\n",
       "      <th>2</th>\n",
       "      <td>2020-11-08</td>\n",
       "      <td>3354</td>\n",
       "      <td>25</td>\n",
       "      <td>846051</td>\n",
       "    </tr>\n",
       "  </tbody>\n",
       "</table>\n",
       "</div>"
      ],
      "text/plain": [
       "        date  users_count  transactions  revenue\n",
       "2 2020-11-08         3354            25   846051"
      ]
     },
     "execution_count": 21,
     "metadata": {},
     "output_type": "execute_result"
    }
   ],
   "source": [
    "daily_sample_a.loc[daily_sample_a['date'] == '2020-11-08']"
   ]
  },
  {
   "cell_type": "markdown",
   "metadata": {},
   "source": [
    "Задание 4.7\n",
    "\n",
    "Добавьте в каждую из таблиц кумулятивные метрики:\n",
    "\n",
    "кумулятивное количество посетителей сайта;\n",
    "кумулятивное суммарное число транзакций;\n",
    "кумулятивная общая сумма покупок (кумулятивная выручка)."
   ]
  },
  {
   "cell_type": "code",
   "execution_count": 22,
   "metadata": {},
   "outputs": [],
   "source": [
    "# кумулятивное количество посетителей сайта\n",
    "daily_sample_a['cum_users_count'] = daily_sample_a['users_count'].cumsum()\n",
    "daily_sample_b['cum_users_count'] = daily_sample_b['users_count'].cumsum()"
   ]
  },
  {
   "cell_type": "code",
   "execution_count": 23,
   "metadata": {},
   "outputs": [],
   "source": [
    "# кумулятивное суммарное число транзакций\n",
    "daily_sample_a['cum_trans'] = daily_sample_a['transactions'].cumsum()\n",
    "daily_sample_b['cum_trans'] = daily_sample_b['transactions'].cumsum()"
   ]
  },
  {
   "cell_type": "code",
   "execution_count": 24,
   "metadata": {},
   "outputs": [],
   "source": [
    "# кумулятивная общая сумма покупок (кумулятивная выручка)\n",
    "daily_sample_a['cum_rev'] = daily_sample_a['revenue'].cumsum()\n",
    "daily_sample_b['cum_rev'] = daily_sample_b['revenue'].cumsum()"
   ]
  },
  {
   "cell_type": "code",
   "execution_count": 25,
   "metadata": {},
   "outputs": [
    {
     "data": {
      "text/html": [
       "<div>\n",
       "<style scoped>\n",
       "    .dataframe tbody tr th:only-of-type {\n",
       "        vertical-align: middle;\n",
       "    }\n",
       "\n",
       "    .dataframe tbody tr th {\n",
       "        vertical-align: top;\n",
       "    }\n",
       "\n",
       "    .dataframe thead th {\n",
       "        text-align: right;\n",
       "    }\n",
       "</style>\n",
       "<table border=\"1\" class=\"dataframe\">\n",
       "  <thead>\n",
       "    <tr style=\"text-align: right;\">\n",
       "      <th></th>\n",
       "      <th>date</th>\n",
       "      <th>users_count</th>\n",
       "      <th>transactions</th>\n",
       "      <th>revenue</th>\n",
       "      <th>cum_users_count</th>\n",
       "      <th>cum_trans</th>\n",
       "      <th>cum_rev</th>\n",
       "    </tr>\n",
       "  </thead>\n",
       "  <tbody>\n",
       "    <tr>\n",
       "      <th>0</th>\n",
       "      <td>2020-11-06</td>\n",
       "      <td>2576</td>\n",
       "      <td>16</td>\n",
       "      <td>1577279</td>\n",
       "      <td>2576</td>\n",
       "      <td>16</td>\n",
       "      <td>1577279</td>\n",
       "    </tr>\n",
       "    <tr>\n",
       "      <th>1</th>\n",
       "      <td>2020-11-07</td>\n",
       "      <td>2704</td>\n",
       "      <td>23</td>\n",
       "      <td>1721886</td>\n",
       "      <td>5280</td>\n",
       "      <td>39</td>\n",
       "      <td>3299165</td>\n",
       "    </tr>\n",
       "    <tr>\n",
       "      <th>2</th>\n",
       "      <td>2020-11-08</td>\n",
       "      <td>3354</td>\n",
       "      <td>25</td>\n",
       "      <td>846051</td>\n",
       "      <td>8634</td>\n",
       "      <td>64</td>\n",
       "      <td>4145216</td>\n",
       "    </tr>\n",
       "    <tr>\n",
       "      <th>3</th>\n",
       "      <td>2020-11-09</td>\n",
       "      <td>3234</td>\n",
       "      <td>18</td>\n",
       "      <td>708830</td>\n",
       "      <td>11868</td>\n",
       "      <td>82</td>\n",
       "      <td>4854046</td>\n",
       "    </tr>\n",
       "    <tr>\n",
       "      <th>4</th>\n",
       "      <td>2020-11-10</td>\n",
       "      <td>3022</td>\n",
       "      <td>29</td>\n",
       "      <td>826984</td>\n",
       "      <td>14890</td>\n",
       "      <td>111</td>\n",
       "      <td>5681030</td>\n",
       "    </tr>\n",
       "  </tbody>\n",
       "</table>\n",
       "</div>"
      ],
      "text/plain": [
       "        date  users_count  transactions  revenue  cum_users_count  cum_trans  \\\n",
       "0 2020-11-06         2576            16  1577279             2576         16   \n",
       "1 2020-11-07         2704            23  1721886             5280         39   \n",
       "2 2020-11-08         3354            25   846051             8634         64   \n",
       "3 2020-11-09         3234            18   708830            11868         82   \n",
       "4 2020-11-10         3022            29   826984            14890        111   \n",
       "\n",
       "   cum_rev  \n",
       "0  1577279  \n",
       "1  3299165  \n",
       "2  4145216  \n",
       "3  4854046  \n",
       "4  5681030  "
      ]
     },
     "execution_count": 25,
     "metadata": {},
     "output_type": "execute_result"
    }
   ],
   "source": [
    "daily_sample_a.head()"
   ]
  },
  {
   "cell_type": "code",
   "execution_count": 26,
   "metadata": {},
   "outputs": [],
   "source": [
    "# Рассчитайте кумулятивную конверсию действия покупки (в процентах)\n",
    "daily_sample_a['cum_conv'] = daily_sample_a['cum_trans']/daily_sample_a['cum_users_count']*100\n",
    "daily_sample_b['cum_conv'] = daily_sample_b['cum_trans']/daily_sample_b['cum_users_count']*100"
   ]
  },
  {
   "cell_type": "code",
   "execution_count": 27,
   "metadata": {},
   "outputs": [],
   "source": [
    "# кумулятивный средний чек (кумулятивная выручка/кумулятивное суммарное число транзакций)\n",
    "daily_sample_a['cum_check'] = daily_sample_a['cum_rev']/daily_sample_a['cum_trans']*100\n",
    "daily_sample_b['cum_check'] = daily_sample_b['cum_rev']/daily_sample_b['cum_trans']*100"
   ]
  },
  {
   "cell_type": "code",
   "execution_count": 28,
   "metadata": {},
   "outputs": [
    {
     "data": {
      "text/plain": [
       "0.71"
      ]
     },
     "execution_count": 28,
     "metadata": {},
     "output_type": "execute_result"
    }
   ],
   "source": [
    "# Чему равна средняя кумулятивная конверсия в группах за весь период проведения A/B-теста? Ответ округлите до сотых, знаки процентов не вводите.\n",
    "round(daily_sample_a['cum_conv'].mean(),2)"
   ]
  },
  {
   "cell_type": "code",
   "execution_count": 29,
   "metadata": {},
   "outputs": [
    {
     "data": {
      "text/plain": [
       "0.76"
      ]
     },
     "execution_count": 29,
     "metadata": {},
     "output_type": "execute_result"
    }
   ],
   "source": [
    "round(daily_sample_b['cum_conv'].mean(),2)"
   ]
  },
  {
   "cell_type": "markdown",
   "metadata": {},
   "source": [
    "Задание 4.8\n",
    "\n",
    "Постройте графики кумулятивной конверсии в каждой группе. Какие выводы по ним вы можете сделать?"
   ]
  },
  {
   "cell_type": "code",
   "execution_count": 30,
   "metadata": {},
   "outputs": [
    {
     "data": {
      "image/png": "[encoded data removed]",
      "text/plain": [
       "<Figure size 576x288 with 1 Axes>"
      ]
     },
     "metadata": {
      "needs_background": "light"
     },
     "output_type": "display_data"
    }
   ],
   "source": [
    "# создаём фигуру размером 8x4\n",
    "fig = plt.figure(figsize=(8, 4))\n",
    "# добавляем систему координат\n",
    "ax = fig.add_axes([1, 1, 1, 1])\n",
    "# строим lineplot для кумулятивной конверсии во времени в каждой группе\n",
    "line1 = sns.lineplot(x='date', y='cum_conv', data=daily_sample_a, ax=ax)\n",
    "line2 = sns.lineplot(x='date', y='cum_conv', data=daily_sample_b, ax=ax)\n",
    "# задаём подпись к графику\n",
    "ax.set_title('Графики кумулятивной конверсии по дням')\n",
    "ax.legend(labels=['A', 'B'])\n",
    "# задаём поворот меток на оси абсцисс\n",
    "ax.xaxis.set_tick_params(rotation = 45)\n",
    "# задаём отображение сетки\n",
    "ax.grid(True);"
   ]
  },
  {
   "cell_type": "markdown",
   "metadata": {},
   "source": [
    "Задание 4.9\n",
    "\n",
    "Постройте графики кумулятивного среднего чека в каждой группе. Какие выводы по ним вы можете сделать?"
   ]
  },
  {
   "cell_type": "code",
   "execution_count": 31,
   "metadata": {},
   "outputs": [
    {
     "data": {
      "image/png": "[encoded data removed]",
      "text/plain": [
       "<Figure size 576x288 with 1 Axes>"
      ]
     },
     "metadata": {
      "needs_background": "light"
     },
     "output_type": "display_data"
    }
   ],
   "source": [
    "# создаём фигуру размером 8x4\n",
    "fig = plt.figure(figsize=(8, 4))\n",
    "# добавляем систему координат\n",
    "ax = fig.add_axes([1, 1, 1, 1])\n",
    "# строим lineplot для кумулятивной конверсии во времени в каждой группе\n",
    "line1 = sns.lineplot(x='date', y='cum_check', data=daily_sample_a, ax=ax)\n",
    "line2 = sns.lineplot(x='date', y='cum_check', data=daily_sample_b, ax=ax)\n",
    "# задаём подпись к графику\n",
    "ax.set_title('Графики кумулятивного среднего чека')\n",
    "ax.legend(labels=['A', 'B'])\n",
    "# задаём поворот меток на оси абсцисс\n",
    "ax.xaxis.set_tick_params(rotation = 45)\n",
    "# задаём отображение сетки\n",
    "ax.grid(True);"
   ]
  },
  {
   "cell_type": "markdown",
   "metadata": {},
   "source": [
    "## 5. Анализ результатов A/B-тестирования: статистические тесты"
   ]
  },
  {
   "cell_type": "code",
   "execution_count": 32,
   "metadata": {},
   "outputs": [],
   "source": [
    "from statsmodels.stats.proportion import proportions_ztest"
   ]
  },
  {
   "cell_type": "code",
   "execution_count": 33,
   "metadata": {},
   "outputs": [
    {
     "data": {
      "text/html": [
       "<div>\n",
       "<style scoped>\n",
       "    .dataframe tbody tr th:only-of-type {\n",
       "        vertical-align: middle;\n",
       "    }\n",
       "\n",
       "    .dataframe tbody tr th {\n",
       "        vertical-align: top;\n",
       "    }\n",
       "\n",
       "    .dataframe thead th {\n",
       "        text-align: right;\n",
       "    }\n",
       "</style>\n",
       "<table border=\"1\" class=\"dataframe\">\n",
       "  <thead>\n",
       "    <tr style=\"text-align: right;\">\n",
       "      <th></th>\n",
       "      <th>sum</th>\n",
       "      <th>count</th>\n",
       "    </tr>\n",
       "    <tr>\n",
       "      <th>group</th>\n",
       "      <th></th>\n",
       "      <th></th>\n",
       "    </tr>\n",
       "  </thead>\n",
       "  <tbody>\n",
       "    <tr>\n",
       "      <th>A</th>\n",
       "      <td>17467</td>\n",
       "      <td>145241</td>\n",
       "    </tr>\n",
       "    <tr>\n",
       "      <th>B</th>\n",
       "      <td>17238</td>\n",
       "      <td>145241</td>\n",
       "    </tr>\n",
       "  </tbody>\n",
       "</table>\n",
       "</div>"
      ],
      "text/plain": [
       "         sum   count\n",
       "group               \n",
       "A      17467  145241\n",
       "B      17238  145241"
      ]
     },
     "metadata": {},
     "output_type": "display_data"
    }
   ],
   "source": [
    "converted_piv= ab_data.groupby('group')['converted'].agg(\n",
    "    ['sum', 'count']\n",
    ")\n",
    "display(converted_piv)"
   ]
  },
  {
   "cell_type": "code",
   "execution_count": 34,
   "metadata": {},
   "outputs": [
    {
     "name": "stdout",
     "output_type": "stream",
     "text": [
      "p-value:  0.1\n",
      "Отвергаем нулевую гипотезу. Конверсии в группах А и B равны\n",
      "Альтернативная гипотеза. H1: Конверсия в группе А выше, чем конверсия в группе B\n"
     ]
    }
   ],
   "source": [
    "# нулевая и альтернативная гипотезы\n",
    "H0 = 'Конверсии в группах А и B равны'\n",
    "H1 = 'Конверсия в группе А выше, чем конверсия в группе B'\n",
    "alpha = 0.1 # уровень значимости\n",
    "# вычисляем значение p-value для z-теста для пропорций\n",
    "_, p_value = proportions_ztest(\n",
    "    count=converted_piv['sum'], #число \"успехов\"\n",
    "    nobs=converted_piv['count'], #общее число наблюдений\n",
    "    alternative='larger',\n",
    ")\n",
    "# выводим результат на экран\n",
    "print('p-value: ', round(p_value, 2))\n",
    "# сравниваем полученное p-value с уровнем значимости\n",
    "if (p_value < alpha): \n",
    "    print(\"Отвергаем нулевую гипотезу. {}\".format(H0))\n",
    "    print(\"Альтернативная гипотеза. H1: {}\".format(H1))\n",
    "else:\n",
    "    print(\"Принимаем нулевую гипотезу. {}\".format(H0))\n",
    " \n",
    "# p-value:  0.1\n",
    "# Принимаем нулевую гипотезу. Конверсии в группах А и B равны"
   ]
  },
  {
   "cell_type": "code",
   "execution_count": 35,
   "metadata": {},
   "outputs": [
    {
     "data": {
      "text/html": [
       "<div>\n",
       "<style scoped>\n",
       "    .dataframe tbody tr th:only-of-type {\n",
       "        vertical-align: middle;\n",
       "    }\n",
       "\n",
       "    .dataframe tbody tr th {\n",
       "        vertical-align: top;\n",
       "    }\n",
       "\n",
       "    .dataframe thead th {\n",
       "        text-align: right;\n",
       "    }\n",
       "</style>\n",
       "<table border=\"1\" class=\"dataframe\">\n",
       "  <thead>\n",
       "    <tr style=\"text-align: right;\">\n",
       "      <th></th>\n",
       "      <th>time(A)</th>\n",
       "      <th>time(B)</th>\n",
       "    </tr>\n",
       "  </thead>\n",
       "  <tbody>\n",
       "    <tr>\n",
       "      <th>0</th>\n",
       "      <td>435.0</td>\n",
       "      <td>549.2</td>\n",
       "    </tr>\n",
       "    <tr>\n",
       "      <th>1</th>\n",
       "      <td>454.5</td>\n",
       "      <td>630.2</td>\n",
       "    </tr>\n",
       "    <tr>\n",
       "      <th>2</th>\n",
       "      <td>447.0</td>\n",
       "      <td>437.2</td>\n",
       "    </tr>\n",
       "    <tr>\n",
       "      <th>3</th>\n",
       "      <td>480.0</td>\n",
       "      <td>637.2</td>\n",
       "    </tr>\n",
       "    <tr>\n",
       "      <th>4</th>\n",
       "      <td>561.0</td>\n",
       "      <td>712.4</td>\n",
       "    </tr>\n",
       "  </tbody>\n",
       "</table>\n",
       "</div>"
      ],
      "text/plain": [
       "   time(A)  time(B)\n",
       "0    435.0    549.2\n",
       "1    454.5    630.2\n",
       "2    447.0    437.2\n",
       "3    480.0    637.2\n",
       "4    561.0    712.4"
      ]
     },
     "metadata": {},
     "output_type": "display_data"
    }
   ],
   "source": [
    "time_data = pd.read_excel('data/time_data.xlsx')\n",
    "display(time_data.head())"
   ]
  },
  {
   "cell_type": "code",
   "execution_count": 36,
   "metadata": {},
   "outputs": [
    {
     "data": {
      "image/png": "[encoded data removed]",
      "text/plain": [
       "<Figure size 864x288 with 2 Axes>"
      ]
     },
     "metadata": {
      "needs_background": "light"
     },
     "output_type": "display_data"
    }
   ],
   "source": [
    "fig, axes = plt.subplots(1, 2, figsize=(12, 4))\n",
    "sns.histplot(x='time(A)', data = time_data, ax = axes[0])\n",
    "sns.histplot(x='time(B)', data = time_data, ax = axes[1])\n",
    "#задаём названия графикам\n",
    "axes[0].set_title('Распределение времени на сайте в группе А');\n",
    "axes[1].set_title('Распределение времени на сайте в группе B');\n"
   ]
  },
  {
   "cell_type": "code",
   "execution_count": 37,
   "metadata": {},
   "outputs": [
    {
     "name": "stdout",
     "output_type": "stream",
     "text": [
      "p-value группы А 0.43\n",
      "p-value группы B 0.12\n",
      "Принимаем нулевую гипотезу. Распределения в обеих группах нормальные\n"
     ]
    }
   ],
   "source": [
    "from scipy.stats import shapiro\n",
    "# нулевая и альтернативная гипотезы\n",
    "H0 = 'Распределения в обеих группах нормальные'\n",
    "H1 = 'Распределение в одной или обеих группах отлично от нормального'\n",
    "alpha = 0.05 # уровень значимости\n",
    "# вычисляем результат теста Шапиро-Уилка для выборок\n",
    "shapiro_result_a = shapiro(time_data['time(A)'])\n",
    "shapiro_result_b = shapiro(time_data['time(B)'])\n",
    "print('p-value группы А', round(shapiro_result_a.pvalue, 2))\n",
    "print('p-value группы B', round(shapiro_result_b.pvalue, 2))\n",
    "# сравниваем полученное p-value с уровнем значимости\n",
    "if shapiro_result_a.pvalue < alpha or shapiro_result_b.pvalue < alpha:\n",
    "    print(\"Отвергаем нулевую гипотезу. {}\".format(H0))\n",
    "    print(\"Альтернативная гипотеза. H1: {}\".format(H1))\n",
    "else:\n",
    "    print(\"Принимаем нулевую гипотезу. {}\".format(H0))\n",
    " \n",
    "# p-value группы А 0.43\n",
    "# p-value группы B 0.12\n",
    "# Принимаем нулевую гипотезу. Распределения в обеих группах нормальные"
   ]
  },
  {
   "cell_type": "code",
   "execution_count": 38,
   "metadata": {},
   "outputs": [
    {
     "name": "stdout",
     "output_type": "stream",
     "text": [
      "p-value: 0.0\n",
      "Отвергаем нулевую гипотезу. Среднее время в группах одинаково\n",
      "Альтернативная гипотеза. H1: Среднее время в группе А меньше, чем в группе B\n"
     ]
    }
   ],
   "source": [
    "from scipy.stats import ttest_ind\n",
    "# нулевая и альтернативная гипотезы\n",
    "H0 = 'Среднее время в группах одинаково'\n",
    "H1 = 'Среднее время в группе А меньше, чем в группе B'\n",
    "alpha = 0.05 #уровень значимости\n",
    "#вычисляем результат T-теста для выборок\n",
    "results = ttest_ind(\n",
    "    a=time_data['time(A)'],\n",
    "    b=time_data['time(B)'], \n",
    "    alternative='less'\n",
    ")\n",
    "print('p-value:', round(results.pvalue, 2))\n",
    " \n",
    "if results.pvalue < alpha:\n",
    "    print(\"Отвергаем нулевую гипотезу. {}\".format(H0))\n",
    "    print(\"Альтернативная гипотеза. H1: {}\".format(H1))\n",
    "else:\n",
    "    print(\"Принимаем нулевую гипотезу. {}\".format(H0))\n",
    " \n",
    "# p-value: 0.0\n",
    "# Отвергаем нулевую гипотезу. Среднее время в группах одинаково\n",
    "# Альтернативная гипотеза. H1: Среднее время в группе А меньше, чем в группе B"
   ]
  },
  {
   "cell_type": "markdown",
   "metadata": {},
   "source": [
    "Задание 5.2\n",
    "\n",
    "Проверьте гипотезу о равенстве конверсий в группах А и B при альтернативной гипотезе: Конверсия в группе А меньше, чем конверсия в группе B. Используйте функцию proportions_ztest() из модуля statsmodels.stats.proportion. В качестве уровня значимости возьмите .\n",
    "\n",
    "Каковы результаты тестирования?"
   ]
  },
  {
   "cell_type": "code",
   "execution_count": 39,
   "metadata": {},
   "outputs": [
    {
     "data": {
      "text/html": [
       "<div>\n",
       "<style scoped>\n",
       "    .dataframe tbody tr th:only-of-type {\n",
       "        vertical-align: middle;\n",
       "    }\n",
       "\n",
       "    .dataframe tbody tr th {\n",
       "        vertical-align: top;\n",
       "    }\n",
       "\n",
       "    .dataframe thead th {\n",
       "        text-align: right;\n",
       "    }\n",
       "</style>\n",
       "<table border=\"1\" class=\"dataframe\">\n",
       "  <thead>\n",
       "    <tr style=\"text-align: right;\">\n",
       "      <th></th>\n",
       "      <th>date</th>\n",
       "      <th>cid</th>\n",
       "      <th>transactions</th>\n",
       "      <th>revenue</th>\n",
       "      <th>group</th>\n",
       "    </tr>\n",
       "  </thead>\n",
       "  <tbody>\n",
       "    <tr>\n",
       "      <th>0</th>\n",
       "      <td>2020-11-06</td>\n",
       "      <td>1.001648e+09</td>\n",
       "      <td>0</td>\n",
       "      <td>0</td>\n",
       "      <td>A</td>\n",
       "    </tr>\n",
       "    <tr>\n",
       "      <th>1</th>\n",
       "      <td>2020-11-06</td>\n",
       "      <td>1.001936e+09</td>\n",
       "      <td>0</td>\n",
       "      <td>0</td>\n",
       "      <td>A</td>\n",
       "    </tr>\n",
       "    <tr>\n",
       "      <th>2</th>\n",
       "      <td>2020-11-06</td>\n",
       "      <td>1.003214e+08</td>\n",
       "      <td>0</td>\n",
       "      <td>0</td>\n",
       "      <td>A</td>\n",
       "    </tr>\n",
       "    <tr>\n",
       "      <th>3</th>\n",
       "      <td>2020-11-06</td>\n",
       "      <td>1.004393e+09</td>\n",
       "      <td>0</td>\n",
       "      <td>0</td>\n",
       "      <td>A</td>\n",
       "    </tr>\n",
       "    <tr>\n",
       "      <th>4</th>\n",
       "      <td>2020-11-06</td>\n",
       "      <td>1.006382e+09</td>\n",
       "      <td>0</td>\n",
       "      <td>0</td>\n",
       "      <td>A</td>\n",
       "    </tr>\n",
       "  </tbody>\n",
       "</table>\n",
       "</div>"
      ],
      "text/plain": [
       "        date           cid  transactions  revenue group\n",
       "0 2020-11-06  1.001648e+09             0        0     A\n",
       "1 2020-11-06  1.001936e+09             0        0     A\n",
       "2 2020-11-06  1.003214e+08             0        0     A\n",
       "3 2020-11-06  1.004393e+09             0        0     A\n",
       "4 2020-11-06  1.006382e+09             0        0     A"
      ]
     },
     "execution_count": 39,
     "metadata": {},
     "output_type": "execute_result"
    }
   ],
   "source": [
    "sample_a.head()"
   ]
  },
  {
   "cell_type": "code",
   "execution_count": 40,
   "metadata": {},
   "outputs": [
    {
     "data": {
      "text/html": [
       "<div>\n",
       "<style scoped>\n",
       "    .dataframe tbody tr th:only-of-type {\n",
       "        vertical-align: middle;\n",
       "    }\n",
       "\n",
       "    .dataframe tbody tr th {\n",
       "        vertical-align: top;\n",
       "    }\n",
       "\n",
       "    .dataframe thead th {\n",
       "        text-align: right;\n",
       "    }\n",
       "</style>\n",
       "<table border=\"1\" class=\"dataframe\">\n",
       "  <thead>\n",
       "    <tr style=\"text-align: right;\">\n",
       "      <th></th>\n",
       "      <th>sum</th>\n",
       "      <th>count</th>\n",
       "    </tr>\n",
       "    <tr>\n",
       "      <th>group</th>\n",
       "      <th></th>\n",
       "      <th></th>\n",
       "    </tr>\n",
       "  </thead>\n",
       "  <tbody>\n",
       "    <tr>\n",
       "      <th>A</th>\n",
       "      <td>441</td>\n",
       "      <td>61571</td>\n",
       "    </tr>\n",
       "    <tr>\n",
       "      <th>B</th>\n",
       "      <td>463</td>\n",
       "      <td>61383</td>\n",
       "    </tr>\n",
       "  </tbody>\n",
       "</table>\n",
       "</div>"
      ],
      "text/plain": [
       "       sum  count\n",
       "group            \n",
       "A      441  61571\n",
       "B      463  61383"
      ]
     },
     "metadata": {},
     "output_type": "display_data"
    }
   ],
   "source": [
    "converted_piv = sample_a.groupby('group')['transactions'].agg(\n",
    "    ['sum', 'count']\n",
    ")\n",
    "converted_piv = pd.concat( [converted_piv, sample_b.groupby('group')['transactions'].agg(\n",
    "    ['sum', 'count'] )      ] )\n",
    "display(converted_piv)"
   ]
  },
  {
   "cell_type": "code",
   "execution_count": 41,
   "metadata": {},
   "outputs": [
    {
     "name": "stdout",
     "output_type": "stream",
     "text": [
      "p-value:  0.22\n",
      "Принимаем нулевую гипотезу. Конверсии в группах А и B равны\n"
     ]
    }
   ],
   "source": [
    "# нулевая и альтернативная гипотезы\n",
    "H0 = 'Конверсии в группах А и B равны'\n",
    "H1 = 'Конверсия в группе А меньше, чем конверсия в группе B'\n",
    "alpha = 0.1 # уровень значимости\n",
    "# вычисляем значение p-value для z-теста для пропорций\n",
    "_, p_value = proportions_ztest(\n",
    "    count=converted_piv['sum'], #\n",
    "    nobs=converted_piv['count'], #\n",
    "    alternative='smaller',\n",
    ")\n",
    "# выводим результат на экран\n",
    "print('p-value: ', round(p_value, 2))\n",
    "# сравниваем полученное p-value с уровнем значимости\n",
    "if (p_value < alpha): \n",
    "    print(\"Отвергаем нулевую гипотезу. {}\".format(H0))\n",
    "    print(\"Альтернативная гипотеза. H1: {}\".format(H1))\n",
    "else:\n",
    "    print(\"Принимаем нулевую гипотезу. {}\".format(H0))\n",
    " \n",
    "# p-value:  0.1\n",
    "# Принимаем нулевую гипотезу. Конверсии в группах А и B равны"
   ]
  },
  {
   "cell_type": "markdown",
   "metadata": {},
   "source": [
    "Задание 5.3\n",
    "\n",
    "Проверьте гипотезу о нормальности распределений ежедневного среднего чека с помощью критерия Шапиро-Уилка. В качестве уровня значимости возьмите ."
   ]
  },
  {
   "cell_type": "code",
   "execution_count": 42,
   "metadata": {},
   "outputs": [
    {
     "data": {
      "text/html": [
       "<div>\n",
       "<style scoped>\n",
       "    .dataframe tbody tr th:only-of-type {\n",
       "        vertical-align: middle;\n",
       "    }\n",
       "\n",
       "    .dataframe tbody tr th {\n",
       "        vertical-align: top;\n",
       "    }\n",
       "\n",
       "    .dataframe thead th {\n",
       "        text-align: right;\n",
       "    }\n",
       "</style>\n",
       "<table border=\"1\" class=\"dataframe\">\n",
       "  <thead>\n",
       "    <tr style=\"text-align: right;\">\n",
       "      <th></th>\n",
       "      <th>date</th>\n",
       "      <th>users_count</th>\n",
       "      <th>transactions</th>\n",
       "      <th>revenue</th>\n",
       "      <th>cum_users_count</th>\n",
       "      <th>cum_trans</th>\n",
       "      <th>cum_rev</th>\n",
       "      <th>cum_conv</th>\n",
       "      <th>cum_check</th>\n",
       "    </tr>\n",
       "  </thead>\n",
       "  <tbody>\n",
       "    <tr>\n",
       "      <th>0</th>\n",
       "      <td>2020-11-06</td>\n",
       "      <td>2576</td>\n",
       "      <td>16</td>\n",
       "      <td>1577279</td>\n",
       "      <td>2576</td>\n",
       "      <td>16</td>\n",
       "      <td>1577279</td>\n",
       "      <td>0.621118</td>\n",
       "      <td>9.857994e+06</td>\n",
       "    </tr>\n",
       "    <tr>\n",
       "      <th>1</th>\n",
       "      <td>2020-11-07</td>\n",
       "      <td>2704</td>\n",
       "      <td>23</td>\n",
       "      <td>1721886</td>\n",
       "      <td>5280</td>\n",
       "      <td>39</td>\n",
       "      <td>3299165</td>\n",
       "      <td>0.738636</td>\n",
       "      <td>8.459397e+06</td>\n",
       "    </tr>\n",
       "    <tr>\n",
       "      <th>2</th>\n",
       "      <td>2020-11-08</td>\n",
       "      <td>3354</td>\n",
       "      <td>25</td>\n",
       "      <td>846051</td>\n",
       "      <td>8634</td>\n",
       "      <td>64</td>\n",
       "      <td>4145216</td>\n",
       "      <td>0.741256</td>\n",
       "      <td>6.476900e+06</td>\n",
       "    </tr>\n",
       "    <tr>\n",
       "      <th>3</th>\n",
       "      <td>2020-11-09</td>\n",
       "      <td>3234</td>\n",
       "      <td>18</td>\n",
       "      <td>708830</td>\n",
       "      <td>11868</td>\n",
       "      <td>82</td>\n",
       "      <td>4854046</td>\n",
       "      <td>0.690934</td>\n",
       "      <td>5.919568e+06</td>\n",
       "    </tr>\n",
       "    <tr>\n",
       "      <th>4</th>\n",
       "      <td>2020-11-10</td>\n",
       "      <td>3022</td>\n",
       "      <td>29</td>\n",
       "      <td>826984</td>\n",
       "      <td>14890</td>\n",
       "      <td>111</td>\n",
       "      <td>5681030</td>\n",
       "      <td>0.745467</td>\n",
       "      <td>5.118045e+06</td>\n",
       "    </tr>\n",
       "  </tbody>\n",
       "</table>\n",
       "</div>"
      ],
      "text/plain": [
       "        date  users_count  transactions  revenue  cum_users_count  cum_trans  \\\n",
       "0 2020-11-06         2576            16  1577279             2576         16   \n",
       "1 2020-11-07         2704            23  1721886             5280         39   \n",
       "2 2020-11-08         3354            25   846051             8634         64   \n",
       "3 2020-11-09         3234            18   708830            11868         82   \n",
       "4 2020-11-10         3022            29   826984            14890        111   \n",
       "\n",
       "   cum_rev  cum_conv     cum_check  \n",
       "0  1577279  0.621118  9.857994e+06  \n",
       "1  3299165  0.738636  8.459397e+06  \n",
       "2  4145216  0.741256  6.476900e+06  \n",
       "3  4854046  0.690934  5.919568e+06  \n",
       "4  5681030  0.745467  5.118045e+06  "
      ]
     },
     "execution_count": 42,
     "metadata": {},
     "output_type": "execute_result"
    }
   ],
   "source": [
    "daily_sample_a.head()"
   ]
  },
  {
   "cell_type": "code",
   "execution_count": 43,
   "metadata": {},
   "outputs": [],
   "source": [
    "# add new feature - average daily check\n",
    "daily_sample_a['avg_daily_check'] = daily_sample_a['revenue']/daily_sample_a['transactions']\n",
    "daily_sample_b['avg_daily_check'] = daily_sample_b['revenue']/daily_sample_b['transactions']"
   ]
  },
  {
   "cell_type": "code",
   "execution_count": 44,
   "metadata": {},
   "outputs": [
    {
     "name": "stdout",
     "output_type": "stream",
     "text": [
      "p=0.010\n",
      "Данные не распределены нормально (мы отвергаем H0)\n"
     ]
    }
   ],
   "source": [
    "# проверяем данные на нормальность методом Шапиро-Уилка\n",
    "H0 = 'Данные распределены нормально'\n",
    "Ha = 'Данные не распределены нормально (мы отвергаем H0)'\n",
    "alpha = 0.1 # уровень значимости\n",
    "_, p = shapiro(daily_sample_a['avg_daily_check'])\n",
    "print('p=%.3f' % p)\n",
    "\n",
    "# Интерпретация \n",
    "\n",
    "if p > alpha:\n",
    "\tprint(H0)\n",
    "else:\n",
    "\tprint(Ha)"
   ]
  },
  {
   "cell_type": "code",
   "execution_count": 45,
   "metadata": {},
   "outputs": [
    {
     "name": "stdout",
     "output_type": "stream",
     "text": [
      "p=0.022\n",
      "Данные не распределены нормально (мы отвергаем H0)\n"
     ]
    }
   ],
   "source": [
    "# проверяем данные на нормальность методом Шапиро-Уилка\n",
    "H0 = 'Данные распределены нормально'\n",
    "Ha = 'Данные не распределены нормально (мы отвергаем H0)'\n",
    "alpha = 0.1 # уровень значимости\n",
    "_, p = shapiro(daily_sample_b['avg_daily_check'])\n",
    "print('p=%.3f' % p)\n",
    "\n",
    "# Интерпретация \n",
    "\n",
    "if p > alpha:\n",
    "\tprint(H0)\n",
    "else:\n",
    "\tprint(Ha)"
   ]
  },
  {
   "cell_type": "code",
   "execution_count": 46,
   "metadata": {},
   "outputs": [
    {
     "data": {
      "image/png": "[encoded data removed]",
      "text/plain": [
       "<Figure size 864x288 with 2 Axes>"
      ]
     },
     "metadata": {
      "needs_background": "light"
     },
     "output_type": "display_data"
    }
   ],
   "source": [
    "# проверим визуально\n",
    "fig, axes = plt.subplots(1, 2, figsize=(12, 4))\n",
    "sns.histplot(x='avg_daily_check', data = daily_sample_a, ax = axes[0])\n",
    "sns.histplot(x='avg_daily_check', data = daily_sample_b, ax = axes[1])\n",
    "#задаём названия графикам\n",
    "axes[0].set_title('Распределение времени на сайте в группе А');\n",
    "axes[1].set_title('Распределение времени на сайте в группе B');"
   ]
  },
  {
   "cell_type": "markdown",
   "metadata": {},
   "source": [
    "Задание 5.4\n",
    "\n",
    "Проверьте гипотезу о равенстве ежедневных средних чеков с помощью критерия Манна-Уитни при альтернативной гипотезе: Ежедневный средний чек в группе А меньше, чем в группе B. Используйте функцию mannwhitneyu() из модуля scipy.stats. В качестве уровня значимости возьмите ."
   ]
  },
  {
   "cell_type": "code",
   "execution_count": 47,
   "metadata": {},
   "outputs": [],
   "source": [
    "import scipy.stats as stats"
   ]
  },
  {
   "cell_type": "code",
   "execution_count": 48,
   "metadata": {},
   "outputs": [
    {
     "name": "stdout",
     "output_type": "stream",
     "text": [
      "\n",
      "*** Результаты проверки с помощью критерия Манна-Уитни ***\n",
      "0.09\n",
      "0.09 <= 0.1. Мы отвергаем нулевую гипотезу. Ежедневный средний чек в группе А меньше, чем в группе B\n"
     ]
    }
   ],
   "source": [
    "# определяем нулевую и альтернативную гипотезы\n",
    "H0 = 'Нет значимой разницы между ежедневными средними чеками'\n",
    "Ha = 'Ежедневный средний чек в группе А меньше, чем в группе B'\n",
    "alpha = 0.1 # уровень значимости\n",
    "print('\\n' + \"*** Результаты проверки с помощью критерия Манна-Уитни ***\")\n",
    "test_results = stats.mannwhitneyu(daily_sample_a['avg_daily_check'], daily_sample_b['avg_daily_check'], alternative=\"less\")\n",
    "\n",
    "p = round(test_results[1],2)\n",
    "print(f\"{p}\")\n",
    "\n",
    "if p>alpha:\n",
    "    print(f\"{p} > {alpha}. Мы не можем отвергнуть нулевую гипотезу. {H0}\")\n",
    "else:\n",
    "    print(f\"{p} <= {alpha}. Мы отвергаем нулевую гипотезу. {Ha}\")"
   ]
  },
  {
   "cell_type": "markdown",
   "metadata": {},
   "source": [
    "## 6. Анализ результатов A/B-тестирования: доверительные интервалы"
   ]
  },
  {
   "cell_type": "code",
   "execution_count": 49,
   "metadata": {},
   "outputs": [],
   "source": [
    "n = 36 # размер выборки\n",
    "x_mean = 16100 # выборочное среднее\n",
    "sigma = 12000 # истинное стандартное отклонение\n",
    "gamma = 0.95 # уровень надёжности\n",
    "alpha = 1 - gamma # уровень значимости"
   ]
  },
  {
   "cell_type": "code",
   "execution_count": 50,
   "metadata": {},
   "outputs": [],
   "source": [
    "from scipy.stats import norm\n",
    "z_crit = -norm.ppf(alpha/2) # z критическое"
   ]
  },
  {
   "cell_type": "code",
   "execution_count": 51,
   "metadata": {},
   "outputs": [
    {
     "name": "stdout",
     "output_type": "stream",
     "text": [
      "Доверительный интервал: (12180, 20020)\n"
     ]
    }
   ],
   "source": [
    "eps = z_crit * sigma/(n ** 0.5) #погрешность\n",
    "lower_bound = x_mean - eps # левая (нижняя) граница\n",
    "upper_bound = x_mean + eps # правая (верхняя) граница\n",
    "confidence_interval = (round(lower_bound), round(upper_bound)) # создаём кортеж из округлённых границ интервала\n",
    "print('Доверительный интервал: {}'.format(confidence_interval)) # выводим результат"
   ]
  },
  {
   "cell_type": "markdown",
   "metadata": {},
   "source": [
    "Задание 6.5\n",
    "\n",
    "Чему равно значение z-критического для такого интервала? Введите число с двумя знаками после разделительного знака."
   ]
  },
  {
   "cell_type": "code",
   "execution_count": 52,
   "metadata": {},
   "outputs": [],
   "source": [
    "n = 64 # размер выборки\n",
    "x_mean = 12.35 # выборочное среднее\n",
    "sigma = 2.4 # истинное стандартное отклонение\n",
    "gamma = 0.9 # уровень надёжности\n",
    "alpha = 1 - gamma # уровень значимости"
   ]
  },
  {
   "cell_type": "code",
   "execution_count": 53,
   "metadata": {},
   "outputs": [
    {
     "data": {
      "text/plain": [
       "1.6448536269514729"
      ]
     },
     "execution_count": 53,
     "metadata": {},
     "output_type": "execute_result"
    }
   ],
   "source": [
    "z_crit = -norm.ppf(alpha/2) # z критическое\n",
    "z_crit"
   ]
  },
  {
   "cell_type": "code",
   "execution_count": 54,
   "metadata": {},
   "outputs": [
    {
     "name": "stdout",
     "output_type": "stream",
     "text": [
      "Доверительный интервал: (11.86, 12.84)\n"
     ]
    }
   ],
   "source": [
    "eps = z_crit * sigma/(n ** 0.5) #погрешность\n",
    "lower_bound = x_mean - eps # левая (нижняя) граница\n",
    "upper_bound = x_mean + eps # правая (верхняя) граница\n",
    "confidence_interval = (round(lower_bound,2), round(upper_bound,2)) # создаём кортеж из округлённых границ интервала\n",
    "print('Доверительный интервал: {}'.format(confidence_interval)) # выводим результат"
   ]
  },
  {
   "cell_type": "code",
   "execution_count": 55,
   "metadata": {},
   "outputs": [],
   "source": [
    "n = 15 # размер выборки\n",
    "k = n - 1 # число степеней свободы\n",
    "x_mean = 2000 # выборочное среднее\n",
    "x_std = 400 # выборочное стандартное отклонение\n",
    "gamma = 0.95 # уровень надёжности\n",
    "alpha = 1 - gamma # уровень значимости"
   ]
  },
  {
   "cell_type": "code",
   "execution_count": 56,
   "metadata": {},
   "outputs": [],
   "source": [
    "from scipy.stats import t\n",
    "t_crit = -t.ppf(alpha/2, k) # t-критическое"
   ]
  },
  {
   "cell_type": "code",
   "execution_count": 57,
   "metadata": {},
   "outputs": [
    {
     "name": "stdout",
     "output_type": "stream",
     "text": [
      "Доверительный интервал: (1778, 2222)\n"
     ]
    }
   ],
   "source": [
    "eps = t_crit * x_std/(n ** 0.5) # погрешность\n",
    "lower_bound = x_mean - eps # левая (нижняя) граница\n",
    "upper_bound = x_mean + eps # правая (верхняя) граница\n",
    "confidence_interval = (round(lower_bound), round(upper_bound)) # создаём кортеж из округлённых границ интервала\n",
    "print('Доверительный интервал: {}'.format(confidence_interval)) # выводим результат"
   ]
  },
  {
   "cell_type": "markdown",
   "metadata": {},
   "source": [
    "Задание 6.6\n",
    "\n",
    "Чиновника интересует сумма подоходного налога, выплачиваемого домохозяйствами за год. На случайной выборке из 25 домохозяйств был посчитан средний размер выплаченного налога, и он составил $3540. Также известно выборочное отклонение величины подоходного налога, равное $1150.\n",
    "Необходимо найти 90 %-ый доверительный интервал для истинного среднего значения налоговых выплат за год. Используйте формулу с t-критическим.\n",
    "\n",
    "Укажите границы построенного доверительного интервала для истинного среднего. Ответ округлите до целого."
   ]
  },
  {
   "cell_type": "code",
   "execution_count": 60,
   "metadata": {},
   "outputs": [],
   "source": [
    "n = 25 # размер выборки\n",
    "k = n - 1 # число степеней свободы\n",
    "x_mean = 3540 # выборочное среднее\n",
    "x_std = 1150 # выборочное стандартное отклонение\n",
    "gamma = 0.9 # уровень надёжности\n",
    "alpha = 1 - gamma # уровень значимости"
   ]
  },
  {
   "cell_type": "code",
   "execution_count": 61,
   "metadata": {},
   "outputs": [],
   "source": [
    "t_crit = -t.ppf(alpha/2, k) # t-критическое"
   ]
  },
  {
   "cell_type": "code",
   "execution_count": 62,
   "metadata": {},
   "outputs": [
    {
     "name": "stdout",
     "output_type": "stream",
     "text": [
      "Доверительный интервал: (3146, 3934)\n"
     ]
    }
   ],
   "source": [
    "eps = t_crit * x_std/(n ** 0.5) # погрешность\n",
    "lower_bound = x_mean - eps # левая (нижняя) граница\n",
    "upper_bound = x_mean + eps # правая (верхняя) граница\n",
    "confidence_interval = (round(lower_bound), round(upper_bound)) # создаём кортеж из округлённых границ интервала\n",
    "print('Доверительный интервал: {}'.format(confidence_interval)) # выводим результат"
   ]
  },
  {
   "cell_type": "markdown",
   "metadata": {},
   "source": [
    "## ДОВЕРИТЕЛЬНЫЙ ИНТЕРВАЛ ДЛЯ ПРОПОРЦИИ"
   ]
  },
  {
   "cell_type": "code",
   "execution_count": 63,
   "metadata": {},
   "outputs": [
    {
     "data": {
      "text/html": [
       "<div>\n",
       "<style scoped>\n",
       "    .dataframe tbody tr th:only-of-type {\n",
       "        vertical-align: middle;\n",
       "    }\n",
       "\n",
       "    .dataframe tbody tr th {\n",
       "        vertical-align: top;\n",
       "    }\n",
       "\n",
       "    .dataframe thead th {\n",
       "        text-align: right;\n",
       "    }\n",
       "</style>\n",
       "<table border=\"1\" class=\"dataframe\">\n",
       "  <thead>\n",
       "    <tr style=\"text-align: right;\">\n",
       "      <th></th>\n",
       "      <th>user_id</th>\n",
       "      <th>timestamp</th>\n",
       "      <th>group</th>\n",
       "      <th>converted</th>\n",
       "    </tr>\n",
       "  </thead>\n",
       "  <tbody>\n",
       "    <tr>\n",
       "      <th>0</th>\n",
       "      <td>851104</td>\n",
       "      <td>2017-01-21</td>\n",
       "      <td>A</td>\n",
       "      <td>0</td>\n",
       "    </tr>\n",
       "    <tr>\n",
       "      <th>1</th>\n",
       "      <td>804228</td>\n",
       "      <td>2017-01-12</td>\n",
       "      <td>A</td>\n",
       "      <td>0</td>\n",
       "    </tr>\n",
       "    <tr>\n",
       "      <th>2</th>\n",
       "      <td>661590</td>\n",
       "      <td>2017-01-11</td>\n",
       "      <td>B</td>\n",
       "      <td>0</td>\n",
       "    </tr>\n",
       "    <tr>\n",
       "      <th>3</th>\n",
       "      <td>853541</td>\n",
       "      <td>2017-01-08</td>\n",
       "      <td>B</td>\n",
       "      <td>0</td>\n",
       "    </tr>\n",
       "    <tr>\n",
       "      <th>4</th>\n",
       "      <td>864975</td>\n",
       "      <td>2017-01-21</td>\n",
       "      <td>A</td>\n",
       "      <td>1</td>\n",
       "    </tr>\n",
       "  </tbody>\n",
       "</table>\n",
       "</div>"
      ],
      "text/plain": [
       "   user_id   timestamp group  converted\n",
       "0   851104  2017-01-21     A          0\n",
       "1   804228  2017-01-12     A          0\n",
       "2   661590  2017-01-11     B          0\n",
       "3   853541  2017-01-08     B          0\n",
       "4   864975  2017-01-21     A          1"
      ]
     },
     "execution_count": 63,
     "metadata": {},
     "output_type": "execute_result"
    }
   ],
   "source": [
    "ab_data = pd.read_csv('data/ab_data.csv')\n",
    "ab_data.head()"
   ]
  },
  {
   "cell_type": "code",
   "execution_count": 64,
   "metadata": {},
   "outputs": [],
   "source": [
    "#фильтруем данные группы А\n",
    "a_data = ab_data[ab_data['group'] == 'A']\n",
    "#фильтруем данные группы B\n",
    "b_data = ab_data[ab_data['group'] == 'B']"
   ]
  },
  {
   "cell_type": "code",
   "execution_count": 83,
   "metadata": {},
   "outputs": [],
   "source": [
    "def proportions_conf_interval(n, x_p, gamma=0.95):   \n",
    "    alpha = 1 - gamma # уровень значимости\n",
    "    z_crit = -norm.ppf(alpha/2) # z критическое\n",
    "    eps = z_crit * (x_p * (1 - x_p) / n) ** 0.5 #погрешность\n",
    "    lower_bound = x_p - eps # левая (нижняя) граница\n",
    "    upper_bound = x_p + eps # правая (верхняя) граница\n",
    "    # возвращаем кортеж из округлённых границ интервала\n",
    "    return round(lower_bound * 100, 2), round(upper_bound * 100, 2)"
   ]
  },
  {
   "cell_type": "code",
   "execution_count": 84,
   "metadata": {},
   "outputs": [
    {
     "name": "stdout",
     "output_type": "stream",
     "text": [
      "Доверительный интервал для конверсии группы А: (11.86, 12.19)\n",
      "Доверительный интервал для конверсии группы B: (11.7, 12.03)\n"
     ]
    }
   ],
   "source": [
    "conf_interval_a = proportions_conf_interval(\n",
    "n=a_data['user_id'].count(), # размер выборки\n",
    "x_p=a_data['converted'].mean() # выборочная пропорция\n",
    ")\n",
    "conf_interval_b = proportions_conf_interval(\n",
    "n=b_data['user_id'].count(), # размер выборки\n",
    "x_p=b_data['converted'].mean() # выборочная пропорция\n",
    ")\n",
    "print('Доверительный интервал для конверсии группы А: {}'.format(conf_interval_a))\n",
    "print('Доверительный интервал для конверсии группы B: {}'.format(conf_interval_b))\n",
    "# Доверительный интервал для конверсии группы А: (11.86, 12.19)\n",
    "# Доверительный интервал для конверсии группы B: (11.7, 12.03)"
   ]
  },
  {
   "cell_type": "code",
   "execution_count": 86,
   "metadata": {},
   "outputs": [],
   "source": [
    "def diff_proportions_conf_interval(n, xp, gamma=0.95):\n",
    "    alpha = 1 - gamma # уровень значимости\n",
    "    diff = xp[1] - xp[0] # выборочная разница конверсий групп B и A\n",
    "    z_crit = -norm.ppf(alpha/2) # z критическое\n",
    "    eps = z_crit * (xp[0] * (1 - xp[0])/n[0] + xp[1] * (1 - xp[1])/n[1]) ** 0.5 # погрешность\n",
    "    lower_bound = diff - eps # левая (нижняя) граница\n",
    "    upper_bound = diff + eps # правая (верхняя) граница\n",
    "    # возвращаем кортеж из округлённых границ интервала\n",
    "    return round(lower_bound *100, 2), round(upper_bound * 100, 2)"
   ]
  },
  {
   "cell_type": "code",
   "execution_count": 68,
   "metadata": {},
   "outputs": [
    {
     "name": "stdout",
     "output_type": "stream",
     "text": [
      "Доверительный интервал для разности конверсий: (-0.39, 0.08)\n"
     ]
    }
   ],
   "source": [
    "# размеры выборок групп А и B\n",
    "n = [a_data['user_id'].count(), b_data['user_id'].count()]\n",
    "# выборочная пропорция групп A и B\n",
    "xp = [a_data['converted'].mean(), b_data['converted'].mean()]\n",
    "# строим доверительный интервал для разности конверсий\n",
    "diff_inverval = diff_proportions_conf_interval(n, xp)\n",
    "print('Доверительный интервал для разности конверсий: {}'.format(diff_inverval))"
   ]
  },
  {
   "cell_type": "markdown",
   "metadata": {},
   "source": [
    "Задание 6.9\n",
    "\n",
    "Чтобы оценить удовлетворённость клиентов сети отелей, менеджер взял случайную выборку из 189 комментариев, оставленных посетителями на онлайн-платформе по бронированию, и провёл анализ их содержания. Выяснилось, что 132 комментария были положительными, остальные — негативными.\n",
    "\n",
    "Давайте поможем менеджеру ответить на несколько вопросов!\n",
    "\n",
    "Найдите 90 % доверительный интервал для истинной пропорции положительных комментариев. Ответ приведите в процентах и округлите до двух знаков после запятой. При расчёте используйте z-критическое."
   ]
  },
  {
   "cell_type": "code",
   "execution_count": 85,
   "metadata": {},
   "outputs": [
    {
     "name": "stdout",
     "output_type": "stream",
     "text": [
      "Доверительный интервал для истинной пропорции: (64.35, 75.33)\n"
     ]
    }
   ],
   "source": [
    "conf_interval = proportions_conf_interval(\n",
    "n= 189, # размер выборки\n",
    "x_p= 132 / 189, # выборочная пропорция\n",
    "gamma = 0.9\n",
    ")\n",
    "print('Доверительный интервал для истинной пропорции: {}'.format(conf_interval))\n"
   ]
  },
  {
   "cell_type": "markdown",
   "metadata": {},
   "source": [
    "Задание 6.10\n",
    "\n",
    "Проводится A/B-тестирование вариантов отображения страницы корзины на сайте интернет-магазина. Есть два варианта отображения страницы: с товарными рекомендациями «Хиты продаж» и персональными, подобранными под интерес конкретно этого пользователя. Метрикой является конверсия действия «добавить в корзину товар из рекомендаций». Были собраны следующие данные:\n",
    "\n",
    "Постройте 95 %-ый доверительный интервал разности полученных конверсий. Ответ приведите в процентах и округлите границы интервала до второго знака после запятой. При расчёте используйте z-критическое."
   ]
  },
  {
   "cell_type": "code",
   "execution_count": 89,
   "metadata": {},
   "outputs": [
    {
     "name": "stdout",
     "output_type": "stream",
     "text": [
      "Доверительный интервал для разности конверсий: (-1.36, 2.36)\n"
     ]
    }
   ],
   "source": [
    "# размеры выборок групп А и B\n",
    "n = [1000, 1000]\n",
    "# выборочная пропорция групп A и B\n",
    "xp = [45 / 1000, 50 / 1000]\n",
    "# строим доверительный интервал для разности конверсий\n",
    "diff_inverval = diff_proportions_conf_interval(n, xp, gamma = 0.95)\n",
    "print('Доверительный интервал для разности конверсий: {}'.format(diff_inverval))"
   ]
  }
 ],
 "metadata": {
  "kernelspec": {
   "display_name": "Python 3.10.4 64-bit",
   "language": "python",
   "name": "python3"
  },
  "language_info": {
   "codemirror_mode": {
    "name": "ipython",
    "version": 3
   },
   "file_extension": ".py",
   "mimetype": "text/x-python",
   "name": "python",
   "nbconvert_exporter": "python",
   "pygments_lexer": "ipython3",
   "version": "3.10.4"
  },
  "orig_nbformat": 4,
  "vscode": {
   "interpreter": {
    "hash": "301a17a29b57d3836b7901af1621afd6d2b1f2298b9c7949191147cf2fea93e3"
   }
  }
 },
 "nbformat": 4,
 "nbformat_minor": 2
}
