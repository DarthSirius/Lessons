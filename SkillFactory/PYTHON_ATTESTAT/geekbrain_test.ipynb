{
 "cells": [
  {
   "cell_type": "markdown",
   "metadata": {},
   "source": [
    "Задачи по Python для начинающих от Tproger и GeekBrains"
   ]
  },
  {
   "cell_type": "code",
   "execution_count": null,
   "metadata": {},
   "outputs": [],
   "source": [
    "import pandas as pd"
   ]
  },
  {
   "cell_type": "code",
   "execution_count": null,
   "metadata": {},
   "outputs": [],
   "source": [
    "def sec_to_datetime(n):\n",
    "    minutes = n // 60\n",
    "    seconds = n % 60\n",
    "    hours = minutes // 60\n",
    "    minutes = minutes % 60\n",
    "    days = hours // 24\n",
    "    hour = hours % 24\n",
    "    print(f'{days} дней, {hours} часов, {minutes} минут, {seconds} секунд')\n",
    "    return((days, hours, minutes, seconds))\n",
    "\n",
    "\n",
    "sec_to_datetime(1000000)"
   ]
  },
  {
   "cell_type": "code",
   "execution_count": null,
   "metadata": {},
   "outputs": [],
   "source": [
    "def list_tuple(a):\n",
    "    lst = a.split(',')\n",
    "    lst_int = []\n",
    "    tpl = ()\n",
    "    for i in lst:\n",
    "        i = int(i)\n",
    "        lst_int.append(i)\n",
    "    tpl = tuple(lst_int)\n",
    "    return lst_int, tpl\n",
    "\n",
    "list_tuple('1,5,78,34')"
   ]
  },
  {
   "cell_type": "code",
   "execution_count": null,
   "metadata": {},
   "outputs": [],
   "source": [
    "values = input('Введите числа через запятую: ')\n",
    "ints_as_strings = values.split(',')\n",
    "ints = map(int, ints_as_strings)\n",
    "lst = list(ints)\n",
    "tup = tuple(lst)\n",
    "print('Список:', lst)\n",
    "print('Кортеж:', tup)"
   ]
  }
 ],
 "metadata": {
  "kernelspec": {
   "display_name": "Python 3.10.4 64-bit",
   "language": "python",
   "name": "python3"
  },
  "language_info": {
   "name": "python",
   "version": "3.10.4"
  },
  "orig_nbformat": 4,
  "vscode": {
   "interpreter": {
    "hash": "301a17a29b57d3836b7901af1621afd6d2b1f2298b9c7949191147cf2fea93e3"
   }
  }
 },
 "nbformat": 4,
 "nbformat_minor": 2
}
