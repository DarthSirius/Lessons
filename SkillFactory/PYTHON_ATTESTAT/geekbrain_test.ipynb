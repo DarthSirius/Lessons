{
 "cells": [
  {
   "cell_type": "markdown",
   "metadata": {},
   "source": [
    "Задачи по Python для начинающих от Tproger и GeekBrains"
   ]
  },
  {
   "cell_type": "code",
   "execution_count": 1,
   "metadata": {},
   "outputs": [],
   "source": [
    "import pandas as pd"
   ]
  },
  {
   "cell_type": "markdown",
   "metadata": {},
   "source": [
    "Задача 6\n",
    "Напишите код, который переводит целое число в строку, при том что его можно применить в любой системе счисления."
   ]
  },
  {
   "cell_type": "code",
   "execution_count": 5,
   "metadata": {},
   "outputs": [
    {
     "name": "stdout",
     "output_type": "stream",
     "text": [
      "2748\n"
     ]
    }
   ],
   "source": [
    "print(int('ABC', 16))"
   ]
  },
  {
   "cell_type": "markdown",
   "metadata": {},
   "source": [
    "Задача 8\n",
    "\n",
    "Напишите проверку на то, является ли строка палиндромом. Палиндром — это слово или фраза, которые одинаково читаются слева направо и справа налево."
   ]
  },
  {
   "cell_type": "code",
   "execution_count": 6,
   "metadata": {},
   "outputs": [
    {
     "name": "stdout",
     "output_type": "stream",
     "text": [
      "True\n"
     ]
    }
   ],
   "source": [
    "def is_palindrome(string):\n",
    "    return string == string[::-1]\n",
    "\n",
    "print(is_palindrome('abba'))"
   ]
  },
  {
   "cell_type": "markdown",
   "metadata": {},
   "source": [
    "Задача 9\n",
    "\n",
    "Сделайте так, чтобы число секунд отображалось в виде дни:часы:минуты:секунды."
   ]
  },
  {
   "cell_type": "code",
   "execution_count": 2,
   "metadata": {},
   "outputs": [
    {
     "name": "stdout",
     "output_type": "stream",
     "text": [
      "11 дней, 277 часов, 46 минут, 40 секунд\n"
     ]
    },
    {
     "data": {
      "text/plain": [
       "(11, 277, 46, 40)"
      ]
     },
     "execution_count": 2,
     "metadata": {},
     "output_type": "execute_result"
    }
   ],
   "source": [
    "def sec_to_datetime(n):\n",
    "    minutes = n // 60\n",
    "    seconds = n % 60\n",
    "    hours = minutes // 60\n",
    "    minutes = minutes % 60\n",
    "    days = hours // 24\n",
    "    hour = hours % 24\n",
    "    print(f'{days} дней, {hours} часов, {minutes} минут, {seconds} секунд')\n",
    "    return((days, hours, minutes, seconds))\n",
    "\n",
    "\n",
    "sec_to_datetime(1000000)"
   ]
  },
  {
   "cell_type": "markdown",
   "metadata": {},
   "source": [
    "Задача 10\n",
    "\n",
    "Вы принимаете от пользователя последовательность чисел, разделённых запятой. Составьте список и кортеж с этими числами."
   ]
  },
  {
   "cell_type": "code",
   "execution_count": 3,
   "metadata": {},
   "outputs": [
    {
     "data": {
      "text/plain": [
       "([1, 5, 78, 34], (1, 5, 78, 34))"
      ]
     },
     "execution_count": 3,
     "metadata": {},
     "output_type": "execute_result"
    }
   ],
   "source": [
    "def list_tuple(a):\n",
    "    lst = a.split(',')\n",
    "    lst_int = []\n",
    "    tpl = ()\n",
    "    for i in lst:\n",
    "        i = int(i)\n",
    "        lst_int.append(i)\n",
    "    tpl = tuple(lst_int)\n",
    "    return lst_int, tpl\n",
    "\n",
    "list_tuple('1,5,78,34')"
   ]
  },
  {
   "cell_type": "code",
   "execution_count": 4,
   "metadata": {},
   "outputs": [
    {
     "name": "stdout",
     "output_type": "stream",
     "text": [
      "Список: [1, 34, 23, 678, 555]\n",
      "Кортеж: (1, 34, 23, 678, 555)\n"
     ]
    }
   ],
   "source": [
    "values = input('Введите числа через запятую: ')\n",
    "ints_as_strings = values.split(',')\n",
    "ints = map(int, ints_as_strings)\n",
    "lst = list(ints)\n",
    "tup = tuple(lst)\n",
    "print('Список:', lst)\n",
    "print('Кортеж:', tup)"
   ]
  },
  {
   "cell_type": "markdown",
   "metadata": {},
   "source": [
    "Задача 11\n",
    "\n",
    "Выведите первый и последний элемент списка."
   ]
  },
  {
   "cell_type": "code",
   "execution_count": 10,
   "metadata": {},
   "outputs": [
    {
     "name": "stdout",
     "output_type": "stream",
     "text": [
      "a\n",
      "55\n"
     ]
    }
   ],
   "source": [
    "list1 = ['a', 'f', 'j', 're', 55]\n",
    "print(list1[0])\n",
    "print(list1[-1])"
   ]
  },
  {
   "cell_type": "markdown",
   "metadata": {},
   "source": [
    "Задача 12\n",
    "\n",
    "Напишите программу, которая принимает имя файла и выводит его расширение. Если расширение у файла определить невозможно, выбросите исключение."
   ]
  },
  {
   "cell_type": "code",
   "execution_count": null,
   "metadata": {},
   "outputs": [],
   "source": []
  },
  {
   "cell_type": "markdown",
   "metadata": {},
   "source": [
    "Задача 13\n",
    "\n",
    "При заданном целом числе n посчитайте n + nn + nnn."
   ]
  }
 ],
 "metadata": {
  "kernelspec": {
   "display_name": "Python 3.10.4 64-bit",
   "language": "python",
   "name": "python3"
  },
  "language_info": {
   "codemirror_mode": {
    "name": "ipython",
    "version": 3
   },
   "file_extension": ".py",
   "mimetype": "text/x-python",
   "name": "python",
   "nbconvert_exporter": "python",
   "pygments_lexer": "ipython3",
   "version": "3.10.4"
  },
  "orig_nbformat": 4,
  "vscode": {
   "interpreter": {
    "hash": "301a17a29b57d3836b7901af1621afd6d2b1f2298b9c7949191147cf2fea93e3"
   }
  }
 },
 "nbformat": 4,
 "nbformat_minor": 2
}
