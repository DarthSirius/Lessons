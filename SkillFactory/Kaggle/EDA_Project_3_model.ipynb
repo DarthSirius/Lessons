{
 "cells": [
  {
   "cell_type": "code",
   "execution_count": 1,
   "metadata": {},
   "outputs": [],
   "source": [
    "import pandas as pd"
   ]
  },
  {
   "cell_type": "code",
   "execution_count": 2,
   "metadata": {},
   "outputs": [
    {
     "data": {
      "text/html": [
       "<div>\n",
       "<style scoped>\n",
       "    .dataframe tbody tr th:only-of-type {\n",
       "        vertical-align: middle;\n",
       "    }\n",
       "\n",
       "    .dataframe tbody tr th {\n",
       "        vertical-align: top;\n",
       "    }\n",
       "\n",
       "    .dataframe thead th {\n",
       "        text-align: right;\n",
       "    }\n",
       "</style>\n",
       "<table border=\"1\" class=\"dataframe\">\n",
       "  <thead>\n",
       "    <tr style=\"text-align: right;\">\n",
       "      <th></th>\n",
       "      <th>hotel_address</th>\n",
       "      <th>additional_number_of_scoring</th>\n",
       "      <th>review_date</th>\n",
       "      <th>average_score</th>\n",
       "      <th>hotel_name</th>\n",
       "      <th>reviewer_nationality</th>\n",
       "      <th>negative_review</th>\n",
       "      <th>review_total_negative_word_counts</th>\n",
       "      <th>total_number_of_reviews</th>\n",
       "      <th>positive_review</th>\n",
       "      <th>review_total_positive_word_counts</th>\n",
       "      <th>total_number_of_reviews_reviewer_has_given</th>\n",
       "      <th>reviewer_score</th>\n",
       "      <th>tags</th>\n",
       "      <th>days_since_review</th>\n",
       "      <th>lat</th>\n",
       "      <th>lng</th>\n",
       "    </tr>\n",
       "  </thead>\n",
       "  <tbody>\n",
       "    <tr>\n",
       "      <th>0</th>\n",
       "      <td>Stratton Street Mayfair Westminster Borough Lo...</td>\n",
       "      <td>581</td>\n",
       "      <td>2/19/2016</td>\n",
       "      <td>8.4</td>\n",
       "      <td>The May Fair Hotel</td>\n",
       "      <td>United Kingdom</td>\n",
       "      <td>Leaving</td>\n",
       "      <td>3</td>\n",
       "      <td>1994</td>\n",
       "      <td>Staff were amazing</td>\n",
       "      <td>4</td>\n",
       "      <td>7</td>\n",
       "      <td>10.0</td>\n",
       "      <td>[' Leisure trip ', ' Couple ', ' Studio Suite ...</td>\n",
       "      <td>531 day</td>\n",
       "      <td>51.507894</td>\n",
       "      <td>-0.143671</td>\n",
       "    </tr>\n",
       "    <tr>\n",
       "      <th>1</th>\n",
       "      <td>130 134 Southampton Row Camden London WC1B 5AF...</td>\n",
       "      <td>299</td>\n",
       "      <td>1/12/2017</td>\n",
       "      <td>8.3</td>\n",
       "      <td>Mercure London Bloomsbury Hotel</td>\n",
       "      <td>United Kingdom</td>\n",
       "      <td>poor breakfast</td>\n",
       "      <td>3</td>\n",
       "      <td>1361</td>\n",
       "      <td>location</td>\n",
       "      <td>2</td>\n",
       "      <td>14</td>\n",
       "      <td>6.3</td>\n",
       "      <td>[' Business trip ', ' Couple ', ' Standard Dou...</td>\n",
       "      <td>203 day</td>\n",
       "      <td>51.521009</td>\n",
       "      <td>-0.123097</td>\n",
       "    </tr>\n",
       "    <tr>\n",
       "      <th>2</th>\n",
       "      <td>151 bis Rue de Rennes 6th arr 75006 Paris France</td>\n",
       "      <td>32</td>\n",
       "      <td>10/18/2016</td>\n",
       "      <td>8.9</td>\n",
       "      <td>Legend Saint Germain by Elegancia</td>\n",
       "      <td>China</td>\n",
       "      <td>No kettle in room</td>\n",
       "      <td>6</td>\n",
       "      <td>406</td>\n",
       "      <td>No Positive</td>\n",
       "      <td>0</td>\n",
       "      <td>14</td>\n",
       "      <td>7.5</td>\n",
       "      <td>[' Leisure trip ', ' Solo traveler ', ' Modern...</td>\n",
       "      <td>289 day</td>\n",
       "      <td>48.845377</td>\n",
       "      <td>2.325643</td>\n",
       "    </tr>\n",
       "  </tbody>\n",
       "</table>\n",
       "</div>"
      ],
      "text/plain": [
       "                                       hotel_address  \\\n",
       "0  Stratton Street Mayfair Westminster Borough Lo...   \n",
       "1  130 134 Southampton Row Camden London WC1B 5AF...   \n",
       "2   151 bis Rue de Rennes 6th arr 75006 Paris France   \n",
       "\n",
       "   additional_number_of_scoring review_date  average_score  \\\n",
       "0                           581   2/19/2016            8.4   \n",
       "1                           299   1/12/2017            8.3   \n",
       "2                            32  10/18/2016            8.9   \n",
       "\n",
       "                          hotel_name reviewer_nationality  \\\n",
       "0                 The May Fair Hotel      United Kingdom    \n",
       "1    Mercure London Bloomsbury Hotel      United Kingdom    \n",
       "2  Legend Saint Germain by Elegancia               China    \n",
       "\n",
       "       negative_review  review_total_negative_word_counts  \\\n",
       "0             Leaving                                   3   \n",
       "1       poor breakfast                                  3   \n",
       "2   No kettle in room                                   6   \n",
       "\n",
       "   total_number_of_reviews      positive_review  \\\n",
       "0                     1994   Staff were amazing   \n",
       "1                     1361             location   \n",
       "2                      406          No Positive   \n",
       "\n",
       "   review_total_positive_word_counts  \\\n",
       "0                                  4   \n",
       "1                                  2   \n",
       "2                                  0   \n",
       "\n",
       "   total_number_of_reviews_reviewer_has_given  reviewer_score  \\\n",
       "0                                           7            10.0   \n",
       "1                                          14             6.3   \n",
       "2                                          14             7.5   \n",
       "\n",
       "                                                tags days_since_review  \\\n",
       "0  [' Leisure trip ', ' Couple ', ' Studio Suite ...           531 day   \n",
       "1  [' Business trip ', ' Couple ', ' Standard Dou...           203 day   \n",
       "2  [' Leisure trip ', ' Solo traveler ', ' Modern...           289 day   \n",
       "\n",
       "         lat       lng  \n",
       "0  51.507894 -0.143671  \n",
       "1  51.521009 -0.123097  \n",
       "2  48.845377  2.325643  "
      ]
     },
     "execution_count": 2,
     "metadata": {},
     "output_type": "execute_result"
    }
   ],
   "source": [
    "hotels = pd.read_csv('hotels.csv')\n",
    "hotels.head(3)"
   ]
  },
  {
   "cell_type": "code",
   "execution_count": 53,
   "metadata": {},
   "outputs": [
    {
     "data": {
      "text/plain": [
       " No complaints at all             39\n",
       " Price of breakfast               39\n",
       " Breakfast could be better        39\n",
       " Nothing everything was great     38\n",
       " Everything was fine              38\n",
       " Room a bit small                 38\n",
       " no                               37\n",
       " all good                         37\n",
       " Cost                             37\n",
       " no complaints                    37\n",
       " Nothing all good                 37\n",
       " Nothing it was perfect           37\n",
       " Everything                       36\n",
       " Very expensive                   36\n",
       " No negatives                     36\n",
       " No problems                      36\n",
       " Not a thing                      36\n",
       " No pool                          35\n",
       " Nothing comes to mind            35\n",
       " Nothing to mention               35\n",
       "Name: negative_review, dtype: int64"
      ]
     },
     "execution_count": 53,
     "metadata": {},
     "output_type": "execute_result"
    }
   ],
   "source": [
    "hotels['negative_review'].value_counts().head(120).tail(20)"
   ]
  },
  {
   "cell_type": "code",
   "execution_count": 54,
   "metadata": {},
   "outputs": [],
   "source": [
    "keyphrase_list = ['no negative',\n",
    "                  'nothing',\n",
    "                  'n a',\n",
    "                  'na',\n",
    "                  'none',\n",
    "                  'non',\n",
    "                  'all good',\n",
    "                  'nothing really',\n",
    "                  'no complaints',\n",
    "                  'nil',\n",
    "                  'nothing to dislike',\n",
    "                  'nothing at all',\n",
    "                  'everything was great',\n",
    "                  'no',\n",
    "                  'no nothing',\n",
    "                  'everything was perfect',\n",
    "                  'absolutely nothing',\n",
    "                  'can t think of anything',\n",
    "                  'nothing to complain about',\n",
    "                  'leaving',\n",
    "                  'nothing not to like',\n",
    "                  'liked everything',\n",
    "                  'having to leave',\n",
    "                  'not much',\n",
    "                  'everything was good',\n",
    "                  'all was good',\n",
    "                  'i liked everything',\n",
    "                  'not applicable'\n",
    "                  ]\n",
    "#\n",
    "def generate_no_negative_code(element):\n",
    "    for i in keyphrase_list:\n",
    "        if i == str.lower(str.strip(element)):\n",
    "            return 1\n",
    "    return 0\n",
    "hotels['No_negative'] = hotels['negative_review'].apply(generate_no_negative_code)"
   ]
  },
  {
   "cell_type": "code",
   "execution_count": null,
   "metadata": {},
   "outputs": [],
   "source": [
    "keyphrase_list = ['no positive',\n",
    "                  'nothing',\n",
    "                  'n a',\n",
    "                  'na',\n",
    "                  'none',\n",
    "                  'non',\n",
    "                  'all good',\n",
    "                  'nothing really',\n",
    "                  'no complaints',\n",
    "                  'nil',\n",
    "                  'nothing to dislike',\n",
    "                  'nothing at all',\n",
    "                  'everything was great',\n",
    "                  'no',\n",
    "                  'no nothing',\n",
    "                  'everything was perfect',\n",
    "                  'absolutely nothing',\n",
    "                  'can t think of anything',\n",
    "                  'nothing to complain about',\n",
    "                  'leaving',\n",
    "                  'nothing not to like',\n",
    "                  'liked everything',\n",
    "                  'having to leave',\n",
    "                  'not much',\n",
    "                  'everything was good',\n",
    "                  'all was good',\n",
    "                  'i liked everything',\n",
    "                  'not applicable'\n",
    "                  ]\n",
    "#\n",
    "def generate_no_negative_code(element):\n",
    "    for i in keyphrase_list:\n",
    "        if i == str.lower(str.strip(element)):\n",
    "            return 1\n",
    "    return 0\n",
    "hotels['No_negative'] = hotels['negative_review'].apply(generate_no_negative_code)"
   ]
  },
  {
   "cell_type": "code",
   "execution_count": 55,
   "metadata": {},
   "outputs": [
    {
     "data": {
      "text/plain": [
       "0    267908\n",
       "1    118895\n",
       "Name: No_negative, dtype: int64"
      ]
     },
     "execution_count": 55,
     "metadata": {},
     "output_type": "execute_result"
    }
   ],
   "source": [
    "hotels['No_negative'].value_counts()"
   ]
  },
  {
   "cell_type": "code",
   "execution_count": 56,
   "metadata": {},
   "outputs": [],
   "source": [
    "keyphrase_list = ['everything',\n",
    "                  'price',\n",
    "                  'staff',\n",
    "                  'small room',\n",
    "                  'small rooms',\n",
    "                  'breakfast',\n",
    "                  'location',\n",
    "                  'expensive',\n",
    "                  'room size',\n",
    "                  'expensive breakfast',\n",
    "                  'pillows',\n",
    "                  'parking',\n",
    "                  'no parking',\n",
    "                  'the price',\n",
    "                  'size of room',\n",
    "                  'bathroom',\n",
    "                  'wifi',\n",
    "                  'room too small',\n",
    "                  'room very small',\n",
    "                  'room was very small',\n",
    "                  'very small rooms',\n",
    "                  'size of the room'\n",
    "                  ]\n",
    "#\n",
    "def generate_negative_code(element):\n",
    "    for i in keyphrase_list:\n",
    "        if i == str.lower(str.strip(element)):\n",
    "            return 1\n",
    "    return 0\n",
    "hotels['negative'] = hotels['negative_review'].apply(generate_negative_code)"
   ]
  },
  {
   "cell_type": "code",
   "execution_count": null,
   "metadata": {},
   "outputs": [],
   "source": [
    "hotels['negative'].value_counts()"
   ]
  },
  {
   "cell_type": "code",
   "execution_count": 67,
   "metadata": {},
   "outputs": [
    {
     "data": {
      "text/plain": [
       " Comfortable bed               103\n",
       " Cleanliness                   101\n",
       " Location location location    100\n",
       " Breakfast was good             99\n",
       " Everything was perfect         99\n",
       " Great breakfast                94\n",
       " Central location               94\n",
       " Location was excellent         94\n",
       " Position                       89\n",
       " breakfast                      87\n",
       " Helpful staff                  85\n",
       " The bed                        84\n",
       " Staff and location             84\n",
       " Excellent breakfast            83\n",
       " Location and breakfast         82\n",
       " Very good location             82\n",
       " Location was great             80\n",
       " Location Staff                 79\n",
       " Not much                       78\n",
       " Location only                  78\n",
       "Name: positive_review, dtype: int64"
      ]
     },
     "execution_count": 67,
     "metadata": {},
     "output_type": "execute_result"
    }
   ],
   "source": [
    "hotels['positive_review'].value_counts().head(60).tail(20)"
   ]
  },
  {
   "cell_type": "code",
   "execution_count": 68,
   "metadata": {},
   "outputs": [],
   "source": [
    "keyphrase_list = ['everything',\n",
    "                  'every thing',\n",
    "                  'all'\n",
    "                  ]\n",
    "#\n",
    "keyword_list = [  'price',\n",
    "                  'staff',\n",
    "                  'breakfast',\n",
    "                  'location',\n",
    "                  'parking',\n",
    "                  'cleanliness',\n",
    "                  'position',\n",
    "                  'the bed'\n",
    "                  ]\n",
    "def generate_negative_code(element):\n",
    "    for i in keyphrase_list:\n",
    "        if i == str.lower(str.strip(element)):\n",
    "            return 1\n",
    "    for i in keyword_list:\n",
    "        if i in str.lower(str.strip(element)):\n",
    "            return 1\n",
    "    return 0\n",
    "hotels['Positive'] = hotels['positive_review'].apply(generate_negative_code)"
   ]
  },
  {
   "cell_type": "code",
   "execution_count": 69,
   "metadata": {},
   "outputs": [
    {
     "data": {
      "text/plain": [
       "1    261844\n",
       "0    124959\n",
       "Name: Positive, dtype: int64"
      ]
     },
     "execution_count": 69,
     "metadata": {},
     "output_type": "execute_result"
    }
   ],
   "source": [
    "hotels['Positive'].value_counts()"
   ]
  },
  {
   "cell_type": "code",
   "execution_count": 70,
   "metadata": {},
   "outputs": [],
   "source": [
    "keyphrase_list = ['no positive',\n",
    "                  'nothing',\n",
    "                  'not much'\n",
    "                  ]\n",
    "#\n",
    "def generate_code(element):\n",
    "    for i in keyphrase_list:\n",
    "        if i == str.lower(str.strip(element)):\n",
    "            return 1\n",
    "    return 0\n",
    "hotels['No_positive'] = hotels['positive_review'].apply(generate_code)"
   ]
  },
  {
   "cell_type": "code",
   "execution_count": 71,
   "metadata": {},
   "outputs": [
    {
     "data": {
      "text/plain": [
       "0    358510\n",
       "1     28293\n",
       "Name: No_positive, dtype: int64"
      ]
     },
     "execution_count": 71,
     "metadata": {},
     "output_type": "execute_result"
    }
   ],
   "source": [
    "hotels['No_positive'].value_counts()"
   ]
  },
  {
   "cell_type": "code",
   "execution_count": 18,
   "metadata": {},
   "outputs": [],
   "source": [
    "hotels['Negative_2'] = hotels['negative_review'].apply(lambda s: 0 if str.lower(str.strip(s)) == 'nothing' else 1)"
   ]
  },
  {
   "cell_type": "code",
   "execution_count": 19,
   "metadata": {},
   "outputs": [
    {
     "data": {
      "text/plain": [
       "1    370921\n",
       "0     15882\n",
       "Name: Negative_2, dtype: int64"
      ]
     },
     "execution_count": 19,
     "metadata": {},
     "output_type": "execute_result"
    }
   ],
   "source": [
    "hotels['Negative_2'].value_counts()"
   ]
  },
  {
   "cell_type": "code",
   "execution_count": 5,
   "metadata": {},
   "outputs": [],
   "source": [
    "# Разбиваем датафрейм на части, необходимые для обучения и тестирования модели  \n",
    "# Х - данные с информацией об отелях, у - целевая переменная (рейтинги отелей)  \n",
    "X = hotels.drop(['reviewer_score'], axis = 1)  \n",
    "y = hotels['reviewer_score'] "
   ]
  },
  {
   "cell_type": "code",
   "execution_count": 6,
   "metadata": {},
   "outputs": [
    {
     "name": "stderr",
     "output_type": "stream",
     "text": [
      "/home/anna/snap/jupyter/common/lib/python3.7/site-packages/joblib/_multiprocessing_helpers.py:45: UserWarning: [Errno 13] Permission denied.  joblib will operate in serial mode\n",
      "  warnings.warn('%s.  joblib will operate in serial mode' % (e,))\n"
     ]
    }
   ],
   "source": [
    "# Загружаем специальный инструмент для разбивки:  \n",
    "from sklearn.model_selection import train_test_split  "
   ]
  },
  {
   "cell_type": "code",
   "execution_count": 7,
   "metadata": {},
   "outputs": [],
   "source": [
    "# Наборы данных с меткой \"train\" будут использоваться для обучения модели, \"test\" - для тестирования.  \n",
    "# Для тестирования мы будем использовать 25% от исходного датасета.  \n",
    "X_train, X_test, y_train, y_test = train_test_split(X, y, test_size=0.25, random_state=42)"
   ]
  },
  {
   "cell_type": "code",
   "execution_count": 8,
   "metadata": {},
   "outputs": [],
   "source": [
    "# Импортируем необходимые библиотеки:  \n",
    "from sklearn.ensemble import RandomForestRegressor # инструмент для создания и обучения модели  \n",
    "from sklearn import metrics # инструменты для оценки точности модели  \n",
    "  \n",
    "# Создаём модель  \n",
    "regr = RandomForestRegressor(n_estimators=100)  \n",
    "      \n",
    "# Обучаем модель на тестовом наборе данных  \n",
    "regr.fit(X_train, y_train)  \n",
    "      \n",
    "# Используем обученную модель для предсказания рейтинга отелей в тестовой выборке.  \n",
    "# Предсказанные значения записываем в переменную y_pred  \n",
    "y_pred = regr.predict(X_test)  \n"
   ]
  },
  {
   "cell_type": "code",
   "execution_count": 9,
   "metadata": {},
   "outputs": [
    {
     "name": "stdout",
     "output_type": "stream",
     "text": [
      "MAPE: 0.14138286324223787\n"
     ]
    }
   ],
   "source": [
    "# Сравниваем предсказанные значения (y_pred) с реальными (y_test), и смотрим насколько они отличаются  \n",
    "# Метрика называется Mean Absolute Percentage Error (MAPE) и показывает среднюю абсолютную процентную ошибку предсказанных значений от фактических.  \n",
    "print('MAPE:', metrics.mean_absolute_percentage_error(y_test, y_pred))"
   ]
  },
  {
   "cell_type": "markdown",
   "metadata": {},
   "source": [
    "Небольшой бонус:\n"
   ]
  },
  {
   "cell_type": "code",
   "execution_count": 10,
   "metadata": {},
   "outputs": [],
   "source": [
    "# # убираем признаки которые еще не успели обработать, \n",
    "# # модель на признаках с dtypes \"object\" обучаться не будет, просто выберим их и удалим\n",
    "# object_columns = [s for s in hotels.columns if hotels[s].dtypes == 'object']\n",
    "# hotels.drop(object_columns, axis = 1, inplace=True)\n",
    "\n",
    "# # заполняем пропуски самым простым способом\n",
    "# hotels = hotels.fillna(0)"
   ]
  },
  {
   "cell_type": "markdown",
   "metadata": {},
   "source": [
    "srgfrwegrgrg"
   ]
  },
  {
   "cell_type": "code",
   "execution_count": null,
   "metadata": {},
   "outputs": [],
   "source": [
    "# у нас 6 уникальных городов. Определим для них координаты\n",
    "town_list = list(hotels['town'].value_counts().index)\n",
    "#\n",
    "for town_name in town_list:\n",
    "    print(hotels[hotels['town'] == town_name].shape[0])\n",
    "    \n",
    "    latitude = hotels[hotels['town'] == town_name]['lat'].iloc[1]\n",
    "    longitude = hotels[hotels['town'] == town_name]['lng'].iloc[1]\n",
    "    print(latitude)\n",
    "    print(longitude)\n",
    "    hotels[hotels['town'] == town_name] = hotels[hotels['town'] == town_name].fillna({'lat': latitude, 'lng': longitude}, inplace=True)"
   ]
  },
  {
   "cell_type": "code",
   "execution_count": null,
   "metadata": {},
   "outputs": [],
   "source": [
    "# у нас 6 уникальных городов. Определим для них координаты\n",
    "town_list = list(hotels['town'].value_counts().index)\n",
    "#\n",
    "for town_name in town_list:\n",
    "    latitude = 5\n",
    "    longitude = 1\n",
    "    hotels = hotels[hotels['town'] == town_name].fillna({'lat': latitude, 'lng': longitude})"
   ]
  },
  {
   "cell_type": "code",
   "execution_count": null,
   "metadata": {},
   "outputs": [],
   "source": [
    "town_list = list(hotels['town'].value_counts().index)\n",
    "town_list"
   ]
  },
  {
   "cell_type": "code",
   "execution_count": null,
   "metadata": {},
   "outputs": [],
   "source": [
    "hotels['town'] = hotels['hotel_address'].apply(lambda s: s.split()[-2]) # выделяем признак \"город\" в отдельный столбец (предпоследнее слово в строке адреса отеля)"
   ]
  }
 ],
 "metadata": {
  "kernelspec": {
   "display_name": "Python 3.10.4 64-bit",
   "language": "python",
   "name": "python3"
  },
  "language_info": {
   "codemirror_mode": {
    "name": "ipython",
    "version": 3
   },
   "file_extension": ".py",
   "mimetype": "text/x-python",
   "name": "python",
   "nbconvert_exporter": "python",
   "pygments_lexer": "ipython3",
   "version": "3.10.4 (tags/v3.10.4:9d38120, Mar 23 2022, 23:13:41) [MSC v.1929 64 bit (AMD64)]"
  },
  "vscode": {
   "interpreter": {
    "hash": "301a17a29b57d3836b7901af1621afd6d2b1f2298b9c7949191147cf2fea93e3"
   }
  }
 },
 "nbformat": 4,
 "nbformat_minor": 2
}
