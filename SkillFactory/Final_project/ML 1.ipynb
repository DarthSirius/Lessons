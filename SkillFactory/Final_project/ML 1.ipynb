{
 "cells": [
  {
   "cell_type": "markdown",
   "metadata": {},
   "source": [
    "# 2. Подготовка модели для прогнозирования стоимости недвижимости"
   ]
  },
  {
   "cell_type": "code",
   "execution_count": 30,
   "metadata": {},
   "outputs": [],
   "source": [
    "# загрузка библиотек\n",
    "import pandas as pd\n",
    "import numpy as np\n",
    "import matplotlib.pyplot as plt\n",
    "import seaborn as sns\n",
    "import pickle\n",
    "import warnings\n",
    "warnings.filterwarnings('ignore')\n",
    "\n",
    "from sklearn import linear_model \n",
    "from sklearn import tree \n",
    "from sklearn import ensemble \n",
    "from sklearn import metrics \n",
    "from sklearn import preprocessing \n",
    "from sklearn.model_selection import train_test_split \n",
    "from sklearn.feature_selection import SelectKBest, f_regression\n",
    "\n",
    "from sklearn.tree import DecisionTreeRegressor"
   ]
  },
  {
   "cell_type": "code",
   "execution_count": 31,
   "metadata": {},
   "outputs": [
    {
     "name": "stdout",
     "output_type": "stream",
     "text": [
      "Data shape: (293359, 126)\n"
     ]
    },
    {
     "data": {
      "text/html": [
       "<div>\n",
       "<style scoped>\n",
       "    .dataframe tbody tr th:only-of-type {\n",
       "        vertical-align: middle;\n",
       "    }\n",
       "\n",
       "    .dataframe tbody tr th {\n",
       "        vertical-align: top;\n",
       "    }\n",
       "\n",
       "    .dataframe thead th {\n",
       "        text-align: right;\n",
       "    }\n",
       "</style>\n",
       "<table border=\"1\" class=\"dataframe\">\n",
       "  <thead>\n",
       "    <tr style=\"text-align: right;\">\n",
       "      <th></th>\n",
       "      <th>baths</th>\n",
       "      <th>fireplace</th>\n",
       "      <th>sqft</th>\n",
       "      <th>zipcode</th>\n",
       "      <th>beds</th>\n",
       "      <th>target</th>\n",
       "      <th>Year built</th>\n",
       "      <th>Remodeled year</th>\n",
       "      <th>year_built_log</th>\n",
       "      <th>remodeled_year_log</th>\n",
       "      <th>...</th>\n",
       "      <th>fp_4</th>\n",
       "      <th>fp_5</th>\n",
       "      <th>fp_6</th>\n",
       "      <th>fp_7</th>\n",
       "      <th>fp_8</th>\n",
       "      <th>school_count</th>\n",
       "      <th>school_distance_min</th>\n",
       "      <th>school_distance_avg</th>\n",
       "      <th>school_rating_avg</th>\n",
       "      <th>school_rating_prx</th>\n",
       "    </tr>\n",
       "  </thead>\n",
       "  <tbody>\n",
       "    <tr>\n",
       "      <th>0</th>\n",
       "      <td>3</td>\n",
       "      <td>1</td>\n",
       "      <td>2900.0</td>\n",
       "      <td>28387</td>\n",
       "      <td>4</td>\n",
       "      <td>418000.0</td>\n",
       "      <td>6</td>\n",
       "      <td>0</td>\n",
       "      <td>1.945910</td>\n",
       "      <td>0.000000</td>\n",
       "      <td>...</td>\n",
       "      <td>0</td>\n",
       "      <td>0</td>\n",
       "      <td>0</td>\n",
       "      <td>1</td>\n",
       "      <td>0</td>\n",
       "      <td>8</td>\n",
       "      <td>2.70</td>\n",
       "      <td>5.5</td>\n",
       "      <td>3.2</td>\n",
       "      <td>4.0</td>\n",
       "    </tr>\n",
       "    <tr>\n",
       "      <th>1</th>\n",
       "      <td>3</td>\n",
       "      <td>0</td>\n",
       "      <td>1947.0</td>\n",
       "      <td>99216</td>\n",
       "      <td>3</td>\n",
       "      <td>310000.0</td>\n",
       "      <td>6</td>\n",
       "      <td>0</td>\n",
       "      <td>1.945910</td>\n",
       "      <td>0.000000</td>\n",
       "      <td>...</td>\n",
       "      <td>0</td>\n",
       "      <td>0</td>\n",
       "      <td>0</td>\n",
       "      <td>0</td>\n",
       "      <td>0</td>\n",
       "      <td>3</td>\n",
       "      <td>1.01</td>\n",
       "      <td>1.3</td>\n",
       "      <td>2.7</td>\n",
       "      <td>4.0</td>\n",
       "    </tr>\n",
       "    <tr>\n",
       "      <th>2</th>\n",
       "      <td>2</td>\n",
       "      <td>1</td>\n",
       "      <td>3000.0</td>\n",
       "      <td>90049</td>\n",
       "      <td>3</td>\n",
       "      <td>2895000.0</td>\n",
       "      <td>64</td>\n",
       "      <td>58</td>\n",
       "      <td>4.174387</td>\n",
       "      <td>4.077537</td>\n",
       "      <td>...</td>\n",
       "      <td>0</td>\n",
       "      <td>0</td>\n",
       "      <td>0</td>\n",
       "      <td>0</td>\n",
       "      <td>0</td>\n",
       "      <td>3</td>\n",
       "      <td>1.19</td>\n",
       "      <td>2.0</td>\n",
       "      <td>6.7</td>\n",
       "      <td>8.0</td>\n",
       "    </tr>\n",
       "    <tr>\n",
       "      <th>3</th>\n",
       "      <td>8</td>\n",
       "      <td>1</td>\n",
       "      <td>6457.0</td>\n",
       "      <td>75205</td>\n",
       "      <td>5</td>\n",
       "      <td>2395000.0</td>\n",
       "      <td>19</td>\n",
       "      <td>19</td>\n",
       "      <td>2.995732</td>\n",
       "      <td>2.995732</td>\n",
       "      <td>...</td>\n",
       "      <td>0</td>\n",
       "      <td>0</td>\n",
       "      <td>0</td>\n",
       "      <td>0</td>\n",
       "      <td>0</td>\n",
       "      <td>4</td>\n",
       "      <td>0.10</td>\n",
       "      <td>0.8</td>\n",
       "      <td>6.8</td>\n",
       "      <td>9.0</td>\n",
       "    </tr>\n",
       "    <tr>\n",
       "      <th>4</th>\n",
       "      <td>0</td>\n",
       "      <td>0</td>\n",
       "      <td>897.0</td>\n",
       "      <td>19145</td>\n",
       "      <td>2</td>\n",
       "      <td>209000.0</td>\n",
       "      <td>105</td>\n",
       "      <td>0</td>\n",
       "      <td>4.663439</td>\n",
       "      <td>0.000000</td>\n",
       "      <td>...</td>\n",
       "      <td>0</td>\n",
       "      <td>0</td>\n",
       "      <td>0</td>\n",
       "      <td>0</td>\n",
       "      <td>0</td>\n",
       "      <td>0</td>\n",
       "      <td>1.10</td>\n",
       "      <td>2.8</td>\n",
       "      <td>4.2</td>\n",
       "      <td>5.2</td>\n",
       "    </tr>\n",
       "  </tbody>\n",
       "</table>\n",
       "<p>5 rows × 126 columns</p>\n",
       "</div>"
      ],
      "text/plain": [
       "   baths  fireplace    sqft  zipcode  beds     target  Year built   \n",
       "0      3          1  2900.0    28387     4   418000.0           6  \\\n",
       "1      3          0  1947.0    99216     3   310000.0           6   \n",
       "2      2          1  3000.0    90049     3  2895000.0          64   \n",
       "3      8          1  6457.0    75205     5  2395000.0          19   \n",
       "4      0          0   897.0    19145     2   209000.0         105   \n",
       "\n",
       "   Remodeled year  year_built_log  remodeled_year_log  ...  fp_4  fp_5  fp_6   \n",
       "0               0        1.945910            0.000000  ...     0     0     0  \\\n",
       "1               0        1.945910            0.000000  ...     0     0     0   \n",
       "2              58        4.174387            4.077537  ...     0     0     0   \n",
       "3              19        2.995732            2.995732  ...     0     0     0   \n",
       "4               0        4.663439            0.000000  ...     0     0     0   \n",
       "\n",
       "   fp_7  fp_8  school_count  school_distance_min  school_distance_avg   \n",
       "0     1     0             8                 2.70                  5.5  \\\n",
       "1     0     0             3                 1.01                  1.3   \n",
       "2     0     0             3                 1.19                  2.0   \n",
       "3     0     0             4                 0.10                  0.8   \n",
       "4     0     0             0                 1.10                  2.8   \n",
       "\n",
       "   school_rating_avg  school_rating_prx  \n",
       "0                3.2                4.0  \n",
       "1                2.7                4.0  \n",
       "2                6.7                8.0  \n",
       "3                6.8                9.0  \n",
       "4                4.2                5.2  \n",
       "\n",
       "[5 rows x 126 columns]"
      ]
     },
     "execution_count": 31,
     "metadata": {},
     "output_type": "execute_result"
    }
   ],
   "source": [
    "# загрузка подготовленных данных в датафрейм\n",
    "data = pd.read_csv(\"./data/data_prepared.csv\")\n",
    "print('Data shape: {}'.format(data.shape))\n",
    "data.head(5)"
   ]
  },
  {
   "cell_type": "markdown",
   "metadata": {},
   "source": [
    "Временные операции"
   ]
  },
  {
   "cell_type": "code",
   "execution_count": 32,
   "metadata": {},
   "outputs": [],
   "source": [
    "# удаляем исходное поле\n",
    "data = data.drop(labels=['target_log'], axis=1)"
   ]
  },
  {
   "cell_type": "markdown",
   "metadata": {},
   "source": [
    "### Разбиваем выборку на наборы train, valid, test"
   ]
  },
  {
   "cell_type": "code",
   "execution_count": 33,
   "metadata": {},
   "outputs": [
    {
     "name": "stdout",
     "output_type": "stream",
     "text": [
      "размер тренировочной выборки 205351\n",
      "размер валидационной выборки 44004\n",
      "размер тестовой выборки 44004\n",
      "среднее значение целевой переменной на тренировочной выборке 550546.46\n"
     ]
    }
   ],
   "source": [
    "X = data.drop(['target'], axis=1)\n",
    "y = data['target']\n",
    " \n",
    "X_train, X_valid, y_train, y_valid = train_test_split(X, y, random_state = 42, test_size = 0.3)\n",
    "# делим валидационный набор пополам для валидации и оценки\n",
    "X_valid, X_test, y_valid, y_test = train_test_split(X_valid, y_valid, random_state = 42, test_size = 0.5)\n",
    "# \n",
    "print('размер тренировочной выборки', X_train.shape[0])\n",
    "print('размер валидационной выборки', X_valid.shape[0])\n",
    "print('размер тестовой выборки', X_test.shape[0])\n",
    "print('среднее значение целевой переменной на тренировочной выборке', round(y_train.mean(),2))"
   ]
  },
  {
   "cell_type": "code",
   "execution_count": 34,
   "metadata": {},
   "outputs": [
    {
     "name": "stdout",
     "output_type": "stream",
     "text": [
      "401668\n"
     ]
    }
   ],
   "source": [
    "# оцениваем наивный прогноз по среднему значению\n",
    "def mae_error(y, y_pred):\n",
    "    mae = np.sum(abs(y_pred - y)) / len(y)\n",
    "    return round(mae)\n",
    "\n",
    "#Рассчитываем MAE\n",
    "print(mae_error(y_test, np.mean(y_train))) # вычисляем ошибку"
   ]
  },
  {
   "cell_type": "markdown",
   "metadata": {},
   "source": [
    "Обучаем простую линейную регрессию"
   ]
  },
  {
   "cell_type": "code",
   "execution_count": 35,
   "metadata": {},
   "outputs": [
    {
     "name": "stdout",
     "output_type": "stream",
     "text": [
      "MAE score: 297226.672 $\n",
      "MAPE score: 88.369 %\n",
      "Train R^2: 0.446\n",
      "Test R^2: 0.439\n"
     ]
    }
   ],
   "source": [
    "#Создаём объект класса LinearRegression\n",
    "lr_lstat = linear_model.LinearRegression()\n",
    "#Обучаем модель — ищем параметры по МНК\n",
    "lr_lstat.fit(X_train, y_train)\n",
    "#Предсказываем цену тестовой выборки\n",
    "y_predict_train = lr_lstat.predict(X_train)\n",
    "#Предсказываем цену тестовой выборки\n",
    "y_predict = lr_lstat.predict(X_test)\n",
    "#Рассчитываем MAE\n",
    "print('MAE score: {:.3f} $'.format(metrics.mean_absolute_error(y_test, y_predict)))\n",
    "#Рассчитываем MAPE\n",
    "print('MAPE score: {:.3f} %'.format(metrics.mean_absolute_percentage_error(y_test, y_predict) * 100))\n",
    "#Рассчитываем коэффициент детерминации для двух выборок\n",
    "print(\"Train R^2: {:.3f}\".format(metrics.r2_score(y_train, y_predict_train)))\n",
    "print(\"Test R^2: {:.3f}\".format(metrics.r2_score(y_test, y_predict)))"
   ]
  },
  {
   "cell_type": "markdown",
   "metadata": {},
   "source": [
    "Простая регрессия ненамного лучше наивного прогноза, необходимы более продвинутые методы построения модели"
   ]
  },
  {
   "cell_type": "markdown",
   "metadata": {},
   "source": [
    "# Отбираем лучшие признаки и строим матрицу корреляций"
   ]
  },
  {
   "cell_type": "code",
   "execution_count": 36,
   "metadata": {},
   "outputs": [
    {
     "data": {
      "text/plain": [
       "array(['baths', 'fireplace', 'sqft', 'beds', 'year_built_log',\n",
       "       'heating_2', 'heating_6', 'heating_11', 'parking_1', 'parking_4',\n",
       "       'parking_5', 'parking_6', 'parking_9', 'parking_11', 'pool',\n",
       "       'status_12', '1_story', '3_story', 'type_6', 'type_34', 'type_39',\n",
       "       'type_40', 'school_count', 'school_rating_avg',\n",
       "       'school_rating_prx'], dtype=object)"
      ]
     },
     "execution_count": 36,
     "metadata": {},
     "output_type": "execute_result"
    }
   ],
   "source": [
    "# с помощью SelectKBest отберите 50 наиболее подходящих признаков\n",
    "selector = SelectKBest(f_regression, k=50).fit(X_train, y_train)\n",
    "col_names = selector.get_feature_names_out()\n",
    "col_names"
   ]
  },
  {
   "cell_type": "code",
   "execution_count": 37,
   "metadata": {},
   "outputs": [
    {
     "data": {
      "image/png": "[encoded data removed]",
      "text/plain": [
       "<Figure size 720x720 with 1 Axes>"
      ]
     },
     "metadata": {
      "needs_background": "light"
     },
     "output_type": "display_data"
    }
   ],
   "source": [
    "corr_matrix = data[np.append(col_names, 'target')].corr() # корреляционная матрица признаков\n",
    "corr_matrix.drop(labels=['target'], inplace=True, axis=0)\n",
    "# строим столбчатую диаграмму для коэффициентов корреляции\n",
    "fig = plt.subplots(nrows=1, ncols=1, figsize=(10,10))\n",
    "bar1 = sns.barplot(\n",
    "             y = list(corr_matrix['target'].sort_values(ascending=False).keys()),\n",
    "             x = list(corr_matrix['target'].sort_values(ascending=False)),\n",
    "             orient='h'\n",
    "            )\n",
    "bar1.tick_params(axis='x', rotation=90);"
   ]
  },
  {
   "cell_type": "code",
   "execution_count": 38,
   "metadata": {},
   "outputs": [
    {
     "data": {
      "image/png": "[encoded data removed]",
      "text/plain": [
       "<Figure size 1800x1440 with 2 Axes>"
      ]
     },
     "metadata": {
      "needs_background": "light"
     },
     "output_type": "display_data"
    }
   ],
   "source": [
    "# строим тепловую карту для матрицы\n",
    "fig = plt.subplots(nrows=1, ncols=1, figsize=(25,20))\n",
    "heatmap = sns.heatmap(corr_matrix)"
   ]
  },
  {
   "cell_type": "code",
   "execution_count": 39,
   "metadata": {},
   "outputs": [],
   "source": [
    "# отбрасываем ненужные признаки\n",
    "X_train = X_train[col_names]\n",
    "X_test = X_test[col_names]"
   ]
  },
  {
   "cell_type": "code",
   "execution_count": 40,
   "metadata": {},
   "outputs": [
    {
     "data": {
      "text/plain": [
       "['baths',\n",
       " 'fireplace',\n",
       " 'sqft',\n",
       " 'beds',\n",
       " 'year_built_log',\n",
       " 'school_count',\n",
       " 'school_rating_avg',\n",
       " 'school_rating_prx']"
      ]
     },
     "execution_count": 40,
     "metadata": {},
     "output_type": "execute_result"
    }
   ],
   "source": [
    "# делим признаки на бинарные и небинарные\n",
    "a = X_train.describe().loc['max']\n",
    "binary_columns = list(a[a==1].keys())\n",
    "nonbinary_columns = list(a[a>1].keys())\n",
    "nonbinary_columns"
   ]
  },
  {
   "cell_type": "markdown",
   "metadata": {},
   "source": [
    "Нормализуем и стандартизируем небинарные признаки"
   ]
  },
  {
   "cell_type": "code",
   "execution_count": 41,
   "metadata": {},
   "outputs": [],
   "source": [
    "#Инициализируем стандартизатор MinMaxScaler\n",
    "scaler = preprocessing.MinMaxScaler()\n",
    "#Подгоняем параметры стандартизатора (вычисляем среднее и СКО)\n",
    "scaler.fit(X_train[nonbinary_columns])\n",
    "#Производим стандартизацию тренировочной выборки\n",
    "X_train_nb_mm = scaler.transform(X_train[nonbinary_columns])\n",
    "#Производим стандартизацию тестовой выборки\n",
    "X_test_nb_mm = scaler.transform(X_test[nonbinary_columns])\n",
    "#Производим стандартизацию тестовой выборки\n",
    "X_valid_nb_mm = scaler.transform(X_valid[nonbinary_columns])\n",
    "\n",
    "#Инициализируем стандартизатор StandardScaler\n",
    "scaler = preprocessing.StandardScaler()\n",
    "#Подгоняем параметры стандартизатора (вычисляем среднее и СКО)\n",
    "scaler.fit(X_train_nb_mm)\n",
    "#Производим стандартизацию тренировочной выборки\n",
    "X_train_nb_scaled = scaler.transform(X_train_nb_mm)\n",
    "#Производим стандартизацию тестовой выборки\n",
    "X_test_nb_scaled = scaler.transform(X_test_nb_mm)\n",
    "#Производим стандартизацию тестовой выборки\n",
    "X_valid_nb_scaled = scaler.transform(X_valid_nb_mm)\n",
    "\n",
    "# соединяем с бинарными признаками\n",
    "X_train_scaled = np.concatenate((np.array(X_train[binary_columns]), X_train_nb_scaled), axis=1)\n",
    "X_test_scaled = np.concatenate((np.array(X_test[binary_columns]), X_test_nb_scaled), axis=1)\n",
    "X_valid_scaled = np.concatenate((np.array(X_valid[binary_columns]), X_valid_nb_scaled), axis=1)\n",
    "#\n",
    "X_train_scaled = pd.DataFrame(X_train_scaled, columns=binary_columns+nonbinary_columns)\n",
    "X_test_scaled = pd.DataFrame(X_test_scaled, columns=binary_columns+nonbinary_columns)\n",
    "X_valid_scaled = pd.DataFrame(X_valid_scaled, columns=binary_columns+nonbinary_columns)"
   ]
  },
  {
   "cell_type": "markdown",
   "metadata": {},
   "source": [
    "Оценим изменение признаков"
   ]
  },
  {
   "cell_type": "code",
   "execution_count": 42,
   "metadata": {},
   "outputs": [
    {
     "data": {
      "text/plain": [
       "'\\n#Создаём генератор полиномиальных признаков\\npoly = preprocessing.PolynomialFeatures(degree=2, include_bias=False)\\npoly.fit(X_train_scaled)\\n#Генерируем полиномиальные признаки для тренировочной выборки\\nX_train_scaled_poly = poly.transform(X_train_scaled)\\n#Генерируем полиномиальные признаки для тестовой выборки\\nX_test_scaled_poly = poly.transform(X_test_scaled)\\n#Выводим результирующие размерности таблиц\\nprint(X_train_scaled_poly.shape)\\nprint(X_test_scaled_poly.shape)\\n'"
      ]
     },
     "execution_count": 42,
     "metadata": {},
     "output_type": "execute_result"
    }
   ],
   "source": [
    "\"\"\"\n",
    "#Создаём генератор полиномиальных признаков\n",
    "poly = preprocessing.PolynomialFeatures(degree=2, include_bias=False)\n",
    "poly.fit(X_train_scaled)\n",
    "#Генерируем полиномиальные признаки для тренировочной выборки\n",
    "X_train_scaled_poly = poly.transform(X_train_scaled)\n",
    "#Генерируем полиномиальные признаки для тестовой выборки\n",
    "X_test_scaled_poly = poly.transform(X_test_scaled)\n",
    "#Выводим результирующие размерности таблиц\n",
    "print(X_train_scaled_poly.shape)\n",
    "print(X_test_scaled_poly.shape)\n",
    "\"\"\""
   ]
  },
  {
   "cell_type": "code",
   "execution_count": 43,
   "metadata": {},
   "outputs": [
    {
     "data": {
      "text/plain": [
       "'\\n#Создаём объект класса линейной регрессии с L2-регуляризацией\\nridge_lr_poly = linear_model.Ridge(alpha=5)\\n#Обучаем модель\\nridge_lr_poly.fit(X_train_scaled_poly, y_train)\\n#Делаем предсказание для тренировочной выборки\\ny_train_predict_poly = ridge_lr_poly.predict(X_train_scaled_poly)\\n#Делаем предсказание для тестовой выборки\\ny_test_predict_poly = ridge_lr_poly.predict(X_test_scaled_poly)\\n#Рассчитываем MAE\\nprint(\\'MAE score: {:.0f} $\\'.format(metrics.mean_absolute_error(y_test, y_test_predict_poly)))\\n#Рассчитываем MAPE\\nprint(\\'MAPE score: {:.0f} %\\'.format(metrics.mean_absolute_percentage_error(y_test, y_test_predict_poly) * 100))\\n#Рассчитываем коэффициент детерминации для двух выборок\\nprint(\"Train R^2: {:.3f}\".format(metrics.r2_score(y_train, y_train_predict_poly)))\\nprint(\"Test R^2: {:.3f}\".format(metrics.r2_score(y_test, y_test_predict_poly)))\\n'"
      ]
     },
     "execution_count": 43,
     "metadata": {},
     "output_type": "execute_result"
    }
   ],
   "source": [
    "\"\"\"\n",
    "#Создаём объект класса линейной регрессии с L2-регуляризацией\n",
    "ridge_lr_poly = linear_model.Ridge(alpha=5)\n",
    "#Обучаем модель\n",
    "ridge_lr_poly.fit(X_train_scaled_poly, y_train)\n",
    "#Делаем предсказание для тренировочной выборки\n",
    "y_train_predict_poly = ridge_lr_poly.predict(X_train_scaled_poly)\n",
    "#Делаем предсказание для тестовой выборки\n",
    "y_test_predict_poly = ridge_lr_poly.predict(X_test_scaled_poly)\n",
    "#Рассчитываем MAE\n",
    "print('MAE score: {:.0f} $'.format(metrics.mean_absolute_error(y_test, y_test_predict_poly)))\n",
    "#Рассчитываем MAPE\n",
    "print('MAPE score: {:.0f} %'.format(metrics.mean_absolute_percentage_error(y_test, y_test_predict_poly) * 100))\n",
    "#Рассчитываем коэффициент детерминации для двух выборок\n",
    "print(\"Train R^2: {:.3f}\".format(metrics.r2_score(y_train, y_train_predict_poly)))\n",
    "print(\"Test R^2: {:.3f}\".format(metrics.r2_score(y_test, y_test_predict_poly)))\n",
    "\"\"\""
   ]
  },
  {
   "cell_type": "markdown",
   "metadata": {},
   "source": [
    "Отбор признаков, нормализация и применение полиномиальной регрессии дали слабый эффект и не привели к существенному улучшению метрики"
   ]
  },
  {
   "cell_type": "markdown",
   "metadata": {},
   "source": [
    "Попробуем использовать дерево решений. Подберем оптимальную глубину древа"
   ]
  },
  {
   "cell_type": "code",
   "execution_count": 19,
   "metadata": {},
   "outputs": [
    {
     "data": {
      "image/png": "[encoded data removed]",
      "text/plain": [
       "<Figure size 864x576 with 1 Axes>"
      ]
     },
     "metadata": {},
     "output_type": "display_data"
    }
   ],
   "source": [
    "\"\"\"\n",
    "max_depths = range(7,12)\n",
    "train_score = []\n",
    "test_score = []\n",
    "for n in max_depths:\n",
    "    dt = DecisionTreeRegressor(random_state = 42, max_depth=n)\n",
    "    dt.fit(X_train_scaled, y_train)\n",
    "    y_train_pred = dt.predict(X_train_scaled)\n",
    "    y_test_pred = dt.predict(X_test_scaled)\n",
    "    train_score.append(round(metrics.r2_score(y_train, y_train_pred),3))\n",
    "    test_score.append(round(metrics.r2_score(y_test, y_test_pred),3))\n",
    "\n",
    "fig,ax = plt.subplots(figsize=(12,8))\n",
    "sns.lineplot(x=max_depths, y=train_score, label='Train')\n",
    "sns.lineplot(x=max_depths, y=test_score, label='Test')\n",
    "ax.set_xlabel('Depth of DTreeRegressor')\n",
    "ax.set_ylabel('R2 score')\n",
    "ax.set_xticks(max_depths)\n",
    "ax.grid()\n",
    "\"\"\""
   ]
  },
  {
   "cell_type": "code",
   "execution_count": 20,
   "metadata": {},
   "outputs": [
    {
     "name": "stdout",
     "output_type": "stream",
     "text": [
      "MAE score: 243111 $\n",
      "MAPE score: 67 %\n",
      "Train R^2: 0.679\n",
      "Test R^2: 0.526\n"
     ]
    }
   ],
   "source": [
    "\"\"\"\n",
    "dt = DecisionTreeRegressor(random_state = 42, max_depth=12)\n",
    "dt.fit(X_train_scaled, y_train)\n",
    "\n",
    "#Предсказываем цену тестовой выборки\n",
    "y_predict_train = dt.predict(X_train_scaled)\n",
    "y_test_predict = dt.predict(X_test_scaled)\n",
    "#Рассчитываем MAE\n",
    "print('MAE score: {:.0f} $'.format(metrics.mean_absolute_error(y_test, y_test_predict)))\n",
    "#Рассчитываем MAPE\n",
    "print('MAPE score: {:.0f} %'.format(metrics.mean_absolute_percentage_error(y_test, y_test_predict) * 100))\n",
    "#Рассчитываем коэффициент детерминации для двух выборок\n",
    "print(\"Train R^2: {:.3f}\".format(metrics.r2_score(y_train, y_predict_train)))\n",
    "print(\"Test R^2: {:.3f}\".format(metrics.r2_score(y_test, y_test_predict)))\n",
    "\"\"\""
   ]
  },
  {
   "cell_type": "markdown",
   "metadata": {},
   "source": [
    "Улучшений метрик не наблюдается"
   ]
  },
  {
   "cell_type": "markdown",
   "metadata": {},
   "source": [
    "# Применяем ансамблевые методы"
   ]
  },
  {
   "cell_type": "code",
   "execution_count": 26,
   "metadata": {},
   "outputs": [],
   "source": [
    "from sklearn.ensemble import RandomForestRegressor\n",
    "from sklearn.ensemble import GradientBoostingRegressor\n",
    "from sklearn.metrics import roc_auc_score"
   ]
  },
  {
   "cell_type": "code",
   "execution_count": 103,
   "metadata": {},
   "outputs": [
    {
     "name": "stdout",
     "output_type": "stream",
     "text": [
      "MAE score: 228132 $\n",
      "MAPE score: 65 %\n",
      "Train R^2: 0.432\n",
      "Test R^2: 0.628\n"
     ]
    }
   ],
   "source": [
    "#Создаем объект класса случайный лес\n",
    "rf = RandomForestRegressor(\n",
    "    n_estimators = 100,\n",
    "    max_depth = 12,\n",
    "    criterion = 'squared_error',\n",
    "    min_samples_leaf = 2,\n",
    "    random_state = 42\n",
    "    )\n",
    "\n",
    "#Обучаем модель\n",
    "rf.fit(X_train_scaled, y_train)\n",
    "#Предсказываем результат и Выводим значения метрик\n",
    "y_train_predict = rf.predict(X_train_scaled)\n",
    "y_test_predict = rf.predict(X_test_scaled)\n",
    "#Рассчитываем MAE\n",
    "print('MAE score: {:.0f} $'.format(metrics.mean_absolute_error(y_test, y_test_predict)))\n",
    "#Рассчитываем MAPE\n",
    "print('MAPE score: {:.0f} %'.format(metrics.mean_absolute_percentage_error(y_test, y_test_predict) * 100))\n",
    "#Рассчитываем коэффициент детерминации для двух выборок\n",
    "print(\"Train R^2: {:.3f}\".format(metrics.r2_score(y_train, y_predict_train)))\n",
    "print(\"Test R^2: {:.3f}\".format(metrics.r2_score(y_test, y_test_predict)))"
   ]
  },
  {
   "cell_type": "code",
   "execution_count": 23,
   "metadata": {},
   "outputs": [],
   "source": [
    "from sklearn.ensemble import GradientBoostingRegressor"
   ]
  },
  {
   "cell_type": "code",
   "execution_count": 27,
   "metadata": {},
   "outputs": [
    {
     "name": "stdout",
     "output_type": "stream",
     "text": [
      "MAE score: 220641 $\n",
      "MAPE score: 58 %\n",
      "Train R^2: 0.446\n",
      "Test R^2: 0.628\n"
     ]
    }
   ],
   "source": [
    "# Градиентный бустинг\n",
    "gb = GradientBoostingRegressor(\n",
    "    learning_rate=0.1, #темп обучения\n",
    "    n_estimators=160, #число деревьев\n",
    "    max_depth=11, #максимальная глубина дерева\n",
    "    min_samples_leaf = 5,\n",
    "    random_state=42 #генератор случайных чисел\n",
    ")\n",
    "gb.fit(X_train_scaled, y_train)\n",
    "#Предсказываем результат и Выводим значения метрики \n",
    "y_train_predict = gb.predict(X_train_scaled)\n",
    "y_test_predict = gb.predict(X_test_scaled)\n",
    "#Рассчитываем MAE\n",
    "print('MAE score: {:.0f} $'.format(metrics.mean_absolute_error(y_test, y_test_predict)))\n",
    "#Рассчитываем MAPE\n",
    "print('MAPE score: {:.0f} %'.format(metrics.mean_absolute_percentage_error(y_test, y_test_predict) * 100))\n",
    "#Рассчитываем коэффициент детерминации для двух выборок\n",
    "print(\"Train R^2: {:.3f}\".format(metrics.r2_score(y_train, y_predict_train)))\n",
    "print(\"Test R^2: {:.3f}\".format(metrics.r2_score(y_test, y_test_predict)))"
   ]
  },
  {
   "cell_type": "code",
   "execution_count": 28,
   "metadata": {},
   "outputs": [
    {
     "data": {
      "image/png": "[encoded data removed]",
      "text/plain": [
       "<Figure size 936x1080 with 1 Axes>"
      ]
     },
     "metadata": {
      "needs_background": "light"
     },
     "output_type": "display_data"
    }
   ],
   "source": [
    "# ваш код здесь\n",
    "fig, ax = plt.subplots(figsize=(13, 15)) #фигура + координатная плоскость\n",
    "feature = X_train_scaled.columns #признаки\n",
    "feature_importances = gb.feature_importances_ #важность признаков\n",
    "#Строим столбчатую диаграмму\n",
    "sns.barplot(y=feature, x=feature_importances, ax=ax, orient='h');\n",
    "#Добавляем подпись графику, осям абцисс и ординат\n",
    "ax.set_title('Bar plot feature importances')\n",
    "ax.set_xlabel('Features')\n",
    "ax.set_ylabel('Importances');"
   ]
  },
  {
   "cell_type": "code",
   "execution_count": 50,
   "metadata": {},
   "outputs": [
    {
     "data": {
      "text/plain": [
       "Index(['heating_2', 'heating_6', 'heating_11', 'parking_1', 'parking_4',\n",
       "       'parking_5', 'parking_6', 'parking_9', 'parking_11', 'pool',\n",
       "       'status_12', '1_story', '3_story', 'type_6', 'type_34', 'type_39',\n",
       "       'type_40', 'baths', 'fireplace', 'sqft', 'beds', 'year_built_log',\n",
       "       'school_count', 'school_rating_avg', 'school_rating_prx'],\n",
       "      dtype='object')"
      ]
     },
     "execution_count": 50,
     "metadata": {},
     "output_type": "execute_result"
    }
   ],
   "source": [
    "feature"
   ]
  },
  {
   "cell_type": "code",
   "execution_count": null,
   "metadata": {},
   "outputs": [],
   "source": [
    "np.concatenate(np.array(feature).reshape()"
   ]
  },
  {
   "cell_type": "code",
   "execution_count": 29,
   "metadata": {},
   "outputs": [
    {
     "data": {
      "text/plain": [
       "array([2.79546550e-03, 2.64566884e-03, 2.74558179e-03, 5.64963807e-03,\n",
       "       1.25885430e-03, 1.80593400e-04, 2.96204046e-04, 2.92443968e-03,\n",
       "       5.80976182e-03, 1.73570686e-02, 6.66296449e-04, 1.42525037e-02,\n",
       "       4.42397515e-03, 5.97087812e-03, 4.14132350e-03, 6.84932739e-04,\n",
       "       3.75679074e-05, 8.20057604e-02, 1.27762168e-02, 4.98170871e-01,\n",
       "       4.07918086e-02, 1.00922586e-01, 5.94454755e-02, 8.88471640e-02,\n",
       "       4.51993642e-02])"
      ]
     },
     "execution_count": 29,
     "metadata": {},
     "output_type": "execute_result"
    }
   ],
   "source": [
    "feature_importances"
   ]
  },
  {
   "cell_type": "markdown",
   "metadata": {},
   "source": [
    "# XGBoost"
   ]
  },
  {
   "cell_type": "code",
   "execution_count": 54,
   "metadata": {},
   "outputs": [],
   "source": [
    "from xgboost import XGBRegressor"
   ]
  },
  {
   "cell_type": "code",
   "execution_count": 55,
   "metadata": {},
   "outputs": [
    {
     "name": "stdout",
     "output_type": "stream",
     "text": [
      "MAE score: 235281 $\n",
      "Качество предсказания r2_score 0.591\n"
     ]
    }
   ],
   "source": [
    "xgb = XGBRegressor(\n",
    "        objective='reg:squarederror'\n",
    ")\n",
    "xgb.fit(X_train_scaled, np.array(y_train))\n",
    "y_test_predict = xgb.predict(X_test_scaled)\n",
    "#Рассчитываем MAE\n",
    "print('MAE score: {:.0f} $'.format(metrics.mean_absolute_error(y_test, y_test_predict)))\n",
    "print(f'Качество предсказания r2_score {round(metrics.r2_score(y_test, y_test_predict),3)}')"
   ]
  },
  {
   "cell_type": "code",
   "execution_count": 113,
   "metadata": {},
   "outputs": [],
   "source": [
    "import sklearn"
   ]
  },
  {
   "cell_type": "code",
   "execution_count": 114,
   "metadata": {},
   "outputs": [
    {
     "data": {
      "text/plain": [
       "'1.2.2'"
      ]
     },
     "execution_count": 114,
     "metadata": {},
     "output_type": "execute_result"
    }
   ],
   "source": [
    "sklearn.__version__"
   ]
  },
  {
   "cell_type": "markdown",
   "metadata": {},
   "source": [
    "# Стекинг"
   ]
  },
  {
   "cell_type": "code",
   "execution_count": 44,
   "metadata": {},
   "outputs": [],
   "source": [
    "from sklearn.ensemble import StackingRegressor\n",
    "from sklearn.linear_model import RidgeCV"
   ]
  },
  {
   "cell_type": "code",
   "execution_count": 52,
   "metadata": {},
   "outputs": [
    {
     "name": "stdout",
     "output_type": "stream",
     "text": [
      "MAE score: 284294 $\n",
      "MAPE score: 81 %\n",
      "Test R^2: 0.362\n"
     ]
    }
   ],
   "source": [
    "#Создаем список кортежей вида: (наименование модели, модель)\n",
    "estimators = [\n",
    "    ('dt',  DecisionTreeRegressor(random_state=42))\n",
    "]\n",
    "\n",
    "#Создаем объект класса стекинг\n",
    "reg = StackingRegressor(\n",
    "    estimators=estimators,\n",
    "    final_estimator=RandomForestRegressor(n_estimators=10,\n",
    "                                          random_state=42)\n",
    ")\n",
    "#Обучаем модель\n",
    "reg.fit(X_train_scaled, y_train)\n",
    "y_pred_stack = reg.predict(X_test_scaled)\n",
    "#Рассчитываем MAE\n",
    "print('MAE score: {:.0f} $'.format(metrics.mean_absolute_error(y_test, y_pred_stack)))\n",
    "#Рассчитываем MAPE\n",
    "print('MAPE score: {:.0f} %'.format(metrics.mean_absolute_percentage_error(y_test, y_pred_stack) * 100))\n",
    "#Рассчитываем коэффициент детерминации для двух выборок\n",
    "print(\"Test R^2: {:.3f}\".format(metrics.r2_score(y_test, y_pred_stack)))"
   ]
  },
  {
   "cell_type": "markdown",
   "metadata": {},
   "source": [
    "Не удалось подобрать оптимальную стекинг-схему, дающую сколько нибудь приличный результат"
   ]
  },
  {
   "cell_type": "markdown",
   "metadata": {},
   "source": [
    "# Оптимизация гиперпараметров"
   ]
  },
  {
   "cell_type": "code",
   "execution_count": null,
   "metadata": {},
   "outputs": [],
   "source": [
    "from sklearn.model_selection import RandomizedSearchCV"
   ]
  },
  {
   "cell_type": "markdown",
   "metadata": {},
   "source": [
    "# Сериализация модели"
   ]
  },
  {
   "cell_type": "code",
   "execution_count": null,
   "metadata": {},
   "outputs": [],
   "source": [
    "regressor = gb"
   ]
  },
  {
   "cell_type": "code",
   "execution_count": null,
   "metadata": {},
   "outputs": [],
   "source": [
    "# Производим сериализацию и записываем результат в файл формата pkl\n",
    "with open('model.pkl', 'wb') as output:\n",
    "    pickle.dump(regressor, output)"
   ]
  },
  {
   "cell_type": "code",
   "execution_count": 3,
   "metadata": {},
   "outputs": [
    {
     "name": "stdout",
     "output_type": "stream",
     "text": [
      "Версия Optuna: 3.0.4\n"
     ]
    }
   ],
   "source": [
    "import optuna\n",
    "\n",
    "print(\"Версия Optuna: {}\".format(optuna.__version__))"
   ]
  },
  {
   "cell_type": "code",
   "execution_count": 4,
   "metadata": {},
   "outputs": [
    {
     "data": {
      "text/plain": [
       "True"
      ]
     },
     "execution_count": 4,
     "metadata": {},
     "output_type": "execute_result"
    }
   ],
   "source": [
    "optuna.visualization.is_available()"
   ]
  }
 ],
 "metadata": {
  "kernelspec": {
   "display_name": "Python 3",
   "language": "python",
   "name": "python3"
  },
  "language_info": {
   "codemirror_mode": {
    "name": "ipython",
    "version": 3
   },
   "file_extension": ".py",
   "mimetype": "text/x-python",
   "name": "python",
   "nbconvert_exporter": "python",
   "pygments_lexer": "ipython3",
   "version": "3.10.4"
  }
 },
 "nbformat": 4,
 "nbformat_minor": 2
}
