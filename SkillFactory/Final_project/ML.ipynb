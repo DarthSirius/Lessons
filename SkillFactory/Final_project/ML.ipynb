{
 "cells": [
  {
   "cell_type": "markdown",
   "metadata": {},
   "source": [
    "# 2. Выбор модели"
   ]
  },
  {
   "cell_type": "code",
   "execution_count": 2,
   "metadata": {},
   "outputs": [],
   "source": [
    "# загрузка библиотек\n",
    "import pandas as pd\n",
    "import numpy as np\n",
    "import matplotlib.pyplot as plt\n",
    "import seaborn as sns\n",
    "import pickle\n",
    "import warnings\n",
    "warnings.filterwarnings('ignore')\n",
    "\n",
    "from sklearn import linear_model \n",
    "from sklearn import tree \n",
    "from sklearn import ensemble \n",
    "from sklearn import metrics \n",
    "from sklearn import preprocessing \n",
    "from sklearn.model_selection import train_test_split \n",
    "from sklearn.feature_selection import SelectKBest, f_regression\n",
    "\n",
    "from sklearn.tree import DecisionTreeRegressor"
   ]
  },
  {
   "cell_type": "code",
   "execution_count": 3,
   "metadata": {},
   "outputs": [
    {
     "name": "stdout",
     "output_type": "stream",
     "text": [
      "Data shape: (308371, 128)\n"
     ]
    },
    {
     "data": {
      "text/html": [
       "<div>\n",
       "<style scoped>\n",
       "    .dataframe tbody tr th:only-of-type {\n",
       "        vertical-align: middle;\n",
       "    }\n",
       "\n",
       "    .dataframe tbody tr th {\n",
       "        vertical-align: top;\n",
       "    }\n",
       "\n",
       "    .dataframe thead th {\n",
       "        text-align: right;\n",
       "    }\n",
       "</style>\n",
       "<table border=\"1\" class=\"dataframe\">\n",
       "  <thead>\n",
       "    <tr style=\"text-align: right;\">\n",
       "      <th></th>\n",
       "      <th>baths</th>\n",
       "      <th>fireplace</th>\n",
       "      <th>sqft</th>\n",
       "      <th>zipcode</th>\n",
       "      <th>beds</th>\n",
       "      <th>target</th>\n",
       "      <th>Year built</th>\n",
       "      <th>Remodeled year</th>\n",
       "      <th>year_built_log</th>\n",
       "      <th>remodeled_year_log</th>\n",
       "      <th>...</th>\n",
       "      <th>fp_4</th>\n",
       "      <th>fp_5</th>\n",
       "      <th>fp_6</th>\n",
       "      <th>fp_7</th>\n",
       "      <th>fp_8</th>\n",
       "      <th>school_count</th>\n",
       "      <th>school_distance_min</th>\n",
       "      <th>school_distance_avg</th>\n",
       "      <th>school_rating_avg</th>\n",
       "      <th>school_rating_prx</th>\n",
       "    </tr>\n",
       "  </thead>\n",
       "  <tbody>\n",
       "    <tr>\n",
       "      <th>0</th>\n",
       "      <td>3</td>\n",
       "      <td>1</td>\n",
       "      <td>2900.0</td>\n",
       "      <td>28387</td>\n",
       "      <td>4</td>\n",
       "      <td>418000.0</td>\n",
       "      <td>6</td>\n",
       "      <td>0</td>\n",
       "      <td>1.945910</td>\n",
       "      <td>0.000000</td>\n",
       "      <td>...</td>\n",
       "      <td>0</td>\n",
       "      <td>0</td>\n",
       "      <td>0</td>\n",
       "      <td>1</td>\n",
       "      <td>0</td>\n",
       "      <td>8</td>\n",
       "      <td>2.70</td>\n",
       "      <td>5.5</td>\n",
       "      <td>3.2</td>\n",
       "      <td>4.0</td>\n",
       "    </tr>\n",
       "    <tr>\n",
       "      <th>1</th>\n",
       "      <td>3</td>\n",
       "      <td>0</td>\n",
       "      <td>1947.0</td>\n",
       "      <td>99216</td>\n",
       "      <td>3</td>\n",
       "      <td>310000.0</td>\n",
       "      <td>6</td>\n",
       "      <td>0</td>\n",
       "      <td>1.945910</td>\n",
       "      <td>0.000000</td>\n",
       "      <td>...</td>\n",
       "      <td>0</td>\n",
       "      <td>0</td>\n",
       "      <td>0</td>\n",
       "      <td>0</td>\n",
       "      <td>0</td>\n",
       "      <td>3</td>\n",
       "      <td>1.01</td>\n",
       "      <td>1.3</td>\n",
       "      <td>2.7</td>\n",
       "      <td>4.0</td>\n",
       "    </tr>\n",
       "    <tr>\n",
       "      <th>2</th>\n",
       "      <td>2</td>\n",
       "      <td>1</td>\n",
       "      <td>3000.0</td>\n",
       "      <td>90049</td>\n",
       "      <td>3</td>\n",
       "      <td>2895000.0</td>\n",
       "      <td>64</td>\n",
       "      <td>58</td>\n",
       "      <td>4.174387</td>\n",
       "      <td>4.077537</td>\n",
       "      <td>...</td>\n",
       "      <td>0</td>\n",
       "      <td>0</td>\n",
       "      <td>0</td>\n",
       "      <td>0</td>\n",
       "      <td>0</td>\n",
       "      <td>3</td>\n",
       "      <td>1.19</td>\n",
       "      <td>2.0</td>\n",
       "      <td>6.7</td>\n",
       "      <td>8.0</td>\n",
       "    </tr>\n",
       "    <tr>\n",
       "      <th>3</th>\n",
       "      <td>8</td>\n",
       "      <td>1</td>\n",
       "      <td>6457.0</td>\n",
       "      <td>75205</td>\n",
       "      <td>5</td>\n",
       "      <td>2395000.0</td>\n",
       "      <td>19</td>\n",
       "      <td>19</td>\n",
       "      <td>2.995732</td>\n",
       "      <td>2.995732</td>\n",
       "      <td>...</td>\n",
       "      <td>0</td>\n",
       "      <td>0</td>\n",
       "      <td>0</td>\n",
       "      <td>0</td>\n",
       "      <td>0</td>\n",
       "      <td>4</td>\n",
       "      <td>0.10</td>\n",
       "      <td>0.8</td>\n",
       "      <td>6.8</td>\n",
       "      <td>9.0</td>\n",
       "    </tr>\n",
       "    <tr>\n",
       "      <th>4</th>\n",
       "      <td>0</td>\n",
       "      <td>0</td>\n",
       "      <td>897.0</td>\n",
       "      <td>19145</td>\n",
       "      <td>2</td>\n",
       "      <td>209000.0</td>\n",
       "      <td>105</td>\n",
       "      <td>0</td>\n",
       "      <td>4.663439</td>\n",
       "      <td>0.000000</td>\n",
       "      <td>...</td>\n",
       "      <td>0</td>\n",
       "      <td>0</td>\n",
       "      <td>0</td>\n",
       "      <td>0</td>\n",
       "      <td>0</td>\n",
       "      <td>0</td>\n",
       "      <td>1.10</td>\n",
       "      <td>2.8</td>\n",
       "      <td>4.2</td>\n",
       "      <td>5.2</td>\n",
       "    </tr>\n",
       "  </tbody>\n",
       "</table>\n",
       "<p>5 rows × 128 columns</p>\n",
       "</div>"
      ],
      "text/plain": [
       "   baths  fireplace    sqft  zipcode  beds     target  Year built   \n",
       "0      3          1  2900.0    28387     4   418000.0           6  \\\n",
       "1      3          0  1947.0    99216     3   310000.0           6   \n",
       "2      2          1  3000.0    90049     3  2895000.0          64   \n",
       "3      8          1  6457.0    75205     5  2395000.0          19   \n",
       "4      0          0   897.0    19145     2   209000.0         105   \n",
       "\n",
       "   Remodeled year  year_built_log  remodeled_year_log  ...  fp_4  fp_5  fp_6   \n",
       "0               0        1.945910            0.000000  ...     0     0     0  \\\n",
       "1               0        1.945910            0.000000  ...     0     0     0   \n",
       "2              58        4.174387            4.077537  ...     0     0     0   \n",
       "3              19        2.995732            2.995732  ...     0     0     0   \n",
       "4               0        4.663439            0.000000  ...     0     0     0   \n",
       "\n",
       "   fp_7  fp_8  school_count  school_distance_min  school_distance_avg   \n",
       "0     1     0             8                 2.70                  5.5  \\\n",
       "1     0     0             3                 1.01                  1.3   \n",
       "2     0     0             3                 1.19                  2.0   \n",
       "3     0     0             4                 0.10                  0.8   \n",
       "4     0     0             0                 1.10                  2.8   \n",
       "\n",
       "   school_rating_avg  school_rating_prx  \n",
       "0                3.2                4.0  \n",
       "1                2.7                4.0  \n",
       "2                6.7                8.0  \n",
       "3                6.8                9.0  \n",
       "4                4.2                5.2  \n",
       "\n",
       "[5 rows x 128 columns]"
      ]
     },
     "execution_count": 3,
     "metadata": {},
     "output_type": "execute_result"
    }
   ],
   "source": [
    "# загрузка подготовленных данных в датафрейм\n",
    "data = pd.read_csv(\"./data/data_prepared.csv\")\n",
    "print('Data shape: {}'.format(data.shape))\n",
    "data.head(5)"
   ]
  },
  {
   "cell_type": "markdown",
   "metadata": {},
   "source": [
    "Разбиваем выборку"
   ]
  },
  {
   "cell_type": "code",
   "execution_count": 5,
   "metadata": {},
   "outputs": [
    {
     "name": "stdout",
     "output_type": "stream",
     "text": [
      "размер тренировочной выборки 215859\n",
      "размер валидационной выборки 46256\n",
      "размер тестовой выборки 46256\n",
      "среднее значение целевой переменной на тренировочной выборке 479928.92\n"
     ]
    }
   ],
   "source": [
    "X = data.drop(['target'], axis=1)\n",
    "y = data['target']\n",
    " \n",
    "X_train, X_valid, y_train, y_valid = train_test_split(X, y, random_state = 42, test_size = 0.3)\n",
    "# делим валидационный набор пополам для валидации и оценки\n",
    "X_valid, X_test, y_valid, y_test = train_test_split(X_valid, y_valid, random_state = 42, test_size = 0.5)\n",
    "# \n",
    "print('размер тренировочной выборки', X_train.shape[0])\n",
    "print('размер валидационной выборки', X_valid.shape[0])\n",
    "print('размер тестовой выборки', X_test.shape[0])\n",
    "print('среднее значение целевой переменной на тренировочной выборке', round(y_train.mean(),2))"
   ]
  },
  {
   "cell_type": "code",
   "execution_count": 6,
   "metadata": {},
   "outputs": [
    {
     "name": "stdout",
     "output_type": "stream",
     "text": [
      "309326\n"
     ]
    }
   ],
   "source": [
    "# оцениваем наивный прогноз по среднему значению\n",
    "def mae_error(y, y_pred):\n",
    "    mae = np.sum(abs(y_pred - y)) / len(y)\n",
    "    return round(mae)\n",
    "\n",
    "#Рассчитываем MAE\n",
    "print(mae_error(y_test, np.mean(y_train))) # вычисляем ошибку"
   ]
  },
  {
   "cell_type": "markdown",
   "metadata": {},
   "source": [
    "Обучаем простую линейную регрессию. Для оценки выбираем метрики \"среднее абсолютное отклонение\" и R2-метрику"
   ]
  },
  {
   "cell_type": "code",
   "execution_count": 7,
   "metadata": {},
   "outputs": [
    {
     "name": "stdout",
     "output_type": "stream",
     "text": [
      "MAE score: 224961.801 $\n",
      "MAPE score: 117.423 %\n",
      "Train R^2: 0.430\n",
      "Test R^2: 0.433\n"
     ]
    }
   ],
   "source": [
    "#Создаём объект класса LinearRegression\n",
    "lr_lstat = linear_model.LinearRegression()\n",
    "#Обучаем модель — ищем параметры по МНК\n",
    "lr_lstat.fit(X_train, y_train)\n",
    "#Предсказываем цену тестовой выборки\n",
    "y_predict_train = lr_lstat.predict(X_train)\n",
    "#Предсказываем цену тестовой выборки\n",
    "y_predict = lr_lstat.predict(X_test)\n",
    "#Рассчитываем MAE\n",
    "print('MAE score: {:.3f} $'.format(metrics.mean_absolute_error(y_test, y_predict)))\n",
    "#Рассчитываем MAPE\n",
    "print('MAPE score: {:.3f} %'.format(metrics.mean_absolute_percentage_error(y_test, y_predict) * 100))\n",
    "#Рассчитываем коэффициент детерминации для двух выборок\n",
    "print(\"Train R^2: {:.3f}\".format(metrics.r2_score(y_train, y_predict_train)))\n",
    "print(\"Test R^2: {:.3f}\".format(metrics.r2_score(y_test, y_predict)))"
   ]
  },
  {
   "cell_type": "markdown",
   "metadata": {},
   "source": [
    "Простая регрессия ненамного лучше наивного прогноза, необходимы более продвинутые методы построения модели"
   ]
  },
  {
   "cell_type": "markdown",
   "metadata": {},
   "source": [
    "### Отбираем лучшие признаки и строим матрицу корреляций"
   ]
  },
  {
   "cell_type": "code",
   "execution_count": 8,
   "metadata": {},
   "outputs": [
    {
     "data": {
      "text/plain": [
       "array(['baths', 'fireplace', 'sqft', 'beds', 'sqft_log', 'pool',\n",
       "       '1_story', 'type_34', 'school_rating_avg', 'school_rating_prx'],\n",
       "      dtype=object)"
      ]
     },
     "execution_count": 8,
     "metadata": {},
     "output_type": "execute_result"
    }
   ],
   "source": [
    "# с помощью SelectKBest отберите 10 наиболее подходящих признаков\n",
    "selector = SelectKBest(f_regression, k=10).fit(X_train, y_train)\n",
    "col_names = selector.get_feature_names_out()\n",
    "col_names"
   ]
  },
  {
   "cell_type": "code",
   "execution_count": 9,
   "metadata": {},
   "outputs": [
    {
     "data": {
      "image/png": "[encoded data removed]",
      "text/plain": [
       "<Figure size 720x720 with 1 Axes>"
      ]
     },
     "metadata": {
      "needs_background": "light"
     },
     "output_type": "display_data"
    }
   ],
   "source": [
    "corr_matrix = data[np.append(col_names, 'target')].corr() # корреляционная матрица признаков\n",
    "corr_matrix.drop(labels=['target'], inplace=True, axis=0)\n",
    "# строим столбчатую диаграмму для коэффициентов корреляции\n",
    "fig = plt.subplots(nrows=1, ncols=1, figsize=(10,10))\n",
    "bar1 = sns.barplot(\n",
    "             y = list(corr_matrix['target'].sort_values(ascending=False).keys()),\n",
    "             x = list(corr_matrix['target'].sort_values(ascending=False)),\n",
    "             orient='h'\n",
    "            )\n",
    "bar1.tick_params(axis='x', rotation=90);"
   ]
  },
  {
   "cell_type": "code",
   "execution_count": 10,
   "metadata": {},
   "outputs": [
    {
     "data": {
      "image/png": "[encoded data removed]",
      "text/plain": [
       "<Figure size 1800x1440 with 2 Axes>"
      ]
     },
     "metadata": {
      "needs_background": "light"
     },
     "output_type": "display_data"
    }
   ],
   "source": [
    "# строим тепловую карту для матрицы корреляции\n",
    "fig = plt.subplots(nrows=1, ncols=1, figsize=(25,20))\n",
    "heatmap = sns.heatmap(corr_matrix)"
   ]
  },
  {
   "cell_type": "markdown",
   "metadata": {},
   "source": [
    "Сильно коррелирующие признаки:\n",
    "sqft - sqft_log\n",
    "beds - baths"
   ]
  },
  {
   "cell_type": "markdown",
   "metadata": {},
   "source": [
    "Нормализация небинарных признаков"
   ]
  },
  {
   "cell_type": "code",
   "execution_count": 11,
   "metadata": {},
   "outputs": [
    {
     "data": {
      "text/plain": [
       "['baths',\n",
       " 'fireplace',\n",
       " 'sqft',\n",
       " 'zipcode',\n",
       " 'beds',\n",
       " 'Year built',\n",
       " 'Remodeled year',\n",
       " 'year_built_log',\n",
       " 'remodeled_year_log',\n",
       " 'lot_size',\n",
       " 'lot_size_log',\n",
       " 'sqft_log',\n",
       " 'school_count',\n",
       " 'school_distance_min',\n",
       " 'school_distance_avg',\n",
       " 'school_rating_avg',\n",
       " 'school_rating_prx']"
      ]
     },
     "execution_count": 11,
     "metadata": {},
     "output_type": "execute_result"
    }
   ],
   "source": [
    "# делим признаки на бинарные и небинарные\n",
    "a = X_train.describe().loc['max']\n",
    "binary_columns = list(a[a==1].keys())\n",
    "nonbinary_columns = list(a[a>1].keys())\n",
    "nonbinary_columns"
   ]
  },
  {
   "cell_type": "code",
   "execution_count": 12,
   "metadata": {},
   "outputs": [],
   "source": [
    "#Инициализируем стандартизатор MinMaxScaler\n",
    "scaler = preprocessing.MinMaxScaler()\n",
    "#Подгоняем параметры стандартизатора (вычисляем среднее и СКО)\n",
    "scaler.fit(X_train[nonbinary_columns])\n",
    "#Производим стандартизацию тренировочной выборки\n",
    "X_train_nb_mm = scaler.transform(X_train[nonbinary_columns])\n",
    "#Производим стандартизацию тестовой выборки\n",
    "X_test_nb_mm = scaler.transform(X_test[nonbinary_columns])\n",
    "#Производим стандартизацию тестовой выборки\n",
    "X_valid_nb_mm = scaler.transform(X_valid[nonbinary_columns])\n",
    "\n",
    "#Инициализируем стандартизатор StandardScaler\n",
    "scaler = preprocessing.StandardScaler()\n",
    "#Подгоняем параметры стандартизатора (вычисляем среднее и СКО)\n",
    "scaler.fit(X_train_nb_mm)\n",
    "#Производим стандартизацию тренировочной выборки\n",
    "X_train_nb_scaled = scaler.transform(X_train_nb_mm)\n",
    "#Производим стандартизацию тестовой выборки\n",
    "X_test_nb_scaled = scaler.transform(X_test_nb_mm)\n",
    "#Производим стандартизацию тестовой выборки\n",
    "X_valid_nb_scaled = scaler.transform(X_valid_nb_mm)\n",
    "\n",
    "# соединяем с бинарными признаками\n",
    "X_train_scaled = np.concatenate((np.array(X_train[binary_columns]), X_train_nb_scaled), axis=1)\n",
    "X_test_scaled = np.concatenate((np.array(X_test[binary_columns]), X_test_nb_scaled), axis=1)\n",
    "X_valid_scaled = np.concatenate((np.array(X_valid[binary_columns]), X_valid_nb_scaled), axis=1)\n",
    "#\n",
    "X_train_scaled = pd.DataFrame(X_train_scaled, columns=binary_columns+nonbinary_columns)\n",
    "X_test_scaled = pd.DataFrame(X_test_scaled, columns=binary_columns+nonbinary_columns)\n",
    "X_valid_scaled = pd.DataFrame(X_valid_scaled, columns=binary_columns+nonbinary_columns)"
   ]
  },
  {
   "cell_type": "markdown",
   "metadata": {},
   "source": [
    "Пробуем регрессию на полиномиальных признаках 2й степени"
   ]
  },
  {
   "cell_type": "code",
   "execution_count": 75,
   "metadata": {},
   "outputs": [
    {
     "name": "stdout",
     "output_type": "stream",
     "text": [
      "(215859, 65)\n",
      "(46256, 65)\n"
     ]
    }
   ],
   "source": [
    "#Создаём генератор полиномиальных признаков\n",
    "poly = preprocessing.PolynomialFeatures(degree=2, include_bias=False)\n",
    "poly.fit(X_train_scaled[col_names])\n",
    "#Генерируем полиномиальные признаки для тренировочной выборки\n",
    "X_train_scaled_poly = poly.transform(X_train_scaled[col_names])\n",
    "#Генерируем полиномиальные признаки для тестовой выборки\n",
    "X_test_scaled_poly = poly.transform(X_test_scaled[col_names])\n",
    "#Выводим результирующие размерности таблиц\n",
    "print(X_train_scaled_poly.shape)\n",
    "print(X_test_scaled_poly.shape)"
   ]
  },
  {
   "cell_type": "code",
   "execution_count": 76,
   "metadata": {},
   "outputs": [
    {
     "name": "stdout",
     "output_type": "stream",
     "text": [
      "MAE score: 232226 $\n",
      "MAPE score: 145 %\n",
      "Train R^2: 0.391\n",
      "Test R^2: 0.396\n"
     ]
    }
   ],
   "source": [
    "#Создаём объект класса линейной регрессии с L2-регуляризацией\n",
    "ridge_lr_poly = linear_model.Ridge(alpha=5)\n",
    "#Обучаем модель\n",
    "ridge_lr_poly.fit(X_train_scaled_poly, y_train)\n",
    "#Делаем предсказание для тренировочной выборки\n",
    "y_train_predict_poly = ridge_lr_poly.predict(X_train_scaled_poly)\n",
    "#Делаем предсказание для тестовой выборки\n",
    "y_test_predict_poly = ridge_lr_poly.predict(X_test_scaled_poly)\n",
    "#Рассчитываем MAE\n",
    "print('MAE score: {:.0f} $'.format(metrics.mean_absolute_error(y_test, y_test_predict_poly)))\n",
    "#Рассчитываем MAPE\n",
    "print('MAPE score: {:.0f} %'.format(metrics.mean_absolute_percentage_error(y_test, y_test_predict_poly) * 100))\n",
    "#Рассчитываем коэффициент детерминации для двух выборок\n",
    "print(\"Train R^2: {:.3f}\".format(metrics.r2_score(y_train, y_train_predict_poly)))\n",
    "print(\"Test R^2: {:.3f}\".format(metrics.r2_score(y_test, y_test_predict_poly)))"
   ]
  },
  {
   "cell_type": "markdown",
   "metadata": {},
   "source": [
    "Результаты по прежнему неудовлетворительные. Использование полиномиальной регрессии улучшило результаты, но для практического применения этого недостаточно"
   ]
  },
  {
   "cell_type": "markdown",
   "metadata": {},
   "source": [
    "### Попробуем использовать дерево решений. Подберем оптимальную глубину древа"
   ]
  },
  {
   "cell_type": "code",
   "execution_count": 77,
   "metadata": {},
   "outputs": [
    {
     "data": {
      "image/png": "[encoded data removed]",
      "text/plain": [
       "<Figure size 864x576 with 1 Axes>"
      ]
     },
     "metadata": {
      "needs_background": "light"
     },
     "output_type": "display_data"
    }
   ],
   "source": [
    "max_depths = range(5,15)\n",
    "train_score = []\n",
    "test_score = []\n",
    "for n in max_depths:\n",
    "    dt = DecisionTreeRegressor(random_state = 42, max_depth=n)\n",
    "    dt.fit(X_train_scaled, y_train)\n",
    "    y_train_pred = dt.predict(X_train_scaled)\n",
    "    y_test_pred = dt.predict(X_test_scaled)\n",
    "    train_score.append(round(metrics.r2_score(y_train, y_train_pred),3))\n",
    "    test_score.append(round(metrics.r2_score(y_test, y_test_pred),3))\n",
    "\n",
    "fig,ax = plt.subplots(figsize=(12,8))\n",
    "sns.lineplot(x=max_depths, y=train_score, label='Train')\n",
    "sns.lineplot(x=max_depths, y=test_score, label='Test')\n",
    "ax.set_xlabel('Depth of DTreeRegressor')\n",
    "ax.set_ylabel('R2 score')\n",
    "ax.set_xticks(max_depths)\n",
    "ax.grid()"
   ]
  },
  {
   "cell_type": "code",
   "execution_count": 78,
   "metadata": {},
   "outputs": [
    {
     "name": "stdout",
     "output_type": "stream",
     "text": [
      "MAE score: 158913 $\n",
      "MAPE score: 82 %\n",
      "Train R^2: 0.724\n",
      "Test R^2: 0.661\n"
     ]
    }
   ],
   "source": [
    "dt = DecisionTreeRegressor(random_state = 42, max_depth=11)\n",
    "dt.fit(X_train_scaled, y_train)\n",
    "\n",
    "#Предсказываем цену тестовой выборки\n",
    "y_predict_train = dt.predict(X_train_scaled)\n",
    "y_test_predict = dt.predict(X_test_scaled)\n",
    "#Рассчитываем MAE\n",
    "print('MAE score: {:.0f} $'.format(metrics.mean_absolute_error(y_test, y_test_predict)))\n",
    "#Рассчитываем MAPE\n",
    "print('MAPE score: {:.0f} %'.format(metrics.mean_absolute_percentage_error(y_test, y_test_predict) * 100))\n",
    "#Рассчитываем коэффициент детерминации для двух выборок\n",
    "print(\"Train R^2: {:.3f}\".format(metrics.r2_score(y_train, y_predict_train)))\n",
    "print(\"Test R^2: {:.3f}\".format(metrics.r2_score(y_test, y_test_predict)))"
   ]
  },
  {
   "cell_type": "markdown",
   "metadata": {},
   "source": [
    "Результаты лучше чем у регрессии"
   ]
  },
  {
   "cell_type": "markdown",
   "metadata": {},
   "source": [
    "### Применяем ансамблевые методы"
   ]
  },
  {
   "cell_type": "code",
   "execution_count": 13,
   "metadata": {},
   "outputs": [],
   "source": [
    "from sklearn.ensemble import RandomForestRegressor\n",
    "from sklearn.ensemble import GradientBoostingRegressor\n",
    "from xgboost import XGBRegressor"
   ]
  },
  {
   "cell_type": "code",
   "execution_count": 80,
   "metadata": {},
   "outputs": [
    {
     "name": "stdout",
     "output_type": "stream",
     "text": [
      "MAE score: 139952 $\n",
      "MAPE score: 72 %\n",
      "Train R^2: 0.724\n",
      "Test R^2: 0.742\n"
     ]
    }
   ],
   "source": [
    "#Создаем объект класса случайный лес\n",
    "rf = RandomForestRegressor(\n",
    "    n_estimators = 100,\n",
    "    max_depth = 12,\n",
    "    criterion = 'squared_error',\n",
    "    random_state = 42\n",
    "    )\n",
    "\n",
    "#Обучаем модель\n",
    "rf.fit(X_train_scaled, y_train)\n",
    "#Предсказываем результат и Выводим значения метрик\n",
    "y_train_predict = rf.predict(X_train_scaled)\n",
    "y_test_predict = rf.predict(X_test_scaled)\n",
    "#Рассчитываем MAE\n",
    "print('MAE score: {:.0f} $'.format(metrics.mean_absolute_error(y_test, y_test_predict)))\n",
    "#Рассчитываем MAPE\n",
    "print('MAPE score: {:.0f} %'.format(metrics.mean_absolute_percentage_error(y_test, y_test_predict) * 100))\n",
    "#Рассчитываем коэффициент детерминации для двух выборок\n",
    "print(\"Train R^2: {:.3f}\".format(metrics.r2_score(y_train, y_predict_train)))\n",
    "print(\"Test R^2: {:.3f}\".format(metrics.r2_score(y_test, y_test_predict)))"
   ]
  },
  {
   "cell_type": "code",
   "execution_count": 81,
   "metadata": {},
   "outputs": [
    {
     "name": "stdout",
     "output_type": "stream",
     "text": [
      "MAE score: 96094 $\n",
      "MAPE score: 32 %\n",
      "Train R^2: 0.724\n",
      "Test R^2: 0.845\n"
     ]
    }
   ],
   "source": [
    "# Градиентный бустинг\n",
    "gb = GradientBoostingRegressor(\n",
    "    learning_rate=0.2, #темп обучения\n",
    "    n_estimators=100, #число деревьев\n",
    "    max_depth=12, #максимальная глубина дерева\n",
    "    random_state=42\n",
    ")\n",
    "gb.fit(X_train_scaled, y_train)\n",
    "#Предсказываем результат и Выводим значения метрики \n",
    "y_train_predict = gb.predict(X_train_scaled)\n",
    "y_test_predict = gb.predict(X_test_scaled)\n",
    "#Рассчитываем MAE\n",
    "print('MAE score: {:.0f} $'.format(metrics.mean_absolute_error(y_test, y_test_predict)))\n",
    "#Рассчитываем MAPE\n",
    "print('MAPE score: {:.0f} %'.format(metrics.mean_absolute_percentage_error(y_test, y_test_predict) * 100))\n",
    "#Рассчитываем коэффициент детерминации для двух выборок\n",
    "print(\"Train R^2: {:.3f}\".format(metrics.r2_score(y_train, y_predict_train)))\n",
    "print(\"Test R^2: {:.3f}\".format(metrics.r2_score(y_test, y_test_predict)))"
   ]
  },
  {
   "cell_type": "markdown",
   "metadata": {},
   "source": [
    "Пробуем XGBoost"
   ]
  },
  {
   "cell_type": "code",
   "execution_count": 82,
   "metadata": {},
   "outputs": [
    {
     "name": "stdout",
     "output_type": "stream",
     "text": [
      "MAE score: 119481 $\n",
      "Качество предсказания r2_score 0.795\n"
     ]
    }
   ],
   "source": [
    "xgb = XGBRegressor(\n",
    "        objective='reg:squarederror'\n",
    ")\n",
    "xgb.fit(X_train_scaled, np.array(y_train))\n",
    "y_test_predict = xgb.predict(X_test_scaled)\n",
    "#Рассчитываем MAE\n",
    "print('MAE score: {:.0f} $'.format(metrics.mean_absolute_error(y_test, y_test_predict)))\n",
    "print(f'Качество предсказания r2_score {round(metrics.r2_score(y_test, y_test_predict),3)}')"
   ]
  },
  {
   "cell_type": "markdown",
   "metadata": {},
   "source": [
    "В том числе, не удалось подобрать оптимальную стекинг-схему, дающую сколько нибудь приличный результат\n",
    "\n",
    "В итоге: Градиентный бустинг показывает лучшие результаты. Остановимся на этом типе модели"
   ]
  },
  {
   "cell_type": "markdown",
   "metadata": {},
   "source": [
    "# 3. Подбор гиперпараметров"
   ]
  },
  {
   "cell_type": "code",
   "execution_count": 14,
   "metadata": {},
   "outputs": [
    {
     "ename": "NameError",
     "evalue": "name 'gb' is not defined",
     "output_type": "error",
     "traceback": [
      "\u001b[1;31m---------------------------------------------------------------------------\u001b[0m",
      "\u001b[1;31mNameError\u001b[0m                                 Traceback (most recent call last)",
      "\u001b[1;32mc:\\Users\\Ustenko-S\\Repo\\SkillFactory\\Final_project\\ML hyper.ipynb Cell 35\u001b[0m line \u001b[0;36m<cell line: 4>\u001b[1;34m()\u001b[0m\n\u001b[0;32m      <a href='vscode-notebook-cell:/c%3A/Users/Ustenko-S/Repo/SkillFactory/Final_project/ML%20hyper.ipynb#X46sZmlsZQ%3D%3D?line=1'>2</a>\u001b[0m fig, ax \u001b[39m=\u001b[39m plt\u001b[39m.\u001b[39msubplots(figsize\u001b[39m=\u001b[39m(\u001b[39m13\u001b[39m, \u001b[39m15\u001b[39m)) \u001b[39m#фигура + координатная плоскость\u001b[39;00m\n\u001b[0;32m      <a href='vscode-notebook-cell:/c%3A/Users/Ustenko-S/Repo/SkillFactory/Final_project/ML%20hyper.ipynb#X46sZmlsZQ%3D%3D?line=2'>3</a>\u001b[0m feature \u001b[39m=\u001b[39m X_train_scaled\u001b[39m.\u001b[39mcolumns \u001b[39m#признаки\u001b[39;00m\n\u001b[1;32m----> <a href='vscode-notebook-cell:/c%3A/Users/Ustenko-S/Repo/SkillFactory/Final_project/ML%20hyper.ipynb#X46sZmlsZQ%3D%3D?line=3'>4</a>\u001b[0m feature_importances \u001b[39m=\u001b[39m gb\u001b[39m.\u001b[39mfeature_importances_ \u001b[39m#важность признаков\u001b[39;00m\n\u001b[0;32m      <a href='vscode-notebook-cell:/c%3A/Users/Ustenko-S/Repo/SkillFactory/Final_project/ML%20hyper.ipynb#X46sZmlsZQ%3D%3D?line=4'>5</a>\u001b[0m \u001b[39m#Строим столбчатую диаграмму\u001b[39;00m\n\u001b[0;32m      <a href='vscode-notebook-cell:/c%3A/Users/Ustenko-S/Repo/SkillFactory/Final_project/ML%20hyper.ipynb#X46sZmlsZQ%3D%3D?line=5'>6</a>\u001b[0m sns\u001b[39m.\u001b[39mbarplot(y\u001b[39m=\u001b[39mfeature, x\u001b[39m=\u001b[39mfeature_importances, ax\u001b[39m=\u001b[39max, orient\u001b[39m=\u001b[39m\u001b[39m'\u001b[39m\u001b[39mh\u001b[39m\u001b[39m'\u001b[39m);\n",
      "\u001b[1;31mNameError\u001b[0m: name 'gb' is not defined"
     ]
    },
    {
     "data": {
      "image/png": "[encoded data removed]",
      "text/plain": [
       "<Figure size 936x1080 with 1 Axes>"
      ]
     },
     "metadata": {
      "needs_background": "light"
     },
     "output_type": "display_data"
    }
   ],
   "source": [
    "# отбираем выжные признаки для градиентного бустинга\n",
    "fig, ax = plt.subplots(figsize=(13, 15)) #фигура + координатная плоскость\n",
    "feature = X_train_scaled.columns #признаки\n",
    "feature_importances = gb.feature_importances_ #важность признаков\n",
    "#Строим столбчатую диаграмму\n",
    "sns.barplot(y=feature, x=feature_importances, ax=ax, orient='h');\n",
    "#Добавляем подпись графику, осям абцисс и ординат\n",
    "ax.set_title('Bar plot feature importances')\n",
    "ax.set_xlabel('Features')\n",
    "ax.set_ylabel('Importances');"
   ]
  },
  {
   "cell_type": "markdown",
   "metadata": {},
   "source": [
    "Отбираем наиболее значимые для градиентного бустинга признаки для подбора гиперпараметров"
   ]
  },
  {
   "cell_type": "code",
   "execution_count": 84,
   "metadata": {},
   "outputs": [
    {
     "data": {
      "text/plain": [
       "array(['heating_1', 'heating_4', 'heating_11', 'pool', 'status_1',\n",
       "       'status_2', '1_story', '2_story', '3_story', '4_story', 'type_1',\n",
       "       'type_5', 'type_6', 'type_10', 'type_34', 'type_38', 'type_39',\n",
       "       'baths', 'fireplace', 'sqft', 'zipcode', 'beds', 'Year built',\n",
       "       'Remodeled year', 'year_built_log', 'remodeled_year_log',\n",
       "       'lot_size', 'lot_size_log', 'sqft_log', 'school_count',\n",
       "       'school_distance_min', 'school_distance_avg', 'school_rating_avg',\n",
       "       'school_rating_prx'], dtype=object)"
      ]
     },
     "execution_count": 84,
     "metadata": {},
     "output_type": "execute_result"
    }
   ],
   "source": [
    "ff = pd.DataFrame( \n",
    "                  np.concatenate( \n",
    "                                 (np.array(feature).reshape(feature.shape[0],1), \n",
    "                                  np.array(feature_importances).reshape(feature_importances.shape[0],1)\n",
    "                                  ), axis=1), \n",
    "                  columns=['feature', 'val']\n",
    "                  )\n",
    "ff[ff['val']>0.001]['feature'].values"
   ]
  },
  {
   "cell_type": "code",
   "execution_count": 15,
   "metadata": {},
   "outputs": [],
   "source": [
    "gb_columns = ['heating_1', 'heating_4', 'heating_11', 'pool', 'status_1',\n",
    "       'status_2', '1_story', '2_story', '3_story', '4_story', 'type_1',\n",
    "       'type_5', 'type_6', 'type_10', 'type_34', 'type_38', 'type_39',\n",
    "       'baths', 'fireplace', 'sqft', 'zipcode', 'beds', 'Year built',\n",
    "       'Remodeled year', 'year_built_log', 'remodeled_year_log',\n",
    "       'lot_size', 'lot_size_log', 'sqft_log', 'school_count',\n",
    "       'school_distance_min', 'school_distance_avg', 'school_rating_avg',\n",
    "       'school_rating_prx']\n",
    "# 'school_distance_min_log',       'school_distance_avg_log'"
   ]
  },
  {
   "cell_type": "code",
   "execution_count": 16,
   "metadata": {},
   "outputs": [],
   "source": [
    "X_train_scaled = X_train_scaled[gb_columns]\n",
    "X_valid_scaled = X_valid_scaled[gb_columns]\n",
    "X_test_scaled = X_test_scaled[gb_columns]"
   ]
  },
  {
   "cell_type": "code",
   "execution_count": 17,
   "metadata": {},
   "outputs": [
    {
     "name": "stdout",
     "output_type": "stream",
     "text": [
      "Версия Optuna: 3.0.4\n"
     ]
    }
   ],
   "source": [
    "#делаем импорт и выведем версию библиотеки\n",
    "import optuna\n",
    "\n",
    "print(\"Версия Optuna: {}\".format(optuna.__version__))"
   ]
  },
  {
   "cell_type": "code",
   "execution_count": 88,
   "metadata": {},
   "outputs": [],
   "source": [
    "def optuna_rf(trial):\n",
    "  # задаем пространства поиска гиперпараметров\n",
    "  n_estimators = trial.suggest_int('n_estimators', 80, 180, 10)\n",
    "  max_depth = trial.suggest_int('max_depth', 5, 15, 1)\n",
    "  min_samples_leaf = trial.suggest_int('min_samples_leaf', 2, 10, 1)\n",
    "  min_samples_split = trial.suggest_int('min_samples_split', 2, 10, 1)\n",
    "\n",
    "  # создаем модель\n",
    "  model = GradientBoostingRegressor(n_estimators=n_estimators,\n",
    "                                    max_depth=max_depth,\n",
    "                                    min_samples_leaf=min_samples_leaf,\n",
    "                                    min_samples_split=min_samples_split,\n",
    "                                    random_state=42)\n",
    "  # обучаем модель\n",
    "  model.fit(X_train_scaled, y_train)\n",
    "  score = metrics.r2_score(y_valid, model.predict(X_valid_scaled))\n",
    "\n",
    "  return score  "
   ]
  },
  {
   "cell_type": "code",
   "execution_count": 89,
   "metadata": {},
   "outputs": [
    {
     "name": "stderr",
     "output_type": "stream",
     "text": [
      "\u001b[32m[I 2023-11-17 14:46:59,183]\u001b[0m A new study created in memory with name: GradientBoostingRegressor\u001b[0m\n"
     ]
    },
    {
     "name": "stderr",
     "output_type": "stream",
     "text": [
      "\u001b[32m[I 2023-11-17 14:56:23,483]\u001b[0m Trial 0 finished with value: 0.8507679524080924 and parameters: {'n_estimators': 140, 'max_depth': 15, 'min_samples_leaf': 3, 'min_samples_split': 7}. Best is trial 0 with value: 0.8507679524080924.\u001b[0m\n",
      "\u001b[32m[I 2023-11-17 15:01:06,234]\u001b[0m Trial 1 finished with value: 0.8361117328928349 and parameters: {'n_estimators': 110, 'max_depth': 10, 'min_samples_leaf': 3, 'min_samples_split': 2}. Best is trial 0 with value: 0.8507679524080924.\u001b[0m\n",
      "\u001b[32m[I 2023-11-17 15:05:40,527]\u001b[0m Trial 2 finished with value: 0.840221780843128 and parameters: {'n_estimators': 100, 'max_depth': 11, 'min_samples_leaf': 7, 'min_samples_split': 6}. Best is trial 0 with value: 0.8507679524080924.\u001b[0m\n",
      "\u001b[32m[I 2023-11-17 15:10:33,755]\u001b[0m Trial 3 finished with value: 0.8181954011391979 and parameters: {'n_estimators': 150, 'max_depth': 8, 'min_samples_leaf': 2, 'min_samples_split': 7}. Best is trial 0 with value: 0.8507679524080924.\u001b[0m\n",
      "\u001b[32m[I 2023-11-17 15:15:56,024]\u001b[0m Trial 4 finished with value: 0.8316734287820924 and parameters: {'n_estimators': 140, 'max_depth': 9, 'min_samples_leaf': 5, 'min_samples_split': 5}. Best is trial 0 with value: 0.8507679524080924.\u001b[0m\n",
      "\u001b[32m[I 2023-11-17 15:18:50,558]\u001b[0m Trial 5 finished with value: 0.7699173992377615 and parameters: {'n_estimators': 130, 'max_depth': 6, 'min_samples_leaf': 6, 'min_samples_split': 9}. Best is trial 0 with value: 0.8507679524080924.\u001b[0m\n",
      "\u001b[32m[I 2023-11-17 15:24:57,447]\u001b[0m Trial 6 finished with value: 0.85042769279005 and parameters: {'n_estimators': 110, 'max_depth': 14, 'min_samples_leaf': 6, 'min_samples_split': 5}. Best is trial 0 with value: 0.8507679524080924.\u001b[0m\n",
      "\u001b[32m[I 2023-11-17 15:31:06,290]\u001b[0m Trial 7 finished with value: 0.8472131015087079 and parameters: {'n_estimators': 140, 'max_depth': 11, 'min_samples_leaf': 6, 'min_samples_split': 6}. Best is trial 0 with value: 0.8507679524080924.\u001b[0m\n",
      "\u001b[32m[I 2023-11-17 15:35:03,938]\u001b[0m Trial 8 finished with value: 0.7791392726902103 and parameters: {'n_estimators': 150, 'max_depth': 6, 'min_samples_leaf': 3, 'min_samples_split': 2}. Best is trial 0 with value: 0.8507679524080924.\u001b[0m\n",
      "\u001b[32m[I 2023-11-17 15:38:28,866]\u001b[0m Trial 9 finished with value: 0.824303722314243 and parameters: {'n_estimators': 80, 'max_depth': 10, 'min_samples_leaf': 2, 'min_samples_split': 2}. Best is trial 0 with value: 0.8507679524080924.\u001b[0m\n"
     ]
    },
    {
     "name": "stdout",
     "output_type": "stream",
     "text": [
      "CPU times: total: 51min 2s\n",
      "Wall time: 51min 29s\n"
     ]
    }
   ],
   "source": [
    "%%time\n",
    "# cоздаем объект исследования\n",
    "# можем напрямую указать, что нам необходимо максимизировать метрику direction=\"maximize\"\n",
    "study = optuna.create_study(study_name=\"GradientBoostingRegressor\", direction=\"maximize\")\n",
    "# ищем лучшую комбинацию гиперпараметров n_trials раз\n",
    "study.optimize(optuna_rf, n_trials=10)"
   ]
  },
  {
   "cell_type": "code",
   "execution_count": 90,
   "metadata": {},
   "outputs": [
    {
     "data": {
      "application/vnd.plotly.v1+json": {
       "config": {
        "plotlyServerURL": "https://plot.ly"
       },
       "data": [
        {
         "mode": "markers",
         "name": "r2_score",
         "type": "scatter",
         "x": [
          0,
          1,
          2,
          3,
          4,
          5,
          6,
          7,
          8,
          9
         ],
         "y": [
          0.8507679524080924,
          0.8361117328928349,
          0.840221780843128,
          0.8181954011391979,
          0.8316734287820924,
          0.7699173992377615,
          0.85042769279005,
          0.8472131015087079,
          0.7791392726902103,
          0.824303722314243
         ]
        },
        {
         "name": "Best Value",
         "type": "scatter",
         "x": [
          0,
          1,
          2,
          3,
          4,
          5,
          6,
          7,
          8,
          9
         ],
         "y": [
          0.8507679524080924,
          0.8507679524080924,
          0.8507679524080924,
          0.8507679524080924,
          0.8507679524080924,
          0.8507679524080924,
          0.8507679524080924,
          0.8507679524080924,
          0.8507679524080924,
          0.8507679524080924
         ]
        }
       ],
       "layout": {
        "template": {
         "data": {
          "bar": [
           {
            "error_x": {
             "color": "#2a3f5f"
            },
            "error_y": {
             "color": "#2a3f5f"
            },
            "marker": {
             "line": {
              "color": "#E5ECF6",
              "width": 0.5
             },
             "pattern": {
              "fillmode": "overlay",
              "size": 10,
              "solidity": 0.2
             }
            },
            "type": "bar"
           }
          ],
          "barpolar": [
           {
            "marker": {
             "line": {
              "color": "#E5ECF6",
              "width": 0.5
             },
             "pattern": {
              "fillmode": "overlay",
              "size": 10,
              "solidity": 0.2
             }
            },
            "type": "barpolar"
           }
          ],
          "carpet": [
           {
            "aaxis": {
             "endlinecolor": "#2a3f5f",
             "gridcolor": "white",
             "linecolor": "white",
             "minorgridcolor": "white",
             "startlinecolor": "#2a3f5f"
            },
            "baxis": {
             "endlinecolor": "#2a3f5f",
             "gridcolor": "white",
             "linecolor": "white",
             "minorgridcolor": "white",
             "startlinecolor": "#2a3f5f"
            },
            "type": "carpet"
           }
          ],
          "choropleth": [
           {
            "colorbar": {
             "outlinewidth": 0,
             "ticks": ""
            },
            "type": "choropleth"
           }
          ],
          "contour": [
           {
            "colorbar": {
             "outlinewidth": 0,
             "ticks": ""
            },
            "colorscale": [
             [
              0,
              "#0d0887"
             ],
             [
              0.1111111111111111,
              "#46039f"
             ],
             [
              0.2222222222222222,
              "#7201a8"
             ],
             [
              0.3333333333333333,
              "#9c179e"
             ],
             [
              0.4444444444444444,
              "#bd3786"
             ],
             [
              0.5555555555555556,
              "#d8576b"
             ],
             [
              0.6666666666666666,
              "#ed7953"
             ],
             [
              0.7777777777777778,
              "#fb9f3a"
             ],
             [
              0.8888888888888888,
              "#fdca26"
             ],
             [
              1,
              "#f0f921"
             ]
            ],
            "type": "contour"
           }
          ],
          "contourcarpet": [
           {
            "colorbar": {
             "outlinewidth": 0,
             "ticks": ""
            },
            "type": "contourcarpet"
           }
          ],
          "heatmap": [
           {
            "colorbar": {
             "outlinewidth": 0,
             "ticks": ""
            },
            "colorscale": [
             [
              0,
              "#0d0887"
             ],
             [
              0.1111111111111111,
              "#46039f"
             ],
             [
              0.2222222222222222,
              "#7201a8"
             ],
             [
              0.3333333333333333,
              "#9c179e"
             ],
             [
              0.4444444444444444,
              "#bd3786"
             ],
             [
              0.5555555555555556,
              "#d8576b"
             ],
             [
              0.6666666666666666,
              "#ed7953"
             ],
             [
              0.7777777777777778,
              "#fb9f3a"
             ],
             [
              0.8888888888888888,
              "#fdca26"
             ],
             [
              1,
              "#f0f921"
             ]
            ],
            "type": "heatmap"
           }
          ],
          "heatmapgl": [
           {
            "colorbar": {
             "outlinewidth": 0,
             "ticks": ""
            },
            "colorscale": [
             [
              0,
              "#0d0887"
             ],
             [
              0.1111111111111111,
              "#46039f"
             ],
             [
              0.2222222222222222,
              "#7201a8"
             ],
             [
              0.3333333333333333,
              "#9c179e"
             ],
             [
              0.4444444444444444,
              "#bd3786"
             ],
             [
              0.5555555555555556,
              "#d8576b"
             ],
             [
              0.6666666666666666,
              "#ed7953"
             ],
             [
              0.7777777777777778,
              "#fb9f3a"
             ],
             [
              0.8888888888888888,
              "#fdca26"
             ],
             [
              1,
              "#f0f921"
             ]
            ],
            "type": "heatmapgl"
           }
          ],
          "histogram": [
           {
            "marker": {
             "pattern": {
              "fillmode": "overlay",
              "size": 10,
              "solidity": 0.2
             }
            },
            "type": "histogram"
           }
          ],
          "histogram2d": [
           {
            "colorbar": {
             "outlinewidth": 0,
             "ticks": ""
            },
            "colorscale": [
             [
              0,
              "#0d0887"
             ],
             [
              0.1111111111111111,
              "#46039f"
             ],
             [
              0.2222222222222222,
              "#7201a8"
             ],
             [
              0.3333333333333333,
              "#9c179e"
             ],
             [
              0.4444444444444444,
              "#bd3786"
             ],
             [
              0.5555555555555556,
              "#d8576b"
             ],
             [
              0.6666666666666666,
              "#ed7953"
             ],
             [
              0.7777777777777778,
              "#fb9f3a"
             ],
             [
              0.8888888888888888,
              "#fdca26"
             ],
             [
              1,
              "#f0f921"
             ]
            ],
            "type": "histogram2d"
           }
          ],
          "histogram2dcontour": [
           {
            "colorbar": {
             "outlinewidth": 0,
             "ticks": ""
            },
            "colorscale": [
             [
              0,
              "#0d0887"
             ],
             [
              0.1111111111111111,
              "#46039f"
             ],
             [
              0.2222222222222222,
              "#7201a8"
             ],
             [
              0.3333333333333333,
              "#9c179e"
             ],
             [
              0.4444444444444444,
              "#bd3786"
             ],
             [
              0.5555555555555556,
              "#d8576b"
             ],
             [
              0.6666666666666666,
              "#ed7953"
             ],
             [
              0.7777777777777778,
              "#fb9f3a"
             ],
             [
              0.8888888888888888,
              "#fdca26"
             ],
             [
              1,
              "#f0f921"
             ]
            ],
            "type": "histogram2dcontour"
           }
          ],
          "mesh3d": [
           {
            "colorbar": {
             "outlinewidth": 0,
             "ticks": ""
            },
            "type": "mesh3d"
           }
          ],
          "parcoords": [
           {
            "line": {
             "colorbar": {
              "outlinewidth": 0,
              "ticks": ""
             }
            },
            "type": "parcoords"
           }
          ],
          "pie": [
           {
            "automargin": true,
            "type": "pie"
           }
          ],
          "scatter": [
           {
            "fillpattern": {
             "fillmode": "overlay",
             "size": 10,
             "solidity": 0.2
            },
            "type": "scatter"
           }
          ],
          "scatter3d": [
           {
            "line": {
             "colorbar": {
              "outlinewidth": 0,
              "ticks": ""
             }
            },
            "marker": {
             "colorbar": {
              "outlinewidth": 0,
              "ticks": ""
             }
            },
            "type": "scatter3d"
           }
          ],
          "scattercarpet": [
           {
            "marker": {
             "colorbar": {
              "outlinewidth": 0,
              "ticks": ""
             }
            },
            "type": "scattercarpet"
           }
          ],
          "scattergeo": [
           {
            "marker": {
             "colorbar": {
              "outlinewidth": 0,
              "ticks": ""
             }
            },
            "type": "scattergeo"
           }
          ],
          "scattergl": [
           {
            "marker": {
             "colorbar": {
              "outlinewidth": 0,
              "ticks": ""
             }
            },
            "type": "scattergl"
           }
          ],
          "scattermapbox": [
           {
            "marker": {
             "colorbar": {
              "outlinewidth": 0,
              "ticks": ""
             }
            },
            "type": "scattermapbox"
           }
          ],
          "scatterpolar": [
           {
            "marker": {
             "colorbar": {
              "outlinewidth": 0,
              "ticks": ""
             }
            },
            "type": "scatterpolar"
           }
          ],
          "scatterpolargl": [
           {
            "marker": {
             "colorbar": {
              "outlinewidth": 0,
              "ticks": ""
             }
            },
            "type": "scatterpolargl"
           }
          ],
          "scatterternary": [
           {
            "marker": {
             "colorbar": {
              "outlinewidth": 0,
              "ticks": ""
             }
            },
            "type": "scatterternary"
           }
          ],
          "surface": [
           {
            "colorbar": {
             "outlinewidth": 0,
             "ticks": ""
            },
            "colorscale": [
             [
              0,
              "#0d0887"
             ],
             [
              0.1111111111111111,
              "#46039f"
             ],
             [
              0.2222222222222222,
              "#7201a8"
             ],
             [
              0.3333333333333333,
              "#9c179e"
             ],
             [
              0.4444444444444444,
              "#bd3786"
             ],
             [
              0.5555555555555556,
              "#d8576b"
             ],
             [
              0.6666666666666666,
              "#ed7953"
             ],
             [
              0.7777777777777778,
              "#fb9f3a"
             ],
             [
              0.8888888888888888,
              "#fdca26"
             ],
             [
              1,
              "#f0f921"
             ]
            ],
            "type": "surface"
           }
          ],
          "table": [
           {
            "cells": {
             "fill": {
              "color": "#EBF0F8"
             },
             "line": {
              "color": "white"
             }
            },
            "header": {
             "fill": {
              "color": "#C8D4E3"
             },
             "line": {
              "color": "white"
             }
            },
            "type": "table"
           }
          ]
         },
         "layout": {
          "annotationdefaults": {
           "arrowcolor": "#2a3f5f",
           "arrowhead": 0,
           "arrowwidth": 1
          },
          "autotypenumbers": "strict",
          "coloraxis": {
           "colorbar": {
            "outlinewidth": 0,
            "ticks": ""
           }
          },
          "colorscale": {
           "diverging": [
            [
             0,
             "#8e0152"
            ],
            [
             0.1,
             "#c51b7d"
            ],
            [
             0.2,
             "#de77ae"
            ],
            [
             0.3,
             "#f1b6da"
            ],
            [
             0.4,
             "#fde0ef"
            ],
            [
             0.5,
             "#f7f7f7"
            ],
            [
             0.6,
             "#e6f5d0"
            ],
            [
             0.7,
             "#b8e186"
            ],
            [
             0.8,
             "#7fbc41"
            ],
            [
             0.9,
             "#4d9221"
            ],
            [
             1,
             "#276419"
            ]
           ],
           "sequential": [
            [
             0,
             "#0d0887"
            ],
            [
             0.1111111111111111,
             "#46039f"
            ],
            [
             0.2222222222222222,
             "#7201a8"
            ],
            [
             0.3333333333333333,
             "#9c179e"
            ],
            [
             0.4444444444444444,
             "#bd3786"
            ],
            [
             0.5555555555555556,
             "#d8576b"
            ],
            [
             0.6666666666666666,
             "#ed7953"
            ],
            [
             0.7777777777777778,
             "#fb9f3a"
            ],
            [
             0.8888888888888888,
             "#fdca26"
            ],
            [
             1,
             "#f0f921"
            ]
           ],
           "sequentialminus": [
            [
             0,
             "#0d0887"
            ],
            [
             0.1111111111111111,
             "#46039f"
            ],
            [
             0.2222222222222222,
             "#7201a8"
            ],
            [
             0.3333333333333333,
             "#9c179e"
            ],
            [
             0.4444444444444444,
             "#bd3786"
            ],
            [
             0.5555555555555556,
             "#d8576b"
            ],
            [
             0.6666666666666666,
             "#ed7953"
            ],
            [
             0.7777777777777778,
             "#fb9f3a"
            ],
            [
             0.8888888888888888,
             "#fdca26"
            ],
            [
             1,
             "#f0f921"
            ]
           ]
          },
          "colorway": [
           "#636efa",
           "#EF553B",
           "#00cc96",
           "#ab63fa",
           "#FFA15A",
           "#19d3f3",
           "#FF6692",
           "#B6E880",
           "#FF97FF",
           "#FECB52"
          ],
          "font": {
           "color": "#2a3f5f"
          },
          "geo": {
           "bgcolor": "white",
           "lakecolor": "white",
           "landcolor": "#E5ECF6",
           "showlakes": true,
           "showland": true,
           "subunitcolor": "white"
          },
          "hoverlabel": {
           "align": "left"
          },
          "hovermode": "closest",
          "mapbox": {
           "style": "light"
          },
          "paper_bgcolor": "white",
          "plot_bgcolor": "#E5ECF6",
          "polar": {
           "angularaxis": {
            "gridcolor": "white",
            "linecolor": "white",
            "ticks": ""
           },
           "bgcolor": "#E5ECF6",
           "radialaxis": {
            "gridcolor": "white",
            "linecolor": "white",
            "ticks": ""
           }
          },
          "scene": {
           "xaxis": {
            "backgroundcolor": "#E5ECF6",
            "gridcolor": "white",
            "gridwidth": 2,
            "linecolor": "white",
            "showbackground": true,
            "ticks": "",
            "zerolinecolor": "white"
           },
           "yaxis": {
            "backgroundcolor": "#E5ECF6",
            "gridcolor": "white",
            "gridwidth": 2,
            "linecolor": "white",
            "showbackground": true,
            "ticks": "",
            "zerolinecolor": "white"
           },
           "zaxis": {
            "backgroundcolor": "#E5ECF6",
            "gridcolor": "white",
            "gridwidth": 2,
            "linecolor": "white",
            "showbackground": true,
            "ticks": "",
            "zerolinecolor": "white"
           }
          },
          "shapedefaults": {
           "line": {
            "color": "#2a3f5f"
           }
          },
          "ternary": {
           "aaxis": {
            "gridcolor": "white",
            "linecolor": "white",
            "ticks": ""
           },
           "baxis": {
            "gridcolor": "white",
            "linecolor": "white",
            "ticks": ""
           },
           "bgcolor": "#E5ECF6",
           "caxis": {
            "gridcolor": "white",
            "linecolor": "white",
            "ticks": ""
           }
          },
          "title": {
           "x": 0.05
          },
          "xaxis": {
           "automargin": true,
           "gridcolor": "white",
           "linecolor": "white",
           "ticks": "",
           "title": {
            "standoff": 15
           },
           "zerolinecolor": "white",
           "zerolinewidth": 2
          },
          "yaxis": {
           "automargin": true,
           "gridcolor": "white",
           "linecolor": "white",
           "ticks": "",
           "title": {
            "standoff": 15
           },
           "zerolinecolor": "white",
           "zerolinewidth": 2
          }
         }
        },
        "title": {
         "text": "Optimization History Plot"
        },
        "xaxis": {
         "title": {
          "text": "Trial"
         }
        },
        "yaxis": {
         "title": {
          "text": "r2_score"
         }
        }
       }
      }
     },
     "metadata": {},
     "output_type": "display_data"
    }
   ],
   "source": [
    "optuna.visualization.plot_optimization_history(study, target_name=\"r2_score\")"
   ]
  },
  {
   "cell_type": "code",
   "execution_count": 91,
   "metadata": {},
   "outputs": [
    {
     "data": {
      "application/vnd.plotly.v1+json": {
       "config": {
        "plotlyServerURL": "https://plot.ly"
       },
       "data": [
        {
         "cliponaxis": false,
         "hovertemplate": [
          "n_estimators (IntDistribution): 0.046759418734902615<extra></extra>",
          "min_samples_leaf (IntDistribution): 0.0522350079154836<extra></extra>",
          "min_samples_split (IntDistribution): 0.10875898546569228<extra></extra>",
          "max_depth (IntDistribution): 0.7922465878839215<extra></extra>"
         ],
         "marker": {
          "color": "rgb(66,146,198)"
         },
         "orientation": "h",
         "text": [
          "0.05",
          "0.05",
          "0.11",
          "0.79"
         ],
         "textposition": "outside",
         "type": "bar",
         "x": [
          0.046759418734902615,
          0.0522350079154836,
          0.10875898546569228,
          0.7922465878839215
         ],
         "y": [
          "n_estimators",
          "min_samples_leaf",
          "min_samples_split",
          "max_depth"
         ]
        }
       ],
       "layout": {
        "showlegend": false,
        "template": {
         "data": {
          "bar": [
           {
            "error_x": {
             "color": "#2a3f5f"
            },
            "error_y": {
             "color": "#2a3f5f"
            },
            "marker": {
             "line": {
              "color": "#E5ECF6",
              "width": 0.5
             },
             "pattern": {
              "fillmode": "overlay",
              "size": 10,
              "solidity": 0.2
             }
            },
            "type": "bar"
           }
          ],
          "barpolar": [
           {
            "marker": {
             "line": {
              "color": "#E5ECF6",
              "width": 0.5
             },
             "pattern": {
              "fillmode": "overlay",
              "size": 10,
              "solidity": 0.2
             }
            },
            "type": "barpolar"
           }
          ],
          "carpet": [
           {
            "aaxis": {
             "endlinecolor": "#2a3f5f",
             "gridcolor": "white",
             "linecolor": "white",
             "minorgridcolor": "white",
             "startlinecolor": "#2a3f5f"
            },
            "baxis": {
             "endlinecolor": "#2a3f5f",
             "gridcolor": "white",
             "linecolor": "white",
             "minorgridcolor": "white",
             "startlinecolor": "#2a3f5f"
            },
            "type": "carpet"
           }
          ],
          "choropleth": [
           {
            "colorbar": {
             "outlinewidth": 0,
             "ticks": ""
            },
            "type": "choropleth"
           }
          ],
          "contour": [
           {
            "colorbar": {
             "outlinewidth": 0,
             "ticks": ""
            },
            "colorscale": [
             [
              0,
              "#0d0887"
             ],
             [
              0.1111111111111111,
              "#46039f"
             ],
             [
              0.2222222222222222,
              "#7201a8"
             ],
             [
              0.3333333333333333,
              "#9c179e"
             ],
             [
              0.4444444444444444,
              "#bd3786"
             ],
             [
              0.5555555555555556,
              "#d8576b"
             ],
             [
              0.6666666666666666,
              "#ed7953"
             ],
             [
              0.7777777777777778,
              "#fb9f3a"
             ],
             [
              0.8888888888888888,
              "#fdca26"
             ],
             [
              1,
              "#f0f921"
             ]
            ],
            "type": "contour"
           }
          ],
          "contourcarpet": [
           {
            "colorbar": {
             "outlinewidth": 0,
             "ticks": ""
            },
            "type": "contourcarpet"
           }
          ],
          "heatmap": [
           {
            "colorbar": {
             "outlinewidth": 0,
             "ticks": ""
            },
            "colorscale": [
             [
              0,
              "#0d0887"
             ],
             [
              0.1111111111111111,
              "#46039f"
             ],
             [
              0.2222222222222222,
              "#7201a8"
             ],
             [
              0.3333333333333333,
              "#9c179e"
             ],
             [
              0.4444444444444444,
              "#bd3786"
             ],
             [
              0.5555555555555556,
              "#d8576b"
             ],
             [
              0.6666666666666666,
              "#ed7953"
             ],
             [
              0.7777777777777778,
              "#fb9f3a"
             ],
             [
              0.8888888888888888,
              "#fdca26"
             ],
             [
              1,
              "#f0f921"
             ]
            ],
            "type": "heatmap"
           }
          ],
          "heatmapgl": [
           {
            "colorbar": {
             "outlinewidth": 0,
             "ticks": ""
            },
            "colorscale": [
             [
              0,
              "#0d0887"
             ],
             [
              0.1111111111111111,
              "#46039f"
             ],
             [
              0.2222222222222222,
              "#7201a8"
             ],
             [
              0.3333333333333333,
              "#9c179e"
             ],
             [
              0.4444444444444444,
              "#bd3786"
             ],
             [
              0.5555555555555556,
              "#d8576b"
             ],
             [
              0.6666666666666666,
              "#ed7953"
             ],
             [
              0.7777777777777778,
              "#fb9f3a"
             ],
             [
              0.8888888888888888,
              "#fdca26"
             ],
             [
              1,
              "#f0f921"
             ]
            ],
            "type": "heatmapgl"
           }
          ],
          "histogram": [
           {
            "marker": {
             "pattern": {
              "fillmode": "overlay",
              "size": 10,
              "solidity": 0.2
             }
            },
            "type": "histogram"
           }
          ],
          "histogram2d": [
           {
            "colorbar": {
             "outlinewidth": 0,
             "ticks": ""
            },
            "colorscale": [
             [
              0,
              "#0d0887"
             ],
             [
              0.1111111111111111,
              "#46039f"
             ],
             [
              0.2222222222222222,
              "#7201a8"
             ],
             [
              0.3333333333333333,
              "#9c179e"
             ],
             [
              0.4444444444444444,
              "#bd3786"
             ],
             [
              0.5555555555555556,
              "#d8576b"
             ],
             [
              0.6666666666666666,
              "#ed7953"
             ],
             [
              0.7777777777777778,
              "#fb9f3a"
             ],
             [
              0.8888888888888888,
              "#fdca26"
             ],
             [
              1,
              "#f0f921"
             ]
            ],
            "type": "histogram2d"
           }
          ],
          "histogram2dcontour": [
           {
            "colorbar": {
             "outlinewidth": 0,
             "ticks": ""
            },
            "colorscale": [
             [
              0,
              "#0d0887"
             ],
             [
              0.1111111111111111,
              "#46039f"
             ],
             [
              0.2222222222222222,
              "#7201a8"
             ],
             [
              0.3333333333333333,
              "#9c179e"
             ],
             [
              0.4444444444444444,
              "#bd3786"
             ],
             [
              0.5555555555555556,
              "#d8576b"
             ],
             [
              0.6666666666666666,
              "#ed7953"
             ],
             [
              0.7777777777777778,
              "#fb9f3a"
             ],
             [
              0.8888888888888888,
              "#fdca26"
             ],
             [
              1,
              "#f0f921"
             ]
            ],
            "type": "histogram2dcontour"
           }
          ],
          "mesh3d": [
           {
            "colorbar": {
             "outlinewidth": 0,
             "ticks": ""
            },
            "type": "mesh3d"
           }
          ],
          "parcoords": [
           {
            "line": {
             "colorbar": {
              "outlinewidth": 0,
              "ticks": ""
             }
            },
            "type": "parcoords"
           }
          ],
          "pie": [
           {
            "automargin": true,
            "type": "pie"
           }
          ],
          "scatter": [
           {
            "fillpattern": {
             "fillmode": "overlay",
             "size": 10,
             "solidity": 0.2
            },
            "type": "scatter"
           }
          ],
          "scatter3d": [
           {
            "line": {
             "colorbar": {
              "outlinewidth": 0,
              "ticks": ""
             }
            },
            "marker": {
             "colorbar": {
              "outlinewidth": 0,
              "ticks": ""
             }
            },
            "type": "scatter3d"
           }
          ],
          "scattercarpet": [
           {
            "marker": {
             "colorbar": {
              "outlinewidth": 0,
              "ticks": ""
             }
            },
            "type": "scattercarpet"
           }
          ],
          "scattergeo": [
           {
            "marker": {
             "colorbar": {
              "outlinewidth": 0,
              "ticks": ""
             }
            },
            "type": "scattergeo"
           }
          ],
          "scattergl": [
           {
            "marker": {
             "colorbar": {
              "outlinewidth": 0,
              "ticks": ""
             }
            },
            "type": "scattergl"
           }
          ],
          "scattermapbox": [
           {
            "marker": {
             "colorbar": {
              "outlinewidth": 0,
              "ticks": ""
             }
            },
            "type": "scattermapbox"
           }
          ],
          "scatterpolar": [
           {
            "marker": {
             "colorbar": {
              "outlinewidth": 0,
              "ticks": ""
             }
            },
            "type": "scatterpolar"
           }
          ],
          "scatterpolargl": [
           {
            "marker": {
             "colorbar": {
              "outlinewidth": 0,
              "ticks": ""
             }
            },
            "type": "scatterpolargl"
           }
          ],
          "scatterternary": [
           {
            "marker": {
             "colorbar": {
              "outlinewidth": 0,
              "ticks": ""
             }
            },
            "type": "scatterternary"
           }
          ],
          "surface": [
           {
            "colorbar": {
             "outlinewidth": 0,
             "ticks": ""
            },
            "colorscale": [
             [
              0,
              "#0d0887"
             ],
             [
              0.1111111111111111,
              "#46039f"
             ],
             [
              0.2222222222222222,
              "#7201a8"
             ],
             [
              0.3333333333333333,
              "#9c179e"
             ],
             [
              0.4444444444444444,
              "#bd3786"
             ],
             [
              0.5555555555555556,
              "#d8576b"
             ],
             [
              0.6666666666666666,
              "#ed7953"
             ],
             [
              0.7777777777777778,
              "#fb9f3a"
             ],
             [
              0.8888888888888888,
              "#fdca26"
             ],
             [
              1,
              "#f0f921"
             ]
            ],
            "type": "surface"
           }
          ],
          "table": [
           {
            "cells": {
             "fill": {
              "color": "#EBF0F8"
             },
             "line": {
              "color": "white"
             }
            },
            "header": {
             "fill": {
              "color": "#C8D4E3"
             },
             "line": {
              "color": "white"
             }
            },
            "type": "table"
           }
          ]
         },
         "layout": {
          "annotationdefaults": {
           "arrowcolor": "#2a3f5f",
           "arrowhead": 0,
           "arrowwidth": 1
          },
          "autotypenumbers": "strict",
          "coloraxis": {
           "colorbar": {
            "outlinewidth": 0,
            "ticks": ""
           }
          },
          "colorscale": {
           "diverging": [
            [
             0,
             "#8e0152"
            ],
            [
             0.1,
             "#c51b7d"
            ],
            [
             0.2,
             "#de77ae"
            ],
            [
             0.3,
             "#f1b6da"
            ],
            [
             0.4,
             "#fde0ef"
            ],
            [
             0.5,
             "#f7f7f7"
            ],
            [
             0.6,
             "#e6f5d0"
            ],
            [
             0.7,
             "#b8e186"
            ],
            [
             0.8,
             "#7fbc41"
            ],
            [
             0.9,
             "#4d9221"
            ],
            [
             1,
             "#276419"
            ]
           ],
           "sequential": [
            [
             0,
             "#0d0887"
            ],
            [
             0.1111111111111111,
             "#46039f"
            ],
            [
             0.2222222222222222,
             "#7201a8"
            ],
            [
             0.3333333333333333,
             "#9c179e"
            ],
            [
             0.4444444444444444,
             "#bd3786"
            ],
            [
             0.5555555555555556,
             "#d8576b"
            ],
            [
             0.6666666666666666,
             "#ed7953"
            ],
            [
             0.7777777777777778,
             "#fb9f3a"
            ],
            [
             0.8888888888888888,
             "#fdca26"
            ],
            [
             1,
             "#f0f921"
            ]
           ],
           "sequentialminus": [
            [
             0,
             "#0d0887"
            ],
            [
             0.1111111111111111,
             "#46039f"
            ],
            [
             0.2222222222222222,
             "#7201a8"
            ],
            [
             0.3333333333333333,
             "#9c179e"
            ],
            [
             0.4444444444444444,
             "#bd3786"
            ],
            [
             0.5555555555555556,
             "#d8576b"
            ],
            [
             0.6666666666666666,
             "#ed7953"
            ],
            [
             0.7777777777777778,
             "#fb9f3a"
            ],
            [
             0.8888888888888888,
             "#fdca26"
            ],
            [
             1,
             "#f0f921"
            ]
           ]
          },
          "colorway": [
           "#636efa",
           "#EF553B",
           "#00cc96",
           "#ab63fa",
           "#FFA15A",
           "#19d3f3",
           "#FF6692",
           "#B6E880",
           "#FF97FF",
           "#FECB52"
          ],
          "font": {
           "color": "#2a3f5f"
          },
          "geo": {
           "bgcolor": "white",
           "lakecolor": "white",
           "landcolor": "#E5ECF6",
           "showlakes": true,
           "showland": true,
           "subunitcolor": "white"
          },
          "hoverlabel": {
           "align": "left"
          },
          "hovermode": "closest",
          "mapbox": {
           "style": "light"
          },
          "paper_bgcolor": "white",
          "plot_bgcolor": "#E5ECF6",
          "polar": {
           "angularaxis": {
            "gridcolor": "white",
            "linecolor": "white",
            "ticks": ""
           },
           "bgcolor": "#E5ECF6",
           "radialaxis": {
            "gridcolor": "white",
            "linecolor": "white",
            "ticks": ""
           }
          },
          "scene": {
           "xaxis": {
            "backgroundcolor": "#E5ECF6",
            "gridcolor": "white",
            "gridwidth": 2,
            "linecolor": "white",
            "showbackground": true,
            "ticks": "",
            "zerolinecolor": "white"
           },
           "yaxis": {
            "backgroundcolor": "#E5ECF6",
            "gridcolor": "white",
            "gridwidth": 2,
            "linecolor": "white",
            "showbackground": true,
            "ticks": "",
            "zerolinecolor": "white"
           },
           "zaxis": {
            "backgroundcolor": "#E5ECF6",
            "gridcolor": "white",
            "gridwidth": 2,
            "linecolor": "white",
            "showbackground": true,
            "ticks": "",
            "zerolinecolor": "white"
           }
          },
          "shapedefaults": {
           "line": {
            "color": "#2a3f5f"
           }
          },
          "ternary": {
           "aaxis": {
            "gridcolor": "white",
            "linecolor": "white",
            "ticks": ""
           },
           "baxis": {
            "gridcolor": "white",
            "linecolor": "white",
            "ticks": ""
           },
           "bgcolor": "#E5ECF6",
           "caxis": {
            "gridcolor": "white",
            "linecolor": "white",
            "ticks": ""
           }
          },
          "title": {
           "x": 0.05
          },
          "xaxis": {
           "automargin": true,
           "gridcolor": "white",
           "linecolor": "white",
           "ticks": "",
           "title": {
            "standoff": 15
           },
           "zerolinecolor": "white",
           "zerolinewidth": 2
          },
          "yaxis": {
           "automargin": true,
           "gridcolor": "white",
           "linecolor": "white",
           "ticks": "",
           "title": {
            "standoff": 15
           },
           "zerolinecolor": "white",
           "zerolinewidth": 2
          }
         }
        },
        "title": {
         "text": "Hyperparameter Importances"
        },
        "xaxis": {
         "title": {
          "text": "Importance for r2_score"
         }
        },
        "yaxis": {
         "title": {
          "text": "Hyperparameter"
         }
        }
       }
      }
     },
     "metadata": {},
     "output_type": "display_data"
    }
   ],
   "source": [
    "optuna.visualization.plot_param_importances(study, target_name=\"r2_score\")"
   ]
  },
  {
   "cell_type": "markdown",
   "metadata": {},
   "source": [
    "# 4. Обучение и сериализация модели"
   ]
  },
  {
   "cell_type": "code",
   "execution_count": 20,
   "metadata": {},
   "outputs": [
    {
     "name": "stdout",
     "output_type": "stream",
     "text": [
      "MAE score: 95193 $\n",
      "MAPE score: 34 %\n",
      "Train R^2: 0.967\n",
      "Test R^2: 0.850\n"
     ]
    }
   ],
   "source": [
    "# Градиентный бустинг\n",
    "gb = GradientBoostingRegressor(\n",
    "    learning_rate=0.1, #темп обучения\n",
    "    n_estimators=140, #число деревьев\n",
    "    max_depth=15, #максимальная глубина дерева\n",
    "    min_samples_leaf = 3,\n",
    "    min_samples_split = 7,\n",
    "    random_state=42 #генератор случайных чисел\n",
    ")\n",
    "gb.fit(X_train_scaled, y_train)\n",
    "#Предсказываем результат и Выводим значения метрики \n",
    "y_train_predict = gb.predict(X_train_scaled)\n",
    "y_test_predict = gb.predict(X_test_scaled)\n",
    "#Рассчитываем MAE\n",
    "print('MAE score: {:.0f} $'.format(metrics.mean_absolute_error(y_test, y_test_predict)))\n",
    "#Рассчитываем MAPE\n",
    "print('MAPE score: {:.0f} %'.format(metrics.mean_absolute_percentage_error(y_test, y_test_predict) * 100))\n",
    "#Рассчитываем коэффициент детерминации для двух выборок\n",
    "print(\"Train R^2: {:.3f}\".format(metrics.r2_score(y_train, y_train_predict)))\n",
    "print(\"Test R^2: {:.3f}\".format(metrics.r2_score(y_test, y_test_predict)))"
   ]
  },
  {
   "cell_type": "code",
   "execution_count": 19,
   "metadata": {},
   "outputs": [],
   "source": [
    "# Производим сериализацию и записываем результат в файл формата pkl\n",
    "with open('./web_app/app/models/model.pkl', 'wb') as output:\n",
    "    pickle.dump(gb, output)"
   ]
  },
  {
   "cell_type": "code",
   "execution_count": null,
   "metadata": {},
   "outputs": [
    {
     "data": {
      "text/plain": [
       "array([ 0.        ,  1.        ,  0.        ,  0.        ,  0.        ,\n",
       "        1.        ,  0.        ,  0.        ,  1.        ,  1.        ,\n",
       "        0.        ,  0.        ,  0.        ,  0.        ,  0.        ,\n",
       "        0.        ,  1.2163064 , -0.63090607,  1.00746778,  0.89683288,\n",
       "        0.75269365, -0.98306529, -0.72175106, -0.83519033, -0.89838434,\n",
       "       -0.01079481,  0.3046641 ,  1.1550326 , -0.05007235, -0.11633118,\n",
       "       -0.20226958,  0.69935238,  0.91646535, -0.19786638, -0.30033548])"
      ]
     },
     "execution_count": 224,
     "metadata": {},
     "output_type": "execute_result"
    }
   ],
   "source": [
    "X_test_scaled.loc[42].values"
   ]
  },
  {
   "cell_type": "code",
   "execution_count": null,
   "metadata": {},
   "outputs": [
    {
     "data": {
      "text/plain": [
       "Index(['heating_1', 'heating_4', 'heating_11', 'pool', 'status_1', 'status_2',\n",
       "       '1_story', '2_story', '3_story', 'type_1', 'type_5', 'type_6',\n",
       "       'type_10', 'type_34', 'type_38', 'type_39', 'baths', 'fireplace',\n",
       "       'sqft', 'zipcode', 'beds', 'Year built', 'Remodeled year',\n",
       "       'year_built_log', 'remodeled_year_log', 'lot_size', 'lot_size_log',\n",
       "       'sqft_log', 'school_count', 'school_distance_min',\n",
       "       'school_distance_avg', 'school_rating_avg', 'school_rating_prx',\n",
       "       'school_distance_min_log', 'school_distance_avg_log'],\n",
       "      dtype='object')"
      ]
     },
     "execution_count": 226,
     "metadata": {},
     "output_type": "execute_result"
    }
   ],
   "source": [
    "y_test.iloc[42]"
   ]
  }
 ],
 "metadata": {
  "kernelspec": {
   "display_name": "Python 3",
   "language": "python",
   "name": "python3"
  },
  "language_info": {
   "codemirror_mode": {
    "name": "ipython",
    "version": 3
   },
   "file_extension": ".py",
   "mimetype": "text/x-python",
   "name": "python",
   "nbconvert_exporter": "python",
   "pygments_lexer": "ipython3",
   "version": "3.10.4"
  }
 },
 "nbformat": 4,
 "nbformat_minor": 2
}
