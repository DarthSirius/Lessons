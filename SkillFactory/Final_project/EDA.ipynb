{
 "cells": [
  {
   "cell_type": "markdown",
   "metadata": {},
   "source": [
    "# Модель прогнозирования стоимости жилья для агентства недвижимости"
   ]
  },
  {
   "cell_type": "code",
   "execution_count": 173,
   "metadata": {},
   "outputs": [],
   "source": [
    "# загрузка библиотек\n",
    "import pandas as pd\n",
    "import numpy as np\n",
    "import matplotlib.pyplot as plt\n",
    "import seaborn as sns\n",
    "import re\n",
    "import category_encoders as ce"
   ]
  },
  {
   "cell_type": "markdown",
   "metadata": {},
   "source": [
    "# 1. Предварительная обработка данных"
   ]
  },
  {
   "cell_type": "code",
   "execution_count": 174,
   "metadata": {},
   "outputs": [
    {
     "name": "stdout",
     "output_type": "stream",
     "text": [
      "Data shape: (377185, 18)\n"
     ]
    },
    {
     "data": {
      "text/html": [
       "<div>\n",
       "<style scoped>\n",
       "    .dataframe tbody tr th:only-of-type {\n",
       "        vertical-align: middle;\n",
       "    }\n",
       "\n",
       "    .dataframe tbody tr th {\n",
       "        vertical-align: top;\n",
       "    }\n",
       "\n",
       "    .dataframe thead th {\n",
       "        text-align: right;\n",
       "    }\n",
       "</style>\n",
       "<table border=\"1\" class=\"dataframe\">\n",
       "  <thead>\n",
       "    <tr style=\"text-align: right;\">\n",
       "      <th></th>\n",
       "      <th>status</th>\n",
       "      <th>private pool</th>\n",
       "      <th>propertyType</th>\n",
       "      <th>street</th>\n",
       "      <th>baths</th>\n",
       "      <th>homeFacts</th>\n",
       "      <th>fireplace</th>\n",
       "      <th>city</th>\n",
       "      <th>schools</th>\n",
       "      <th>sqft</th>\n",
       "      <th>zipcode</th>\n",
       "      <th>beds</th>\n",
       "      <th>state</th>\n",
       "      <th>stories</th>\n",
       "      <th>mls-id</th>\n",
       "      <th>PrivatePool</th>\n",
       "      <th>MlsId</th>\n",
       "      <th>target</th>\n",
       "    </tr>\n",
       "  </thead>\n",
       "  <tbody>\n",
       "    <tr>\n",
       "      <th>0</th>\n",
       "      <td>Active</td>\n",
       "      <td>NaN</td>\n",
       "      <td>Single Family Home</td>\n",
       "      <td>240 Heather Ln</td>\n",
       "      <td>3.5</td>\n",
       "      <td>{'atAGlanceFacts': [{'factValue': '2019', 'fac...</td>\n",
       "      <td>Gas Logs</td>\n",
       "      <td>Southern Pines</td>\n",
       "      <td>[{'rating': ['4', '4', '7', 'NR', '4', '7', 'N...</td>\n",
       "      <td>2900</td>\n",
       "      <td>28387</td>\n",
       "      <td>4</td>\n",
       "      <td>NC</td>\n",
       "      <td>NaN</td>\n",
       "      <td>NaN</td>\n",
       "      <td>NaN</td>\n",
       "      <td>611019</td>\n",
       "      <td>$418,000</td>\n",
       "    </tr>\n",
       "    <tr>\n",
       "      <th>1</th>\n",
       "      <td>for sale</td>\n",
       "      <td>NaN</td>\n",
       "      <td>single-family home</td>\n",
       "      <td>12911 E Heroy Ave</td>\n",
       "      <td>3 Baths</td>\n",
       "      <td>{'atAGlanceFacts': [{'factValue': '2019', 'fac...</td>\n",
       "      <td>NaN</td>\n",
       "      <td>Spokane Valley</td>\n",
       "      <td>[{'rating': ['4/10', 'None/10', '4/10'], 'data...</td>\n",
       "      <td>1,947 sqft</td>\n",
       "      <td>99216</td>\n",
       "      <td>3 Beds</td>\n",
       "      <td>WA</td>\n",
       "      <td>2.0</td>\n",
       "      <td>NaN</td>\n",
       "      <td>NaN</td>\n",
       "      <td>201916904</td>\n",
       "      <td>$310,000</td>\n",
       "    </tr>\n",
       "    <tr>\n",
       "      <th>2</th>\n",
       "      <td>for sale</td>\n",
       "      <td>NaN</td>\n",
       "      <td>single-family home</td>\n",
       "      <td>2005 Westridge Rd</td>\n",
       "      <td>2 Baths</td>\n",
       "      <td>{'atAGlanceFacts': [{'factValue': '1961', 'fac...</td>\n",
       "      <td>yes</td>\n",
       "      <td>Los Angeles</td>\n",
       "      <td>[{'rating': ['8/10', '4/10', '8/10'], 'data': ...</td>\n",
       "      <td>3,000 sqft</td>\n",
       "      <td>90049</td>\n",
       "      <td>3 Beds</td>\n",
       "      <td>CA</td>\n",
       "      <td>1.0</td>\n",
       "      <td>NaN</td>\n",
       "      <td>yes</td>\n",
       "      <td>FR19221027</td>\n",
       "      <td>$2,895,000</td>\n",
       "    </tr>\n",
       "    <tr>\n",
       "      <th>3</th>\n",
       "      <td>for sale</td>\n",
       "      <td>NaN</td>\n",
       "      <td>single-family home</td>\n",
       "      <td>4311 Livingston Ave</td>\n",
       "      <td>8 Baths</td>\n",
       "      <td>{'atAGlanceFacts': [{'factValue': '2006', 'fac...</td>\n",
       "      <td>yes</td>\n",
       "      <td>Dallas</td>\n",
       "      <td>[{'rating': ['9/10', '9/10', '10/10', '9/10'],...</td>\n",
       "      <td>6,457 sqft</td>\n",
       "      <td>75205</td>\n",
       "      <td>5 Beds</td>\n",
       "      <td>TX</td>\n",
       "      <td>3.0</td>\n",
       "      <td>NaN</td>\n",
       "      <td>NaN</td>\n",
       "      <td>14191809</td>\n",
       "      <td>$2,395,000</td>\n",
       "    </tr>\n",
       "    <tr>\n",
       "      <th>4</th>\n",
       "      <td>for sale</td>\n",
       "      <td>NaN</td>\n",
       "      <td>lot/land</td>\n",
       "      <td>1524 Kiscoe St</td>\n",
       "      <td>NaN</td>\n",
       "      <td>{'atAGlanceFacts': [{'factValue': '', 'factLab...</td>\n",
       "      <td>NaN</td>\n",
       "      <td>Palm Bay</td>\n",
       "      <td>[{'rating': ['4/10', '5/10', '5/10'], 'data': ...</td>\n",
       "      <td>NaN</td>\n",
       "      <td>32908</td>\n",
       "      <td>NaN</td>\n",
       "      <td>FL</td>\n",
       "      <td>NaN</td>\n",
       "      <td>NaN</td>\n",
       "      <td>NaN</td>\n",
       "      <td>861745</td>\n",
       "      <td>$5,000</td>\n",
       "    </tr>\n",
       "  </tbody>\n",
       "</table>\n",
       "</div>"
      ],
      "text/plain": [
       "     status private pool        propertyType               street    baths   \n",
       "0    Active          NaN  Single Family Home       240 Heather Ln      3.5  \\\n",
       "1  for sale          NaN  single-family home    12911 E Heroy Ave  3 Baths   \n",
       "2  for sale          NaN  single-family home    2005 Westridge Rd  2 Baths   \n",
       "3  for sale          NaN  single-family home  4311 Livingston Ave  8 Baths   \n",
       "4  for sale          NaN            lot/land       1524 Kiscoe St      NaN   \n",
       "\n",
       "                                           homeFacts fireplace   \n",
       "0  {'atAGlanceFacts': [{'factValue': '2019', 'fac...  Gas Logs  \\\n",
       "1  {'atAGlanceFacts': [{'factValue': '2019', 'fac...       NaN   \n",
       "2  {'atAGlanceFacts': [{'factValue': '1961', 'fac...       yes   \n",
       "3  {'atAGlanceFacts': [{'factValue': '2006', 'fac...       yes   \n",
       "4  {'atAGlanceFacts': [{'factValue': '', 'factLab...       NaN   \n",
       "\n",
       "             city                                            schools   \n",
       "0  Southern Pines  [{'rating': ['4', '4', '7', 'NR', '4', '7', 'N...  \\\n",
       "1  Spokane Valley  [{'rating': ['4/10', 'None/10', '4/10'], 'data...   \n",
       "2     Los Angeles  [{'rating': ['8/10', '4/10', '8/10'], 'data': ...   \n",
       "3          Dallas  [{'rating': ['9/10', '9/10', '10/10', '9/10'],...   \n",
       "4        Palm Bay  [{'rating': ['4/10', '5/10', '5/10'], 'data': ...   \n",
       "\n",
       "         sqft zipcode    beds state stories mls-id PrivatePool       MlsId   \n",
       "0        2900   28387       4    NC     NaN    NaN         NaN      611019  \\\n",
       "1  1,947 sqft   99216  3 Beds    WA     2.0    NaN         NaN   201916904   \n",
       "2  3,000 sqft   90049  3 Beds    CA     1.0    NaN         yes  FR19221027   \n",
       "3  6,457 sqft   75205  5 Beds    TX     3.0    NaN         NaN    14191809   \n",
       "4         NaN   32908     NaN    FL     NaN    NaN         NaN      861745   \n",
       "\n",
       "       target  \n",
       "0    $418,000  \n",
       "1    $310,000  \n",
       "2  $2,895,000  \n",
       "3  $2,395,000  \n",
       "4      $5,000  "
      ]
     },
     "execution_count": 174,
     "metadata": {},
     "output_type": "execute_result"
    }
   ],
   "source": [
    "# загрузка данных в датафрейм\n",
    "data = pd.read_csv(\"./data/data.csv\")\n",
    "print('Data shape: {}'.format(data.shape))\n",
    "data.head(5)"
   ]
  },
  {
   "cell_type": "code",
   "execution_count": 175,
   "metadata": {},
   "outputs": [
    {
     "name": "stdout",
     "output_type": "stream",
     "text": [
      "<class 'pandas.core.frame.DataFrame'>\n",
      "RangeIndex: 377185 entries, 0 to 377184\n",
      "Data columns (total 18 columns):\n",
      " #   Column        Non-Null Count   Dtype \n",
      "---  ------        --------------   ----- \n",
      " 0   status        337267 non-null  object\n",
      " 1   private pool  4181 non-null    object\n",
      " 2   propertyType  342452 non-null  object\n",
      " 3   street        377183 non-null  object\n",
      " 4   baths         270847 non-null  object\n",
      " 5   homeFacts     377185 non-null  object\n",
      " 6   fireplace     103114 non-null  object\n",
      " 7   city          377151 non-null  object\n",
      " 8   schools       377185 non-null  object\n",
      " 9   sqft          336608 non-null  object\n",
      " 10  zipcode       377185 non-null  object\n",
      " 11  beds          285903 non-null  object\n",
      " 12  state         377185 non-null  object\n",
      " 13  stories       226469 non-null  object\n",
      " 14  mls-id        24942 non-null   object\n",
      " 15  PrivatePool   40311 non-null   object\n",
      " 16  MlsId         310305 non-null  object\n",
      " 17  target        374704 non-null  object\n",
      "dtypes: object(18)\n",
      "memory usage: 51.8+ MB\n"
     ]
    }
   ],
   "source": [
    "data.info()"
   ]
  },
  {
   "cell_type": "markdown",
   "metadata": {},
   "source": [
    "Описание данных:\n",
    "\n",
    "➔ 'status' — статус продажи;\n",
    "\n",
    "➔ 'private pool' и 'PrivatePool' — наличие собственного бассейна;\n",
    "\n",
    "'propertyType' — тип объекта недвижимости;\n",
    "\n",
    "➔ 'street' — адрес объекта;\n",
    "\n",
    "➔ 'baths' — количество ванных комнат;\n",
    "\n",
    "➔ 'homeFacts' — сведения о строительстве объекта (содержит несколько\n",
    "типов сведений, влияющих на оценку объекта);\n",
    "\n",
    "➔ 'fireplace' — наличие камина;\n",
    "\n",
    "➔ 'city' — город;\n",
    "\n",
    "➔ 'schools' — сведения о школах в районе;\n",
    "\n",
    "➔ 'sqft' — площадь в футах;\n",
    "\n",
    "➔ 'zipcode' — почтовый индекс;\n",
    "\n",
    "➔ 'beds' — количество спален;\n",
    "\n",
    "➔ 'state' — штат;\n",
    "\n",
    "➔ 'stories' — количество этажей;\n",
    "\n",
    "➔ 'mls-id' и 'MlsId' — идентификатор MLS (Multiple Listing Service, система\n",
    "мультилистинга);\n",
    "\n",
    "➔ 'target' — цена объекта недвижимости (целевой признак, который\n",
    "необходимо спрогнозировать)."
   ]
  },
  {
   "cell_type": "code",
   "execution_count": 176,
   "metadata": {},
   "outputs": [
    {
     "data": {
      "text/plain": [
       "50"
      ]
     },
     "execution_count": 176,
     "metadata": {},
     "output_type": "execute_result"
    }
   ],
   "source": [
    "# определяем наличие дубликатов\n",
    "data_duplicated = data.duplicated()\n",
    "data_duplicated.sum()"
   ]
  },
  {
   "cell_type": "code",
   "execution_count": 177,
   "metadata": {},
   "outputs": [
    {
     "data": {
      "text/plain": [
       "377135"
      ]
     },
     "execution_count": 177,
     "metadata": {},
     "output_type": "execute_result"
    }
   ],
   "source": [
    "# удаляем полные дубликаты\n",
    "data = data.drop_duplicates(ignore_index=True)\n",
    "data.shape[0]"
   ]
  },
  {
   "cell_type": "code",
   "execution_count": 178,
   "metadata": {},
   "outputs": [
    {
     "data": {
      "text/plain": [
       "status           39917\n",
       "private pool    372954\n",
       "propertyType     34733\n",
       "street               2\n",
       "baths           106308\n",
       "homeFacts            0\n",
       "fireplace       274024\n",
       "city                34\n",
       "schools              0\n",
       "sqft             40550\n",
       "zipcode              0\n",
       "beds             91254\n",
       "state                0\n",
       "stories         150674\n",
       "mls-id          352193\n",
       "PrivatePool     336825\n",
       "MlsId            66869\n",
       "target            2480\n",
       "dtype: int64"
      ]
     },
     "execution_count": 178,
     "metadata": {},
     "output_type": "execute_result"
    }
   ],
   "source": [
    "# смотрим пропуски\n",
    "data.isna().sum()"
   ]
  },
  {
   "cell_type": "markdown",
   "metadata": {},
   "source": [
    "Априори прикидываем важность признаков, которым следует уделить максимум внимания:\n",
    "\n",
    "1. Площадь жилая (sqft)\n",
    "2. Количество комнат, ванных комнат (beds, baths)\n",
    "3. Информация о школах (schools)\n",
    "4. География и расположение (city, street, zipcode)\n",
    "5. Информация о доме (homefacts, stories)"
   ]
  },
  {
   "cell_type": "markdown",
   "metadata": {},
   "source": [
    "Поля Mls-Id и MlsId удаляем, так как в них слишком много пропусков и они не несут полезной информации (уникальные идентификаторы)"
   ]
  },
  {
   "cell_type": "code",
   "execution_count": 179,
   "metadata": {},
   "outputs": [],
   "source": [
    "# удаляем поле\n",
    "data.drop(labels=['MlsId','mls-id'], axis=1, inplace=True)"
   ]
  },
  {
   "cell_type": "markdown",
   "metadata": {},
   "source": [
    "### География и расположение"
   ]
  },
  {
   "cell_type": "code",
   "execution_count": 180,
   "metadata": {},
   "outputs": [
    {
     "data": {
      "text/html": [
       "<div>\n",
       "<style scoped>\n",
       "    .dataframe tbody tr th:only-of-type {\n",
       "        vertical-align: middle;\n",
       "    }\n",
       "\n",
       "    .dataframe tbody tr th {\n",
       "        vertical-align: top;\n",
       "    }\n",
       "\n",
       "    .dataframe thead th {\n",
       "        text-align: right;\n",
       "    }\n",
       "</style>\n",
       "<table border=\"1\" class=\"dataframe\">\n",
       "  <thead>\n",
       "    <tr style=\"text-align: right;\">\n",
       "      <th></th>\n",
       "      <th>status</th>\n",
       "      <th>private pool</th>\n",
       "      <th>propertyType</th>\n",
       "      <th>street</th>\n",
       "      <th>baths</th>\n",
       "      <th>homeFacts</th>\n",
       "      <th>fireplace</th>\n",
       "      <th>city</th>\n",
       "      <th>schools</th>\n",
       "      <th>sqft</th>\n",
       "      <th>zipcode</th>\n",
       "      <th>beds</th>\n",
       "      <th>state</th>\n",
       "      <th>stories</th>\n",
       "      <th>PrivatePool</th>\n",
       "      <th>target</th>\n",
       "    </tr>\n",
       "  </thead>\n",
       "  <tbody>\n",
       "    <tr>\n",
       "      <th>549</th>\n",
       "      <td>For sale</td>\n",
       "      <td>NaN</td>\n",
       "      <td>Single Family</td>\n",
       "      <td>5398 Alcola Way S</td>\n",
       "      <td>2</td>\n",
       "      <td>{'atAGlanceFacts': [{'factValue': '1971', 'fac...</td>\n",
       "      <td>Yes</td>\n",
       "      <td>Saint Petersburg</td>\n",
       "      <td>[{'rating': ['2/10', '4/10', '4/10'], 'data': ...</td>\n",
       "      <td>1,617</td>\n",
       "      <td>33712</td>\n",
       "      <td>3</td>\n",
       "      <td>FL</td>\n",
       "      <td>1.0</td>\n",
       "      <td>Yes</td>\n",
       "      <td>$280,000</td>\n",
       "    </tr>\n",
       "    <tr>\n",
       "      <th>753</th>\n",
       "      <td>for sale</td>\n",
       "      <td>NaN</td>\n",
       "      <td>lot/land</td>\n",
       "      <td>5428 Closeburn Rd</td>\n",
       "      <td>NaN</td>\n",
       "      <td>{'atAGlanceFacts': [{'factValue': '2017', 'fac...</td>\n",
       "      <td>NaN</td>\n",
       "      <td>Charlotte</td>\n",
       "      <td>[{'rating': ['8/10', '7/10', '7/10'], 'data': ...</td>\n",
       "      <td>4,595 sqft</td>\n",
       "      <td>28210</td>\n",
       "      <td>5 Beds</td>\n",
       "      <td>NC</td>\n",
       "      <td>3</td>\n",
       "      <td>NaN</td>\n",
       "      <td>$349,000</td>\n",
       "    </tr>\n",
       "    <tr>\n",
       "      <th>1648</th>\n",
       "      <td>Active</td>\n",
       "      <td>NaN</td>\n",
       "      <td>Single Family Home</td>\n",
       "      <td>8 Potterville Ln</td>\n",
       "      <td>3</td>\n",
       "      <td>{'atAGlanceFacts': [{'factValue': '2016', 'fac...</td>\n",
       "      <td>NaN</td>\n",
       "      <td>Palm Coast</td>\n",
       "      <td>[{'rating': ['5', '4', '6', '5', 'NR', 'NR', '...</td>\n",
       "      <td>2350</td>\n",
       "      <td>32164</td>\n",
       "      <td>4</td>\n",
       "      <td>FL</td>\n",
       "      <td>One</td>\n",
       "      <td>NaN</td>\n",
       "      <td>$279,900</td>\n",
       "    </tr>\n",
       "    <tr>\n",
       "      <th>2375</th>\n",
       "      <td>Active</td>\n",
       "      <td>NaN</td>\n",
       "      <td>Single Family Home</td>\n",
       "      <td>16884 W. Vereda Solana Drive</td>\n",
       "      <td>3</td>\n",
       "      <td>{'atAGlanceFacts': [{'factValue': '', 'factLab...</td>\n",
       "      <td>NaN</td>\n",
       "      <td>Surprise</td>\n",
       "      <td>[{'rating': ['5', '9', '6', '7', '7', 'NR', 'N...</td>\n",
       "      <td>2,856</td>\n",
       "      <td>85387</td>\n",
       "      <td>4</td>\n",
       "      <td>AZ</td>\n",
       "      <td>NaN</td>\n",
       "      <td>NaN</td>\n",
       "      <td>$373,990</td>\n",
       "    </tr>\n",
       "    <tr>\n",
       "      <th>2643</th>\n",
       "      <td>Active</td>\n",
       "      <td>NaN</td>\n",
       "      <td>Single Family Home</td>\n",
       "      <td>2909 Otis St NE</td>\n",
       "      <td>3.5</td>\n",
       "      <td>{'atAGlanceFacts': [{'factValue': '1927', 'fac...</td>\n",
       "      <td>NaN</td>\n",
       "      <td>Washington</td>\n",
       "      <td>[{'rating': ['3', '3', '3', 'NR', '5', '5', 'N...</td>\n",
       "      <td>2848</td>\n",
       "      <td>20018</td>\n",
       "      <td>4</td>\n",
       "      <td>DC</td>\n",
       "      <td>3+</td>\n",
       "      <td>NaN</td>\n",
       "      <td>$699,000</td>\n",
       "    </tr>\n",
       "  </tbody>\n",
       "</table>\n",
       "</div>"
      ],
      "text/plain": [
       "        status private pool        propertyType                        street   \n",
       "549   For sale          NaN       Single Family             5398 Alcola Way S  \\\n",
       "753   for sale          NaN            lot/land             5428 Closeburn Rd   \n",
       "1648    Active          NaN  Single Family Home              8 Potterville Ln   \n",
       "2375    Active          NaN  Single Family Home  16884 W. Vereda Solana Drive   \n",
       "2643    Active          NaN  Single Family Home               2909 Otis St NE   \n",
       "\n",
       "     baths                                          homeFacts fireplace   \n",
       "549      2  {'atAGlanceFacts': [{'factValue': '1971', 'fac...       Yes  \\\n",
       "753    NaN  {'atAGlanceFacts': [{'factValue': '2017', 'fac...       NaN   \n",
       "1648     3  {'atAGlanceFacts': [{'factValue': '2016', 'fac...       NaN   \n",
       "2375     3  {'atAGlanceFacts': [{'factValue': '', 'factLab...       NaN   \n",
       "2643   3.5  {'atAGlanceFacts': [{'factValue': '1927', 'fac...       NaN   \n",
       "\n",
       "                  city                                            schools   \n",
       "549   Saint Petersburg  [{'rating': ['2/10', '4/10', '4/10'], 'data': ...  \\\n",
       "753          Charlotte  [{'rating': ['8/10', '7/10', '7/10'], 'data': ...   \n",
       "1648        Palm Coast  [{'rating': ['5', '4', '6', '5', 'NR', 'NR', '...   \n",
       "2375          Surprise  [{'rating': ['5', '9', '6', '7', '7', 'NR', 'N...   \n",
       "2643        Washington  [{'rating': ['3', '3', '3', 'NR', '5', '5', 'N...   \n",
       "\n",
       "            sqft zipcode    beds state stories PrivatePool    target  \n",
       "549        1,617   33712       3    FL     1.0         Yes  $280,000  \n",
       "753   4,595 sqft   28210  5 Beds    NC       3         NaN  $349,000  \n",
       "1648        2350   32164       4    FL     One         NaN  $279,900  \n",
       "2375       2,856   85387       4    AZ     NaN         NaN  $373,990  \n",
       "2643        2848   20018       4    DC      3+         NaN  $699,000  "
      ]
     },
     "execution_count": 180,
     "metadata": {},
     "output_type": "execute_result"
    }
   ],
   "source": [
    "# исследуем географию и расположение объектов, в том числе ищем дубликаты по геополям\n",
    "adres_data = data[['street', 'city', 'zipcode','state']]\n",
    "data.loc[adres_data.duplicated()==True].head(5)"
   ]
  },
  {
   "cell_type": "markdown",
   "metadata": {},
   "source": [
    "В данных много записей, относящихся к одним и тем же объектам недвижимости (Single home). Вероятно они собраны из разных источников либо это повторные по времени объявления.\n",
    "Удаление этих записей негативно сказывается на метриках модели. Оставляем их."
   ]
  },
  {
   "cell_type": "code",
   "execution_count": 181,
   "metadata": {},
   "outputs": [],
   "source": [
    "# удаляем дубликаты по комбинации адресных данных\n",
    "#data = data.drop_duplicates(subset=['street', 'city', 'zipcode','state'])\n",
    "#data.shape"
   ]
  },
  {
   "cell_type": "markdown",
   "metadata": {},
   "source": [
    "Предварительные выводы по итогам исследования характеристик признаков:\n",
    "\n",
    "1. Поля штат, город и зип-код априори сильно коррелирующие признаки. Оставляем один из них - зип-код.\n",
    "2. Поле street содержит адрес объекта. Необходимо удалить его, так как оно является идентификатором объекта недвижимости. Использование признака приведет к утечке данных.\n",
    "3. Удаляем лишние поля, оставляем зип-код"
   ]
  },
  {
   "cell_type": "code",
   "execution_count": 182,
   "metadata": {},
   "outputs": [
    {
     "data": {
      "text/plain": [
       "4318"
      ]
     },
     "execution_count": 182,
     "metadata": {},
     "output_type": "execute_result"
    }
   ],
   "source": [
    "data['zipcode'] = data['zipcode'].apply(lambda x: x[:5]) # обрезаем лишние символы\n",
    "data['zipcode'] = data['zipcode'].apply(lambda x: re.sub(r'[^0-9]', '', x)) # удаляем лишние символы\n",
    "data['zipcode'].value_counts().count() # оцениваем метод кодирования"
   ]
  },
  {
   "cell_type": "markdown",
   "metadata": {},
   "source": [
    "Для признака zipcode подойдет метод двоичного кодирования"
   ]
  },
  {
   "cell_type": "markdown",
   "metadata": {},
   "source": [
    "Вывод по итогам валидации модели: Кодировка методом двоичного кодирования признаков zip-код или city не дает прироста качества предсказания. Оставляем его в виде числового признака"
   ]
  },
  {
   "cell_type": "code",
   "execution_count": 183,
   "metadata": {},
   "outputs": [
    {
     "data": {
      "text/html": [
       "<div>\n",
       "<style scoped>\n",
       "    .dataframe tbody tr th:only-of-type {\n",
       "        vertical-align: middle;\n",
       "    }\n",
       "\n",
       "    .dataframe tbody tr th {\n",
       "        vertical-align: top;\n",
       "    }\n",
       "\n",
       "    .dataframe thead th {\n",
       "        text-align: right;\n",
       "    }\n",
       "</style>\n",
       "<table border=\"1\" class=\"dataframe\">\n",
       "  <thead>\n",
       "    <tr style=\"text-align: right;\">\n",
       "      <th></th>\n",
       "      <th>status</th>\n",
       "      <th>private pool</th>\n",
       "      <th>propertyType</th>\n",
       "      <th>street</th>\n",
       "      <th>baths</th>\n",
       "      <th>homeFacts</th>\n",
       "      <th>fireplace</th>\n",
       "      <th>city</th>\n",
       "      <th>schools</th>\n",
       "      <th>sqft</th>\n",
       "      <th>zipcode</th>\n",
       "      <th>beds</th>\n",
       "      <th>state</th>\n",
       "      <th>stories</th>\n",
       "      <th>PrivatePool</th>\n",
       "      <th>target</th>\n",
       "    </tr>\n",
       "  </thead>\n",
       "  <tbody>\n",
       "    <tr>\n",
       "      <th>231264</th>\n",
       "      <td>New construction</td>\n",
       "      <td>NaN</td>\n",
       "      <td>NaN</td>\n",
       "      <td>0 N Gopher Canyon Rd</td>\n",
       "      <td>NaN</td>\n",
       "      <td>{'atAGlanceFacts': [{'factValue': '', 'factLab...</td>\n",
       "      <td>NaN</td>\n",
       "      <td>Bonsall</td>\n",
       "      <td>[{'rating': ['7/10', '7/10', '3/10'], 'data': ...</td>\n",
       "      <td>NaN</td>\n",
       "      <td></td>\n",
       "      <td>449 acres</td>\n",
       "      <td>CA</td>\n",
       "      <td>NaN</td>\n",
       "      <td>NaN</td>\n",
       "      <td>$60,000,000</td>\n",
       "    </tr>\n",
       "    <tr>\n",
       "      <th>235188</th>\n",
       "      <td>NaN</td>\n",
       "      <td>NaN</td>\n",
       "      <td>Townhouse</td>\n",
       "      <td>1744 N Dixie Hwy # 1744</td>\n",
       "      <td>3.0</td>\n",
       "      <td>{'atAGlanceFacts': [{'factValue': '2010', 'fac...</td>\n",
       "      <td>NaN</td>\n",
       "      <td>Fort Lauderdale</td>\n",
       "      <td>[{'rating': ['3/10', '5/10', '7/10'], 'data': ...</td>\n",
       "      <td>2,043</td>\n",
       "      <td></td>\n",
       "      <td>3</td>\n",
       "      <td>FL</td>\n",
       "      <td>NaN</td>\n",
       "      <td>NaN</td>\n",
       "      <td>$425,000</td>\n",
       "    </tr>\n",
       "  </tbody>\n",
       "</table>\n",
       "</div>"
      ],
      "text/plain": [
       "                  status private pool propertyType                   street   \n",
       "231264  New construction          NaN          NaN     0 N Gopher Canyon Rd  \\\n",
       "235188               NaN          NaN    Townhouse  1744 N Dixie Hwy # 1744   \n",
       "\n",
       "       baths                                          homeFacts fireplace   \n",
       "231264   NaN  {'atAGlanceFacts': [{'factValue': '', 'factLab...       NaN  \\\n",
       "235188   3.0  {'atAGlanceFacts': [{'factValue': '2010', 'fac...       NaN   \n",
       "\n",
       "                   city                                            schools   \n",
       "231264          Bonsall  [{'rating': ['7/10', '7/10', '3/10'], 'data': ...  \\\n",
       "235188  Fort Lauderdale  [{'rating': ['3/10', '5/10', '7/10'], 'data': ...   \n",
       "\n",
       "         sqft zipcode       beds state stories PrivatePool       target  \n",
       "231264    NaN          449 acres    CA     NaN         NaN  $60,000,000  \n",
       "235188  2,043                  3    FL     NaN         NaN     $425,000  "
      ]
     },
     "execution_count": 183,
     "metadata": {},
     "output_type": "execute_result"
    }
   ],
   "source": [
    "# проверяем на наличие пустых значений\n",
    "data[data['zipcode']=='']"
   ]
  },
  {
   "cell_type": "code",
   "execution_count": 184,
   "metadata": {},
   "outputs": [],
   "source": [
    "# заполняем пустые значения данными из интернета\n",
    "data.loc[235188, 'zipcode'] = 33305\n",
    "data.loc[231264, 'zipcode'] = 92003\n",
    "# конвертируем поле zipcode в целое\n",
    "data['zipcode'] = data['zipcode'].astype('int')\n",
    "# удаляем лишние поля\n",
    "data = data.drop(labels=['city','state','street'], axis=1)"
   ]
  },
  {
   "cell_type": "markdown",
   "metadata": {},
   "source": [
    "### Распаковка поля 'homeFacts'"
   ]
  },
  {
   "cell_type": "code",
   "execution_count": 185,
   "metadata": {},
   "outputs": [
    {
     "data": {
      "text/plain": [
       "Index(['Year built', 'Remodeled year', 'Heating', 'Cooling', 'Parking',\n",
       "       'lotsize', 'Price/sqft'],\n",
       "      dtype='object')"
      ]
     },
     "execution_count": 185,
     "metadata": {},
     "output_type": "execute_result"
    }
   ],
   "source": [
    "new_features_list = list() # создаем пустой список для словарей\n",
    "\n",
    "def homeFacts_unpack(arg): # функция распаковки поля homeFacts в словарь\n",
    "    facts_dict = eval(arg)['atAGlanceFacts']\n",
    "    dictionary = dict()\n",
    "    for i in facts_dict:\n",
    "        if i['factValue'] == '':\n",
    "            dictionary[i['factLabel']] = 'none'\n",
    "        else:\n",
    "            dictionary[i['factLabel']] = i['factValue']\n",
    "    new_features_list.append(dictionary) # добавляем словарь в список\n",
    "# обрабатываем поле функцией\n",
    "data['homeFacts'].apply(homeFacts_unpack)\n",
    "# преобразуем список словарей в новый датафрейм\n",
    "extra_data = pd.DataFrame(new_features_list)\n",
    "# склеиваем датафреймы\n",
    "data = pd.concat([data, extra_data], axis=1)\n",
    "# удаляем исходное поле\n",
    "data = data.drop(labels=['homeFacts'], axis=1)\n",
    "# получены новые признаки\n",
    "extra_data.columns"
   ]
  },
  {
   "cell_type": "markdown",
   "metadata": {},
   "source": [
    "Получили пять новых признаков:\n",
    "\n",
    "'Year built' - год постройки ;\n",
    "\n",
    "'Remodeled year' - год ремонта/реновации;\n",
    "\n",
    "'Heating' - наличие и тип отопления;\n",
    "\n",
    "'Cooling' - наличие кондиционера;\n",
    "\n",
    "'Parking' - паркинг;\n",
    "\n",
    "'lotsize' - размер земельного участка;\n",
    "\n",
    "'Price/sqft' - цена жилья за кв.фут"
   ]
  },
  {
   "cell_type": "markdown",
   "metadata": {},
   "source": [
    "### Обработка полей 'Year built' и 'Remodeled year'"
   ]
  },
  {
   "cell_type": "code",
   "execution_count": 186,
   "metadata": {},
   "outputs": [
    {
     "data": {
      "text/plain": [
       "Year built\n",
       "1       2\n",
       "1019    1\n",
       "1057    1\n",
       "1060    1\n",
       "1208    1\n",
       "1700    1\n",
       "1703    2\n",
       "1735    1\n",
       "1740    1\n",
       "1750    2\n",
       "Name: count, dtype: int64"
      ]
     },
     "execution_count": 186,
     "metadata": {},
     "output_type": "execute_result"
    }
   ],
   "source": [
    "# изучаем структуру данных в поле и граничные значения признаков\n",
    "data['Year built'].value_counts().sort_index().head(10)"
   ]
  },
  {
   "cell_type": "code",
   "execution_count": 187,
   "metadata": {},
   "outputs": [
    {
     "data": {
      "text/plain": [
       "Year built\n",
       "2017             5179\n",
       "2018             6855\n",
       "2019            32168\n",
       "2020             2435\n",
       "2021               62\n",
       "2022                8\n",
       "2025                2\n",
       "559990649990        2\n",
       "No Data          1222\n",
       "none            58729\n",
       "Name: count, dtype: int64"
      ]
     },
     "execution_count": 187,
     "metadata": {},
     "output_type": "execute_result"
    }
   ],
   "source": [
    "data['Year built'].value_counts().sort_index().tail(10)"
   ]
  },
  {
   "cell_type": "code",
   "execution_count": 188,
   "metadata": {},
   "outputs": [],
   "source": [
    "# обрабатываем странные значения Year built, пропускам присваиваем NaN\n",
    "data.loc[data[data['Year built']=='1019'].index, 'Year built'] = '1919'\n",
    "data.loc[data[data['Year built']=='1057'].index, 'Year built'] = '1957'\n",
    "data.loc[data[data['Year built']=='1060'].index, 'Year built'] = '1960'\n",
    "data.loc[data[data['Year built']=='1208'].index, 'Year built'] = np.nan\n",
    "data.loc[data[data['Year built']=='1'].index, 'Year built'] = np.nan\n",
    "data.loc[data[data['Year built']=='559990649990'].index, 'Year built'] = np.nan\n",
    "data.loc[data[data['Year built']=='No Data'].index, 'Year built'] = np.nan\n",
    "data.loc[data[data['Year built']=='none'].index, 'Year built'] = np.nan\n",
    "data.loc[data[data['Year built']==''].index, 'Year built'] = np.nan\n",
    "data.loc[data[data['Year built']=='0'].index, 'Year built'] = np.nan\n",
    "# обрабатываем странные значения в Remodeled year, пропускам присваиваем NaN\n",
    "data.loc[data[data['Remodeled year']=='1111'].index, 'Remodeled year'] = '0'\n",
    "data.loc[data[data['Remodeled year']==''].index, 'Remodeled year'] = '0'\n",
    "data.loc[data[data['Remodeled year']=='none'].index, 'Remodeled year'] = '0'\n",
    "data.loc[data[data['Remodeled year']=='0'].index, 'Remodeled year'] = '0'"
   ]
  },
  {
   "cell_type": "markdown",
   "metadata": {},
   "source": [
    "Поле \"Год постройки\" имеет большое количество пропусков. Заполняем пропуски модой.\n",
    "\n",
    "В качестве возможных вариантов дальнейшей обработки:\n",
    "1. Год постройки можно взять из даты реконструкции 'Remodeled year'\n",
    "2. Сравнить даты. Если дата постройки Year built больше (младше) даты реконструкции, то в качестве даты постройки устанавить дату реконструкции 'Remodeled year'"
   ]
  },
  {
   "cell_type": "code",
   "execution_count": 189,
   "metadata": {},
   "outputs": [],
   "source": [
    "# Для пустых дат постройки Year built заполняем датой реконструкции\n",
    "#data.loc[data.loc[data['Year built'].isna()].index , 'Year built'] = data['Remodeled year']\n",
    "year_built_mode = data['Year built'].mode()[0]\n",
    "# заполняем пропуски\n",
    "data = data.fillna({\n",
    "    'Year built': year_built_mode,\n",
    "    'Remodeled year': '0'\n",
    "    })\n",
    "#\n",
    "# Если дата постройки Year built больше даты реконструкции, то в качестве даты постройки устанавливаем дату реконструкции\n",
    "# data.loc[data[data['Remodeled year'] < data['Year built']].index , 'Year built'] = data['Remodeled year']"
   ]
  },
  {
   "cell_type": "code",
   "execution_count": 190,
   "metadata": {},
   "outputs": [
    {
     "data": {
      "text/plain": [
       "Year built\n",
       "2019    95737\n",
       "2020     2435\n",
       "2021       62\n",
       "2022        8\n",
       "2025        2\n",
       "Name: count, dtype: int64"
      ]
     },
     "execution_count": 190,
     "metadata": {},
     "output_type": "execute_result"
    }
   ],
   "source": [
    "# определяем максимальное значение\n",
    "data['Year built'].value_counts().sort_index().tail(5)"
   ]
  },
  {
   "cell_type": "code",
   "execution_count": 191,
   "metadata": {},
   "outputs": [
    {
     "data": {
      "image/png": "[encoded data removed]",
      "text/plain": [
       "<Figure size 432x288 with 1 Axes>"
      ]
     },
     "metadata": {
      "needs_background": "light"
     },
     "output_type": "display_data"
    }
   ],
   "source": [
    "# приведение поля к типу integer\n",
    "data['Year built'] = data['Year built'].astype('int')\n",
    "data['Remodeled year'] = data['Remodeled year'].astype('int')\n",
    "# Выполняем перекодировку полей в формат \"Возраст дома. Количество лет\" с учетом максимального года = 2025\n",
    "max_date = 2025\n",
    "data['Year built'] = data['Year built'].apply(lambda x: max_date-x if x > 0 else x)\n",
    "data['Remodeled year'] = data['Remodeled year'].apply(lambda x: max_date-x if x > 0 else x)\n",
    "# проверяем распределение\n",
    "plt.hist(data['Year built'], bins=50);"
   ]
  },
  {
   "cell_type": "markdown",
   "metadata": {},
   "source": [
    "Распределение имеет экспоненциальный характер. Требуется логарифмирование признаков"
   ]
  },
  {
   "cell_type": "code",
   "execution_count": 192,
   "metadata": {},
   "outputs": [],
   "source": [
    "data['year_built_log'] = np.log(data['Year built']+1)\n",
    "data['remodeled_year_log'] = np.log(data['Remodeled year']+1)"
   ]
  },
  {
   "cell_type": "code",
   "execution_count": 193,
   "metadata": {},
   "outputs": [
    {
     "data": {
      "image/png": "[encoded data removed]",
      "text/plain": [
       "<Figure size 1080x432 with 2 Axes>"
      ]
     },
     "metadata": {
      "needs_background": "light"
     },
     "output_type": "display_data"
    }
   ],
   "source": [
    "# визуализация распределений признаков\n",
    "fig, axes = plt.subplots(nrows=1, ncols=2, figsize=(15, 6))\n",
    "hist1 = sns.histplot(data=data['year_built_log'], ax = axes[0])\n",
    "hist2 = sns.histplot(data=data['remodeled_year_log'], ax = axes[1])"
   ]
  },
  {
   "cell_type": "markdown",
   "metadata": {},
   "source": [
    "### Кодировка полей Heating, Cooling"
   ]
  },
  {
   "cell_type": "code",
   "execution_count": 194,
   "metadata": {},
   "outputs": [],
   "source": [
    "# заполняем пропуски в новых признаках заглушками и приводим к упорядоченной структуре\n",
    "data['Heating'] = data['Heating'].fillna('no_data')\n",
    "data['Cooling'] = data['Cooling'].fillna('no_data')\n",
    "data['Parking'] = data['Parking'].fillna('')\n",
    "data['lotsize'] = data['lotsize'].fillna('no_data')\n",
    "data['Price/sqft'] = data['Price/sqft'].fillna('no_data')\n",
    "# символы переводим в нижний регистр\n",
    "data['Heating'] = data['Heating'].apply(lambda x: str.lower(x))\n",
    "data['Cooling'] = data['Cooling'].apply(lambda x: str.lower(x))\n",
    "data['Parking'] = data['Parking'].apply(lambda x: str.lower(x))\n",
    "# типизация пропусков\n",
    "data['Heating'] = data['Heating'].apply(lambda x: 'no_data' if x == 'none' or x == 'other' or x == 'no data' else x)\n",
    "data['Cooling'] = data['Cooling'].apply(lambda x: 'no_data' if x == 'none' or x == 'other' or x == 'no data' else x)\n",
    "data['Parking'] = data['Parking'].apply(lambda x: 'no_data' if x == 'none' or x == 'other' or x == 'no data' else x)"
   ]
  },
  {
   "cell_type": "code",
   "execution_count": 195,
   "metadata": {},
   "outputs": [
    {
     "data": {
      "text/plain": [
       "Heating\n",
       "no_data                  147597\n",
       "forced air               134308\n",
       "electric                  10216\n",
       "gas                        9296\n",
       "heat pump                  8851\n",
       "central air                7814\n",
       "central electric           7112\n",
       "central                    6247\n",
       "central, electric          4253\n",
       "baseboard                  3815\n",
       "wall                       3301\n",
       "electric heat              3064\n",
       "heating system             2709\n",
       "forced air, heat pump      1767\n",
       "radiant                    1485\n",
       "Name: count, dtype: int64"
      ]
     },
     "execution_count": 195,
     "metadata": {},
     "output_type": "execute_result"
    }
   ],
   "source": [
    "# исследуем распределение признака\n",
    "data['Heating'].value_counts().head(15)"
   ]
  },
  {
   "cell_type": "code",
   "execution_count": 196,
   "metadata": {},
   "outputs": [
    {
     "data": {
      "text/plain": [
       "Cooling\n",
       "central                                            158744\n",
       "no_data                                            143774\n",
       "central air                                         14384\n",
       "has cooling                                          9730\n",
       "central electric                                     6154\n",
       "wall                                                 4017\n",
       "central gas                                          3573\n",
       "central heating                                      2807\n",
       "cooling system                                       2700\n",
       "central a/c                                          2051\n",
       "central a/c (electric), central heat (gas)           1646\n",
       "central a/c (electric), central heat (electric)      1429\n",
       "refrigeration                                        1075\n",
       "central, electric                                    1060\n",
       "electric                                             1012\n",
       "Name: count, dtype: int64"
      ]
     },
     "execution_count": 196,
     "metadata": {},
     "output_type": "execute_result"
    }
   ],
   "source": [
    "data['Cooling'].value_counts().head(15)"
   ]
  },
  {
   "cell_type": "code",
   "execution_count": 197,
   "metadata": {},
   "outputs": [],
   "source": [
    "# Анализ структуры данных показывает, что сведения об отоплении и кондиционировании содержатся в обоих полях.\n",
    "data['Heat_Cool'] = data['Heating'] + ' // ' + data['Cooling'] # объединяем поля в одно и обрабатываем по ключевым фразам\n",
    "# Heating and Cooling hand-coding\n",
    "data['heating_1'] = data['Heat_Cool'].apply(lambda x: 1 if 'forced air' in x else 0).astype('int')\n",
    "data['heating_2'] = data['Heat_Cool'].apply(lambda x: 1 if 'electric' in x else 0).astype('int')\n",
    "data['heating_3'] = data['Heat_Cool'].apply(lambda x: 1 if 'gas' in x else 0).astype('int')\n",
    "data['heating_4'] = data['Heat_Cool'].apply(lambda x: 1 if 'central' in x \n",
    "                                            or 'heating system' in x \n",
    "                                            or 'has heating' in x else 0).astype('int')\n",
    "data['heating_5'] = data['Heat_Cool'].apply(lambda x: 1 if 'radiant' in x else 0).astype('int')\n",
    "data['heating_6'] = data['Heat_Cool'].apply(lambda x: 1 if 'electric' in x or 'A/C' in x or 'AC' in x else 0).astype('int')\n",
    "data['heating_7'] = data['Heat_Cool'].apply(lambda x: 1 if 'baseboard' in x or 'wall' in x else 0).astype('int')\n",
    "data['heating_8'] = data['Heat_Cool'].apply(lambda x: 1 if 'heat pump' in x else 0).astype('int')\n",
    "data['heating_9'] = data['Heat_Cool'].apply(lambda x: 1 if 'oil' in x else 0).astype('int')\n",
    "data['heating_10'] = data['Heat_Cool'].apply(lambda x: 1 if 'solar' in x else 0).astype('int')\n",
    "data['heating_11'] = data['Heat_Cool'].apply(lambda x: 1 if 'zoned' in x else 0).astype('int')\n",
    "#\n",
    "# Cooling coding\n",
    "data['cooling'] = data['Heat_Cool'].apply(lambda x: 1 if 'has cooling' in x \n",
    "                                          or 'cooling system' in x \n",
    "                                          or 'refrigeration' in x \n",
    "                                          or 'evaporative' in x \n",
    "                                          or 'window unit' in x \n",
    "                                          or 'evaporative' in x \n",
    "                                          or 'condition' in x else 0).astype('int')\n",
    "#\n",
    "data['ceiling_fan'] = data['Heat_Cool'].apply(lambda x: 1 if 'ceiling fan' in x else 0).astype('int')\n",
    "data['Humidity'] = data['Heat_Cool'].apply(lambda x: 1 if 'humidity' in x else 0).astype('int')\n",
    "# удаляем исходное поле\n",
    "data = data.drop(labels=['Heating','Cooling'], axis=1)\n",
    "# удаляем исходное поле\n",
    "data = data.drop(labels=['Heat_Cool'], axis=1)"
   ]
  },
  {
   "cell_type": "markdown",
   "metadata": {},
   "source": [
    "### Кодировка поля Parking"
   ]
  },
  {
   "cell_type": "code",
   "execution_count": 198,
   "metadata": {},
   "outputs": [
    {
     "data": {
      "text/plain": [
       "Parking\n",
       "no_data                             187548\n",
       "attached garage                      70748\n",
       "2 spaces                             28061\n",
       "1 space                              14252\n",
       "detached garage                      13200\n",
       "carport                               7743\n",
       "off street                            5279\n",
       "3 spaces                              4724\n",
       "                                      3533\n",
       "carport, attached garage              3025\n",
       "1                                     2936\n",
       "4 spaces                              2917\n",
       "2                                     2756\n",
       "on street                             1707\n",
       "attached garage, detached garage      1354\n",
       "Name: count, dtype: int64"
      ]
     },
     "execution_count": 198,
     "metadata": {},
     "output_type": "execute_result"
    }
   ],
   "source": [
    "# изучаем структуру\n",
    "data['Parking'].value_counts().head(15)"
   ]
  },
  {
   "cell_type": "markdown",
   "metadata": {},
   "source": [
    "Применяем ручное кодирование"
   ]
  },
  {
   "cell_type": "code",
   "execution_count": 199,
   "metadata": {},
   "outputs": [],
   "source": [
    "# Heating and Cooling hand-coding\n",
    "for i in range(9):\n",
    "    field_name = 'parking_'+str(i+1)\n",
    "    data[field_name] = data['Parking'].apply(lambda x: 1 if str(i) in x else 0).astype('int')\n",
    "    \n",
    "# Parking features hand-coding\n",
    "data['parking_10'] = data['Parking'].apply(lambda x: 1 if 'garage' in x else 0).astype('int')\n",
    "data['parking_11'] = data['Parking'].apply(lambda x: 1 if 'attached' in x else 0).astype('int')\n",
    "data['parking_12'] = data['Parking'].apply(lambda x: 1 if 'detached' in x else 0).astype('int')\n",
    "data['parking_13'] = data['Parking'].apply(lambda x: 1 if 'carport' in x else 0).astype('int')\n",
    "data['parking_14'] = data['Parking'].apply(lambda x: 1 if 'off street' in x or 'front' in x or 'slab' in x else 0).astype('int')\n",
    "data['parking_15'] = data['Parking'].apply(lambda x: 1 if 'on street' in x or 'driveway' in x else 0).astype('int')\n",
    "data['parking_16'] = data['Parking'].apply(lambda x: 1 if 'door opener' in x else 0).astype('int')\n",
    "data['parking_17'] = data['Parking'].apply(lambda x: 1 if 'entry' in x else 0).astype('int')\n",
    "# удаляем исходное поле\n",
    "data = data.drop(labels=['Parking'], axis=1)"
   ]
  },
  {
   "cell_type": "markdown",
   "metadata": {},
   "source": [
    "### Обработка и очистка поля \"Lot size\" (площадь земельного участка)"
   ]
  },
  {
   "cell_type": "code",
   "execution_count": 200,
   "metadata": {},
   "outputs": [
    {
     "data": {
      "text/plain": [
       "0             no_data\n",
       "1           5828 sqft\n",
       "2          8,626 sqft\n",
       "3          8,220 sqft\n",
       "4         10,019 sqft\n",
       "             ...     \n",
       "377130     8,500 sqft\n",
       "377131           none\n",
       "377132     1,600 sqft\n",
       "377133        no_data\n",
       "377134     6,969 sqft\n",
       "Name: lotsize, Length: 377135, dtype: object"
      ]
     },
     "execution_count": 200,
     "metadata": {},
     "output_type": "execute_result"
    }
   ],
   "source": [
    "# иучаем структуру данных поля\n",
    "data['lotsize']"
   ]
  },
  {
   "cell_type": "code",
   "execution_count": 201,
   "metadata": {},
   "outputs": [
    {
     "data": {
      "text/plain": [
       "0"
      ]
     },
     "execution_count": 201,
     "metadata": {},
     "output_type": "execute_result"
    }
   ],
   "source": [
    "# типизация данных\n",
    "data['lotsize'] = data['lotsize'].apply(lambda x: 'no_data' if x == 'none' or x == 'No Data' else x)\n",
    "data['lotsize'] = data['lotsize'].apply(lambda x: x.replace('sqft lot','sqft'))\n",
    "data['lotsize'] = data['lotsize'].apply(lambda x: x.replace('acres lot','acre'))\n",
    "data['lotsize'] = data['lotsize'].apply(lambda x: x.replace('Sq.Ft.','sqft'))\n",
    "data['lotsize'] = data['lotsize'].apply(lambda x: x.replace('Sq. Ft.','sqft'))\n",
    "data['lotsize'] = data['lotsize'].apply(lambda x: x.replace('—','no_data'))\n",
    "data['lotsize'] = data['lotsize'].apply(lambda x: x.replace('--','no_data'))\n",
    "data['lotsize'] = data['lotsize'].apply(lambda x: x.replace('Acre','acre'))\n",
    "data['lotsize'] = data['lotsize'].apply(lambda x: x.replace('acres','acre'))\n",
    "data['lotsize'] = data['lotsize'].apply(lambda x: x.replace('Acres','acre'))\n",
    "# проверка наличия пропусков\n",
    "data['lotsize'].isna().sum()"
   ]
  },
  {
   "cell_type": "code",
   "execution_count": 202,
   "metadata": {},
   "outputs": [
    {
     "data": {
      "text/plain": [
       "mes_unit\n",
       "sqft       163906\n",
       "no_data    135939\n",
       "acre        77290\n",
       "Name: count, dtype: int64"
      ]
     },
     "execution_count": 202,
     "metadata": {},
     "output_type": "execute_result"
    }
   ],
   "source": [
    "# вычленяем данные о единице измерения\n",
    "data['lot_size'] = data['lotsize'].apply(lambda x: x.split()[0] ) # отделяем числовые данные от ед.измерения\n",
    "data['mes_unit'] = data['lotsize'].apply(lambda x: x.split()[1] if len(x.split())>1 else 'no_data') # временный признак - единица измерения площади зем.участка\n",
    "#\n",
    "data['mes_unit'].value_counts()"
   ]
  },
  {
   "cell_type": "markdown",
   "metadata": {},
   "source": [
    "Поле содержит данные в двух единицах измерения - кв.футы и акры. Переводим акры в кв.футы"
   ]
  },
  {
   "cell_type": "code",
   "execution_count": 203,
   "metadata": {},
   "outputs": [
    {
     "data": {
      "text/plain": [
       "0"
      ]
     },
     "execution_count": 203,
     "metadata": {},
     "output_type": "execute_result"
    }
   ],
   "source": [
    "# доп очистка данных\n",
    "data['lot_size'] = data['lot_size'].apply(lambda x: x.replace('no_data','0'))\n",
    "data['lot_size'] = data['lot_size'].apply(lambda x: x.replace(',',''))\n",
    "data['lot_size'] = data['lot_size'].apply(lambda x: '0' if x == '' else x)\n",
    "# приведение поля к типу float\n",
    "data['lot_size'] = data['lot_size'].astype('float')\n",
    "# приведение площади участка к квадратным футам\n",
    "data.loc[data[data['mes_unit'] == 'acre'].index, 'lot_size'] = round(data.loc[data[data['mes_unit'] == 'acre'].index, 'lot_size'] * 43560)\n",
    "# проверка на пропуски\n",
    "data['lot_size'].isna().sum()"
   ]
  },
  {
   "cell_type": "markdown",
   "metadata": {},
   "source": [
    "Обработаем выбросы"
   ]
  },
  {
   "cell_type": "code",
   "execution_count": 204,
   "metadata": {},
   "outputs": [
    {
     "data": {
      "text/plain": [
       "Index([292924], dtype='int64')"
      ]
     },
     "execution_count": 204,
     "metadata": {},
     "output_type": "execute_result"
    }
   ],
   "source": [
    "# определяем индекс записи с отрицательным значением поля Площадь участка\n",
    "data[data['lot_size']<0].index"
   ]
  },
  {
   "cell_type": "code",
   "execution_count": 205,
   "metadata": {},
   "outputs": [
    {
     "data": {
      "text/plain": [
       "(205, 51)"
      ]
     },
     "execution_count": 205,
     "metadata": {},
     "output_type": "execute_result"
    }
   ],
   "source": [
    "data[data['lot_size']>1e+7].shape"
   ]
  },
  {
   "cell_type": "markdown",
   "metadata": {},
   "source": [
    "Большинство выбросов - слишком большие значения. Удалим записи с площадями более 100Га, так как для них речь идет уже не о стоимости жилья, а о неких поместьях.\n",
    "\n",
    "Одно отрицательное значение заполним нулем"
   ]
  },
  {
   "cell_type": "code",
   "execution_count": 206,
   "metadata": {},
   "outputs": [
    {
     "data": {
      "text/plain": [
       "(376930, 51)"
      ]
     },
     "execution_count": 206,
     "metadata": {},
     "output_type": "execute_result"
    }
   ],
   "source": [
    "#data.loc[outliers_z['lot_size'].index, 'lot_size'] = data['lot_size'].median()\n",
    "# Удаляем строки со слишком большими площадями (>100 Га)\n",
    "data = data.drop(labels=data[data['lot_size']>1e+7].index, axis=0)\n",
    "# заполняем отрицательное значение нулем\n",
    "data.loc[292924, 'lot_size'] = 0\n",
    "data.shape"
   ]
  },
  {
   "cell_type": "code",
   "execution_count": 207,
   "metadata": {},
   "outputs": [
    {
     "data": {
      "image/png": "[encoded data removed]",
      "text/plain": [
       "<Figure size 864x360 with 2 Axes>"
      ]
     },
     "metadata": {
      "needs_background": "light"
     },
     "output_type": "display_data"
    }
   ],
   "source": [
    "# логарифмируем распределение\n",
    "data['lot_size_log'] = np.log(data['lot_size']+1)\n",
    "# проверяем распределение данных по целевой переменной\n",
    "fig, axes = plt.subplots(nrows=1, ncols = 2, figsize=(12,5))\n",
    "histplot = sns.histplot(data = data[data['lot_size_log']>0], x = 'lot_size_log', ax=axes[0])\n",
    "histplot.set_title('lot_size distribution')\n",
    "boxplot = sns.boxplot( data = data[data['lot_size_log']>0], x = 'lot_size_log', ax = axes[1])\n",
    "boxplot.set_title('lot_size boxplot');"
   ]
  },
  {
   "cell_type": "code",
   "execution_count": 208,
   "metadata": {},
   "outputs": [],
   "source": [
    "from scipy.stats import normaltest\n",
    "alpha = 0.05\n",
    "H0 = 'Данные распределены нормально'\n",
    "Ha = 'Данные не распределены нормально (мы отвергаем H0)'"
   ]
  },
  {
   "cell_type": "code",
   "execution_count": 209,
   "metadata": {},
   "outputs": [
    {
     "name": "stdout",
     "output_type": "stream",
     "text": [
      "p=0.000\n",
      "Данные не распределены нормально (мы отвергаем H0)\n"
     ]
    }
   ],
   "source": [
    "_, p = normaltest(data['lot_size_log'])\n",
    "#normaltest возвращает двустороннюю вероятность для проверки гипотезы\n",
    "\n",
    "print('p=%.3f' % p)\n",
    "\n",
    "# Интерпретация \n",
    "\n",
    "if p > alpha/2:\n",
    "\tprint(H0)\n",
    "else:\n",
    "\tprint(Ha)"
   ]
  },
  {
   "cell_type": "code",
   "execution_count": 210,
   "metadata": {},
   "outputs": [],
   "source": [
    "# удаляем исходное поле\n",
    "data = data.drop(labels=['mes_unit'], axis=1)\n",
    "# удаляем исходное поле\n",
    "data = data.drop(labels=['lotsize'], axis=1)"
   ]
  },
  {
   "cell_type": "markdown",
   "metadata": {},
   "source": [
    "### Поле 'Price/sqft'"
   ]
  },
  {
   "cell_type": "markdown",
   "metadata": {},
   "source": [
    "Сильно коррелирующее с целевой переменной поле - удалить\n",
    "\n",
    "(теоретически из этого поля можно вытащить доп.данные для определения площади дома или наоборот - заполнения пропущенного целевого значения)"
   ]
  },
  {
   "cell_type": "code",
   "execution_count": 211,
   "metadata": {},
   "outputs": [],
   "source": [
    "# удаляем исходное поле\n",
    "data = data.drop(labels=['Price/sqft'], axis=1)"
   ]
  },
  {
   "cell_type": "markdown",
   "metadata": {},
   "source": [
    "### Обработка поля target.\n",
    "\n",
    "Преобразование типа целевой переменной и очистка выбросов целевой переменной"
   ]
  },
  {
   "cell_type": "code",
   "execution_count": 212,
   "metadata": {},
   "outputs": [
    {
     "data": {
      "text/plain": [
       "(374053, 49)"
      ]
     },
     "execution_count": 212,
     "metadata": {},
     "output_type": "execute_result"
    }
   ],
   "source": [
    "# удаляем строки с пустым target\n",
    "data = data.dropna(axis=0, subset=['target'])\n",
    "\n",
    "# убираем спецсимволы в поле target и помечаем для удаления строки с пометкой /mo (помесячная аренда)\n",
    "specs_list = ['$',',',' ','+']\n",
    "\n",
    "# функция обработки, удаление спецсимволов\n",
    "def search_for_specs(arg):\n",
    "    if '/mo' in arg: # похоже на стоимость помесячной аренды, помечаем эти записи nan для последующего удаления\n",
    "        arg = np.nan\n",
    "        return arg\n",
    "    for symbol in arg:\n",
    "        if symbol in specs_list:\n",
    "            arg = arg.replace(symbol,'')\n",
    "    return arg\n",
    "# обрабатываем поле и преобразуем в тип float\n",
    "data['target'] = data['target'].apply(search_for_specs).astype('float')\n",
    "\n",
    "# удаляем новые строки с пустым target\n",
    "data = data.dropna(axis=0, subset=['target'])\n",
    "data.shape"
   ]
  },
  {
   "cell_type": "markdown",
   "metadata": {},
   "source": [
    "Данные загрязнены выбросами. Необходима очистка выбросов"
   ]
  },
  {
   "cell_type": "code",
   "execution_count": 213,
   "metadata": {},
   "outputs": [
    {
     "data": {
      "text/plain": [
       "(373978, 49)"
      ]
     },
     "execution_count": 213,
     "metadata": {},
     "output_type": "execute_result"
    }
   ],
   "source": [
    "# Удаляем строки с заведомо низкой стоимостью (<1000)\n",
    "data = data.drop(labels=data[data['target']<1000].index, axis=0)\n",
    "data.shape"
   ]
  },
  {
   "cell_type": "code",
   "execution_count": 214,
   "metadata": {},
   "outputs": [],
   "source": [
    "def outliers_iqr_mod(data, feature, log_scale=True, left_iqr=1.5, right_iqr=1.5):\n",
    "    \"\"\"\n",
    "    Функция определения выбросов методом Тьюки\n",
    "    \"\"\"\n",
    "    if log_scale:\n",
    "        x = np.log(data[feature])\n",
    "    else:\n",
    "        x = data[feature]\n",
    "    quartile_1, quartile_3 = x.quantile(0.25), x.quantile(0.75),\n",
    "    iqr = quartile_3 - quartile_1\n",
    "    lower_bound = quartile_1 - (iqr * left_iqr)\n",
    "    upper_bound = quartile_3 + (iqr * right_iqr)\n",
    "    outliers = data[(x<lower_bound) | (x > upper_bound)]\n",
    "    cleaned = data[(x>lower_bound) & (x < upper_bound)]\n",
    "    return outliers, cleaned"
   ]
  },
  {
   "cell_type": "code",
   "execution_count": 215,
   "metadata": {},
   "outputs": [
    {
     "name": "stdout",
     "output_type": "stream",
     "text": [
      "Число выбросов по методу Тьюки: 9280\n",
      "Результирующее число записей: 364698\n"
     ]
    }
   ],
   "source": [
    "outliers, cleaned = outliers_iqr_mod(data, 'target', 5, 5)\n",
    "print(f'Число выбросов по методу Тьюки: {outliers.shape[0]}')\n",
    "print(f'Результирующее число записей: {cleaned.shape[0]}')\n",
    "# продолжаем работу с очищенными данными\n",
    "data = cleaned"
   ]
  },
  {
   "cell_type": "code",
   "execution_count": 216,
   "metadata": {},
   "outputs": [
    {
     "data": {
      "image/png": "[encoded data removed]",
      "text/plain": [
       "<Figure size 864x360 with 2 Axes>"
      ]
     },
     "metadata": {
      "needs_background": "light"
     },
     "output_type": "display_data"
    }
   ],
   "source": [
    "# прологарифмируем целевую переменную\n",
    "data['target_log'] = np.log(data['target']+1)\n",
    "# проверяем распределение данных по целевой переменной\n",
    "fig, axes = plt.subplots(nrows=1, ncols = 2, figsize=(12,5))\n",
    "histplot = sns.histplot(data = data, x = 'target_log', ax=axes[0])\n",
    "histplot.set_title('Target-log distribution')\n",
    "boxplot = sns.boxplot( data = data, x = 'target_log', ax = axes[1])\n",
    "boxplot.set_title('Target-log boxplot');"
   ]
  },
  {
   "cell_type": "markdown",
   "metadata": {},
   "source": [
    "### Один из основных признаков для расчета стоимости жилья - площадь. Выполним преобразование типа этого признака и очистку выбросов"
   ]
  },
  {
   "cell_type": "code",
   "execution_count": 217,
   "metadata": {},
   "outputs": [
    {
     "data": {
      "text/plain": [
       "0               2900\n",
       "1         1,947 sqft\n",
       "2         3,000 sqft\n",
       "3         6,457 sqft\n",
       "4                NaN\n",
       "             ...    \n",
       "377130         4,017\n",
       "377131    2,000 sqft\n",
       "377132    1,152 sqft\n",
       "377133           NaN\n",
       "377134         1,462\n",
       "Name: sqft, Length: 364698, dtype: object"
      ]
     },
     "execution_count": 217,
     "metadata": {},
     "output_type": "execute_result"
    }
   ],
   "source": [
    "data['sqft']"
   ]
  },
  {
   "cell_type": "code",
   "execution_count": 218,
   "metadata": {},
   "outputs": [
    {
     "data": {
      "text/plain": [
       "(326593, 50)"
      ]
     },
     "execution_count": 218,
     "metadata": {},
     "output_type": "execute_result"
    }
   ],
   "source": [
    "# удаляем строки с пустым sqft\n",
    "data = data.dropna(subset=['sqft'], axis=0)\n",
    "data.shape"
   ]
  },
  {
   "cell_type": "code",
   "execution_count": 219,
   "metadata": {},
   "outputs": [
    {
     "name": "stderr",
     "output_type": "stream",
     "text": [
      "C:\\Users\\Ustenko-S\\AppData\\Local\\Temp\\ipykernel_10660\\994964204.py:12: SettingWithCopyWarning: \n",
      "A value is trying to be set on a copy of a slice from a DataFrame.\n",
      "Try using .loc[row_indexer,col_indexer] = value instead\n",
      "\n",
      "See the caveats in the documentation: https://pandas.pydata.org/pandas-docs/stable/user_guide/indexing.html#returning-a-view-versus-a-copy\n",
      "  data['sqft'] = data['sqft'].apply(search_for_symbols).astype('float')\n"
     ]
    },
    {
     "data": {
      "text/plain": [
       "(325840, 50)"
      ]
     },
     "execution_count": 219,
     "metadata": {},
     "output_type": "execute_result"
    }
   ],
   "source": [
    "# убираем фразы и спецсимволы, заданные списком\n",
    "symbols_list = ['sqft','toalinerior','total','interior','livable','area',':','--',' ',',']\n",
    "\n",
    "def search_for_symbols(arg):\n",
    "    for sub_string in symbols_list:\n",
    "        if sub_string in arg:\n",
    "            arg = str.lower(arg).replace(sub_string,'')\n",
    "    if arg == '':\n",
    "        return np.nan\n",
    "    return arg\n",
    "# преобразуем в тип float\n",
    "data['sqft'] = data['sqft'].apply(search_for_symbols).astype('float')\n",
    "# удаляем строки с пустым sqft\n",
    "data = data.dropna(subset=['sqft'], axis=0)\n",
    "data.shape"
   ]
  },
  {
   "cell_type": "code",
   "execution_count": 220,
   "metadata": {},
   "outputs": [
    {
     "data": {
      "text/plain": [
       "(314062, 50)"
      ]
     },
     "execution_count": 220,
     "metadata": {},
     "output_type": "execute_result"
    }
   ],
   "source": [
    "# Удаляем строки со слишком малой площадью (<10)\n",
    "data = data.drop(labels=data[data['sqft']<10].index, axis=0)\n",
    "data.shape"
   ]
  },
  {
   "cell_type": "code",
   "execution_count": 221,
   "metadata": {},
   "outputs": [],
   "source": [
    "# функция определения выбросов методом 3х сигм\n",
    "def outliers_z_score(data, feature, log_scale=False):\n",
    "    if log_scale:\n",
    "        x = np.log(data[feature]+1)\n",
    "    else:\n",
    "        x = data[feature]\n",
    "    mu = x.mean()\n",
    "    sigma = x.std()\n",
    "    lower_bound = mu - 3 * sigma\n",
    "    upper_bound = mu + 3 * sigma\n",
    "    outliers = data[(x < lower_bound) | (x > upper_bound)]\n",
    "    cleaned = data[(x >= lower_bound) & (x <= upper_bound)]\n",
    "    return outliers, cleaned"
   ]
  },
  {
   "cell_type": "code",
   "execution_count": 222,
   "metadata": {},
   "outputs": [
    {
     "name": "stdout",
     "output_type": "stream",
     "text": [
      "Число выбросов по методу z-отклонения: 2129\n",
      "Результирующее число записей: 311933\n"
     ]
    },
    {
     "data": {
      "text/plain": [
       "(311933, 50)"
      ]
     },
     "execution_count": 222,
     "metadata": {},
     "output_type": "execute_result"
    }
   ],
   "source": [
    "outliers_z, cleaned_z = outliers_z_score(data, 'sqft', log_scale=True)\n",
    "print(f'Число выбросов по методу z-отклонения: {outliers_z.shape[0]}')\n",
    "print(f'Результирующее число записей: {cleaned_z.shape[0]}')\n",
    "# продолжаем работу с очищенными данными (cleaned - метод тьюки, cleaned_z - метод 3-х сигм)\n",
    "#data = cleaned\n",
    "data = cleaned_z\n",
    "data.shape"
   ]
  },
  {
   "cell_type": "code",
   "execution_count": 223,
   "metadata": {},
   "outputs": [
    {
     "data": {
      "image/png": "[encoded data removed]",
      "text/plain": [
       "<Figure size 864x360 with 2 Axes>"
      ]
     },
     "metadata": {
      "needs_background": "light"
     },
     "output_type": "display_data"
    }
   ],
   "source": [
    "# логарифмируем распределение\n",
    "data['sqft_log'] = np.log(data['sqft']+1)\n",
    "# проверяем распределение данных по целевой переменной\n",
    "fig, axes = plt.subplots(nrows=1, ncols = 2, figsize=(12,5))\n",
    "histplot = sns.histplot(data = cleaned_z, x = 'sqft_log', ax=axes[0])\n",
    "histplot.set_title('Full square distribution')\n",
    "boxplot = sns.boxplot( data = cleaned_z, x = 'sqft_log', ax = axes[1])\n",
    "boxplot.set_title('Full square boxplot');"
   ]
  },
  {
   "cell_type": "code",
   "execution_count": 224,
   "metadata": {},
   "outputs": [
    {
     "data": {
      "image/png": "[encoded data removed]",
      "text/plain": [
       "<Figure size 720x360 with 1 Axes>"
      ]
     },
     "metadata": {
      "needs_background": "light"
     },
     "output_type": "display_data"
    }
   ],
   "source": [
    "# оценим визуально зависимость цены недвижимости от площади \n",
    "fig, ax = plt.subplots(figsize=(10, 5))\n",
    "sns.scatterplot(x=data['target_log'], y=data['sqft_log'], ax=ax)\n",
    "ax.set_xlabel('Цена')\n",
    "ax.set_ylabel('Площадь');"
   ]
  },
  {
   "cell_type": "markdown",
   "metadata": {},
   "source": [
    "Явной зависимости цены недвижимости от площади не прослеживается. Потребуется использование комплекса признаков для построения модели.\n",
    "\n",
    "Необходимо сгенерировать больше признаков для модели"
   ]
  },
  {
   "cell_type": "code",
   "execution_count": 225,
   "metadata": {},
   "outputs": [],
   "source": [
    "# удаляем поле с логарифмом\n",
    "data = data.drop(labels=['target_log'], axis=1)"
   ]
  },
  {
   "cell_type": "markdown",
   "metadata": {},
   "source": [
    "### Кодируем поле наличия бассейна"
   ]
  },
  {
   "cell_type": "code",
   "execution_count": 226,
   "metadata": {},
   "outputs": [
    {
     "data": {
      "text/plain": [
       "PrivatePool\n",
       "yes    26366\n",
       "Yes    10279\n",
       "Name: count, dtype: int64"
      ]
     },
     "execution_count": 226,
     "metadata": {},
     "output_type": "execute_result"
    }
   ],
   "source": [
    "# изучаем структуру данных\n",
    "data['PrivatePool'].value_counts()"
   ]
  },
  {
   "cell_type": "code",
   "execution_count": 227,
   "metadata": {},
   "outputs": [
    {
     "data": {
      "text/plain": [
       "private pool\n",
       "Yes    3987\n",
       "Name: count, dtype: int64"
      ]
     },
     "execution_count": 227,
     "metadata": {},
     "output_type": "execute_result"
    }
   ],
   "source": [
    "# изучаем структуру данных 2-го поля\n",
    "data['private pool'].value_counts()"
   ]
  },
  {
   "cell_type": "code",
   "execution_count": 228,
   "metadata": {},
   "outputs": [
    {
     "data": {
      "text/plain": [
       "pool\n",
       "0    271301\n",
       "1     40632\n",
       "Name: count, dtype: int64"
      ]
     },
     "execution_count": 228,
     "metadata": {},
     "output_type": "execute_result"
    }
   ],
   "source": [
    "# определяем функцию для обработки полей\n",
    "def pool_detect(arg1, arg2):\n",
    "    #print(type(arg))\n",
    "    if type(arg1) == str:\n",
    "        if str.lower(arg1) == 'yes':\n",
    "            return 1\n",
    "    elif type(arg2) == str:\n",
    "        if str.lower(arg2) == 'yes':\n",
    "            return 1\n",
    "    else:\n",
    "        return 0\n",
    "\n",
    "# кодируем поле по признаку наличия бассейна\n",
    "data['pool'] = data[['private pool','PrivatePool']].apply(lambda x: pool_detect(*x), axis=1).astype('int')\n",
    "data['pool'].value_counts()"
   ]
  },
  {
   "cell_type": "code",
   "execution_count": 229,
   "metadata": {},
   "outputs": [],
   "source": [
    "# удалим исходные поля\n",
    "data = data.drop(labels=['private pool','PrivatePool'], axis=1)"
   ]
  },
  {
   "cell_type": "markdown",
   "metadata": {},
   "source": [
    "### Кодируем \"статус\""
   ]
  },
  {
   "cell_type": "code",
   "execution_count": 230,
   "metadata": {},
   "outputs": [
    {
     "data": {
      "text/plain": [
       "status\n",
       "for sale                             131893\n",
       "Active                                76676\n",
       "For sale                              40978\n",
       "foreclosure                            5463\n",
       "New construction                       5245\n",
       "Pending                                4113\n",
       "Pre-foreclosure                        1557\n",
       "P                                      1439\n",
       "Under Contract Show                    1062\n",
       "Pre-foreclosure / auction               978\n",
       " / auction                              792\n",
       "Under Contract   Showing                745\n",
       "Active Under Contract                   689\n",
       "Under Contract                          650\n",
       "Contingent                              518\n",
       "New                                     480\n",
       "Price Change                            455\n",
       "A Active                                376\n",
       "Auction                                 366\n",
       "Foreclosure                             295\n",
       "Foreclosed                              251\n",
       "Under Contract Backups                  249\n",
       "Contingent Finance And Inspection       229\n",
       "Pending Continue To Show                177\n",
       "Option Pending                          104\n",
       "Name: count, dtype: int64"
      ]
     },
     "execution_count": 230,
     "metadata": {},
     "output_type": "execute_result"
    }
   ],
   "source": [
    "# изучаем значения поля статус и определяем основные признаки для кодирования\n",
    "data['status'].value_counts().head(25)"
   ]
  },
  {
   "cell_type": "markdown",
   "metadata": {},
   "source": [
    "Признаки пересекаются, необходимо применить ручное кодирование"
   ]
  },
  {
   "cell_type": "code",
   "execution_count": 231,
   "metadata": {},
   "outputs": [
    {
     "data": {
      "text/plain": [
       "35011"
      ]
     },
     "execution_count": 231,
     "metadata": {},
     "output_type": "execute_result"
    }
   ],
   "source": [
    "data['status'].isna().sum()"
   ]
  },
  {
   "cell_type": "code",
   "execution_count": 232,
   "metadata": {},
   "outputs": [
    {
     "data": {
      "text/plain": [
       "(311929, 49)"
      ]
     },
     "execution_count": 232,
     "metadata": {},
     "output_type": "execute_result"
    }
   ],
   "source": [
    "# заполняем пропуски заглушкой\n",
    "data['status'] = data['status'].fillna('no_data')\n",
    "# переводим текстовое поле в нижний регистр\n",
    "data['status'] = data['status'].apply(lambda x: str.lower(x))\n",
    "\n",
    "# унифицируем ключевые фразы\n",
    "data['status'] = data['status'].apply(lambda x: 'rental' if 'for rent' in x else x)\n",
    "data['status'] = data['status'].apply(lambda x: 'active' if x == 'a active' or 'coming soon' in x else x)\n",
    "data['status'] = data['status'].apply(lambda x: 'reactivated' if x == 're activated' or x == 'back on market' else x)\n",
    "# проверить ????\n",
    "data['status'] = data['status'].apply(lambda x: 'active backup' if x == 'backup contract' or x == 'backup' or x == 'active backup' else x)\n",
    "#\n",
    "data['status'] = data['status'].apply(lambda x: 'active contingent' if 'active' in x and 'contingen' in x else x)\n",
    "data['status'] = data['status'].apply(lambda x: 'active option' if 'active option contract' in x else x)\n",
    "#\n",
    "#data['status'] = data['status'].apply(lambda x: 'pending taking backups' if x == 'pending - taking backups' else x)\n",
    "data['status'] = data['status'].apply(lambda x: 'contract pending' if x == 'contract p' else x)\n",
    "data['status'] = data['status'].apply(lambda x: 'pending backup' if 'pending' in x and 'backup' in x else x)\n",
    "data['status'] = data['status'].apply(lambda x: 'pending contingency' if 'pending' in x and 'cont' in x else x)\n",
    "data['status'] = data['status'].apply(lambda x: 'pending inspection' if x == 'p' \n",
    "                                      or x == 'pi' \n",
    "                                      or x == 'pending' \n",
    "                                      or x == 'pending in' \n",
    "                                      or x == 'pending inspection'\n",
    "                                      else x)\n",
    "data['status'] = data['status'].apply(lambda x: 'pending continue_to_show' if x == 'ct'\n",
    "                                      or ('pending' in x and 'continue' in x and 'show' in x)\n",
    "                                      else x)\n",
    "data['status'] = data['status'].apply(lambda x: 'pending' if x == 'pending sale'\n",
    "                                      or x == 'p pending sale'\n",
    "                                      or x == 'pending sh'\n",
    "                                      or x == 'ps'\n",
    "                                      or x == 'pf'\n",
    "                                      or ('pending' in x and 'not' in x and 'show' in x)\n",
    "                                      else x)\n",
    "\n",
    "data['status'] = data['status'].apply(lambda x: 'pre-foreclosure' if x == 'pre-foreclosure / auction' else x)\n",
    "data['status'] = data['status'].apply(lambda x: 'under contract' \n",
    "                                      if x == 'under contract   showing' \n",
    "                                      or x == 'under contract show' \n",
    "                                      or x == 'active under contract' \n",
    "                                      or x == 'under contract - show' \n",
    "                                      or x == 'u under contract' \n",
    "                                      else x)\n",
    "data['status'] = data['status'].apply(lambda x: 'contingency' if x == 'contingent show' \n",
    "                                      or x == 'c' \n",
    "                                      or x == 'contingency 48 hr (+/ )'\n",
    "                                      or x == 'contingent   release'\n",
    "                                      else x)\n",
    "data['status'] = data['status'].apply(lambda x: 'foreclosured' if x == 'foreclose' else x)\n",
    "data['status'] = data['status'].apply(lambda x: 'auction' if x == ' / auction' \n",
    "                                      or x == 'auction - active' \n",
    "                                      or x == 'active - auction' \n",
    "                                      else x)\n",
    "data['status'] = data['status'].apply(lambda x: 'new_construction' if x == 'new' or x == 'new construction' else x)\n",
    "# \n",
    "data['status'] = data['status'].apply(lambda x: x.replace('bckp','backup').replace('back up','backup').replace('backups','backup'))\n",
    "data['status'] = data['status'].apply(lambda x: x.replace('accepted','accept').replace('accpt','accept').replace('accepting','accept'))\n",
    "data['status'] = data['status'].apply(lambda x: x.replace('contingent','contingency').replace('accpt','accept'))\n",
    "data['status'] = data['status'].apply(lambda x: x.replace('offers','offer').replace('financing','finance'))\n",
    "data['status'] = data['status'].apply(lambda x: x.replace('  ',' ').replace(' - ',' ').replace('with',''))\n",
    "# Удаляем строки со статусом аренда\n",
    "data = data.drop(labels=data[data['status']=='rental'].index, axis=0)\n",
    "data.shape"
   ]
  },
  {
   "cell_type": "code",
   "execution_count": 233,
   "metadata": {},
   "outputs": [
    {
     "data": {
      "text/plain": [
       "(311929, 68)"
      ]
     },
     "execution_count": 233,
     "metadata": {},
     "output_type": "execute_result"
    }
   ],
   "source": [
    "# собираем словарь из ключевых фраз и закодируем поле статус по словарю для достаточно часто повторяющихся слов (>100 раз)\n",
    "status_codes_dict = {}\n",
    "\n",
    "def status_processing(arg):\n",
    "    dict = arg.split(' ')\n",
    "    for i in range(len(dict)):\n",
    "        word = dict[i]\n",
    "        if word in status_codes_dict:\n",
    "            status_codes_dict[word] += 1\n",
    "        elif len(dict[i])>3:\n",
    "            status_codes_dict[word] = 1\n",
    "    \n",
    "            \n",
    "data['status'].apply(status_processing);\n",
    "# фильтруем словарь\n",
    "status_codes_dict = dict(filter(lambda item: item[1] > 100, status_codes_dict.items()))\n",
    "# сводим в список частых ключевых слов\n",
    "status_codes_list = list(status_codes_dict.keys())\n",
    "# создание новых бинарных признаков, проходим циклом по списку ключевых фраз\n",
    "for i in range(len(status_codes_list)):\n",
    "    field_name = 'status_'+str(i+1)\n",
    "    data[field_name] = data['status'].apply(lambda x: 1 if status_codes_list[i] in x else 0).astype('int')\n",
    "\n",
    "data.shape"
   ]
  },
  {
   "cell_type": "markdown",
   "metadata": {},
   "source": [
    "==============================================="
   ]
  },
  {
   "cell_type": "code",
   "execution_count": 234,
   "metadata": {},
   "outputs": [],
   "source": [
    "# удаляем исходное поле\n",
    "data = data.drop(labels=['status'], axis=1)"
   ]
  },
  {
   "cell_type": "markdown",
   "metadata": {},
   "source": [
    "### Для этажности есть отдельный признак. Кодируем количество этажей с учетом данных из поля PropertyType"
   ]
  },
  {
   "cell_type": "code",
   "execution_count": 235,
   "metadata": {},
   "outputs": [
    {
     "data": {
      "text/plain": [
       "stories\n",
       "1.0    65496\n",
       "2.0    53228\n",
       "1      22323\n",
       "2      17435\n",
       "3.0    10383\n",
       "0.0     6852\n",
       "One     5731\n",
       "0       4013\n",
       "3       3937\n",
       "9.0     2700\n",
       "Name: count, dtype: int64"
      ]
     },
     "execution_count": 235,
     "metadata": {},
     "output_type": "execute_result"
    }
   ],
   "source": [
    "data['stories'].value_counts().head(10)"
   ]
  },
  {
   "cell_type": "code",
   "execution_count": 236,
   "metadata": {},
   "outputs": [
    {
     "data": {
      "text/plain": [
       "stories\n",
       "                           106545\n",
       "1st                         96764\n",
       "2st                         78613\n",
       "3st                         15105\n",
       "9st                          3134\n",
       "4st                          2791\n",
       "3+st                         1333\n",
       "1.5st                        1197\n",
       "6st                           777\n",
       "5st                           651\n",
       "7st                           325\n",
       "8st                           303\n",
       "1st/ranch/1 story             291\n",
       "2st/two story or more         251\n",
       "multi/split                   240\n",
       "2st/2 level, site built       192\n",
       "condominium                   168\n",
       "1st/1 level, site built       155\n",
       "2st/2 story/basement          150\n",
       "stories/levels                131\n",
       "ranch                         127\n",
       "traditional                    87\n",
       "2.50                           83\n",
       "1st/1 story basement           82\n",
       "mid-rise                       78\n",
       "Name: count, dtype: int64"
      ]
     },
     "execution_count": 236,
     "metadata": {},
     "output_type": "execute_result"
    }
   ],
   "source": [
    "# заполняем пропуски заглушкой\n",
    "data['stories'] = data['stories'].fillna('no_data')\n",
    "# символы переводим в нижний регистр\n",
    "data['stories'] = data['stories'].apply(lambda x: str.lower(x))\n",
    "# унифицируем данные\n",
    "data['stories'] = data['stories'].apply(lambda x: '1st' if x=='one' or x=='one story' else x)\n",
    "data['stories'] = data['stories'].apply(lambda x: '2st' if x=='two' else x)\n",
    "data['stories'] = data['stories'].apply(lambda x: '3st' if x=='three' else x)\n",
    "data['stories'] = data['stories'].apply(lambda x: '4st' if x=='quad' else x)\n",
    "data['stories'] = data['stories'].apply(lambda x: '3+st' if x=='three or more' or x=='3+' or '3+ stories' in x else x)\n",
    "\n",
    "\n",
    "data['stories'] = data['stories'].apply(lambda x: '1st' if x=='1' or x[:3]=='1.0' or x=='1 story' or x=='one story' or x=='1 level' or x=='one level' or x=='one-level' else x)\n",
    "data['stories'] = data['stories'].apply(lambda x: '1.5st' if x=='1.5' or x[:3]=='1.5' else x)\n",
    "data['stories'] = data['stories'].apply(lambda x: '2st' if x=='2' or x[:3]=='2.0' or x=='2 story' or x=='2 stories' or x=='two story' or x=='2 level' or x=='bi-level' or x=='townhouse' else x)\n",
    "data['stories'] = data['stories'].apply(lambda x: '3st' if x=='3' or x[:3]=='3.0' or x=='3 story' or x=='3 stories' or x=='three story' or x=='3 level' or x=='tri-level' or x=='t3' else x)\n",
    "data['stories'] = data['stories'].apply(lambda x: '4st' if x=='4' or x[:3]=='4.0' or x=='4 story' or x=='4 stories' or x=='4 level' or x=='quad level' else x)\n",
    "data['stories'] = data['stories'].apply(lambda x: '5st' if x=='5' or x[:3]=='5.0' or x=='5 story' or x=='5 level' else x)\n",
    "data['stories'] = data['stories'].apply(lambda x: '6st' if x=='6' or x[:3]=='6.0' or x=='6 story' or x=='6 level' else x)\n",
    "data['stories'] = data['stories'].apply(lambda x: '7st' if x=='7' or x[:3]=='7.0' or x=='7 story' or x=='7 level' else x)\n",
    "data['stories'] = data['stories'].apply(lambda x: '8st' if x=='8' or x[:3]=='8.0' or x=='8 story' or x=='8 level' else x)\n",
    "data['stories'] = data['stories'].apply(lambda x: '9st' if x=='9' or x[:3]=='9.0' or x=='9 story' or x=='9 level' else x)\n",
    "#\n",
    "data['stories'] = data['stories'].apply(lambda x: '1st/'+x if 'one' in x or '1 story' in x or '1 level' in x or 'one level' in x else x)\n",
    "data['stories'] = data['stories'].apply(lambda x: '2st/'+x if 'two' in x or '2 stories' in x or '2 story' in x or '2 level' in x else x)\n",
    "data['stories'] = data['stories'].apply(lambda x: '3st/'+x if 'three' in x or '3 stories' in x or '3 level' in x else x)\n",
    "data['stories'] = data['stories'].apply(lambda x: '4st/'+x if 'quad' in x or '4 stories' in x or '4 level' in x else x)\n",
    "#\n",
    "data['stories'] = data['stories'].apply(lambda x: '' if x=='0' or x=='0.0' else x)\n",
    "data['stories'] = data['stories'].apply(lambda x: '' if x=='no_data' else x)\n",
    "#\n",
    "data['stories'].value_counts().head(25)"
   ]
  },
  {
   "cell_type": "code",
   "execution_count": 237,
   "metadata": {},
   "outputs": [],
   "source": [
    "# создаем новые признаки для основных типов этажности\n",
    "data['1_story'] = data['stories'].apply(lambda x: 1 if '1st' in x or x == '' else 0).astype('int')\n",
    "data['1h_story'] = data['stories'].apply(lambda x: 1 if x=='1.5' or x[:3]=='1.5' else 0)\n",
    "data['2_story'] = data['stories'].apply(lambda x: 1 if '2st' in x else 0).astype('int')\n",
    "data['3_story'] = data['stories'].apply(lambda x: 1 if '3st' in x else 0).astype('int')\n",
    "data['3m_story'] = data['stories'].apply(lambda x: 1 if '3+st' in x else 0).astype('int')\n",
    "data['4_story'] = data['stories'].apply(lambda x: 1 if '4st' in x else 0).astype('int')\n",
    "data['5_story'] = data['stories'].apply(lambda x: 1 if '5st' in x else 0).astype('int')\n",
    "data['6_story'] = data['stories'].apply(lambda x: 1 if '6st' in x else 0).astype('int')\n",
    "data['7_story'] = data['stories'].apply(lambda x: 1 if '7st' in x else 0).astype('int')\n",
    "data['8_story'] = data['stories'].apply(lambda x: 1 if '8st' in x else 0).astype('int')"
   ]
  },
  {
   "cell_type": "markdown",
   "metadata": {},
   "source": [
    "Идеи для дальнейшей обработки: можно еще слить поля stories и propertyType так как в них много общих данных"
   ]
  },
  {
   "cell_type": "code",
   "execution_count": 238,
   "metadata": {},
   "outputs": [],
   "source": [
    "# удаляем исходное поле\n",
    "data = data.drop(labels=['stories'], axis=1)"
   ]
  },
  {
   "cell_type": "markdown",
   "metadata": {},
   "source": [
    "### Кодируем тип недвижимости \"propertyType\""
   ]
  },
  {
   "cell_type": "code",
   "execution_count": 239,
   "metadata": {},
   "outputs": [
    {
     "data": {
      "text/plain": [
       "propertyType\n",
       "single-family home               88464\n",
       "Single Family                    58876\n",
       "Single Family Home               30816\n",
       "condo                            23962\n",
       "Condo                            15510\n",
       "townhouse                        11014\n",
       "Condo/Townhome/Row Home/Co-Op     7499\n",
       "multi-family                      6905\n",
       "Townhouse                         6659\n",
       "Traditional                       5820\n",
       "Name: count, dtype: int64"
      ]
     },
     "execution_count": 239,
     "metadata": {},
     "output_type": "execute_result"
    }
   ],
   "source": [
    "# исследуем структуру данных поля\n",
    "data['propertyType'].value_counts().head(10)"
   ]
  },
  {
   "cell_type": "markdown",
   "metadata": {},
   "source": [
    "Здесь также лучше подойдет ручное кодирование"
   ]
  },
  {
   "cell_type": "code",
   "execution_count": 240,
   "metadata": {},
   "outputs": [],
   "source": [
    "# заполняем пропуски заглушкой\n",
    "data['propertyType'] = data['propertyType'].fillna('unknown')\n",
    "# символы переводим в нижний регистр\n",
    "data['propertyType'] = data['propertyType'].apply(lambda x: str.lower(x))\n",
    "data['propertyType'] = data['propertyType'].apply(lambda x: 'unknown' if x == ' ' else x)\n",
    "# унификация данных\n",
    "#data['propertyType'] = data['propertyType'].apply(lambda x: 'no_data' if x == 'none' or x == 'No Data' else x)\n",
    "data['propertyType'] = data['propertyType'].apply(lambda x: x.replace('one story','1st'))\n",
    "data['propertyType'] = data['propertyType'].apply(lambda x: x.replace('1 story','1st'))\n",
    "data['propertyType'] = data['propertyType'].apply(lambda x: x.replace('2 stories','2st'))\n",
    "data['propertyType'] = data['propertyType'].apply(lambda x: x.replace('two story','2st'))\n",
    "data['propertyType'] = data['propertyType'].apply(lambda x: x.replace('bilevel','2st'))\n",
    "data['propertyType'] = data['propertyType'].apply(lambda x: x.replace('2 levels','2st'))\n",
    "data['propertyType'] = data['propertyType'].apply(lambda x: x.replace('tri-level','3st'))\n",
    "data['propertyType'] = data['propertyType'].apply(lambda x: '3st' if x == 'tri-level' else x)\n",
    "data['propertyType'] = data['propertyType'].apply(lambda x: '3st' if x == 'less than 4 floors' else x)\n",
    "data['propertyType'] = data['propertyType'].apply(lambda x: x.replace('2 story','2st'))\n",
    "data['propertyType'] = data['propertyType'].apply(lambda x: x.replace('bi-level ','split'))\n",
    "#data['propertyType'] = data['propertyType'].apply(lambda x: x.replace('split-level','2st'))\n",
    "data['propertyType'] = data['propertyType'].apply(lambda x: x.replace('midcentury','mid century').replace('midcentury','mid-century'))\n",
    "data['propertyType'] = data['propertyType'].apply(lambda x: 'unknown' if 'other' in x or x == 'miscellaneous' or x == 'custom' or x == '' or x == ' ' else x)"
   ]
  },
  {
   "cell_type": "code",
   "execution_count": 241,
   "metadata": {},
   "outputs": [
    {
     "data": {
      "text/plain": [
       "40"
      ]
     },
     "execution_count": 241,
     "metadata": {},
     "output_type": "execute_result"
    }
   ],
   "source": [
    "extra_data_status = pd.DataFrame()\n",
    "# собираем ключевые фразы для кодирования статусов\n",
    "status_codes = [['single','family','detached','tiny home'],\n",
    "                '1st','2st','3st',\n",
    "                'condo','town','tradition','craftsman','cottage','high','federal','tudor','loft','split-entry',\n",
    "                'split','basement','penthouse','historic','fourplex','mid-rise','duplex','french','elevated','a-frame',\n",
    "                'bungalow','coastal',\n",
    "                ['flat','apartment'],\n",
    "                ['mid-rise','3+ stories'],\n",
    "                ['beaux arts','art deco'],\n",
    "                ['mediterran','spanish'],\n",
    "                ['colonial','georgian','charleston'],\n",
    "                ['english','victorian'],\n",
    "                ['santa barbara','tuscan'],\n",
    "                ['multi','cluster'],\n",
    "                ['florida','cape','key west'],\n",
    "                ['contemp','modern'],\n",
    "                ['ranch','farm'],\n",
    "                ['coop','co-op'],\n",
    "                ['mobile','carriage'],\n",
    "                ['manufactur','prefab','modular']]\n",
    "# создание новых бинарных признаков проходим циклом по списку ключевых фраз\n",
    "for i in range(len(status_codes)):\n",
    "    if type(status_codes[i])==list and len(status_codes[i]) == 2:\n",
    "        field_name = 'type_'+str(i+1)\n",
    "        extra_data_status[field_name] = data['propertyType'].apply(lambda x: 1 if status_codes[i][0] in x or status_codes[i][1] in x else 0).astype('int')\n",
    "    elif type(status_codes[i])==list and len(status_codes[i]) == 3:\n",
    "        field_name = 'type_'+str(i+1)\n",
    "        extra_data_status[field_name] = data['propertyType'].apply(lambda x: 1 if status_codes[i][0] in x or status_codes[i][1] in x or status_codes[i][2] in x else 0).astype('int')\n",
    "    elif type(status_codes[i])==list and len(status_codes[i]) == 4:\n",
    "        field_name = 'type_'+str(i+1)\n",
    "        extra_data_status[field_name] = data['propertyType'].apply(lambda x: 1 if status_codes[i][0] in x \n",
    "                                                      or status_codes[i][1] in x \n",
    "                                                      or status_codes[i][2] in x \n",
    "                                                      or status_codes[i][3] in x else 0).astype('int')\n",
    "    else:\n",
    "        field_name = 'type_'+str(i+1)\n",
    "        extra_data_status[field_name] = data['propertyType'].apply(lambda x: 1 if status_codes[i] in x else 0).astype('int')\n",
    "# считаем количество новых признаков\n",
    "len(status_codes)"
   ]
  },
  {
   "cell_type": "code",
   "execution_count": 242,
   "metadata": {},
   "outputs": [
    {
     "data": {
      "text/plain": [
       "(308371, 116)"
      ]
     },
     "execution_count": 242,
     "metadata": {},
     "output_type": "execute_result"
    }
   ],
   "source": [
    "# тип земля или съемная квартира - помечаем на удаление\n",
    "extra_data_status['type_lot'] = data['propertyType'].apply(lambda x: 1 if 'lot' in x or 'land' in x else 0).astype('int')\n",
    "# склеиваем датафреймы\n",
    "data = pd.concat([data, extra_data_status], axis=1)\n",
    "# удаляем исходное поле\n",
    "data = data.drop(labels=['propertyType'], axis=1)\n",
    "# Удаляем строки с типом \"земельный участок\"\n",
    "data = data.drop(labels=data[data['type_lot']==1].index, axis=0)\n",
    "data.shape"
   ]
  },
  {
   "cell_type": "code",
   "execution_count": 243,
   "metadata": {},
   "outputs": [],
   "source": [
    "# удаляем исходное поле \"земельный участок\"\n",
    "data = data.drop(labels=['type_lot'], axis=1)"
   ]
  },
  {
   "cell_type": "markdown",
   "metadata": {},
   "source": [
    "### Кодируем количество спален"
   ]
  },
  {
   "cell_type": "code",
   "execution_count": 244,
   "metadata": {},
   "outputs": [
    {
     "data": {
      "text/plain": [
       "0              4\n",
       "1         3 Beds\n",
       "2         3 Beds\n",
       "3         5 Beds\n",
       "5         2 Beds\n",
       "           ...  \n",
       "377129         2\n",
       "377130         5\n",
       "377131    3 Beds\n",
       "377132    3 Beds\n",
       "377134         3\n",
       "Name: beds, Length: 308371, dtype: object"
      ]
     },
     "execution_count": 244,
     "metadata": {},
     "output_type": "execute_result"
    }
   ],
   "source": [
    "data['beds']"
   ]
  },
  {
   "cell_type": "code",
   "execution_count": 245,
   "metadata": {},
   "outputs": [
    {
     "data": {
      "text/plain": [
       "45001"
      ]
     },
     "execution_count": 245,
     "metadata": {},
     "output_type": "execute_result"
    }
   ],
   "source": [
    "data['beds'].isna().sum()"
   ]
  },
  {
   "cell_type": "code",
   "execution_count": 246,
   "metadata": {},
   "outputs": [],
   "source": [
    "# заполняем пропуски заглушкой - нулем.\n",
    "data['beds'] = data['beds'].fillna('0')\n",
    "# убираем спецсимволы в поле target и помечаем для удаления строки с пометкой /mo (помесячная аренда)\n",
    "words_list = ['beds',' ','bd','--']\n",
    "\n",
    "def search_for_symbols(arg):\n",
    "    for sub_string in words_list:\n",
    "        if sub_string in str.lower(arg):\n",
    "            arg = str.lower(arg).replace(sub_string,'')\n",
    "    if 'sqft' in str.lower(arg) or 'bath' in str.lower(arg) or 'price' in str.lower(arg):\n",
    "        return 1\n",
    "    if arg == '':\n",
    "        return 1\n",
    "    return arg\n",
    "\n",
    "# удаляем символы и преобразуем в тип float\n",
    "data['beds'] = data['beds'].apply(search_for_symbols).astype('float').astype('int')"
   ]
  },
  {
   "cell_type": "markdown",
   "metadata": {},
   "source": [
    "### Кодируем количество ванных комнат"
   ]
  },
  {
   "cell_type": "code",
   "execution_count": 247,
   "metadata": {},
   "outputs": [
    {
     "data": {
      "text/plain": [
       "0             3.5\n",
       "1         3 Baths\n",
       "2         2 Baths\n",
       "3         8 Baths\n",
       "5             NaN\n",
       "           ...   \n",
       "377129          3\n",
       "377130        6.0\n",
       "377131    3 Baths\n",
       "377132    3 Baths\n",
       "377134        2.0\n",
       "Name: baths, Length: 308371, dtype: object"
      ]
     },
     "execution_count": 247,
     "metadata": {},
     "output_type": "execute_result"
    }
   ],
   "source": [
    "data['baths']"
   ]
  },
  {
   "cell_type": "code",
   "execution_count": null,
   "metadata": {},
   "outputs": [],
   "source": []
  },
  {
   "cell_type": "code",
   "execution_count": 248,
   "metadata": {},
   "outputs": [],
   "source": [
    "# заполняем пропуски заглушкой\n",
    "data['baths'] = data['baths'].fillna('0')\n",
    "# убираем спецсимволы в поле target и помечаем для удаления строки с пометкой /mo (помесячная аренда)\n",
    "words_list = ['baths',' ','bathrooms:','ba','~','+','/','sq.ft.','-','semimod','—']\n",
    "\n",
    "def search_for_symbols(arg):\n",
    "    for sub_string in words_list:\n",
    "        if sub_string in str.lower(arg):\n",
    "            arg = str.lower(arg).replace(sub_string,'')\n",
    "    if ',' in str.lower(arg):\n",
    "        arg = str.lower(arg).replace(',','.')\n",
    "    if arg == '':\n",
    "        return 1\n",
    "    return arg\n",
    "\n",
    "# удаляем символы и преобразуем в тип целый\n",
    "data['baths'] = data['baths'].apply(search_for_symbols).astype('float').astype('int')"
   ]
  },
  {
   "cell_type": "markdown",
   "metadata": {},
   "source": [
    "Поле \"кол-во ванных комнат\" содержит странные числа. Все что больше 10 приравниваем 1"
   ]
  },
  {
   "cell_type": "code",
   "execution_count": 249,
   "metadata": {},
   "outputs": [
    {
     "data": {
      "text/plain": [
       "baths\n",
       "2     116129\n",
       "3      70636\n",
       "0      55922\n",
       "4      26338\n",
       "1      24857\n",
       "5       8727\n",
       "6       3416\n",
       "7       1317\n",
       "8        598\n",
       "9        150\n",
       "10        92\n",
       "12        64\n",
       "11        53\n",
       "13        28\n",
       "16        13\n",
       "14        11\n",
       "18         8\n",
       "20         6\n",
       "15         5\n",
       "19         1\n",
       "Name: count, dtype: int64"
      ]
     },
     "execution_count": 249,
     "metadata": {},
     "output_type": "execute_result"
    }
   ],
   "source": [
    "# заменяем странные значения на 1\n",
    "data['baths'] = data['baths'].apply(lambda x: 1 if x > 20 else x)\n",
    "data['baths'].value_counts()"
   ]
  },
  {
   "cell_type": "markdown",
   "metadata": {},
   "source": [
    "### Кодируем количество каминов"
   ]
  },
  {
   "cell_type": "code",
   "execution_count": 250,
   "metadata": {},
   "outputs": [
    {
     "data": {
      "text/plain": [
       "fireplace\n",
       "yes               46705\n",
       "Yes               19654\n",
       "1                 13912\n",
       "2                  2184\n",
       "Not Applicable     1983\n",
       "Fireplace           827\n",
       "3                   427\n",
       "Living Room         394\n",
       "Wood Burning        303\n",
       "Gas/Gas Logs        296\n",
       "Name: count, dtype: int64"
      ]
     },
     "execution_count": 250,
     "metadata": {},
     "output_type": "execute_result"
    }
   ],
   "source": [
    "data['fireplace'].value_counts().head(10)"
   ]
  },
  {
   "cell_type": "code",
   "execution_count": 251,
   "metadata": {},
   "outputs": [],
   "source": [
    "# заполняем пропуски заглушкой\n",
    "data['fireplace'] = data['fireplace'].fillna('0')\n",
    "# символы переводим в нижний регистр\n",
    "data['fireplace'] = data['fireplace'].apply(lambda x: str.lower(x))"
   ]
  },
  {
   "cell_type": "code",
   "execution_count": 252,
   "metadata": {},
   "outputs": [],
   "source": [
    "extra_data = pd.DataFrame()\n",
    "# собираем ключевые фразы для кодирования статусов\n",
    "fireplace_keys = ['gas','closet','electric','storage','extra','utility connection',\n",
    "                  ['logs','wood'],\n",
    "                  ['brick','masonry']]\n",
    "# создание новых бинарных признаков\n",
    "for i in range(len(fireplace_keys)):\n",
    "    if type(fireplace_keys[i])==list and len(fireplace_keys[i]) == 2:\n",
    "        field_name = 'fp_'+str(i+1)\n",
    "        extra_data[field_name] = data['fireplace'].apply(lambda x: 1 if fireplace_keys[i][0] in x or fireplace_keys[i][1] in x else 0).astype('int')\n",
    "    else:\n",
    "        field_name = 'fp_'+str(i+1)\n",
    "        extra_data[field_name] = data['fireplace'].apply(lambda x: 1 if fireplace_keys[i] in x else 0).astype('int')"
   ]
  },
  {
   "cell_type": "code",
   "execution_count": 253,
   "metadata": {},
   "outputs": [
    {
     "data": {
      "text/plain": [
       "(308371, 123)"
      ]
     },
     "execution_count": 253,
     "metadata": {},
     "output_type": "execute_result"
    }
   ],
   "source": [
    "# кодируем поле по количеству каминов\n",
    "fireplace_yes_words = ['gas','wood','family','features','room','den','firepit']\n",
    "#fireplace_no_words = ['decorative', 'n/k', 'not app', 'fireplace yn', 'electric', 'no fireplace']\n",
    "\n",
    "def search_for_words(arg):\n",
    "    if arg == 'yes' or arg == 'fireplace' or '1' in arg or 'one' in arg:\n",
    "        return 1\n",
    "    elif 'two' in arg or '2' in arg:\n",
    "        return 2\n",
    "    elif '3' in arg:\n",
    "        return 3\n",
    "    else:\n",
    "        for word in fireplace_yes_words:\n",
    "            if word in arg:\n",
    "                return 1\n",
    "        return 0\n",
    "\n",
    "# \n",
    "data['fireplace'] = data['fireplace'].apply(search_for_words).astype('int')\n",
    "# склеиваем датафреймы\n",
    "data = pd.concat([data, extra_data], axis=1)\n",
    "data.shape"
   ]
  },
  {
   "cell_type": "markdown",
   "metadata": {},
   "source": [
    "### Распаковываем поле Scools"
   ]
  },
  {
   "cell_type": "code",
   "execution_count": 254,
   "metadata": {},
   "outputs": [],
   "source": [
    "# перестраиваем индекс и далее работаем с копией датасета с новым индексом\n",
    "data_reset = data.reset_index()"
   ]
  },
  {
   "cell_type": "code",
   "execution_count": 255,
   "metadata": {},
   "outputs": [
    {
     "name": "stdout",
     "output_type": "stream",
     "text": [
      "<class 'pandas.core.frame.DataFrame'>\n",
      "RangeIndex: 308371 entries, 0 to 308370\n",
      "Data columns (total 6 columns):\n",
      " #   Column    Non-Null Count   Dtype \n",
      "---  ------    --------------   ----- \n",
      " 0   schools   308371 non-null  object\n",
      " 1   rating    308371 non-null  object\n",
      " 2   data      308371 non-null  object\n",
      " 3   name      308371 non-null  object\n",
      " 4   Distance  308371 non-null  object\n",
      " 5   Grades    308371 non-null  object\n",
      "dtypes: object(6)\n",
      "memory usage: 14.1+ MB\n"
     ]
    }
   ],
   "source": [
    "# распаковка поля schools и извлечение новых признаков\n",
    "schools_list_1 = list() # создаем пустой список для словарей\n",
    "schools_list_2 = list() # создаем пустой список для словарей\n",
    "# создаем новый датафрейм для обработки школьных данных\n",
    "extra_data = pd.DataFrame(data_reset['schools'])\n",
    "\n",
    "def schools_unpack(arg): # функция распаковки поля schools\n",
    "    schools_list_1.append(eval(arg)[0])\n",
    "    schools_list_2.append(eval(arg)[0]['data'])\n",
    "    \n",
    "# обрабатываем поле функцией\n",
    "data_reset['schools'].apply(schools_unpack);\n",
    "# преобразуем списки словарей в датафреймы\n",
    "extra_data_1 = pd.DataFrame(schools_list_1)\n",
    "extra_data_2 = pd.DataFrame(schools_list_2)\n",
    "# склеиваем датафреймы\n",
    "extra_data = pd.concat([extra_data, extra_data_1], axis=1)\n",
    "extra_data = pd.concat([extra_data, extra_data_2], axis=1)\n",
    "# новые признаки\n",
    "extra_data.info()"
   ]
  },
  {
   "cell_type": "markdown",
   "metadata": {},
   "source": [
    "Можно посчитать количество школ в окрестности объекта, средний рейтинг школ, среднюю дистанцию по трем новым признакам"
   ]
  },
  {
   "cell_type": "markdown",
   "metadata": {},
   "source": [
    "### Обработка поля schools"
   ]
  },
  {
   "cell_type": "code",
   "execution_count": 256,
   "metadata": {},
   "outputs": [],
   "source": [
    "# Определяем новый признак - количество школ в округе\n",
    "extra_data['school_count'] = extra_data['name'].apply(lambda x: len(x)).astype('int')"
   ]
  },
  {
   "cell_type": "markdown",
   "metadata": {},
   "source": [
    "### Определяем новые признаки из расстояний до школ"
   ]
  },
  {
   "cell_type": "code",
   "execution_count": 257,
   "metadata": {},
   "outputs": [],
   "source": [
    "def school_distance_avg(arg):\n",
    "    \"\"\"функция рассчета среднего расстояния до школ\n",
    "\n",
    "    Args:\n",
    "        arg (list): список из чисел с обозначением mi\n",
    "\n",
    "    Returns:\n",
    "        float: средний рейтинг\n",
    "    \"\"\"\n",
    "    n = 0\n",
    "    if len(arg) > 0: # если список не пустой\n",
    "        for i in arg: # цикл по списку\n",
    "            i = re.sub(r'[a-zA-Z ]', '', i) # удаляем символы\n",
    "            if i != '':\n",
    "                n += float(i)\n",
    "        return round(n / len(arg),1)\n",
    "    else:\n",
    "        return 0\n",
    "    \n",
    "def school_distance_min(arg):\n",
    "    \"\"\" функция рассчета расстояния до ближайшей школы\n",
    "\n",
    "    Args:\n",
    "        arg (list): список из чисел с обозначением mi из поля Distance\n",
    "\n",
    "    Returns:\n",
    "        list: список из двух элементов: мин расстояние и номер школы\n",
    "    \"\"\"\n",
    "    \n",
    "    n = 999\n",
    "    if len(arg) > 0: # если список не пустой\n",
    "        counter = min_number = 0\n",
    "        for i in arg: # цикл по списку\n",
    "            i = re.sub(r'[a-zA-Z ]', '', i) # удаляем символы\n",
    "            if i != '' and float(i) < n:\n",
    "               min_number = counter\n",
    "               n = float(i)\n",
    "            counter += 1\n",
    "        return [min_number, n]\n",
    "    else:\n",
    "        return [0, 999]\n",
    "# добавляем новые признаки\n",
    "extra_data['school_distance_min'] = extra_data['Distance'].apply(school_distance_min) # расстояние до ближайшей школы\n",
    "extra_data['school_distance_avg'] = extra_data['Distance'].apply(school_distance_avg) # среднее расстояние до школ"
   ]
  },
  {
   "cell_type": "markdown",
   "metadata": {},
   "source": [
    "### \"Средний рейтинг школ в округе\""
   ]
  },
  {
   "cell_type": "code",
   "execution_count": 258,
   "metadata": {},
   "outputs": [],
   "source": [
    "def rating_processing(arg):\n",
    "    \"\"\" функция обработки рейтингов школ\n",
    "\n",
    "    Args:\n",
    "        arg (list): список из чисел из поля rating, содержащий спецсимволы\n",
    "\n",
    "    Returns:\n",
    "        list: очищенный список из чисел\n",
    "    \"\"\"\n",
    "    if len(arg) > 0:\n",
    "        for i in range(len(arg)):\n",
    "            arg[i] = re.sub(r'[a-zA-Z/10]', '', arg[i])\n",
    "        return arg\n",
    "    else:\n",
    "        return arg\n",
    "\n",
    "extra_data['school_rating'] = extra_data['rating'].apply(rating_processing) # рейтинги школ"
   ]
  },
  {
   "cell_type": "code",
   "execution_count": 259,
   "metadata": {},
   "outputs": [
    {
     "data": {
      "text/plain": [
       "0         [4, 4, 7, , 4, 7, , ]\n",
       "1                      [4, , 4]\n",
       "2                     [8, 4, 8]\n",
       "3                   [9, 9, , 9]\n",
       "4                            []\n",
       "                  ...          \n",
       "308366                   [3, 3]\n",
       "308367                    [, 5]\n",
       "308368                 [, 5, 7]\n",
       "308369                   [5, 4]\n",
       "308370                [5, 4, 3]\n",
       "Name: school_rating, Length: 308371, dtype: object"
      ]
     },
     "execution_count": 259,
     "metadata": {},
     "output_type": "execute_result"
    }
   ],
   "source": [
    "extra_data['school_rating']"
   ]
  },
  {
   "cell_type": "code",
   "execution_count": 260,
   "metadata": {},
   "outputs": [],
   "source": [
    "def rating_processing(arg):\n",
    "    \"\"\" функция рассчета среднего рейтинга школ\n",
    "\n",
    "    Args:\n",
    "        arg (list): список из чисел из поля rating, содержащий спецсимволы\n",
    "    \"\"\"\n",
    "    n = 0\n",
    "    if len(arg) > 0:\n",
    "        for i in arg:\n",
    "            if i != '':\n",
    "                n += int(i)\n",
    "        return round(n / len(arg),1)\n",
    "    else:\n",
    "        return 0\n",
    "\n",
    "extra_data['school_rating_avg'] = extra_data['school_rating'].apply(rating_processing) # усредненный рейтинг школ"
   ]
  },
  {
   "cell_type": "markdown",
   "metadata": {},
   "source": [
    "### Рейтинг ближайшей школы"
   ]
  },
  {
   "cell_type": "code",
   "execution_count": 261,
   "metadata": {},
   "outputs": [],
   "source": [
    "# определяем ближайшую школу\n",
    "extra_data['school_nearest'] = extra_data['school_distance_min'].apply(lambda x: x[0])\n",
    "def rating_nearest_school(x, y):\n",
    "    if len(x)>0:\n",
    "        return x[y]\n",
    "    else:\n",
    "        return 0\n",
    "\n",
    "# создаем новые признаки - рейтинг и расстояние до ближайшей школы\n",
    "extra_data['school_rating_prx'] = extra_data.apply(lambda row: rating_nearest_school(row['school_rating'],row['school_nearest']), axis=1)\n",
    "extra_data['school_distance_min'] = extra_data['school_distance_min'].apply(lambda x: x[1])"
   ]
  },
  {
   "cell_type": "markdown",
   "metadata": {},
   "source": [
    "Обработаем пропуски. Заполним средним значением пропуски в поле 'school_distance_min'"
   ]
  },
  {
   "cell_type": "code",
   "execution_count": 262,
   "metadata": {},
   "outputs": [
    {
     "data": {
      "text/plain": [
       "school_rating_prx\n",
       "4    41170\n",
       "     40289\n",
       "5    39294\n",
       "3    39229\n",
       "6    35875\n",
       "7    33050\n",
       "2    30426\n",
       "8    27689\n",
       "9    18990\n",
       "0     2359\n",
       "Name: count, dtype: int64"
      ]
     },
     "execution_count": 262,
     "metadata": {},
     "output_type": "execute_result"
    }
   ],
   "source": [
    "extra_data['school_rating_prx'].value_counts()"
   ]
  },
  {
   "cell_type": "code",
   "execution_count": 263,
   "metadata": {},
   "outputs": [
    {
     "data": {
      "text/plain": [
       "2879"
      ]
     },
     "execution_count": 263,
     "metadata": {},
     "output_type": "execute_result"
    }
   ],
   "source": [
    "extra_data.loc[extra_data[extra_data['school_rating_prx']==''].index, 'school_rating_prx'] = np.nan\n",
    "extra_data['school_rating_prx'] = extra_data['school_rating_prx'].astype('float')\n",
    "# обрабатываем странные значения Year built, пропускам присваиваем NaN\n",
    "extra_data.loc[extra_data[extra_data['school_distance_min']==999].index, 'school_distance_min'] = np.nan\n",
    "extra_data.loc[extra_data[extra_data['school_distance_min']==0].index, 'school_distance_min'] = np.nan\n",
    "extra_data.loc[extra_data[extra_data['school_distance_avg']==0].index, 'school_distance_avg'] = np.nan\n",
    "extra_data.loc[extra_data[extra_data['school_rating_avg']==0].index, 'school_rating_avg'] = np.nan\n",
    "extra_data.loc[extra_data[extra_data['school_rating_prx']==''].index, 'school_rating_prx'] = np.nan\n",
    "extra_data.loc[extra_data[extra_data['school_rating_prx']==0].index, 'school_rating_prx'] = np.nan\n",
    "extra_data['school_distance_min'].isna().sum()"
   ]
  },
  {
   "cell_type": "code",
   "execution_count": 264,
   "metadata": {},
   "outputs": [
    {
     "name": "stdout",
     "output_type": "stream",
     "text": [
      "<class 'pandas.core.frame.DataFrame'>\n",
      "RangeIndex: 308371 entries, 0 to 308370\n",
      "Data columns (total 13 columns):\n",
      " #   Column               Non-Null Count   Dtype  \n",
      "---  ------               --------------   -----  \n",
      " 0   schools              308371 non-null  object \n",
      " 1   rating               308371 non-null  object \n",
      " 2   data                 308371 non-null  object \n",
      " 3   name                 308371 non-null  object \n",
      " 4   Distance             308371 non-null  object \n",
      " 5   Grades               308371 non-null  object \n",
      " 6   school_count         308371 non-null  int32  \n",
      " 7   school_distance_min  308371 non-null  float64\n",
      " 8   school_distance_avg  308371 non-null  float64\n",
      " 9   school_rating        308371 non-null  object \n",
      " 10  school_rating_avg    308371 non-null  float64\n",
      " 11  school_nearest       308371 non-null  int64  \n",
      " 12  school_rating_prx    308371 non-null  float64\n",
      "dtypes: float64(4), int32(1), int64(1), object(7)\n",
      "memory usage: 29.4+ MB\n"
     ]
    }
   ],
   "source": [
    "extra_data = extra_data.fillna({\n",
    "    'school_distance_min': round(extra_data['school_distance_min'].mean(),1),\n",
    "    'school_distance_avg': round(extra_data['school_distance_avg'].mean(),1),\n",
    "    'school_rating_avg': round(extra_data['school_rating_avg'].mean(),1),\n",
    "    'school_rating_prx': round(extra_data['school_rating_prx'].mean(),1)\n",
    "    } )\n",
    "extra_data.info()"
   ]
  },
  {
   "cell_type": "code",
   "execution_count": 265,
   "metadata": {},
   "outputs": [],
   "source": [
    "# удаляем исходные столбцы\n",
    "data_reset.drop(labels=['schools','index'], axis=1, inplace=True)\n",
    "# удаляем исходный столбец\n",
    "extra_data.drop(labels=['name','rating','data','Grades','Distance','schools','school_rating','school_nearest'], axis=1, inplace=True)"
   ]
  },
  {
   "cell_type": "code",
   "execution_count": 266,
   "metadata": {},
   "outputs": [
    {
     "name": "stdout",
     "output_type": "stream",
     "text": [
      "<class 'pandas.core.frame.DataFrame'>\n",
      "RangeIndex: 308371 entries, 0 to 308370\n",
      "Columns: 127 entries, baths to school_rating_prx\n",
      "dtypes: float64(11), int32(112), int64(4)\n",
      "memory usage: 167.0 MB\n"
     ]
    }
   ],
   "source": [
    "# склеиваем датафреймы\n",
    "data_reset = pd.concat([data_reset, extra_data], axis=1)\n",
    "data_reset.info()"
   ]
  },
  {
   "cell_type": "markdown",
   "metadata": {},
   "source": [
    "Выгружаем подготовленный датасет в файл"
   ]
  },
  {
   "cell_type": "code",
   "execution_count": 267,
   "metadata": {},
   "outputs": [],
   "source": [
    "# выгрузка данных в файл\n",
    "data_reset.to_csv(\"./data/data_prepared.csv\", sep=',', index=False)"
   ]
  }
 ],
 "metadata": {
  "kernelspec": {
   "display_name": "Python 3",
   "language": "python",
   "name": "python3"
  },
  "language_info": {
   "codemirror_mode": {
    "name": "ipython",
    "version": 3
   },
   "file_extension": ".py",
   "mimetype": "text/x-python",
   "name": "python",
   "nbconvert_exporter": "python",
   "pygments_lexer": "ipython3",
   "version": "3.10.4"
  }
 },
 "nbformat": 4,
 "nbformat_minor": 2
}
