{
 "cells": [
  {
   "cell_type": "markdown",
   "metadata": {},
   "source": [
    "# Модель прогнозирования стоимости жилья для агентства недвижимости"
   ]
  },
  {
   "cell_type": "markdown",
   "metadata": {},
   "source": [
    "задача — разработать модель, которая позволила бы агентству недвижимости обойти конкурентов по скорости и качеству совершения сделок"
   ]
  },
  {
   "cell_type": "code",
   "execution_count": 1,
   "metadata": {},
   "outputs": [],
   "source": [
    "# загрузка библиотек\n",
    "import pandas as pd\n",
    "import numpy as np\n",
    "import matplotlib.pyplot as plt\n",
    "import seaborn as sns\n",
    "import re\n",
    "import category_encoders as ce"
   ]
  },
  {
   "cell_type": "markdown",
   "metadata": {},
   "source": [
    "## 1. Предварительная обработка данных"
   ]
  },
  {
   "cell_type": "code",
   "execution_count": 2,
   "metadata": {},
   "outputs": [
    {
     "name": "stdout",
     "output_type": "stream",
     "text": [
      "Data shape: (377185, 18)\n"
     ]
    },
    {
     "data": {
      "text/html": [
       "<div>\n",
       "<style scoped>\n",
       "    .dataframe tbody tr th:only-of-type {\n",
       "        vertical-align: middle;\n",
       "    }\n",
       "\n",
       "    .dataframe tbody tr th {\n",
       "        vertical-align: top;\n",
       "    }\n",
       "\n",
       "    .dataframe thead th {\n",
       "        text-align: right;\n",
       "    }\n",
       "</style>\n",
       "<table border=\"1\" class=\"dataframe\">\n",
       "  <thead>\n",
       "    <tr style=\"text-align: right;\">\n",
       "      <th></th>\n",
       "      <th>status</th>\n",
       "      <th>private pool</th>\n",
       "      <th>propertyType</th>\n",
       "      <th>street</th>\n",
       "      <th>baths</th>\n",
       "      <th>homeFacts</th>\n",
       "      <th>fireplace</th>\n",
       "      <th>city</th>\n",
       "      <th>schools</th>\n",
       "      <th>sqft</th>\n",
       "      <th>zipcode</th>\n",
       "      <th>beds</th>\n",
       "      <th>state</th>\n",
       "      <th>stories</th>\n",
       "      <th>mls-id</th>\n",
       "      <th>PrivatePool</th>\n",
       "      <th>MlsId</th>\n",
       "      <th>target</th>\n",
       "    </tr>\n",
       "  </thead>\n",
       "  <tbody>\n",
       "    <tr>\n",
       "      <th>0</th>\n",
       "      <td>Active</td>\n",
       "      <td>NaN</td>\n",
       "      <td>Single Family Home</td>\n",
       "      <td>240 Heather Ln</td>\n",
       "      <td>3.5</td>\n",
       "      <td>{'atAGlanceFacts': [{'factValue': '2019', 'fac...</td>\n",
       "      <td>Gas Logs</td>\n",
       "      <td>Southern Pines</td>\n",
       "      <td>[{'rating': ['4', '4', '7', 'NR', '4', '7', 'N...</td>\n",
       "      <td>2900</td>\n",
       "      <td>28387</td>\n",
       "      <td>4</td>\n",
       "      <td>NC</td>\n",
       "      <td>NaN</td>\n",
       "      <td>NaN</td>\n",
       "      <td>NaN</td>\n",
       "      <td>611019</td>\n",
       "      <td>$418,000</td>\n",
       "    </tr>\n",
       "    <tr>\n",
       "      <th>1</th>\n",
       "      <td>for sale</td>\n",
       "      <td>NaN</td>\n",
       "      <td>single-family home</td>\n",
       "      <td>12911 E Heroy Ave</td>\n",
       "      <td>3 Baths</td>\n",
       "      <td>{'atAGlanceFacts': [{'factValue': '2019', 'fac...</td>\n",
       "      <td>NaN</td>\n",
       "      <td>Spokane Valley</td>\n",
       "      <td>[{'rating': ['4/10', 'None/10', '4/10'], 'data...</td>\n",
       "      <td>1,947 sqft</td>\n",
       "      <td>99216</td>\n",
       "      <td>3 Beds</td>\n",
       "      <td>WA</td>\n",
       "      <td>2.0</td>\n",
       "      <td>NaN</td>\n",
       "      <td>NaN</td>\n",
       "      <td>201916904</td>\n",
       "      <td>$310,000</td>\n",
       "    </tr>\n",
       "    <tr>\n",
       "      <th>2</th>\n",
       "      <td>for sale</td>\n",
       "      <td>NaN</td>\n",
       "      <td>single-family home</td>\n",
       "      <td>2005 Westridge Rd</td>\n",
       "      <td>2 Baths</td>\n",
       "      <td>{'atAGlanceFacts': [{'factValue': '1961', 'fac...</td>\n",
       "      <td>yes</td>\n",
       "      <td>Los Angeles</td>\n",
       "      <td>[{'rating': ['8/10', '4/10', '8/10'], 'data': ...</td>\n",
       "      <td>3,000 sqft</td>\n",
       "      <td>90049</td>\n",
       "      <td>3 Beds</td>\n",
       "      <td>CA</td>\n",
       "      <td>1.0</td>\n",
       "      <td>NaN</td>\n",
       "      <td>yes</td>\n",
       "      <td>FR19221027</td>\n",
       "      <td>$2,895,000</td>\n",
       "    </tr>\n",
       "    <tr>\n",
       "      <th>3</th>\n",
       "      <td>for sale</td>\n",
       "      <td>NaN</td>\n",
       "      <td>single-family home</td>\n",
       "      <td>4311 Livingston Ave</td>\n",
       "      <td>8 Baths</td>\n",
       "      <td>{'atAGlanceFacts': [{'factValue': '2006', 'fac...</td>\n",
       "      <td>yes</td>\n",
       "      <td>Dallas</td>\n",
       "      <td>[{'rating': ['9/10', '9/10', '10/10', '9/10'],...</td>\n",
       "      <td>6,457 sqft</td>\n",
       "      <td>75205</td>\n",
       "      <td>5 Beds</td>\n",
       "      <td>TX</td>\n",
       "      <td>3.0</td>\n",
       "      <td>NaN</td>\n",
       "      <td>NaN</td>\n",
       "      <td>14191809</td>\n",
       "      <td>$2,395,000</td>\n",
       "    </tr>\n",
       "    <tr>\n",
       "      <th>4</th>\n",
       "      <td>for sale</td>\n",
       "      <td>NaN</td>\n",
       "      <td>lot/land</td>\n",
       "      <td>1524 Kiscoe St</td>\n",
       "      <td>NaN</td>\n",
       "      <td>{'atAGlanceFacts': [{'factValue': '', 'factLab...</td>\n",
       "      <td>NaN</td>\n",
       "      <td>Palm Bay</td>\n",
       "      <td>[{'rating': ['4/10', '5/10', '5/10'], 'data': ...</td>\n",
       "      <td>NaN</td>\n",
       "      <td>32908</td>\n",
       "      <td>NaN</td>\n",
       "      <td>FL</td>\n",
       "      <td>NaN</td>\n",
       "      <td>NaN</td>\n",
       "      <td>NaN</td>\n",
       "      <td>861745</td>\n",
       "      <td>$5,000</td>\n",
       "    </tr>\n",
       "  </tbody>\n",
       "</table>\n",
       "</div>"
      ],
      "text/plain": [
       "     status private pool        propertyType               street    baths   \n",
       "0    Active          NaN  Single Family Home       240 Heather Ln      3.5  \\\n",
       "1  for sale          NaN  single-family home    12911 E Heroy Ave  3 Baths   \n",
       "2  for sale          NaN  single-family home    2005 Westridge Rd  2 Baths   \n",
       "3  for sale          NaN  single-family home  4311 Livingston Ave  8 Baths   \n",
       "4  for sale          NaN            lot/land       1524 Kiscoe St      NaN   \n",
       "\n",
       "                                           homeFacts fireplace   \n",
       "0  {'atAGlanceFacts': [{'factValue': '2019', 'fac...  Gas Logs  \\\n",
       "1  {'atAGlanceFacts': [{'factValue': '2019', 'fac...       NaN   \n",
       "2  {'atAGlanceFacts': [{'factValue': '1961', 'fac...       yes   \n",
       "3  {'atAGlanceFacts': [{'factValue': '2006', 'fac...       yes   \n",
       "4  {'atAGlanceFacts': [{'factValue': '', 'factLab...       NaN   \n",
       "\n",
       "             city                                            schools   \n",
       "0  Southern Pines  [{'rating': ['4', '4', '7', 'NR', '4', '7', 'N...  \\\n",
       "1  Spokane Valley  [{'rating': ['4/10', 'None/10', '4/10'], 'data...   \n",
       "2     Los Angeles  [{'rating': ['8/10', '4/10', '8/10'], 'data': ...   \n",
       "3          Dallas  [{'rating': ['9/10', '9/10', '10/10', '9/10'],...   \n",
       "4        Palm Bay  [{'rating': ['4/10', '5/10', '5/10'], 'data': ...   \n",
       "\n",
       "         sqft zipcode    beds state stories mls-id PrivatePool       MlsId   \n",
       "0        2900   28387       4    NC     NaN    NaN         NaN      611019  \\\n",
       "1  1,947 sqft   99216  3 Beds    WA     2.0    NaN         NaN   201916904   \n",
       "2  3,000 sqft   90049  3 Beds    CA     1.0    NaN         yes  FR19221027   \n",
       "3  6,457 sqft   75205  5 Beds    TX     3.0    NaN         NaN    14191809   \n",
       "4         NaN   32908     NaN    FL     NaN    NaN         NaN      861745   \n",
       "\n",
       "       target  \n",
       "0    $418,000  \n",
       "1    $310,000  \n",
       "2  $2,895,000  \n",
       "3  $2,395,000  \n",
       "4      $5,000  "
      ]
     },
     "execution_count": 2,
     "metadata": {},
     "output_type": "execute_result"
    }
   ],
   "source": [
    "# загрузка данных в датафрейм\n",
    "data = pd.read_csv(\"./data/data.csv\")\n",
    "print('Data shape: {}'.format(data.shape))\n",
    "data.head(5)"
   ]
  },
  {
   "cell_type": "markdown",
   "metadata": {},
   "source": [
    "### Очистка данных, дубликаты, пустые строки"
   ]
  },
  {
   "cell_type": "code",
   "execution_count": 3,
   "metadata": {},
   "outputs": [
    {
     "data": {
      "text/plain": [
       "50"
      ]
     },
     "execution_count": 3,
     "metadata": {},
     "output_type": "execute_result"
    }
   ],
   "source": [
    "# определяем наличие дубликатов\n",
    "data_duplicated = data.duplicated()\n",
    "data_duplicated.sum()"
   ]
  },
  {
   "cell_type": "code",
   "execution_count": 4,
   "metadata": {},
   "outputs": [
    {
     "data": {
      "text/plain": [
       "377135"
      ]
     },
     "execution_count": 4,
     "metadata": {},
     "output_type": "execute_result"
    }
   ],
   "source": [
    "# удаляем дубликаты\n",
    "data = data.drop_duplicates(ignore_index=True)\n",
    "data.shape[0]"
   ]
  },
  {
   "cell_type": "code",
   "execution_count": 5,
   "metadata": {},
   "outputs": [
    {
     "data": {
      "text/plain": [
       "status           39917\n",
       "private pool    372954\n",
       "propertyType     34733\n",
       "street               2\n",
       "baths           106308\n",
       "homeFacts            0\n",
       "fireplace       274024\n",
       "city                34\n",
       "schools              0\n",
       "sqft             40550\n",
       "zipcode              0\n",
       "beds             91254\n",
       "state                0\n",
       "stories         150674\n",
       "mls-id          352193\n",
       "PrivatePool     336825\n",
       "MlsId            66869\n",
       "target            2480\n",
       "dtype: int64"
      ]
     },
     "execution_count": 5,
     "metadata": {},
     "output_type": "execute_result"
    }
   ],
   "source": [
    "# смотрим пропуски\n",
    "data.isna().sum()"
   ]
  },
  {
   "cell_type": "markdown",
   "metadata": {},
   "source": [
    "Поля Mls-Id и MlsId удаляем, так как в них слишком много пропусков и они не несут полезной информации (уникальные идентификаторы)"
   ]
  },
  {
   "cell_type": "code",
   "execution_count": 6,
   "metadata": {},
   "outputs": [],
   "source": [
    "# удаляем поле\n",
    "data.drop(labels=['MlsId','mls-id'], axis=1, inplace=True)"
   ]
  },
  {
   "cell_type": "markdown",
   "metadata": {},
   "source": [
    "### Смотрим на географию и расположение объектов"
   ]
  },
  {
   "cell_type": "code",
   "execution_count": 7,
   "metadata": {},
   "outputs": [],
   "source": [
    "adres_data = data[['street', 'city', 'zipcode','state']]"
   ]
  },
  {
   "cell_type": "code",
   "execution_count": 8,
   "metadata": {},
   "outputs": [
    {
     "data": {
      "text/html": [
       "<div>\n",
       "<style scoped>\n",
       "    .dataframe tbody tr th:only-of-type {\n",
       "        vertical-align: middle;\n",
       "    }\n",
       "\n",
       "    .dataframe tbody tr th {\n",
       "        vertical-align: top;\n",
       "    }\n",
       "\n",
       "    .dataframe thead th {\n",
       "        text-align: right;\n",
       "    }\n",
       "</style>\n",
       "<table border=\"1\" class=\"dataframe\">\n",
       "  <thead>\n",
       "    <tr style=\"text-align: right;\">\n",
       "      <th></th>\n",
       "      <th>status</th>\n",
       "      <th>private pool</th>\n",
       "      <th>propertyType</th>\n",
       "      <th>street</th>\n",
       "      <th>baths</th>\n",
       "      <th>homeFacts</th>\n",
       "      <th>fireplace</th>\n",
       "      <th>city</th>\n",
       "      <th>schools</th>\n",
       "      <th>sqft</th>\n",
       "      <th>zipcode</th>\n",
       "      <th>beds</th>\n",
       "      <th>state</th>\n",
       "      <th>stories</th>\n",
       "      <th>PrivatePool</th>\n",
       "      <th>target</th>\n",
       "    </tr>\n",
       "  </thead>\n",
       "  <tbody>\n",
       "    <tr>\n",
       "      <th>549</th>\n",
       "      <td>For sale</td>\n",
       "      <td>NaN</td>\n",
       "      <td>Single Family</td>\n",
       "      <td>5398 Alcola Way S</td>\n",
       "      <td>2</td>\n",
       "      <td>{'atAGlanceFacts': [{'factValue': '1971', 'fac...</td>\n",
       "      <td>Yes</td>\n",
       "      <td>Saint Petersburg</td>\n",
       "      <td>[{'rating': ['2/10', '4/10', '4/10'], 'data': ...</td>\n",
       "      <td>1,617</td>\n",
       "      <td>33712</td>\n",
       "      <td>3</td>\n",
       "      <td>FL</td>\n",
       "      <td>1.0</td>\n",
       "      <td>Yes</td>\n",
       "      <td>$280,000</td>\n",
       "    </tr>\n",
       "    <tr>\n",
       "      <th>753</th>\n",
       "      <td>for sale</td>\n",
       "      <td>NaN</td>\n",
       "      <td>lot/land</td>\n",
       "      <td>5428 Closeburn Rd</td>\n",
       "      <td>NaN</td>\n",
       "      <td>{'atAGlanceFacts': [{'factValue': '2017', 'fac...</td>\n",
       "      <td>NaN</td>\n",
       "      <td>Charlotte</td>\n",
       "      <td>[{'rating': ['8/10', '7/10', '7/10'], 'data': ...</td>\n",
       "      <td>4,595 sqft</td>\n",
       "      <td>28210</td>\n",
       "      <td>5 Beds</td>\n",
       "      <td>NC</td>\n",
       "      <td>3</td>\n",
       "      <td>NaN</td>\n",
       "      <td>$349,000</td>\n",
       "    </tr>\n",
       "    <tr>\n",
       "      <th>1648</th>\n",
       "      <td>Active</td>\n",
       "      <td>NaN</td>\n",
       "      <td>Single Family Home</td>\n",
       "      <td>8 Potterville Ln</td>\n",
       "      <td>3</td>\n",
       "      <td>{'atAGlanceFacts': [{'factValue': '2016', 'fac...</td>\n",
       "      <td>NaN</td>\n",
       "      <td>Palm Coast</td>\n",
       "      <td>[{'rating': ['5', '4', '6', '5', 'NR', 'NR', '...</td>\n",
       "      <td>2350</td>\n",
       "      <td>32164</td>\n",
       "      <td>4</td>\n",
       "      <td>FL</td>\n",
       "      <td>One</td>\n",
       "      <td>NaN</td>\n",
       "      <td>$279,900</td>\n",
       "    </tr>\n",
       "    <tr>\n",
       "      <th>2375</th>\n",
       "      <td>Active</td>\n",
       "      <td>NaN</td>\n",
       "      <td>Single Family Home</td>\n",
       "      <td>16884 W. Vereda Solana Drive</td>\n",
       "      <td>3</td>\n",
       "      <td>{'atAGlanceFacts': [{'factValue': '', 'factLab...</td>\n",
       "      <td>NaN</td>\n",
       "      <td>Surprise</td>\n",
       "      <td>[{'rating': ['5', '9', '6', '7', '7', 'NR', 'N...</td>\n",
       "      <td>2,856</td>\n",
       "      <td>85387</td>\n",
       "      <td>4</td>\n",
       "      <td>AZ</td>\n",
       "      <td>NaN</td>\n",
       "      <td>NaN</td>\n",
       "      <td>$373,990</td>\n",
       "    </tr>\n",
       "    <tr>\n",
       "      <th>2643</th>\n",
       "      <td>Active</td>\n",
       "      <td>NaN</td>\n",
       "      <td>Single Family Home</td>\n",
       "      <td>2909 Otis St NE</td>\n",
       "      <td>3.5</td>\n",
       "      <td>{'atAGlanceFacts': [{'factValue': '1927', 'fac...</td>\n",
       "      <td>NaN</td>\n",
       "      <td>Washington</td>\n",
       "      <td>[{'rating': ['3', '3', '3', 'NR', '5', '5', 'N...</td>\n",
       "      <td>2848</td>\n",
       "      <td>20018</td>\n",
       "      <td>4</td>\n",
       "      <td>DC</td>\n",
       "      <td>3+</td>\n",
       "      <td>NaN</td>\n",
       "      <td>$699,000</td>\n",
       "    </tr>\n",
       "  </tbody>\n",
       "</table>\n",
       "</div>"
      ],
      "text/plain": [
       "        status private pool        propertyType                        street   \n",
       "549   For sale          NaN       Single Family             5398 Alcola Way S  \\\n",
       "753   for sale          NaN            lot/land             5428 Closeburn Rd   \n",
       "1648    Active          NaN  Single Family Home              8 Potterville Ln   \n",
       "2375    Active          NaN  Single Family Home  16884 W. Vereda Solana Drive   \n",
       "2643    Active          NaN  Single Family Home               2909 Otis St NE   \n",
       "\n",
       "     baths                                          homeFacts fireplace   \n",
       "549      2  {'atAGlanceFacts': [{'factValue': '1971', 'fac...       Yes  \\\n",
       "753    NaN  {'atAGlanceFacts': [{'factValue': '2017', 'fac...       NaN   \n",
       "1648     3  {'atAGlanceFacts': [{'factValue': '2016', 'fac...       NaN   \n",
       "2375     3  {'atAGlanceFacts': [{'factValue': '', 'factLab...       NaN   \n",
       "2643   3.5  {'atAGlanceFacts': [{'factValue': '1927', 'fac...       NaN   \n",
       "\n",
       "                  city                                            schools   \n",
       "549   Saint Petersburg  [{'rating': ['2/10', '4/10', '4/10'], 'data': ...  \\\n",
       "753          Charlotte  [{'rating': ['8/10', '7/10', '7/10'], 'data': ...   \n",
       "1648        Palm Coast  [{'rating': ['5', '4', '6', '5', 'NR', 'NR', '...   \n",
       "2375          Surprise  [{'rating': ['5', '9', '6', '7', '7', 'NR', 'N...   \n",
       "2643        Washington  [{'rating': ['3', '3', '3', 'NR', '5', '5', 'N...   \n",
       "\n",
       "            sqft zipcode    beds state stories PrivatePool    target  \n",
       "549        1,617   33712       3    FL     1.0         Yes  $280,000  \n",
       "753   4,595 sqft   28210  5 Beds    NC       3         NaN  $349,000  \n",
       "1648        2350   32164       4    FL     One         NaN  $279,900  \n",
       "2375       2,856   85387       4    AZ     NaN         NaN  $373,990  \n",
       "2643        2848   20018       4    DC      3+         NaN  $699,000  "
      ]
     },
     "execution_count": 8,
     "metadata": {},
     "output_type": "execute_result"
    }
   ],
   "source": [
    "data.loc[adres_data.duplicated()==True].head(5)"
   ]
  },
  {
   "cell_type": "code",
   "execution_count": 9,
   "metadata": {},
   "outputs": [
    {
     "data": {
      "text/html": [
       "<div>\n",
       "<style scoped>\n",
       "    .dataframe tbody tr th:only-of-type {\n",
       "        vertical-align: middle;\n",
       "    }\n",
       "\n",
       "    .dataframe tbody tr th {\n",
       "        vertical-align: top;\n",
       "    }\n",
       "\n",
       "    .dataframe thead th {\n",
       "        text-align: right;\n",
       "    }\n",
       "</style>\n",
       "<table border=\"1\" class=\"dataframe\">\n",
       "  <thead>\n",
       "    <tr style=\"text-align: right;\">\n",
       "      <th></th>\n",
       "      <th>status</th>\n",
       "      <th>private pool</th>\n",
       "      <th>propertyType</th>\n",
       "      <th>street</th>\n",
       "      <th>baths</th>\n",
       "      <th>homeFacts</th>\n",
       "      <th>fireplace</th>\n",
       "      <th>city</th>\n",
       "      <th>schools</th>\n",
       "      <th>sqft</th>\n",
       "      <th>zipcode</th>\n",
       "      <th>beds</th>\n",
       "      <th>state</th>\n",
       "      <th>stories</th>\n",
       "      <th>PrivatePool</th>\n",
       "      <th>target</th>\n",
       "    </tr>\n",
       "  </thead>\n",
       "  <tbody>\n",
       "    <tr>\n",
       "      <th>236</th>\n",
       "      <td>Active</td>\n",
       "      <td>NaN</td>\n",
       "      <td>Single Family Home</td>\n",
       "      <td>16884 W. Vereda Solana Drive</td>\n",
       "      <td>3</td>\n",
       "      <td>{'atAGlanceFacts': [{'factValue': '', 'factLab...</td>\n",
       "      <td>NaN</td>\n",
       "      <td>Surprise</td>\n",
       "      <td>[{'rating': ['5', '9', '6', '7', '7', 'NR', 'N...</td>\n",
       "      <td>2,025</td>\n",
       "      <td>85387</td>\n",
       "      <td>4</td>\n",
       "      <td>AZ</td>\n",
       "      <td>NaN</td>\n",
       "      <td>NaN</td>\n",
       "      <td>$316,990</td>\n",
       "    </tr>\n",
       "    <tr>\n",
       "      <th>2375</th>\n",
       "      <td>Active</td>\n",
       "      <td>NaN</td>\n",
       "      <td>Single Family Home</td>\n",
       "      <td>16884 W. Vereda Solana Drive</td>\n",
       "      <td>3</td>\n",
       "      <td>{'atAGlanceFacts': [{'factValue': '', 'factLab...</td>\n",
       "      <td>NaN</td>\n",
       "      <td>Surprise</td>\n",
       "      <td>[{'rating': ['5', '9', '6', '7', '7', 'NR', 'N...</td>\n",
       "      <td>2,856</td>\n",
       "      <td>85387</td>\n",
       "      <td>4</td>\n",
       "      <td>AZ</td>\n",
       "      <td>NaN</td>\n",
       "      <td>NaN</td>\n",
       "      <td>$373,990</td>\n",
       "    </tr>\n",
       "    <tr>\n",
       "      <th>63049</th>\n",
       "      <td>Active</td>\n",
       "      <td>NaN</td>\n",
       "      <td>Single Family Home</td>\n",
       "      <td>16884 W. Vereda Solana Drive</td>\n",
       "      <td>3</td>\n",
       "      <td>{'atAGlanceFacts': [{'factValue': '', 'factLab...</td>\n",
       "      <td>NaN</td>\n",
       "      <td>Surprise</td>\n",
       "      <td>[{'rating': ['5', '9', '6', '7', '7', 'NR', 'N...</td>\n",
       "      <td>2,207</td>\n",
       "      <td>85387</td>\n",
       "      <td>5</td>\n",
       "      <td>AZ</td>\n",
       "      <td>NaN</td>\n",
       "      <td>NaN</td>\n",
       "      <td>$331,990</td>\n",
       "    </tr>\n",
       "    <tr>\n",
       "      <th>92132</th>\n",
       "      <td>Active</td>\n",
       "      <td>NaN</td>\n",
       "      <td>Single Family Home</td>\n",
       "      <td>16884 W. Vereda Solana Drive</td>\n",
       "      <td>2.5</td>\n",
       "      <td>{'atAGlanceFacts': [{'factValue': '', 'factLab...</td>\n",
       "      <td>NaN</td>\n",
       "      <td>Surprise</td>\n",
       "      <td>[{'rating': ['5', '9', '6', '7', '7', 'NR', 'N...</td>\n",
       "      <td>2,406</td>\n",
       "      <td>85387</td>\n",
       "      <td>4</td>\n",
       "      <td>AZ</td>\n",
       "      <td>NaN</td>\n",
       "      <td>NaN</td>\n",
       "      <td>$379,990</td>\n",
       "    </tr>\n",
       "    <tr>\n",
       "      <th>119233</th>\n",
       "      <td>Active</td>\n",
       "      <td>NaN</td>\n",
       "      <td>Single Family Home</td>\n",
       "      <td>16884 W. Vereda Solana Drive</td>\n",
       "      <td>3</td>\n",
       "      <td>{'atAGlanceFacts': [{'factValue': '', 'factLab...</td>\n",
       "      <td>NaN</td>\n",
       "      <td>Surprise</td>\n",
       "      <td>[{'rating': ['5', '9', '6', '7', '7', 'NR', 'N...</td>\n",
       "      <td>2,958</td>\n",
       "      <td>85387</td>\n",
       "      <td>4</td>\n",
       "      <td>AZ</td>\n",
       "      <td>NaN</td>\n",
       "      <td>NaN</td>\n",
       "      <td>$383,990</td>\n",
       "    </tr>\n",
       "    <tr>\n",
       "      <th>166077</th>\n",
       "      <td>Active</td>\n",
       "      <td>NaN</td>\n",
       "      <td>Single Family Home</td>\n",
       "      <td>16884 W. Vereda Solana Drive</td>\n",
       "      <td>3</td>\n",
       "      <td>{'atAGlanceFacts': [{'factValue': '', 'factLab...</td>\n",
       "      <td>NaN</td>\n",
       "      <td>Surprise</td>\n",
       "      <td>[{'rating': ['5', '9', '6', '7', '7', 'NR', 'N...</td>\n",
       "      <td>2,656</td>\n",
       "      <td>85387</td>\n",
       "      <td>4</td>\n",
       "      <td>AZ</td>\n",
       "      <td>NaN</td>\n",
       "      <td>NaN</td>\n",
       "      <td>$366,990</td>\n",
       "    </tr>\n",
       "    <tr>\n",
       "      <th>166864</th>\n",
       "      <td>Active</td>\n",
       "      <td>NaN</td>\n",
       "      <td>Single Family Home</td>\n",
       "      <td>16884 W. Vereda Solana Drive</td>\n",
       "      <td>2.5</td>\n",
       "      <td>{'atAGlanceFacts': [{'factValue': '', 'factLab...</td>\n",
       "      <td>NaN</td>\n",
       "      <td>Surprise</td>\n",
       "      <td>[{'rating': ['5', '9', '6', '7', '7', 'NR', 'N...</td>\n",
       "      <td>2,325</td>\n",
       "      <td>85387</td>\n",
       "      <td>4</td>\n",
       "      <td>AZ</td>\n",
       "      <td>NaN</td>\n",
       "      <td>NaN</td>\n",
       "      <td>$346,990</td>\n",
       "    </tr>\n",
       "    <tr>\n",
       "      <th>219742</th>\n",
       "      <td>Active</td>\n",
       "      <td>NaN</td>\n",
       "      <td>Single Family Home</td>\n",
       "      <td>16884 W. Vereda Solana Drive</td>\n",
       "      <td>2.5</td>\n",
       "      <td>{'atAGlanceFacts': [{'factValue': '', 'factLab...</td>\n",
       "      <td>NaN</td>\n",
       "      <td>Surprise</td>\n",
       "      <td>[{'rating': ['5', '9', '6', '7', '7', 'NR', 'N...</td>\n",
       "      <td>2,325</td>\n",
       "      <td>85387</td>\n",
       "      <td>4</td>\n",
       "      <td>AZ</td>\n",
       "      <td>NaN</td>\n",
       "      <td>NaN</td>\n",
       "      <td>$340,990</td>\n",
       "    </tr>\n",
       "  </tbody>\n",
       "</table>\n",
       "</div>"
      ],
      "text/plain": [
       "        status private pool        propertyType                        street   \n",
       "236     Active          NaN  Single Family Home  16884 W. Vereda Solana Drive  \\\n",
       "2375    Active          NaN  Single Family Home  16884 W. Vereda Solana Drive   \n",
       "63049   Active          NaN  Single Family Home  16884 W. Vereda Solana Drive   \n",
       "92132   Active          NaN  Single Family Home  16884 W. Vereda Solana Drive   \n",
       "119233  Active          NaN  Single Family Home  16884 W. Vereda Solana Drive   \n",
       "166077  Active          NaN  Single Family Home  16884 W. Vereda Solana Drive   \n",
       "166864  Active          NaN  Single Family Home  16884 W. Vereda Solana Drive   \n",
       "219742  Active          NaN  Single Family Home  16884 W. Vereda Solana Drive   \n",
       "\n",
       "       baths                                          homeFacts fireplace   \n",
       "236        3  {'atAGlanceFacts': [{'factValue': '', 'factLab...       NaN  \\\n",
       "2375       3  {'atAGlanceFacts': [{'factValue': '', 'factLab...       NaN   \n",
       "63049      3  {'atAGlanceFacts': [{'factValue': '', 'factLab...       NaN   \n",
       "92132    2.5  {'atAGlanceFacts': [{'factValue': '', 'factLab...       NaN   \n",
       "119233     3  {'atAGlanceFacts': [{'factValue': '', 'factLab...       NaN   \n",
       "166077     3  {'atAGlanceFacts': [{'factValue': '', 'factLab...       NaN   \n",
       "166864   2.5  {'atAGlanceFacts': [{'factValue': '', 'factLab...       NaN   \n",
       "219742   2.5  {'atAGlanceFacts': [{'factValue': '', 'factLab...       NaN   \n",
       "\n",
       "            city                                            schools   sqft   \n",
       "236     Surprise  [{'rating': ['5', '9', '6', '7', '7', 'NR', 'N...  2,025  \\\n",
       "2375    Surprise  [{'rating': ['5', '9', '6', '7', '7', 'NR', 'N...  2,856   \n",
       "63049   Surprise  [{'rating': ['5', '9', '6', '7', '7', 'NR', 'N...  2,207   \n",
       "92132   Surprise  [{'rating': ['5', '9', '6', '7', '7', 'NR', 'N...  2,406   \n",
       "119233  Surprise  [{'rating': ['5', '9', '6', '7', '7', 'NR', 'N...  2,958   \n",
       "166077  Surprise  [{'rating': ['5', '9', '6', '7', '7', 'NR', 'N...  2,656   \n",
       "166864  Surprise  [{'rating': ['5', '9', '6', '7', '7', 'NR', 'N...  2,325   \n",
       "219742  Surprise  [{'rating': ['5', '9', '6', '7', '7', 'NR', 'N...  2,325   \n",
       "\n",
       "       zipcode beds state stories PrivatePool    target  \n",
       "236      85387    4    AZ     NaN         NaN  $316,990  \n",
       "2375     85387    4    AZ     NaN         NaN  $373,990  \n",
       "63049    85387    5    AZ     NaN         NaN  $331,990  \n",
       "92132    85387    4    AZ     NaN         NaN  $379,990  \n",
       "119233   85387    4    AZ     NaN         NaN  $383,990  \n",
       "166077   85387    4    AZ     NaN         NaN  $366,990  \n",
       "166864   85387    4    AZ     NaN         NaN  $346,990  \n",
       "219742   85387    4    AZ     NaN         NaN  $340,990  "
      ]
     },
     "execution_count": 9,
     "metadata": {},
     "output_type": "execute_result"
    }
   ],
   "source": [
    "data[data['street']=='16884 W. Vereda Solana Drive']"
   ]
  },
  {
   "cell_type": "markdown",
   "metadata": {},
   "source": [
    "В данных много записей, относящихся к одним и тем же объектам недвижимости. Вероятно они собраны из разных источников либо это повторные по времени объявления. Пока удалять их не будем, хотя есть предположение, что на качество модели это повлияет негативно"
   ]
  },
  {
   "cell_type": "markdown",
   "metadata": {},
   "source": [
    "### Кодируем поля штат и город"
   ]
  },
  {
   "cell_type": "markdown",
   "metadata": {},
   "source": [
    "Предварительные выводы по итогам исследования характеристик признаков:\n",
    "\n",
    "1. Поля штат, город и зип-код явно сильно коррелирующие признаки. Оставляем один из них - зип-код.\n",
    "2. Поле street необходимо удалить так как оно является идентификатором объекта недвижимости. Использование признака приведет к утечке данных.\n",
    "3. Удаляем лишние поля, оставляем зип-код и кодируем его двоичным кодированием"
   ]
  },
  {
   "cell_type": "code",
   "execution_count": 10,
   "metadata": {},
   "outputs": [
    {
     "data": {
      "text/plain": [
       "4318"
      ]
     },
     "execution_count": 10,
     "metadata": {},
     "output_type": "execute_result"
    }
   ],
   "source": [
    "data['zipcode'] = data['zipcode'].apply(lambda x: x[:5]) # обрезаем лишние символы\n",
    "data['zipcode'].value_counts().count() # оцениваем метод кодирования"
   ]
  },
  {
   "cell_type": "code",
   "execution_count": 11,
   "metadata": {},
   "outputs": [],
   "source": [
    "# используем двоичное кодирование для признака\n",
    "# zip-code\n",
    "bin_encoder = ce.BinaryEncoder(cols=['zipcode'])\n",
    "type_bin = bin_encoder.fit_transform(data['zipcode'])\n",
    "data = pd.concat([data, type_bin], axis=1)\n",
    "# удаляем исходное поле\n",
    "data = data.drop(labels=['zipcode'], axis=1)\n",
    "# удаляем лишние поля\n",
    "data = data.drop(labels=['city','state','street'], axis=1)"
   ]
  },
  {
   "cell_type": "code",
   "execution_count": 12,
   "metadata": {},
   "outputs": [
    {
     "name": "stdout",
     "output_type": "stream",
     "text": [
      "<class 'pandas.core.frame.DataFrame'>\n",
      "RangeIndex: 377135 entries, 0 to 377134\n",
      "Data columns (total 25 columns):\n",
      " #   Column        Non-Null Count   Dtype \n",
      "---  ------        --------------   ----- \n",
      " 0   status        337218 non-null  object\n",
      " 1   private pool  4181 non-null    object\n",
      " 2   propertyType  342402 non-null  object\n",
      " 3   baths         270827 non-null  object\n",
      " 4   homeFacts     377135 non-null  object\n",
      " 5   fireplace     103111 non-null  object\n",
      " 6   schools       377135 non-null  object\n",
      " 7   sqft          336585 non-null  object\n",
      " 8   beds          285881 non-null  object\n",
      " 9   stories       226461 non-null  object\n",
      " 10  PrivatePool   40310 non-null   object\n",
      " 11  target        374655 non-null  object\n",
      " 12  zipcode_0     377135 non-null  int64 \n",
      " 13  zipcode_1     377135 non-null  int64 \n",
      " 14  zipcode_2     377135 non-null  int64 \n",
      " 15  zipcode_3     377135 non-null  int64 \n",
      " 16  zipcode_4     377135 non-null  int64 \n",
      " 17  zipcode_5     377135 non-null  int64 \n",
      " 18  zipcode_6     377135 non-null  int64 \n",
      " 19  zipcode_7     377135 non-null  int64 \n",
      " 20  zipcode_8     377135 non-null  int64 \n",
      " 21  zipcode_9     377135 non-null  int64 \n",
      " 22  zipcode_10    377135 non-null  int64 \n",
      " 23  zipcode_11    377135 non-null  int64 \n",
      " 24  zipcode_12    377135 non-null  int64 \n",
      "dtypes: int64(13), object(12)\n",
      "memory usage: 71.9+ MB\n"
     ]
    }
   ],
   "source": [
    "data.info()"
   ]
  },
  {
   "cell_type": "markdown",
   "metadata": {},
   "source": [
    "### Распаковываем поле 'homeFacts'"
   ]
  },
  {
   "cell_type": "code",
   "execution_count": 13,
   "metadata": {},
   "outputs": [],
   "source": [
    "new_features_list = list() # создаем пустой список для словарей\n",
    "\n",
    "def homeFacts_unpack(arg): # функция распаковки поля homeFacts в словарь\n",
    "    facts_dict = eval(arg)['atAGlanceFacts']\n",
    "    dictionary = dict()\n",
    "    for i in facts_dict:\n",
    "        if i['factValue'] == '':\n",
    "            dictionary[i['factLabel']] = 'none'\n",
    "        else:\n",
    "            dictionary[i['factLabel']] = i['factValue']\n",
    "    new_features_list.append(dictionary) # добавляем словарь в список\n",
    "# обрабатываем поле функцией\n",
    "data['homeFacts'].apply(homeFacts_unpack)\n",
    "# преобразуем список словарей в новый датафрейм\n",
    "extra_data = pd.DataFrame(new_features_list)\n",
    "# склеиваем датафреймы\n",
    "data = pd.concat([data, extra_data], axis=1)"
   ]
  },
  {
   "cell_type": "code",
   "execution_count": 14,
   "metadata": {},
   "outputs": [
    {
     "data": {
      "text/plain": [
       "Index(['Year built', 'Remodeled year', 'Heating', 'Cooling', 'Parking',\n",
       "       'lotsize', 'Price/sqft'],\n",
       "      dtype='object')"
      ]
     },
     "execution_count": 14,
     "metadata": {},
     "output_type": "execute_result"
    }
   ],
   "source": [
    "# получены новые признаки\n",
    "extra_data.columns"
   ]
  },
  {
   "cell_type": "code",
   "execution_count": 15,
   "metadata": {},
   "outputs": [],
   "source": [
    "# удаляем исходное поле\n",
    "data = data.drop(labels=['homeFacts'], axis=1)"
   ]
  },
  {
   "cell_type": "markdown",
   "metadata": {},
   "source": [
    "Получили пять новых признаков\n",
    "\n",
    "'Year built' - год постройки ;\n",
    "'Remodeled year' - год ремонта/реновации;\n",
    "'Heating' - наличие и тип отопления;\n",
    "'Cooling' - наличие кондиционера;\n",
    "'Parking' - паркинг;\n",
    "'lotsize' - размер земельного участка;\n",
    "'Price/sqft' - цена жилья за кв.фут"
   ]
  },
  {
   "cell_type": "markdown",
   "metadata": {},
   "source": [
    "### Обработаем поля 'Year built' и 'Remodeled year'"
   ]
  },
  {
   "cell_type": "code",
   "execution_count": 16,
   "metadata": {},
   "outputs": [
    {
     "data": {
      "text/plain": [
       "Year built\n",
       "1       2\n",
       "1019    1\n",
       "1057    1\n",
       "1060    1\n",
       "1208    1\n",
       "1700    1\n",
       "1703    2\n",
       "1735    1\n",
       "1740    1\n",
       "1750    2\n",
       "Name: count, dtype: int64"
      ]
     },
     "execution_count": 16,
     "metadata": {},
     "output_type": "execute_result"
    }
   ],
   "source": [
    "# изучаем структуру данных в поле \n",
    "data['Year built'].value_counts().sort_index().head(10)"
   ]
  },
  {
   "cell_type": "code",
   "execution_count": 17,
   "metadata": {},
   "outputs": [
    {
     "data": {
      "text/plain": [
       "Year built\n",
       "2017             5179\n",
       "2018             6855\n",
       "2019            32168\n",
       "2020             2435\n",
       "2021               62\n",
       "2022                8\n",
       "2025                2\n",
       "559990649990        2\n",
       "No Data          1222\n",
       "none            58729\n",
       "Name: count, dtype: int64"
      ]
     },
     "execution_count": 17,
     "metadata": {},
     "output_type": "execute_result"
    }
   ],
   "source": [
    "data['Year built'].value_counts().sort_index().tail(10)"
   ]
  },
  {
   "cell_type": "code",
   "execution_count": 18,
   "metadata": {},
   "outputs": [],
   "source": [
    "# обрабатываем странные значения Year built, пропускам присваиваем NaN\n",
    "data.loc[data[data['Year built']=='1019'].index, 'Year built'] = '1919'\n",
    "data.loc[data[data['Year built']=='1057'].index, 'Year built'] = '1957'\n",
    "data.loc[data[data['Year built']=='1060'].index, 'Year built'] = '1960'\n",
    "data.loc[data[data['Year built']=='1208'].index, 'Year built'] = np.nan\n",
    "data.loc[data[data['Year built']=='1'].index, 'Year built'] = np.nan\n",
    "data.loc[data[data['Year built']=='559990649990'].index, 'Year built'] = np.nan\n",
    "#data.loc[data[data['Year built']=='no_data'].index, 'Year built'] = np.nan\n",
    "data.loc[data[data['Year built']=='No Data'].index, 'Year built'] = np.nan\n",
    "data.loc[data[data['Year built']=='none'].index, 'Year built'] = np.nan\n",
    "data.loc[data[data['Year built']==''].index, 'Year built'] = np.nan"
   ]
  },
  {
   "cell_type": "code",
   "execution_count": 19,
   "metadata": {},
   "outputs": [],
   "source": [
    "# обрабатываем странные значения в Remodeled year, пропускам присваиваем NaN\n",
    "data.loc[data[data['Remodeled year']=='1111'].index, 'Remodeled year'] = '0'\n",
    "data.loc[data[data['Remodeled year']==''].index, 'Remodeled year'] = '0'\n",
    "data.loc[data[data['Remodeled year']=='none'].index, 'Remodeled year'] = '0'\n",
    "data.loc[data[data['Remodeled year']=='0'].index, 'Remodeled year'] = '0'"
   ]
  },
  {
   "cell_type": "code",
   "execution_count": 20,
   "metadata": {},
   "outputs": [
    {
     "data": {
      "text/plain": [
       "0"
      ]
     },
     "execution_count": 20,
     "metadata": {},
     "output_type": "execute_result"
    }
   ],
   "source": [
    "# Для пустых дат постройки Year built заполняем датой реконструкции\n",
    "#data.loc[data.loc[data['Year built'].isna()].index , 'Year built'] = data['Remodeled year']\n",
    "# нулевые значения года постройки меняем на nan\n",
    "data.loc[data[data['Year built']=='0'].index, 'Year built'] = np.nan\n",
    "#заполняем оставшиеся пропуски года постройки модой, а год реновации - 0\n",
    "data = data.fillna({\n",
    "    'Year built': data['Year built'].mode()[0],\n",
    "    'Remodeled year': '0'\n",
    "    })\n",
    "# считаем пропуски\n",
    "data['Year built'].isna().sum()"
   ]
  },
  {
   "cell_type": "code",
   "execution_count": 21,
   "metadata": {},
   "outputs": [],
   "source": [
    "# Если дата постройки Year built больше даты реконструкции, то в качестве даты постройки устанавливаем дату реконструкции\n",
    "# data.loc[data[data['Remodeled year'] < data['Year built']].index , 'Year built'] = data['Remodeled year']"
   ]
  },
  {
   "cell_type": "code",
   "execution_count": 22,
   "metadata": {},
   "outputs": [
    {
     "data": {
      "text/plain": [
       "Year built\n",
       "2019    95737\n",
       "2020     2435\n",
       "2021       62\n",
       "2022        8\n",
       "2025        2\n",
       "Name: count, dtype: int64"
      ]
     },
     "execution_count": 22,
     "metadata": {},
     "output_type": "execute_result"
    }
   ],
   "source": [
    "# максимальное значение\n",
    "data['Year built'].value_counts().sort_index().tail(5)"
   ]
  },
  {
   "cell_type": "code",
   "execution_count": 23,
   "metadata": {},
   "outputs": [],
   "source": [
    "# приведение поля к типу int\n",
    "data['Year built'] = data['Year built'].astype('int')\n",
    "data['Remodeled year'] = data['Remodeled year'].astype('int')"
   ]
  },
  {
   "cell_type": "code",
   "execution_count": 24,
   "metadata": {},
   "outputs": [],
   "source": [
    "# Выполняем перекодировку полей в формат \"Количество лет\" с учетом максимального года = 2025\n",
    "data['Year built'] = data['Year built'].apply(lambda x: 2025 - x)\n",
    "data['Remodeled year'] = data['Remodeled year'].apply(lambda x: 2025-x if x > 0 else x)"
   ]
  },
  {
   "cell_type": "code",
   "execution_count": 25,
   "metadata": {},
   "outputs": [
    {
     "data": {
      "text/plain": [
       "Year built\n",
       "0          2\n",
       "3          8\n",
       "4         62\n",
       "5       2435\n",
       "6      95737\n",
       "       ...  \n",
       "275        2\n",
       "285        1\n",
       "290        1\n",
       "322        2\n",
       "325        1\n",
       "Name: count, Length: 222, dtype: int64"
      ]
     },
     "execution_count": 25,
     "metadata": {},
     "output_type": "execute_result"
    }
   ],
   "source": [
    "data['Year built'].value_counts().sort_index()"
   ]
  },
  {
   "cell_type": "code",
   "execution_count": 26,
   "metadata": {},
   "outputs": [
    {
     "data": {
      "image/png": "[encoded data removed]",
      "text/plain": [
       "<Figure size 432x288 with 1 Axes>"
      ]
     },
     "metadata": {
      "needs_background": "light"
     },
     "output_type": "display_data"
    }
   ],
   "source": [
    "plt.hist(data['Year built'], bins=50);"
   ]
  },
  {
   "cell_type": "code",
   "execution_count": 27,
   "metadata": {},
   "outputs": [
    {
     "data": {
      "text/plain": [
       "Remodeled year\n",
       "0      226333\n",
       "4           6\n",
       "5          48\n",
       "6        1473\n",
       "7        1367\n",
       "        ...  \n",
       "172         1\n",
       "179         1\n",
       "180         1\n",
       "225         1\n",
       "287         1\n",
       "Name: count, Length: 152, dtype: int64"
      ]
     },
     "execution_count": 27,
     "metadata": {},
     "output_type": "execute_result"
    }
   ],
   "source": [
    "data['Remodeled year'].value_counts().sort_index()"
   ]
  },
  {
   "cell_type": "code",
   "execution_count": 28,
   "metadata": {},
   "outputs": [
    {
     "data": {
      "image/png": "[encoded data removed]",
      "text/plain": [
       "<Figure size 432x288 with 1 Axes>"
      ]
     },
     "metadata": {
      "needs_background": "light"
     },
     "output_type": "display_data"
    }
   ],
   "source": [
    "plt.hist(data['Remodeled year'], bins=30);"
   ]
  },
  {
   "cell_type": "markdown",
   "metadata": {},
   "source": [
    "### Кодировка полей Heating, Cooling"
   ]
  },
  {
   "cell_type": "code",
   "execution_count": 29,
   "metadata": {},
   "outputs": [],
   "source": [
    "# заполняем пропуски в новых признаках заглушками и приводим к упорядоченной структуре\n",
    "data['Heating'] = data['Heating'].fillna('no_data')\n",
    "data['Cooling'] = data['Cooling'].fillna('no_data')\n",
    "data['Parking'] = data['Parking'].fillna('')\n",
    "data['lotsize'] = data['lotsize'].fillna('no_data')\n",
    "data['Price/sqft'] = data['Price/sqft'].fillna('no_data')\n",
    "# символы переводим в нижний регистр\n",
    "data['Heating'] = data['Heating'].apply(lambda x: str.lower(x))\n",
    "data['Cooling'] = data['Cooling'].apply(lambda x: str.lower(x))\n",
    "data['Parking'] = data['Parking'].apply(lambda x: str.lower(x))\n",
    "# типизация пропусков\n",
    "data['Heating'] = data['Heating'].apply(lambda x: 'no_data' if x == 'none' or x == 'other' or x == 'no data' else x)\n",
    "data['Cooling'] = data['Cooling'].apply(lambda x: 'no_data' if x == 'none' or x == 'other' or x == 'no data' else x)\n",
    "data['Parking'] = data['Parking'].apply(lambda x: 'no_data' if x == 'none' or x == 'other' or x == 'no data' else x)"
   ]
  },
  {
   "cell_type": "code",
   "execution_count": 30,
   "metadata": {},
   "outputs": [
    {
     "data": {
      "text/plain": [
       "Heating\n",
       "no_data                  147597\n",
       "forced air               134308\n",
       "electric                  10216\n",
       "gas                        9296\n",
       "heat pump                  8851\n",
       "central air                7814\n",
       "central electric           7112\n",
       "central                    6247\n",
       "central, electric          4253\n",
       "baseboard                  3815\n",
       "wall                       3301\n",
       "electric heat              3064\n",
       "heating system             2709\n",
       "forced air, heat pump      1767\n",
       "radiant                    1485\n",
       "Name: count, dtype: int64"
      ]
     },
     "execution_count": 30,
     "metadata": {},
     "output_type": "execute_result"
    }
   ],
   "source": [
    "data['Heating'].value_counts().head(15)"
   ]
  },
  {
   "cell_type": "code",
   "execution_count": 31,
   "metadata": {},
   "outputs": [
    {
     "data": {
      "text/plain": [
       "Cooling\n",
       "central                                            158744\n",
       "no_data                                            143774\n",
       "central air                                         14384\n",
       "has cooling                                          9730\n",
       "central electric                                     6154\n",
       "wall                                                 4017\n",
       "central gas                                          3573\n",
       "central heating                                      2807\n",
       "cooling system                                       2700\n",
       "central a/c                                          2051\n",
       "central a/c (electric), central heat (gas)           1646\n",
       "central a/c (electric), central heat (electric)      1429\n",
       "refrigeration                                        1075\n",
       "central, electric                                    1060\n",
       "electric                                             1012\n",
       "Name: count, dtype: int64"
      ]
     },
     "execution_count": 31,
     "metadata": {},
     "output_type": "execute_result"
    }
   ],
   "source": [
    "data['Cooling'].value_counts().head(15)"
   ]
  },
  {
   "cell_type": "code",
   "execution_count": 32,
   "metadata": {},
   "outputs": [],
   "source": [
    "# Анализ структуры данных показывает, что сведения об отоплении и кондиционировании содержатся в обоих полях.\n",
    "data['Heat_Cool'] = data['Heating'] + ' // ' + data['Cooling']\n",
    "# Heating and Cooling hand-coding\n",
    "data['heating_1'] = data['Heat_Cool'].apply(lambda x: 1 if 'forced air' in x else 0).astype('int')\n",
    "data['heating_2'] = data['Heat_Cool'].apply(lambda x: 1 if 'electric' in x else 0).astype('int')\n",
    "data['heating_3'] = data['Heat_Cool'].apply(lambda x: 1 if 'gas' in x else 0).astype('int')\n",
    "data['heating_4'] = data['Heat_Cool'].apply(lambda x: 1 if 'central' in x \n",
    "                                            or 'heating system' in x \n",
    "                                            or 'has heating' in x else 0).astype('int')\n",
    "data['heating_5'] = data['Heat_Cool'].apply(lambda x: 1 if 'radiant' in x else 0).astype('int')\n",
    "data['heating_6'] = data['Heat_Cool'].apply(lambda x: 1 if 'electric' in x or 'A/C' in x or 'AC' in x else 0).astype('int')\n",
    "data['heating_7'] = data['Heat_Cool'].apply(lambda x: 1 if 'baseboard' in x or 'wall' in x else 0).astype('int')\n",
    "data['heating_8'] = data['Heat_Cool'].apply(lambda x: 1 if 'heat pump' in x else 0).astype('int')\n",
    "data['heating_9'] = data['Heat_Cool'].apply(lambda x: 1 if 'oil' in x else 0).astype('int')\n",
    "data['heating_10'] = data['Heat_Cool'].apply(lambda x: 1 if 'solar' in x else 0).astype('int')\n",
    "data['heating_11'] = data['Heat_Cool'].apply(lambda x: 1 if 'zoned' in x else 0).astype('int')\n",
    "#\n",
    "# Cooling coding\n",
    "data['cooling'] = data['Heat_Cool'].apply(lambda x: 1 if 'has cooling' in x \n",
    "                                          or 'cooling system' in x \n",
    "                                          or 'refrigeration' in x \n",
    "                                          or 'evaporative' in x \n",
    "                                          or 'window unit' in x \n",
    "                                          or 'evaporative' in x \n",
    "                                          or 'condition' in x else 0).astype('int')\n",
    "#\n",
    "#data['ceiling_fan'] = data['Heat_Cool'].apply(lambda x: 1 if 'ceiling fan' in x else 0).astype('int')\n",
    "#data['Humidity'] = data['Heat_Cool'].apply(lambda x: 1 if 'humidity' in x else 0).astype('int')\n",
    "# do we need it?\n",
    "#data['heating_9'] = data['Heat_Cool'].apply(lambda x: 1 if 'heating' in x else 0)\n",
    "# data['heating_0'] = data['Heating'].apply(lambda x: 1 x == 'other' or x == 'no data' or x == '' or x == np.nan)"
   ]
  },
  {
   "cell_type": "code",
   "execution_count": 33,
   "metadata": {},
   "outputs": [],
   "source": [
    "# удаляем исходное поле\n",
    "data = data.drop(labels=['Heating','Cooling'], axis=1)\n",
    "# удаляем исходное поле\n",
    "data = data.drop(labels=['Heat_Cool'], axis=1)"
   ]
  },
  {
   "cell_type": "markdown",
   "metadata": {},
   "source": [
    "### Parking coding"
   ]
  },
  {
   "cell_type": "code",
   "execution_count": 34,
   "metadata": {},
   "outputs": [
    {
     "data": {
      "text/plain": [
       "Parking\n",
       "no_data                             187548\n",
       "attached garage                      70748\n",
       "2 spaces                             28061\n",
       "1 space                              14252\n",
       "detached garage                      13200\n",
       "carport                               7743\n",
       "off street                            5279\n",
       "3 spaces                              4724\n",
       "                                      3533\n",
       "carport, attached garage              3025\n",
       "1                                     2936\n",
       "4 spaces                              2917\n",
       "2                                     2756\n",
       "on street                             1707\n",
       "attached garage, detached garage      1354\n",
       "Name: count, dtype: int64"
      ]
     },
     "execution_count": 34,
     "metadata": {},
     "output_type": "execute_result"
    }
   ],
   "source": [
    "# изучаем структуру\n",
    "data['Parking'].value_counts().head(15)"
   ]
  },
  {
   "cell_type": "markdown",
   "metadata": {},
   "source": [
    "Применяем ручное кодирование"
   ]
  },
  {
   "cell_type": "code",
   "execution_count": 35,
   "metadata": {},
   "outputs": [],
   "source": [
    "# Heating and Cooling hand-coding\n",
    "for i in range(9):\n",
    "    field_name = 'parking_'+str(i+1)\n",
    "    data[field_name] = data['Parking'].apply(lambda x: 1 if str(i) in x else 0).astype('int')"
   ]
  },
  {
   "cell_type": "code",
   "execution_count": 36,
   "metadata": {},
   "outputs": [],
   "source": [
    "# Parking features hand-coding\n",
    "data['parking_10'] = data['Parking'].apply(lambda x: 1 if 'garage' in x else 0).astype('int')\n",
    "data['parking_11'] = data['Parking'].apply(lambda x: 1 if 'attached' in x else 0).astype('int')\n",
    "data['parking_12'] = data['Parking'].apply(lambda x: 1 if 'detached' in x else 0).astype('int')\n",
    "data['parking_13'] = data['Parking'].apply(lambda x: 1 if 'carport' in x else 0).astype('int')\n",
    "data['parking_14'] = data['Parking'].apply(lambda x: 1 if 'off street' in x or 'front' in x or 'slab' in x else 0).astype('int')\n",
    "data['parking_15'] = data['Parking'].apply(lambda x: 1 if 'on street' in x or 'driveway' in x else 0).astype('int')\n",
    "data['parking_16'] = data['Parking'].apply(lambda x: 1 if 'door opener' in x else 0).astype('int')\n",
    "data['parking_17'] = data['Parking'].apply(lambda x: 1 if 'entry' in x else 0).astype('int')"
   ]
  },
  {
   "cell_type": "code",
   "execution_count": 37,
   "metadata": {},
   "outputs": [],
   "source": [
    "# удаляем исходное поле\n",
    "data = data.drop(labels=['Parking'], axis=1)"
   ]
  },
  {
   "cell_type": "markdown",
   "metadata": {},
   "source": [
    "### Обработка и очистка поля \"Lot size\" (площадь земельного участка)"
   ]
  },
  {
   "cell_type": "code",
   "execution_count": 38,
   "metadata": {},
   "outputs": [
    {
     "data": {
      "text/plain": [
       "0             no_data\n",
       "1           5828 sqft\n",
       "2          8,626 sqft\n",
       "3          8,220 sqft\n",
       "4         10,019 sqft\n",
       "             ...     \n",
       "377130     8,500 sqft\n",
       "377131           none\n",
       "377132     1,600 sqft\n",
       "377133        no_data\n",
       "377134     6,969 sqft\n",
       "Name: lotsize, Length: 377135, dtype: object"
      ]
     },
     "execution_count": 38,
     "metadata": {},
     "output_type": "execute_result"
    }
   ],
   "source": [
    "# иучаем структуру данных поля\n",
    "data['lotsize']"
   ]
  },
  {
   "cell_type": "code",
   "execution_count": 39,
   "metadata": {},
   "outputs": [
    {
     "data": {
      "text/plain": [
       "0"
      ]
     },
     "execution_count": 39,
     "metadata": {},
     "output_type": "execute_result"
    }
   ],
   "source": [
    "# типизация данных\n",
    "data['lotsize'] = data['lotsize'].apply(lambda x: 'no_data' if x == 'none' or x == 'No Data' else x)\n",
    "data['lotsize'] = data['lotsize'].apply(lambda x: x.replace('sqft lot','sqft'))\n",
    "data['lotsize'] = data['lotsize'].apply(lambda x: x.replace('acres lot','acre'))\n",
    "data['lotsize'] = data['lotsize'].apply(lambda x: x.replace('Sq.Ft.','sqft'))\n",
    "data['lotsize'] = data['lotsize'].apply(lambda x: x.replace('Sq. Ft.','sqft'))\n",
    "data['lotsize'] = data['lotsize'].apply(lambda x: x.replace('—','no_data'))\n",
    "data['lotsize'] = data['lotsize'].apply(lambda x: x.replace('--','no_data'))\n",
    "data['lotsize'] = data['lotsize'].apply(lambda x: x.replace('Acre','acre'))\n",
    "data['lotsize'] = data['lotsize'].apply(lambda x: x.replace('acres','acre'))\n",
    "data['lotsize'] = data['lotsize'].apply(lambda x: x.replace('Acres','acre'))\n",
    "# проверка наличия пропусков\n",
    "data['lotsize'].isna().sum()"
   ]
  },
  {
   "cell_type": "code",
   "execution_count": 40,
   "metadata": {},
   "outputs": [],
   "source": [
    "data['lot_size'] = data['lotsize'].apply(lambda x: x.split()[0] )\n",
    "data['mes_unit'] = data['lotsize'].apply(lambda x: x.split()[1] if len(x.split())>1 else 'no_data')\n",
    "# удаляем исходное поле\n",
    "data = data.drop(labels=['lotsize'], axis=1)"
   ]
  },
  {
   "cell_type": "code",
   "execution_count": 41,
   "metadata": {},
   "outputs": [
    {
     "data": {
      "text/plain": [
       "mes_unit\n",
       "sqft       163906\n",
       "no_data    135939\n",
       "acre        77290\n",
       "Name: count, dtype: int64"
      ]
     },
     "execution_count": 41,
     "metadata": {},
     "output_type": "execute_result"
    }
   ],
   "source": [
    "data['mes_unit'].value_counts()"
   ]
  },
  {
   "cell_type": "code",
   "execution_count": 42,
   "metadata": {},
   "outputs": [],
   "source": [
    "# доп очистка данных\n",
    "data['lot_size'] = data['lot_size'].apply(lambda x: x.replace('no_data','0'))\n",
    "data['lot_size'] = data['lot_size'].apply(lambda x: x.replace(',',''))\n",
    "data['lot_size'] = data['lot_size'].apply(lambda x: '0' if x == '' else x)\n",
    "# приведение поля к типу float\n",
    "data['lot_size'] = data['lot_size'].astype('float')\n",
    "# приведение площади участка к квадратным футам\n",
    "data.loc[data[data['mes_unit'] == 'acre'].index, 'lot_size'] = data.loc[data[data['mes_unit'] == 'acre'].index, 'lot_size'] * 43560"
   ]
  },
  {
   "cell_type": "code",
   "execution_count": 43,
   "metadata": {},
   "outputs": [
    {
     "data": {
      "text/plain": [
       "0             0.0\n",
       "1          5828.0\n",
       "2          8626.0\n",
       "3          8220.0\n",
       "4         10019.0\n",
       "           ...   \n",
       "377130     8500.0\n",
       "377131        0.0\n",
       "377132     1600.0\n",
       "377133        0.0\n",
       "377134     6969.0\n",
       "Name: lot_size, Length: 377135, dtype: float64"
      ]
     },
     "execution_count": 43,
     "metadata": {},
     "output_type": "execute_result"
    }
   ],
   "source": [
    "data['lot_size']"
   ]
  },
  {
   "cell_type": "code",
   "execution_count": 44,
   "metadata": {},
   "outputs": [],
   "source": [
    "# удаляем исходное поле\n",
    "data = data.drop(labels=['mes_unit'], axis=1)"
   ]
  },
  {
   "cell_type": "markdown",
   "metadata": {},
   "source": [
    "### Поле 'Price/sqft'"
   ]
  },
  {
   "cell_type": "markdown",
   "metadata": {},
   "source": [
    "Сильно коррелирующее с целевой переменной поле - удалить\n",
    "\n",
    "Из этого поля можно вытащить доп.данные для определения площади дома или целевой переменной"
   ]
  },
  {
   "cell_type": "code",
   "execution_count": 45,
   "metadata": {},
   "outputs": [],
   "source": [
    "# удаляем исходное поле\n",
    "data = data.drop(labels=['Price/sqft'], axis=1)"
   ]
  },
  {
   "cell_type": "markdown",
   "metadata": {},
   "source": [
    "### Поле target. Преобразование типа целевой переменной и очистка выбросов по целевой переменной"
   ]
  },
  {
   "cell_type": "code",
   "execution_count": 46,
   "metadata": {},
   "outputs": [
    {
     "data": {
      "text/plain": [
       "(374655, 56)"
      ]
     },
     "execution_count": 46,
     "metadata": {},
     "output_type": "execute_result"
    }
   ],
   "source": [
    "# удаляем строки с пустым полем target\n",
    "data = data.dropna(axis=0, subset=['target'])\n",
    "data.shape"
   ]
  },
  {
   "cell_type": "code",
   "execution_count": 47,
   "metadata": {},
   "outputs": [
    {
     "data": {
      "text/plain": [
       "(374257, 56)"
      ]
     },
     "execution_count": 47,
     "metadata": {},
     "output_type": "execute_result"
    }
   ],
   "source": [
    "# убираем спецсимволы в поле target и помечаем для удаления строки с пометкой /mo (помесячная аренда)\n",
    "specs_list = ['$',',',' ','+']\n",
    "\n",
    "def search_for_specs(arg):\n",
    "    if '/mo' in arg: # похоже на стоимость помесячной аренды, помечаем эти записи nan для последующего удаления\n",
    "        arg = np.nan\n",
    "        return arg\n",
    "    for symbol in arg:\n",
    "        if symbol in specs_list:\n",
    "            arg = arg.replace(symbol,'')\n",
    "    return arg\n",
    "# преобразуем в тип float\n",
    "data['target'] = data['target'].apply(search_for_specs).astype('float')\n",
    "\n",
    "# удаляем новые строки с пустым target\n",
    "data = data.dropna(axis=0, subset=['target'])\n",
    "data.shape"
   ]
  },
  {
   "cell_type": "code",
   "execution_count": 48,
   "metadata": {},
   "outputs": [
    {
     "data": {
      "text/plain": [
       "(374235, 56)"
      ]
     },
     "execution_count": 48,
     "metadata": {},
     "output_type": "execute_result"
    }
   ],
   "source": [
    "# Удаляем строки с заведомо низкой стоимостью (<100)\n",
    "data = data.drop(labels=data[data['target']<100].index, axis=0)\n",
    "data.shape"
   ]
  },
  {
   "cell_type": "code",
   "execution_count": 49,
   "metadata": {},
   "outputs": [],
   "source": [
    "# проверяем распределение\n",
    "#fig, axes = plt.subplots(nrows=1, ncols = 2, figsize=(12,5))\n",
    "#histplot = sns.histplot(data = data, x = 'target', ax=axes[0])\n",
    "#histplot.set_title('Price distribution')\n",
    "#boxplot = sns.boxplot( data = data, x = 'target', ax = axes[1])\n",
    "#boxplot.set_title('Price boxplot');"
   ]
  },
  {
   "cell_type": "markdown",
   "metadata": {},
   "source": [
    "Данные загрязнены выбросами. Необходима очистка выбросов методом Тьюки"
   ]
  },
  {
   "cell_type": "code",
   "execution_count": 50,
   "metadata": {},
   "outputs": [],
   "source": [
    "# Удаляем выбросы методом Тьюки\n",
    "def outliers_iqr(data, feature):\n",
    "    x = data[feature]\n",
    "    quartile_1, quartile_3 = x.quantile(0.25), x.quantile(0.75),\n",
    "    iqr = quartile_3 - quartile_1\n",
    "    lower_bound = quartile_1 - (iqr * 1.5)\n",
    "    upper_bound = quartile_3 + (iqr * 1.5)\n",
    "    outliers = data[(x<lower_bound) | (x > upper_bound)]\n",
    "    cleaned = data[(x>lower_bound) & (x < upper_bound)]\n",
    "    return outliers, cleaned"
   ]
  },
  {
   "cell_type": "code",
   "execution_count": 51,
   "metadata": {},
   "outputs": [
    {
     "name": "stdout",
     "output_type": "stream",
     "text": [
      "Число выбросов по методу Тьюки: 38106\n",
      "Результирующее число записей: 336129\n"
     ]
    }
   ],
   "source": [
    "outliers, cleaned = outliers_iqr(data, 'target')\n",
    "print(f'Число выбросов по методу Тьюки: {outliers.shape[0]}')\n",
    "print(f'Результирующее число записей: {cleaned.shape[0]}')"
   ]
  },
  {
   "cell_type": "code",
   "execution_count": 52,
   "metadata": {},
   "outputs": [
    {
     "data": {
      "image/png": "[encoded data removed]",
      "text/plain": [
       "<Figure size 864x360 with 2 Axes>"
      ]
     },
     "metadata": {
      "needs_background": "light"
     },
     "output_type": "display_data"
    }
   ],
   "source": [
    "# проверяем распределение данных по целевой переменной\n",
    "fig, axes = plt.subplots(nrows=1, ncols = 2, figsize=(12,5))\n",
    "histplot = sns.histplot(data = cleaned, x = 'target', ax=axes[0])\n",
    "histplot.set_title('Price distribution')\n",
    "boxplot = sns.boxplot( data = cleaned, x = 'target', ax = axes[1])\n",
    "boxplot.set_title('Price boxplot');"
   ]
  },
  {
   "cell_type": "markdown",
   "metadata": {},
   "source": [
    "### Один из основных признаков для расчета стоимости жилья - площадь. Выполним преобразование типа этого признака и очистку выбросов"
   ]
  },
  {
   "cell_type": "code",
   "execution_count": 53,
   "metadata": {},
   "outputs": [
    {
     "data": {
      "text/plain": [
       "0               2900\n",
       "1         1,947 sqft\n",
       "4                NaN\n",
       "5           897 sqft\n",
       "6              1,507\n",
       "             ...    \n",
       "377129         1,417\n",
       "377131    2,000 sqft\n",
       "377132    1,152 sqft\n",
       "377133           NaN\n",
       "377134         1,462\n",
       "Name: sqft, Length: 336129, dtype: object"
      ]
     },
     "execution_count": 53,
     "metadata": {},
     "output_type": "execute_result"
    }
   ],
   "source": [
    "# продолжаем работу с очищенными данными\n",
    "data = cleaned\n",
    "data['sqft']"
   ]
  },
  {
   "cell_type": "code",
   "execution_count": 54,
   "metadata": {},
   "outputs": [
    {
     "data": {
      "text/plain": [
       "(301681, 56)"
      ]
     },
     "execution_count": 54,
     "metadata": {},
     "output_type": "execute_result"
    }
   ],
   "source": [
    "# удаляем новые строки с пустым sqft\n",
    "data = data.dropna(subset=['sqft'], axis=0)\n",
    "data.shape"
   ]
  },
  {
   "cell_type": "code",
   "execution_count": 55,
   "metadata": {},
   "outputs": [
    {
     "name": "stderr",
     "output_type": "stream",
     "text": [
      "C:\\Users\\Ustenko-S\\AppData\\Local\\Temp\\ipykernel_16724\\168637460.py:12: SettingWithCopyWarning: \n",
      "A value is trying to be set on a copy of a slice from a DataFrame.\n",
      "Try using .loc[row_indexer,col_indexer] = value instead\n",
      "\n",
      "See the caveats in the documentation: https://pandas.pydata.org/pandas-docs/stable/user_guide/indexing.html#returning-a-view-versus-a-copy\n",
      "  data['sqft'] = data['sqft'].apply(search_for_symbols).astype('float')\n"
     ]
    }
   ],
   "source": [
    "# убираем спецсимволы\n",
    "symbols_list = ['sqft','toalinerior','total','interior','livable','area',':','--',' ',',']\n",
    "\n",
    "def search_for_symbols(arg):\n",
    "    for sub_string in symbols_list:\n",
    "        if sub_string in arg:\n",
    "            arg = str.lower(arg).replace(sub_string,'')\n",
    "    if arg == '':\n",
    "        return 0\n",
    "    return arg\n",
    "# преобразуем в тип float\n",
    "data['sqft'] = data['sqft'].apply(search_for_symbols).astype('float')"
   ]
  },
  {
   "cell_type": "code",
   "execution_count": 56,
   "metadata": {},
   "outputs": [
    {
     "data": {
      "text/plain": [
       "(289595, 56)"
      ]
     },
     "execution_count": 56,
     "metadata": {},
     "output_type": "execute_result"
    }
   ],
   "source": [
    "# Удаляем строки со слишком малой площадью (<10)\n",
    "data = data.drop(labels=data[data['sqft']<10].index, axis=0)\n",
    "data.shape"
   ]
  },
  {
   "cell_type": "code",
   "execution_count": 57,
   "metadata": {},
   "outputs": [
    {
     "name": "stdout",
     "output_type": "stream",
     "text": [
      "Число выбросов по методу Тьюки: 9696\n",
      "Результирующее число записей: 279899\n"
     ]
    }
   ],
   "source": [
    "outliers, cleaned = outliers_iqr(data, 'sqft')\n",
    "print(f'Число выбросов по методу Тьюки: {outliers.shape[0]}')\n",
    "print(f'Результирующее число записей: {cleaned.shape[0]}')"
   ]
  },
  {
   "cell_type": "code",
   "execution_count": 58,
   "metadata": {},
   "outputs": [
    {
     "data": {
      "image/png": "[encoded data removed]",
      "text/plain": [
       "<Figure size 864x360 with 2 Axes>"
      ]
     },
     "metadata": {
      "needs_background": "light"
     },
     "output_type": "display_data"
    }
   ],
   "source": [
    "# проверяем распределение данных по целевой переменной\n",
    "fig, axes = plt.subplots(nrows=1, ncols = 2, figsize=(12,5))\n",
    "histplot = sns.histplot(data = cleaned, x = 'sqft', ax=axes[0])\n",
    "histplot.set_title('Full square distribution')\n",
    "boxplot = sns.boxplot( data = cleaned, x = 'sqft', ax = axes[1])\n",
    "boxplot.set_title('Full square boxplot');"
   ]
  },
  {
   "cell_type": "code",
   "execution_count": 59,
   "metadata": {},
   "outputs": [
    {
     "data": {
      "text/plain": [
       "(279899, 56)"
      ]
     },
     "execution_count": 59,
     "metadata": {},
     "output_type": "execute_result"
    }
   ],
   "source": [
    "# продолжаем работу с очищенными данными\n",
    "data = cleaned\n",
    "data.shape"
   ]
  },
  {
   "cell_type": "markdown",
   "metadata": {},
   "source": [
    "### Кодируем поле наличия бассейна"
   ]
  },
  {
   "cell_type": "code",
   "execution_count": 60,
   "metadata": {},
   "outputs": [
    {
     "data": {
      "text/plain": [
       "PrivatePool\n",
       "yes    21350\n",
       "Yes     7956\n",
       "Name: count, dtype: int64"
      ]
     },
     "execution_count": 60,
     "metadata": {},
     "output_type": "execute_result"
    }
   ],
   "source": [
    "# изучаем структуру данных\n",
    "data['PrivatePool'].value_counts()"
   ]
  },
  {
   "cell_type": "code",
   "execution_count": 61,
   "metadata": {},
   "outputs": [
    {
     "data": {
      "text/plain": [
       "private pool\n",
       "Yes    3342\n",
       "Name: count, dtype: int64"
      ]
     },
     "execution_count": 61,
     "metadata": {},
     "output_type": "execute_result"
    }
   ],
   "source": [
    "# изучаем структуру данных 2-го поля\n",
    "data['private pool'].value_counts()"
   ]
  },
  {
   "cell_type": "code",
   "execution_count": 62,
   "metadata": {},
   "outputs": [],
   "source": [
    "# определяем функцию для обработки полей\n",
    "def pool_detect(arg1, arg2):\n",
    "    #print(type(arg))\n",
    "    if type(arg1) == str:\n",
    "        if str.lower(arg1) == 'yes':\n",
    "            return 1\n",
    "    elif type(arg2) == str:\n",
    "        if str.lower(arg2) == 'yes':\n",
    "            return 1\n",
    "    else:\n",
    "        return 0"
   ]
  },
  {
   "cell_type": "code",
   "execution_count": 63,
   "metadata": {},
   "outputs": [
    {
     "data": {
      "text/plain": [
       "pool\n",
       "0    247251\n",
       "1     32648\n",
       "Name: count, dtype: int64"
      ]
     },
     "execution_count": 63,
     "metadata": {},
     "output_type": "execute_result"
    }
   ],
   "source": [
    "# кодируем поле по признаку наличия бассейна\n",
    "data['pool'] = data[['private pool','PrivatePool']].apply(lambda x: pool_detect(*x), axis=1).astype('int')\n",
    "data['pool'].value_counts()"
   ]
  },
  {
   "cell_type": "code",
   "execution_count": 64,
   "metadata": {},
   "outputs": [],
   "source": [
    "# удалим исходные поля\n",
    "data = data.drop(labels=['private pool','PrivatePool'], axis=1)"
   ]
  },
  {
   "cell_type": "markdown",
   "metadata": {},
   "source": [
    "### Кодируем статус"
   ]
  },
  {
   "cell_type": "code",
   "execution_count": 65,
   "metadata": {},
   "outputs": [
    {
     "data": {
      "text/plain": [
       "status\n",
       "for sale                     117163\n",
       "Active                        68835\n",
       "For sale                      36288\n",
       "foreclosure                    5318\n",
       "New construction               4622\n",
       "Pending                        3930\n",
       "Pre-foreclosure                1550\n",
       "P                              1298\n",
       "Under Contract Show             998\n",
       "Pre-foreclosure / auction       959\n",
       "Name: count, dtype: int64"
      ]
     },
     "execution_count": 65,
     "metadata": {},
     "output_type": "execute_result"
    }
   ],
   "source": [
    "# изучаем значения поля статус и определяем основные признаки для кодирования\n",
    "data['status'].value_counts().head(10)"
   ]
  },
  {
   "cell_type": "markdown",
   "metadata": {},
   "source": [
    "Признаки пересекаются, необходимо применить ручное кодирование"
   ]
  },
  {
   "cell_type": "code",
   "execution_count": 66,
   "metadata": {},
   "outputs": [
    {
     "data": {
      "text/plain": [
       "31891"
      ]
     },
     "execution_count": 66,
     "metadata": {},
     "output_type": "execute_result"
    }
   ],
   "source": [
    "data['status'].isna().sum()"
   ]
  },
  {
   "cell_type": "code",
   "execution_count": 67,
   "metadata": {},
   "outputs": [],
   "source": [
    "# заполняем пропуски заглушкой\n",
    "data['status'] = data['status'].fillna('no_data')\n",
    "# переводим текстовое поле в нижний регистр\n",
    "data['status'] = data['status'].apply(lambda x: str.lower(x))"
   ]
  },
  {
   "cell_type": "code",
   "execution_count": 68,
   "metadata": {},
   "outputs": [],
   "source": [
    "# унифицируем ключевые фразы\n",
    "data['status'] = data['status'].apply(lambda x: 'rental' if 'for rent' in x else x)\n",
    "data['status'] = data['status'].apply(lambda x: 'active' if x == 'a active' or 'coming soon' in x else x)\n",
    "data['status'] = data['status'].apply(lambda x: 'reactivated' if x == 're activated' or x == 'back on market' else x)\n",
    "# проверить ????\n",
    "data['status'] = data['status'].apply(lambda x: 'active backup' if x == 'backup contract' or x == 'backup' or x == 'active backup' else x)\n",
    "#\n",
    "data['status'] = data['status'].apply(lambda x: 'active contingent' if 'active' in x and 'contingen' in x else x)\n",
    "data['status'] = data['status'].apply(lambda x: 'active option' if 'active option contract' in x else x)\n",
    "#\n",
    "#data['status'] = data['status'].apply(lambda x: 'pending taking backups' if x == 'pending - taking backups' else x)\n",
    "data['status'] = data['status'].apply(lambda x: 'contract pending' if x == 'contract p' else x)\n",
    "data['status'] = data['status'].apply(lambda x: 'pending backup' if 'pending' in x and 'backup' in x else x)\n",
    "data['status'] = data['status'].apply(lambda x: 'pending contingency' if 'pending' in x and 'cont' in x else x)\n",
    "data['status'] = data['status'].apply(lambda x: 'pending inspection' if x == 'p' \n",
    "                                      or x == 'pi' \n",
    "                                      or x == 'pending' \n",
    "                                      or x == 'pending in' \n",
    "                                      or x == 'pending inspection'\n",
    "                                      else x)\n",
    "data['status'] = data['status'].apply(lambda x: 'pending continue_to_show' if x == 'ct'\n",
    "                                      or ('pending' in x and 'continue' in x and 'show' in x)\n",
    "                                      else x)\n",
    "data['status'] = data['status'].apply(lambda x: 'pending' if x == 'pending sale'\n",
    "                                      or x == 'p pending sale'\n",
    "                                      or x == 'pending sh'\n",
    "                                      or x == 'ps'\n",
    "                                      or x == 'pf'\n",
    "                                      or ('pending' in x and 'not' in x and 'show' in x)\n",
    "                                      else x)\n",
    "\n",
    "data['status'] = data['status'].apply(lambda x: 'pre-foreclosure' if x == 'pre-foreclosure / auction' else x)\n",
    "data['status'] = data['status'].apply(lambda x: 'under contract' \n",
    "                                      if x == 'under contract   showing' \n",
    "                                      or x == 'under contract show' \n",
    "                                      or x == 'active under contract' \n",
    "                                      or x == 'under contract - show' \n",
    "                                      or x == 'u under contract' \n",
    "                                      else x)\n",
    "data['status'] = data['status'].apply(lambda x: 'contingency' if x == 'contingent show' \n",
    "                                      or x == 'c' \n",
    "                                      or x == 'contingency 48 hr (+/ )'\n",
    "                                      or x == 'contingent   release'\n",
    "                                      else x)\n",
    "data['status'] = data['status'].apply(lambda x: 'foreclosured' if x == 'foreclose' else x)\n",
    "data['status'] = data['status'].apply(lambda x: 'auction' if x == ' / auction' \n",
    "                                      or x == 'auction - active' \n",
    "                                      or x == 'active - auction' \n",
    "                                      else x)\n",
    "data['status'] = data['status'].apply(lambda x: 'new_construction' if x == 'new' or x == 'new construction' else x)"
   ]
  },
  {
   "cell_type": "code",
   "execution_count": 69,
   "metadata": {},
   "outputs": [],
   "source": [
    "# \n",
    "data['status'] = data['status'].apply(lambda x: x.replace('bckp','backup').replace('back up','backup').replace('backups','backup'))\n",
    "data['status'] = data['status'].apply(lambda x: x.replace('accepted','accept').replace('accpt','accept').replace('accepting','accept'))\n",
    "data['status'] = data['status'].apply(lambda x: x.replace('contingent','contingency').replace('accpt','accept'))\n",
    "data['status'] = data['status'].apply(lambda x: x.replace('offers','offer').replace('financing','finance'))\n",
    "data['status'] = data['status'].apply(lambda x: x.replace('  ',' ').replace(' - ',' '))"
   ]
  },
  {
   "cell_type": "code",
   "execution_count": 70,
   "metadata": {},
   "outputs": [
    {
     "data": {
      "text/plain": [
       "(279894, 55)"
      ]
     },
     "execution_count": 70,
     "metadata": {},
     "output_type": "execute_result"
    }
   ],
   "source": [
    "# Удаляем строки со статусом аренда\n",
    "data = data.drop(labels=data[data['status']=='rental'].index, axis=0)\n",
    "data.shape"
   ]
  },
  {
   "cell_type": "code",
   "execution_count": 71,
   "metadata": {},
   "outputs": [],
   "source": [
    "# собираем словарь из ключевых фраз и кодируем поле статус по словарю\n",
    "status_codes = []\n",
    "\n",
    "def status_processing(arg):\n",
    "    dict = arg.split(' ')\n",
    "    for i in range(len(dict)):\n",
    "        if dict[i] not in status_codes and len(dict[i])>3:\n",
    "            status_codes.append(dict[i])\n",
    "            \n",
    "data['status'].apply(status_processing);"
   ]
  },
  {
   "cell_type": "code",
   "execution_count": 72,
   "metadata": {},
   "outputs": [
    {
     "data": {
      "text/plain": [
       "45"
      ]
     },
     "execution_count": 72,
     "metadata": {},
     "output_type": "execute_result"
    }
   ],
   "source": [
    "len(status_codes)"
   ]
  },
  {
   "cell_type": "code",
   "execution_count": 73,
   "metadata": {},
   "outputs": [],
   "source": [
    "# создание новых бинарных признаков проходим циклом по списку ключевых фраз\n",
    "for i in range(len(status_codes)):\n",
    "    field_name = 'status_'+str(i+1)\n",
    "    data[field_name] = data['status'].apply(lambda x: 1 if status_codes[i] in x else 0).astype('int')"
   ]
  },
  {
   "cell_type": "code",
   "execution_count": 74,
   "metadata": {},
   "outputs": [
    {
     "data": {
      "text/plain": [
       "(279894, 100)"
      ]
     },
     "execution_count": 74,
     "metadata": {},
     "output_type": "execute_result"
    }
   ],
   "source": [
    "data.shape"
   ]
  },
  {
   "cell_type": "markdown",
   "metadata": {},
   "source": [
    "==============================================="
   ]
  },
  {
   "cell_type": "code",
   "execution_count": 75,
   "metadata": {},
   "outputs": [],
   "source": [
    "# удаляем исходное поле\n",
    "data = data.drop(labels=['status'], axis=1)"
   ]
  },
  {
   "cell_type": "markdown",
   "metadata": {},
   "source": [
    "### Для этажности есть отдельный признак. Кодируем количество этажей с учетом данных из поля PropertyType"
   ]
  },
  {
   "cell_type": "code",
   "execution_count": 76,
   "metadata": {},
   "outputs": [
    {
     "data": {
      "text/plain": [
       "stories\n",
       "1.0     62643\n",
       "2.0     45912\n",
       "1       21515\n",
       "2       14996\n",
       "3.0      8604\n",
       "0.0      6081\n",
       "One      5542\n",
       "0        3445\n",
       "3        3280\n",
       "2.00     2336\n",
       "Name: count, dtype: int64"
      ]
     },
     "execution_count": 76,
     "metadata": {},
     "output_type": "execute_result"
    }
   ],
   "source": [
    "data['stories'].value_counts().head(10)"
   ]
  },
  {
   "cell_type": "code",
   "execution_count": 77,
   "metadata": {},
   "outputs": [],
   "source": [
    "# заполняем пропуски заглушкой\n",
    "data['stories'] = data['stories'].fillna('no_data')\n",
    "# символы переводим в нижний регистр\n",
    "data['stories'] = data['stories'].apply(lambda x: str.lower(x))"
   ]
  },
  {
   "cell_type": "code",
   "execution_count": 78,
   "metadata": {},
   "outputs": [],
   "source": [
    "# унифицируем данные\n",
    "data['stories'] = data['stories'].apply(lambda x: '1st' if x=='one' or x=='one story' else x)\n",
    "data['stories'] = data['stories'].apply(lambda x: '2st' if x=='two' else x)\n",
    "data['stories'] = data['stories'].apply(lambda x: '3st' if x=='three' else x)\n",
    "data['stories'] = data['stories'].apply(lambda x: '4st' if x=='quad' else x)\n",
    "data['stories'] = data['stories'].apply(lambda x: '3+st' if x=='three or more' or x=='3+' or '3+ stories' in x else x)\n",
    "\n",
    "\n",
    "data['stories'] = data['stories'].apply(lambda x: '1st' if x=='1' or x[:3]=='1.0' or x=='1 story' or x=='one story' or x=='1 level' or x=='one level' or x=='one-level' else x)\n",
    "data['stories'] = data['stories'].apply(lambda x: '1.5st' if x=='1.5' or x[:3]=='1.5' else x)\n",
    "data['stories'] = data['stories'].apply(lambda x: '2st' if x=='2' or x[:3]=='2.0' or x=='2 story' or x=='2 stories' or x=='two story' or x=='2 level' or x=='bi-level' or x=='townhouse' else x)\n",
    "data['stories'] = data['stories'].apply(lambda x: '3st' if x=='3' or x[:3]=='3.0' or x=='3 story' or x=='3 stories' or x=='three story' or x=='3 level' or x=='tri-level' or x=='t3' else x)\n",
    "data['stories'] = data['stories'].apply(lambda x: '4st' if x=='4' or x[:3]=='4.0' or x=='4 story' or x=='4 stories' or x=='4 level' or x=='quad level' else x)\n",
    "data['stories'] = data['stories'].apply(lambda x: '5st' if x=='5' or x[:3]=='5.0' or x=='5 story' or x=='5 level' else x)\n",
    "data['stories'] = data['stories'].apply(lambda x: '6st' if x=='6' or x[:3]=='6.0' or x=='6 story' or x=='6 level' else x)\n",
    "data['stories'] = data['stories'].apply(lambda x: '7st' if x=='7' or x[:3]=='7.0' or x=='7 story' or x=='7 level' else x)\n",
    "data['stories'] = data['stories'].apply(lambda x: '8st' if x=='8' or x[:3]=='8.0' or x=='8 story' or x=='8 level' else x)\n",
    "data['stories'] = data['stories'].apply(lambda x: '9st' if x=='9' or x[:3]=='9.0' or x=='9 story' or x=='9 level' else x)\n",
    "#\n",
    "data['stories'] = data['stories'].apply(lambda x: '1st/'+x if 'one' in x or '1 story' in x or '1 level' in x or 'one level' in x else x)\n",
    "data['stories'] = data['stories'].apply(lambda x: '2st/'+x if 'two' in x or '2 stories' in x or '2 story' in x or '2 level' in x else x)\n",
    "data['stories'] = data['stories'].apply(lambda x: '3st/'+x if 'three' in x or '3 stories' in x or '3 level' in x else x)\n",
    "data['stories'] = data['stories'].apply(lambda x: '4st/'+x if 'quad' in x or '4 stories' in x or '4 level' in x else x)\n",
    "#\n",
    "data['stories'] = data['stories'].apply(lambda x: '' if x=='0' or x=='0.0' else x)\n",
    "data['stories'] = data['stories'].apply(lambda x: '' if x=='no_data' else x)"
   ]
  },
  {
   "cell_type": "code",
   "execution_count": 79,
   "metadata": {},
   "outputs": [
    {
     "data": {
      "text/plain": [
       "trim_stories\n",
       "0    95197\n",
       "1    94612\n",
       "2    68662\n",
       "3    13655\n",
       "9     2687\n",
       "Name: count, dtype: int64"
      ]
     },
     "execution_count": 79,
     "metadata": {},
     "output_type": "execute_result"
    }
   ],
   "source": [
    "# Crop string\n",
    "data['trim_stories'] = data['stories'].apply(lambda x: x[:4])\n",
    "\n",
    "# создаем новые признаки для основных типов этажности\n",
    "data['1_story'] = data['trim_stories'].apply(lambda x: 1 if '1st' in x else 0).astype('int')\n",
    "data['1_h_story'] = data['trim_stories'].apply(lambda x: 1 if '1.5st' in x else 0).astype('int')\n",
    "data['2_story'] = data['trim_stories'].apply(lambda x: 1 if '2st' in x else 0).astype('int')\n",
    "data['3_story'] = data['trim_stories'].apply(lambda x: 1 if '3st' in x else 0).astype('int')\n",
    "data['4_story'] = data['trim_stories'].apply(lambda x: 1 if '4st' in x else 0).astype('int')\n",
    "# новый признак trim_stories содержит извлеченное число этажей\n",
    "data['trim_stories'] = data['trim_stories'].apply(lambda x: re.sub(r'[a-zA-Z]', '', x))\n",
    "data['trim_stories'] = data['trim_stories'].apply(lambda x: x.split('.')[0])\n",
    "data['trim_stories'] = data['trim_stories'].apply(lambda x: x.split('/')[0])\n",
    "data['trim_stories'] = data['trim_stories'].apply(lambda x: re.sub(r'[^0-9]', '', x))\n",
    "data['trim_stories'] = data['trim_stories'].apply(lambda x: 0 if x == '' else int(x)).astype('int')\n",
    "\n",
    "data['trim_stories'].value_counts().head(5)"
   ]
  },
  {
   "cell_type": "markdown",
   "metadata": {},
   "source": [
    "можно еще слить поля stories и propertyType так как в них много общих данных"
   ]
  },
  {
   "cell_type": "code",
   "execution_count": 80,
   "metadata": {},
   "outputs": [],
   "source": [
    "# удаляем исходное поле\n",
    "data = data.drop(labels=['stories'], axis=1)"
   ]
  },
  {
   "cell_type": "markdown",
   "metadata": {},
   "source": [
    "### Кодируем тип недвижимости \"propertyType\""
   ]
  },
  {
   "cell_type": "code",
   "execution_count": 81,
   "metadata": {},
   "outputs": [
    {
     "data": {
      "text/plain": [
       "propertyType\n",
       "single-family home               79327\n",
       "Single Family                    52494\n",
       "Single Family Home               28036\n",
       "condo                            21422\n",
       "Condo                            14172\n",
       "townhouse                        10603\n",
       "Condo/Townhome/Row Home/Co-Op     7147\n",
       "Townhouse                         6376\n",
       "Traditional                       5275\n",
       "multi-family                      4943\n",
       "Name: count, dtype: int64"
      ]
     },
     "execution_count": 81,
     "metadata": {},
     "output_type": "execute_result"
    }
   ],
   "source": [
    "# исследуем структуру данных поля\n",
    "data['propertyType'].value_counts().head(10)"
   ]
  },
  {
   "cell_type": "markdown",
   "metadata": {},
   "source": [
    "Здесь также лучше подойдет ручное кодирование"
   ]
  },
  {
   "cell_type": "code",
   "execution_count": 82,
   "metadata": {},
   "outputs": [],
   "source": [
    "# заполняем пропуски заглушкой\n",
    "data['propertyType'] = data['propertyType'].fillna('unknown')\n",
    "# символы переводим в нижний регистр\n",
    "data['propertyType'] = data['propertyType'].apply(lambda x: str.lower(x))\n",
    "data['propertyType'] = data['propertyType'].apply(lambda x: 'unknown' if x == ' ' else x)"
   ]
  },
  {
   "cell_type": "code",
   "execution_count": 83,
   "metadata": {},
   "outputs": [],
   "source": [
    "# типизация данных\n",
    "#data['propertyType'] = data['propertyType'].apply(lambda x: 'no_data' if x == 'none' or x == 'No Data' else x)\n",
    "data['propertyType'] = data['propertyType'].apply(lambda x: x.replace('one story','1st'))\n",
    "data['propertyType'] = data['propertyType'].apply(lambda x: x.replace('1 story','1st'))\n",
    "data['propertyType'] = data['propertyType'].apply(lambda x: x.replace('2 stories','2st'))\n",
    "data['propertyType'] = data['propertyType'].apply(lambda x: x.replace('two story','2st'))\n",
    "data['propertyType'] = data['propertyType'].apply(lambda x: x.replace('bilevel','2st'))\n",
    "data['propertyType'] = data['propertyType'].apply(lambda x: x.replace('2 levels','2st'))\n",
    "data['propertyType'] = data['propertyType'].apply(lambda x: x.replace('tri-level','3st'))\n",
    "data['propertyType'] = data['propertyType'].apply(lambda x: '3st' if x == 'tri-level' else x)\n",
    "data['propertyType'] = data['propertyType'].apply(lambda x: '3st' if x == 'less than 4 floors' else x)\n",
    "data['propertyType'] = data['propertyType'].apply(lambda x: x.replace('2 story','2st'))\n",
    "data['propertyType'] = data['propertyType'].apply(lambda x: x.replace('bi-level ','split'))\n",
    "#data['propertyType'] = data['propertyType'].apply(lambda x: x.replace('split-level','2st'))\n",
    "\n",
    "data['propertyType'] = data['propertyType'].apply(lambda x: x.replace('midcentury','mid century').replace('midcentury','mid-century'))\n",
    "data['propertyType'] = data['propertyType'].apply(lambda x: 'unknown' if 'other' in x or x == 'miscellaneous' or x == 'custom' or x == '' or x == ' ' else x)"
   ]
  },
  {
   "cell_type": "code",
   "execution_count": 84,
   "metadata": {},
   "outputs": [
    {
     "data": {
      "text/plain": [
       "40"
      ]
     },
     "execution_count": 84,
     "metadata": {},
     "output_type": "execute_result"
    }
   ],
   "source": [
    "extra_data_status = pd.DataFrame()\n",
    "# собираем ключевые фразы для кодирования статусов\n",
    "status_codes = [['single','family','detached','tiny home'],\n",
    "                '1st','2st','3st',\n",
    "                'condo','town','tradition','craftsman','cottage','high','federal','tudor','loft','split-entry',\n",
    "                'split','basement','penthouse','historic','fourplex','mid-rise','duplex','french','elevated','a-frame',\n",
    "                'bungalow','coastal',\n",
    "                ['flat','apartment'],\n",
    "                ['mid-rise','3+ stories'],\n",
    "                ['beaux arts','art deco'],\n",
    "                ['mediterran','spanish'],\n",
    "                ['colonial','georgian','charleston'],\n",
    "                ['english','victorian'],\n",
    "                ['santa barbara','tuscan'],\n",
    "                ['multi','cluster'],\n",
    "                ['florida','cape','key west'],\n",
    "                ['contemp','modern'],\n",
    "                ['ranch','farm'],\n",
    "                ['coop','co-op'],\n",
    "                ['mobile','carriage'],\n",
    "                ['manufactur','prefab','modular']]\n",
    "# создание новых бинарных признаков проходим циклом по списку ключевых фраз\n",
    "for i in range(len(status_codes)):\n",
    "    if type(status_codes[i])==list and len(status_codes[i]) == 2:\n",
    "        field_name = 'type_'+str(i+1)\n",
    "        extra_data_status[field_name] = data['propertyType'].apply(lambda x: 1 if status_codes[i][0] in x or status_codes[i][1] in x else 0).astype('int')\n",
    "    elif type(status_codes[i])==list and len(status_codes[i]) == 3:\n",
    "        field_name = 'type_'+str(i+1)\n",
    "        extra_data_status[field_name] = data['propertyType'].apply(lambda x: 1 if status_codes[i][0] in x or status_codes[i][1] in x or status_codes[i][2] in x else 0).astype('int')\n",
    "    elif type(status_codes[i])==list and len(status_codes[i]) == 4:\n",
    "        field_name = 'type_'+str(i+1)\n",
    "        extra_data_status[field_name] = data['propertyType'].apply(lambda x: 1 if status_codes[i][0] in x \n",
    "                                                      or status_codes[i][1] in x \n",
    "                                                      or status_codes[i][2] in x \n",
    "                                                      or status_codes[i][3] in x else 0).astype('int')\n",
    "    else:\n",
    "        field_name = 'type_'+str(i+1)\n",
    "        extra_data_status[field_name] = data['propertyType'].apply(lambda x: 1 if status_codes[i] in x else 0).astype('int')\n",
    "# считаем количество новых признаков\n",
    "len(status_codes)"
   ]
  },
  {
   "cell_type": "code",
   "execution_count": 85,
   "metadata": {},
   "outputs": [],
   "source": [
    "# тип земля или съемная квартира - помечаем на удаление\n",
    "extra_data_status['type_lot'] = data['propertyType'].apply(lambda x: 1 if 'lot' in x or 'land' in x else 0).astype('int')"
   ]
  },
  {
   "cell_type": "code",
   "execution_count": 86,
   "metadata": {},
   "outputs": [],
   "source": [
    "# склеиваем датафреймы\n",
    "data = pd.concat([data, extra_data_status], axis=1)"
   ]
  },
  {
   "cell_type": "code",
   "execution_count": 87,
   "metadata": {},
   "outputs": [],
   "source": [
    "# удаляем исходное поле\n",
    "data = data.drop(labels=['propertyType'], axis=1)"
   ]
  },
  {
   "cell_type": "code",
   "execution_count": 88,
   "metadata": {},
   "outputs": [
    {
     "data": {
      "text/plain": [
       "(276883, 144)"
      ]
     },
     "execution_count": 88,
     "metadata": {},
     "output_type": "execute_result"
    }
   ],
   "source": [
    "# Удаляем строки с типом \"земельный участок\"\n",
    "data = data.drop(labels=data[data['type_lot']==1].index, axis=0)\n",
    "data.shape"
   ]
  },
  {
   "cell_type": "code",
   "execution_count": 89,
   "metadata": {},
   "outputs": [],
   "source": [
    "# удаляем исходное поле \"земельный участок\"\n",
    "data = data.drop(labels=['type_lot'], axis=1)"
   ]
  },
  {
   "cell_type": "markdown",
   "metadata": {},
   "source": [
    "### Кодируем количество спален"
   ]
  },
  {
   "cell_type": "code",
   "execution_count": 90,
   "metadata": {},
   "outputs": [
    {
     "data": {
      "text/plain": [
       "0              4\n",
       "1         3 Beds\n",
       "5         2 Beds\n",
       "6            NaN\n",
       "8              3\n",
       "           ...  \n",
       "377128         4\n",
       "377129         2\n",
       "377131    3 Beds\n",
       "377132    3 Beds\n",
       "377134         3\n",
       "Name: beds, Length: 276883, dtype: object"
      ]
     },
     "execution_count": 90,
     "metadata": {},
     "output_type": "execute_result"
    }
   ],
   "source": [
    "data['beds']"
   ]
  },
  {
   "cell_type": "code",
   "execution_count": 91,
   "metadata": {},
   "outputs": [
    {
     "data": {
      "text/plain": [
       "40716"
      ]
     },
     "execution_count": 91,
     "metadata": {},
     "output_type": "execute_result"
    }
   ],
   "source": [
    "data['beds'].isna().sum()"
   ]
  },
  {
   "cell_type": "code",
   "execution_count": 92,
   "metadata": {},
   "outputs": [],
   "source": [
    "# заполняем пропуски заглушкой - нулем.\n",
    "data['beds'] = data['beds'].fillna('0')"
   ]
  },
  {
   "cell_type": "code",
   "execution_count": 93,
   "metadata": {},
   "outputs": [],
   "source": [
    "# убираем спецсимволы в поле target и помечаем для удаления строки с пометкой /mo (помесячная аренда)\n",
    "words_list = ['beds',' ','bd','--']\n",
    "\n",
    "def search_for_symbols(arg):\n",
    "    for sub_string in words_list:\n",
    "        if sub_string in str.lower(arg):\n",
    "            arg = str.lower(arg).replace(sub_string,'')\n",
    "    if 'sqft' in str.lower(arg) or 'bath' in str.lower(arg) or 'price' in str.lower(arg):\n",
    "        return 1\n",
    "    if arg == '':\n",
    "        return 1\n",
    "    return arg\n",
    "\n",
    "# удаляем символы и преобразуем в тип float\n",
    "data['beds'] = data['beds'].apply(search_for_symbols).astype('float').astype('int')"
   ]
  },
  {
   "cell_type": "markdown",
   "metadata": {},
   "source": [
    "### Кодируем количество ванных комнат"
   ]
  },
  {
   "cell_type": "code",
   "execution_count": 94,
   "metadata": {},
   "outputs": [
    {
     "data": {
      "text/plain": [
       "0             3.5\n",
       "1         3 Baths\n",
       "5             NaN\n",
       "6             NaN\n",
       "8               2\n",
       "           ...   \n",
       "377128          2\n",
       "377129          3\n",
       "377131    3 Baths\n",
       "377132    3 Baths\n",
       "377134        2.0\n",
       "Name: baths, Length: 276883, dtype: object"
      ]
     },
     "execution_count": 94,
     "metadata": {},
     "output_type": "execute_result"
    }
   ],
   "source": [
    "data['baths']"
   ]
  },
  {
   "cell_type": "code",
   "execution_count": 95,
   "metadata": {},
   "outputs": [],
   "source": [
    "# заполняем пропуски заглушкой\n",
    "data['baths'] = data['baths'].fillna('0')"
   ]
  },
  {
   "cell_type": "code",
   "execution_count": 96,
   "metadata": {},
   "outputs": [],
   "source": [
    "# убираем спецсимволы в поле target и помечаем для удаления строки с пометкой /mo (помесячная аренда)\n",
    "words_list = ['baths',' ','bathrooms:','ba','~','+','/','sq.ft.','-','semimod','—']\n",
    "\n",
    "def search_for_symbols(arg):\n",
    "    for sub_string in words_list:\n",
    "        if sub_string in str.lower(arg):\n",
    "            arg = str.lower(arg).replace(sub_string,'')\n",
    "    if ',' in str.lower(arg):\n",
    "        arg = str.lower(arg).replace(',','.')\n",
    "    if arg == '':\n",
    "        return 1\n",
    "    return arg\n",
    "\n",
    "# удаляем символы и преобразуем в тип float\n",
    "data['baths'] = data['baths'].apply(search_for_symbols).astype('float')\n",
    "#data['baths'] = data['baths'].apply(search_for_symbols).astype('float').astype('int')"
   ]
  },
  {
   "cell_type": "code",
   "execution_count": 97,
   "metadata": {},
   "outputs": [],
   "source": [
    "# приводим к целому\n",
    "data['baths'] = data['baths'].astype('int')"
   ]
  },
  {
   "cell_type": "markdown",
   "metadata": {},
   "source": [
    "Поле \"кол-во ванных комнат\" содержит странные числа. Все что больше 10 приравниваем 1"
   ]
  },
  {
   "cell_type": "code",
   "execution_count": 98,
   "metadata": {},
   "outputs": [],
   "source": [
    "# заменяем странные значения на 1\n",
    "data['baths'] = data['baths'].apply(lambda x: 1 if x > 10 else x)"
   ]
  },
  {
   "cell_type": "code",
   "execution_count": 99,
   "metadata": {},
   "outputs": [
    {
     "data": {
      "text/plain": [
       "baths\n",
       "2     112957\n",
       "3      65083\n",
       "0      51581\n",
       "1      23882\n",
       "4      19422\n",
       "5       3215\n",
       "6        524\n",
       "7        156\n",
       "8         51\n",
       "10         6\n",
       "9          6\n",
       "Name: count, dtype: int64"
      ]
     },
     "execution_count": 99,
     "metadata": {},
     "output_type": "execute_result"
    }
   ],
   "source": [
    "data['baths'].value_counts()"
   ]
  },
  {
   "cell_type": "markdown",
   "metadata": {},
   "source": [
    "### Кодируем количество каминов"
   ]
  },
  {
   "cell_type": "code",
   "execution_count": 100,
   "metadata": {},
   "outputs": [
    {
     "data": {
      "text/plain": [
       "fireplace\n",
       "yes               39101\n",
       "Yes               16573\n",
       "1                 12542\n",
       "Not Applicable     1970\n",
       "2                  1331\n",
       "Fireplace           692\n",
       "Living Room         356\n",
       "Wood Burning        277\n",
       "Fireplace YN        270\n",
       "1 Fireplace         267\n",
       "Name: count, dtype: int64"
      ]
     },
     "execution_count": 100,
     "metadata": {},
     "output_type": "execute_result"
    }
   ],
   "source": [
    "data['fireplace'].value_counts().head(10)"
   ]
  },
  {
   "cell_type": "code",
   "execution_count": 101,
   "metadata": {},
   "outputs": [],
   "source": [
    "# заполняем пропуски заглушкой\n",
    "data['fireplace'] = data['fireplace'].fillna('0')\n",
    "# символы переводим в нижний регистр\n",
    "data['fireplace'] = data['fireplace'].apply(lambda x: str.lower(x))"
   ]
  },
  {
   "cell_type": "code",
   "execution_count": 102,
   "metadata": {},
   "outputs": [],
   "source": [
    "extra_data = pd.DataFrame()\n",
    "# собираем ключевые фразы для кодирования статусов\n",
    "fireplace_keys = ['gas','closet','electric','storage','extra','utility connection',\n",
    "                  ['logs','wood'],\n",
    "                  ['brick','masonry']]\n",
    "# создание новых бинарных признаков\n",
    "for i in range(len(fireplace_keys)):\n",
    "    if type(fireplace_keys[i])==list and len(fireplace_keys[i]) == 2:\n",
    "        field_name = 'fp_'+str(i+1)\n",
    "        extra_data[field_name] = data['fireplace'].apply(lambda x: 1 if fireplace_keys[i][0] in x or fireplace_keys[i][1] in x else 0).astype('int')\n",
    "    else:\n",
    "        field_name = 'fp_'+str(i+1)\n",
    "        extra_data[field_name] = data['fireplace'].apply(lambda x: 1 if fireplace_keys[i] in x else 0).astype('int')"
   ]
  },
  {
   "cell_type": "code",
   "execution_count": 103,
   "metadata": {},
   "outputs": [],
   "source": [
    "# кодируем поле по количеству каминов\n",
    "fireplace_yes_words = ['gas','wood','family','features','room','den','firepit']\n",
    "#fireplace_no_words = ['decorative', 'n/k', 'not app', 'fireplace yn', 'electric', 'no fireplace']\n",
    "\n",
    "def search_for_words(arg):\n",
    "    if arg == 'yes' or arg == 'fireplace' or '1' in arg or 'one' in arg:\n",
    "        return 1\n",
    "    elif 'two' in arg or '2' in arg:\n",
    "        return 2\n",
    "    elif '3' in arg:\n",
    "        return 3\n",
    "    else:\n",
    "        for word in fireplace_yes_words:\n",
    "            if word in arg:\n",
    "                return 1\n",
    "        return 0\n",
    "\n",
    "# \n",
    "data['fireplace'] = data['fireplace'].apply(search_for_words).astype('int')"
   ]
  },
  {
   "cell_type": "code",
   "execution_count": 104,
   "metadata": {},
   "outputs": [],
   "source": [
    "# склеиваем датафреймы\n",
    "data = pd.concat([data, extra_data], axis=1)"
   ]
  },
  {
   "cell_type": "code",
   "execution_count": 105,
   "metadata": {},
   "outputs": [
    {
     "data": {
      "text/plain": [
       "(276883, 151)"
      ]
     },
     "execution_count": 105,
     "metadata": {},
     "output_type": "execute_result"
    }
   ],
   "source": [
    "data.shape"
   ]
  },
  {
   "cell_type": "markdown",
   "metadata": {},
   "source": [
    "### Распаковываем поле Scools"
   ]
  },
  {
   "cell_type": "code",
   "execution_count": 106,
   "metadata": {},
   "outputs": [],
   "source": [
    "# перестраиваем индекс\n",
    "data_reset = data.reset_index()"
   ]
  },
  {
   "cell_type": "code",
   "execution_count": 107,
   "metadata": {},
   "outputs": [],
   "source": [
    "# распаковка поля schools и извлечение новых признаков\n",
    "schools_list_1 = list() # создаем пустой список для словарей\n",
    "schools_list_2 = list() # создаем пустой список для словарей\n",
    "# создаем новый датафрейм для обработки школьных данных\n",
    "extra_data = pd.DataFrame(data_reset['schools'])\n",
    "\n",
    "def schools_unpack(arg): # функция распаковки поля schools\n",
    "    schools_list_1.append(eval(arg)[0])\n",
    "    schools_list_2.append(eval(arg)[0]['data'])\n",
    "    \n",
    "# обрабатываем поле функцией\n",
    "data_reset['schools'].apply(schools_unpack);\n",
    "# преобразуем списки словарей в датафреймы\n",
    "extra_data_1 = pd.DataFrame(schools_list_1)\n",
    "extra_data_2 = pd.DataFrame(schools_list_2)\n",
    "# склеиваем датафреймы\n",
    "extra_data = pd.concat([extra_data, extra_data_1], axis=1)\n",
    "extra_data = pd.concat([extra_data, extra_data_2], axis=1)"
   ]
  },
  {
   "cell_type": "code",
   "execution_count": 108,
   "metadata": {},
   "outputs": [
    {
     "name": "stdout",
     "output_type": "stream",
     "text": [
      "<class 'pandas.core.frame.DataFrame'>\n",
      "RangeIndex: 276883 entries, 0 to 276882\n",
      "Data columns (total 6 columns):\n",
      " #   Column    Non-Null Count   Dtype \n",
      "---  ------    --------------   ----- \n",
      " 0   schools   276883 non-null  object\n",
      " 1   rating    276883 non-null  object\n",
      " 2   data      276883 non-null  object\n",
      " 3   name      276883 non-null  object\n",
      " 4   Distance  276883 non-null  object\n",
      " 5   Grades    276883 non-null  object\n",
      "dtypes: object(6)\n",
      "memory usage: 12.7+ MB\n"
     ]
    }
   ],
   "source": [
    "# новые признаки\n",
    "extra_data.info()"
   ]
  },
  {
   "cell_type": "markdown",
   "metadata": {},
   "source": [
    "Можно посчитать количество школ в окрестности объекта, средний рейтинг школ, среднюю дистанцию по трем новым признакам"
   ]
  },
  {
   "cell_type": "markdown",
   "metadata": {},
   "source": [
    "### Обработка поля schools"
   ]
  },
  {
   "cell_type": "code",
   "execution_count": 109,
   "metadata": {},
   "outputs": [],
   "source": [
    "# Определяем новый признак - количество школ в округе\n",
    "extra_data['school_count'] = extra_data['name'].apply(lambda x: len(x)).astype('int')"
   ]
  },
  {
   "cell_type": "markdown",
   "metadata": {},
   "source": [
    "### Определяем новые признаки из расстояний до школ"
   ]
  },
  {
   "cell_type": "code",
   "execution_count": 110,
   "metadata": {},
   "outputs": [],
   "source": [
    "#extra_data['Distance'] = extra_data['Distance'].apply(lambda x: re.sub(r'[a-zA-Z] ', '', x))\n",
    "\n",
    "# функция рассчета среднего расстояния до школ\n",
    "def school_distance_avg(arg):\n",
    "    n = 0\n",
    "    if len(arg) > 0:\n",
    "        for i in arg:\n",
    "            i = re.sub(r'[a-zA-Z ]', '', i)\n",
    "            if i != '':\n",
    "                n += float(i)\n",
    "        return round(n / len(arg),1)\n",
    "    else:\n",
    "        return 0\n",
    "    \n",
    "# функция рассчета минимального расстояния до школы\n",
    "def school_distance_min(arg):\n",
    "    n = 999\n",
    "    if len(arg) > 0:\n",
    "        counter = min_number = 0\n",
    "        for i in arg:\n",
    "            i = re.sub(r'[a-zA-Z ]', '', i)\n",
    "            if i != '' and float(i) < n:\n",
    "               min_number = counter\n",
    "               n = float(i)\n",
    "            counter += 1\n",
    "        return [min_number, n]\n",
    "    else:\n",
    "        return [0, 999]\n",
    "# добавляем новые признаки\n",
    "extra_data['school_distance_min'] = extra_data['Distance'].apply(school_distance_min) # расстояние до ближайшей школы\n",
    "extra_data['school_distance_avg'] = extra_data['Distance'].apply(school_distance_avg) # среднее расстояние до школ"
   ]
  },
  {
   "cell_type": "markdown",
   "metadata": {},
   "source": [
    "### \"Средний рейтинг школ в округе\""
   ]
  },
  {
   "cell_type": "code",
   "execution_count": 111,
   "metadata": {},
   "outputs": [],
   "source": [
    "# функция рассчета среднего рейтинга школ\n",
    "def rating_processing(arg):\n",
    "    if len(arg) > 0:\n",
    "        for i in range(len(arg)):\n",
    "            arg[i] = re.sub(r'[a-zA-Z/10]', '', arg[i])\n",
    "        return arg\n",
    "    else:\n",
    "        return arg\n",
    "\n",
    "extra_data['school_rating'] = extra_data['rating'].apply(rating_processing)\n",
    "#extra_data['school_rating_avg'] = extra_data['rating'].apply(rating_processing).astype('int')"
   ]
  },
  {
   "cell_type": "code",
   "execution_count": 112,
   "metadata": {},
   "outputs": [
    {
     "data": {
      "text/plain": [
       "0         [4, 4, 7, , 4, 7, , ]\n",
       "1                      [4, , 4]\n",
       "2                            []\n",
       "3                    [3, 3, , ]\n",
       "4             [2, 2, 4, 7, 4, ]\n",
       "                  ...          \n",
       "276878                [7, 6, 5]\n",
       "276879                   [3, 3]\n",
       "276880                 [, 5, 7]\n",
       "276881                   [5, 4]\n",
       "276882                [5, 4, 3]\n",
       "Name: school_rating, Length: 276883, dtype: object"
      ]
     },
     "execution_count": 112,
     "metadata": {},
     "output_type": "execute_result"
    }
   ],
   "source": [
    "extra_data['school_rating']"
   ]
  },
  {
   "cell_type": "code",
   "execution_count": 113,
   "metadata": {},
   "outputs": [],
   "source": [
    "# функция рассчета среднего рейтинга школ\n",
    "def rating_processing(arg):\n",
    "    n = 0\n",
    "    if len(arg) > 0:\n",
    "        for i in arg:\n",
    "#            i = re.sub(r'/10', '', i)\n",
    "            i = re.sub(r'[a-zA-Z/10]', '', i)\n",
    "            if i != '':\n",
    "                n += int(i)\n",
    "        return round(n / len(arg),1)\n",
    "    else:\n",
    "        return 0\n",
    "\n",
    "extra_data['school_rating_avg'] = extra_data['rating'].apply(rating_processing)\n",
    "#extra_data['school_rating_avg'] = extra_data['rating'].apply(rating_processing).astype('int')"
   ]
  },
  {
   "cell_type": "markdown",
   "metadata": {},
   "source": [
    "### Рейтинг ближайшей школы"
   ]
  },
  {
   "cell_type": "code",
   "execution_count": 114,
   "metadata": {},
   "outputs": [],
   "source": [
    "extra_data['school_nearest'] = extra_data['school_distance_min'].apply(lambda x: x[0])"
   ]
  },
  {
   "cell_type": "code",
   "execution_count": 115,
   "metadata": {},
   "outputs": [
    {
     "data": {
      "text/plain": [
       "0         [4, 4, 7, , 4, 7, , ]\n",
       "1                      [4, , 4]\n",
       "2                            []\n",
       "3                    [3, 3, , ]\n",
       "4             [2, 2, 4, 7, 4, ]\n",
       "                  ...          \n",
       "276878                [7, 6, 5]\n",
       "276879                   [3, 3]\n",
       "276880                 [, 5, 7]\n",
       "276881                   [5, 4]\n",
       "276882                [5, 4, 3]\n",
       "Name: school_rating, Length: 276883, dtype: object"
      ]
     },
     "execution_count": 115,
     "metadata": {},
     "output_type": "execute_result"
    }
   ],
   "source": [
    "extra_data['school_rating']"
   ]
  },
  {
   "cell_type": "code",
   "execution_count": 116,
   "metadata": {},
   "outputs": [],
   "source": [
    "def rating_nearest_school(x, y):\n",
    "    if len(x)>0:\n",
    "        return x[y]\n",
    "    else:\n",
    "        return 0\n",
    "\n",
    "\n",
    "extra_data['school_rating_prx'] = extra_data.apply(lambda row: rating_nearest_school(row['school_rating'],row['school_nearest']), axis=1)"
   ]
  },
  {
   "cell_type": "code",
   "execution_count": 117,
   "metadata": {},
   "outputs": [],
   "source": [
    "extra_data['school_distance_min'] = extra_data['school_distance_min'].apply(lambda x: x[1])"
   ]
  },
  {
   "cell_type": "code",
   "execution_count": 118,
   "metadata": {},
   "outputs": [
    {
     "data": {
      "text/html": [
       "<div>\n",
       "<style scoped>\n",
       "    .dataframe tbody tr th:only-of-type {\n",
       "        vertical-align: middle;\n",
       "    }\n",
       "\n",
       "    .dataframe tbody tr th {\n",
       "        vertical-align: top;\n",
       "    }\n",
       "\n",
       "    .dataframe thead th {\n",
       "        text-align: right;\n",
       "    }\n",
       "</style>\n",
       "<table border=\"1\" class=\"dataframe\">\n",
       "  <thead>\n",
       "    <tr style=\"text-align: right;\">\n",
       "      <th></th>\n",
       "      <th>schools</th>\n",
       "      <th>rating</th>\n",
       "      <th>data</th>\n",
       "      <th>name</th>\n",
       "      <th>Distance</th>\n",
       "      <th>Grades</th>\n",
       "      <th>school_count</th>\n",
       "      <th>school_distance_min</th>\n",
       "      <th>school_distance_avg</th>\n",
       "      <th>school_rating</th>\n",
       "      <th>school_rating_avg</th>\n",
       "      <th>school_nearest</th>\n",
       "      <th>school_rating_prx</th>\n",
       "    </tr>\n",
       "  </thead>\n",
       "  <tbody>\n",
       "    <tr>\n",
       "      <th>0</th>\n",
       "      <td>[{'rating': ['4', '4', '7', 'NR', '4', '7', 'N...</td>\n",
       "      <td>[4, 4, 7, , 4, 7, , ]</td>\n",
       "      <td>{'Distance': ['2.7 mi', '3.6 mi', '5.1 mi', '4...</td>\n",
       "      <td>[Southern Pines Elementary School, Southern Mi...</td>\n",
       "      <td>[2.7 mi, 3.6 mi, 5.1 mi, 4.0 mi, 10.5 mi, 12.6...</td>\n",
       "      <td>[3–5, 6–8, 9–12, PK–2, 6–8, 9–12, PK–5, K–12]</td>\n",
       "      <td>8</td>\n",
       "      <td>2.70</td>\n",
       "      <td>5.5</td>\n",
       "      <td>[4, 4, 7, , 4, 7, , ]</td>\n",
       "      <td>3.2</td>\n",
       "      <td>0</td>\n",
       "      <td>4</td>\n",
       "    </tr>\n",
       "    <tr>\n",
       "      <th>1</th>\n",
       "      <td>[{'rating': ['4/10', 'None/10', '4/10'], 'data...</td>\n",
       "      <td>[4, , 4]</td>\n",
       "      <td>{'Distance': ['1.65mi', '1.32mi', '1.01mi'], '...</td>\n",
       "      <td>[East Valley High School&amp;Extension, Eastvalley...</td>\n",
       "      <td>[1.65mi, 1.32mi, 1.01mi]</td>\n",
       "      <td>[9-12, 3-8, PK-8]</td>\n",
       "      <td>3</td>\n",
       "      <td>1.01</td>\n",
       "      <td>1.3</td>\n",
       "      <td>[4, , 4]</td>\n",
       "      <td>2.7</td>\n",
       "      <td>2</td>\n",
       "      <td>4</td>\n",
       "    </tr>\n",
       "    <tr>\n",
       "      <th>2</th>\n",
       "      <td>[{'rating': [], 'data': {'Distance': [], 'Grad...</td>\n",
       "      <td>[]</td>\n",
       "      <td>{'Distance': [], 'Grades': []}</td>\n",
       "      <td>[]</td>\n",
       "      <td>[]</td>\n",
       "      <td>[]</td>\n",
       "      <td>0</td>\n",
       "      <td>999.00</td>\n",
       "      <td>0.0</td>\n",
       "      <td>[]</td>\n",
       "      <td>0.0</td>\n",
       "      <td>0</td>\n",
       "      <td>0</td>\n",
       "    </tr>\n",
       "    <tr>\n",
       "      <th>3</th>\n",
       "      <td>[{'rating': ['3', '3', '1', 'NR'], 'data': {'D...</td>\n",
       "      <td>[3, 3, , ]</td>\n",
       "      <td>{'Distance': ['0.8 mi', '8.3 mi', '4.2 mi', '2...</td>\n",
       "      <td>[Palmetto Elementary School, Haines City Senio...</td>\n",
       "      <td>[0.8 mi, 8.3 mi, 4.2 mi, 2.0 mi]</td>\n",
       "      <td>[Preschool to 4, Preschool to 12, 5 to 8, 1 to...</td>\n",
       "      <td>4</td>\n",
       "      <td>0.80</td>\n",
       "      <td>3.8</td>\n",
       "      <td>[3, 3, , ]</td>\n",
       "      <td>1.5</td>\n",
       "      <td>0</td>\n",
       "      <td>3</td>\n",
       "    </tr>\n",
       "    <tr>\n",
       "      <th>4</th>\n",
       "      <td>[{'rating': ['2', '2', '4', '7', '4', 'NR'], '...</td>\n",
       "      <td>[2, 2, 4, 7, 4, ]</td>\n",
       "      <td>{'Distance': ['5.6 mi', '5.6 mi', '6.8 mi', '6...</td>\n",
       "      <td>[Roosevelt Elementary School, Lincoln Intermed...</td>\n",
       "      <td>[5.6 mi, 5.6 mi, 6.8 mi, 6.5 mi, 6.8 mi, 6.8 mi]</td>\n",
       "      <td>[PK–4, 5–6, 9–12, PK–4, 7–8, 9–12]</td>\n",
       "      <td>6</td>\n",
       "      <td>5.60</td>\n",
       "      <td>6.4</td>\n",
       "      <td>[2, 2, 4, 7, 4, ]</td>\n",
       "      <td>3.2</td>\n",
       "      <td>0</td>\n",
       "      <td>2</td>\n",
       "    </tr>\n",
       "    <tr>\n",
       "      <th>...</th>\n",
       "      <td>...</td>\n",
       "      <td>...</td>\n",
       "      <td>...</td>\n",
       "      <td>...</td>\n",
       "      <td>...</td>\n",
       "      <td>...</td>\n",
       "      <td>...</td>\n",
       "      <td>...</td>\n",
       "      <td>...</td>\n",
       "      <td>...</td>\n",
       "      <td>...</td>\n",
       "      <td>...</td>\n",
       "      <td>...</td>\n",
       "    </tr>\n",
       "    <tr>\n",
       "      <th>276878</th>\n",
       "      <td>[{'rating': ['7/10', '6/10', '5/10'], 'data': ...</td>\n",
       "      <td>[7, 6, 5]</td>\n",
       "      <td>{'Distance': ['0.3 mi', '2.5 mi', '2.5 mi'], '...</td>\n",
       "      <td>[South Belt Elementary School, Thompson Interm...</td>\n",
       "      <td>[0.3 mi, 2.5 mi, 2.5 mi]</td>\n",
       "      <td>[PK-4, 7-8, 9-12]</td>\n",
       "      <td>3</td>\n",
       "      <td>0.30</td>\n",
       "      <td>1.8</td>\n",
       "      <td>[7, 6, 5]</td>\n",
       "      <td>6.0</td>\n",
       "      <td>0</td>\n",
       "      <td>7</td>\n",
       "    </tr>\n",
       "    <tr>\n",
       "      <th>276879</th>\n",
       "      <td>[{'rating': ['3/10', '3/10'], 'data': {'Distan...</td>\n",
       "      <td>[3, 3]</td>\n",
       "      <td>{'Distance': ['0.4 mi', '0.1 mi'], 'Grades': [...</td>\n",
       "      <td>[Garrison Elementary School, Cardozo Education...</td>\n",
       "      <td>[0.4 mi, 0.1 mi]</td>\n",
       "      <td>[PK-5, 6-12]</td>\n",
       "      <td>2</td>\n",
       "      <td>0.10</td>\n",
       "      <td>0.2</td>\n",
       "      <td>[3, 3]</td>\n",
       "      <td>3.0</td>\n",
       "      <td>1</td>\n",
       "      <td>3</td>\n",
       "    </tr>\n",
       "    <tr>\n",
       "      <th>276880</th>\n",
       "      <td>[{'rating': ['1/10', '5/10', '7/10'], 'data': ...</td>\n",
       "      <td>[, 5, 7]</td>\n",
       "      <td>{'Distance': ['10.61mi', '1.42mi', '0.4mi'], '...</td>\n",
       "      <td>[Hope College Prep High School, Lake View High...</td>\n",
       "      <td>[10.61mi, 1.42mi, 0.4mi]</td>\n",
       "      <td>[9-12, 9-12, PK-8]</td>\n",
       "      <td>3</td>\n",
       "      <td>0.40</td>\n",
       "      <td>4.1</td>\n",
       "      <td>[, 5, 7]</td>\n",
       "      <td>4.0</td>\n",
       "      <td>2</td>\n",
       "      <td>7</td>\n",
       "    </tr>\n",
       "    <tr>\n",
       "      <th>276881</th>\n",
       "      <td>[{'rating': ['5/10', '4/10'], 'data': {'Distan...</td>\n",
       "      <td>[5, 4]</td>\n",
       "      <td>{'Distance': ['0.48mi', '0.73mi'], 'Grades': [...</td>\n",
       "      <td>[Ps 48 William Wordsworth, Jhs 8 Richard S Gro...</td>\n",
       "      <td>[0.48mi, 0.73mi]</td>\n",
       "      <td>[PK-5, 6-8]</td>\n",
       "      <td>2</td>\n",
       "      <td>0.48</td>\n",
       "      <td>0.6</td>\n",
       "      <td>[5, 4]</td>\n",
       "      <td>4.5</td>\n",
       "      <td>0</td>\n",
       "      <td>5</td>\n",
       "    </tr>\n",
       "    <tr>\n",
       "      <th>276882</th>\n",
       "      <td>[{'rating': ['5/10', '4/10', '3/10'], 'data': ...</td>\n",
       "      <td>[5, 4, 3]</td>\n",
       "      <td>{'Distance': ['0.3 mi', '1.1 mi', '4.1 mi'], '...</td>\n",
       "      <td>[Mary Lou Hartman, Woodlake Hills Middle Schoo...</td>\n",
       "      <td>[0.3 mi, 1.1 mi, 4.1 mi]</td>\n",
       "      <td>[PK-5, 6-8, 9-12]</td>\n",
       "      <td>3</td>\n",
       "      <td>0.30</td>\n",
       "      <td>1.8</td>\n",
       "      <td>[5, 4, 3]</td>\n",
       "      <td>4.0</td>\n",
       "      <td>0</td>\n",
       "      <td>5</td>\n",
       "    </tr>\n",
       "  </tbody>\n",
       "</table>\n",
       "<p>276883 rows × 13 columns</p>\n",
       "</div>"
      ],
      "text/plain": [
       "                                                  schools   \n",
       "0       [{'rating': ['4', '4', '7', 'NR', '4', '7', 'N...  \\\n",
       "1       [{'rating': ['4/10', 'None/10', '4/10'], 'data...   \n",
       "2       [{'rating': [], 'data': {'Distance': [], 'Grad...   \n",
       "3       [{'rating': ['3', '3', '1', 'NR'], 'data': {'D...   \n",
       "4       [{'rating': ['2', '2', '4', '7', '4', 'NR'], '...   \n",
       "...                                                   ...   \n",
       "276878  [{'rating': ['7/10', '6/10', '5/10'], 'data': ...   \n",
       "276879  [{'rating': ['3/10', '3/10'], 'data': {'Distan...   \n",
       "276880  [{'rating': ['1/10', '5/10', '7/10'], 'data': ...   \n",
       "276881  [{'rating': ['5/10', '4/10'], 'data': {'Distan...   \n",
       "276882  [{'rating': ['5/10', '4/10', '3/10'], 'data': ...   \n",
       "\n",
       "                       rating   \n",
       "0       [4, 4, 7, , 4, 7, , ]  \\\n",
       "1                    [4, , 4]   \n",
       "2                          []   \n",
       "3                  [3, 3, , ]   \n",
       "4           [2, 2, 4, 7, 4, ]   \n",
       "...                       ...   \n",
       "276878              [7, 6, 5]   \n",
       "276879                 [3, 3]   \n",
       "276880               [, 5, 7]   \n",
       "276881                 [5, 4]   \n",
       "276882              [5, 4, 3]   \n",
       "\n",
       "                                                     data   \n",
       "0       {'Distance': ['2.7 mi', '3.6 mi', '5.1 mi', '4...  \\\n",
       "1       {'Distance': ['1.65mi', '1.32mi', '1.01mi'], '...   \n",
       "2                          {'Distance': [], 'Grades': []}   \n",
       "3       {'Distance': ['0.8 mi', '8.3 mi', '4.2 mi', '2...   \n",
       "4       {'Distance': ['5.6 mi', '5.6 mi', '6.8 mi', '6...   \n",
       "...                                                   ...   \n",
       "276878  {'Distance': ['0.3 mi', '2.5 mi', '2.5 mi'], '...   \n",
       "276879  {'Distance': ['0.4 mi', '0.1 mi'], 'Grades': [...   \n",
       "276880  {'Distance': ['10.61mi', '1.42mi', '0.4mi'], '...   \n",
       "276881  {'Distance': ['0.48mi', '0.73mi'], 'Grades': [...   \n",
       "276882  {'Distance': ['0.3 mi', '1.1 mi', '4.1 mi'], '...   \n",
       "\n",
       "                                                     name   \n",
       "0       [Southern Pines Elementary School, Southern Mi...  \\\n",
       "1       [East Valley High School&Extension, Eastvalley...   \n",
       "2                                                      []   \n",
       "3       [Palmetto Elementary School, Haines City Senio...   \n",
       "4       [Roosevelt Elementary School, Lincoln Intermed...   \n",
       "...                                                   ...   \n",
       "276878  [South Belt Elementary School, Thompson Interm...   \n",
       "276879  [Garrison Elementary School, Cardozo Education...   \n",
       "276880  [Hope College Prep High School, Lake View High...   \n",
       "276881  [Ps 48 William Wordsworth, Jhs 8 Richard S Gro...   \n",
       "276882  [Mary Lou Hartman, Woodlake Hills Middle Schoo...   \n",
       "\n",
       "                                                 Distance   \n",
       "0       [2.7 mi, 3.6 mi, 5.1 mi, 4.0 mi, 10.5 mi, 12.6...  \\\n",
       "1                                [1.65mi, 1.32mi, 1.01mi]   \n",
       "2                                                      []   \n",
       "3                        [0.8 mi, 8.3 mi, 4.2 mi, 2.0 mi]   \n",
       "4        [5.6 mi, 5.6 mi, 6.8 mi, 6.5 mi, 6.8 mi, 6.8 mi]   \n",
       "...                                                   ...   \n",
       "276878                           [0.3 mi, 2.5 mi, 2.5 mi]   \n",
       "276879                                   [0.4 mi, 0.1 mi]   \n",
       "276880                           [10.61mi, 1.42mi, 0.4mi]   \n",
       "276881                                   [0.48mi, 0.73mi]   \n",
       "276882                           [0.3 mi, 1.1 mi, 4.1 mi]   \n",
       "\n",
       "                                                   Grades  school_count   \n",
       "0           [3–5, 6–8, 9–12, PK–2, 6–8, 9–12, PK–5, K–12]             8  \\\n",
       "1                                       [9-12, 3-8, PK-8]             3   \n",
       "2                                                      []             0   \n",
       "3       [Preschool to 4, Preschool to 12, 5 to 8, 1 to...             4   \n",
       "4                      [PK–4, 5–6, 9–12, PK–4, 7–8, 9–12]             6   \n",
       "...                                                   ...           ...   \n",
       "276878                                  [PK-4, 7-8, 9-12]             3   \n",
       "276879                                       [PK-5, 6-12]             2   \n",
       "276880                                 [9-12, 9-12, PK-8]             3   \n",
       "276881                                        [PK-5, 6-8]             2   \n",
       "276882                                  [PK-5, 6-8, 9-12]             3   \n",
       "\n",
       "        school_distance_min  school_distance_avg          school_rating   \n",
       "0                      2.70                  5.5  [4, 4, 7, , 4, 7, , ]  \\\n",
       "1                      1.01                  1.3               [4, , 4]   \n",
       "2                    999.00                  0.0                     []   \n",
       "3                      0.80                  3.8             [3, 3, , ]   \n",
       "4                      5.60                  6.4      [2, 2, 4, 7, 4, ]   \n",
       "...                     ...                  ...                    ...   \n",
       "276878                 0.30                  1.8              [7, 6, 5]   \n",
       "276879                 0.10                  0.2                 [3, 3]   \n",
       "276880                 0.40                  4.1               [, 5, 7]   \n",
       "276881                 0.48                  0.6                 [5, 4]   \n",
       "276882                 0.30                  1.8              [5, 4, 3]   \n",
       "\n",
       "        school_rating_avg  school_nearest school_rating_prx  \n",
       "0                     3.2               0                 4  \n",
       "1                     2.7               2                 4  \n",
       "2                     0.0               0                 0  \n",
       "3                     1.5               0                 3  \n",
       "4                     3.2               0                 2  \n",
       "...                   ...             ...               ...  \n",
       "276878                6.0               0                 7  \n",
       "276879                3.0               1                 3  \n",
       "276880                4.0               2                 7  \n",
       "276881                4.5               0                 5  \n",
       "276882                4.0               0                 5  \n",
       "\n",
       "[276883 rows x 13 columns]"
      ]
     },
     "execution_count": 118,
     "metadata": {},
     "output_type": "execute_result"
    }
   ],
   "source": [
    "extra_data"
   ]
  },
  {
   "cell_type": "code",
   "execution_count": 119,
   "metadata": {},
   "outputs": [
    {
     "name": "stdout",
     "output_type": "stream",
     "text": [
      "<class 'pandas.core.frame.DataFrame'>\n",
      "RangeIndex: 276883 entries, 0 to 276882\n",
      "Data columns (total 13 columns):\n",
      " #   Column               Non-Null Count   Dtype  \n",
      "---  ------               --------------   -----  \n",
      " 0   schools              276883 non-null  object \n",
      " 1   rating               276883 non-null  object \n",
      " 2   data                 276883 non-null  object \n",
      " 3   name                 276883 non-null  object \n",
      " 4   Distance             276883 non-null  object \n",
      " 5   Grades               276883 non-null  object \n",
      " 6   school_count         276883 non-null  int32  \n",
      " 7   school_distance_min  276883 non-null  float64\n",
      " 8   school_distance_avg  276883 non-null  float64\n",
      " 9   school_rating        276883 non-null  object \n",
      " 10  school_rating_avg    276883 non-null  float64\n",
      " 11  school_nearest       276883 non-null  int64  \n",
      " 12  school_rating_prx    276883 non-null  object \n",
      "dtypes: float64(3), int32(1), int64(1), object(8)\n",
      "memory usage: 26.4+ MB\n"
     ]
    }
   ],
   "source": [
    "extra_data.info()"
   ]
  },
  {
   "cell_type": "code",
   "execution_count": 120,
   "metadata": {},
   "outputs": [
    {
     "name": "stdout",
     "output_type": "stream",
     "text": [
      "<class 'pandas.core.frame.DataFrame'>\n",
      "RangeIndex: 276883 entries, 0 to 276882\n",
      "Columns: 152 entries, index to fp_8\n",
      "dtypes: float64(3), int32(131), int64(17), object(1)\n",
      "memory usage: 182.7+ MB\n"
     ]
    }
   ],
   "source": [
    "data_reset.info()"
   ]
  },
  {
   "cell_type": "code",
   "execution_count": 121,
   "metadata": {},
   "outputs": [],
   "source": [
    "# удаляем исходный столбец\n",
    "data_reset.drop(labels=['schools','index'], axis=1, inplace=True)\n",
    "# удаляем исходный столбец\n",
    "extra_data.drop(labels=['name','rating','data','Grades','Distance','schools'], axis=1, inplace=True)"
   ]
  },
  {
   "cell_type": "code",
   "execution_count": 122,
   "metadata": {},
   "outputs": [],
   "source": [
    "# удаляем исходный столбец\n",
    "extra_data.drop(labels=['school_rating','school_nearest'], axis=1, inplace=True)"
   ]
  },
  {
   "cell_type": "code",
   "execution_count": 123,
   "metadata": {},
   "outputs": [],
   "source": [
    "# склеиваем датафреймы\n",
    "data_reset = pd.concat([data_reset, extra_data], axis=1)"
   ]
  },
  {
   "cell_type": "code",
   "execution_count": 124,
   "metadata": {},
   "outputs": [
    {
     "name": "stdout",
     "output_type": "stream",
     "text": [
      "<class 'pandas.core.frame.DataFrame'>\n",
      "RangeIndex: 276883 entries, 0 to 276882\n",
      "Columns: 155 entries, baths to school_rating_prx\n",
      "dtypes: float64(6), int32(132), int64(16), object(1)\n",
      "memory usage: 188.0+ MB\n"
     ]
    }
   ],
   "source": [
    "data_reset.info()"
   ]
  },
  {
   "cell_type": "code",
   "execution_count": 125,
   "metadata": {},
   "outputs": [
    {
     "data": {
      "text/html": [
       "<div>\n",
       "<style scoped>\n",
       "    .dataframe tbody tr th:only-of-type {\n",
       "        vertical-align: middle;\n",
       "    }\n",
       "\n",
       "    .dataframe tbody tr th {\n",
       "        vertical-align: top;\n",
       "    }\n",
       "\n",
       "    .dataframe thead th {\n",
       "        text-align: right;\n",
       "    }\n",
       "</style>\n",
       "<table border=\"1\" class=\"dataframe\">\n",
       "  <thead>\n",
       "    <tr style=\"text-align: right;\">\n",
       "      <th></th>\n",
       "      <th>baths</th>\n",
       "      <th>fireplace</th>\n",
       "      <th>sqft</th>\n",
       "      <th>beds</th>\n",
       "      <th>target</th>\n",
       "      <th>zipcode_0</th>\n",
       "      <th>zipcode_1</th>\n",
       "      <th>zipcode_2</th>\n",
       "      <th>zipcode_3</th>\n",
       "      <th>zipcode_4</th>\n",
       "      <th>...</th>\n",
       "      <th>fp_4</th>\n",
       "      <th>fp_5</th>\n",
       "      <th>fp_6</th>\n",
       "      <th>fp_7</th>\n",
       "      <th>fp_8</th>\n",
       "      <th>school_count</th>\n",
       "      <th>school_distance_min</th>\n",
       "      <th>school_distance_avg</th>\n",
       "      <th>school_rating_avg</th>\n",
       "      <th>school_rating_prx</th>\n",
       "    </tr>\n",
       "  </thead>\n",
       "  <tbody>\n",
       "    <tr>\n",
       "      <th>0</th>\n",
       "      <td>3</td>\n",
       "      <td>1</td>\n",
       "      <td>2900.0</td>\n",
       "      <td>4</td>\n",
       "      <td>418000.0</td>\n",
       "      <td>0</td>\n",
       "      <td>0</td>\n",
       "      <td>0</td>\n",
       "      <td>0</td>\n",
       "      <td>0</td>\n",
       "      <td>...</td>\n",
       "      <td>0</td>\n",
       "      <td>0</td>\n",
       "      <td>0</td>\n",
       "      <td>1</td>\n",
       "      <td>0</td>\n",
       "      <td>8</td>\n",
       "      <td>2.70</td>\n",
       "      <td>5.5</td>\n",
       "      <td>3.2</td>\n",
       "      <td>4</td>\n",
       "    </tr>\n",
       "    <tr>\n",
       "      <th>1</th>\n",
       "      <td>3</td>\n",
       "      <td>0</td>\n",
       "      <td>1947.0</td>\n",
       "      <td>3</td>\n",
       "      <td>310000.0</td>\n",
       "      <td>0</td>\n",
       "      <td>0</td>\n",
       "      <td>0</td>\n",
       "      <td>0</td>\n",
       "      <td>0</td>\n",
       "      <td>...</td>\n",
       "      <td>0</td>\n",
       "      <td>0</td>\n",
       "      <td>0</td>\n",
       "      <td>0</td>\n",
       "      <td>0</td>\n",
       "      <td>3</td>\n",
       "      <td>1.01</td>\n",
       "      <td>1.3</td>\n",
       "      <td>2.7</td>\n",
       "      <td>4</td>\n",
       "    </tr>\n",
       "    <tr>\n",
       "      <th>2</th>\n",
       "      <td>0</td>\n",
       "      <td>0</td>\n",
       "      <td>897.0</td>\n",
       "      <td>2</td>\n",
       "      <td>209000.0</td>\n",
       "      <td>0</td>\n",
       "      <td>0</td>\n",
       "      <td>0</td>\n",
       "      <td>0</td>\n",
       "      <td>0</td>\n",
       "      <td>...</td>\n",
       "      <td>0</td>\n",
       "      <td>0</td>\n",
       "      <td>0</td>\n",
       "      <td>0</td>\n",
       "      <td>0</td>\n",
       "      <td>0</td>\n",
       "      <td>999.00</td>\n",
       "      <td>0.0</td>\n",
       "      <td>0.0</td>\n",
       "      <td>0</td>\n",
       "    </tr>\n",
       "    <tr>\n",
       "      <th>3</th>\n",
       "      <td>0</td>\n",
       "      <td>0</td>\n",
       "      <td>1507.0</td>\n",
       "      <td>0</td>\n",
       "      <td>181500.0</td>\n",
       "      <td>0</td>\n",
       "      <td>0</td>\n",
       "      <td>0</td>\n",
       "      <td>0</td>\n",
       "      <td>0</td>\n",
       "      <td>...</td>\n",
       "      <td>0</td>\n",
       "      <td>0</td>\n",
       "      <td>0</td>\n",
       "      <td>0</td>\n",
       "      <td>0</td>\n",
       "      <td>4</td>\n",
       "      <td>0.80</td>\n",
       "      <td>3.8</td>\n",
       "      <td>1.5</td>\n",
       "      <td>3</td>\n",
       "    </tr>\n",
       "    <tr>\n",
       "      <th>4</th>\n",
       "      <td>2</td>\n",
       "      <td>0</td>\n",
       "      <td>3588.0</td>\n",
       "      <td>3</td>\n",
       "      <td>244900.0</td>\n",
       "      <td>0</td>\n",
       "      <td>0</td>\n",
       "      <td>0</td>\n",
       "      <td>0</td>\n",
       "      <td>0</td>\n",
       "      <td>...</td>\n",
       "      <td>0</td>\n",
       "      <td>0</td>\n",
       "      <td>0</td>\n",
       "      <td>0</td>\n",
       "      <td>0</td>\n",
       "      <td>6</td>\n",
       "      <td>5.60</td>\n",
       "      <td>6.4</td>\n",
       "      <td>3.2</td>\n",
       "      <td>2</td>\n",
       "    </tr>\n",
       "    <tr>\n",
       "      <th>...</th>\n",
       "      <td>...</td>\n",
       "      <td>...</td>\n",
       "      <td>...</td>\n",
       "      <td>...</td>\n",
       "      <td>...</td>\n",
       "      <td>...</td>\n",
       "      <td>...</td>\n",
       "      <td>...</td>\n",
       "      <td>...</td>\n",
       "      <td>...</td>\n",
       "      <td>...</td>\n",
       "      <td>...</td>\n",
       "      <td>...</td>\n",
       "      <td>...</td>\n",
       "      <td>...</td>\n",
       "      <td>...</td>\n",
       "      <td>...</td>\n",
       "      <td>...</td>\n",
       "      <td>...</td>\n",
       "      <td>...</td>\n",
       "      <td>...</td>\n",
       "    </tr>\n",
       "    <tr>\n",
       "      <th>276878</th>\n",
       "      <td>2</td>\n",
       "      <td>0</td>\n",
       "      <td>1841.0</td>\n",
       "      <td>4</td>\n",
       "      <td>252990.0</td>\n",
       "      <td>0</td>\n",
       "      <td>1</td>\n",
       "      <td>0</td>\n",
       "      <td>0</td>\n",
       "      <td>1</td>\n",
       "      <td>...</td>\n",
       "      <td>0</td>\n",
       "      <td>0</td>\n",
       "      <td>0</td>\n",
       "      <td>0</td>\n",
       "      <td>0</td>\n",
       "      <td>3</td>\n",
       "      <td>0.30</td>\n",
       "      <td>1.8</td>\n",
       "      <td>6.0</td>\n",
       "      <td>7</td>\n",
       "    </tr>\n",
       "    <tr>\n",
       "      <th>276879</th>\n",
       "      <td>3</td>\n",
       "      <td>0</td>\n",
       "      <td>1417.0</td>\n",
       "      <td>2</td>\n",
       "      <td>799000.0</td>\n",
       "      <td>0</td>\n",
       "      <td>0</td>\n",
       "      <td>0</td>\n",
       "      <td>1</td>\n",
       "      <td>1</td>\n",
       "      <td>...</td>\n",
       "      <td>0</td>\n",
       "      <td>0</td>\n",
       "      <td>0</td>\n",
       "      <td>0</td>\n",
       "      <td>0</td>\n",
       "      <td>2</td>\n",
       "      <td>0.10</td>\n",
       "      <td>0.2</td>\n",
       "      <td>3.0</td>\n",
       "      <td>3</td>\n",
       "    </tr>\n",
       "    <tr>\n",
       "      <th>276880</th>\n",
       "      <td>3</td>\n",
       "      <td>0</td>\n",
       "      <td>2000.0</td>\n",
       "      <td>3</td>\n",
       "      <td>674999.0</td>\n",
       "      <td>0</td>\n",
       "      <td>0</td>\n",
       "      <td>0</td>\n",
       "      <td>0</td>\n",
       "      <td>1</td>\n",
       "      <td>...</td>\n",
       "      <td>0</td>\n",
       "      <td>0</td>\n",
       "      <td>0</td>\n",
       "      <td>0</td>\n",
       "      <td>0</td>\n",
       "      <td>3</td>\n",
       "      <td>0.40</td>\n",
       "      <td>4.1</td>\n",
       "      <td>4.0</td>\n",
       "      <td>7</td>\n",
       "    </tr>\n",
       "    <tr>\n",
       "      <th>276881</th>\n",
       "      <td>3</td>\n",
       "      <td>0</td>\n",
       "      <td>1152.0</td>\n",
       "      <td>3</td>\n",
       "      <td>528000.0</td>\n",
       "      <td>0</td>\n",
       "      <td>0</td>\n",
       "      <td>0</td>\n",
       "      <td>0</td>\n",
       "      <td>1</td>\n",
       "      <td>...</td>\n",
       "      <td>0</td>\n",
       "      <td>0</td>\n",
       "      <td>0</td>\n",
       "      <td>0</td>\n",
       "      <td>0</td>\n",
       "      <td>2</td>\n",
       "      <td>0.48</td>\n",
       "      <td>0.6</td>\n",
       "      <td>4.5</td>\n",
       "      <td>5</td>\n",
       "    </tr>\n",
       "    <tr>\n",
       "      <th>276882</th>\n",
       "      <td>2</td>\n",
       "      <td>0</td>\n",
       "      <td>1462.0</td>\n",
       "      <td>3</td>\n",
       "      <td>204900.0</td>\n",
       "      <td>0</td>\n",
       "      <td>0</td>\n",
       "      <td>1</td>\n",
       "      <td>0</td>\n",
       "      <td>1</td>\n",
       "      <td>...</td>\n",
       "      <td>0</td>\n",
       "      <td>0</td>\n",
       "      <td>0</td>\n",
       "      <td>0</td>\n",
       "      <td>0</td>\n",
       "      <td>3</td>\n",
       "      <td>0.30</td>\n",
       "      <td>1.8</td>\n",
       "      <td>4.0</td>\n",
       "      <td>5</td>\n",
       "    </tr>\n",
       "  </tbody>\n",
       "</table>\n",
       "<p>276883 rows × 155 columns</p>\n",
       "</div>"
      ],
      "text/plain": [
       "        baths  fireplace    sqft  beds    target  zipcode_0  zipcode_1   \n",
       "0           3          1  2900.0     4  418000.0          0          0  \\\n",
       "1           3          0  1947.0     3  310000.0          0          0   \n",
       "2           0          0   897.0     2  209000.0          0          0   \n",
       "3           0          0  1507.0     0  181500.0          0          0   \n",
       "4           2          0  3588.0     3  244900.0          0          0   \n",
       "...       ...        ...     ...   ...       ...        ...        ...   \n",
       "276878      2          0  1841.0     4  252990.0          0          1   \n",
       "276879      3          0  1417.0     2  799000.0          0          0   \n",
       "276880      3          0  2000.0     3  674999.0          0          0   \n",
       "276881      3          0  1152.0     3  528000.0          0          0   \n",
       "276882      2          0  1462.0     3  204900.0          0          0   \n",
       "\n",
       "        zipcode_2  zipcode_3  zipcode_4  ...  fp_4  fp_5  fp_6  fp_7  fp_8   \n",
       "0               0          0          0  ...     0     0     0     1     0  \\\n",
       "1               0          0          0  ...     0     0     0     0     0   \n",
       "2               0          0          0  ...     0     0     0     0     0   \n",
       "3               0          0          0  ...     0     0     0     0     0   \n",
       "4               0          0          0  ...     0     0     0     0     0   \n",
       "...           ...        ...        ...  ...   ...   ...   ...   ...   ...   \n",
       "276878          0          0          1  ...     0     0     0     0     0   \n",
       "276879          0          1          1  ...     0     0     0     0     0   \n",
       "276880          0          0          1  ...     0     0     0     0     0   \n",
       "276881          0          0          1  ...     0     0     0     0     0   \n",
       "276882          1          0          1  ...     0     0     0     0     0   \n",
       "\n",
       "        school_count  school_distance_min  school_distance_avg   \n",
       "0                  8                 2.70                  5.5  \\\n",
       "1                  3                 1.01                  1.3   \n",
       "2                  0               999.00                  0.0   \n",
       "3                  4                 0.80                  3.8   \n",
       "4                  6                 5.60                  6.4   \n",
       "...              ...                  ...                  ...   \n",
       "276878             3                 0.30                  1.8   \n",
       "276879             2                 0.10                  0.2   \n",
       "276880             3                 0.40                  4.1   \n",
       "276881             2                 0.48                  0.6   \n",
       "276882             3                 0.30                  1.8   \n",
       "\n",
       "        school_rating_avg  school_rating_prx  \n",
       "0                     3.2                  4  \n",
       "1                     2.7                  4  \n",
       "2                     0.0                  0  \n",
       "3                     1.5                  3  \n",
       "4                     3.2                  2  \n",
       "...                   ...                ...  \n",
       "276878                6.0                  7  \n",
       "276879                3.0                  3  \n",
       "276880                4.0                  7  \n",
       "276881                4.5                  5  \n",
       "276882                4.0                  5  \n",
       "\n",
       "[276883 rows x 155 columns]"
      ]
     },
     "execution_count": 125,
     "metadata": {},
     "output_type": "execute_result"
    }
   ],
   "source": [
    "data_reset"
   ]
  },
  {
   "cell_type": "code",
   "execution_count": 126,
   "metadata": {},
   "outputs": [],
   "source": [
    "# загрузка данных в датафрейм\n",
    "data_reset.to_csv(\"./data/data_prepared.csv\", sep=',', index=False)"
   ]
  },
  {
   "cell_type": "code",
   "execution_count": 127,
   "metadata": {},
   "outputs": [
    {
     "name": "stdout",
     "output_type": "stream",
     "text": [
      "Data shape: (276883, 155)\n"
     ]
    },
    {
     "data": {
      "text/html": [
       "<div>\n",
       "<style scoped>\n",
       "    .dataframe tbody tr th:only-of-type {\n",
       "        vertical-align: middle;\n",
       "    }\n",
       "\n",
       "    .dataframe tbody tr th {\n",
       "        vertical-align: top;\n",
       "    }\n",
       "\n",
       "    .dataframe thead th {\n",
       "        text-align: right;\n",
       "    }\n",
       "</style>\n",
       "<table border=\"1\" class=\"dataframe\">\n",
       "  <thead>\n",
       "    <tr style=\"text-align: right;\">\n",
       "      <th></th>\n",
       "      <th>baths</th>\n",
       "      <th>fireplace</th>\n",
       "      <th>sqft</th>\n",
       "      <th>beds</th>\n",
       "      <th>target</th>\n",
       "      <th>zipcode_0</th>\n",
       "      <th>zipcode_1</th>\n",
       "      <th>zipcode_2</th>\n",
       "      <th>zipcode_3</th>\n",
       "      <th>zipcode_4</th>\n",
       "      <th>...</th>\n",
       "      <th>fp_4</th>\n",
       "      <th>fp_5</th>\n",
       "      <th>fp_6</th>\n",
       "      <th>fp_7</th>\n",
       "      <th>fp_8</th>\n",
       "      <th>school_count</th>\n",
       "      <th>school_distance_min</th>\n",
       "      <th>school_distance_avg</th>\n",
       "      <th>school_rating_avg</th>\n",
       "      <th>school_rating_prx</th>\n",
       "    </tr>\n",
       "  </thead>\n",
       "  <tbody>\n",
       "    <tr>\n",
       "      <th>0</th>\n",
       "      <td>3</td>\n",
       "      <td>1</td>\n",
       "      <td>2900.0</td>\n",
       "      <td>4</td>\n",
       "      <td>418000.0</td>\n",
       "      <td>0</td>\n",
       "      <td>0</td>\n",
       "      <td>0</td>\n",
       "      <td>0</td>\n",
       "      <td>0</td>\n",
       "      <td>...</td>\n",
       "      <td>0</td>\n",
       "      <td>0</td>\n",
       "      <td>0</td>\n",
       "      <td>1</td>\n",
       "      <td>0</td>\n",
       "      <td>8</td>\n",
       "      <td>2.70</td>\n",
       "      <td>5.5</td>\n",
       "      <td>3.2</td>\n",
       "      <td>4.0</td>\n",
       "    </tr>\n",
       "    <tr>\n",
       "      <th>1</th>\n",
       "      <td>3</td>\n",
       "      <td>0</td>\n",
       "      <td>1947.0</td>\n",
       "      <td>3</td>\n",
       "      <td>310000.0</td>\n",
       "      <td>0</td>\n",
       "      <td>0</td>\n",
       "      <td>0</td>\n",
       "      <td>0</td>\n",
       "      <td>0</td>\n",
       "      <td>...</td>\n",
       "      <td>0</td>\n",
       "      <td>0</td>\n",
       "      <td>0</td>\n",
       "      <td>0</td>\n",
       "      <td>0</td>\n",
       "      <td>3</td>\n",
       "      <td>1.01</td>\n",
       "      <td>1.3</td>\n",
       "      <td>2.7</td>\n",
       "      <td>4.0</td>\n",
       "    </tr>\n",
       "    <tr>\n",
       "      <th>2</th>\n",
       "      <td>0</td>\n",
       "      <td>0</td>\n",
       "      <td>897.0</td>\n",
       "      <td>2</td>\n",
       "      <td>209000.0</td>\n",
       "      <td>0</td>\n",
       "      <td>0</td>\n",
       "      <td>0</td>\n",
       "      <td>0</td>\n",
       "      <td>0</td>\n",
       "      <td>...</td>\n",
       "      <td>0</td>\n",
       "      <td>0</td>\n",
       "      <td>0</td>\n",
       "      <td>0</td>\n",
       "      <td>0</td>\n",
       "      <td>0</td>\n",
       "      <td>999.00</td>\n",
       "      <td>0.0</td>\n",
       "      <td>0.0</td>\n",
       "      <td>0.0</td>\n",
       "    </tr>\n",
       "    <tr>\n",
       "      <th>3</th>\n",
       "      <td>0</td>\n",
       "      <td>0</td>\n",
       "      <td>1507.0</td>\n",
       "      <td>0</td>\n",
       "      <td>181500.0</td>\n",
       "      <td>0</td>\n",
       "      <td>0</td>\n",
       "      <td>0</td>\n",
       "      <td>0</td>\n",
       "      <td>0</td>\n",
       "      <td>...</td>\n",
       "      <td>0</td>\n",
       "      <td>0</td>\n",
       "      <td>0</td>\n",
       "      <td>0</td>\n",
       "      <td>0</td>\n",
       "      <td>4</td>\n",
       "      <td>0.80</td>\n",
       "      <td>3.8</td>\n",
       "      <td>1.5</td>\n",
       "      <td>3.0</td>\n",
       "    </tr>\n",
       "    <tr>\n",
       "      <th>4</th>\n",
       "      <td>2</td>\n",
       "      <td>0</td>\n",
       "      <td>3588.0</td>\n",
       "      <td>3</td>\n",
       "      <td>244900.0</td>\n",
       "      <td>0</td>\n",
       "      <td>0</td>\n",
       "      <td>0</td>\n",
       "      <td>0</td>\n",
       "      <td>0</td>\n",
       "      <td>...</td>\n",
       "      <td>0</td>\n",
       "      <td>0</td>\n",
       "      <td>0</td>\n",
       "      <td>0</td>\n",
       "      <td>0</td>\n",
       "      <td>6</td>\n",
       "      <td>5.60</td>\n",
       "      <td>6.4</td>\n",
       "      <td>3.2</td>\n",
       "      <td>2.0</td>\n",
       "    </tr>\n",
       "  </tbody>\n",
       "</table>\n",
       "<p>5 rows × 155 columns</p>\n",
       "</div>"
      ],
      "text/plain": [
       "   baths  fireplace    sqft  beds    target  zipcode_0  zipcode_1  zipcode_2   \n",
       "0      3          1  2900.0     4  418000.0          0          0          0  \\\n",
       "1      3          0  1947.0     3  310000.0          0          0          0   \n",
       "2      0          0   897.0     2  209000.0          0          0          0   \n",
       "3      0          0  1507.0     0  181500.0          0          0          0   \n",
       "4      2          0  3588.0     3  244900.0          0          0          0   \n",
       "\n",
       "   zipcode_3  zipcode_4  ...  fp_4  fp_5  fp_6  fp_7  fp_8  school_count   \n",
       "0          0          0  ...     0     0     0     1     0             8  \\\n",
       "1          0          0  ...     0     0     0     0     0             3   \n",
       "2          0          0  ...     0     0     0     0     0             0   \n",
       "3          0          0  ...     0     0     0     0     0             4   \n",
       "4          0          0  ...     0     0     0     0     0             6   \n",
       "\n",
       "   school_distance_min  school_distance_avg  school_rating_avg   \n",
       "0                 2.70                  5.5                3.2  \\\n",
       "1                 1.01                  1.3                2.7   \n",
       "2               999.00                  0.0                0.0   \n",
       "3                 0.80                  3.8                1.5   \n",
       "4                 5.60                  6.4                3.2   \n",
       "\n",
       "   school_rating_prx  \n",
       "0                4.0  \n",
       "1                4.0  \n",
       "2                0.0  \n",
       "3                3.0  \n",
       "4                2.0  \n",
       "\n",
       "[5 rows x 155 columns]"
      ]
     },
     "execution_count": 127,
     "metadata": {},
     "output_type": "execute_result"
    }
   ],
   "source": [
    "# загрузка данных в датафрейм\n",
    "df = pd.read_csv(\"./data/data_prepared.csv\")\n",
    "print('Data shape: {}'.format(df.shape))\n",
    "df.head(5)"
   ]
  }
 ],
 "metadata": {
  "kernelspec": {
   "display_name": "Python 3",
   "language": "python",
   "name": "python3"
  },
  "language_info": {
   "codemirror_mode": {
    "name": "ipython",
    "version": 3
   },
   "file_extension": ".py",
   "mimetype": "text/x-python",
   "name": "python",
   "nbconvert_exporter": "python",
   "pygments_lexer": "ipython3",
   "version": "3.10.4"
  }
 },
 "nbformat": 4,
 "nbformat_minor": 2
}
