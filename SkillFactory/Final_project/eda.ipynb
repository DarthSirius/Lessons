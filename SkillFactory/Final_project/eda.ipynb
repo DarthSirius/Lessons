{
 "cells": [
  {
   "cell_type": "markdown",
   "metadata": {},
   "source": [
    "### Обработка данных и построение модели"
   ]
  },
  {
   "cell_type": "code",
   "execution_count": 1,
   "metadata": {},
   "outputs": [],
   "source": [
    "# загрузка библиотек\n",
    "import pandas as pd\n",
    "import numpy as np\n",
    "import matplotlib.pyplot as plt\n",
    "import seaborn as sns"
   ]
  },
  {
   "cell_type": "code",
   "execution_count": 4,
   "metadata": {},
   "outputs": [
    {
     "name": "stdout",
     "output_type": "stream",
     "text": [
      "Data shape: (276883, 155)\n"
     ]
    },
    {
     "data": {
      "text/html": [
       "<div>\n",
       "<style scoped>\n",
       "    .dataframe tbody tr th:only-of-type {\n",
       "        vertical-align: middle;\n",
       "    }\n",
       "\n",
       "    .dataframe tbody tr th {\n",
       "        vertical-align: top;\n",
       "    }\n",
       "\n",
       "    .dataframe thead th {\n",
       "        text-align: right;\n",
       "    }\n",
       "</style>\n",
       "<table border=\"1\" class=\"dataframe\">\n",
       "  <thead>\n",
       "    <tr style=\"text-align: right;\">\n",
       "      <th></th>\n",
       "      <th>baths</th>\n",
       "      <th>fireplace</th>\n",
       "      <th>sqft</th>\n",
       "      <th>beds</th>\n",
       "      <th>target</th>\n",
       "      <th>zipcode_0</th>\n",
       "      <th>zipcode_1</th>\n",
       "      <th>zipcode_2</th>\n",
       "      <th>zipcode_3</th>\n",
       "      <th>zipcode_4</th>\n",
       "      <th>...</th>\n",
       "      <th>fp_4</th>\n",
       "      <th>fp_5</th>\n",
       "      <th>fp_6</th>\n",
       "      <th>fp_7</th>\n",
       "      <th>fp_8</th>\n",
       "      <th>school_count</th>\n",
       "      <th>school_distance_min</th>\n",
       "      <th>school_distance_avg</th>\n",
       "      <th>school_rating_avg</th>\n",
       "      <th>school_rating_prx</th>\n",
       "    </tr>\n",
       "  </thead>\n",
       "  <tbody>\n",
       "    <tr>\n",
       "      <th>0</th>\n",
       "      <td>3</td>\n",
       "      <td>1</td>\n",
       "      <td>2900.0</td>\n",
       "      <td>4</td>\n",
       "      <td>418000.0</td>\n",
       "      <td>0</td>\n",
       "      <td>0</td>\n",
       "      <td>0</td>\n",
       "      <td>0</td>\n",
       "      <td>0</td>\n",
       "      <td>...</td>\n",
       "      <td>0</td>\n",
       "      <td>0</td>\n",
       "      <td>0</td>\n",
       "      <td>1</td>\n",
       "      <td>0</td>\n",
       "      <td>8</td>\n",
       "      <td>2.70</td>\n",
       "      <td>5.5</td>\n",
       "      <td>3.2</td>\n",
       "      <td>4.0</td>\n",
       "    </tr>\n",
       "    <tr>\n",
       "      <th>1</th>\n",
       "      <td>3</td>\n",
       "      <td>0</td>\n",
       "      <td>1947.0</td>\n",
       "      <td>3</td>\n",
       "      <td>310000.0</td>\n",
       "      <td>0</td>\n",
       "      <td>0</td>\n",
       "      <td>0</td>\n",
       "      <td>0</td>\n",
       "      <td>0</td>\n",
       "      <td>...</td>\n",
       "      <td>0</td>\n",
       "      <td>0</td>\n",
       "      <td>0</td>\n",
       "      <td>0</td>\n",
       "      <td>0</td>\n",
       "      <td>3</td>\n",
       "      <td>1.01</td>\n",
       "      <td>1.3</td>\n",
       "      <td>2.7</td>\n",
       "      <td>4.0</td>\n",
       "    </tr>\n",
       "    <tr>\n",
       "      <th>2</th>\n",
       "      <td>0</td>\n",
       "      <td>0</td>\n",
       "      <td>897.0</td>\n",
       "      <td>2</td>\n",
       "      <td>209000.0</td>\n",
       "      <td>0</td>\n",
       "      <td>0</td>\n",
       "      <td>0</td>\n",
       "      <td>0</td>\n",
       "      <td>0</td>\n",
       "      <td>...</td>\n",
       "      <td>0</td>\n",
       "      <td>0</td>\n",
       "      <td>0</td>\n",
       "      <td>0</td>\n",
       "      <td>0</td>\n",
       "      <td>0</td>\n",
       "      <td>999.00</td>\n",
       "      <td>0.0</td>\n",
       "      <td>0.0</td>\n",
       "      <td>0.0</td>\n",
       "    </tr>\n",
       "    <tr>\n",
       "      <th>3</th>\n",
       "      <td>0</td>\n",
       "      <td>0</td>\n",
       "      <td>1507.0</td>\n",
       "      <td>0</td>\n",
       "      <td>181500.0</td>\n",
       "      <td>0</td>\n",
       "      <td>0</td>\n",
       "      <td>0</td>\n",
       "      <td>0</td>\n",
       "      <td>0</td>\n",
       "      <td>...</td>\n",
       "      <td>0</td>\n",
       "      <td>0</td>\n",
       "      <td>0</td>\n",
       "      <td>0</td>\n",
       "      <td>0</td>\n",
       "      <td>4</td>\n",
       "      <td>0.80</td>\n",
       "      <td>3.8</td>\n",
       "      <td>1.8</td>\n",
       "      <td>3.0</td>\n",
       "    </tr>\n",
       "    <tr>\n",
       "      <th>4</th>\n",
       "      <td>2</td>\n",
       "      <td>0</td>\n",
       "      <td>3588.0</td>\n",
       "      <td>3</td>\n",
       "      <td>244900.0</td>\n",
       "      <td>0</td>\n",
       "      <td>0</td>\n",
       "      <td>0</td>\n",
       "      <td>0</td>\n",
       "      <td>0</td>\n",
       "      <td>...</td>\n",
       "      <td>0</td>\n",
       "      <td>0</td>\n",
       "      <td>0</td>\n",
       "      <td>0</td>\n",
       "      <td>0</td>\n",
       "      <td>6</td>\n",
       "      <td>5.60</td>\n",
       "      <td>6.4</td>\n",
       "      <td>3.2</td>\n",
       "      <td>2.0</td>\n",
       "    </tr>\n",
       "  </tbody>\n",
       "</table>\n",
       "<p>5 rows × 155 columns</p>\n",
       "</div>"
      ],
      "text/plain": [
       "   baths  fireplace    sqft  beds    target  zipcode_0  zipcode_1  zipcode_2   \n",
       "0      3          1  2900.0     4  418000.0          0          0          0  \\\n",
       "1      3          0  1947.0     3  310000.0          0          0          0   \n",
       "2      0          0   897.0     2  209000.0          0          0          0   \n",
       "3      0          0  1507.0     0  181500.0          0          0          0   \n",
       "4      2          0  3588.0     3  244900.0          0          0          0   \n",
       "\n",
       "   zipcode_3  zipcode_4  ...  fp_4  fp_5  fp_6  fp_7  fp_8  school_count   \n",
       "0          0          0  ...     0     0     0     1     0             8  \\\n",
       "1          0          0  ...     0     0     0     0     0             3   \n",
       "2          0          0  ...     0     0     0     0     0             0   \n",
       "3          0          0  ...     0     0     0     0     0             4   \n",
       "4          0          0  ...     0     0     0     0     0             6   \n",
       "\n",
       "   school_distance_min  school_distance_avg  school_rating_avg   \n",
       "0                 2.70                  5.5                3.2  \\\n",
       "1                 1.01                  1.3                2.7   \n",
       "2               999.00                  0.0                0.0   \n",
       "3                 0.80                  3.8                1.8   \n",
       "4                 5.60                  6.4                3.2   \n",
       "\n",
       "   school_rating_prx  \n",
       "0                4.0  \n",
       "1                4.0  \n",
       "2                0.0  \n",
       "3                3.0  \n",
       "4                2.0  \n",
       "\n",
       "[5 rows x 155 columns]"
      ]
     },
     "execution_count": 4,
     "metadata": {},
     "output_type": "execute_result"
    }
   ],
   "source": [
    "# загрузка данных в датафрейм\n",
    "data = pd.read_csv(\"./data/data_prepared.csv\")\n",
    "print('Data shape: {}'.format(data.shape))\n",
    "data.head(5)"
   ]
  },
  {
   "cell_type": "code",
   "execution_count": 6,
   "metadata": {},
   "outputs": [],
   "source": [
    "# Удаляем выбросы методом Тьюки\n",
    "def outliers_iqr(data, feature):\n",
    "    x = data[feature]\n",
    "    quartile_1, quartile_3 = x.quantile(0.25), x.quantile(0.75),\n",
    "    iqr = quartile_3 - quartile_1\n",
    "    lower_bound = quartile_1 - (iqr * 1.5)\n",
    "    upper_bound = quartile_3 + (iqr * 1.5)\n",
    "    outliers = data[(x<lower_bound) | (x > upper_bound)]\n",
    "    cleaned = data[(x>lower_bound) & (x < upper_bound)]\n",
    "    return outliers, cleaned"
   ]
  },
  {
   "cell_type": "code",
   "execution_count": 8,
   "metadata": {},
   "outputs": [
    {
     "name": "stdout",
     "output_type": "stream",
     "text": [
      "Число выбросов по методу Тьюки: 20316\n",
      "Результирующее число записей: 256567\n"
     ]
    }
   ],
   "source": [
    "outliers, cleaned = outliers_iqr(data, 'lot_size')\n",
    "print(f'Число выбросов по методу Тьюки: {outliers.shape[0]}')\n",
    "print(f'Результирующее число записей: {cleaned.shape[0]}')"
   ]
  },
  {
   "cell_type": "code",
   "execution_count": 13,
   "metadata": {},
   "outputs": [
    {
     "ename": "KeyboardInterrupt",
     "evalue": "",
     "output_type": "error",
     "traceback": [
      "\u001b[1;31m---------------------------------------------------------------------------\u001b[0m",
      "\u001b[1;31mKeyboardInterrupt\u001b[0m                         Traceback (most recent call last)",
      "\u001b[1;32mc:\\Users\\Ustenko-S\\Repo\\SkillFactory\\Final_project\\eda.ipynb Cell 6\u001b[0m line \u001b[0;36m<cell line: 3>\u001b[1;34m()\u001b[0m\n\u001b[0;32m      <a href='vscode-notebook-cell:/c%3A/Users/Ustenko-S/Repo/SkillFactory/Final_project/eda.ipynb#W6sZmlsZQ%3D%3D?line=0'>1</a>\u001b[0m \u001b[39m# проверяем распределение данных по целевой переменной\u001b[39;00m\n\u001b[0;32m      <a href='vscode-notebook-cell:/c%3A/Users/Ustenko-S/Repo/SkillFactory/Final_project/eda.ipynb#W6sZmlsZQ%3D%3D?line=1'>2</a>\u001b[0m fig, axes \u001b[39m=\u001b[39m plt\u001b[39m.\u001b[39msubplots(nrows\u001b[39m=\u001b[39m\u001b[39m1\u001b[39m, ncols \u001b[39m=\u001b[39m \u001b[39m2\u001b[39m, figsize\u001b[39m=\u001b[39m(\u001b[39m12\u001b[39m,\u001b[39m5\u001b[39m))\n\u001b[1;32m----> <a href='vscode-notebook-cell:/c%3A/Users/Ustenko-S/Repo/SkillFactory/Final_project/eda.ipynb#W6sZmlsZQ%3D%3D?line=2'>3</a>\u001b[0m histplot \u001b[39m=\u001b[39m sns\u001b[39m.\u001b[39;49mhistplot(data \u001b[39m=\u001b[39;49m data, x \u001b[39m=\u001b[39;49m \u001b[39m'\u001b[39;49m\u001b[39mlot_size\u001b[39;49m\u001b[39m'\u001b[39;49m, ax\u001b[39m=\u001b[39;49maxes[\u001b[39m0\u001b[39;49m])\n\u001b[0;32m      <a href='vscode-notebook-cell:/c%3A/Users/Ustenko-S/Repo/SkillFactory/Final_project/eda.ipynb#W6sZmlsZQ%3D%3D?line=3'>4</a>\u001b[0m histplot\u001b[39m.\u001b[39mset_title(\u001b[39m'\u001b[39m\u001b[39mlot_size distribution\u001b[39m\u001b[39m'\u001b[39m)\n\u001b[0;32m      <a href='vscode-notebook-cell:/c%3A/Users/Ustenko-S/Repo/SkillFactory/Final_project/eda.ipynb#W6sZmlsZQ%3D%3D?line=4'>5</a>\u001b[0m boxplot \u001b[39m=\u001b[39m sns\u001b[39m.\u001b[39mboxplot( data \u001b[39m=\u001b[39m data, x \u001b[39m=\u001b[39m \u001b[39m'\u001b[39m\u001b[39mlot_size\u001b[39m\u001b[39m'\u001b[39m, ax \u001b[39m=\u001b[39m axes[\u001b[39m1\u001b[39m])\n",
      "File \u001b[1;32md:\\Python\\Python310\\lib\\site-packages\\seaborn\\distributions.py:1432\u001b[0m, in \u001b[0;36mhistplot\u001b[1;34m(data, x, y, hue, weights, stat, bins, binwidth, binrange, discrete, cumulative, common_bins, common_norm, multiple, element, fill, shrink, kde, kde_kws, line_kws, thresh, pthresh, pmax, cbar, cbar_ax, cbar_kws, palette, hue_order, hue_norm, color, log_scale, legend, ax, **kwargs)\u001b[0m\n\u001b[0;32m   1421\u001b[0m estimate_kws \u001b[39m=\u001b[39m \u001b[39mdict\u001b[39m(\n\u001b[0;32m   1422\u001b[0m     stat\u001b[39m=\u001b[39mstat,\n\u001b[0;32m   1423\u001b[0m     bins\u001b[39m=\u001b[39mbins,\n\u001b[1;32m   (...)\u001b[0m\n\u001b[0;32m   1427\u001b[0m     cumulative\u001b[39m=\u001b[39mcumulative,\n\u001b[0;32m   1428\u001b[0m )\n\u001b[0;32m   1430\u001b[0m \u001b[39mif\u001b[39;00m p\u001b[39m.\u001b[39munivariate:\n\u001b[1;32m-> 1432\u001b[0m     p\u001b[39m.\u001b[39mplot_univariate_histogram(\n\u001b[0;32m   1433\u001b[0m         multiple\u001b[39m=\u001b[39mmultiple,\n\u001b[0;32m   1434\u001b[0m         element\u001b[39m=\u001b[39melement,\n\u001b[0;32m   1435\u001b[0m         fill\u001b[39m=\u001b[39mfill,\n\u001b[0;32m   1436\u001b[0m         shrink\u001b[39m=\u001b[39mshrink,\n\u001b[0;32m   1437\u001b[0m         common_norm\u001b[39m=\u001b[39mcommon_norm,\n\u001b[0;32m   1438\u001b[0m         common_bins\u001b[39m=\u001b[39mcommon_bins,\n\u001b[0;32m   1439\u001b[0m         kde\u001b[39m=\u001b[39mkde,\n\u001b[0;32m   1440\u001b[0m         kde_kws\u001b[39m=\u001b[39mkde_kws,\n\u001b[0;32m   1441\u001b[0m         color\u001b[39m=\u001b[39mcolor,\n\u001b[0;32m   1442\u001b[0m         legend\u001b[39m=\u001b[39mlegend,\n\u001b[0;32m   1443\u001b[0m         estimate_kws\u001b[39m=\u001b[39mestimate_kws,\n\u001b[0;32m   1444\u001b[0m         line_kws\u001b[39m=\u001b[39mline_kws,\n\u001b[0;32m   1445\u001b[0m         \u001b[39m*\u001b[39m\u001b[39m*\u001b[39mkwargs,\n\u001b[0;32m   1446\u001b[0m     )\n\u001b[0;32m   1448\u001b[0m \u001b[39melse\u001b[39;00m:\n\u001b[0;32m   1450\u001b[0m     p\u001b[39m.\u001b[39mplot_bivariate_histogram(\n\u001b[0;32m   1451\u001b[0m         common_bins\u001b[39m=\u001b[39mcommon_bins,\n\u001b[0;32m   1452\u001b[0m         common_norm\u001b[39m=\u001b[39mcommon_norm,\n\u001b[1;32m   (...)\u001b[0m\n\u001b[0;32m   1462\u001b[0m         \u001b[39m*\u001b[39m\u001b[39m*\u001b[39mkwargs,\n\u001b[0;32m   1463\u001b[0m     )\n",
      "File \u001b[1;32md:\\Python\\Python310\\lib\\site-packages\\seaborn\\distributions.py:575\u001b[0m, in \u001b[0;36m_DistributionPlotter.plot_univariate_histogram\u001b[1;34m(self, multiple, element, fill, common_norm, common_bins, shrink, kde, kde_kws, color, legend, line_kws, estimate_kws, **plot_kws)\u001b[0m\n\u001b[0;32m    570\u001b[0m \u001b[39mif\u001b[39;00m element \u001b[39m==\u001b[39m \u001b[39m\"\u001b[39m\u001b[39mbars\u001b[39m\u001b[39m\"\u001b[39m:\n\u001b[0;32m    571\u001b[0m \n\u001b[0;32m    572\u001b[0m     \u001b[39m# Use matplotlib bar plotting\u001b[39;00m\n\u001b[0;32m    574\u001b[0m     plot_func \u001b[39m=\u001b[39m ax\u001b[39m.\u001b[39mbar \u001b[39mif\u001b[39;00m \u001b[39mself\u001b[39m\u001b[39m.\u001b[39mdata_variable \u001b[39m==\u001b[39m \u001b[39m\"\u001b[39m\u001b[39mx\u001b[39m\u001b[39m\"\u001b[39m \u001b[39melse\u001b[39;00m ax\u001b[39m.\u001b[39mbarh\n\u001b[1;32m--> 575\u001b[0m     artists \u001b[39m=\u001b[39m plot_func(\n\u001b[0;32m    576\u001b[0m         hist[\u001b[39m\"\u001b[39m\u001b[39medges\u001b[39m\u001b[39m\"\u001b[39m],\n\u001b[0;32m    577\u001b[0m         hist[\u001b[39m\"\u001b[39m\u001b[39mheights\u001b[39m\u001b[39m\"\u001b[39m] \u001b[39m-\u001b[39m bottom,\n\u001b[0;32m    578\u001b[0m         hist[\u001b[39m\"\u001b[39m\u001b[39mwidths\u001b[39m\u001b[39m\"\u001b[39m],\n\u001b[0;32m    579\u001b[0m         bottom,\n\u001b[0;32m    580\u001b[0m         align\u001b[39m=\u001b[39m\u001b[39m\"\u001b[39m\u001b[39medge\u001b[39m\u001b[39m\"\u001b[39m,\n\u001b[0;32m    581\u001b[0m         \u001b[39m*\u001b[39m\u001b[39m*\u001b[39martist_kws,\n\u001b[0;32m    582\u001b[0m     )\n\u001b[0;32m    584\u001b[0m     \u001b[39mfor\u001b[39;00m bar \u001b[39min\u001b[39;00m artists:\n\u001b[0;32m    585\u001b[0m         \u001b[39mif\u001b[39;00m \u001b[39mself\u001b[39m\u001b[39m.\u001b[39mdata_variable \u001b[39m==\u001b[39m \u001b[39m\"\u001b[39m\u001b[39mx\u001b[39m\u001b[39m\"\u001b[39m:\n",
      "File \u001b[1;32md:\\Python\\Python310\\lib\\site-packages\\matplotlib\\__init__.py:1423\u001b[0m, in \u001b[0;36m_preprocess_data.<locals>.inner\u001b[1;34m(ax, data, *args, **kwargs)\u001b[0m\n\u001b[0;32m   1420\u001b[0m \u001b[39m@functools\u001b[39m\u001b[39m.\u001b[39mwraps(func)\n\u001b[0;32m   1421\u001b[0m \u001b[39mdef\u001b[39;00m \u001b[39minner\u001b[39m(ax, \u001b[39m*\u001b[39margs, data\u001b[39m=\u001b[39m\u001b[39mNone\u001b[39;00m, \u001b[39m*\u001b[39m\u001b[39m*\u001b[39mkwargs):\n\u001b[0;32m   1422\u001b[0m     \u001b[39mif\u001b[39;00m data \u001b[39mis\u001b[39;00m \u001b[39mNone\u001b[39;00m:\n\u001b[1;32m-> 1423\u001b[0m         \u001b[39mreturn\u001b[39;00m func(ax, \u001b[39m*\u001b[39m\u001b[39mmap\u001b[39m(sanitize_sequence, args), \u001b[39m*\u001b[39m\u001b[39m*\u001b[39mkwargs)\n\u001b[0;32m   1425\u001b[0m     bound \u001b[39m=\u001b[39m new_sig\u001b[39m.\u001b[39mbind(ax, \u001b[39m*\u001b[39margs, \u001b[39m*\u001b[39m\u001b[39m*\u001b[39mkwargs)\n\u001b[0;32m   1426\u001b[0m     auto_label \u001b[39m=\u001b[39m (bound\u001b[39m.\u001b[39marguments\u001b[39m.\u001b[39mget(label_namer)\n\u001b[0;32m   1427\u001b[0m                   \u001b[39mor\u001b[39;00m bound\u001b[39m.\u001b[39mkwargs\u001b[39m.\u001b[39mget(label_namer))\n",
      "File \u001b[1;32md:\\Python\\Python310\\lib\\site-packages\\matplotlib\\axes\\_axes.py:2460\u001b[0m, in \u001b[0;36mAxes.bar\u001b[1;34m(self, x, height, width, bottom, align, **kwargs)\u001b[0m\n\u001b[0;32m   2458\u001b[0m     \u001b[39melse\u001b[39;00m:  \u001b[39m# horizontal\u001b[39;00m\n\u001b[0;32m   2459\u001b[0m         r\u001b[39m.\u001b[39msticky_edges\u001b[39m.\u001b[39mx\u001b[39m.\u001b[39mappend(l)\n\u001b[1;32m-> 2460\u001b[0m     \u001b[39mself\u001b[39;49m\u001b[39m.\u001b[39;49madd_patch(r)\n\u001b[0;32m   2461\u001b[0m     patches\u001b[39m.\u001b[39mappend(r)\n\u001b[0;32m   2463\u001b[0m \u001b[39mif\u001b[39;00m xerr \u001b[39mis\u001b[39;00m \u001b[39mnot\u001b[39;00m \u001b[39mNone\u001b[39;00m \u001b[39mor\u001b[39;00m yerr \u001b[39mis\u001b[39;00m \u001b[39mnot\u001b[39;00m \u001b[39mNone\u001b[39;00m:\n",
      "File \u001b[1;32md:\\Python\\Python310\\lib\\site-packages\\matplotlib\\axes\\_base.py:2414\u001b[0m, in \u001b[0;36m_AxesBase.add_patch\u001b[1;34m(self, p)\u001b[0m\n\u001b[0;32m   2412\u001b[0m \u001b[39mif\u001b[39;00m p\u001b[39m.\u001b[39mget_clip_path() \u001b[39mis\u001b[39;00m \u001b[39mNone\u001b[39;00m:\n\u001b[0;32m   2413\u001b[0m     p\u001b[39m.\u001b[39mset_clip_path(\u001b[39mself\u001b[39m\u001b[39m.\u001b[39mpatch)\n\u001b[1;32m-> 2414\u001b[0m \u001b[39mself\u001b[39;49m\u001b[39m.\u001b[39;49m_update_patch_limits(p)\n\u001b[0;32m   2415\u001b[0m \u001b[39mself\u001b[39m\u001b[39m.\u001b[39m_children\u001b[39m.\u001b[39mappend(p)\n\u001b[0;32m   2416\u001b[0m p\u001b[39m.\u001b[39m_remove_method \u001b[39m=\u001b[39m \u001b[39mself\u001b[39m\u001b[39m.\u001b[39m_children\u001b[39m.\u001b[39mremove\n",
      "File \u001b[1;32md:\\Python\\Python310\\lib\\site-packages\\matplotlib\\axes\\_base.py:2436\u001b[0m, in \u001b[0;36m_AxesBase._update_patch_limits\u001b[1;34m(self, patch)\u001b[0m\n\u001b[0;32m   2433\u001b[0m \u001b[39m# Get all vertices on the path\u001b[39;00m\n\u001b[0;32m   2434\u001b[0m \u001b[39m# Loop through each segment to get extrema for Bezier curve sections\u001b[39;00m\n\u001b[0;32m   2435\u001b[0m vertices \u001b[39m=\u001b[39m []\n\u001b[1;32m-> 2436\u001b[0m \u001b[39mfor\u001b[39;00m curve, code \u001b[39min\u001b[39;00m p\u001b[39m.\u001b[39miter_bezier():\n\u001b[0;32m   2437\u001b[0m     \u001b[39m# Get distance along the curve of any extrema\u001b[39;00m\n\u001b[0;32m   2438\u001b[0m     _, dzeros \u001b[39m=\u001b[39m curve\u001b[39m.\u001b[39maxis_aligned_extrema()\n\u001b[0;32m   2439\u001b[0m     \u001b[39m# Calculate vertices of start, end and any extrema in between\u001b[39;00m\n",
      "File \u001b[1;32md:\\Python\\Python310\\lib\\site-packages\\matplotlib\\path.py:444\u001b[0m, in \u001b[0;36mPath.iter_bezier\u001b[1;34m(self, **kwargs)\u001b[0m\n\u001b[0;32m    442\u001b[0m first_vert \u001b[39m=\u001b[39m \u001b[39mNone\u001b[39;00m\n\u001b[0;32m    443\u001b[0m prev_vert \u001b[39m=\u001b[39m \u001b[39mNone\u001b[39;00m\n\u001b[1;32m--> 444\u001b[0m \u001b[39mfor\u001b[39;00m verts, code \u001b[39min\u001b[39;00m \u001b[39mself\u001b[39m\u001b[39m.\u001b[39miter_segments(\u001b[39m*\u001b[39m\u001b[39m*\u001b[39mkwargs):\n\u001b[0;32m    445\u001b[0m     \u001b[39mif\u001b[39;00m first_vert \u001b[39mis\u001b[39;00m \u001b[39mNone\u001b[39;00m:\n\u001b[0;32m    446\u001b[0m         \u001b[39mif\u001b[39;00m code \u001b[39m!=\u001b[39m Path\u001b[39m.\u001b[39mMOVETO:\n",
      "File \u001b[1;32md:\\Python\\Python310\\lib\\site-packages\\matplotlib\\path.py:398\u001b[0m, in \u001b[0;36mPath.iter_segments\u001b[1;34m(self, transform, remove_nans, clip, snap, stroke_width, simplify, curves, sketch)\u001b[0m\n\u001b[0;32m    395\u001b[0m \u001b[39mif\u001b[39;00m \u001b[39mnot\u001b[39;00m \u001b[39mlen\u001b[39m(\u001b[39mself\u001b[39m):\n\u001b[0;32m    396\u001b[0m     \u001b[39mreturn\u001b[39;00m\n\u001b[1;32m--> 398\u001b[0m cleaned \u001b[39m=\u001b[39m \u001b[39mself\u001b[39;49m\u001b[39m.\u001b[39;49mcleaned(transform\u001b[39m=\u001b[39;49mtransform,\n\u001b[0;32m    399\u001b[0m                        remove_nans\u001b[39m=\u001b[39;49mremove_nans, clip\u001b[39m=\u001b[39;49mclip,\n\u001b[0;32m    400\u001b[0m                        snap\u001b[39m=\u001b[39;49msnap, stroke_width\u001b[39m=\u001b[39;49mstroke_width,\n\u001b[0;32m    401\u001b[0m                        simplify\u001b[39m=\u001b[39;49msimplify, curves\u001b[39m=\u001b[39;49mcurves,\n\u001b[0;32m    402\u001b[0m                        sketch\u001b[39m=\u001b[39;49msketch)\n\u001b[0;32m    404\u001b[0m \u001b[39m# Cache these object lookups for performance in the loop.\u001b[39;00m\n\u001b[0;32m    405\u001b[0m NUM_VERTICES_FOR_CODE \u001b[39m=\u001b[39m \u001b[39mself\u001b[39m\u001b[39m.\u001b[39mNUM_VERTICES_FOR_CODE\n",
      "File \u001b[1;32md:\\Python\\Python310\\lib\\site-packages\\matplotlib\\path.py:478\u001b[0m, in \u001b[0;36mPath.cleaned\u001b[1;34m(self, transform, remove_nans, clip, simplify, curves, stroke_width, snap, sketch)\u001b[0m\n\u001b[0;32m    467\u001b[0m \u001b[39mdef\u001b[39;00m \u001b[39mcleaned\u001b[39m(\u001b[39mself\u001b[39m, transform\u001b[39m=\u001b[39m\u001b[39mNone\u001b[39;00m, remove_nans\u001b[39m=\u001b[39m\u001b[39mFalse\u001b[39;00m, clip\u001b[39m=\u001b[39m\u001b[39mNone\u001b[39;00m,\n\u001b[0;32m    468\u001b[0m             \u001b[39m*\u001b[39m, simplify\u001b[39m=\u001b[39m\u001b[39mFalse\u001b[39;00m, curves\u001b[39m=\u001b[39m\u001b[39mFalse\u001b[39;00m,\n\u001b[0;32m    469\u001b[0m             stroke_width\u001b[39m=\u001b[39m\u001b[39m1.0\u001b[39m, snap\u001b[39m=\u001b[39m\u001b[39mFalse\u001b[39;00m, sketch\u001b[39m=\u001b[39m\u001b[39mNone\u001b[39;00m):\n\u001b[0;32m    470\u001b[0m     \u001b[39m\"\"\"\u001b[39;00m\n\u001b[0;32m    471\u001b[0m \u001b[39m    Return a new Path with vertices and codes cleaned according to the\u001b[39;00m\n\u001b[0;32m    472\u001b[0m \u001b[39m    parameters.\u001b[39;00m\n\u001b[1;32m   (...)\u001b[0m\n\u001b[0;32m    476\u001b[0m \u001b[39m    Path.iter_segments : for details of the keyword arguments.\u001b[39;00m\n\u001b[0;32m    477\u001b[0m \u001b[39m    \"\"\"\u001b[39;00m\n\u001b[1;32m--> 478\u001b[0m     vertices, codes \u001b[39m=\u001b[39m _path\u001b[39m.\u001b[39;49mcleanup_path(\n\u001b[0;32m    479\u001b[0m         \u001b[39mself\u001b[39;49m, transform, remove_nans, clip, snap, stroke_width, simplify,\n\u001b[0;32m    480\u001b[0m         curves, sketch)\n\u001b[0;32m    481\u001b[0m     pth \u001b[39m=\u001b[39m Path\u001b[39m.\u001b[39m_fast_from_codes_and_verts(vertices, codes, \u001b[39mself\u001b[39m)\n\u001b[0;32m    482\u001b[0m     \u001b[39mif\u001b[39;00m \u001b[39mnot\u001b[39;00m simplify:\n",
      "\u001b[1;31mKeyboardInterrupt\u001b[0m: "
     ]
    }
   ],
   "source": [
    "# проверяем распределение данных по целевой переменной\n",
    "fig, axes = plt.subplots(nrows=1, ncols = 2, figsize=(12,5))\n",
    "histplot = sns.histplot(data = data, x = 'lot_size', ax=axes[0])\n",
    "histplot.set_title('lot_size distribution')\n",
    "boxplot = sns.boxplot( data = data, x = 'lot_size', ax = axes[1])\n",
    "boxplot.set_title('lot_size boxplot');"
   ]
  },
  {
   "cell_type": "code",
   "execution_count": 5,
   "metadata": {},
   "outputs": [
    {
     "data": {
      "image/png": "[encoded data removed]",
      "text/plain": [
       "<Figure size 864x360 with 2 Axes>"
      ]
     },
     "metadata": {
      "needs_background": "light"
     },
     "output_type": "display_data"
    }
   ],
   "source": [
    "# проверяем распределение данных по целевой переменной\n",
    "fig, axes = plt.subplots(nrows=1, ncols = 2, figsize=(12,5))\n",
    "histplot = sns.histplot(data = data, x = 'sqft', ax=axes[0])\n",
    "histplot.set_title('Full square distribution')\n",
    "boxplot = sns.boxplot( data = data, x = 'sqft', ax = axes[1])\n",
    "boxplot.set_title('Full square boxplot');"
   ]
  },
  {
   "cell_type": "code",
   "execution_count": 10,
   "metadata": {},
   "outputs": [
    {
     "name": "stdout",
     "output_type": "stream",
     "text": [
      "Число выбросов по методу Тьюки: 24976\n",
      "Результирующее число записей: 251907\n"
     ]
    }
   ],
   "source": [
    "outliers, cleaned = outliers_iqr(data, 'school_distance_min')\n",
    "print(f'Число выбросов по методу Тьюки: {outliers.shape[0]}')\n",
    "print(f'Результирующее число записей: {cleaned.shape[0]}')"
   ]
  },
  {
   "cell_type": "code",
   "execution_count": 12,
   "metadata": {},
   "outputs": [
    {
     "data": {
      "image/png": "[encoded data removed]",
      "text/plain": [
       "<Figure size 864x360 with 2 Axes>"
      ]
     },
     "metadata": {
      "needs_background": "light"
     },
     "output_type": "display_data"
    }
   ],
   "source": [
    "# проверяем распределение данных по целевой переменной\n",
    "fig, axes = plt.subplots(nrows=1, ncols = 2, figsize=(12,5))\n",
    "histplot = sns.histplot(data = data, x = 'school_distance_min', ax=axes[0])\n",
    "histplot.set_title('lot_size distribution')\n",
    "boxplot = sns.boxplot( data = data, x = 'school_distance_min', ax = axes[1])\n",
    "boxplot.set_title('lot_size boxplot');"
   ]
  }
 ],
 "metadata": {
  "kernelspec": {
   "display_name": "Python 3",
   "language": "python",
   "name": "python3"
  },
  "language_info": {
   "codemirror_mode": {
    "name": "ipython",
    "version": 3
   },
   "file_extension": ".py",
   "mimetype": "text/x-python",
   "name": "python",
   "nbconvert_exporter": "python",
   "pygments_lexer": "ipython3",
   "version": "3.10.4"
  }
 },
 "nbformat": 4,
 "nbformat_minor": 2
}
