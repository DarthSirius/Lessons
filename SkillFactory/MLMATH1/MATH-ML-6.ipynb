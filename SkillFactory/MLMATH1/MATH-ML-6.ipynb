{
 "cells": [
  {
   "attachments": {},
   "cell_type": "markdown",
   "metadata": {},
   "source": [
    "MATH&ML-6. Математический анализ в контексте задачи оптимизации. Часть III"
   ]
  },
  {
   "cell_type": "code",
   "execution_count": 77,
   "metadata": {},
   "outputs": [],
   "source": [
    "import numpy as np\n",
    "import pandas as pd\n",
    "from sympy import init_printing, solve, symbols"
   ]
  },
  {
   "cell_type": "code",
   "execution_count": 78,
   "metadata": {},
   "outputs": [
    {
     "data": {
      "text/plain": [
       "[0, 1/2, 4]"
      ]
     },
     "execution_count": 78,
     "metadata": {},
     "output_type": "execute_result"
    }
   ],
   "source": [
    "import sympy\n",
    "x = sympy.Symbol(\"x\")\n",
    "f = - x**4 + 6*x**3 - 4*x**2 + 80\n",
    "y = f.diff(x)\n",
    "sols = solve(y, x)\n",
    "sols"
   ]
  },
  {
   "cell_type": "code",
   "execution_count": 79,
   "metadata": {},
   "outputs": [
    {
     "data": {
      "text/latex": [
       "$\\displaystyle 144$"
      ],
      "text/plain": [
       "144"
      ]
     },
     "execution_count": 79,
     "metadata": {},
     "output_type": "execute_result"
    }
   ],
   "source": [
    "f.subs(x, 4)"
   ]
  },
  {
   "attachments": {},
   "cell_type": "markdown",
   "metadata": {},
   "source": [
    "Задание 1.4\n",
    "\n",
    "\n",
    "Допустим, вы хотите произвести некоторое количество товара, которое зависит от часов работы двух ключевых сотрудников следующим образом:\n",
    "\n",
    "Однако вы можете оплатить этим сотрудникам не более 20 часов работы.\n",
    "\n",
    "Какое наибольшее количество товаров вы сможете произвести в таком случае?"
   ]
  },
  {
   "cell_type": "code",
   "execution_count": 109,
   "metadata": {},
   "outputs": [
    {
     "name": "stdout",
     "output_type": "stream",
     "text": [
      "Целевая функция для аргументов a и b :\n",
      " f =  a**2 + 2*b**2\n",
      "Функция ограничений:  a + b - 20 = 0\n",
      "Функция Лагранжа :\n",
      "  a**2 + 2*b**2 + w*(a + b - 20)\n",
      "df/da = 2*a + w = 0\n",
      "df/db = 4*b + w = 0\n",
      "df/dw = a + b - 20 = 0\n",
      "Стационарная точка M(x,y):\n",
      " 13.333333333333334 , 6.666666666666667\n"
     ]
    }
   ],
   "source": [
    "a,b,w=symbols(' a b w' )\n",
    "g = a**2 + 2*b**2\n",
    "print('Целевая функция для аргументов a и b :\\n f = ', g)\n",
    "q = a + b - 20\n",
    "print('Функция ограничений: ', q,'= 0')\n",
    "f = g + w*q\n",
    "print('Функция Лагранжа :\\n ',f)\n",
    "fa = f.diff(a)\n",
    "print('df/da =',fa,'= 0')\n",
    "fb = f.diff(b)\n",
    "print('df/db =',fb,'= 0')\n",
    "fw = f.diff(w)\n",
    "print('df/dw =',fw,'= 0')\n",
    "sols = solve([fa,fb,fw],a,b,w)\n",
    "print('Стационарная точка M(x,y):\\n',float(sols[a]),',',float(sols[b]))"
   ]
  },
  {
   "cell_type": "code",
   "execution_count": 81,
   "metadata": {},
   "outputs": [
    {
     "data": {
      "text/latex": [
       "$\\displaystyle 267$"
      ],
      "text/plain": [
       "267"
      ]
     },
     "execution_count": 81,
     "metadata": {},
     "output_type": "execute_result"
    }
   ],
   "source": [
    "g.subs(a, 13).subs(b,7)"
   ]
  },
  {
   "attachments": {},
   "cell_type": "markdown",
   "metadata": {},
   "source": [
    " Задание 2.7\n",
    "\n",
    "\n",
    "Давайте потренируемся применять стохастический градиентный спуск для решения задачи линейной регрессии. Мы уже рассмотрели его реализацию «с нуля», однако для решения практических задач можно использовать готовые библиотеки."
   ]
  },
  {
   "cell_type": "code",
   "execution_count": 82,
   "metadata": {},
   "outputs": [],
   "source": [
    "# импортируем библиотеку и задаем сетку гиперпараметров\n",
    "from sklearn import linear_model #линейные моделиё\n",
    "from sklearn.model_selection import GridSearchCV\n",
    "from sklearn.model_selection import train_test_split #сплитование выборки\n",
    "from sklearn import metrics"
   ]
  },
  {
   "cell_type": "code",
   "execution_count": 83,
   "metadata": {},
   "outputs": [],
   "source": [
    "import seaborn as sns\n",
    "df = sns.load_dataset('diamonds')\n",
    "df.drop(['depth', 'table', 'x', 'y', 'z'], axis=1, inplace=True)\n",
    "df = pd.get_dummies(df, drop_first=True)\n",
    "df['carat'] = np.log(1+df['carat'])\n",
    "df['price'] = np.log(1+df['price'])\n",
    "X = df.drop(columns=\"price\")\n",
    "y = df[\"price\"]"
   ]
  },
  {
   "cell_type": "code",
   "execution_count": 84,
   "metadata": {},
   "outputs": [],
   "source": [
    "# разбиваем датасет на тренировочную и тестовую выборки\n",
    "X_train, X_test, y_train, y_test = train_test_split(X, y, random_state = 42, test_size = 0.33)"
   ]
  },
  {
   "cell_type": "code",
   "execution_count": 85,
   "metadata": {},
   "outputs": [],
   "source": [
    "# задаем сетку гиперпараметров\n",
    "param_grid_lr = [\n",
    "                {\"loss\": [\"squared_error\", \"epsilon_insensitive\"],\n",
    "                \"penalty\": [\"elasticnet\"],\n",
    "                \"alpha\": np.logspace(-3, 3, 15),\n",
    "                \"l1_ratio\": np.linspace(0, 1, 11),\n",
    "                \"max_iter\": np.logspace(0, 3, 10).astype(int),\n",
    "                \"random_state\": [42],\n",
    "                \"learning_rate\": [\"constant\"],\n",
    "                \"eta0\": np.logspace(-4, -1, 4)}, # уровень силы регурялизации\n",
    "]"
   ]
  },
  {
   "cell_type": "code",
   "execution_count": 86,
   "metadata": {},
   "outputs": [
    {
     "ename": "KeyboardInterrupt",
     "evalue": "",
     "output_type": "error",
     "traceback": [
      "\u001b[1;31m---------------------------------------------------------------------------\u001b[0m",
      "\u001b[1;31mKeyboardInterrupt\u001b[0m                         Traceback (most recent call last)",
      "File \u001b[1;32m<timed eval>:1\u001b[0m, in \u001b[0;36m<module>\u001b[1;34m\u001b[0m\n",
      "File \u001b[1;32md:\\Python\\Python310\\lib\\site-packages\\sklearn\\model_selection\\_search.py:875\u001b[0m, in \u001b[0;36mBaseSearchCV.fit\u001b[1;34m(self, X, y, groups, **fit_params)\u001b[0m\n\u001b[0;32m    869\u001b[0m     results \u001b[39m=\u001b[39m \u001b[39mself\u001b[39m\u001b[39m.\u001b[39m_format_results(\n\u001b[0;32m    870\u001b[0m         all_candidate_params, n_splits, all_out, all_more_results\n\u001b[0;32m    871\u001b[0m     )\n\u001b[0;32m    873\u001b[0m     \u001b[39mreturn\u001b[39;00m results\n\u001b[1;32m--> 875\u001b[0m \u001b[39mself\u001b[39;49m\u001b[39m.\u001b[39;49m_run_search(evaluate_candidates)\n\u001b[0;32m    877\u001b[0m \u001b[39m# multimetric is determined here because in the case of a callable\u001b[39;00m\n\u001b[0;32m    878\u001b[0m \u001b[39m# self.scoring the return type is only known after calling\u001b[39;00m\n\u001b[0;32m    879\u001b[0m first_test_score \u001b[39m=\u001b[39m all_out[\u001b[39m0\u001b[39m][\u001b[39m\"\u001b[39m\u001b[39mtest_scores\u001b[39m\u001b[39m\"\u001b[39m]\n",
      "File \u001b[1;32md:\\Python\\Python310\\lib\\site-packages\\sklearn\\model_selection\\_search.py:1379\u001b[0m, in \u001b[0;36mGridSearchCV._run_search\u001b[1;34m(self, evaluate_candidates)\u001b[0m\n\u001b[0;32m   1377\u001b[0m \u001b[39mdef\u001b[39;00m \u001b[39m_run_search\u001b[39m(\u001b[39mself\u001b[39m, evaluate_candidates):\n\u001b[0;32m   1378\u001b[0m     \u001b[39m\"\"\"Search all candidates in param_grid\"\"\"\u001b[39;00m\n\u001b[1;32m-> 1379\u001b[0m     evaluate_candidates(ParameterGrid(\u001b[39mself\u001b[39;49m\u001b[39m.\u001b[39;49mparam_grid))\n",
      "File \u001b[1;32md:\\Python\\Python310\\lib\\site-packages\\sklearn\\model_selection\\_search.py:822\u001b[0m, in \u001b[0;36mBaseSearchCV.fit.<locals>.evaluate_candidates\u001b[1;34m(candidate_params, cv, more_results)\u001b[0m\n\u001b[0;32m    814\u001b[0m \u001b[39mif\u001b[39;00m \u001b[39mself\u001b[39m\u001b[39m.\u001b[39mverbose \u001b[39m>\u001b[39m \u001b[39m0\u001b[39m:\n\u001b[0;32m    815\u001b[0m     \u001b[39mprint\u001b[39m(\n\u001b[0;32m    816\u001b[0m         \u001b[39m\"\u001b[39m\u001b[39mFitting \u001b[39m\u001b[39m{0}\u001b[39;00m\u001b[39m folds for each of \u001b[39m\u001b[39m{1}\u001b[39;00m\u001b[39m candidates,\u001b[39m\u001b[39m\"\u001b[39m\n\u001b[0;32m    817\u001b[0m         \u001b[39m\"\u001b[39m\u001b[39m totalling \u001b[39m\u001b[39m{2}\u001b[39;00m\u001b[39m fits\u001b[39m\u001b[39m\"\u001b[39m\u001b[39m.\u001b[39mformat(\n\u001b[0;32m    818\u001b[0m             n_splits, n_candidates, n_candidates \u001b[39m*\u001b[39m n_splits\n\u001b[0;32m    819\u001b[0m         )\n\u001b[0;32m    820\u001b[0m     )\n\u001b[1;32m--> 822\u001b[0m out \u001b[39m=\u001b[39m parallel(\n\u001b[0;32m    823\u001b[0m     delayed(_fit_and_score)(\n\u001b[0;32m    824\u001b[0m         clone(base_estimator),\n\u001b[0;32m    825\u001b[0m         X,\n\u001b[0;32m    826\u001b[0m         y,\n\u001b[0;32m    827\u001b[0m         train\u001b[39m=\u001b[39;49mtrain,\n\u001b[0;32m    828\u001b[0m         test\u001b[39m=\u001b[39;49mtest,\n\u001b[0;32m    829\u001b[0m         parameters\u001b[39m=\u001b[39;49mparameters,\n\u001b[0;32m    830\u001b[0m         split_progress\u001b[39m=\u001b[39;49m(split_idx, n_splits),\n\u001b[0;32m    831\u001b[0m         candidate_progress\u001b[39m=\u001b[39;49m(cand_idx, n_candidates),\n\u001b[0;32m    832\u001b[0m         \u001b[39m*\u001b[39;49m\u001b[39m*\u001b[39;49mfit_and_score_kwargs,\n\u001b[0;32m    833\u001b[0m     )\n\u001b[0;32m    834\u001b[0m     \u001b[39mfor\u001b[39;49;00m (cand_idx, parameters), (split_idx, (train, test)) \u001b[39min\u001b[39;49;00m product(\n\u001b[0;32m    835\u001b[0m         \u001b[39menumerate\u001b[39;49m(candidate_params), \u001b[39menumerate\u001b[39;49m(cv\u001b[39m.\u001b[39;49msplit(X, y, groups))\n\u001b[0;32m    836\u001b[0m     )\n\u001b[0;32m    837\u001b[0m )\n\u001b[0;32m    839\u001b[0m \u001b[39mif\u001b[39;00m \u001b[39mlen\u001b[39m(out) \u001b[39m<\u001b[39m \u001b[39m1\u001b[39m:\n\u001b[0;32m    840\u001b[0m     \u001b[39mraise\u001b[39;00m \u001b[39mValueError\u001b[39;00m(\n\u001b[0;32m    841\u001b[0m         \u001b[39m\"\u001b[39m\u001b[39mNo fits were performed. \u001b[39m\u001b[39m\"\u001b[39m\n\u001b[0;32m    842\u001b[0m         \u001b[39m\"\u001b[39m\u001b[39mWas the CV iterator empty? \u001b[39m\u001b[39m\"\u001b[39m\n\u001b[0;32m    843\u001b[0m         \u001b[39m\"\u001b[39m\u001b[39mWere there no candidates?\u001b[39m\u001b[39m\"\u001b[39m\n\u001b[0;32m    844\u001b[0m     )\n",
      "File \u001b[1;32md:\\Python\\Python310\\lib\\site-packages\\joblib\\parallel.py:1098\u001b[0m, in \u001b[0;36mParallel.__call__\u001b[1;34m(self, iterable)\u001b[0m\n\u001b[0;32m   1095\u001b[0m     \u001b[39mself\u001b[39m\u001b[39m.\u001b[39m_iterating \u001b[39m=\u001b[39m \u001b[39mFalse\u001b[39;00m\n\u001b[0;32m   1097\u001b[0m \u001b[39mwith\u001b[39;00m \u001b[39mself\u001b[39m\u001b[39m.\u001b[39m_backend\u001b[39m.\u001b[39mretrieval_context():\n\u001b[1;32m-> 1098\u001b[0m     \u001b[39mself\u001b[39;49m\u001b[39m.\u001b[39;49mretrieve()\n\u001b[0;32m   1099\u001b[0m \u001b[39m# Make sure that we get a last message telling us we are done\u001b[39;00m\n\u001b[0;32m   1100\u001b[0m elapsed_time \u001b[39m=\u001b[39m time\u001b[39m.\u001b[39mtime() \u001b[39m-\u001b[39m \u001b[39mself\u001b[39m\u001b[39m.\u001b[39m_start_time\n",
      "File \u001b[1;32md:\\Python\\Python310\\lib\\site-packages\\joblib\\parallel.py:975\u001b[0m, in \u001b[0;36mParallel.retrieve\u001b[1;34m(self)\u001b[0m\n\u001b[0;32m    973\u001b[0m \u001b[39mtry\u001b[39;00m:\n\u001b[0;32m    974\u001b[0m     \u001b[39mif\u001b[39;00m \u001b[39mgetattr\u001b[39m(\u001b[39mself\u001b[39m\u001b[39m.\u001b[39m_backend, \u001b[39m'\u001b[39m\u001b[39msupports_timeout\u001b[39m\u001b[39m'\u001b[39m, \u001b[39mFalse\u001b[39;00m):\n\u001b[1;32m--> 975\u001b[0m         \u001b[39mself\u001b[39m\u001b[39m.\u001b[39m_output\u001b[39m.\u001b[39mextend(job\u001b[39m.\u001b[39;49mget(timeout\u001b[39m=\u001b[39;49m\u001b[39mself\u001b[39;49m\u001b[39m.\u001b[39;49mtimeout))\n\u001b[0;32m    976\u001b[0m     \u001b[39melse\u001b[39;00m:\n\u001b[0;32m    977\u001b[0m         \u001b[39mself\u001b[39m\u001b[39m.\u001b[39m_output\u001b[39m.\u001b[39mextend(job\u001b[39m.\u001b[39mget())\n",
      "File \u001b[1;32md:\\Python\\Python310\\lib\\site-packages\\joblib\\_parallel_backends.py:567\u001b[0m, in \u001b[0;36mLokyBackend.wrap_future_result\u001b[1;34m(future, timeout)\u001b[0m\n\u001b[0;32m    564\u001b[0m \u001b[39m\"\"\"Wrapper for Future.result to implement the same behaviour as\u001b[39;00m\n\u001b[0;32m    565\u001b[0m \u001b[39mAsyncResults.get from multiprocessing.\"\"\"\u001b[39;00m\n\u001b[0;32m    566\u001b[0m \u001b[39mtry\u001b[39;00m:\n\u001b[1;32m--> 567\u001b[0m     \u001b[39mreturn\u001b[39;00m future\u001b[39m.\u001b[39;49mresult(timeout\u001b[39m=\u001b[39;49mtimeout)\n\u001b[0;32m    568\u001b[0m \u001b[39mexcept\u001b[39;00m CfTimeoutError \u001b[39mas\u001b[39;00m e:\n\u001b[0;32m    569\u001b[0m     \u001b[39mraise\u001b[39;00m \u001b[39mTimeoutError\u001b[39;00m \u001b[39mfrom\u001b[39;00m \u001b[39me\u001b[39;00m\n",
      "File \u001b[1;32md:\\Python\\Python310\\lib\\concurrent\\futures\\_base.py:441\u001b[0m, in \u001b[0;36mFuture.result\u001b[1;34m(self, timeout)\u001b[0m\n\u001b[0;32m    438\u001b[0m \u001b[39melif\u001b[39;00m \u001b[39mself\u001b[39m\u001b[39m.\u001b[39m_state \u001b[39m==\u001b[39m FINISHED:\n\u001b[0;32m    439\u001b[0m     \u001b[39mreturn\u001b[39;00m \u001b[39mself\u001b[39m\u001b[39m.\u001b[39m__get_result()\n\u001b[1;32m--> 441\u001b[0m \u001b[39mself\u001b[39;49m\u001b[39m.\u001b[39;49m_condition\u001b[39m.\u001b[39;49mwait(timeout)\n\u001b[0;32m    443\u001b[0m \u001b[39mif\u001b[39;00m \u001b[39mself\u001b[39m\u001b[39m.\u001b[39m_state \u001b[39min\u001b[39;00m [CANCELLED, CANCELLED_AND_NOTIFIED]:\n\u001b[0;32m    444\u001b[0m     \u001b[39mraise\u001b[39;00m CancelledError()\n",
      "File \u001b[1;32md:\\Python\\Python310\\lib\\threading.py:320\u001b[0m, in \u001b[0;36mCondition.wait\u001b[1;34m(self, timeout)\u001b[0m\n\u001b[0;32m    318\u001b[0m \u001b[39mtry\u001b[39;00m:    \u001b[39m# restore state no matter what (e.g., KeyboardInterrupt)\u001b[39;00m\n\u001b[0;32m    319\u001b[0m     \u001b[39mif\u001b[39;00m timeout \u001b[39mis\u001b[39;00m \u001b[39mNone\u001b[39;00m:\n\u001b[1;32m--> 320\u001b[0m         waiter\u001b[39m.\u001b[39;49macquire()\n\u001b[0;32m    321\u001b[0m         gotit \u001b[39m=\u001b[39m \u001b[39mTrue\u001b[39;00m\n\u001b[0;32m    322\u001b[0m     \u001b[39melse\u001b[39;00m:\n",
      "\u001b[1;31mKeyboardInterrupt\u001b[0m: "
     ]
    },
    {
     "ename": "NotFittedError",
     "evalue": "This GridSearchCV instance is not fitted yet. Call 'fit' with appropriate arguments before using this estimator.",
     "output_type": "error",
     "traceback": [
      "\u001b[1;31m---------------------------------------------------------------------------\u001b[0m",
      "\u001b[1;31mNotFittedError\u001b[0m                            Traceback (most recent call last)",
      "\u001b[1;32mc:\\Users\\Ustenko-S\\Repo\\SkillFactory\\MLMATH1\\MATH-ML-6.ipynb Cell 13\u001b[0m in \u001b[0;36m<cell line: 11>\u001b[1;34m()\u001b[0m\n\u001b[0;32m      <a href='vscode-notebook-cell:/c%3A/Users/Ustenko-S/Repo/SkillFactory/MLMATH1/MATH-ML-6.ipynb#X15sZmlsZQ%3D%3D?line=8'>9</a>\u001b[0m get_ipython()\u001b[39m.\u001b[39mrun_line_magic(\u001b[39m'\u001b[39m\u001b[39mtime\u001b[39m\u001b[39m'\u001b[39m, \u001b[39m'\u001b[39m\u001b[39mgrid_search_lr.fit(X_train, y_train)\u001b[39m\u001b[39m'\u001b[39m)\n\u001b[0;32m     <a href='vscode-notebook-cell:/c%3A/Users/Ustenko-S/Repo/SkillFactory/MLMATH1/MATH-ML-6.ipynb#X15sZmlsZQ%3D%3D?line=9'>10</a>\u001b[0m \u001b[39m#Предсказываем результат и Выводим значения метрики и лучшие гиперпараметры\u001b[39;00m\n\u001b[1;32m---> <a href='vscode-notebook-cell:/c%3A/Users/Ustenko-S/Repo/SkillFactory/MLMATH1/MATH-ML-6.ipynb#X15sZmlsZQ%3D%3D?line=10'>11</a>\u001b[0m y_test_pred \u001b[39m=\u001b[39m grid_search_lr\u001b[39m.\u001b[39;49mpredict(X_test)\n\u001b[0;32m     <a href='vscode-notebook-cell:/c%3A/Users/Ustenko-S/Repo/SkillFactory/MLMATH1/MATH-ML-6.ipynb#X15sZmlsZQ%3D%3D?line=11'>12</a>\u001b[0m \u001b[39mprint\u001b[39m(\u001b[39m'\u001b[39m\u001b[39mmse_score на тестовом наборе: \u001b[39m\u001b[39m{:.2f}\u001b[39;00m\u001b[39m'\u001b[39m\u001b[39m.\u001b[39mformat(metrics\u001b[39m.\u001b[39mmean_squared_error(y_test, y_test_pred)))\n\u001b[0;32m     <a href='vscode-notebook-cell:/c%3A/Users/Ustenko-S/Repo/SkillFactory/MLMATH1/MATH-ML-6.ipynb#X15sZmlsZQ%3D%3D?line=12'>13</a>\u001b[0m \u001b[39mprint\u001b[39m(\u001b[39m\"\u001b[39m\u001b[39mНаилучшие значения гиперпараметров: \u001b[39m\u001b[39m{}\u001b[39;00m\u001b[39m\"\u001b[39m\u001b[39m.\u001b[39mformat(grid_search_lr\u001b[39m.\u001b[39mbest_params_))\n",
      "File \u001b[1;32md:\\Python\\Python310\\lib\\site-packages\\sklearn\\model_selection\\_search.py:499\u001b[0m, in \u001b[0;36mBaseSearchCV.predict\u001b[1;34m(self, X)\u001b[0m\n\u001b[0;32m    480\u001b[0m \u001b[39m@available_if\u001b[39m(_estimator_has(\u001b[39m\"\u001b[39m\u001b[39mpredict\u001b[39m\u001b[39m\"\u001b[39m))\n\u001b[0;32m    481\u001b[0m \u001b[39mdef\u001b[39;00m \u001b[39mpredict\u001b[39m(\u001b[39mself\u001b[39m, X):\n\u001b[0;32m    482\u001b[0m     \u001b[39m\"\"\"Call predict on the estimator with the best found parameters.\u001b[39;00m\n\u001b[0;32m    483\u001b[0m \n\u001b[0;32m    484\u001b[0m \u001b[39m    Only available if ``refit=True`` and the underlying estimator supports\u001b[39;00m\n\u001b[1;32m   (...)\u001b[0m\n\u001b[0;32m    497\u001b[0m \u001b[39m        the best found parameters.\u001b[39;00m\n\u001b[0;32m    498\u001b[0m \u001b[39m    \"\"\"\u001b[39;00m\n\u001b[1;32m--> 499\u001b[0m     check_is_fitted(\u001b[39mself\u001b[39;49m)\n\u001b[0;32m    500\u001b[0m     \u001b[39mreturn\u001b[39;00m \u001b[39mself\u001b[39m\u001b[39m.\u001b[39mbest_estimator_\u001b[39m.\u001b[39mpredict(X)\n",
      "File \u001b[1;32md:\\Python\\Python310\\lib\\site-packages\\sklearn\\utils\\validation.py:1345\u001b[0m, in \u001b[0;36mcheck_is_fitted\u001b[1;34m(estimator, attributes, msg, all_or_any)\u001b[0m\n\u001b[0;32m   1340\u001b[0m     fitted \u001b[39m=\u001b[39m [\n\u001b[0;32m   1341\u001b[0m         v \u001b[39mfor\u001b[39;00m v \u001b[39min\u001b[39;00m \u001b[39mvars\u001b[39m(estimator) \u001b[39mif\u001b[39;00m v\u001b[39m.\u001b[39mendswith(\u001b[39m\"\u001b[39m\u001b[39m_\u001b[39m\u001b[39m\"\u001b[39m) \u001b[39mand\u001b[39;00m \u001b[39mnot\u001b[39;00m v\u001b[39m.\u001b[39mstartswith(\u001b[39m\"\u001b[39m\u001b[39m__\u001b[39m\u001b[39m\"\u001b[39m)\n\u001b[0;32m   1342\u001b[0m     ]\n\u001b[0;32m   1344\u001b[0m \u001b[39mif\u001b[39;00m \u001b[39mnot\u001b[39;00m fitted:\n\u001b[1;32m-> 1345\u001b[0m     \u001b[39mraise\u001b[39;00m NotFittedError(msg \u001b[39m%\u001b[39m {\u001b[39m\"\u001b[39m\u001b[39mname\u001b[39m\u001b[39m\"\u001b[39m: \u001b[39mtype\u001b[39m(estimator)\u001b[39m.\u001b[39m\u001b[39m__name__\u001b[39m})\n",
      "\u001b[1;31mNotFittedError\u001b[0m: This GridSearchCV instance is not fitted yet. Call 'fit' with appropriate arguments before using this estimator."
     ]
    }
   ],
   "source": [
    "# создаем объект класса\n",
    "grid_search_lr = GridSearchCV(\n",
    "    estimator=linear_model.SGDRegressor(random_state=42), \n",
    "    param_grid=param_grid_lr,\n",
    "    cv=5,\n",
    "    n_jobs = -1\n",
    ")\n",
    "#Обучаем модель\n",
    "%time grid_search_lr.fit(X_train, y_train)\n",
    "#Предсказываем результат и Выводим значения метрики и лучшие гиперпараметры\n",
    "y_test_pred = grid_search_lr.predict(X_test)\n",
    "print('mse_score на тестовом наборе: {:.2f}'.format(metrics.mean_squared_error(y_test, y_test_pred)))\n",
    "print(\"Наилучшие значения гиперпараметров: {}\".format(grid_search_lr.best_params_))"
   ]
  },
  {
   "cell_type": "code",
   "execution_count": null,
   "metadata": {},
   "outputs": [
    {
     "name": "stdout",
     "output_type": "stream",
     "text": [
      "mse_score на тестовом наборе: 0.043\n"
     ]
    }
   ],
   "source": [
    "print('mse_score на тестовом наборе: {:.3f}'.format(metrics.mean_squared_error(y_test, y_test_pred)))"
   ]
  },
  {
   "attachments": {},
   "cell_type": "markdown",
   "metadata": {},
   "source": [
    " Задание 3.1\n",
    "\n",
    "\n",
    "Найдите третий корень полинома\n",
    ", взяв за точку старта 0.7. Введите получившееся значение с точностью до трёх знаков после точки-разделителя."
   ]
  },
  {
   "cell_type": "code",
   "execution_count": 87,
   "metadata": {},
   "outputs": [],
   "source": [
    "def f(x):\n",
    "    return 6*x**5 - 5*x**4 - 4*x**3 + 3*x**2\n",
    "def grad(x):\n",
    "    dx = 30*x**4 - 20*x**3 - 12*x**2 + 6*x\n",
    "    return (dx)"
   ]
  },
  {
   "cell_type": "code",
   "execution_count": 88,
   "metadata": {},
   "outputs": [
    {
     "name": "stdout",
     "output_type": "stream",
     "text": [
      "iter=1; x=(0.60592); f(x)=0.02767; grad f(x)=(-1.17555)\n",
      "iter=2; x=(0.63359); f(x)=-0.00621; grad f(x)=(-1.26808)\n",
      "iter=3; x=(0.62738); f(x)=0.00161; grad f(x)=(-1.25004)\n",
      "iter=4; x=(0.62899); f(x)=-0.00041; grad f(x)=(-1.25487)\n",
      "iter=5; x=(0.62858); f(x)=0.00010; grad f(x)=(-1.25366)\n",
      "iter=6; x=(0.62869); f(x)=-0.00003; grad f(x)=(-1.25397)\n",
      "iter=7; x=(0.62866); f(x)=0.00001; grad f(x)=(-1.25389)\n",
      "iter=8; x=(0.62867); f(x)=-0.00000; grad f(x)=(-1.25391)\n",
      "iter=9; x=(0.62867); f(x)=0.00000; grad f(x)=(-1.25391)\n",
      "iter=10; x=(0.62867); f(x)=-0.00000; grad f(x)=(-1.25391)\n",
      "iter=11; x=(0.62867); f(x)=0.00000; grad f(x)=(-1.25391)\n"
     ]
    }
   ],
   "source": [
    "x0 = (0.7) # точка старта\n",
    "gamma = - 1\n",
    "x_cur = x0\n",
    "\n",
    "vals = []\n",
    "coords = []\n",
    "i = 0\n",
    "while True:\n",
    "    x_new = (x_cur - gamma * f(x_cur))\n",
    "    if i > 10:\n",
    "        break\n",
    "    x_cur = x_new\n",
    "    vals.append(f(x_cur))\n",
    "    coords.append(x_cur)\n",
    "    i += 1\n",
    "    print(f\"iter={i}; x=({x_cur:.5f});\"\n",
    "          f\" f(x)={f(x_cur):.5f}; grad f(x)=({grad(x_cur):.5f})\")"
   ]
  },
  {
   "cell_type": "code",
   "execution_count": 89,
   "metadata": {},
   "outputs": [
    {
     "data": {
      "text/latex": [
       "$\\displaystyle -3.78835545711276 \\cdot 10^{-6}$"
      ],
      "text/plain": [
       "-3.78835545711276e-6"
      ]
     },
     "execution_count": 89,
     "metadata": {},
     "output_type": "execute_result"
    }
   ],
   "source": [
    "f1 = 6*x**5 - 5*x**4 - 4*x**3 + 3*x**2\n",
    "f1.subs(x, 0.62867)"
   ]
  },
  {
   "attachments": {},
   "cell_type": "markdown",
   "metadata": {},
   "source": [
    "3. Метод Ньютона"
   ]
  },
  {
   "cell_type": "code",
   "execution_count": 90,
   "metadata": {},
   "outputs": [],
   "source": [
    "def func1(x):\n",
    "    return 3*x**2 - 6*x -45\n",
    "def func2(x):\n",
    "    return 6*x - 6"
   ]
  },
  {
   "attachments": {},
   "cell_type": "markdown",
   "metadata": {},
   "source": [
    " Задание 3.6\n",
    "\n",
    "Дана функция\n",
    ". Найдите решение уравнения для поиска корня в окрестностях точки . Ответ округлите до трёх знаков после точки-разделителя."
   ]
  },
  {
   "cell_type": "code",
   "execution_count": 91,
   "metadata": {},
   "outputs": [],
   "source": [
    "import sympy"
   ]
  },
  {
   "cell_type": "code",
   "execution_count": 92,
   "metadata": {},
   "outputs": [],
   "source": [
    "def f(x):\n",
    "    return x**3 - 72*x - 220"
   ]
  },
  {
   "cell_type": "code",
   "execution_count": 93,
   "metadata": {},
   "outputs": [
    {
     "name": "stdout",
     "output_type": "stream",
     "text": [
      "iter=1; x=(11.356); f(x)=426.823)\n",
      "iter=2; x=(10.929); f(x)=298.556)\n",
      "iter=3; x=(10.631); f(x)=215.963)\n",
      "iter=4; x=(10.415); f(x)=159.772)\n",
      "iter=5; x=(10.255); f(x)=120.080)\n",
      "iter=6; x=(10.135); f(x)=91.284)\n",
      "iter=7; x=(10.044); f(x)=69.980)\n",
      "iter=8; x=(9.974); f(x)=53.989)\n",
      "iter=9; x=(9.920); f(x)=41.852)\n",
      "iter=10; x=(9.878); f(x)=32.563)\n",
      "iter=11; x=(9.845); f(x)=25.407)\n",
      "iter=12; x=(9.820); f(x)=19.868)\n",
      "iter=13; x=(9.800); f(x)=15.563)\n",
      "iter=14; x=(9.784); f(x)=12.206)\n",
      "iter=15; x=(9.772); f(x)=9.584)\n",
      "iter=16; x=(9.763); f(x)=7.531)\n",
      "iter=17; x=(9.755); f(x)=5.922)\n",
      "iter=18; x=(9.749); f(x)=4.659)\n",
      "iter=19; x=(9.744); f(x)=3.666)\n",
      "iter=20; x=(9.741); f(x)=2.886)\n",
      "iter=21; x=(9.738); f(x)=2.273)\n",
      "iter=22; x=(9.736); f(x)=1.790)\n",
      "iter=23; x=(9.734); f(x)=1.410)\n",
      "iter=24; x=(9.732); f(x)=1.111)\n",
      "iter=25; x=(9.731); f(x)=0.875)\n",
      "iter=26; x=(9.730); f(x)=0.690)\n",
      "iter=27; x=(9.730); f(x)=0.543)\n",
      "iter=28; x=(9.729); f(x)=0.428)\n",
      "iter=29; x=(9.729); f(x)=0.337)\n",
      "iter=30; x=(9.728); f(x)=0.266)\n",
      "iter=31; x=(9.728); f(x)=0.210)\n",
      "iter=32; x=(9.728); f(x)=0.165)\n",
      "iter=33; x=(9.728); f(x)=0.130)\n",
      "iter=34; x=(9.728); f(x)=0.103)\n",
      "iter=35; x=(9.728); f(x)=0.081)\n",
      "iter=36; x=(9.727); f(x)=0.064)\n",
      "iter=37; x=(9.727); f(x)=0.050)\n",
      "iter=38; x=(9.727); f(x)=0.040)\n",
      "iter=39; x=(9.727); f(x)=0.031)\n",
      "iter=40; x=(9.727); f(x)=0.025)\n",
      "iter=41; x=(9.727); f(x)=0.019)\n",
      "iter=42; x=(9.727); f(x)=0.015)\n",
      "iter=43; x=(9.727); f(x)=0.012)\n",
      "iter=44; x=(9.727); f(x)=0.009)\n",
      "iter=45; x=(9.727); f(x)=0.007)\n",
      "iter=46; x=(9.727); f(x)=0.006)\n",
      "iter=47; x=(9.727); f(x)=0.005)\n",
      "iter=48; x=(9.727); f(x)=0.004)\n",
      "iter=49; x=(9.727); f(x)=0.003)\n",
      "iter=50; x=(9.727); f(x)=0.002)\n",
      "iter=51; x=(9.727); f(x)=0.002)\n",
      "iter=52; x=(9.727); f(x)=0.001)\n",
      "iter=53; x=(9.727); f(x)=0.001)\n",
      "iter=54; x=(9.727); f(x)=0.001)\n",
      "iter=55; x=(9.727); f(x)=0.001)\n",
      "iter=56; x=(9.727); f(x)=0.001)\n",
      "iter=57; x=(9.727); f(x)=0.000)\n",
      "iter=58; x=(9.727); f(x)=0.000)\n",
      "iter=59; x=(9.727); f(x)=0.000)\n",
      "iter=60; x=(9.727); f(x)=0.000)\n",
      "iter=61; x=(9.727); f(x)=0.000)\n",
      "iter=62; x=(9.727); f(x)=0.000)\n",
      "iter=63; x=(9.727); f(x)=0.000)\n",
      "iter=64; x=(9.727); f(x)=0.000)\n",
      "iter=65; x=(9.727); f(x)=0.000)\n",
      "iter=66; x=(9.727); f(x)=0.000)\n",
      "iter=67; x=(9.727); f(x)=0.000)\n",
      "iter=68; x=(9.727); f(x)=0.000)\n",
      "iter=69; x=(9.727); f(x)=0.000)\n",
      "iter=70; x=(9.727); f(x)=0.000)\n",
      "iter=71; x=(9.727); f(x)=0.000)\n",
      "iter=72; x=(9.727); f(x)=0.000)\n",
      "iter=73; x=(9.727); f(x)=0.000)\n",
      "iter=74; x=(9.727); f(x)=0.000)\n",
      "iter=75; x=(9.727); f(x)=0.000)\n",
      "iter=76; x=(9.727); f(x)=0.000)\n",
      "iter=77; x=(9.727); f(x)=0.000)\n",
      "iter=78; x=(9.727); f(x)=0.000)\n",
      "iter=79; x=(9.727); f(x)=0.000)\n",
      "iter=80; x=(9.727); f(x)=0.000)\n",
      "iter=81; x=(9.727); f(x)=0.000)\n",
      "iter=82; x=(9.727); f(x)=0.000)\n",
      "iter=83; x=(9.727); f(x)=0.000)\n",
      "iter=84; x=(9.727); f(x)=0.000)\n",
      "iter=85; x=(9.727); f(x)=0.000)\n",
      "iter=86; x=(9.727); f(x)=0.000)\n",
      "iter=87; x=(9.727); f(x)=0.000)\n",
      "iter=88; x=(9.727); f(x)=0.000)\n",
      "iter=89; x=(9.727); f(x)=0.000)\n",
      "iter=90; x=(9.727); f(x)=0.000)\n",
      "iter=91; x=(9.727); f(x)=0.000)\n",
      "iter=92; x=(9.727); f(x)=0.000)\n",
      "iter=93; x=(9.727); f(x)=0.000)\n",
      "iter=94; x=(9.727); f(x)=0.000)\n",
      "iter=95; x=(9.727); f(x)=0.000)\n",
      "iter=96; x=(9.727); f(x)=0.000)\n",
      "iter=97; x=(9.727); f(x)=0.000)\n",
      "iter=98; x=(9.727); f(x)=0.000)\n",
      "iter=99; x=(9.727); f(x)=0.000)\n",
      "iter=100; x=(9.727); f(x)=0.000)\n",
      "iter=101; x=(9.727); f(x)=0.000)\n"
     ]
    }
   ],
   "source": [
    "x = sympy.Symbol(\"x\")\n",
    "\n",
    "x0 = (12) # точка старта\n",
    "gamma = 0.001\n",
    "x_cur = x0\n",
    "\n",
    "vals = []\n",
    "coords = []\n",
    "i = 0\n",
    "while True:\n",
    "    x_new = (x_cur - gamma * f(x_cur))\n",
    "    if i > 100:\n",
    "        break\n",
    "    x_cur = x_new\n",
    "    vals.append(f(x_cur))\n",
    "    coords.append(x_cur)\n",
    "    i += 1\n",
    "    print(f\"iter={i}; x=({x_cur:.3f});\"\n",
    "          f\" f(x)={f(x_cur):.3f})\")"
   ]
  },
  {
   "attachments": {},
   "cell_type": "markdown",
   "metadata": {},
   "source": [
    " Задание 3.7\n",
    "\n",
    "\n",
    "Найдите положительный корень для уравнения"
   ]
  },
  {
   "cell_type": "code",
   "execution_count": 94,
   "metadata": {},
   "outputs": [],
   "source": [
    "def f(x):\n",
    "    return x**2 + 9*x - 5"
   ]
  },
  {
   "cell_type": "code",
   "execution_count": 95,
   "metadata": {},
   "outputs": [
    {
     "name": "stdout",
     "output_type": "stream",
     "text": [
      "iter=1; x=(2.00); f(x)=17.05)\n",
      "iter=2; x=(1.83); f(x)=14.86)\n",
      "iter=3; x=(1.68); f(x)=13.00)\n",
      "iter=4; x=(1.55); f(x)=11.41)\n",
      "iter=5; x=(1.44); f(x)=10.04)\n",
      "iter=6; x=(1.34); f(x)=8.86)\n",
      "iter=7; x=(1.25); f(x)=7.83)\n",
      "iter=8; x=(1.17); f(x)=6.94)\n",
      "iter=9; x=(1.10); f(x)=6.15)\n",
      "iter=10; x=(1.04); f(x)=5.47)\n",
      "iter=11; x=(0.99); f(x)=4.86)\n",
      "iter=12; x=(0.94); f(x)=4.33)\n",
      "iter=13; x=(0.90); f(x)=3.86)\n",
      "iter=14; x=(0.86); f(x)=3.45)\n",
      "iter=15; x=(0.82); f(x)=3.08)\n",
      "iter=16; x=(0.79); f(x)=2.75)\n",
      "iter=17; x=(0.76); f(x)=2.46)\n",
      "iter=18; x=(0.74); f(x)=2.20)\n",
      "iter=19; x=(0.72); f(x)=1.97)\n",
      "iter=20; x=(0.70); f(x)=1.77)\n",
      "iter=21; x=(0.68); f(x)=1.58)\n",
      "iter=22; x=(0.66); f(x)=1.42)\n",
      "iter=23; x=(0.65); f(x)=1.27)\n",
      "iter=24; x=(0.64); f(x)=1.14)\n",
      "iter=25; x=(0.63); f(x)=1.03)\n",
      "iter=26; x=(0.62); f(x)=0.92)\n",
      "iter=27; x=(0.61); f(x)=0.83)\n",
      "iter=28; x=(0.60); f(x)=0.74)\n",
      "iter=29; x=(0.59); f(x)=0.67)\n",
      "iter=30; x=(0.58); f(x)=0.60)\n",
      "iter=31; x=(0.58); f(x)=0.54)\n",
      "iter=32; x=(0.57); f(x)=0.48)\n",
      "iter=33; x=(0.57); f(x)=0.43)\n",
      "iter=34; x=(0.56); f(x)=0.39)\n",
      "iter=35; x=(0.56); f(x)=0.35)\n",
      "iter=36; x=(0.56); f(x)=0.32)\n",
      "iter=37; x=(0.55); f(x)=0.28)\n",
      "iter=38; x=(0.55); f(x)=0.25)\n",
      "iter=39; x=(0.55); f(x)=0.23)\n",
      "iter=40; x=(0.55); f(x)=0.21)\n",
      "iter=41; x=(0.54); f(x)=0.19)\n",
      "iter=42; x=(0.54); f(x)=0.17)\n",
      "iter=43; x=(0.54); f(x)=0.15)\n",
      "iter=44; x=(0.54); f(x)=0.13)\n",
      "iter=45; x=(0.54); f(x)=0.12)\n",
      "iter=46; x=(0.54); f(x)=0.11)\n",
      "iter=47; x=(0.53); f(x)=0.10)\n",
      "iter=48; x=(0.53); f(x)=0.09)\n",
      "iter=49; x=(0.53); f(x)=0.08)\n",
      "iter=50; x=(0.53); f(x)=0.07)\n",
      "iter=51; x=(0.53); f(x)=0.06)\n",
      "iter=52; x=(0.53); f(x)=0.06)\n",
      "iter=53; x=(0.53); f(x)=0.05)\n",
      "iter=54; x=(0.53); f(x)=0.05)\n",
      "iter=55; x=(0.53); f(x)=0.04)\n",
      "iter=56; x=(0.53); f(x)=0.04)\n",
      "iter=57; x=(0.53); f(x)=0.03)\n",
      "iter=58; x=(0.53); f(x)=0.03)\n",
      "iter=59; x=(0.53); f(x)=0.03)\n",
      "iter=60; x=(0.53); f(x)=0.02)\n",
      "iter=61; x=(0.53); f(x)=0.02)\n",
      "iter=62; x=(0.53); f(x)=0.02)\n",
      "iter=63; x=(0.53); f(x)=0.02)\n",
      "iter=64; x=(0.53); f(x)=0.02)\n",
      "iter=65; x=(0.53); f(x)=0.01)\n",
      "iter=66; x=(0.53); f(x)=0.01)\n",
      "iter=67; x=(0.53); f(x)=0.01)\n",
      "iter=68; x=(0.53); f(x)=0.01)\n",
      "iter=69; x=(0.53); f(x)=0.01)\n",
      "iter=70; x=(0.53); f(x)=0.01)\n",
      "iter=71; x=(0.53); f(x)=0.01)\n",
      "iter=72; x=(0.53); f(x)=0.01)\n",
      "iter=73; x=(0.53); f(x)=0.01)\n",
      "iter=74; x=(0.53); f(x)=0.01)\n",
      "iter=75; x=(0.53); f(x)=0.01)\n",
      "iter=76; x=(0.53); f(x)=0.00)\n",
      "iter=77; x=(0.53); f(x)=0.00)\n",
      "iter=78; x=(0.53); f(x)=0.00)\n",
      "iter=79; x=(0.53); f(x)=0.00)\n",
      "iter=80; x=(0.53); f(x)=0.00)\n",
      "iter=81; x=(0.53); f(x)=0.00)\n",
      "iter=82; x=(0.53); f(x)=0.00)\n",
      "iter=83; x=(0.53); f(x)=0.00)\n",
      "iter=84; x=(0.53); f(x)=0.00)\n",
      "iter=85; x=(0.53); f(x)=0.00)\n",
      "iter=86; x=(0.53); f(x)=0.00)\n",
      "iter=87; x=(0.53); f(x)=0.00)\n",
      "iter=88; x=(0.53); f(x)=0.00)\n",
      "iter=89; x=(0.53); f(x)=0.00)\n",
      "iter=90; x=(0.53); f(x)=0.00)\n",
      "iter=91; x=(0.53); f(x)=0.00)\n",
      "iter=92; x=(0.53); f(x)=0.00)\n",
      "iter=93; x=(0.53); f(x)=0.00)\n",
      "iter=94; x=(0.53); f(x)=0.00)\n",
      "iter=95; x=(0.52); f(x)=0.00)\n",
      "iter=96; x=(0.52); f(x)=0.00)\n",
      "iter=97; x=(0.52); f(x)=0.00)\n",
      "iter=98; x=(0.52); f(x)=0.00)\n",
      "iter=99; x=(0.52); f(x)=0.00)\n",
      "iter=100; x=(0.52); f(x)=0.00)\n",
      "iter=101; x=(0.52); f(x)=0.00)\n"
     ]
    }
   ],
   "source": [
    "x = sympy.Symbol(\"x\")\n",
    "\n",
    "x0 = (2.2) # точка старта\n",
    "gamma = 0.01\n",
    "x_cur = x0\n",
    "\n",
    "vals = []\n",
    "coords = []\n",
    "i = 0\n",
    "while True:\n",
    "    x_new = (x_cur - gamma * f(x_cur))\n",
    "    if i > 100:\n",
    "        break\n",
    "    x_cur = x_new\n",
    "    vals.append(f(x_cur))\n",
    "    coords.append(x_cur)\n",
    "    i += 1\n",
    "    print(f\"iter={i}; x=({x_cur:.2f});\"\n",
    "          f\" f(x)={f(x_cur):.2f})\")"
   ]
  },
  {
   "attachments": {},
   "cell_type": "markdown",
   "metadata": {},
   "source": [
    " Задание 3.9\n",
    "1 point possible (graded)\n",
    "\n",
    "С помощью метода Ньютона найдите точку минимума для функции"
   ]
  },
  {
   "cell_type": "code",
   "execution_count": 96,
   "metadata": {},
   "outputs": [],
   "source": [
    "def func(x):\n",
    "    return 8*x**3 - 2*x**2 - 450\n",
    "def func1(x):\n",
    "    return 24*x**2 - 4*x\n",
    "def func2(x):\n",
    "    return 48*x - 4"
   ]
  },
  {
   "cell_type": "code",
   "execution_count": 97,
   "metadata": {},
   "outputs": [
    {
     "name": "stdout",
     "output_type": "stream",
     "text": [
      "21.042\n",
      "10.563\n",
      "5.323\n",
      "2.704\n",
      "1.395\n",
      "0.742\n",
      "0.418\n",
      "0.261\n",
      "0.192\n",
      "0.17\n",
      "0.167\n",
      "0.167\n",
      "0.167\n",
      "0.167\n",
      "Минимум  -450.019\n"
     ]
    }
   ],
   "source": [
    "initial_value = 42\n",
    "iter_count = 0\n",
    "x_curr = initial_value\n",
    "epsilon = 0.0001\n",
    "f = func1(x_curr)\n",
    "\n",
    "while (abs(f) > epsilon):\n",
    "    f = func1(x_curr)\n",
    "    f_prime = func2(x_curr)\n",
    "    x_curr = x_curr - (f)/(f_prime)\n",
    "    iter_count += 1\n",
    "    print(round(x_curr, 3))\n",
    "    \n",
    "print(round(x_curr, 3))\n",
    "print('Минимум ', round(func(x_curr),3))"
   ]
  },
  {
   "attachments": {},
   "cell_type": "markdown",
   "metadata": {},
   "source": [
    "# 4. Квазиньютоновские методы"
   ]
  },
  {
   "cell_type": "code",
   "execution_count": 98,
   "metadata": {},
   "outputs": [],
   "source": [
    "import numpy as np\n",
    "from scipy.optimize import minimize"
   ]
  },
  {
   "cell_type": "code",
   "execution_count": 99,
   "metadata": {},
   "outputs": [
    {
     "name": "stdout",
     "output_type": "stream",
     "text": [
      "Статус оптимизации CONVERGENCE: NORM_OF_PROJECTED_GRADIENT_<=_PGTOL\n",
      "Количество оценок: 3\n",
      "Решение: f([0. 0.]) = 0.00000\n"
     ]
    }
   ],
   "source": [
    "# определяем нашу функцию\n",
    "def func(x):\n",
    "    return x[0]**2.0 + x[1]**2.0\n",
    " \n",
    "#  определяем градиент функции\n",
    "def grad_func(x):\n",
    "    return np.array([x[0] * 2, x[1] * 2])\n",
    " \n",
    "# определяем начальную точку\n",
    "x_0 = [1, 1]\n",
    "# реализуем алгоритм L-BFGS-B\n",
    "result = minimize(func, x_0, method='L-BFGS-B', jac=grad_func)\n",
    "# получаем результат\n",
    "print('Статус оптимизации %s' % result['message'])\n",
    "print('Количество оценок: %d' % result['nfev'])\n",
    "solution = result['x']\n",
    "evaluation = func(solution)\n",
    "print('Решение: f(%s) = %.5f' % (solution, evaluation))"
   ]
  },
  {
   "attachments": {},
   "cell_type": "markdown",
   "metadata": {},
   "source": [
    " Задание 4.1\n",
    "2 points possible (graded)\n",
    "\n",
    "Найдите точку минимума для функции\n",
    "\n",
    ".\n",
    "\n",
    "В качестве стартовой возьмите точку\n",
    "\n",
    ".\n",
    "\n",
    "Значения координат округлите до целого числа."
   ]
  },
  {
   "cell_type": "code",
   "execution_count": 100,
   "metadata": {},
   "outputs": [
    {
     "name": "stdout",
     "output_type": "stream",
     "text": [
      "Статус оптимизации CONVERGENCE: NORM_OF_PROJECTED_GRADIENT_<=_PGTOL\n",
      "Количество оценок: 9\n",
      "Решение: f([-3.99999972  1.00000028]) = -1.00\n"
     ]
    }
   ],
   "source": [
    "# определяем нашу функцию\n",
    "def func(x):\n",
    "    return x[0]**2 - x[0]*x[1] + x[1]**2 + 9*x[0] - 6*x[1] + 20\n",
    " \n",
    "#  определяем градиент функции\n",
    "def grad_func(x):\n",
    "    return np.array([x[0] * 2 - x[1] + 9, x[1] * 2 - x[0] - 6])\n",
    " \n",
    "# определяем начальную точку\n",
    "x_0 = [-400, -400]\n",
    "# реализуем алгоритм L-BFGS-B\n",
    "result = minimize(func, x_0, method='L-BFGS-B', jac=grad_func)\n",
    "# получаем результат\n",
    "print('Статус оптимизации %s' % result['message'])\n",
    "print('Количество оценок: %d' % result['nfev'])\n",
    "solution = result['x']\n",
    "evaluation = func(solution)\n",
    "print('Решение: f(%s) = %.2f' % (solution, evaluation))"
   ]
  },
  {
   "attachments": {},
   "cell_type": "markdown",
   "metadata": {},
   "source": [
    " Задание 4.4\n",
    "\n",
    "Найдите минимум функции\n",
    "\n",
    "с помощью квазиньютоновского метода BFGS.\n",
    "\n",
    "В качестве стартовой точки возьмите .\n",
    "\n",
    "В качестве ответа введите минимальное значение функции в достигнутой точке."
   ]
  },
  {
   "cell_type": "code",
   "execution_count": 101,
   "metadata": {},
   "outputs": [
    {
     "name": "stdout",
     "output_type": "stream",
     "text": [
      "Статус оптимизации Optimization terminated successfully.\n",
      "Количество оценок: 5\n",
      "Решение: f([1.5]) = 42.75\n"
     ]
    }
   ],
   "source": [
    "# определяем нашу функцию\n",
    "def func(x):\n",
    "    return x**2 - 3*x + 45\n",
    " \n",
    "#  определяем градиент функции\n",
    "def grad_func(x):\n",
    "    return 2*x - 3\n",
    " \n",
    "# определяем начальную точку\n",
    "x_0 = 10\n",
    "# реализуем алгоритм L-BFGS-B\n",
    "result = minimize(func, x_0, method='BFGS', jac=grad_func)\n",
    "# получаем результат\n",
    "print('Статус оптимизации %s' % result['message'])\n",
    "print('Количество оценок: %d' % result['nfev'])\n",
    "solution = result['x']\n",
    "evaluation = func(solution)\n",
    "print('Решение: f(%s) = %.2f' % (solution, evaluation))"
   ]
  },
  {
   "attachments": {},
   "cell_type": "markdown",
   "metadata": {},
   "source": [
    " Задание 4.5\n",
    "2 points possible (graded)\n",
    "\n",
    "Решите предыдущую задачу, применяя модификацию L-BFGS-B.\n",
    "В каком случае получилось меньше итераций?"
   ]
  },
  {
   "cell_type": "code",
   "execution_count": 102,
   "metadata": {},
   "outputs": [
    {
     "name": "stdout",
     "output_type": "stream",
     "text": [
      "Статус оптимизации CONVERGENCE: NORM_OF_PROJECTED_GRADIENT_<=_PGTOL\n",
      "Количество оценок: 3\n",
      "Решение: f([1.5]) = 42.75\n"
     ]
    }
   ],
   "source": [
    "# определяем нашу функцию\n",
    "def func(x):\n",
    "    return x**2 - 3*x + 45\n",
    " \n",
    "#  определяем градиент функции\n",
    "def grad_func(x):\n",
    "    return 2*x - 3\n",
    " \n",
    "# определяем начальную точку\n",
    "x_0 = 10\n",
    "# реализуем алгоритм L-BFGS-B\n",
    "result = minimize(func, x_0, method='L-BFGS-B', jac=grad_func)\n",
    "# получаем результат\n",
    "print('Статус оптимизации %s' % result['message'])\n",
    "print('Количество оценок: %d' % result['nfev'])\n",
    "solution = result['x']\n",
    "evaluation = func(solution)\n",
    "print('Решение: f(%s) = %.2f' % (solution, evaluation))"
   ]
  },
  {
   "attachments": {},
   "cell_type": "markdown",
   "metadata": {},
   "source": [
    " Задание 4.7\n",
    "\n",
    "Найдите минимум функции\n",
    "\n",
    ", взяв за стартовую точку .\n",
    "Какой алгоритм сошелся быстрее?"
   ]
  },
  {
   "cell_type": "code",
   "execution_count": 103,
   "metadata": {},
   "outputs": [
    {
     "name": "stdout",
     "output_type": "stream",
     "text": [
      "Статус оптимизации CONVERGENCE: REL_REDUCTION_OF_F_<=_FACTR*EPSMCH\n",
      "Количество оценок: 40\n",
      "Решение: f([-9.52718297e-03 -2.32170510e-06]) = 10.00\n"
     ]
    }
   ],
   "source": [
    "# определяем нашу функцию\n",
    "def func(x):\n",
    "    return x[0]**4 + 6*x[1]**2 + 10\n",
    " \n",
    "#  определяем градиент функции\n",
    "def grad_func(x):\n",
    "    return np.array([4*x[0]**3, 12*x[1]])\n",
    " \n",
    "# определяем начальную точку\n",
    "x_0 = [100, 100]\n",
    "# реализуем алгоритм L-BFGS-B\n",
    "result = minimize(func, x_0, method='L-BFGS-B', jac=grad_func)\n",
    "# получаем результат\n",
    "print('Статус оптимизации %s' % result['message'])\n",
    "print('Количество оценок: %d' % result['nfev'])\n",
    "solution = result['x']\n",
    "evaluation = func(solution)\n",
    "print('Решение: f(%s) = %.2f' % (solution, evaluation))"
   ]
  },
  {
   "cell_type": "code",
   "execution_count": 104,
   "metadata": {},
   "outputs": [
    {
     "name": "stdout",
     "output_type": "stream",
     "text": [
      "Статус оптимизации Optimization terminated successfully.\n",
      "Количество оценок: 37\n",
      "Решение: f([1.31617159e-02 6.65344582e-14]) = 10.00\n"
     ]
    }
   ],
   "source": [
    "# определяем нашу функцию\n",
    "def func(x):\n",
    "    return x[0]**4 + 6*x[1]**2 + 10\n",
    " \n",
    "#  определяем градиент функции\n",
    "def grad_func(x):\n",
    "    return np.array([4*x[0]**3, 12*x[1]])\n",
    " \n",
    "# определяем начальную точку\n",
    "x_0 = [100, 100]\n",
    "# реализуем алгоритм L-BFGS-B\n",
    "result = minimize(func, x_0, method='BFGS', jac=grad_func)\n",
    "# получаем результат\n",
    "print('Статус оптимизации %s' % result['message'])\n",
    "print('Количество оценок: %d' % result['nfev'])\n",
    "solution = result['x']\n",
    "evaluation = func(solution)\n",
    "print('Решение: f(%s) = %.2f' % (solution, evaluation))"
   ]
  },
  {
   "cell_type": "code",
   "execution_count": 111,
   "metadata": {},
   "outputs": [],
   "source": [
    "from sympy import init_printing, solve, symbols"
   ]
  },
  {
   "cell_type": "code",
   "execution_count": 115,
   "metadata": {},
   "outputs": [
    {
     "name": "stdout",
     "output_type": "stream",
     "text": [
      "Целевая функция для аргументов a и b :\n",
      " f =  6*a + 5.5*b\n",
      "Функция ограничений:  a + b - 80 = 0\n",
      "Функция Лагранжа :\n",
      "  6*a + 5.5*b + w*(a + b - 80)\n",
      "df/da = w + 6 = 0\n",
      "df/db = w + 5.5 = 0\n",
      "df/dw = a + b - 80 = 0\n"
     ]
    },
    {
     "data": {
      "text/plain": [
       "[]"
      ]
     },
     "execution_count": 115,
     "metadata": {},
     "output_type": "execute_result"
    }
   ],
   "source": [
    "a,b,w=symbols(' a b w' )\n",
    "g = 6*a + 5.5*b\n",
    "print('Целевая функция для аргументов a и b :\\n f = ', g)\n",
    "q = a + b - 80\n",
    "print('Функция ограничений: ', q,'= 0')\n",
    "f = g + w*q\n",
    "print('Функция Лагранжа :\\n ',f)\n",
    "fa = f.diff(a)\n",
    "print('df/da =',fa,'= 0')\n",
    "fb = f.diff(b)\n",
    "print('df/db =',fb,'= 0')\n",
    "fw = f.diff(w)\n",
    "print('df/dw =',fw,'= 0')\n",
    "sols = solve([fa,fb,fw],a,b,w)\n",
    "sols\n",
    "#print('Стационарная точка M(x,y):\\n',float(sols[a]),',',float(sols[b]))"
   ]
  },
  {
   "cell_type": "code",
   "execution_count": 117,
   "metadata": {},
   "outputs": [
    {
     "name": "stdout",
     "output_type": "stream",
     "text": [
      "Целевая функция для аргументов a и b :\n",
      " f =  6*a + 5.5*b\n",
      "Функция ограничений:  a + b - 80 = 0\n",
      "Функция Лагранжа :\n",
      "  6*a + 5.5*b + w*(a + b - 80)\n",
      "df/da = w + 6 = 0\n",
      "df/db = w + 5.5 = 0\n",
      "df/dw = a + b - 80 = 0\n"
     ]
    },
    {
     "ename": "TypeError",
     "evalue": "list indices must be integers or slices, not Symbol",
     "output_type": "error",
     "traceback": [
      "\u001b[1;31m---------------------------------------------------------------------------\u001b[0m",
      "\u001b[1;31mTypeError\u001b[0m                                 Traceback (most recent call last)",
      "\u001b[1;32mc:\\Users\\Ustenko-S\\Repo\\SkillFactory\\MLMATH1\\MATH-ML-6.ipynb Cell 45\u001b[0m in \u001b[0;36m<cell line: 16>\u001b[1;34m()\u001b[0m\n\u001b[0;32m     <a href='vscode-notebook-cell:/c%3A/Users/Ustenko-S/Repo/SkillFactory/MLMATH1/MATH-ML-6.ipynb#X66sZmlsZQ%3D%3D?line=13'>14</a>\u001b[0m \u001b[39mprint\u001b[39m(\u001b[39m'\u001b[39m\u001b[39mdf/dw =\u001b[39m\u001b[39m'\u001b[39m,fw,\u001b[39m'\u001b[39m\u001b[39m= 0\u001b[39m\u001b[39m'\u001b[39m)\n\u001b[0;32m     <a href='vscode-notebook-cell:/c%3A/Users/Ustenko-S/Repo/SkillFactory/MLMATH1/MATH-ML-6.ipynb#X66sZmlsZQ%3D%3D?line=14'>15</a>\u001b[0m sols \u001b[39m=\u001b[39m solve([fa,fb,fw],a,b,w)\n\u001b[1;32m---> <a href='vscode-notebook-cell:/c%3A/Users/Ustenko-S/Repo/SkillFactory/MLMATH1/MATH-ML-6.ipynb#X66sZmlsZQ%3D%3D?line=15'>16</a>\u001b[0m \u001b[39mprint\u001b[39m(\u001b[39m'\u001b[39m\u001b[39mСтационарная точка M(x,y):\u001b[39m\u001b[39m\\n\u001b[39;00m\u001b[39m'\u001b[39m,\u001b[39mfloat\u001b[39m(sols[a]),\u001b[39m'\u001b[39m\u001b[39m,\u001b[39m\u001b[39m'\u001b[39m,\u001b[39mfloat\u001b[39m(sols[b]))\n",
      "\u001b[1;31mTypeError\u001b[0m: list indices must be integers or slices, not Symbol"
     ]
    }
   ],
   "source": [
    "from sympy import *\n",
    "a,b,w=symbols(' a b w' )\n",
    "g = 6*a + 5.5*b\n",
    "print('Целевая функция для аргументов a и b :\\n f = ', g)\n",
    "q = a + b - 80\n",
    "print('Функция ограничений: ', q,'= 0')\n",
    "f = 6*a + 5.5*b + w*(a + b - 80)\n",
    "print('Функция Лагранжа :\\n ',f)\n",
    "fa = f.diff(a)\n",
    "print('df/da =',fa,'= 0')\n",
    "fb = f.diff(b)\n",
    "print('df/db =',fb,'= 0')\n",
    "fw = f.diff(w)\n",
    "print('df/dw =',fw,'= 0')\n",
    "sols = solve([fa,fb,fw],a,b,w)\n",
    "print('Стационарная точка M(x,y):\\n',float(sols[a]),',',float(sols[b]))"
   ]
  },
  {
   "cell_type": "code",
   "execution_count": 122,
   "metadata": {},
   "outputs": [
    {
     "data": {
      "text/latex": [
       "$\\displaystyle w + 6$"
      ],
      "text/plain": [
       "w + 6"
      ]
     },
     "execution_count": 122,
     "metadata": {},
     "output_type": "execute_result"
    }
   ],
   "source": [
    "fa"
   ]
  },
  {
   "attachments": {},
   "cell_type": "markdown",
   "metadata": {},
   "source": [
    "# 6. Практика: линейное программирование"
   ]
  },
  {
   "attachments": {},
   "cell_type": "markdown",
   "metadata": {},
   "source": [
    "## Пример № 1. SciPy (scipy.optimize.linprog)"
   ]
  },
  {
   "cell_type": "code",
   "execution_count": 123,
   "metadata": {},
   "outputs": [],
   "source": [
    "values = [4, 2, 1, 7, 3, 6] #стоимости товаров\n",
    "weights = [5, 9, 8, 2, 6, 5] #вес товаров\n",
    "C = 15 #вместимость сумки\n",
    "n = 6 #количество товаров\n",
    "c = - np.array(values) #изменяем знак, чтобы перейти от задачи максимизации к задаче минимизации\n",
    "A = np.array(weights)  #конвертируем список с весами в массив\n",
    "A = np.expand_dims(A, 0) #преобразуем размерность массива\n",
    "b = np.array([C]) #конвертируем вместимость в массив"
   ]
  },
  {
   "cell_type": "code",
   "execution_count": 124,
   "metadata": {},
   "outputs": [
    {
     "data": {
      "text/plain": [
       "     con: array([], dtype=float64)\n",
       "     fun: -52.50000000003075\n",
       " message: 'Optimization terminated successfully.'\n",
       "     nit: 5\n",
       "   slack: array([-2.24904539e-11])\n",
       "  status: 0\n",
       " success: True\n",
       "       x: array([6.18738537e-14, 1.05853307e-12, 1.21475944e-13, 7.50000000e+00,\n",
       "       4.00246695e-13, 4.71394166e-13])"
      ]
     },
     "execution_count": 124,
     "metadata": {},
     "output_type": "execute_result"
    }
   ],
   "source": [
    "from scipy.optimize import linprog\n",
    "linprog(c=c, A_ub=A, b_ub=b)"
   ]
  },
  {
   "attachments": {},
   "cell_type": "markdown",
   "metadata": {},
   "source": [
    "## Пример № 2. CVXPY"
   ]
  },
  {
   "cell_type": "code",
   "execution_count": 126,
   "metadata": {},
   "outputs": [],
   "source": [
    "import cvxpy"
   ]
  },
  {
   "cell_type": "code",
   "execution_count": 132,
   "metadata": {},
   "outputs": [
    {
     "data": {
      "text/plain": [
       "-138412039.00000018"
      ]
     },
     "execution_count": 132,
     "metadata": {},
     "output_type": "execute_result"
    }
   ],
   "source": [
    "x = cvxpy.Variable(shape=n, integer = True)\n",
    "A = A.flatten() # Преобразуем размерность массива\n",
    "constraint = cvxpy.sum(cvxpy.multiply(A, x)) <= C\n",
    "total_value = cvxpy.sum(cvxpy.multiply(x, c))\n",
    "problem = cvxpy.Problem(cvxpy.Minimize(total_value), constraints=[constraint])\n",
    "problem.solve(solver='ECOS_BB')"
   ]
  },
  {
   "cell_type": "code",
   "execution_count": 133,
   "metadata": {},
   "outputs": [
    {
     "data": {
      "text/plain": [
       "array([7.01265807e-10, 7.99333027e-10, 3.58703130e-10, 7.00000000e+00,\n",
       "       4.67143021e-10, 9.34955115e-10])"
      ]
     },
     "execution_count": 133,
     "metadata": {},
     "output_type": "execute_result"
    }
   ],
   "source": [
    "x = cvxpy.Variable(shape=n, integer=True)\n",
    "constraint = cvxpy.sum(cvxpy.multiply(A, x)) <= C\n",
    "x_positive = x >= 0\n",
    "total_value = cvxpy.sum(cvxpy.multiply(x, c))\n",
    "\n",
    "problem = cvxpy.Problem(\n",
    "    cvxpy.Minimize(total_value), constraints=[constraint, x_positive]\n",
    ")\n",
    "\n",
    "problem.solve(solver='ECOS_BB')\n",
    "x.value"
   ]
  },
  {
   "cell_type": "code",
   "execution_count": 134,
   "metadata": {},
   "outputs": [
    {
     "data": {
      "text/plain": [
       "array([1.00000000e+00, 2.25474413e-10, 2.07396078e-10, 1.00000000e+00,\n",
       "       2.24003299e-10, 1.00000000e+00])"
      ]
     },
     "execution_count": 134,
     "metadata": {},
     "output_type": "execute_result"
    }
   ],
   "source": [
    "x = cvxpy.Variable(shape=n, boolean=True)\n",
    "constraint = cvxpy.sum(cvxpy.multiply(A, x)) <= C\n",
    "x_positive = x >= 0\n",
    "total_value = cvxpy.sum(cvxpy.multiply(x, c))\n",
    "\n",
    "problem = cvxpy.Problem(\n",
    "    cvxpy.Minimize(total_value), constraints=[constraint, x_positive]\n",
    ")\n",
    "\n",
    "problem.solve(solver='ECOS_BB')\n",
    "x.value"
   ]
  },
  {
   "attachments": {},
   "cell_type": "markdown",
   "metadata": {},
   "source": [
    "## Пример № 3. PuLP "
   ]
  },
  {
   "cell_type": "code",
   "execution_count": 136,
   "metadata": {},
   "outputs": [],
   "source": [
    "from pulp import *"
   ]
  },
  {
   "cell_type": "code",
   "execution_count": 137,
   "metadata": {},
   "outputs": [
    {
     "name": "stderr",
     "output_type": "stream",
     "text": [
      "d:\\Python\\Python310\\lib\\site-packages\\pulp\\pulp.py:1352: UserWarning: Spaces are not permitted in the name. Converted to '_'\n",
      "  warnings.warn(\"Spaces are not permitted in the name. Converted to '_'\")\n"
     ]
    },
    {
     "name": "stdout",
     "output_type": "stream",
     "text": [
      "Количество автомобилей модели А:  1.0\n",
      "Количество автомобилей модели В:  4.0\n",
      "Суммарный доход:  200000.0\n"
     ]
    }
   ],
   "source": [
    "problem = LpProblem('Производство машин', LpMaximize)\n",
    "A = LpVariable('Автомобиль A', lowBound=0 , cat=LpInteger)\n",
    "B = LpVariable('Автомобиль B', lowBound=0 , cat=LpInteger)\n",
    "#Целевая функция\n",
    "problem += 20000*A + 45000*B \n",
    "#Ограничения\n",
    "problem += 4*A + 5*B <= 30 \n",
    "problem += 3*A + 6*B <=30\n",
    "problem += 2*A + 7*B <=30\n",
    "problem.solve()\n",
    "print(\"Количество автомобилей модели А: \", A.varValue)\n",
    "print(\"Количество автомобилей модели В: \", B.varValue)\n",
    "print(\"Суммарный доход: \", value(problem.objective))"
   ]
  }
 ],
 "metadata": {
  "kernelspec": {
   "display_name": "Python 3",
   "language": "python",
   "name": "python3"
  },
  "language_info": {
   "codemirror_mode": {
    "name": "ipython",
    "version": 3
   },
   "file_extension": ".py",
   "mimetype": "text/x-python",
   "name": "python",
   "nbconvert_exporter": "python",
   "pygments_lexer": "ipython3",
   "version": "3.10.4"
  },
  "orig_nbformat": 4
 },
 "nbformat": 4,
 "nbformat_minor": 2
}
