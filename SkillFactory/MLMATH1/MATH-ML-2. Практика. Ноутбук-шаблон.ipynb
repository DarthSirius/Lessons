{
  "cells": [
    {
      "cell_type": "markdown",
      "id": "b054bd88",
      "metadata": {
        "id": "b054bd88"
      },
      "source": [
        "# <center> Линейная алгебра в контексте линейных методов. Практика.\n",
        "\n",
        "## <center> Прогнозирование выработки газа на скважинах."
      ]
    },
    {
      "cell_type": "markdown",
      "id": "325bc80b",
      "metadata": {
        "id": "325bc80b"
      },
      "source": [
        "## Постановка задачи"
      ]
    },
    {
      "cell_type": "markdown",
      "id": "8247bd54",
      "metadata": {
        "id": "8247bd54"
      },
      "source": [
        "У Василия, основателя компании «Газ-Таз-Ваз-Нефть», дела идут в гору: у него уже функционирует 200 скважин для добычи газа. В этом году он открывает 30 новых скважин. Однако в целях оптимизации расходов и повышения дохода Василию необходимо оценить, сколько денег будет приносить ему каждая из скважин, а также понять, какие факторы (параметры скважин) потенциально сильнее всего повлияют на объём добычи газа. Для этого Василий решил нанять вас как специалиста в области Data Science.\n",
        "\n",
        "Василий представляет вам набор данных о добыче газа на своих скважинах. Файл с данными вы можете скачать на платформе.\n",
        "\n",
        "**Признаки в данных:**\n",
        "\n",
        "* Well — идентификатор скважины;\n",
        "* Por — пористость скважины (%);\n",
        "* Perm — проницаемость скважины;\n",
        "* AI — акустический импеданс ($кг/м^2 * 10^6$);\n",
        "* Brittle — коэффициент хрупкости скважины (%);\n",
        "* TOC — общий органический углерод (%);\n",
        "* VR — коэффициент отражения витринита (%);\n",
        "* Prod — добыча газа в сутки (млн. кубических футов).\n",
        "\n",
        "**Ваша задача** — построить регрессионную модель, которая прогнозирует выработку газа на скважине (целевой признак — Prod) на основе остальных характеристик скважины, и проинтерпретировать результаты вашей модели.\n",
        "\n",
        "Разделим задачу на две части:\n",
        "* В первой мы построим простейшую модель линейной регрессии, проанализируем результаты её работы и выберем наиболее значимые факторы для прогнозирования.\n",
        "* Во второй мы займёмся построением модели полиномиальной регрессии с регуляризацией и посмотрим на итоговые результаты моделирования.\n"
      ]
    },
    {
      "cell_type": "markdown",
      "id": "d67d069e",
      "metadata": {
        "id": "d67d069e"
      },
      "source": [
        "Импортируем необходимые библиотеки:"
      ]
    },
    {
      "cell_type": "code",
      "execution_count": 706,
      "id": "83a555bc-8dff-4b7e-bba1-cd4f4a9e69b2",
      "metadata": {
        "id": "83a555bc-8dff-4b7e-bba1-cd4f4a9e69b2"
      },
      "outputs": [],
      "source": [
        "# Импорт библиотек\n",
        "import numpy as np # для работы с массивами\n",
        "import pandas as pd # для работы с DataFrame \n",
        "import seaborn as sns # библиотека для визуализации статистических данных\n",
        "import matplotlib.pyplot as plt # для построения графиков\n",
        "\n",
        "%matplotlib inline"
      ]
    },
    {
      "cell_type": "markdown",
      "id": "e689ddaf",
      "metadata": {
        "id": "e689ddaf"
      },
      "source": [
        "Прочитаем исходные данные:"
      ]
    },
    {
      "cell_type": "code",
      "execution_count": 707,
      "id": "b7b5cd9b-703f-4dbc-a6e3-61d583eafcac",
      "metadata": {
        "colab": {
          "base_uri": "https://localhost:8080/",
          "height": 206
        },
        "id": "b7b5cd9b-703f-4dbc-a6e3-61d583eafcac",
        "outputId": "d4e99a48-2a0d-4edd-f86c-617c44bf36d2"
      },
      "outputs": [
        {
          "data": {
            "text/html": [
              "<div>\n",
              "<style scoped>\n",
              "    .dataframe tbody tr th:only-of-type {\n",
              "        vertical-align: middle;\n",
              "    }\n",
              "\n",
              "    .dataframe tbody tr th {\n",
              "        vertical-align: top;\n",
              "    }\n",
              "\n",
              "    .dataframe thead th {\n",
              "        text-align: right;\n",
              "    }\n",
              "</style>\n",
              "<table border=\"1\" class=\"dataframe\">\n",
              "  <thead>\n",
              "    <tr style=\"text-align: right;\">\n",
              "      <th></th>\n",
              "      <th>Well</th>\n",
              "      <th>Por</th>\n",
              "      <th>Perm</th>\n",
              "      <th>AI</th>\n",
              "      <th>Brittle</th>\n",
              "      <th>TOC</th>\n",
              "      <th>VR</th>\n",
              "      <th>Prod</th>\n",
              "    </tr>\n",
              "  </thead>\n",
              "  <tbody>\n",
              "    <tr>\n",
              "      <th>0</th>\n",
              "      <td>1</td>\n",
              "      <td>12.08</td>\n",
              "      <td>2.92</td>\n",
              "      <td>2.80</td>\n",
              "      <td>81.40</td>\n",
              "      <td>1.16</td>\n",
              "      <td>2.31</td>\n",
              "      <td>4165.196191</td>\n",
              "    </tr>\n",
              "    <tr>\n",
              "      <th>1</th>\n",
              "      <td>2</td>\n",
              "      <td>12.38</td>\n",
              "      <td>3.53</td>\n",
              "      <td>3.22</td>\n",
              "      <td>46.17</td>\n",
              "      <td>0.89</td>\n",
              "      <td>1.88</td>\n",
              "      <td>3561.146205</td>\n",
              "    </tr>\n",
              "    <tr>\n",
              "      <th>2</th>\n",
              "      <td>3</td>\n",
              "      <td>14.02</td>\n",
              "      <td>2.59</td>\n",
              "      <td>4.01</td>\n",
              "      <td>72.80</td>\n",
              "      <td>0.89</td>\n",
              "      <td>2.72</td>\n",
              "      <td>4284.348574</td>\n",
              "    </tr>\n",
              "    <tr>\n",
              "      <th>3</th>\n",
              "      <td>4</td>\n",
              "      <td>17.67</td>\n",
              "      <td>6.75</td>\n",
              "      <td>2.63</td>\n",
              "      <td>39.81</td>\n",
              "      <td>1.08</td>\n",
              "      <td>1.88</td>\n",
              "      <td>5098.680869</td>\n",
              "    </tr>\n",
              "    <tr>\n",
              "      <th>4</th>\n",
              "      <td>5</td>\n",
              "      <td>17.52</td>\n",
              "      <td>4.57</td>\n",
              "      <td>3.18</td>\n",
              "      <td>10.94</td>\n",
              "      <td>1.51</td>\n",
              "      <td>1.90</td>\n",
              "      <td>3406.132832</td>\n",
              "    </tr>\n",
              "  </tbody>\n",
              "</table>\n",
              "</div>"
            ],
            "text/plain": [
              "   Well    Por  Perm    AI  Brittle   TOC    VR         Prod\n",
              "0     1  12.08  2.92  2.80    81.40  1.16  2.31  4165.196191\n",
              "1     2  12.38  3.53  3.22    46.17  0.89  1.88  3561.146205\n",
              "2     3  14.02  2.59  4.01    72.80  0.89  2.72  4284.348574\n",
              "3     4  17.67  6.75  2.63    39.81  1.08  1.88  5098.680869\n",
              "4     5  17.52  4.57  3.18    10.94  1.51  1.90  3406.132832"
            ]
          },
          "execution_count": 707,
          "metadata": {},
          "output_type": "execute_result"
        }
      ],
      "source": [
        "data = pd.read_csv('data/unconv.csv')\n",
        "data.head()"
      ]
    },
    {
      "cell_type": "markdown",
      "id": "58639b40",
      "metadata": {
        "id": "58639b40"
      },
      "source": [
        "## Практика: линейная регрессия по методу наименьших квадратов"
      ]
    },
    {
      "cell_type": "markdown",
      "id": "a90535b8",
      "metadata": {
        "id": "a90535b8"
      },
      "source": [
        "Для начала построим простейшую модель линейной регрессии, проанализируем результаты её работы и выберем наиболее значимые факторы для прогнозирования.\n",
        "\n",
        "В первой части вам предстоит выполнить задания 5.0–5.6. Максимальное количество баллов, которое можно получить, — 9."
      ]
    },
    {
      "cell_type": "markdown",
      "id": "4061b706",
      "metadata": {
        "id": "4061b706"
      },
      "source": [
        "### Задание 5.0. (не оценивается)\n",
        "\n",
        "Проведите небольшой разведывательный анализ, чтобы поближе познакомиться с исходными данными. Постройте несколько визуализаций, которые помогут вам понять, как устроены исходные признаки, а также смогут продемонстрировать взаимосвязь факторов. \n",
        "\n",
        "Сделайте промежуточные выводы из проведённого разведывательного анализа."
      ]
    },
    {
      "cell_type": "code",
      "execution_count": 708,
      "id": "d7b13925",
      "metadata": {},
      "outputs": [
        {
          "name": "stdout",
          "output_type": "stream",
          "text": [
            "<class 'pandas.core.frame.DataFrame'>\n",
            "RangeIndex: 200 entries, 0 to 199\n",
            "Data columns (total 8 columns):\n",
            " #   Column   Non-Null Count  Dtype  \n",
            "---  ------   --------------  -----  \n",
            " 0   Well     200 non-null    int64  \n",
            " 1   Por      200 non-null    float64\n",
            " 2   Perm     200 non-null    float64\n",
            " 3   AI       200 non-null    float64\n",
            " 4   Brittle  200 non-null    float64\n",
            " 5   TOC      200 non-null    float64\n",
            " 6   VR       200 non-null    float64\n",
            " 7   Prod     200 non-null    float64\n",
            "dtypes: float64(7), int64(1)\n",
            "memory usage: 12.6 KB\n"
          ]
        }
      ],
      "source": [
        "data.info()"
      ]
    },
    {
      "cell_type": "code",
      "execution_count": 709,
      "id": "5c272eef",
      "metadata": {},
      "outputs": [
        {
          "data": {
            "text/html": [
              "<div>\n",
              "<style scoped>\n",
              "    .dataframe tbody tr th:only-of-type {\n",
              "        vertical-align: middle;\n",
              "    }\n",
              "\n",
              "    .dataframe tbody tr th {\n",
              "        vertical-align: top;\n",
              "    }\n",
              "\n",
              "    .dataframe thead th {\n",
              "        text-align: right;\n",
              "    }\n",
              "</style>\n",
              "<table border=\"1\" class=\"dataframe\">\n",
              "  <thead>\n",
              "    <tr style=\"text-align: right;\">\n",
              "      <th></th>\n",
              "      <th>Well</th>\n",
              "      <th>Por</th>\n",
              "      <th>Perm</th>\n",
              "      <th>AI</th>\n",
              "      <th>Brittle</th>\n",
              "      <th>TOC</th>\n",
              "      <th>VR</th>\n",
              "      <th>Prod</th>\n",
              "    </tr>\n",
              "  </thead>\n",
              "  <tbody>\n",
              "    <tr>\n",
              "      <th>count</th>\n",
              "      <td>200.000000</td>\n",
              "      <td>200.000000</td>\n",
              "      <td>200.000000</td>\n",
              "      <td>200.000000</td>\n",
              "      <td>200.000000</td>\n",
              "      <td>200.000000</td>\n",
              "      <td>200.000000</td>\n",
              "      <td>200.000000</td>\n",
              "    </tr>\n",
              "    <tr>\n",
              "      <th>mean</th>\n",
              "      <td>100.500000</td>\n",
              "      <td>14.991150</td>\n",
              "      <td>4.330750</td>\n",
              "      <td>2.968850</td>\n",
              "      <td>48.161950</td>\n",
              "      <td>0.990450</td>\n",
              "      <td>1.964300</td>\n",
              "      <td>4311.219852</td>\n",
              "    </tr>\n",
              "    <tr>\n",
              "      <th>std</th>\n",
              "      <td>57.879185</td>\n",
              "      <td>2.971176</td>\n",
              "      <td>1.731014</td>\n",
              "      <td>0.566885</td>\n",
              "      <td>14.129455</td>\n",
              "      <td>0.481588</td>\n",
              "      <td>0.300827</td>\n",
              "      <td>992.038414</td>\n",
              "    </tr>\n",
              "    <tr>\n",
              "      <th>min</th>\n",
              "      <td>1.000000</td>\n",
              "      <td>6.550000</td>\n",
              "      <td>1.130000</td>\n",
              "      <td>1.280000</td>\n",
              "      <td>10.940000</td>\n",
              "      <td>-0.190000</td>\n",
              "      <td>0.930000</td>\n",
              "      <td>2107.139414</td>\n",
              "    </tr>\n",
              "    <tr>\n",
              "      <th>25%</th>\n",
              "      <td>50.750000</td>\n",
              "      <td>12.912500</td>\n",
              "      <td>3.122500</td>\n",
              "      <td>2.547500</td>\n",
              "      <td>37.755000</td>\n",
              "      <td>0.617500</td>\n",
              "      <td>1.770000</td>\n",
              "      <td>3618.064513</td>\n",
              "    </tr>\n",
              "    <tr>\n",
              "      <th>50%</th>\n",
              "      <td>100.500000</td>\n",
              "      <td>15.070000</td>\n",
              "      <td>4.035000</td>\n",
              "      <td>2.955000</td>\n",
              "      <td>49.510000</td>\n",
              "      <td>1.030000</td>\n",
              "      <td>1.960000</td>\n",
              "      <td>4284.687348</td>\n",
              "    </tr>\n",
              "    <tr>\n",
              "      <th>75%</th>\n",
              "      <td>150.250000</td>\n",
              "      <td>17.402500</td>\n",
              "      <td>5.287500</td>\n",
              "      <td>3.345000</td>\n",
              "      <td>58.262500</td>\n",
              "      <td>1.350000</td>\n",
              "      <td>2.142500</td>\n",
              "      <td>5086.089761</td>\n",
              "    </tr>\n",
              "    <tr>\n",
              "      <th>max</th>\n",
              "      <td>200.000000</td>\n",
              "      <td>23.550000</td>\n",
              "      <td>9.870000</td>\n",
              "      <td>4.630000</td>\n",
              "      <td>84.330000</td>\n",
              "      <td>2.180000</td>\n",
              "      <td>2.870000</td>\n",
              "      <td>6662.622385</td>\n",
              "    </tr>\n",
              "  </tbody>\n",
              "</table>\n",
              "</div>"
            ],
            "text/plain": [
              "             Well         Por        Perm          AI     Brittle         TOC  \\\n",
              "count  200.000000  200.000000  200.000000  200.000000  200.000000  200.000000   \n",
              "mean   100.500000   14.991150    4.330750    2.968850   48.161950    0.990450   \n",
              "std     57.879185    2.971176    1.731014    0.566885   14.129455    0.481588   \n",
              "min      1.000000    6.550000    1.130000    1.280000   10.940000   -0.190000   \n",
              "25%     50.750000   12.912500    3.122500    2.547500   37.755000    0.617500   \n",
              "50%    100.500000   15.070000    4.035000    2.955000   49.510000    1.030000   \n",
              "75%    150.250000   17.402500    5.287500    3.345000   58.262500    1.350000   \n",
              "max    200.000000   23.550000    9.870000    4.630000   84.330000    2.180000   \n",
              "\n",
              "               VR         Prod  \n",
              "count  200.000000   200.000000  \n",
              "mean     1.964300  4311.219852  \n",
              "std      0.300827   992.038414  \n",
              "min      0.930000  2107.139414  \n",
              "25%      1.770000  3618.064513  \n",
              "50%      1.960000  4284.687348  \n",
              "75%      2.142500  5086.089761  \n",
              "max      2.870000  6662.622385  "
            ]
          },
          "execution_count": 709,
          "metadata": {},
          "output_type": "execute_result"
        }
      ],
      "source": [
        "data.describe()"
      ]
    },
    {
      "cell_type": "markdown",
      "id": "d11cb44f",
      "metadata": {
        "id": "d11cb44f"
      },
      "source": [
        "### Задание 5.1. (2 балла)\n",
        "\n",
        "Постройте корреляционную матрицу факторов, включив в неё целевой признак. \n",
        "\n",
        "Для наглядности визуализируйте полученную матрицу с помощью тепловой карты. \n",
        "\n",
        "**Примечание.** *Для визуализации вы можете использовать любую из знакомых вам библиотек.*\n",
        "\n",
        "На основе построенной корреляционной матрицы ответьте на следующий вопрос:\n",
        "\n",
        "* Какие факторы сильнее всего коррелируют с целевой переменной?\n",
        "\n",
        "Вычислите ранг и определитель полученной матрицы корреляций и приведите развёрнутые ответы на следующие вопросы:\n",
        "* Является ли корреляционная матрица плохо обусловенной (близок ли её опредитель к нулю)?\n",
        "* Что вы можете сказать о наличии коллинераности/мультиколлинеарности в данных? \n",
        "* Применима ли в данном случае модель классической линейной регрессии по методу наименьших квадратов и почему? "
      ]
    },
    {
      "cell_type": "markdown",
      "id": "57OjUl5e2oiL",
      "metadata": {
        "id": "57OjUl5e2oiL"
      },
      "source": [
        "**Критерии оценивания:**\n",
        "- Задание выполнено верно, учтены все условия (**2 балла**): \n",
        "    * приведён код для расчёта корреляционной матрицы;\n",
        "    * приведён код для визуализации корреляционной матрицы в виде тепловой карты;\n",
        "    * рассчитаны ранг и определитель корреляционной матрицы;\n",
        "    * предоставлены обоснованные ответы на все поставленные вопросы. \n",
        "\n",
        "- Задание выполнено верно, но не учтено одно условие (**1 балл**).\n",
        "- Задание выполнено неверно, не учтено несколько условий (**0 баллов**)."
      ]
    },
    {
      "cell_type": "code",
      "execution_count": 710,
      "id": "af00a5a0",
      "metadata": {
        "id": "af00a5a0"
      },
      "outputs": [
        {
          "data": {
            "text/plain": [
              "<AxesSubplot:>"
            ]
          },
          "execution_count": 710,
          "metadata": {},
          "output_type": "execute_result"
        },
        {
          "data": {
            "image/png": "[encoded data removed]",
            "text/plain": [
              "<Figure size 1080x576 with 2 Axes>"
            ]
          },
          "metadata": {
            "needs_background": "light"
          },
          "output_type": "display_data"
        }
      ],
      "source": [
        "# Ваш код здесь\n",
        "corr_matrix = data.corr() # корреляционная матрица признаков\n",
        "# строим тепловую карту матрицы корреляций\n",
        "fig = plt.figure(figsize=(15,8))\n",
        "sns.heatmap(data = corr_matrix, annot=True)"
      ]
    },
    {
      "cell_type": "code",
      "execution_count": 711,
      "id": "e600f1cc",
      "metadata": {},
      "outputs": [
        {
          "name": "stdout",
          "output_type": "stream",
          "text": [
            "Rank  8\n",
            "Determinant  0.0007299388072652095\n"
          ]
        }
      ],
      "source": [
        "# Параметры матрицы корреляции\n",
        "print('Rank ', np.linalg.matrix_rank(corr_matrix))\n",
        "print('Determinant ', np.linalg.det(corr_matrix))"
      ]
    },
    {
      "attachments": {},
      "cell_type": "markdown",
      "id": "9a56013d",
      "metadata": {
        "id": "9a56013d"
      },
      "source": [
        "> *Ваши выводы здесь*\n",
        "\n",
        "* Какие факторы сильнее всего коррелируют с целевой переменной?\n",
        "\n",
        "*С целевой переменной сильнее всего коррелируют признаки: Пористость (Por), Проницаемость (Perm) и общий органический углерод (TOC).*\n",
        "\n",
        "Вычислите ранг и определитель полученной матрицы корреляций и приведите развёрнутые ответы на следующие вопросы:\n",
        "* Является ли корреляционная матрица плохо обусловенной (близок ли её опредитель к нулю)?\n",
        "\n",
        "*Определитель матрицы весьма близок к нулю. Матрица корреляции близка к вырожденной, значит она является плохо обусловенной.*\n",
        "\n",
        "* Что вы можете сказать о наличии коллинераности/мультиколлинеарности в данных? \n",
        "\n",
        "*Чистой коллинеарности между признаками не обнаруживается (максимальный коэффициент 0,76). Но судя по определителю матрицы наблюдений, который близок к нулю, признаки мультиколлинеарны.*\n",
        "\n",
        "* Применима ли в данном случае модель классической линейной регрессии по методу наименьших квадратов и почему? \n",
        "\n",
        "*Классическая OLS-модель неприменима для этих данных, так как матрица корреляции близка к вырожденной.*"
      ]
    },
    {
      "cell_type": "markdown",
      "id": "43fd91c4",
      "metadata": {
        "id": "43fd91c4"
      },
      "source": [
        "### Задание 5.2. (2 балла)\n",
        "\n",
        "Создайте матрицу наблюдений `X` и вектор правильных ответов `y`. В качестве факторов для матрицы наблюдений возьмите все имеющиеся в данных признаки. \n",
        "\n",
        "Постройте модель линейной регрессии по методу наименьших квадратов. Для этого воспользуйтесь матричной формулой МНК и инструментарием библиотеки numpy. \n",
        "\n",
        "Выведите на экран полученные оценки коэффициентов модели, округлённые до целого.\n",
        "\n",
        "Приведите подробные выводы по полученным результатам, ответив на следующие вопросы:\n",
        "* Есть ли в ваших данных признаки, которые, согласно модели, можно назвать неинформативными, то есть они не оказывают влияния на целевую переменную или оказывают шумовое влияние?\n",
        "* Приведите интерпретацию нескольких (двух или трёх) коэффициентов полученной модели линейной регрессии.\n"
      ]
    },
    {
      "cell_type": "markdown",
      "id": "QtNtTUzI4Cpq",
      "metadata": {
        "id": "QtNtTUzI4Cpq"
      },
      "source": [
        "**Критерии оценивания:**\n",
        "- Задание выполнено верно, учтены все условия (**2 балла**): \n",
        "    * приведён код для нахождения параметров модели линейной регрессии с помощью матричной формулы МНК;\n",
        "    * на основе полученных параметров даны верные ответы на поставленные вопросы;\n",
        "    * приведена корректная интерпретация нескольких коэффициентов полученной модели линейной регрессии.\n",
        "\n",
        "- Задание выполнено верно, но не учтено одно из условий (**1 балл**).\n",
        "- Задание выполнено неверно, не учтено несколько условий (**0 баллов**)."
      ]
    },
    {
      "cell_type": "code",
      "execution_count": 712,
      "id": "5724288c",
      "metadata": {
        "id": "5724288c"
      },
      "outputs": [],
      "source": [
        "# Ваш код здесь\n",
        "A = np.matrix(data.drop(['Prod'], axis=1)) # матрица наблюдений\n",
        "# добавляем первый столбец, составленный из единиц\n",
        "A = np.column_stack((np.ones(200), A))\n",
        "y = data['Prod'] # вектор целевой переменной"
      ]
    },
    {
      "cell_type": "code",
      "execution_count": 713,
      "id": "a71954ee",
      "metadata": {},
      "outputs": [
        {
          "data": {
            "text/html": [
              "<div>\n",
              "<style scoped>\n",
              "    .dataframe tbody tr th:only-of-type {\n",
              "        vertical-align: middle;\n",
              "    }\n",
              "\n",
              "    .dataframe tbody tr th {\n",
              "        vertical-align: top;\n",
              "    }\n",
              "\n",
              "    .dataframe thead th {\n",
              "        text-align: right;\n",
              "    }\n",
              "</style>\n",
              "<table border=\"1\" class=\"dataframe\">\n",
              "  <thead>\n",
              "    <tr style=\"text-align: right;\">\n",
              "      <th></th>\n",
              "      <th>Regressor</th>\n",
              "    </tr>\n",
              "  </thead>\n",
              "  <tbody>\n",
              "    <tr>\n",
              "      <th>_w0_</th>\n",
              "      <td>-1232.0</td>\n",
              "    </tr>\n",
              "    <tr>\n",
              "      <th>Well</th>\n",
              "      <td>0.0</td>\n",
              "    </tr>\n",
              "    <tr>\n",
              "      <th>Por</th>\n",
              "      <td>230.0</td>\n",
              "    </tr>\n",
              "    <tr>\n",
              "      <th>Perm</th>\n",
              "      <td>116.0</td>\n",
              "    </tr>\n",
              "    <tr>\n",
              "      <th>AI</th>\n",
              "      <td>-365.0</td>\n",
              "    </tr>\n",
              "    <tr>\n",
              "      <th>Brittle</th>\n",
              "      <td>25.0</td>\n",
              "    </tr>\n",
              "    <tr>\n",
              "      <th>TOC</th>\n",
              "      <td>-78.0</td>\n",
              "    </tr>\n",
              "    <tr>\n",
              "      <th>VR</th>\n",
              "      <td>785.0</td>\n",
              "    </tr>\n",
              "  </tbody>\n",
              "</table>\n",
              "</div>"
            ],
            "text/plain": [
              "         Regressor\n",
              "_w0_       -1232.0\n",
              "Well           0.0\n",
              "Por          230.0\n",
              "Perm         116.0\n",
              "AI          -365.0\n",
              "Brittle       25.0\n",
              "TOC          -78.0\n",
              "VR           785.0"
            ]
          },
          "execution_count": 713,
          "metadata": {},
          "output_type": "execute_result"
        }
      ],
      "source": [
        "# вычислим OLS-оценку для коэффициентов\n",
        "w = np.linalg.inv(A.T@A)@A.T@y\n",
        "columns_names = ['_w0_']+list(data.drop(['Prod'], axis=1).columns) # список признаков\n",
        "# оформляем список коэффициентов в удобный для чтения датафрейм с именами признаков\n",
        "w_df = pd.DataFrame(data=w, index=columns_names, columns=['Regressor']) \n",
        "round(w_df)"
      ]
    },
    {
      "attachments": {},
      "cell_type": "markdown",
      "id": "bab9ee21",
      "metadata": {
        "id": "bab9ee21"
      },
      "source": [
        "> *Ваши выводы здесь*\n",
        "\n",
        "*Параметр Well неинформативен, так как не оказывает влияния на целевую переменную.*\n",
        "*Параметр пористость (Por) линейно связан с целевой переменной с коэффициентом 230. Повышение пористости скважины на 1 единицу даёт прирост добычи газа в сутки на 230 млн. кубических футов.\n",
        "Параметр проницаемость (Perm) также прямо пропорциональна целевой переменной с коэффициентом 116. Повышение проницаемости скважины на 1 единицу даёт прирост добычи газа в сутки на 116 млн. кубических футов.*\n",
        "*Добыча имеет обратную зависимость от признака Акустический импеданс (AI). Рост импеданса на 1 единицу снижает отдачу скважины на 365 млн. кубических футов.*"
      ]
    },
    {
      "cell_type": "markdown",
      "id": "4a05a4ac",
      "metadata": {
        "id": "4a05a4ac"
      },
      "source": [
        "### Задание 5.3. (1 балл)\n",
        "\n",
        "Теперь потренируемся строить предсказание для наблюдений целевой переменной. \n",
        "\n",
        "**а)** Постройте прогноз выработки газа для скважины со следующими параметрами:\n",
        "\n",
        "```python\n",
        "{\n",
        "    'Well': 106.0,\n",
        "    'Por': 15.32,\n",
        "    'Perm': 3.71,\n",
        "    'AI': 3.29,\n",
        "    'Brittle': 55.99,\n",
        "    'TOC': 1.35,\n",
        "    'VR': 2.42\n",
        " }\n",
        "```\n",
        "\n",
        "Рассчитайте абсолютную ошибку построенного вами прогноза для предложенной скважины (в миллионах кубических футов в день), если известно, что на этой скважине производится `4748.315024` миллионов кубических футов газа в день. \n",
        "\n",
        "**б)** Постройте прогноз выработки газа для всех скважин из обучающего набора данных. Выберите метрику, по которой вы будете оценивать качество регрессионных моделей и сравнивать их между собой (можно использовать несколько метрик, но не более двух).\n",
        "\n",
        "Рассчитайте значение выбранной метрики для вашей модели. Приведите интерпретацию полученного результата. "
      ]
    },
    {
      "cell_type": "markdown",
      "id": "qUDcep5Q5GWU",
      "metadata": {
        "id": "qUDcep5Q5GWU"
      },
      "source": [
        "**Критерии оценивания:**\n",
        "- Задание выполнено верно, учтены все условия (**1 балл**): \n",
        "    * приведён код для построения прогноза выработки газа на указанной скважине и рассчитана абсолютная ошибка прогноза для этой скважины;\n",
        "    * выбрана корректная для поставленной задачи метрика (или метрики) оценки качества модели и приведён код для расчёта этой метрики на всём обучающем наборе данных;\n",
        "    * приведена корректная интерпретация полученного результата.\n",
        "\n",
        "- Задание выполнено верно, но не учтено одно из условий, или задание выполнено неверно (**0 баллов**)."
      ]
    },
    {
      "cell_type": "code",
      "execution_count": 714,
      "id": "e4291db0",
      "metadata": {
        "id": "e4291db0"
      },
      "outputs": [
        {
          "name": "stdout",
          "output_type": "stream",
          "text": [
            "New prediction:  4723.064054  mmcfd\n",
            "Absolute error of new prediction:  25.3  mmcfd\n"
          ]
        }
      ],
      "source": [
        "# Ваш код здесь\n",
        "# параметры скважины оформляем в словарь\n",
        "data_new = {\n",
        "    'w0' : 1, # добавляем множитель для нулевого коэффициента\n",
        "    'Well': 106.0,\n",
        "    'Por': 15.32,\n",
        "    'Perm': 3.71,\n",
        "    'AI': 3.29,\n",
        "    'Brittle': 55.99,\n",
        "    'TOC': 1.35,\n",
        "    'VR': 2.42\n",
        " }\n",
        "# делаем прогноз\n",
        "production_new = 0 \n",
        "for i in range(len(w)): # перемножаем параметры скважины на коэффициенты регрессии\n",
        "    production_new += w[i] * list(data_new.values())[i]\n",
        "print('New prediction: ', round(production_new,6), ' mmcfd')\n",
        "print('Absolute error of new prediction: ', round(np.abs(4748.315024 - round(production_new,6)),1), ' mmcfd')"
      ]
    },
    {
      "cell_type": "code",
      "execution_count": 715,
      "id": "5e4995e9",
      "metadata": {},
      "outputs": [
        {
          "name": "stdout",
          "output_type": "stream",
          "text": [
            "MAPE:  3.63 %\n",
            "R2:  0.96\n"
          ]
        }
      ],
      "source": [
        "# делаем прогноз для всех данных матрицы наблюдений\n",
        "prediction = np.array([]) # создаем пустой вектор предсказаний\n",
        "for i in range(A.shape[0]): # для каждой строки матрицы наблюдений вычисляем прогноз\n",
        "    p = 0\n",
        "    for j in range(A.shape[1]): # проходим по столбцам признаков, умножаем величину признака на соответствующий коэффициент регрессии\n",
        "        p += w[j] * A[i,j]      # все суммируем \n",
        "    prediction = np.append(prediction, p) # добавляем полученный прогноз в вектор предсказаний\n",
        "# считаем среднее абсолютное отклонение в процентах — MAPE (Mean Absolute Percent Error)\n",
        "deviance = (prediction - y) / y # измеряем отклонение для каждого прогноза и делим на истинное значение\n",
        "MAPE = np.mean(np.abs(deviance)) * 100 # считаем среднее отклонение\n",
        "# посчитаем коэффициент детерминации R2\n",
        "sq_deviance = (prediction - y) ** 2 # квадрат отклонения для каждого прогноза\n",
        "MSE = np.mean(sq_deviance) # среднее квадратичное отклонение\n",
        "M = np.mean(y) # среднее по вектору правильных ответов\n",
        "sq_mean_deviance = (prediction - M) ** 2 # квадрат отклонения от среднего для каждого прогноза\n",
        "MSE_mean = np.mean(sq_mean_deviance) # среднее квадратичное отклонение от среднего\n",
        "R2 = 1 - MSE / MSE_mean\n",
        "print('MAPE: ', round(MAPE,2), '%')\n",
        "print('R2: ', round(R2,2))"
      ]
    },
    {
      "attachments": {},
      "cell_type": "markdown",
      "id": "c9bee4bc",
      "metadata": {
        "id": "c9bee4bc"
      },
      "source": [
        "> *Ваши выводы здесь*\n",
        "\n",
        "*Ошибка для выбранной скважины составила 25.3 млн.куб.футов в день. Что в сравнении с общей выработкой в 4723 млн. куб.футов выглядит небольшой.*\n",
        "\n",
        "*В среднем для всей матрицы наблюдений модель ошибается на +/- 3.6 %.*\n",
        "*Коэффициент детерминации достигает 0.96, это показывает долю разнообразия (дисперсии), которую смогла уловить модель в данных. Это высокий показатель. Наша модель даёт достаточно точный прогноз на тренировочной выборке.*"
      ]
    },
    {
      "cell_type": "markdown",
      "id": "0c25c3aa",
      "metadata": {
        "id": "0c25c3aa"
      },
      "source": [
        "### Задание 5.4. (1 балл)\n",
        "\n",
        "Настало время анализа построенной модели. Посмотрите на коэффициенты и сравните их знаки со значениями выборочных корреляций между целевым признаком и факторами, которые вы нашли ранее.\n",
        "\n",
        "Дайте развёрнутые ответы на следующие вопросы:\n",
        "\n",
        "* Есть ли в вашей модели фактор, при котором коэффициент в модели линейной регрессии противоречит соответствующему коэффициенту корреляции? Например, корреляция говорит, что зависимость между фактором и целевой переменной прямая, а модель говорит обратное. Если таких факторов несколько, укажите их все.\n",
        "* Как вы считаете, с чем связано полученное противоречие результатов?"
      ]
    },
    {
      "cell_type": "markdown",
      "id": "ngJ3UdYb6Ll6",
      "metadata": {
        "id": "ngJ3UdYb6Ll6"
      },
      "source": [
        "**Критерии оценивания:**\n",
        "\n",
        "- Задание выполнено верно, даны корректные развёрнутые ответы на все поставленные в задании вопросы (**1 балл**). \n",
        "\n",
        "- Задание выполнено неверно, даны некорректные ответы на один или несколько поставленных в задании вопросов (**0 баллов**)."
      ]
    },
    {
      "cell_type": "code",
      "execution_count": 716,
      "id": "v-zIxRPY9wK7",
      "metadata": {
        "id": "v-zIxRPY9wK7"
      },
      "outputs": [
        {
          "data": {
            "text/html": [
              "<div>\n",
              "<style scoped>\n",
              "    .dataframe tbody tr th:only-of-type {\n",
              "        vertical-align: middle;\n",
              "    }\n",
              "\n",
              "    .dataframe tbody tr th {\n",
              "        vertical-align: top;\n",
              "    }\n",
              "\n",
              "    .dataframe thead th {\n",
              "        text-align: right;\n",
              "    }\n",
              "</style>\n",
              "<table border=\"1\" class=\"dataframe\">\n",
              "  <thead>\n",
              "    <tr style=\"text-align: right;\">\n",
              "      <th></th>\n",
              "      <th>Regressor</th>\n",
              "      <th>Prod</th>\n",
              "    </tr>\n",
              "  </thead>\n",
              "  <tbody>\n",
              "    <tr>\n",
              "      <th>Well</th>\n",
              "      <td>0.05</td>\n",
              "      <td>0.026817</td>\n",
              "    </tr>\n",
              "    <tr>\n",
              "      <th>Por</th>\n",
              "      <td>230.18</td>\n",
              "      <td>0.861910</td>\n",
              "    </tr>\n",
              "    <tr>\n",
              "      <th>Perm</th>\n",
              "      <td>116.24</td>\n",
              "      <td>0.727426</td>\n",
              "    </tr>\n",
              "    <tr>\n",
              "      <th>AI</th>\n",
              "      <td>-365.20</td>\n",
              "      <td>-0.390835</td>\n",
              "    </tr>\n",
              "    <tr>\n",
              "      <th>Brittle</th>\n",
              "      <td>24.99</td>\n",
              "      <td>0.237155</td>\n",
              "    </tr>\n",
              "    <tr>\n",
              "      <th>TOC</th>\n",
              "      <td>-78.40</td>\n",
              "      <td>0.654445</td>\n",
              "    </tr>\n",
              "    <tr>\n",
              "      <th>VR</th>\n",
              "      <td>785.26</td>\n",
              "      <td>0.323182</td>\n",
              "    </tr>\n",
              "  </tbody>\n",
              "</table>\n",
              "</div>"
            ],
            "text/plain": [
              "         Regressor      Prod\n",
              "Well          0.05  0.026817\n",
              "Por         230.18  0.861910\n",
              "Perm        116.24  0.727426\n",
              "AI         -365.20 -0.390835\n",
              "Brittle      24.99  0.237155\n",
              "TOC         -78.40  0.654445\n",
              "VR          785.26  0.323182"
            ]
          },
          "execution_count": 716,
          "metadata": {},
          "output_type": "execute_result"
        }
      ],
      "source": [
        "# Ваш код здесь\n",
        "# совместим для наглядности коэффициенты регрессии и коэффициенты корреляции\n",
        "S = pd.merge( round(w_df[1:],2), corr_matrix['Prod'][:7], left_index=True,right_index=True)\n",
        "S"
      ]
    },
    {
      "attachments": {},
      "cell_type": "markdown",
      "id": "qeowwIp99yBf",
      "metadata": {
        "id": "qeowwIp99yBf"
      },
      "source": [
        "> *Ваши выводы здесь*\n",
        "\n",
        "*Согласно матрице корреляций параметр TOC (общий органический углерод (%)) прямо пропорционален добыче. Однако коффициент регрессии для этого признака отрицателен (-78). По логике рост следов углерода должен повышать отдачу скважины, но модель дает обратный прогноз.*\n",
        "\n",
        "*Противоречие результатов связано с наличием мультиколлинеарности в признаках. Коэффициенты линейной регрессии склонны к неустойчивости.*"
      ]
    },
    {
      "cell_type": "markdown",
      "id": "9cea9195",
      "metadata": {
        "id": "9cea9195"
      },
      "source": [
        "### Задание 5.5. (2 балла)\n",
        "\n",
        "* Исключите из данных сильно коррелированные между собой факторы. Под сильной корреляцией в данной задаче будем понимать значения выше `0.7`.\n",
        "\n",
        "Выбирая, какой из коррелированных факторов оставить, руководствуйтесь коэффициентом корреляции с целевой переменной: оставляйте тот фактор, который больше всего коррелирует с целевой переменной (объёмом добычи газа).\n",
        "\n",
        "* Также исключите из данных факторы, для которых корреляция с целевой переменной меньше `0.05`.\n",
        "\n",
        "Постройте модель линейной регрессии на обновлённых после удаления факторов данных по методу наименьших квадратов. Для этого используйте матричную формулу и библиотеку numpy. Выведите значение полученных коэффициентов, округлённых до целого.\n",
        "\n",
        "Сделайте прогноз для всего обучающего набора данных и рассчитайте выбранную вами ранее метрику (или метрики). \n",
        "\n",
        "Дайте подробные ответы на следующие вопросы:\n",
        "\n",
        "* Приведите интерпретацию нескольких полученных коэффициентов (двух или трёх). Сравните их значения с полученными ранее.\n",
        "* Приведите интерпретацию полученных значений метрик. Сравните их значения с полученными ранее. \n",
        "* Удалось ли вам побороть противоречие коэффициентов линейной регрессии и коэффициентов корреляции?"
      ]
    },
    {
      "cell_type": "markdown",
      "id": "vlUYVjJP6oXN",
      "metadata": {
        "id": "vlUYVjJP6oXN"
      },
      "source": [
        "**Критерии оценивания:**\n",
        "- Задание выполнено верно, учтены все условия (**2 балла**): \n",
        "    * отобраны верные факторы;\n",
        "    * на основе отобранных факторов построена модель линейной регрессии с помощью матричной формулы МНК и найдены параметры модели, соответствующие каждому из факторов;\n",
        "    * построен прогноз для всего обучающего набора данных и рассчитано значение метрики (метрика должна быть выбрана корректно);\n",
        "    * даны ответы на все поставленные в задании вопросы.\n",
        "\n",
        "- Задание выполнено верно, но не учтено одно из условий (**1 балл**).\n",
        "- Задание выполнено верно, не учтено несколько из условий (**0 баллов**)."
      ]
    },
    {
      "cell_type": "code",
      "execution_count": 717,
      "id": "5d5ZJ0lX_UHe",
      "metadata": {
        "id": "5d5ZJ0lX_UHe"
      },
      "outputs": [
        {
          "name": "stdout",
          "output_type": "stream",
          "text": [
            "MAPE:  4.04 %\n",
            "R2:  0.94\n"
          ]
        }
      ],
      "source": [
        "# Ваш код здесь\n",
        "# готовим матрицу наблюдений, исключая сильно скоррелированные признаки Perm, TOC. Удаляем неинформативный признак Well\n",
        "A = np.matrix(data.drop(['Prod','Well','Perm','TOC'], axis=1)) \n",
        "# добавляем первый столбец, составленный из единиц\n",
        "A = np.column_stack((np.ones(200), A))\n",
        "y = data['Prod'] # вектор целевой переменной\n",
        "# вычислим OLS-оценку для коэффициентов\n",
        "w = np.linalg.inv(A.T@A)@A.T@y\n",
        "columns_names = ['_w0_']+list(data.drop(['Prod','Well','Perm','TOC'], axis=1).columns) # список признаков\n",
        "# оформляем список коэффициентов в удобный для чтения датафрейм с именами признаков\n",
        "w_df = pd.DataFrame(data=w, index=columns_names, columns=['Regressor'])\n",
        "\n",
        "# делаем прогноз с использованием новой модели для всех данных матрицы наблюдений\n",
        "prediction = np.array([]) # создаем пустой вектор предсказаний\n",
        "for i in range(A.shape[0]): # для каждой строки матрицы наблюдений вычисляем прогноз\n",
        "    p = 0\n",
        "    for j in range(A.shape[1]): # проходим по столбцам признаков, умножаем величину признака на соответствующий коэффициент регрессии\n",
        "        p += w[j] * A[i,j]      # все суммируем \n",
        "    prediction = np.append(prediction, p) # добавляем полученный прогноз в вектор предсказаний\n",
        "# считаем среднее абсолютное отклонение в процентах — MAPE (Mean Absolute Percent Error)\n",
        "deviance = (prediction - y) / y # измеряем отклонение для каждого прогноза и делим на истинное значение\n",
        "MAPE = np.mean(np.abs(deviance)) * 100 # считаем среднее отклонение\n",
        "# посчитаем коэффициент детерминации R2\n",
        "sq_deviance = (prediction - y) ** 2 # квадрат отклонения для каждого прогноза\n",
        "MSE = np.mean(sq_deviance) # среднее квадратичное отклонение\n",
        "M = np.mean(y) # среднее по вектору правильных ответов\n",
        "sq_mean_deviance = (prediction - M) ** 2 # квадрат отклонения от среднего для каждого прогноза\n",
        "MSE_mean = np.mean(sq_mean_deviance) # среднее квадратичное отклонение от среднего\n",
        "R2 = 1 - MSE / MSE_mean\n",
        "print('MAPE: ', round(MAPE,2), '%')\n",
        "print('R2: ', round(R2,2))"
      ]
    },
    {
      "cell_type": "code",
      "execution_count": 718,
      "id": "e14a7561",
      "metadata": {},
      "outputs": [
        {
          "data": {
            "text/html": [
              "<div>\n",
              "<style scoped>\n",
              "    .dataframe tbody tr th:only-of-type {\n",
              "        vertical-align: middle;\n",
              "    }\n",
              "\n",
              "    .dataframe tbody tr th {\n",
              "        vertical-align: top;\n",
              "    }\n",
              "\n",
              "    .dataframe thead th {\n",
              "        text-align: right;\n",
              "    }\n",
              "</style>\n",
              "<table border=\"1\" class=\"dataframe\">\n",
              "  <thead>\n",
              "    <tr style=\"text-align: right;\">\n",
              "      <th></th>\n",
              "      <th>Regressor</th>\n",
              "      <th>Prod</th>\n",
              "    </tr>\n",
              "  </thead>\n",
              "  <tbody>\n",
              "    <tr>\n",
              "      <th>Por</th>\n",
              "      <td>293.04</td>\n",
              "      <td>0.861910</td>\n",
              "    </tr>\n",
              "    <tr>\n",
              "      <th>AI</th>\n",
              "      <td>-200.03</td>\n",
              "      <td>-0.390835</td>\n",
              "    </tr>\n",
              "    <tr>\n",
              "      <th>Brittle</th>\n",
              "      <td>27.64</td>\n",
              "      <td>0.237155</td>\n",
              "    </tr>\n",
              "    <tr>\n",
              "      <th>VR</th>\n",
              "      <td>517.40</td>\n",
              "      <td>0.323182</td>\n",
              "    </tr>\n",
              "  </tbody>\n",
              "</table>\n",
              "</div>"
            ],
            "text/plain": [
              "         Regressor      Prod\n",
              "Por         293.04  0.861910\n",
              "AI         -200.03 -0.390835\n",
              "Brittle      27.64  0.237155\n",
              "VR          517.40  0.323182"
            ]
          },
          "execution_count": 718,
          "metadata": {},
          "output_type": "execute_result"
        }
      ],
      "source": [
        "# Ваш код здесь\n",
        "# совместим для наглядности коэффициенты регрессии и коэффициенты корреляции\n",
        "S = pd.merge( round(w_df[1:],2), corr_matrix['Prod'][:7], left_index=True,right_index=True)\n",
        "S"
      ]
    },
    {
      "attachments": {},
      "cell_type": "markdown",
      "id": "KxbYvMDo_WLe",
      "metadata": {
        "id": "KxbYvMDo_WLe"
      },
      "source": [
        "> *Ваши выводы здесь*\n",
        "\n",
        "* Приведите интерпретацию нескольких полученных коэффициентов (двух или трёх). Сравните их значения с полученными ранее.\n",
        "\n",
        "*Признак пористости Por стал более значим. Прирост на единицу дает рост прогноза добычи на 293 млн.куб.футов в день.\n",
        "Признак акустического импеданса AI стал менее значим. Прирост признака на единицу дает убывание прогноза добычи на 200 млн.куб.футов в день.*\n",
        "\n",
        "\n",
        "* Приведите интерпретацию полученных значений метрик. Сравните их значения с полученными ранее.\n",
        "\n",
        "*Метрика MAPE увеличилась с 3.6 до 4 %. Ошибка модели незначительно выросла. Коэф. детерминации снизился также незначительно. В целом качество модели на тренировочной выборке незначительно ухудшилось*\n",
        "\n",
        "\n",
        "* Удалось ли вам побороть противоречие коэффициентов линейной регрессии и коэффициентов корреляции?\n",
        "\n",
        "*Противоречий коэффициентов линейной регрессии и коэффициентов корреляции в данном случае не наблюдается.*"
      ]
    },
    {
      "cell_type": "markdown",
      "id": "7d50db12",
      "metadata": {
        "id": "7d50db12"
      },
      "source": [
        "### Задание 5.6. (1 балл)\n",
        "\n",
        "Наконец, давайте построим модель линейной регрессии из библиотеки `scikit-learn (sklearn)` и сравним результаты её работы с теми, что нам удалось получить вручную. \n",
        "\n",
        "Постройте модель линейной регрессии на обновлённых после удаления факторов данных по методу наименьших квадратов. Для этого воспользуйтесь классом `LinearRegression` из библиотеки `sklearn`. Выведите значения полученных коэффициентов, округлённые до целого.\n",
        "\n",
        "Сделайте прогноз для всего обучающего набора данных и рассчитайте значение выбранной вами метрики (или метрик).\n",
        "\n",
        "Сравните результаты библиотечной реализации с тем, что вы получили ранее. "
      ]
    },
    {
      "cell_type": "markdown",
      "id": "emu5D3w278JP",
      "metadata": {
        "id": "emu5D3w278JP"
      },
      "source": [
        "**Критерии оценивания:**\n",
        "\n",
        "- Задание выполнено верно, учтены все условия (**1 балл**): \n",
        "    * на основе отобранных факторов построена модель линейной регрессии из библиотеки sklearn и найдены параметры модели, соответствующие каждому из факторов;\n",
        "    * построен прогноз для всего обучающего набора данных и рассчитано значение метрики (метрика должна быть выбрана корректно);\n",
        "    * приведён вывод о соответствии результатов, полученных вручную и с помощью библиотеки.\n",
        "- Задание выполнено неверно, не учтено одно или несколько условий (**0 баллов**)."
      ]
    },
    {
      "cell_type": "code",
      "execution_count": 719,
      "id": "771c6862",
      "metadata": {},
      "outputs": [],
      "source": [
        "# Ваш код здесь\n",
        "from sklearn.linear_model import LinearRegression\n",
        "from sklearn import metrics"
      ]
    },
    {
      "cell_type": "code",
      "execution_count": 720,
      "id": "Gpdpfq59AKGu",
      "metadata": {
        "id": "Gpdpfq59AKGu"
      },
      "outputs": [
        {
          "name": "stdout",
          "output_type": "stream",
          "text": [
            "[ 293. -200.   28.  517.]\n",
            "MAPE  4.06 %\n",
            "R2_score  0.94\n"
          ]
        },
        {
          "name": "stderr",
          "output_type": "stream",
          "text": [
            "C:\\Users\\Ustenko-S\\AppData\\Local\\Temp\\ipykernel_92992\\1879890806.py:14: FutureWarning: The frame.append method is deprecated and will be removed from pandas in a future version. Use pandas.concat instead.\n",
            "  pivot_table = pivot_table.append(pd.Series(['LinearRegression','','Нет',round(metrics.mean_absolute_percentage_error(y_pred, y) * 100,2)]), ignore_index=True)\n"
          ]
        }
      ],
      "source": [
        "# готовим обучающую выборку и вектор целевой переменной\n",
        "X = data.drop(['Prod','Well','Perm','TOC'], axis=1)\n",
        "y = data['Prod']\n",
        "# обучаем модель\n",
        "lr = LinearRegression()\n",
        "lr.fit(X, y)\n",
        "print( np.round(lr.coef_))\n",
        "# делаем предсказание и рассчитываем метрики\n",
        "y_pred = lr.predict(X)\n",
        "print('MAPE ', round(metrics.mean_absolute_percentage_error(y_pred, y) * 100,2), '%')\n",
        "print('R2_score ', round(metrics.r2_score(y_pred, y),2) )\n",
        "# заполняем табличку с результатами для задания 8.5\n",
        "pivot_table = pd.DataFrame()\n",
        "pivot_table = pivot_table.append(pd.Series(['LinearRegression','','Нет',round(metrics.mean_absolute_percentage_error(y_pred, y) * 100,2)]), ignore_index=True)"
      ]
    },
    {
      "attachments": {},
      "cell_type": "markdown",
      "id": "WT9cdHAbAMG7",
      "metadata": {
        "id": "WT9cdHAbAMG7"
      },
      "source": [
        "> *Ваши выводы здесь*\n",
        "\n",
        "*Результаты, полученные с использованием библиотеки sklearn практически идентичны полученным ранее с помощью библиотеки numpy.*"
      ]
    },
    {
      "cell_type": "markdown",
      "id": "5346338e",
      "metadata": {
        "id": "5346338e"
      },
      "source": [
        "## Практика: полиномиальная регрессия и регуляризация"
      ]
    },
    {
      "cell_type": "markdown",
      "id": "aad9e3a6",
      "metadata": {
        "id": "aad9e3a6"
      },
      "source": [
        "Мы продолжаем работать над задачей от владельца компании «Газ-Таз-Ваз-Нефть» Василия.\n",
        "\n",
        "Ранее мы построили модель линейной регрессии, которая прогнозирует выработку газа на скважине. Для этого мы с помощью матрицы корреляций и рассуждений отобрали некоррелированные, значимые для предсказания признаки. **Далее мы будем использовать именно их (см. задание 5.5).**\n",
        "\n",
        "Мы хотим улучшить результат — уменьшить ошибку прогноза. Для этого мы воспользуемся моделью полиномиальной регрессии третьей степени. Однако теперь мы знаем, что полиномиальным моделям очень легко переобучиться под исходную выборку. Так как данных у нас не так много (всего 200 скважин), то для контроля качества модели мы будем использовать кросс-валидацию. \n",
        "\n",
        "Приступим! Выполните задания 8.1–8.5:\n"
      ]
    },
    {
      "cell_type": "code",
      "execution_count": 721,
      "id": "18506d1b",
      "metadata": {
        "id": "18506d1b"
      },
      "outputs": [],
      "source": [
        "from sklearn.preprocessing import PolynomialFeatures, StandardScaler\n",
        "from sklearn.linear_model import LinearRegression, Lasso, Ridge, ElasticNet\n",
        "from sklearn.model_selection import GridSearchCV\n",
        "from sklearn.model_selection import cross_validate"
      ]
    },
    {
      "cell_type": "markdown",
      "id": "bfbfea8d",
      "metadata": {
        "id": "bfbfea8d"
      },
      "source": [
        "### Задание 8.1. (1 балл)\n",
        "\n",
        "Стандаризируйте признаки с помощью `StandartScaler` из библиотеки `sklearn`. \n",
        "\n",
        "Затем сгенерируйте полиномиальные признаки третьего порядка на факторах, которые вы выбрали для обучения моделей. Для этого воспользуйтесь генератором полиномов `PolynomialFeatures` из библиотеки `sklearn`. Параметр `include_bias` установите в значение `False`.\n",
        "\n",
        "Выведите на экран, сколько факторов у вас получилось после генерации полиномиальных признаков.\n",
        "\n",
        "**Важно:** стандартизацию необходимо произвести до генерации полиномиальных факторов!\n",
        "\n",
        "Обучите модель линейной регрессии из библиотеки `sklearn` (`LinearRegression`) на полученных полиномиальных факторах.\n",
        "\n",
        "Используя кросс-валидацию оцените среднее значение выбранной вами метрики (или метрик) на тренировочных и валидационных фолдах.\n",
        "\n",
        "Проинтерпретируйте полученные результаты."
      ]
    },
    {
      "cell_type": "markdown",
      "id": "Y8oAhQkr8gV-",
      "metadata": {
        "id": "Y8oAhQkr8gV-"
      },
      "source": [
        "**Критерии оценивания:**\n",
        "\n",
        "- Задание выполнено верно, учтены все условия (**1 балл**): \n",
        "    * на основе отобранных факторов сгенерированы полиномиальные признаки третьего порядка;\n",
        "    * построена модель полиномиальной регрессии (линейной регрессии на полиномиальных признаках);\n",
        "    * с помощью кросс-валидации оценено среднее значение выбранной студентом метрики (или метрик) на тренировочных и валидационных фолдах (метрика должна быть выбрана корректно).\n",
        "- Задание выполнено неверно, не учтено одно или несколько из условий (**0 баллов**)."
      ]
    },
    {
      "cell_type": "code",
      "execution_count": 722,
      "id": "-ln3bx8NFNRw",
      "metadata": {
        "id": "-ln3bx8NFNRw"
      },
      "outputs": [
        {
          "name": "stdout",
          "output_type": "stream",
          "text": [
            "(200, 4)\n",
            "(200, 34)\n",
            "MAPE на тренировочных фолдах: 1.77 %\n",
            "MAPE на валидационных фолдах: 2.68 %\n"
          ]
        },
        {
          "name": "stderr",
          "output_type": "stream",
          "text": [
            "C:\\Users\\Ustenko-S\\AppData\\Local\\Temp\\ipykernel_92992\\2470962474.py:20: FutureWarning: The frame.append method is deprecated and will be removed from pandas in a future version. Use pandas.concat instead.\n",
            "  pivot_table = pivot_table.append(pd.Series(['LinearRegression','','Да',-cv_results['train_score'].mean()* 100,-cv_results['test_score'].mean() * 100]), ignore_index=True)\n"
          ]
        }
      ],
      "source": [
        "# Ваш код здесь\n",
        "# готовим обучающую выборку и вектор целевой переменной\n",
        "X = data.drop(['Prod','Well','Perm','TOC'], axis=1)\n",
        "y = data['Prod']\n",
        "# стандартизируем факторы\n",
        "st_sc = StandardScaler()\n",
        "X = st_sc.fit_transform(X)\n",
        "print(X.shape)\n",
        "# генерируем полиномиальные признаки\n",
        "poly = PolynomialFeatures(degree=3, include_bias=False)\n",
        "X = poly.fit_transform(X)\n",
        "print(X.shape)\n",
        "# обучаем модель\n",
        "lr = LinearRegression()\n",
        "# оцениваем качество модели на кросс-валидации, метрика — MAPE\n",
        "cv_results = cross_validate(lr, X, y, scoring='neg_mean_absolute_percentage_error', cv=5, return_train_score=True)\n",
        "print('MAPE на тренировочных фолдах: {:.2f} %'.format(-cv_results['train_score'].mean()* 100))\n",
        "print('MAPE на валидационных фолдах: {:.2f} %'.format(-cv_results['test_score'].mean() * 100))\n",
        "# заполняем табличку с результатами для задания 8.5\n",
        "pivot_table = pivot_table.append(pd.Series(['LinearRegression','','Да',-cv_results['train_score'].mean()* 100,-cv_results['test_score'].mean() * 100]), ignore_index=True)"
      ]
    },
    {
      "attachments": {},
      "cell_type": "markdown",
      "id": "9DkuuLLtFPPy",
      "metadata": {
        "id": "9DkuuLLtFPPy"
      },
      "source": [
        "> *Ваши выводы здесь*\n",
        "\n",
        "*Метрика MAPE гораздо лучше в сравнении с предыдущим результатом. Но наблюдается переобучение, есть существенная разница усреднённых метрик на тренировочных и валидационных выборках.*"
      ]
    },
    {
      "cell_type": "markdown",
      "id": "63d06013",
      "metadata": {
        "id": "63d06013"
      },
      "source": [
        "### Задание 8.2. (2 балла)\n",
        "\n",
        "Теперь попробуем воспользоваться линейной регрессией с регуляризацией. Для начала возьмём $L_1$-регуляризацию.\n",
        "\n",
        "Обучите модель `Lasso` из библиотеки `sklearn` на полученных полиномиальных факторах, предварительно стандартизировав факторы. \n",
        "\n",
        "Коэффициент регуляризации (`alpha`) подберите самостоятельно с помощью любого известного вам метода подбора гиперпаметров.\n",
        "\n",
        "Используя кросс-валидацию, оцените среднее значение выбранной вами метрики (или метрик) на тренировочных и валидационных фолдах.\n",
        "\n",
        "Проинтерпретируйте полученные результаты."
      ]
    },
    {
      "cell_type": "markdown",
      "id": "z24YUfuA9rUq",
      "metadata": {
        "id": "z24YUfuA9rUq"
      },
      "source": [
        "**Критерии оценивания:**\n",
        "\n",
        "- Задание выполнено верно, учтены все условия (**2 балла**): \n",
        "    * правильно построена модель полиномиальной регрессии (линейной регрессии на полиномиальных признаках) с регуляризацией (Lasso), учтены условия необходимости масштабирования факторов для построения модели;\n",
        "    * приведён код для подбора параметра регуляризации (вручную или с помощью библиотечных инструментов);\n",
        "    * с помощью кросс-валидации оценено среднее значение выбранной студентом метрики (или метрик) на тренировочных и валидационных фолдах (метрика должна быть выбрана корректно).\n",
        "\n",
        "- Задание выполнено верно, но не учтено одно из условий (**1 балл**).\n",
        "- Задание выполнено неверно, не учтено несколько условий (**0 баллов**)."
      ]
    },
    {
      "cell_type": "code",
      "execution_count": 723,
      "id": "IJ5b5G8qFz-r",
      "metadata": {
        "id": "IJ5b5G8qFz-r"
      },
      "outputs": [
        {
          "name": "stdout",
          "output_type": "stream",
          "text": [
            "MAPE на тренировочных фолдах: 1.85 %\n",
            "MAPE на валидационных фолдах: 2.28 %\n"
          ]
        },
        {
          "name": "stderr",
          "output_type": "stream",
          "text": [
            "C:\\Users\\Ustenko-S\\AppData\\Local\\Temp\\ipykernel_92992\\2174311931.py:18: FutureWarning: The frame.append method is deprecated and will be removed from pandas in a future version. Use pandas.concat instead.\n",
            "  pivot_table = pivot_table.append(pd.Series(['L1-регуляризация, Lasso','alpha=6','Да',-cv_results['train_score'].mean()* 100,-cv_results['test_score'].mean() * 100]), ignore_index=True)\n"
          ]
        }
      ],
      "source": [
        "# Ваш код здесь\n",
        "# готовим обучающую выборку и вектор целевой переменной\n",
        "X = data.drop(['Prod','Well','Perm','TOC'], axis=1)\n",
        "y = data['Prod']\n",
        "# стандартизируем факторы\n",
        "scaler = StandardScaler()\n",
        "X = scaler.fit_transform(X)\n",
        "# генерируем полиномиальные признаки\n",
        "poly = PolynomialFeatures(degree=3, include_bias=False)\n",
        "X = poly.fit_transform(X)\n",
        "# оценка коэффициентов регрессии с помощью L1-регуляризации\n",
        "lasso = Lasso(alpha=6, max_iter=10000)\n",
        "# оцениваем качество модели на кросс-валидации, метрика — MAPE\n",
        "cv_results = cross_validate(lasso, X, y, scoring='neg_mean_absolute_percentage_error', cv=5, return_train_score=True)\n",
        "print('MAPE на тренировочных фолдах: {:.2f} %'.format(-cv_results['train_score'].mean()* 100))\n",
        "print('MAPE на валидационных фолдах: {:.2f} %'.format(-cv_results['test_score'].mean() * 100))\n",
        "# заполняем табличку с результатами для задания 8.5\n",
        "pivot_table = pivot_table.append(pd.Series(['L1-регуляризация, Lasso','alpha=6','Да',-cv_results['train_score'].mean()* 100,-cv_results['test_score'].mean() * 100]), ignore_index=True)"
      ]
    },
    {
      "cell_type": "code",
      "execution_count": 724,
      "id": "d6fe0011",
      "metadata": {},
      "outputs": [
        {
          "name": "stdout",
          "output_type": "stream",
          "text": [
            "CPU times: total: 188 ms\n",
            "Wall time: 4.01 s\n",
            "Наилучшие значения гиперпараметров: {'alpha': 6.0}\n"
          ]
        }
      ],
      "source": [
        "# подбор гиперпараметров методом  RandomizedSearchCV           \n",
        "from sklearn.model_selection import RandomizedSearchCV\n",
        "\n",
        "param_distributions = {'alpha': list(np.linspace(1, 10, 10, dtype=float))},\n",
        "\n",
        "random_search = RandomizedSearchCV(\n",
        "    estimator=Lasso(max_iter=10000), \n",
        "    param_distributions=param_distributions, \n",
        "    cv=5, \n",
        "    n_iter = 10, \n",
        "    n_jobs = -1\n",
        ")  \n",
        "\n",
        "%time random_search.fit(X, y) \n",
        "print(\"Наилучшие значения гиперпараметров: {}\".format(random_search.best_params_))"
      ]
    },
    {
      "attachments": {},
      "cell_type": "markdown",
      "id": "Se0OGR8UF2Td",
      "metadata": {
        "id": "Se0OGR8UF2Td"
      },
      "source": [
        "> *Ваши выводы здесь*\n",
        "\n",
        "*С помощью метода L1-регуляризации удалось сократить разницу в метриках на тренировочной и валидационных выборках (с 0,91% до 0,43%)*"
      ]
    },
    {
      "cell_type": "markdown",
      "id": "2975ae60",
      "metadata": {
        "id": "2975ae60"
      },
      "source": [
        "### Задание 8.3. (2 балла)\n",
        "\n",
        "Проделаем то же самое с $L_2$-регуляризацией.\n",
        "\n",
        "Обучите модель `Ridge` из библиотеки `sklearn` на полученных полиномиальных факторах, предварительно стандартизировав факторы. \n",
        "\n",
        "Коэффициент регуляризации (`alpha`) подберите самостоятельно с помощью любого известного вам метода подбора гиперпаметров.\n",
        "\n",
        "Используя кросс-валидацию оцените среднее значение выбранной вами метрики (или метрик) на тренировочных и валидационных фолдах.\n",
        "\n",
        "Проинтерпретируйте полученные результаты."
      ]
    },
    {
      "cell_type": "code",
      "execution_count": 725,
      "id": "UfPGyNsjGGS8",
      "metadata": {
        "id": "UfPGyNsjGGS8"
      },
      "outputs": [
        {
          "name": "stdout",
          "output_type": "stream",
          "text": [
            "MAPE на тренировочных фолдах: 1.81 %\n",
            "MAPE на валидационных фолдах: 2.70 %\n"
          ]
        },
        {
          "name": "stderr",
          "output_type": "stream",
          "text": [
            "C:\\Users\\Ustenko-S\\AppData\\Local\\Temp\\ipykernel_92992\\596460575.py:18: FutureWarning: The frame.append method is deprecated and will be removed from pandas in a future version. Use pandas.concat instead.\n",
            "  pivot_table = pivot_table.append(pd.Series(['L2-регуляризация (Ridge)','alpha=0.8, solver=svd','Да',-cv_results['train_score'].mean()* 100,-cv_results['test_score'].mean() * 100]), ignore_index=True)\n"
          ]
        }
      ],
      "source": [
        "# Ваш код здесь\n",
        "# готовим обучающую выборку и вектор целевой переменной\n",
        "X = data.drop(['Prod','Well','Perm','TOC'], axis=1)\n",
        "y = data['Prod']\n",
        "# стандартизируем факторы\n",
        "scaler = StandardScaler()\n",
        "X = scaler.fit_transform(X)\n",
        "# генерируем полиномиальные признаки\n",
        "poly = PolynomialFeatures(degree=3, include_bias=False)\n",
        "X = poly.fit_transform(X)\n",
        "# оценка коэффициентов регрессии с помощью L1-регуляризации\n",
        "ridge = Ridge(alpha=0.8, solver='svd', random_state=42, max_iter=10000)\n",
        "# оцениваем качество модели на кросс-валидации, метрика — MAPE\n",
        "cv_results = cross_validate(ridge, X, y, scoring='neg_mean_absolute_percentage_error', cv=5, return_train_score=True)\n",
        "print('MAPE на тренировочных фолдах: {:.2f} %'.format(-cv_results['train_score'].mean()* 100))\n",
        "print('MAPE на валидационных фолдах: {:.2f} %'.format(-cv_results['test_score'].mean() * 100))\n",
        "# заполняем табличку с результатами для задания 8.5\n",
        "pivot_table = pivot_table.append(pd.Series(['L2-регуляризация (Ridge)','alpha=0.8, solver=svd','Да',-cv_results['train_score'].mean()* 100,-cv_results['test_score'].mean() * 100]), ignore_index=True)"
      ]
    },
    {
      "cell_type": "code",
      "execution_count": 726,
      "id": "6e6ca20c",
      "metadata": {},
      "outputs": [
        {
          "name": "stdout",
          "output_type": "stream",
          "text": [
            "CPU times: total: 297 ms\n",
            "Wall time: 547 ms\n",
            "Наилучшие значения гиперпараметров: {'solver': 'svd', 'alpha': 0.8}\n"
          ]
        }
      ],
      "source": [
        "# подбор гиперпараметров методом  RandomizedSearchCV           \n",
        "from sklearn.model_selection import RandomizedSearchCV\n",
        "\n",
        "param_distributions = {'alpha': list(np.linspace(0.1, 1, 10, dtype=float)),\n",
        "                       'solver': ['svd','sag','auto']},\n",
        "\n",
        "\n",
        "random_search = RandomizedSearchCV(\n",
        "    estimator=Ridge(random_state=42, max_iter=10000), \n",
        "    param_distributions=param_distributions, \n",
        "    cv=5, \n",
        "    n_iter = 30, \n",
        "    n_jobs = -1\n",
        ")  \n",
        "\n",
        "%time random_search.fit(X, y) \n",
        "print(\"Наилучшие значения гиперпараметров: {}\".format(random_search.best_params_))"
      ]
    },
    {
      "attachments": {},
      "cell_type": "markdown",
      "id": "dQBd7ny_GIi1",
      "metadata": {
        "id": "dQBd7ny_GIi1"
      },
      "source": [
        "> *Ваши выводы здесь*\n",
        "\n",
        "*Несмотря на небольшое улучшение ошибки на тренировочных выборках, модель Ridge показала ухудшение результатов на валидационных фолдах. Модель склонна к переобучению.*"
      ]
    },
    {
      "cell_type": "markdown",
      "id": "86pXnWE7-5ch",
      "metadata": {
        "id": "86pXnWE7-5ch"
      },
      "source": [
        "**Критерии оценивания:**\n",
        "\n",
        "- Задание выполнено верно, учтены все условия (**2 балла**): \n",
        "    * правильно построена модель полиномиальной регрессии (линейной регрессии на полиномиальных признаках) с регуляризацией (Ridge), учтены условия необходимости масштабирования факторов для построения модели;\n",
        "    * приведён код для подбора параметра регуляризации (вручную или с помощью библиотечных инструментов);\n",
        "    * с помощью кросс-валидации оценено среднее значение выбранной студентом метрики (или метрик) на тренировочных и валидационных фолдах (метрика должна быть выбрана корректно).\n",
        "\n",
        "- Задание выполнено верно, но не учтено одно из условий (**1 балл**).\n",
        "- Задание выполнено неверно, не учтено несколько условий (**0 баллов**)."
      ]
    },
    {
      "cell_type": "markdown",
      "id": "7ad85b78",
      "metadata": {
        "id": "7ad85b78"
      },
      "source": [
        "### Задание 8.4. (2 балла)\n",
        "\n",
        "Наконец, настало время комбинировать $L_1$ и $L_2$ -регуляризации.\n",
        "\n",
        "Обучите модель `ElasticNet` из библиотеки `sklearn` на полученных полиномиальных факторах, предварительно стандартизировав факторы. \n",
        "\n",
        "Коэффициенты регуляризации (`alpha` и `l1-ratio`) подберите самостоятельно с помощью любого известного вам метода подбора гиперпаметров.\n",
        "\n",
        "Используя кросс-валидацию, оцените среднее значение метрики MAPE на тренировочных и валидационных фолдах.\n",
        "\n",
        "Проинтерпретируйте полученные результаты."
      ]
    },
    {
      "cell_type": "markdown",
      "id": "sy8ESceQ-__u",
      "metadata": {
        "id": "sy8ESceQ-__u"
      },
      "source": [
        "**Критерии оценивания:**\n",
        "\n",
        "- Задание выполнено верно, учтены все условия (**2 балла**): \n",
        "    * правильно построена модель полиномиальной регрессии (линейной регрессии на полиномиальных признаках) с регуляризацией (ElasticNet), учтены условия необходимости масштабирования факторов для построения модели;\n",
        "    * приведён код для подбора параметра регуляризации (вручную или с помощью библиотечных инструментов);\n",
        "    * с помощью кросс-валидации оценено среднее значение выбранной студентом метрики (или метрик) на тренировочных и валидационных фолдах (метрика должна быть выбрана корректно).\n",
        "\n",
        "- Задание выполнено верно, но не учтено одно из условий (**1 балл**).\n",
        "- Задание выполнено неверно, не учтено несколько условий (**0 баллов**)."
      ]
    },
    {
      "cell_type": "code",
      "execution_count": 727,
      "id": "-Yi3P20hQnLS",
      "metadata": {
        "id": "-Yi3P20hQnLS"
      },
      "outputs": [
        {
          "name": "stdout",
          "output_type": "stream",
          "text": [
            "MAPE на тренировочных фолдах: 1.85 %\n",
            "MAPE на валидационных фолдах: 2.28 %\n"
          ]
        },
        {
          "name": "stderr",
          "output_type": "stream",
          "text": [
            "C:\\Users\\Ustenko-S\\AppData\\Local\\Temp\\ipykernel_92992\\2648130888.py:18: FutureWarning: The frame.append method is deprecated and will be removed from pandas in a future version. Use pandas.concat instead.\n",
            "  pivot_table = pivot_table.append(pd.Series(['ElasticNet','alpha=6, l1_ratio=1','Да',-cv_results['train_score'].mean()* 100,-cv_results['test_score'].mean() * 100]), ignore_index=True)\n"
          ]
        }
      ],
      "source": [
        "# Ваш код здесь\n",
        "# готовим обучающую выборку и вектор целевой переменной\n",
        "X = data.drop(['Prod','Well','Perm','TOC'], axis=1)\n",
        "y = data['Prod']\n",
        "# стандартизируем факторы\n",
        "scaler = StandardScaler()\n",
        "X = scaler.fit_transform(X)\n",
        "# генерируем полиномиальные признаки\n",
        "poly = PolynomialFeatures(degree=3, include_bias=False)\n",
        "X = poly.fit_transform(X)\n",
        "# оценка коэффициентов регрессии с помощью ElasticNet\n",
        "elasticnet = ElasticNet(alpha=6, l1_ratio=1, random_state=42, max_iter=10000)\n",
        "# оцениваем качество модели на кросс-валидации, метрика — MAPE\n",
        "cv_results = cross_validate(elasticnet, X, y, scoring='neg_mean_absolute_percentage_error', cv=5, return_train_score=True)\n",
        "print('MAPE на тренировочных фолдах: {:.2f} %'.format(-cv_results['train_score'].mean()* 100))\n",
        "print('MAPE на валидационных фолдах: {:.2f} %'.format(-cv_results['test_score'].mean() * 100))\n",
        "# заполняем табличку с результатами для задания 8.5\n",
        "pivot_table = pivot_table.append(pd.Series(['ElasticNet','alpha=6, l1_ratio=1','Да',-cv_results['train_score'].mean()* 100,-cv_results['test_score'].mean() * 100]), ignore_index=True)"
      ]
    },
    {
      "cell_type": "code",
      "execution_count": 728,
      "id": "e5e121bd",
      "metadata": {},
      "outputs": [
        {
          "name": "stdout",
          "output_type": "stream",
          "text": [
            "CPU times: total: 484 ms\n",
            "Wall time: 617 ms\n",
            "Наилучшие значения гиперпараметров: {'l1_ratio': 1.0, 'alpha': 6.0}\n"
          ]
        }
      ],
      "source": [
        "# подбор гиперпараметров методом  RandomizedSearchCV           \n",
        "from sklearn.model_selection import RandomizedSearchCV\n",
        "\n",
        "param_distributions = {'alpha': list(np.linspace(1, 10, 10, dtype=float)),\n",
        "                       'l1_ratio': list(np.linspace(0.1, 1, 10, dtype=float))},\n",
        "\n",
        "\n",
        "random_search = RandomizedSearchCV(\n",
        "    estimator=ElasticNet(random_state=42, max_iter=10000), \n",
        "    param_distributions=param_distributions, \n",
        "    cv=5, \n",
        "    n_iter = 100, \n",
        "    n_jobs = -1\n",
        ")  \n",
        "\n",
        "%time random_search.fit(X, y) \n",
        "print(\"Наилучшие значения гиперпараметров: {}\".format(random_search.best_params_))"
      ]
    },
    {
      "attachments": {},
      "cell_type": "markdown",
      "id": "er2lAiE9QpAb",
      "metadata": {
        "id": "er2lAiE9QpAb"
      },
      "source": [
        "> *Ваши выводы здесь*\n",
        "\n",
        "*Подбор параметров методом Randomized Search показал наилучшие результаты при L1_ratio = 1. Это значит, что для данной модели оптимальна L1-регуляризация (Lasso). Результаты аналогичны полученным в задании 8.2.*"
      ]
    },
    {
      "cell_type": "markdown",
      "id": "91c6e1d1",
      "metadata": {
        "id": "91c6e1d1"
      },
      "source": [
        "### Задание 8.5. (1 балл)\n",
        "\n",
        "Завершением вашей работы будет сводная таблица результатов, которую вы представите на презентации заказчику Василию.\n",
        "\n",
        "Составьте таблицу (DataFrame) со следующими столбцами (имена столбцов выберите самостоятельно):\n",
        "* Наименование модели.\n",
        "* Гиперпараметры (коэффициенты регуляризации, если таковые имеются), если нет — оставьте ячейку пустой.\n",
        "* Использовались ли полиномиальные признаки при построении модели (Да/Нет или True/False).\n",
        "* Значение выбранной метрики на тренировочных фолдах при кросс-валидации модели.\n",
        "* Значение выбранной метрики на валидационных фолдах при кросс-валидации модели.\n",
        "\n",
        "Сделайте финальный вывод по проделанной работе. Какая линейная модель из тех, что мы рассмотрели, показала наилучший результат с точки зрения качества на валидационных фолдах, а также с точки зрения переобученности?"
      ]
    },
    {
      "cell_type": "markdown",
      "id": "OsFRaKkF_nLq",
      "metadata": {
        "id": "OsFRaKkF_nLq"
      },
      "source": [
        "**Критерии оценивания:**\n",
        "\n",
        "- Задание выполнено верно, учтены все условия (**1 балл**): \n",
        "    * верно составлена сводная таблица итоговых результатов построенных ранее моделей с указанными в задании столбцами;\n",
        "    * приведены итоговые выводы по проделанной работе, указано, какая из рассмотренных моделей показала наилучший результат.\n",
        "\n",
        "- Задание выполнено неверно, не учтено одно или несколько условий (**0 баллов**)."
      ]
    },
    {
      "cell_type": "code",
      "execution_count": 729,
      "id": "wRiys8lKQuqW",
      "metadata": {
        "id": "wRiys8lKQuqW"
      },
      "outputs": [
        {
          "data": {
            "text/html": [
              "<div>\n",
              "<style scoped>\n",
              "    .dataframe tbody tr th:only-of-type {\n",
              "        vertical-align: middle;\n",
              "    }\n",
              "\n",
              "    .dataframe tbody tr th {\n",
              "        vertical-align: top;\n",
              "    }\n",
              "\n",
              "    .dataframe thead th {\n",
              "        text-align: right;\n",
              "    }\n",
              "</style>\n",
              "<table border=\"1\" class=\"dataframe\">\n",
              "  <thead>\n",
              "    <tr style=\"text-align: right;\">\n",
              "      <th></th>\n",
              "      <th>Наименование модели</th>\n",
              "      <th>Гиперпараметры</th>\n",
              "      <th>Полином. признаки</th>\n",
              "      <th>MAPE_train</th>\n",
              "      <th>MAPE_valid</th>\n",
              "    </tr>\n",
              "  </thead>\n",
              "  <tbody>\n",
              "    <tr>\n",
              "      <th>0</th>\n",
              "      <td>LinearRegression</td>\n",
              "      <td></td>\n",
              "      <td>Нет</td>\n",
              "      <td>4.060000</td>\n",
              "      <td>NaN</td>\n",
              "    </tr>\n",
              "    <tr>\n",
              "      <th>1</th>\n",
              "      <td>LinearRegression</td>\n",
              "      <td></td>\n",
              "      <td>Да</td>\n",
              "      <td>1.773240</td>\n",
              "      <td>2.680875</td>\n",
              "    </tr>\n",
              "    <tr>\n",
              "      <th>2</th>\n",
              "      <td>L1-регуляризация, Lasso</td>\n",
              "      <td>alpha=6</td>\n",
              "      <td>Да</td>\n",
              "      <td>1.849407</td>\n",
              "      <td>2.280354</td>\n",
              "    </tr>\n",
              "    <tr>\n",
              "      <th>3</th>\n",
              "      <td>L2-регуляризация (Ridge)</td>\n",
              "      <td>alpha=0.8, solver=svd</td>\n",
              "      <td>Да</td>\n",
              "      <td>1.809915</td>\n",
              "      <td>2.701975</td>\n",
              "    </tr>\n",
              "    <tr>\n",
              "      <th>4</th>\n",
              "      <td>ElasticNet</td>\n",
              "      <td>alpha=6, l1_ratio=1</td>\n",
              "      <td>Да</td>\n",
              "      <td>1.849407</td>\n",
              "      <td>2.280354</td>\n",
              "    </tr>\n",
              "  </tbody>\n",
              "</table>\n",
              "</div>"
            ],
            "text/plain": [
              "        Наименование модели         Гиперпараметры Полином. признаки  \\\n",
              "0          LinearRegression                                      Нет   \n",
              "1          LinearRegression                                       Да   \n",
              "2   L1-регуляризация, Lasso                alpha=6                Да   \n",
              "3  L2-регуляризация (Ridge)  alpha=0.8, solver=svd                Да   \n",
              "4                ElasticNet    alpha=6, l1_ratio=1                Да   \n",
              "\n",
              "   MAPE_train  MAPE_valid  \n",
              "0    4.060000         NaN  \n",
              "1    1.773240    2.680875  \n",
              "2    1.849407    2.280354  \n",
              "3    1.809915    2.701975  \n",
              "4    1.849407    2.280354  "
            ]
          },
          "execution_count": 729,
          "metadata": {},
          "output_type": "execute_result"
        }
      ],
      "source": [
        "# Ваш код здесь\n",
        "pivot_table.rename( columns={0:'Наименование модели',1:'Гиперпараметры', 2:'Полином. признаки', 3:'MAPE_train', 4:'MAPE_valid'}, inplace=True)\n",
        "pivot_table"
      ]
    },
    {
      "attachments": {},
      "cell_type": "markdown",
      "id": "UP7_LSoEQsrA",
      "metadata": {
        "id": "UP7_LSoEQsrA"
      },
      "source": [
        "> *Ваши выводы здесь*\n",
        "\n",
        "*Наилучшие результаты с точки зрения качества на валидационных фолдах, а также с точки зрения переобученности показала модель линейной регрессии с полиномиальными признаками 3-го порядка с L1-регуляризацией с коэффициентом 6*"
      ]
    }
  ],
  "metadata": {
    "colab": {
      "provenance": []
    },
    "kernelspec": {
      "display_name": "Python 3.10.8 ('base')",
      "language": "python",
      "name": "python3"
    },
    "language_info": {
      "codemirror_mode": {
        "name": "ipython",
        "version": 3
      },
      "file_extension": ".py",
      "mimetype": "text/x-python",
      "name": "python",
      "nbconvert_exporter": "python",
      "pygments_lexer": "ipython3",
      "version": "3.10.4"
    },
    "vscode": {
      "interpreter": {
        "hash": "86c56a74836ad344b00594bf6f38fa6a676a207ceefe20d101fbc465800ccb8d"
      }
    }
  },
  "nbformat": 4,
  "nbformat_minor": 5
}
